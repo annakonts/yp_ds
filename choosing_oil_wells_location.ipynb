{
 "cells": [
  {
   "cell_type": "markdown",
   "metadata": {},
   "source": [
    "# Выбор локации для скважины"
   ]
  },
  {
   "cell_type": "markdown",
   "metadata": {},
   "source": [
    "Допустим, вы работаете в добывающей компании «ГлавРосГосНефть». Нужно решить, где бурить новую скважину.\n",
    "\n",
    "Вам предоставлены пробы нефти в трёх регионах: в каждом 100 000 месторождений, где измерили качество нефти и объём её запасов. Постройте модель машинного обучения, которая поможет определить регион, где добыча принесёт наибольшую прибыль. Проанализируйте возможную прибыль и риски техникой *Bootstrap.*\n",
    "\n",
    "Шаги для выбора локации:\n",
    "\n",
    "- В избранном регионе ищут месторождения, для каждого определяют значения признаков;\n",
    "- Строят модель и оценивают объём запасов;\n",
    "- Выбирают месторождения с самым высокими оценками значений. Количество месторождений зависит от бюджета компании и стоимости разработки одной скважины;\n",
    "- Прибыль равна суммарной прибыли отобранных месторождений."
   ]
  },
  {
   "cell_type": "markdown",
   "metadata": {},
   "source": [
    "**Цель проекта**  \n",
    "Найти самый перспективно выгодный регион для разработки новых скважин.\n",
    "\n",
    "**Данные геологоразведки трёх регионов:**\n",
    "- id — уникальный идентификатор скважины;\n",
    "- f0, f1, f2 — три признака точек (неважно, что они означают, но сами признаки значимы);\n",
    "- product — объём запасов в скважине (тыс. баррелей).\n",
    "\n",
    "\n",
    "**Инструкция по выполнению проекта**  \n",
    "1. Загрузите и подготовьте данные. Поясните порядок действий.\n",
    "2. Обучите и проверьте модель для каждого региона:\n",
    "   2.1. Разбейте данные на обучающую и валидационную выборки в соотношении 75:25.\n",
    "   2.2.Обучите модель и сделайте предсказания на валидационной выборке.\n",
    "   2.3. Сохраните предсказания и правильные ответы на валидационной выборке.\n",
    "   2.4. Напечатайте на экране средний запас предсказанного сырья и RMSE модели. \n",
    "   2.5. Проанализируйте результаты.\n",
    "3. Подготовьтесь к расчёту прибыли:\n",
    "   3.1. Все ключевые значения для расчётов сохраните в отдельных переменных.\n",
    "   3.2. Рассчитайте достаточный объём сырья для безубыточной разработки новой скважины. Сравните полученный объём сырья со средним запасом в каждом регионе.\n",
    "   3.3. Напишите выводы по этапу подготовки расчёта прибыли.\n",
    "4. Напишите функцию для расчёта прибыли по выбранным скважинам и предсказаниям модели:\n",
    "   4.1. Выберите скважины с максимальными значениями предсказаний.\n",
    "   4.2. Просуммируйте целевое значение объёма сырья, соответствующее этим предсказаниям.\n",
    "   4.3. Рассчитайте прибыль для полученного объёма сырья.\n",
    "5. Посчитайте риски и прибыль для каждого региона:\n",
    "   5.1. Примените технику Bootstrap с 1000 выборок, чтобы найти распределение прибыли.\n",
    "   5.2. Найдите среднюю прибыль, 95%-й доверительный интервал и риск убытков. Убыток — это отрицательная прибыль.\n",
    "   5.3. Напишите выводы: предложите регион для разработки скважин и обоснуйте выбор.\n",
    "\n",
    "**Условия задачи:**  \n",
    "Для обучения модели подходит только линейная регрессия (остальные — недостаточно предсказуемые).  \n",
    "При разведке региона исследуют 500 точек, из которых с помощью машинного обучения выбирают 200 лучших для разработки.  \n",
    "Бюджет на разработку скважин в регионе — 10 млрд рублей.  \n",
    "При нынешних ценах один баррель сырья приносит 450 рублей дохода. Доход с каждой единицы продукта составляет 450 тыс. рублей, поскольку объём указан в тысячах баррелей.  \n",
    "После оценки рисков нужно оставить лишь те регионы, в которых вероятность убытков меньше 2.5%. Среди них выбирают регион с наибольшей средней прибылью.  \n",
    "Данные синтетические: детали контрактов и характеристики месторождений не разглашаются.  "
   ]
  },
  {
   "cell_type": "markdown",
   "metadata": {},
   "source": [
    "## Загрузка и подготовка данных"
   ]
  },
  {
   "cell_type": "markdown",
   "metadata": {},
   "source": [
    "### Импорт необходимых библиотек"
   ]
  },
  {
   "cell_type": "code",
   "execution_count": 1,
   "metadata": {},
   "outputs": [
    {
     "name": "stdout",
     "output_type": "stream",
     "text": [
      "Collecting phik\n",
      "  Downloading phik-0.12.3-cp39-cp39-manylinux_2_17_x86_64.manylinux2014_x86_64.whl (679 kB)\n",
      "\u001b[K     |████████████████████████████████| 679 kB 1.2 MB/s eta 0:00:01\n",
      "\u001b[?25hRequirement already satisfied: joblib>=0.14.1 in /opt/conda/lib/python3.9/site-packages (from phik) (1.1.0)\n",
      "Requirement already satisfied: matplotlib>=2.2.3 in /opt/conda/lib/python3.9/site-packages (from phik) (3.3.4)\n",
      "Requirement already satisfied: scipy>=1.5.2 in /opt/conda/lib/python3.9/site-packages (from phik) (1.9.1)\n",
      "Requirement already satisfied: pandas>=0.25.1 in /opt/conda/lib/python3.9/site-packages (from phik) (1.2.4)\n",
      "Requirement already satisfied: numpy>=1.18.0 in /opt/conda/lib/python3.9/site-packages (from phik) (1.21.1)\n",
      "Requirement already satisfied: cycler>=0.10 in /opt/conda/lib/python3.9/site-packages (from matplotlib>=2.2.3->phik) (0.11.0)\n",
      "Requirement already satisfied: kiwisolver>=1.0.1 in /opt/conda/lib/python3.9/site-packages (from matplotlib>=2.2.3->phik) (1.4.4)\n",
      "Requirement already satisfied: pyparsing!=2.0.4,!=2.1.2,!=2.1.6,>=2.0.3 in /opt/conda/lib/python3.9/site-packages (from matplotlib>=2.2.3->phik) (2.4.7)\n",
      "Requirement already satisfied: pillow>=6.2.0 in /opt/conda/lib/python3.9/site-packages (from matplotlib>=2.2.3->phik) (8.4.0)\n",
      "Requirement already satisfied: python-dateutil>=2.1 in /opt/conda/lib/python3.9/site-packages (from matplotlib>=2.2.3->phik) (2.8.1)\n",
      "Requirement already satisfied: pytz>=2017.3 in /opt/conda/lib/python3.9/site-packages (from pandas>=0.25.1->phik) (2021.1)\n",
      "Requirement already satisfied: six>=1.5 in /opt/conda/lib/python3.9/site-packages (from python-dateutil>=2.1->matplotlib>=2.2.3->phik) (1.16.0)\n",
      "Installing collected packages: phik\n",
      "Successfully installed phik-0.12.3\n"
     ]
    }
   ],
   "source": [
    "!pip install phik"
   ]
  },
  {
   "cell_type": "code",
   "execution_count": 2,
   "metadata": {},
   "outputs": [],
   "source": [
    "import numpy as np\n",
    "import pandas as pd\n",
    "import phik\n",
    "\n",
    "from phik.report import plot_correlation_matrix\n",
    "\n",
    "from sklearn.linear_model import LinearRegression\n",
    "from sklearn.model_selection import train_test_split\n",
    "from sklearn.model_selection import cross_val_score\n",
    "from sklearn.model_selection import cross_val_predict\n",
    "\n",
    "from sklearn.metrics import mean_squared_error\n",
    "from sklearn.metrics import r2_score\n",
    "\n",
    "from scipy import stats as st\n",
    "\n",
    "from tqdm import tqdm"
   ]
  },
  {
   "cell_type": "markdown",
   "metadata": {},
   "source": [
    "Загрузим данные"
   ]
  },
  {
   "cell_type": "code",
   "execution_count": 3,
   "metadata": {},
   "outputs": [],
   "source": [
    "df_1 = pd.read_csv('/datasets/geo_data_0.csv')\n",
    "df_2 = pd.read_csv('/datasets/geo_data_1.csv')\n",
    "df_3 = pd.read_csv('/datasets/geo_data_2.csv')"
   ]
  },
  {
   "cell_type": "markdown",
   "metadata": {},
   "source": [
    "### Анализ данных "
   ]
  },
  {
   "cell_type": "markdown",
   "metadata": {},
   "source": [
    "#### Информация и размеры датафреймов"
   ]
  },
  {
   "cell_type": "markdown",
   "metadata": {},
   "source": [
    "**Регион 1**"
   ]
  },
  {
   "cell_type": "code",
   "execution_count": 4,
   "metadata": {
    "scrolled": false
   },
   "outputs": [
    {
     "name": "stdout",
     "output_type": "stream",
     "text": [
      "Первые строки:\n"
     ]
    },
    {
     "data": {
      "text/html": [
       "<div>\n",
       "<style scoped>\n",
       "    .dataframe tbody tr th:only-of-type {\n",
       "        vertical-align: middle;\n",
       "    }\n",
       "\n",
       "    .dataframe tbody tr th {\n",
       "        vertical-align: top;\n",
       "    }\n",
       "\n",
       "    .dataframe thead th {\n",
       "        text-align: right;\n",
       "    }\n",
       "</style>\n",
       "<table border=\"1\" class=\"dataframe\">\n",
       "  <thead>\n",
       "    <tr style=\"text-align: right;\">\n",
       "      <th></th>\n",
       "      <th>id</th>\n",
       "      <th>f0</th>\n",
       "      <th>f1</th>\n",
       "      <th>f2</th>\n",
       "      <th>product</th>\n",
       "    </tr>\n",
       "  </thead>\n",
       "  <tbody>\n",
       "    <tr>\n",
       "      <th>0</th>\n",
       "      <td>txEyH</td>\n",
       "      <td>0.705745</td>\n",
       "      <td>-0.497823</td>\n",
       "      <td>1.221170</td>\n",
       "      <td>105.280062</td>\n",
       "    </tr>\n",
       "    <tr>\n",
       "      <th>1</th>\n",
       "      <td>2acmU</td>\n",
       "      <td>1.334711</td>\n",
       "      <td>-0.340164</td>\n",
       "      <td>4.365080</td>\n",
       "      <td>73.037750</td>\n",
       "    </tr>\n",
       "    <tr>\n",
       "      <th>2</th>\n",
       "      <td>409Wp</td>\n",
       "      <td>1.022732</td>\n",
       "      <td>0.151990</td>\n",
       "      <td>1.419926</td>\n",
       "      <td>85.265647</td>\n",
       "    </tr>\n",
       "    <tr>\n",
       "      <th>3</th>\n",
       "      <td>iJLyR</td>\n",
       "      <td>-0.032172</td>\n",
       "      <td>0.139033</td>\n",
       "      <td>2.978566</td>\n",
       "      <td>168.620776</td>\n",
       "    </tr>\n",
       "    <tr>\n",
       "      <th>4</th>\n",
       "      <td>Xdl7t</td>\n",
       "      <td>1.988431</td>\n",
       "      <td>0.155413</td>\n",
       "      <td>4.751769</td>\n",
       "      <td>154.036647</td>\n",
       "    </tr>\n",
       "  </tbody>\n",
       "</table>\n",
       "</div>"
      ],
      "text/plain": [
       "      id        f0        f1        f2     product\n",
       "0  txEyH  0.705745 -0.497823  1.221170  105.280062\n",
       "1  2acmU  1.334711 -0.340164  4.365080   73.037750\n",
       "2  409Wp  1.022732  0.151990  1.419926   85.265647\n",
       "3  iJLyR -0.032172  0.139033  2.978566  168.620776\n",
       "4  Xdl7t  1.988431  0.155413  4.751769  154.036647"
      ]
     },
     "metadata": {},
     "output_type": "display_data"
    },
    {
     "name": "stdout",
     "output_type": "stream",
     "text": [
      "Описание df\n"
     ]
    },
    {
     "data": {
      "text/html": [
       "<div>\n",
       "<style scoped>\n",
       "    .dataframe tbody tr th:only-of-type {\n",
       "        vertical-align: middle;\n",
       "    }\n",
       "\n",
       "    .dataframe tbody tr th {\n",
       "        vertical-align: top;\n",
       "    }\n",
       "\n",
       "    .dataframe thead th {\n",
       "        text-align: right;\n",
       "    }\n",
       "</style>\n",
       "<table border=\"1\" class=\"dataframe\">\n",
       "  <thead>\n",
       "    <tr style=\"text-align: right;\">\n",
       "      <th></th>\n",
       "      <th>f0</th>\n",
       "      <th>f1</th>\n",
       "      <th>f2</th>\n",
       "      <th>product</th>\n",
       "    </tr>\n",
       "  </thead>\n",
       "  <tbody>\n",
       "    <tr>\n",
       "      <th>count</th>\n",
       "      <td>100000.000000</td>\n",
       "      <td>100000.000000</td>\n",
       "      <td>100000.000000</td>\n",
       "      <td>100000.000000</td>\n",
       "    </tr>\n",
       "    <tr>\n",
       "      <th>mean</th>\n",
       "      <td>0.500419</td>\n",
       "      <td>0.250143</td>\n",
       "      <td>2.502647</td>\n",
       "      <td>92.500000</td>\n",
       "    </tr>\n",
       "    <tr>\n",
       "      <th>std</th>\n",
       "      <td>0.871832</td>\n",
       "      <td>0.504433</td>\n",
       "      <td>3.248248</td>\n",
       "      <td>44.288691</td>\n",
       "    </tr>\n",
       "    <tr>\n",
       "      <th>min</th>\n",
       "      <td>-1.408605</td>\n",
       "      <td>-0.848218</td>\n",
       "      <td>-12.088328</td>\n",
       "      <td>0.000000</td>\n",
       "    </tr>\n",
       "    <tr>\n",
       "      <th>25%</th>\n",
       "      <td>-0.072580</td>\n",
       "      <td>-0.200881</td>\n",
       "      <td>0.287748</td>\n",
       "      <td>56.497507</td>\n",
       "    </tr>\n",
       "    <tr>\n",
       "      <th>50%</th>\n",
       "      <td>0.502360</td>\n",
       "      <td>0.250252</td>\n",
       "      <td>2.515969</td>\n",
       "      <td>91.849972</td>\n",
       "    </tr>\n",
       "    <tr>\n",
       "      <th>75%</th>\n",
       "      <td>1.073581</td>\n",
       "      <td>0.700646</td>\n",
       "      <td>4.715088</td>\n",
       "      <td>128.564089</td>\n",
       "    </tr>\n",
       "    <tr>\n",
       "      <th>max</th>\n",
       "      <td>2.362331</td>\n",
       "      <td>1.343769</td>\n",
       "      <td>16.003790</td>\n",
       "      <td>185.364347</td>\n",
       "    </tr>\n",
       "  </tbody>\n",
       "</table>\n",
       "</div>"
      ],
      "text/plain": [
       "                  f0             f1             f2        product\n",
       "count  100000.000000  100000.000000  100000.000000  100000.000000\n",
       "mean        0.500419       0.250143       2.502647      92.500000\n",
       "std         0.871832       0.504433       3.248248      44.288691\n",
       "min        -1.408605      -0.848218     -12.088328       0.000000\n",
       "25%        -0.072580      -0.200881       0.287748      56.497507\n",
       "50%         0.502360       0.250252       2.515969      91.849972\n",
       "75%         1.073581       0.700646       4.715088     128.564089\n",
       "max         2.362331       1.343769      16.003790     185.364347"
      ]
     },
     "metadata": {},
     "output_type": "display_data"
    },
    {
     "name": "stdout",
     "output_type": "stream",
     "text": [
      "\n",
      "Размер df: (100000, 5)\n"
     ]
    }
   ],
   "source": [
    "print('Первые строки:')\n",
    "display(df_1.head())\n",
    "print('Описание df')\n",
    "display(df_1.describe())\n",
    "print('')\n",
    "print('Размер df:', df_1.shape)"
   ]
  },
  {
   "cell_type": "markdown",
   "metadata": {},
   "source": [
    "**Регион 2**"
   ]
  },
  {
   "cell_type": "code",
   "execution_count": 5,
   "metadata": {},
   "outputs": [
    {
     "name": "stdout",
     "output_type": "stream",
     "text": [
      "Первые строки:\n"
     ]
    },
    {
     "data": {
      "text/html": [
       "<div>\n",
       "<style scoped>\n",
       "    .dataframe tbody tr th:only-of-type {\n",
       "        vertical-align: middle;\n",
       "    }\n",
       "\n",
       "    .dataframe tbody tr th {\n",
       "        vertical-align: top;\n",
       "    }\n",
       "\n",
       "    .dataframe thead th {\n",
       "        text-align: right;\n",
       "    }\n",
       "</style>\n",
       "<table border=\"1\" class=\"dataframe\">\n",
       "  <thead>\n",
       "    <tr style=\"text-align: right;\">\n",
       "      <th></th>\n",
       "      <th>id</th>\n",
       "      <th>f0</th>\n",
       "      <th>f1</th>\n",
       "      <th>f2</th>\n",
       "      <th>product</th>\n",
       "    </tr>\n",
       "  </thead>\n",
       "  <tbody>\n",
       "    <tr>\n",
       "      <th>0</th>\n",
       "      <td>kBEdx</td>\n",
       "      <td>-15.001348</td>\n",
       "      <td>-8.276000</td>\n",
       "      <td>-0.005876</td>\n",
       "      <td>3.179103</td>\n",
       "    </tr>\n",
       "    <tr>\n",
       "      <th>1</th>\n",
       "      <td>62mP7</td>\n",
       "      <td>14.272088</td>\n",
       "      <td>-3.475083</td>\n",
       "      <td>0.999183</td>\n",
       "      <td>26.953261</td>\n",
       "    </tr>\n",
       "    <tr>\n",
       "      <th>2</th>\n",
       "      <td>vyE1P</td>\n",
       "      <td>6.263187</td>\n",
       "      <td>-5.948386</td>\n",
       "      <td>5.001160</td>\n",
       "      <td>134.766305</td>\n",
       "    </tr>\n",
       "    <tr>\n",
       "      <th>3</th>\n",
       "      <td>KcrkZ</td>\n",
       "      <td>-13.081196</td>\n",
       "      <td>-11.506057</td>\n",
       "      <td>4.999415</td>\n",
       "      <td>137.945408</td>\n",
       "    </tr>\n",
       "    <tr>\n",
       "      <th>4</th>\n",
       "      <td>AHL4O</td>\n",
       "      <td>12.702195</td>\n",
       "      <td>-8.147433</td>\n",
       "      <td>5.004363</td>\n",
       "      <td>134.766305</td>\n",
       "    </tr>\n",
       "  </tbody>\n",
       "</table>\n",
       "</div>"
      ],
      "text/plain": [
       "      id         f0         f1        f2     product\n",
       "0  kBEdx -15.001348  -8.276000 -0.005876    3.179103\n",
       "1  62mP7  14.272088  -3.475083  0.999183   26.953261\n",
       "2  vyE1P   6.263187  -5.948386  5.001160  134.766305\n",
       "3  KcrkZ -13.081196 -11.506057  4.999415  137.945408\n",
       "4  AHL4O  12.702195  -8.147433  5.004363  134.766305"
      ]
     },
     "metadata": {},
     "output_type": "display_data"
    },
    {
     "name": "stdout",
     "output_type": "stream",
     "text": [
      "Описание df\n"
     ]
    },
    {
     "data": {
      "text/html": [
       "<div>\n",
       "<style scoped>\n",
       "    .dataframe tbody tr th:only-of-type {\n",
       "        vertical-align: middle;\n",
       "    }\n",
       "\n",
       "    .dataframe tbody tr th {\n",
       "        vertical-align: top;\n",
       "    }\n",
       "\n",
       "    .dataframe thead th {\n",
       "        text-align: right;\n",
       "    }\n",
       "</style>\n",
       "<table border=\"1\" class=\"dataframe\">\n",
       "  <thead>\n",
       "    <tr style=\"text-align: right;\">\n",
       "      <th></th>\n",
       "      <th>f0</th>\n",
       "      <th>f1</th>\n",
       "      <th>f2</th>\n",
       "      <th>product</th>\n",
       "    </tr>\n",
       "  </thead>\n",
       "  <tbody>\n",
       "    <tr>\n",
       "      <th>count</th>\n",
       "      <td>100000.000000</td>\n",
       "      <td>100000.000000</td>\n",
       "      <td>100000.000000</td>\n",
       "      <td>100000.000000</td>\n",
       "    </tr>\n",
       "    <tr>\n",
       "      <th>mean</th>\n",
       "      <td>1.141296</td>\n",
       "      <td>-4.796579</td>\n",
       "      <td>2.494541</td>\n",
       "      <td>68.825000</td>\n",
       "    </tr>\n",
       "    <tr>\n",
       "      <th>std</th>\n",
       "      <td>8.965932</td>\n",
       "      <td>5.119872</td>\n",
       "      <td>1.703572</td>\n",
       "      <td>45.944423</td>\n",
       "    </tr>\n",
       "    <tr>\n",
       "      <th>min</th>\n",
       "      <td>-31.609576</td>\n",
       "      <td>-26.358598</td>\n",
       "      <td>-0.018144</td>\n",
       "      <td>0.000000</td>\n",
       "    </tr>\n",
       "    <tr>\n",
       "      <th>25%</th>\n",
       "      <td>-6.298551</td>\n",
       "      <td>-8.267985</td>\n",
       "      <td>1.000021</td>\n",
       "      <td>26.953261</td>\n",
       "    </tr>\n",
       "    <tr>\n",
       "      <th>50%</th>\n",
       "      <td>1.153055</td>\n",
       "      <td>-4.813172</td>\n",
       "      <td>2.011479</td>\n",
       "      <td>57.085625</td>\n",
       "    </tr>\n",
       "    <tr>\n",
       "      <th>75%</th>\n",
       "      <td>8.621015</td>\n",
       "      <td>-1.332816</td>\n",
       "      <td>3.999904</td>\n",
       "      <td>107.813044</td>\n",
       "    </tr>\n",
       "    <tr>\n",
       "      <th>max</th>\n",
       "      <td>29.421755</td>\n",
       "      <td>18.734063</td>\n",
       "      <td>5.019721</td>\n",
       "      <td>137.945408</td>\n",
       "    </tr>\n",
       "  </tbody>\n",
       "</table>\n",
       "</div>"
      ],
      "text/plain": [
       "                  f0             f1             f2        product\n",
       "count  100000.000000  100000.000000  100000.000000  100000.000000\n",
       "mean        1.141296      -4.796579       2.494541      68.825000\n",
       "std         8.965932       5.119872       1.703572      45.944423\n",
       "min       -31.609576     -26.358598      -0.018144       0.000000\n",
       "25%        -6.298551      -8.267985       1.000021      26.953261\n",
       "50%         1.153055      -4.813172       2.011479      57.085625\n",
       "75%         8.621015      -1.332816       3.999904     107.813044\n",
       "max        29.421755      18.734063       5.019721     137.945408"
      ]
     },
     "metadata": {},
     "output_type": "display_data"
    },
    {
     "name": "stdout",
     "output_type": "stream",
     "text": [
      "\n",
      "Размер df: (100000, 5)\n"
     ]
    }
   ],
   "source": [
    "print('Первые строки:')\n",
    "display(df_2.head())\n",
    "print('Описание df')\n",
    "display(df_2.describe())\n",
    "print('')\n",
    "print('Размер df:', df_2.shape)"
   ]
  },
  {
   "cell_type": "markdown",
   "metadata": {},
   "source": [
    "**Регион 3**"
   ]
  },
  {
   "cell_type": "code",
   "execution_count": 6,
   "metadata": {},
   "outputs": [
    {
     "name": "stdout",
     "output_type": "stream",
     "text": [
      "Первые строки:\n"
     ]
    },
    {
     "data": {
      "text/html": [
       "<div>\n",
       "<style scoped>\n",
       "    .dataframe tbody tr th:only-of-type {\n",
       "        vertical-align: middle;\n",
       "    }\n",
       "\n",
       "    .dataframe tbody tr th {\n",
       "        vertical-align: top;\n",
       "    }\n",
       "\n",
       "    .dataframe thead th {\n",
       "        text-align: right;\n",
       "    }\n",
       "</style>\n",
       "<table border=\"1\" class=\"dataframe\">\n",
       "  <thead>\n",
       "    <tr style=\"text-align: right;\">\n",
       "      <th></th>\n",
       "      <th>id</th>\n",
       "      <th>f0</th>\n",
       "      <th>f1</th>\n",
       "      <th>f2</th>\n",
       "      <th>product</th>\n",
       "    </tr>\n",
       "  </thead>\n",
       "  <tbody>\n",
       "    <tr>\n",
       "      <th>0</th>\n",
       "      <td>fwXo0</td>\n",
       "      <td>-1.146987</td>\n",
       "      <td>0.963328</td>\n",
       "      <td>-0.828965</td>\n",
       "      <td>27.758673</td>\n",
       "    </tr>\n",
       "    <tr>\n",
       "      <th>1</th>\n",
       "      <td>WJtFt</td>\n",
       "      <td>0.262778</td>\n",
       "      <td>0.269839</td>\n",
       "      <td>-2.530187</td>\n",
       "      <td>56.069697</td>\n",
       "    </tr>\n",
       "    <tr>\n",
       "      <th>2</th>\n",
       "      <td>ovLUW</td>\n",
       "      <td>0.194587</td>\n",
       "      <td>0.289035</td>\n",
       "      <td>-5.586433</td>\n",
       "      <td>62.871910</td>\n",
       "    </tr>\n",
       "    <tr>\n",
       "      <th>3</th>\n",
       "      <td>q6cA6</td>\n",
       "      <td>2.236060</td>\n",
       "      <td>-0.553760</td>\n",
       "      <td>0.930038</td>\n",
       "      <td>114.572842</td>\n",
       "    </tr>\n",
       "    <tr>\n",
       "      <th>4</th>\n",
       "      <td>WPMUX</td>\n",
       "      <td>-0.515993</td>\n",
       "      <td>1.716266</td>\n",
       "      <td>5.899011</td>\n",
       "      <td>149.600746</td>\n",
       "    </tr>\n",
       "  </tbody>\n",
       "</table>\n",
       "</div>"
      ],
      "text/plain": [
       "      id        f0        f1        f2     product\n",
       "0  fwXo0 -1.146987  0.963328 -0.828965   27.758673\n",
       "1  WJtFt  0.262778  0.269839 -2.530187   56.069697\n",
       "2  ovLUW  0.194587  0.289035 -5.586433   62.871910\n",
       "3  q6cA6  2.236060 -0.553760  0.930038  114.572842\n",
       "4  WPMUX -0.515993  1.716266  5.899011  149.600746"
      ]
     },
     "metadata": {},
     "output_type": "display_data"
    },
    {
     "name": "stdout",
     "output_type": "stream",
     "text": [
      "Описание df\n"
     ]
    },
    {
     "data": {
      "text/html": [
       "<div>\n",
       "<style scoped>\n",
       "    .dataframe tbody tr th:only-of-type {\n",
       "        vertical-align: middle;\n",
       "    }\n",
       "\n",
       "    .dataframe tbody tr th {\n",
       "        vertical-align: top;\n",
       "    }\n",
       "\n",
       "    .dataframe thead th {\n",
       "        text-align: right;\n",
       "    }\n",
       "</style>\n",
       "<table border=\"1\" class=\"dataframe\">\n",
       "  <thead>\n",
       "    <tr style=\"text-align: right;\">\n",
       "      <th></th>\n",
       "      <th>f0</th>\n",
       "      <th>f1</th>\n",
       "      <th>f2</th>\n",
       "      <th>product</th>\n",
       "    </tr>\n",
       "  </thead>\n",
       "  <tbody>\n",
       "    <tr>\n",
       "      <th>count</th>\n",
       "      <td>100000.000000</td>\n",
       "      <td>100000.000000</td>\n",
       "      <td>100000.000000</td>\n",
       "      <td>100000.000000</td>\n",
       "    </tr>\n",
       "    <tr>\n",
       "      <th>mean</th>\n",
       "      <td>0.002023</td>\n",
       "      <td>-0.002081</td>\n",
       "      <td>2.495128</td>\n",
       "      <td>95.000000</td>\n",
       "    </tr>\n",
       "    <tr>\n",
       "      <th>std</th>\n",
       "      <td>1.732045</td>\n",
       "      <td>1.730417</td>\n",
       "      <td>3.473445</td>\n",
       "      <td>44.749921</td>\n",
       "    </tr>\n",
       "    <tr>\n",
       "      <th>min</th>\n",
       "      <td>-8.760004</td>\n",
       "      <td>-7.084020</td>\n",
       "      <td>-11.970335</td>\n",
       "      <td>0.000000</td>\n",
       "    </tr>\n",
       "    <tr>\n",
       "      <th>25%</th>\n",
       "      <td>-1.162288</td>\n",
       "      <td>-1.174820</td>\n",
       "      <td>0.130359</td>\n",
       "      <td>59.450441</td>\n",
       "    </tr>\n",
       "    <tr>\n",
       "      <th>50%</th>\n",
       "      <td>0.009424</td>\n",
       "      <td>-0.009482</td>\n",
       "      <td>2.484236</td>\n",
       "      <td>94.925613</td>\n",
       "    </tr>\n",
       "    <tr>\n",
       "      <th>75%</th>\n",
       "      <td>1.158535</td>\n",
       "      <td>1.163678</td>\n",
       "      <td>4.858794</td>\n",
       "      <td>130.595027</td>\n",
       "    </tr>\n",
       "    <tr>\n",
       "      <th>max</th>\n",
       "      <td>7.238262</td>\n",
       "      <td>7.844801</td>\n",
       "      <td>16.739402</td>\n",
       "      <td>190.029838</td>\n",
       "    </tr>\n",
       "  </tbody>\n",
       "</table>\n",
       "</div>"
      ],
      "text/plain": [
       "                  f0             f1             f2        product\n",
       "count  100000.000000  100000.000000  100000.000000  100000.000000\n",
       "mean        0.002023      -0.002081       2.495128      95.000000\n",
       "std         1.732045       1.730417       3.473445      44.749921\n",
       "min        -8.760004      -7.084020     -11.970335       0.000000\n",
       "25%        -1.162288      -1.174820       0.130359      59.450441\n",
       "50%         0.009424      -0.009482       2.484236      94.925613\n",
       "75%         1.158535       1.163678       4.858794     130.595027\n",
       "max         7.238262       7.844801      16.739402     190.029838"
      ]
     },
     "metadata": {},
     "output_type": "display_data"
    },
    {
     "name": "stdout",
     "output_type": "stream",
     "text": [
      "\n",
      "Размер df: (100000, 5)\n"
     ]
    }
   ],
   "source": [
    "print('Первые строки:')\n",
    "display(df_3.head())\n",
    "print('Описание df')\n",
    "display(df_3.describe())\n",
    "print('')\n",
    "print('Размер df:', df_3.shape)"
   ]
  },
  {
   "cell_type": "markdown",
   "metadata": {},
   "source": [
    "#### Пропуски"
   ]
  },
  {
   "cell_type": "markdown",
   "metadata": {},
   "source": [
    "**Регион 1**"
   ]
  },
  {
   "cell_type": "code",
   "execution_count": 7,
   "metadata": {
    "scrolled": true
   },
   "outputs": [
    {
     "data": {
      "text/html": [
       "<style  type=\"text/css\" >\n",
       "#T_81774_row0_col0,#T_81774_row1_col0,#T_81774_row2_col0,#T_81774_row3_col0,#T_81774_row4_col0{\n",
       "            background-color:  #3b4cc0;\n",
       "            color:  #f1f1f1;\n",
       "        }</style><table id=\"T_81774_\" ><thead>    <tr>        <th class=\"blank level0\" ></th>        <th class=\"col_heading level0 col0\" >0</th>    </tr></thead><tbody>\n",
       "                <tr>\n",
       "                        <th id=\"T_81774_level0_row0\" class=\"row_heading level0 row0\" >id</th>\n",
       "                        <td id=\"T_81774_row0_col0\" class=\"data row0 col0\" >0.000000</td>\n",
       "            </tr>\n",
       "            <tr>\n",
       "                        <th id=\"T_81774_level0_row1\" class=\"row_heading level0 row1\" >f0</th>\n",
       "                        <td id=\"T_81774_row1_col0\" class=\"data row1 col0\" >0.000000</td>\n",
       "            </tr>\n",
       "            <tr>\n",
       "                        <th id=\"T_81774_level0_row2\" class=\"row_heading level0 row2\" >f1</th>\n",
       "                        <td id=\"T_81774_row2_col0\" class=\"data row2 col0\" >0.000000</td>\n",
       "            </tr>\n",
       "            <tr>\n",
       "                        <th id=\"T_81774_level0_row3\" class=\"row_heading level0 row3\" >f2</th>\n",
       "                        <td id=\"T_81774_row3_col0\" class=\"data row3 col0\" >0.000000</td>\n",
       "            </tr>\n",
       "            <tr>\n",
       "                        <th id=\"T_81774_level0_row4\" class=\"row_heading level0 row4\" >product</th>\n",
       "                        <td id=\"T_81774_row4_col0\" class=\"data row4 col0\" >0.000000</td>\n",
       "            </tr>\n",
       "    </tbody></table>"
      ],
      "text/plain": [
       "<pandas.io.formats.style.Styler at 0x7f1ba2969040>"
      ]
     },
     "execution_count": 7,
     "metadata": {},
     "output_type": "execute_result"
    }
   ],
   "source": [
    "pd.DataFrame(round(df_1.isna().mean()*100,)).style.background_gradient('coolwarm')"
   ]
  },
  {
   "cell_type": "markdown",
   "metadata": {},
   "source": [
    "**Регион 2**"
   ]
  },
  {
   "cell_type": "code",
   "execution_count": 8,
   "metadata": {
    "scrolled": false
   },
   "outputs": [
    {
     "data": {
      "text/html": [
       "<style  type=\"text/css\" >\n",
       "#T_91df6_row0_col0,#T_91df6_row1_col0,#T_91df6_row2_col0,#T_91df6_row3_col0,#T_91df6_row4_col0{\n",
       "            background-color:  #3b4cc0;\n",
       "            color:  #f1f1f1;\n",
       "        }</style><table id=\"T_91df6_\" ><thead>    <tr>        <th class=\"blank level0\" ></th>        <th class=\"col_heading level0 col0\" >0</th>    </tr></thead><tbody>\n",
       "                <tr>\n",
       "                        <th id=\"T_91df6_level0_row0\" class=\"row_heading level0 row0\" >id</th>\n",
       "                        <td id=\"T_91df6_row0_col0\" class=\"data row0 col0\" >0.000000</td>\n",
       "            </tr>\n",
       "            <tr>\n",
       "                        <th id=\"T_91df6_level0_row1\" class=\"row_heading level0 row1\" >f0</th>\n",
       "                        <td id=\"T_91df6_row1_col0\" class=\"data row1 col0\" >0.000000</td>\n",
       "            </tr>\n",
       "            <tr>\n",
       "                        <th id=\"T_91df6_level0_row2\" class=\"row_heading level0 row2\" >f1</th>\n",
       "                        <td id=\"T_91df6_row2_col0\" class=\"data row2 col0\" >0.000000</td>\n",
       "            </tr>\n",
       "            <tr>\n",
       "                        <th id=\"T_91df6_level0_row3\" class=\"row_heading level0 row3\" >f2</th>\n",
       "                        <td id=\"T_91df6_row3_col0\" class=\"data row3 col0\" >0.000000</td>\n",
       "            </tr>\n",
       "            <tr>\n",
       "                        <th id=\"T_91df6_level0_row4\" class=\"row_heading level0 row4\" >product</th>\n",
       "                        <td id=\"T_91df6_row4_col0\" class=\"data row4 col0\" >0.000000</td>\n",
       "            </tr>\n",
       "    </tbody></table>"
      ],
      "text/plain": [
       "<pandas.io.formats.style.Styler at 0x7f1ba29695b0>"
      ]
     },
     "execution_count": 8,
     "metadata": {},
     "output_type": "execute_result"
    }
   ],
   "source": [
    "pd.DataFrame(round(df_2.isna().mean()*100,)).style.background_gradient('coolwarm')"
   ]
  },
  {
   "cell_type": "markdown",
   "metadata": {},
   "source": [
    "**Регион 3**"
   ]
  },
  {
   "cell_type": "code",
   "execution_count": 9,
   "metadata": {
    "scrolled": false
   },
   "outputs": [
    {
     "data": {
      "text/html": [
       "<style  type=\"text/css\" >\n",
       "#T_2ae94_row0_col0,#T_2ae94_row1_col0,#T_2ae94_row2_col0,#T_2ae94_row3_col0,#T_2ae94_row4_col0{\n",
       "            background-color:  #3b4cc0;\n",
       "            color:  #f1f1f1;\n",
       "        }</style><table id=\"T_2ae94_\" ><thead>    <tr>        <th class=\"blank level0\" ></th>        <th class=\"col_heading level0 col0\" >0</th>    </tr></thead><tbody>\n",
       "                <tr>\n",
       "                        <th id=\"T_2ae94_level0_row0\" class=\"row_heading level0 row0\" >id</th>\n",
       "                        <td id=\"T_2ae94_row0_col0\" class=\"data row0 col0\" >0.000000</td>\n",
       "            </tr>\n",
       "            <tr>\n",
       "                        <th id=\"T_2ae94_level0_row1\" class=\"row_heading level0 row1\" >f0</th>\n",
       "                        <td id=\"T_2ae94_row1_col0\" class=\"data row1 col0\" >0.000000</td>\n",
       "            </tr>\n",
       "            <tr>\n",
       "                        <th id=\"T_2ae94_level0_row2\" class=\"row_heading level0 row2\" >f1</th>\n",
       "                        <td id=\"T_2ae94_row2_col0\" class=\"data row2 col0\" >0.000000</td>\n",
       "            </tr>\n",
       "            <tr>\n",
       "                        <th id=\"T_2ae94_level0_row3\" class=\"row_heading level0 row3\" >f2</th>\n",
       "                        <td id=\"T_2ae94_row3_col0\" class=\"data row3 col0\" >0.000000</td>\n",
       "            </tr>\n",
       "            <tr>\n",
       "                        <th id=\"T_2ae94_level0_row4\" class=\"row_heading level0 row4\" >product</th>\n",
       "                        <td id=\"T_2ae94_row4_col0\" class=\"data row4 col0\" >0.000000</td>\n",
       "            </tr>\n",
       "    </tbody></table>"
      ],
      "text/plain": [
       "<pandas.io.formats.style.Styler at 0x7f1ba4eb3b80>"
      ]
     },
     "execution_count": 9,
     "metadata": {},
     "output_type": "execute_result"
    }
   ],
   "source": [
    "pd.DataFrame(round(df_3.isna().mean()*100,)).style.background_gradient('coolwarm')"
   ]
  },
  {
   "cell_type": "markdown",
   "metadata": {},
   "source": [
    "Пропусков нет - супер)"
   ]
  },
  {
   "cell_type": "markdown",
   "metadata": {},
   "source": [
    "#### Дубликаты"
   ]
  },
  {
   "cell_type": "markdown",
   "metadata": {},
   "source": [
    "##### Явные"
   ]
  },
  {
   "cell_type": "code",
   "execution_count": 10,
   "metadata": {},
   "outputs": [
    {
     "name": "stdout",
     "output_type": "stream",
     "text": [
      "False    100000\n",
      "dtype: int64\n",
      "False    100000\n",
      "dtype: int64\n",
      "False    100000\n",
      "dtype: int64\n"
     ]
    }
   ],
   "source": [
    "print(df_1.duplicated().value_counts())\n",
    "print(df_2.duplicated().value_counts())\n",
    "print(df_3.duplicated().value_counts())"
   ]
  },
  {
   "cell_type": "markdown",
   "metadata": {},
   "source": [
    "##### Неявные"
   ]
  },
  {
   "cell_type": "code",
   "execution_count": 11,
   "metadata": {},
   "outputs": [
    {
     "name": "stdout",
     "output_type": "stream",
     "text": [
      "AGS9W    2\n",
      "74z30    2\n",
      "bsk9y    2\n",
      "QcMuo    2\n",
      "HZww2    2\n",
      "Name: id, dtype: int64\n",
      "wt4Uk    2\n",
      "5ltQ6    2\n",
      "bfPNe    2\n",
      "LHZR0    2\n",
      "nunjJ    1\n",
      "Name: id, dtype: int64\n",
      "Vcm5J    2\n",
      "xCHr8    2\n",
      "KUPhW    2\n",
      "VF7Jo    2\n",
      "MiKlG    1\n",
      "Name: id, dtype: int64\n"
     ]
    }
   ],
   "source": [
    "print(df_1['id'].value_counts().head())\n",
    "print(df_2['id'].value_counts().head())\n",
    "print(df_3['id'].value_counts().head())"
   ]
  },
  {
   "cell_type": "markdown",
   "metadata": {},
   "source": [
    "Так-так.. Выведем пару строк с дублирующими названиями скважин"
   ]
  },
  {
   "cell_type": "code",
   "execution_count": 12,
   "metadata": {},
   "outputs": [
    {
     "name": "stdout",
     "output_type": "stream",
     "text": [
      "          id        f0        f1        f2    product\n",
      "1949   QcMuo  0.506563 -0.323775 -2.215583  75.496502\n",
      "63593  QcMuo  0.635635 -0.473422  0.862670  64.578675\n",
      "\n",
      "          id        f0        f1        f2     product\n",
      "77100  UqDnB  8.241054 -2.897762  3.995774  107.813044\n",
      "\n",
      "          id        f0        f1        f2     product\n",
      "44378  Vcm5J -1.229484 -2.439204  1.222909  137.968290\n",
      "95090  Vcm5J  2.587702  1.986875  2.482245   92.327572\n"
     ]
    }
   ],
   "source": [
    "print(df_1.query('id == \"QcMuo\"'))\n",
    "print()\n",
    "print(df_2.query('id == \"UqDnB\"'))\n",
    "print()\n",
    "print(df_3.query('id==\"Vcm5J\"'))\n"
   ]
  },
  {
   "cell_type": "markdown",
   "metadata": {},
   "source": [
    "По одним и тем же скважинам данные разнятся. Так как мы не знаем что означают эти данные, оставим их. Тем более что их очень мало (в каждм df по 4-5 пар - это 0,01%)."
   ]
  },
  {
   "cell_type": "markdown",
   "metadata": {},
   "source": [
    "#### Корреляция Phik (которая вернет корреляцию Пирсона в случае двумерного нормального распределения входных данных)."
   ]
  },
  {
   "cell_type": "markdown",
   "metadata": {},
   "source": [
    "**Регион 1**"
   ]
  },
  {
   "cell_type": "code",
   "execution_count": 13,
   "metadata": {
    "scrolled": false
   },
   "outputs": [
    {
     "data": {
      "image/png": "[encoded data removed]",
      "text/plain": [
       "<Figure size 360x288 with 2 Axes>"
      ]
     },
     "metadata": {
      "needs_background": "light"
     },
     "output_type": "display_data"
    }
   ],
   "source": [
    "df_prep_1 = df_1.drop('id', axis=1)\n",
    "interval_cols = ['f0', 'f1', 'f2', 'product']\n",
    "phik_overview_1 = df_prep_1.phik_matrix(interval_cols=interval_cols)\n",
    "\n",
    "plot_correlation_matrix(phik_overview_1.values, \n",
    "                        x_labels=phik_overview_1.columns, \n",
    "                        y_labels=phik_overview_1.index, \n",
    "                        vmin=0, vmax=1, color_map=\"YlGnBu\", \n",
    "                        title=r\"correlation $\\phi_K$\", \n",
    "                        fontsize_factor=1.5, \n",
    "                        figsize=(5, 4))\n"
   ]
  },
  {
   "cell_type": "markdown",
   "metadata": {},
   "source": [
    "**Регион 2**"
   ]
  },
  {
   "cell_type": "code",
   "execution_count": 14,
   "metadata": {
    "scrolled": false
   },
   "outputs": [
    {
     "data": {
      "image/png": "[encoded data removed]",
      "text/plain": [
       "<Figure size 360x288 with 2 Axes>"
      ]
     },
     "metadata": {
      "needs_background": "light"
     },
     "output_type": "display_data"
    }
   ],
   "source": [
    "df_prep_2 = df_2.drop('id', axis=1)\n",
    "phik_overview_2 = df_prep_2.phik_matrix(interval_cols=interval_cols)\n",
    "\n",
    "plot_correlation_matrix(phik_overview_2.values, \n",
    "                        x_labels=phik_overview_2.columns, \n",
    "                        y_labels=phik_overview_2.index, \n",
    "                        vmin=0, vmax=1, color_map=\"YlGnBu\", \n",
    "                        title=r\"correlation $\\phi_K$\", \n",
    "                        fontsize_factor=1.5, \n",
    "                        figsize=(5, 4))\n"
   ]
  },
  {
   "cell_type": "markdown",
   "metadata": {},
   "source": [
    "**Регион 3**"
   ]
  },
  {
   "cell_type": "code",
   "execution_count": 15,
   "metadata": {},
   "outputs": [
    {
     "data": {
      "image/png": "[encoded data removed]",
      "text/plain": [
       "<Figure size 360x288 with 2 Axes>"
      ]
     },
     "metadata": {
      "needs_background": "light"
     },
     "output_type": "display_data"
    }
   ],
   "source": [
    "df_prep_3 = df_3.drop('id', axis=1)\n",
    "phik_overview_3 = df_prep_3.phik_matrix(interval_cols=interval_cols)\n",
    "\n",
    "plot_correlation_matrix(phik_overview_3.values, \n",
    "                        x_labels=phik_overview_3.columns, \n",
    "                        y_labels=phik_overview_3.index, \n",
    "                        vmin=0, vmax=1, color_map=\"YlGnBu\", \n",
    "                        title=r\"correlation $\\phi_K$\", \n",
    "                        fontsize_factor=1.5, \n",
    "                        figsize=(5, 4))\n"
   ]
  },
  {
   "cell_type": "markdown",
   "metadata": {},
   "source": [
    "Показатели корреляции регионов 1 и 3 похожи, больше всего зависит целевой признак product от признака f2. В первом регионе есть сильная корреляция от признаков f1 и f0 = 0,76.  \n",
    "В регионе 2 заметна очень сильная взаимосвязь product от признака f2, 0.98. Это может быть связано с тем, что данные синтетические, в реальной жизни такой коэффициент корреляции сложно представить. Также сильная корреляция во втором регионе целевого признака product от признака f0 = 0,63."
   ]
  },
  {
   "cell_type": "markdown",
   "metadata": {},
   "source": [
    "### Вывод:\n",
    "\n",
    "- импортировали все необходимые инструменты,\n",
    "- загрузили датасеты и ознакомились с ними,\n",
    "- выявили подозрительную особенность - во всех трех датасетах имеются наблюдения о скважинах с одинаковым именем, но разными значениями признаков, оставили эти строки.\n",
    "- проверили коэффициент корреляции:\n",
    "    - показатели корреляции регионов 1 и 3 похожи, \n",
    "    - в первом регионе product и f2 =0.48, f1 и f0 =0.76,\n",
    "    - во втором регионе product и f0 =0.63, product и f2 =0.98,\n",
    "    - в тертьем регионе product и f2 =0.44."
   ]
  },
  {
   "cell_type": "markdown",
   "metadata": {},
   "source": [
    "## Обучение и проверка модели"
   ]
  },
  {
   "cell_type": "markdown",
   "metadata": {},
   "source": [
    "### Разбивка данных"
   ]
  },
  {
   "cell_type": "markdown",
   "metadata": {},
   "source": [
    "Выделим целевой признак в переменную `target`, а остальные в `features`"
   ]
  },
  {
   "cell_type": "code",
   "execution_count": 16,
   "metadata": {},
   "outputs": [],
   "source": [
    "features_1 = df_prep_1.drop(['product'], axis=1)\n",
    "target_1 = df_prep_1['product']\n",
    "\n",
    "features_2 = df_prep_2.drop(['product'], axis=1)\n",
    "target_2 = df_prep_2['product']\n",
    "\n",
    "features_3 = df_prep_3.drop(['product'], axis=1)\n",
    "target_3 = df_prep_3['product']"
   ]
  },
  {
   "cell_type": "markdown",
   "metadata": {},
   "source": [
    "Разобьем данные на обучающую и валидационную выборки в соотношении 75:25, рандомно перетасовав и равномерно распределив по целевому признаку.."
   ]
  },
  {
   "cell_type": "markdown",
   "metadata": {},
   "source": [
    "**Регион 1**"
   ]
  },
  {
   "cell_type": "code",
   "execution_count": 17,
   "metadata": {},
   "outputs": [
    {
     "name": "stdout",
     "output_type": "stream",
     "text": [
      "Количество строк в train: (75000,)\n",
      "Количество строк в test: (25000,)\n"
     ]
    }
   ],
   "source": [
    "features_train_1, features_val_1, target_train_1, target_val_1 = train_test_split(features_1, target_1, \n",
    "                                                                                  test_size=0.25, \n",
    "                                                                                  random_state=12345\n",
    "                                                                                  )\n",
    "\n",
    "print(\"Количество строк в train:\", target_train_1.shape)\n",
    "print(\"Количество строк в test:\", target_val_1.shape)"
   ]
  },
  {
   "cell_type": "markdown",
   "metadata": {},
   "source": [
    "**Регион 2**"
   ]
  },
  {
   "cell_type": "code",
   "execution_count": 18,
   "metadata": {},
   "outputs": [
    {
     "name": "stdout",
     "output_type": "stream",
     "text": [
      "Количество строк в train: (75000,)\n",
      "Количество строк в test: (25000,)\n"
     ]
    }
   ],
   "source": [
    "features_train_2, features_val_2, target_train_2, target_val_2 = train_test_split(features_2, target_2, \n",
    "                                                                                  test_size=0.25, \n",
    "                                                                                  random_state=12345\n",
    "                                                                                  )\n",
    "\n",
    "print(\"Количество строк в train:\", target_train_2.shape)\n",
    "print(\"Количество строк в test:\", target_val_2.shape)"
   ]
  },
  {
   "cell_type": "markdown",
   "metadata": {},
   "source": [
    "**Регион 3**"
   ]
  },
  {
   "cell_type": "code",
   "execution_count": 19,
   "metadata": {},
   "outputs": [
    {
     "name": "stdout",
     "output_type": "stream",
     "text": [
      "Количество строк в train: (75000,)\n",
      "Количество строк в test: (25000,)\n"
     ]
    }
   ],
   "source": [
    "features_train_3, features_val_3, target_train_3, target_val_3 = train_test_split(features_3, target_3, \n",
    "                                                                                  test_size=0.25, \n",
    "                                                                                  random_state=12345\n",
    "                                                                                    )\n",
    "\n",
    "print(\"Количество строк в train:\", target_train_3.shape)\n",
    "print(\"Количество строк в test:\", target_val_3.shape)"
   ]
  },
  {
   "cell_type": "markdown",
   "metadata": {},
   "source": [
    "### Обучение модели и предсказания на валидационной выборке."
   ]
  },
  {
   "cell_type": "markdown",
   "metadata": {},
   "source": [
    "Для обучения модели подходит только линейная регрессия (остальные — недостаточно предсказуемые)."
   ]
  },
  {
   "cell_type": "markdown",
   "metadata": {},
   "source": [
    "1. Обучим модель и сделаем предсказания на валидационной выборке.\n",
    "2. Сохраним предсказания и правильные ответы на валидационной выборке в переменной predict_n *(где n - номер региона)*.\n",
    "3. Напечатаем на экране средний запас предсказанного сырья (тыс.баррелей в скважине) и RMSE модели.\n",
    "4. Проанализируем результаты."
   ]
  },
  {
   "cell_type": "markdown",
   "metadata": {},
   "source": [
    "**Регион 1**"
   ]
  },
  {
   "cell_type": "code",
   "execution_count": 20,
   "metadata": {},
   "outputs": [
    {
     "name": "stdout",
     "output_type": "stream",
     "text": [
      "R2 региона на кросс-валидации: [0.27940755 0.26696976 0.27947874 0.28050446 0.27109602]\n",
      "Средний R2 на кросс-валидации: 0.28 Стандартное отклонение: 0.01\n",
      "Среднеквадратичная ошибка RMSE: 37.58\n",
      "Средний запас предсказанного сырья в скважине: 92.59\n",
      "Истинный средний запас: 92.08\n"
     ]
    }
   ],
   "source": [
    "model_1=LinearRegression()\n",
    "\n",
    "scores_1 = cross_val_score(model_1, features_1, target_1, cv=5)\n",
    "#получение метрики качества (R2) для каждого фолда  \n",
    "print ('R2 региона на кросс-валидации:', scores_1)\n",
    "# Среднее значение метрики и стандартное отклонение\n",
    "print ('Средний R2 на кросс-валидации: %.2f'% scores_1.mean(), 'Стандартное отклонение: %.2f'% scores_1.std())\n",
    "\n",
    "#обучение модели\n",
    "model_1.fit(features_train_1, target_train_1)\n",
    "\n",
    "#предсказание на валидационной выборке\n",
    "predict_val_1 = model_1.predict(features_val_1)\n",
    "#переведем в Series для дальнейшего использования\n",
    "predict_val_1_ser = pd.Series(data=predict_val_1, index=target_val_1.index)\n",
    "\n",
    "# RMSE для предсказаний на лучшем фолде кросс-валидации\n",
    "rmse_1 = mean_squared_error(target_val_1, predict_val_1)**0.5\n",
    "\n",
    "print('Среднеквадратичная ошибка RMSE: %.2f'% rmse_1)\n",
    "print('Средний запас предсказанного сырья в скважине: %.2f'% predict_val_1.mean())\n",
    "print('Истинный средний запас: %.2f'% target_val_1.mean())"
   ]
  },
  {
   "cell_type": "markdown",
   "metadata": {},
   "source": [
    "**Регион 2**"
   ]
  },
  {
   "cell_type": "code",
   "execution_count": 21,
   "metadata": {},
   "outputs": [
    {
     "name": "stdout",
     "output_type": "stream",
     "text": [
      "R2 региона на кросс-валидации: [0.99962905 0.99961947 0.99961951 0.9996311  0.99962274]\n",
      "Средний R2 на кросс-валидации: 1.00 Стандартное отклонение: 0.00\n",
      "Среднеквадратичная ошибка RMSE: 0.89\n",
      "Средний запас предсказанного сырья в скважине: 68.73\n",
      "Истинный средний запас: 68.72\n"
     ]
    }
   ],
   "source": [
    "model_2=LinearRegression()\n",
    "\n",
    "scores_2 = cross_val_score(model_2, features_2, target_2, cv=5)\n",
    "#получение метрики качества (R2) для каждого фолда  \n",
    "print ('R2 региона на кросс-валидации:', scores_2)\n",
    "# Среднее значение метрики и стандартное отклонение\n",
    "print ('Средний R2 на кросс-валидации: %.2f'% scores_2.mean(), 'Стандартное отклонение: %.2f'% scores_2.std())\n",
    "\n",
    "#обучение модели\n",
    "model_2.fit(features_train_2, target_train_2)\n",
    "\n",
    "#предсказание на валидационной выборке\n",
    "predict_val_2 = model_2.predict(features_val_2)\n",
    "#переведем в Series для дальнейшего использования\n",
    "predict_val_2_ser = pd.Series(data=predict_val_2, index=target_val_2.index)\n",
    "\n",
    "# RMSE для предсказаний на лучшем фолде кросс-валидации\n",
    "rmse_2 = mean_squared_error(target_val_2, predict_val_2)**0.5\n",
    "\n",
    "print('Среднеквадратичная ошибка RMSE: %.2f'% rmse_2)\n",
    "print('Средний запас предсказанного сырья в скважине: %.2f'% predict_val_2.mean())\n",
    "print('Истинный средний запас: %.2f'% target_val_2.mean())\n"
   ]
  },
  {
   "cell_type": "markdown",
   "metadata": {},
   "source": [
    "**Регион 3**"
   ]
  },
  {
   "cell_type": "code",
   "execution_count": 22,
   "metadata": {},
   "outputs": [
    {
     "name": "stdout",
     "output_type": "stream",
     "text": [
      "R2 региона на кросс-валидации: [0.19197954 0.19592695 0.19914376 0.20304226 0.20348561]\n",
      "Средний R2 на кросс-валидации: 0.20 Стандартное отклонение: 0.00\n",
      "Среднеквадратичная ошибка RMSE: 40.03\n",
      "Средний запас предсказанного сырья в скважине: 94.97\n",
      "Истинный средний запас: 94.88\n"
     ]
    }
   ],
   "source": [
    "model_3=LinearRegression()\n",
    "\n",
    "scores_3 = cross_val_score(model_3, features_3, target_3, cv=5)\n",
    "#получение метрики качества (R2) для каждого фолда  \n",
    "print ('R2 региона на кросс-валидации:', scores_3)\n",
    "# Среднее значение метрики и стандартное отклонение\n",
    "print ('Средний R2 на кросс-валидации: %.2f'% scores_3.mean(), 'Стандартное отклонение: %.2f'% scores_3.std())\n",
    "\n",
    "#обучение модели\n",
    "model_3.fit(features_train_3, target_train_3)\n",
    "\n",
    "#предсказание на валидационной выборке\n",
    "predict_val_3 = model_3.predict(features_val_3)\n",
    "#переведем в Series для дальнейшего использования\n",
    "predict_val_3_ser = pd.Series(data=predict_val_3, index=target_val_3.index)\n",
    "# RMSE для предсказаний на лучшем фолде кросс-валидации\n",
    "rmse_3 = mean_squared_error(target_val_3, predict_val_3)**0.5\n",
    "\n",
    "print('Среднеквадратичная ошибка RMSE: %.2f'% rmse_3)\n",
    "print('Средний запас предсказанного сырья в скважине: %.2f'% predict_val_3.mean())\n",
    "print('Истинный средний запас: %.2f'% target_val_3.mean())"
   ]
  },
  {
   "cell_type": "markdown",
   "metadata": {},
   "source": [
    "Выведем на экран наши предсказания (среднне по скважине) и значения среднеквадратической ошибки"
   ]
  },
  {
   "cell_type": "code",
   "execution_count": 23,
   "metadata": {},
   "outputs": [
    {
     "data": {
      "text/html": [
       "<div>\n",
       "<style scoped>\n",
       "    .dataframe tbody tr th:only-of-type {\n",
       "        vertical-align: middle;\n",
       "    }\n",
       "\n",
       "    .dataframe tbody tr th {\n",
       "        vertical-align: top;\n",
       "    }\n",
       "\n",
       "    .dataframe thead th {\n",
       "        text-align: right;\n",
       "    }\n",
       "</style>\n",
       "<table border=\"1\" class=\"dataframe\">\n",
       "  <thead>\n",
       "    <tr style=\"text-align: right;\">\n",
       "      <th></th>\n",
       "      <th>Регион 1</th>\n",
       "      <th>Регион 2</th>\n",
       "      <th>Регион 3</th>\n",
       "    </tr>\n",
       "  </thead>\n",
       "  <tbody>\n",
       "    <tr>\n",
       "      <th>Средний запас предсказанного сырья в скважине</th>\n",
       "      <td>92.592568</td>\n",
       "      <td>68.728547</td>\n",
       "      <td>94.965046</td>\n",
       "    </tr>\n",
       "    <tr>\n",
       "      <th>RMSE модели</th>\n",
       "      <td>37.579422</td>\n",
       "      <td>0.893099</td>\n",
       "      <td>40.029709</td>\n",
       "    </tr>\n",
       "  </tbody>\n",
       "</table>\n",
       "</div>"
      ],
      "text/plain": [
       "                                                Регион 1   Регион 2   Регион 3\n",
       "Средний запас предсказанного сырья в скважине  92.592568  68.728547  94.965046\n",
       "RMSE модели                                    37.579422   0.893099  40.029709"
      ]
     },
     "execution_count": 23,
     "metadata": {},
     "output_type": "execute_result"
    }
   ],
   "source": [
    "table = pd.DataFrame(index=['Средний запас предсказанного сырья в скважине','RMSE модели'], columns=['Регион 1','Регион 2','Регион 3'])\n",
    "table['Регион 1'] = predict_val_1.mean(), rmse_1\n",
    "table['Регион 2'] = predict_val_2.mean(), rmse_2\n",
    "table['Регион 3'] = predict_val_3.mean(), rmse_3\n",
    "table"
   ]
  },
  {
   "cell_type": "markdown",
   "metadata": {},
   "source": [
    "### Вывод\n",
    "1. Данные разбиты на обучающую и валидационную выборки в соотношении 75:25.\n",
    "2. Модели обучены, предсказания на валидационной выборке сделаны.\n",
    "3. Предсказания и правильные ответы на валидационной выборке сохранены в переменные predict_n и rmse_n *(где n - номер региона)*.\n",
    "4. Средний запас предсказанного сырья по скважине и RMSE моделей выведены на экран.\n",
    "5. Модели показали хорошие результаты, особенно для 2-го региона, где признак f2 сильно коррелирует с целевым."
   ]
  },
  {
   "cell_type": "markdown",
   "metadata": {},
   "source": [
    "## Подготовка к расчёту прибыли"
   ]
  },
  {
   "cell_type": "markdown",
   "metadata": {},
   "source": [
    "### Сохранение в отдельных переменных всех ключевых значений "
   ]
  },
  {
   "cell_type": "markdown",
   "metadata": {},
   "source": [
    "При разведке региона исследуют **500 точек**, из которых с помощью машинного обучения выбирают **200 лучших** для разработки.   \n",
    "**Бюджет** на разработку скважин в регионе — **10 млрд рублей**.  \n",
    "При нынешних ценах **один баррель** сырья приносит **450 рублей** дохода. Доход с каждой единицы продукта составляет **450 тыс. рублей**, поскольку объём указан в тысячах баррелей.  \n",
    "После оценки рисков нужно оставить лишь те регионы, в которых **вероятность убытков меньше 2.5%**. Среди них выбирают регион с наибольшей средней прибылью.  "
   ]
  },
  {
   "cell_type": "code",
   "execution_count": 24,
   "metadata": {},
   "outputs": [],
   "source": [
    "# количество исследуемых точек \n",
    "explore = 500\n",
    "# колиечство скважин для разработки\n",
    "drills = 200\n",
    "# бюджет на разработку\n",
    "budget = 10 * 10**9\n",
    "# стоимость 1 барреля нефти\n",
    "barrel_price = 450\n",
    "# доход с 1000 баррелей нефти\n",
    "product_income = barrel_price * 1000\n",
    "# порог доли убытков\n",
    "limit_pr = 2.5"
   ]
  },
  {
   "cell_type": "markdown",
   "metadata": {},
   "source": [
    "Рассчитаем бюджет на разработку 1 скважины"
   ]
  },
  {
   "cell_type": "code",
   "execution_count": 25,
   "metadata": {},
   "outputs": [
    {
     "name": "stdout",
     "output_type": "stream",
     "text": [
      "Бюджет на разработку одной скважины: 50.0 млн. руб\n"
     ]
    }
   ],
   "source": [
    "budg_per_1_point=(budget/200) \n",
    "print('Бюджет на разработку одной скважины:', budg_per_1_point/1000000, 'млн. руб')"
   ]
  },
  {
   "cell_type": "markdown",
   "metadata": {},
   "source": [
    "### Расчет объемов сырья"
   ]
  },
  {
   "cell_type": "markdown",
   "metadata": {},
   "source": [
    "Рассчитаем объём сырья для безубыточной разработки скважины по региону"
   ]
  },
  {
   "cell_type": "code",
   "execution_count": 26,
   "metadata": {},
   "outputs": [
    {
     "name": "stdout",
     "output_type": "stream",
     "text": [
      "22222.222222222223 тыс. баррелей в регионе\n"
     ]
    }
   ],
   "source": [
    "product_vol_reg = budget / product_income\n",
    "print(product_vol_reg, 'тыс. баррелей в регионе')\n"
   ]
  },
  {
   "cell_type": "markdown",
   "metadata": {},
   "source": [
    "Рассчитаем объём сырья для безубыточной разработки скважины"
   ]
  },
  {
   "cell_type": "code",
   "execution_count": 27,
   "metadata": {},
   "outputs": [
    {
     "name": "stdout",
     "output_type": "stream",
     "text": [
      "111.11111111111111 тыс. баррелей в скважине\n"
     ]
    }
   ],
   "source": [
    "product_vol_ow = product_vol_reg / drills\n",
    "print(product_vol_ow, 'тыс. баррелей в скважине')"
   ]
  },
  {
   "cell_type": "code",
   "execution_count": 28,
   "metadata": {},
   "outputs": [
    {
     "name": "stdout",
     "output_type": "stream",
     "text": [
      "Cредний запас сырья в скважине в 1 регионе: 92.59 тыс.баррелей\n",
      "Cредний запас сырья в скважине в 2 регионе: 68.73 тыс.баррелей\n",
      "Cредний запас сырья в скважине в 3 регионе: 94.97 тыс.баррелей\n"
     ]
    }
   ],
   "source": [
    "print('Cредний запас сырья в скважине в 1 регионе: %.2f тыс.баррелей'%predict_val_1.mean())\n",
    "print('Cредний запас сырья в скважине в 2 регионе: %.2f тыс.баррелей'%predict_val_2.mean())\n",
    "print('Cредний запас сырья в скважине в 3 регионе: %.2f тыс.баррелей'%predict_val_3.mean())"
   ]
  },
  {
   "cell_type": "markdown",
   "metadata": {},
   "source": [
    "111,1 тыс. баррелей против даже самого большого среднего в тертьем регионе =94,96. Можно сделать вывод, что любой регион будет убыточным. Но у нас есть 500 исследуемых скважин для разработки, из которых мы можем выбрать 200 самых преспективных."
   ]
  },
  {
   "cell_type": "markdown",
   "metadata": {},
   "source": [
    "### Функция расчета прибыли"
   ]
  },
  {
   "cell_type": "code",
   "execution_count": 29,
   "metadata": {},
   "outputs": [],
   "source": [
    "''' Функция получает на вход значения целевого признака и предсказания (предварительно преобразованные в список).\n",
    "    Сортирует предсказания по убыванию.\n",
    "    Отбирает наиболее релевантные для неё значения (первые 200, что равно нашему количеству скважин)\n",
    "    и возвращает выручку равную сумме выбранных значений целевого признака (первые 200 по убыванию), \n",
    "    умноженную на стоимость 1 тыс. баррелей минус размер бюджета\n",
    "'''\n",
    "def calc_profit(target, prediction):\n",
    "    preds_sorted = prediction.sort_values(ascending=False)\n",
    "    selected = target[preds_sorted.index][:drills]\n",
    "    return selected.sum() * product_income - budget"
   ]
  },
  {
   "cell_type": "code",
   "execution_count": 30,
   "metadata": {},
   "outputs": [
    {
     "name": "stdout",
     "output_type": "stream",
     "text": [
      "Предсказываемая прибыль для региона 1 = 3320826043.14\n",
      "Предсказываемая прибыль для региона 2 = 2415086696.68\n",
      "Предсказываемая прибыль для региона 3 = 2710349963.60\n"
     ]
    }
   ],
   "source": [
    "# Посчитаем прибыль по каждому региону\n",
    "print('Предсказываемая прибыль для региона 1 = %.2f'% calc_profit(target_val_1, predict_val_1_ser));\n",
    "print('Предсказываемая прибыль для региона 2 = %.2f'% calc_profit(target_val_2, predict_val_2_ser));\n",
    "print('Предсказываемая прибыль для региона 3 = %.2f'% calc_profit(target_val_3, predict_val_3_ser));"
   ]
  },
  {
   "cell_type": "markdown",
   "metadata": {},
   "source": [
    "### Вывод\n",
    "Бюджет на разработку одной скважины: 50.0 млн. руб.  \n",
    "Объём сырья для безубыточной разработки скважины 111.1 тыс. баррелей.  \n",
    "  \n",
    "У нас в среднем по регионам:  \n",
    "     - в первом  - 92.59 тыс. баррелей  \n",
    "     - во втором - 68.73 тыс. баррелей  \n",
    "     - в третьем - 94.97 тыс. баррелей  \n",
    "  \n",
    "Однако максимальная предсказываемая прибыль в регионах:  \n",
    "     - в первом  - 3.32 млрд. рублей  \n",
    "     - во втором - 2.42 млрд. рублей  \n",
    "     - в третьем - 2.71 млрд. рублей  \n",
    "      \n",
    "На данном этапе самый выгодный регон предположительно первый."
   ]
  },
  {
   "cell_type": "markdown",
   "metadata": {},
   "source": [
    "## Расчёт прибыли и рисков "
   ]
  },
  {
   "cell_type": "markdown",
   "metadata": {},
   "source": [
    "### Расчет\n",
    "Посчитаем прибыль и риски для каждого региона:  \n",
    " - применим технику Bootstrap с 1000 выборок, чтобы найти распределение прибыли.\n",
    " - найдём среднюю прибыль, 95%-й доверительный интервал и риск убытков. Убыток — это отрицательная прибыль."
   ]
  },
  {
   "cell_type": "code",
   "execution_count": 31,
   "metadata": {},
   "outputs": [],
   "source": [
    "state = np.random.RandomState(12345)"
   ]
  },
  {
   "cell_type": "code",
   "execution_count": 32,
   "metadata": {},
   "outputs": [],
   "source": [
    "# Функция подсчета суммарной прибыли лучших 200 скважин из 500 для 1000 случайных выборок \n",
    "\n",
    "def ammout_profit(target, predict):\n",
    "    \n",
    "    values = []\n",
    "    count = 0      # счетчик числа убыточных выборок\n",
    "    \n",
    "    for i in tqdm(range(1000)):    \n",
    "        \n",
    "        # Bootstrap\n",
    "        target_subsample = target.sample(n=explore, replace=True, random_state=state)\n",
    "        \n",
    "        # Подсчет прибыли для выборки\n",
    "        predicts_subsample = predict[target_subsample.index]\n",
    "        \n",
    "        # Создание распределения значений прибыли выборок\n",
    "        values.append(calc_profit(target_subsample, predicts_subsample))\n",
    "        \n",
    "        # Подсчет убыточных выборок\n",
    "#        if target_subsample < 0:\n",
    "#            count += 1\n",
    "    \n",
    "    values = pd.Series(values)\n",
    "    \n",
    "    alpha_def = 0.95\n",
    "    df = values.count() - 1\n",
    "    confidence_interval = st.t.interval(alpha_def, df, loc=values.mean(), scale=values.sem())\n",
    "    \n",
    "    lower = values.quantile(0.01)\n",
    " \n",
    "    mean = values.mean()\n",
    "    print(\"Средняя прибыль:\", mean)\n",
    "    print(\"95% доверительный интервал (истинное среднее)\", confidence_interval)\n",
    "    confidence_interval = (values.quantile(0.025), values.quantile(0.975))\n",
    "    print(\"95% доверительный интервал (прогноз)\", confidence_interval)\n",
    "    \n",
    "    loss_probability = values[values < 0].count() / values.count()\n",
    "    print('Вероятность убытка = {:.2%}'.format(loss_probability))\n",
    "    \n",
    "    if (loss_probability <= limit_pr):\n",
    "        print('Регион годится для разработки!')\n",
    "    \n",
    "    print()"
   ]
  },
  {
   "cell_type": "code",
   "execution_count": 33,
   "metadata": {},
   "outputs": [
    {
     "name": "stdout",
     "output_type": "stream",
     "text": [
      "Model for region 1\n"
     ]
    },
    {
     "name": "stderr",
     "output_type": "stream",
     "text": [
      "100%|██████████| 1000/1000 [00:01<00:00, 733.74it/s]\n"
     ]
    },
    {
     "name": "stdout",
     "output_type": "stream",
     "text": [
      "Средняя прибыль: 425938526.91059244\n",
      "95% доверительный интервал (истинное среднее) (408732207.06869864, 443144846.7524862)\n",
      "95% доверительный интервал (прогноз) (-102090094.83793654, 947976353.3583689)\n",
      "Вероятность убытка = 6.00%\n",
      "Регион годится для разработки!\n",
      "\n",
      "Model for region 2\n"
     ]
    },
    {
     "name": "stderr",
     "output_type": "stream",
     "text": [
      "100%|██████████| 1000/1000 [00:01<00:00, 758.31it/s]\n"
     ]
    },
    {
     "name": "stdout",
     "output_type": "stream",
     "text": [
      "Средняя прибыль: 518259493.6973249\n",
      "95% доверительный интервал (истинное среднее) (505249881.5766217, 531269105.81802803)\n",
      "95% доверительный интервал (прогноз) (128123231.43308444, 953612982.0669085)\n",
      "Вероятность убытка = 0.30%\n",
      "Регион годится для разработки!\n",
      "\n",
      "Model for region 3\n"
     ]
    },
    {
     "name": "stderr",
     "output_type": "stream",
     "text": [
      "100%|██████████| 1000/1000 [00:01<00:00, 764.66it/s]"
     ]
    },
    {
     "name": "stdout",
     "output_type": "stream",
     "text": [
      "Средняя прибыль: 420194005.3440501\n",
      "95% доверительный интервал (истинное среднее) (402528703.65036154, 437859307.0377387)\n",
      "95% доверительный интервал (прогноз) (-115852609.16001143, 989629939.8445739)\n",
      "Вероятность убытка = 6.20%\n",
      "Регион годится для разработки!\n",
      "\n"
     ]
    },
    {
     "name": "stderr",
     "output_type": "stream",
     "text": [
      "\n"
     ]
    }
   ],
   "source": [
    "print('Model for region 1');\n",
    "ammout_profit(target_val_1, predict_val_1_ser)\n",
    "print('Model for region 2');\n",
    "ammout_profit(target_val_2, predict_val_2_ser)\n",
    "print('Model for region 3');\n",
    "ammout_profit(target_val_3, predict_val_3_ser)"
   ]
  },
  {
   "cell_type": "markdown",
   "metadata": {},
   "source": [
    "### Вывод\n",
    "Регион в котором с 95% вероятностью прибыль превысит 505 млн. рублей и с самой низкой вероятностью убытков - регион номер 2. Рекомендуем его для разработки скважин."
   ]
  },
  {
   "cell_type": "markdown",
   "metadata": {},
   "source": [
    "## Вывод\n",
    "1. Изучили данные, увидели большую корреляцию признков product и f2 во втором регионе.\n",
    "2. Обучили модель, получив предварительные оценки модели и предсказаний по трем регионам\n",
    "    - Второй регион показал худший средний результат предсказаний (68,73) и низкое значение RMSE\n",
    "    - Первый и второй похожи друг на друга: среднее запаса предсказанного сырья в скважине: 92.08 и 94.97, RMSE 37.58 и 40.03 соответственно\n",
    "3. Рассчитали прибыльность каждого региона по предсказанным данным (каждый регион оказался прибыльным, однако первый показал наибольший результат 3.320 млрд.)\n",
    "4. Применили бутстрэп, чтобы оценить регион с разных точек и получили средние значения генеральной совокупности\n",
    "\n",
    "Изучив эти данные, можем рекомендовать к разрабатке **второй регион**, т.к. он одновременно обеспечивает самую высокую среднюю прибыль (выше 505 миллионов) при минимальном риске в 0,3%\n"
   ]
  }
 ],
 "metadata": {
  "ExecuteTimeLog": [
   {
    "duration": 413,
    "start_time": "2023-02-24T09:45:51.291Z"
   },
   {
    "duration": 1769,
    "start_time": "2023-02-24T09:45:55.298Z"
   },
   {
    "duration": 16,
    "start_time": "2023-02-24T09:45:57.722Z"
   },
   {
    "duration": 2038,
    "start_time": "2023-02-24T10:06:57.581Z"
   },
   {
    "duration": 11,
    "start_time": "2023-02-24T10:11:01.366Z"
   },
   {
    "duration": 69,
    "start_time": "2023-02-24T10:11:12.913Z"
   },
   {
    "duration": 356,
    "start_time": "2023-02-24T10:11:20.466Z"
   },
   {
    "duration": 23,
    "start_time": "2023-02-24T10:13:09.839Z"
   },
   {
    "duration": 1284,
    "start_time": "2023-02-24T10:13:26.407Z"
   },
   {
    "duration": 355,
    "start_time": "2023-02-24T10:13:28.967Z"
   },
   {
    "duration": 14,
    "start_time": "2023-02-24T10:13:30.299Z"
   },
   {
    "duration": 52,
    "start_time": "2023-02-24T10:13:30.787Z"
   },
   {
    "duration": 1468,
    "start_time": "2023-02-24T10:22:45.514Z"
   },
   {
    "duration": 1662,
    "start_time": "2023-02-24T10:22:48.047Z"
   },
   {
    "duration": 101,
    "start_time": "2023-02-24T10:22:57.008Z"
   },
   {
    "duration": 15,
    "start_time": "2023-02-24T10:23:23.757Z"
   },
   {
    "duration": 12,
    "start_time": "2023-02-24T10:23:47.889Z"
   },
   {
    "duration": 10,
    "start_time": "2023-02-24T10:24:00.649Z"
   },
   {
    "duration": 66,
    "start_time": "2023-02-24T10:24:01.721Z"
   },
   {
    "duration": 47,
    "start_time": "2023-02-24T10:50:10.670Z"
   },
   {
    "duration": 1382,
    "start_time": "2023-02-24T10:50:20.409Z"
   },
   {
    "duration": 1622,
    "start_time": "2023-02-24T10:50:21.795Z"
   },
   {
    "duration": 15,
    "start_time": "2023-02-24T10:50:24.648Z"
   },
   {
    "duration": 53,
    "start_time": "2023-02-24T10:50:25.328Z"
   },
   {
    "duration": 0,
    "start_time": "2023-02-24T10:52:13.622Z"
   },
   {
    "duration": 1344,
    "start_time": "2023-02-24T10:52:18.297Z"
   },
   {
    "duration": 383,
    "start_time": "2023-02-24T10:52:19.642Z"
   },
   {
    "duration": 14,
    "start_time": "2023-02-24T10:52:20.027Z"
   },
   {
    "duration": 52,
    "start_time": "2023-02-24T10:52:20.657Z"
   },
   {
    "duration": 0,
    "start_time": "2023-02-24T10:52:40.072Z"
   },
   {
    "duration": 1360,
    "start_time": "2023-02-24T10:52:44.478Z"
   },
   {
    "duration": 397,
    "start_time": "2023-02-24T10:52:45.840Z"
   },
   {
    "duration": 15,
    "start_time": "2023-02-24T10:52:46.239Z"
   },
   {
    "duration": 68,
    "start_time": "2023-02-24T10:52:46.256Z"
   },
   {
    "duration": 294,
    "start_time": "2023-02-24T10:52:47.927Z"
   },
   {
    "duration": 830,
    "start_time": "2023-02-24T10:53:54.810Z"
   },
   {
    "duration": 3,
    "start_time": "2023-02-24T10:54:32.522Z"
   },
   {
    "duration": 624,
    "start_time": "2023-02-24T10:54:35.722Z"
   },
   {
    "duration": 593,
    "start_time": "2023-02-24T10:54:48.319Z"
   },
   {
    "duration": 3,
    "start_time": "2023-02-24T10:55:05.947Z"
   },
   {
    "duration": 353,
    "start_time": "2023-02-24T10:55:07.091Z"
   },
   {
    "duration": 10,
    "start_time": "2023-02-24T10:55:07.683Z"
   },
   {
    "duration": 15,
    "start_time": "2023-02-24T10:55:07.972Z"
   },
   {
    "duration": 590,
    "start_time": "2023-02-24T10:55:08.608Z"
   },
   {
    "duration": 1315,
    "start_time": "2023-02-24T10:55:17.395Z"
   },
   {
    "duration": 362,
    "start_time": "2023-02-24T10:55:19.427Z"
   },
   {
    "duration": 14,
    "start_time": "2023-02-24T10:55:20.295Z"
   },
   {
    "duration": 51,
    "start_time": "2023-02-24T10:55:20.866Z"
   },
   {
    "duration": 705,
    "start_time": "2023-02-24T10:55:22.187Z"
   },
   {
    "duration": 10,
    "start_time": "2023-02-24T10:57:19.393Z"
   },
   {
    "duration": 16,
    "start_time": "2023-02-24T10:57:22.018Z"
   },
   {
    "duration": 595,
    "start_time": "2023-02-24T10:57:25.668Z"
   },
   {
    "duration": 594,
    "start_time": "2023-02-24T10:57:30.430Z"
   },
   {
    "duration": 11,
    "start_time": "2023-02-24T10:57:46.953Z"
   },
   {
    "duration": 21,
    "start_time": "2023-02-24T10:57:54.618Z"
   },
   {
    "duration": 562,
    "start_time": "2023-02-24T10:58:15.564Z"
   },
   {
    "duration": 648,
    "start_time": "2023-02-24T11:15:52.602Z"
   },
   {
    "duration": 673,
    "start_time": "2023-02-24T11:25:02.133Z"
   },
   {
    "duration": 587,
    "start_time": "2023-02-24T11:25:02.820Z"
   },
   {
    "duration": 600,
    "start_time": "2023-02-24T11:25:03.410Z"
   },
   {
    "duration": 153,
    "start_time": "2023-02-24T11:27:03.780Z"
   },
   {
    "duration": 42,
    "start_time": "2023-02-24T11:27:21.783Z"
   },
   {
    "duration": 39,
    "start_time": "2023-02-24T11:28:06.566Z"
   },
   {
    "duration": 4,
    "start_time": "2023-02-24T11:28:18.935Z"
   },
   {
    "duration": 34,
    "start_time": "2023-02-24T11:28:30.983Z"
   },
   {
    "duration": 12,
    "start_time": "2023-02-24T11:28:57.521Z"
   },
   {
    "duration": 40,
    "start_time": "2023-02-24T11:29:00.831Z"
   },
   {
    "duration": 40,
    "start_time": "2023-02-24T11:29:15.145Z"
   },
   {
    "duration": 42,
    "start_time": "2023-02-24T11:29:37.560Z"
   },
   {
    "duration": 41,
    "start_time": "2023-02-24T11:30:01.424Z"
   },
   {
    "duration": 48,
    "start_time": "2023-02-24T11:30:16.696Z"
   },
   {
    "duration": 42,
    "start_time": "2023-02-24T11:30:39.529Z"
   },
   {
    "duration": 1398,
    "start_time": "2023-02-24T11:30:52.489Z"
   },
   {
    "duration": 458,
    "start_time": "2023-02-24T11:30:54.926Z"
   },
   {
    "duration": 1203,
    "start_time": "2023-02-24T11:31:08.913Z"
   },
   {
    "duration": 361,
    "start_time": "2023-02-24T11:31:11.117Z"
   },
   {
    "duration": 55,
    "start_time": "2023-02-24T11:31:12.865Z"
   },
   {
    "duration": 44,
    "start_time": "2023-02-24T11:31:14.253Z"
   },
   {
    "duration": 45,
    "start_time": "2023-02-24T11:31:16.098Z"
   },
   {
    "duration": 59,
    "start_time": "2023-02-24T11:31:17.696Z"
   },
   {
    "duration": 19,
    "start_time": "2023-02-24T11:31:18.513Z"
   },
   {
    "duration": 24,
    "start_time": "2023-02-24T11:31:19.353Z"
   },
   {
    "duration": 682,
    "start_time": "2023-02-24T11:31:22.330Z"
   },
   {
    "duration": 673,
    "start_time": "2023-02-24T11:31:24.448Z"
   },
   {
    "duration": 602,
    "start_time": "2023-02-24T11:31:26.160Z"
   },
   {
    "duration": 178,
    "start_time": "2023-02-24T11:34:24.699Z"
   },
   {
    "duration": 185,
    "start_time": "2023-02-24T11:36:18.675Z"
   },
   {
    "duration": 24,
    "start_time": "2023-02-24T11:39:03.108Z"
   },
   {
    "duration": 31,
    "start_time": "2023-02-24T11:40:08.638Z"
   },
   {
    "duration": 600,
    "start_time": "2023-02-24T12:20:39.773Z"
   },
   {
    "duration": 624,
    "start_time": "2023-02-24T12:20:45.984Z"
   },
   {
    "duration": 557,
    "start_time": "2023-02-24T12:20:53.447Z"
   },
   {
    "duration": 678,
    "start_time": "2023-02-24T12:20:55.519Z"
   },
   {
    "duration": 78,
    "start_time": "2023-02-24T12:51:16.840Z"
   },
   {
    "duration": 13,
    "start_time": "2023-02-24T12:53:36.349Z"
   },
   {
    "duration": 10,
    "start_time": "2023-02-24T12:56:45.285Z"
   },
   {
    "duration": 103,
    "start_time": "2023-02-24T12:58:06.156Z"
   },
   {
    "duration": 236,
    "start_time": "2023-02-24T12:58:14.204Z"
   },
   {
    "duration": 4,
    "start_time": "2023-02-24T12:58:20.908Z"
   },
   {
    "duration": 1330,
    "start_time": "2023-02-24T12:58:26.220Z"
   },
   {
    "duration": 363,
    "start_time": "2023-02-24T12:58:28.756Z"
   },
   {
    "duration": 51,
    "start_time": "2023-02-24T12:58:30.214Z"
   },
   {
    "duration": 50,
    "start_time": "2023-02-24T12:58:30.846Z"
   },
   {
    "duration": 40,
    "start_time": "2023-02-24T12:58:31.516Z"
   },
   {
    "duration": 50,
    "start_time": "2023-02-24T12:58:32.508Z"
   },
   {
    "duration": 14,
    "start_time": "2023-02-24T12:58:33.125Z"
   },
   {
    "duration": 15,
    "start_time": "2023-02-24T12:58:33.748Z"
   },
   {
    "duration": 147,
    "start_time": "2023-02-24T12:58:34.956Z"
   },
   {
    "duration": 141,
    "start_time": "2023-02-24T12:58:35.540Z"
   },
   {
    "duration": 27,
    "start_time": "2023-02-24T12:58:36.081Z"
   },
   {
    "duration": 640,
    "start_time": "2023-02-24T12:58:37.460Z"
   },
   {
    "duration": 564,
    "start_time": "2023-02-24T12:58:38.230Z"
   },
   {
    "duration": 568,
    "start_time": "2023-02-24T12:58:38.966Z"
   },
   {
    "duration": 11,
    "start_time": "2023-02-24T12:58:41.629Z"
   },
   {
    "duration": 98,
    "start_time": "2023-02-24T12:58:42.678Z"
   },
   {
    "duration": 26,
    "start_time": "2023-02-24T12:59:02.444Z"
   },
   {
    "duration": 9,
    "start_time": "2023-02-24T13:01:31.095Z"
   },
   {
    "duration": 9,
    "start_time": "2023-02-24T13:01:35.742Z"
   },
   {
    "duration": 15,
    "start_time": "2023-02-24T13:02:15.536Z"
   },
   {
    "duration": 13,
    "start_time": "2023-02-24T13:02:32.039Z"
   },
   {
    "duration": 7,
    "start_time": "2023-02-24T13:02:43.360Z"
   },
   {
    "duration": 24,
    "start_time": "2023-02-24T13:02:48.748Z"
   },
   {
    "duration": 25,
    "start_time": "2023-02-24T13:05:11.565Z"
   },
   {
    "duration": 21,
    "start_time": "2023-02-24T13:07:29.265Z"
   },
   {
    "duration": 3,
    "start_time": "2023-02-24T13:07:47.378Z"
   },
   {
    "duration": 30,
    "start_time": "2023-02-24T13:07:52.809Z"
   },
   {
    "duration": 26,
    "start_time": "2023-02-24T13:08:11.123Z"
   },
   {
    "duration": 14,
    "start_time": "2023-02-24T13:09:35.579Z"
   },
   {
    "duration": 14,
    "start_time": "2023-02-24T13:10:46.155Z"
   },
   {
    "duration": 1486,
    "start_time": "2023-02-24T13:11:16.034Z"
   },
   {
    "duration": 416,
    "start_time": "2023-02-24T13:11:19.188Z"
   },
   {
    "duration": 54,
    "start_time": "2023-02-24T13:11:23.284Z"
   },
   {
    "duration": 53,
    "start_time": "2023-02-24T13:11:25.356Z"
   },
   {
    "duration": 47,
    "start_time": "2023-02-24T13:11:26.689Z"
   },
   {
    "duration": 57,
    "start_time": "2023-02-24T13:11:28.645Z"
   },
   {
    "duration": 15,
    "start_time": "2023-02-24T13:11:29.718Z"
   },
   {
    "duration": 16,
    "start_time": "2023-02-24T13:11:30.628Z"
   },
   {
    "duration": 146,
    "start_time": "2023-02-24T13:11:33.237Z"
   },
   {
    "duration": 188,
    "start_time": "2023-02-24T13:11:35.340Z"
   },
   {
    "duration": 25,
    "start_time": "2023-02-24T13:11:39.615Z"
   },
   {
    "duration": 680,
    "start_time": "2023-02-24T13:11:42.717Z"
   },
   {
    "duration": 595,
    "start_time": "2023-02-24T13:11:46.429Z"
   },
   {
    "duration": 635,
    "start_time": "2023-02-24T13:11:47.856Z"
   },
   {
    "duration": 12,
    "start_time": "2023-02-24T13:11:50.979Z"
   },
   {
    "duration": 17,
    "start_time": "2023-02-24T13:11:52.420Z"
   },
   {
    "duration": 17,
    "start_time": "2023-02-24T13:11:53.930Z"
   },
   {
    "duration": 16,
    "start_time": "2023-02-24T13:14:27.990Z"
   },
   {
    "duration": 14,
    "start_time": "2023-02-24T13:41:00.572Z"
   },
   {
    "duration": 12,
    "start_time": "2023-02-24T13:41:15.184Z"
   },
   {
    "duration": 14,
    "start_time": "2023-02-24T13:41:52.690Z"
   },
   {
    "duration": 1495,
    "start_time": "2023-02-24T13:46:42.129Z"
   },
   {
    "duration": 395,
    "start_time": "2023-02-24T13:46:43.626Z"
   },
   {
    "duration": 55,
    "start_time": "2023-02-24T13:46:44.100Z"
   },
   {
    "duration": 49,
    "start_time": "2023-02-24T13:46:44.521Z"
   },
   {
    "duration": 47,
    "start_time": "2023-02-24T13:46:44.921Z"
   },
   {
    "duration": 60,
    "start_time": "2023-02-24T13:46:45.463Z"
   },
   {
    "duration": 16,
    "start_time": "2023-02-24T13:46:45.833Z"
   },
   {
    "duration": 17,
    "start_time": "2023-02-24T13:46:46.218Z"
   },
   {
    "duration": 147,
    "start_time": "2023-02-24T13:46:47.009Z"
   },
   {
    "duration": 185,
    "start_time": "2023-02-24T13:46:47.417Z"
   },
   {
    "duration": 27,
    "start_time": "2023-02-24T13:46:47.801Z"
   },
   {
    "duration": 746,
    "start_time": "2023-02-24T13:46:48.560Z"
   },
   {
    "duration": 646,
    "start_time": "2023-02-24T13:46:49.308Z"
   },
   {
    "duration": 657,
    "start_time": "2023-02-24T13:46:49.956Z"
   },
   {
    "duration": 12,
    "start_time": "2023-02-24T13:46:51.667Z"
   },
   {
    "duration": 18,
    "start_time": "2023-02-24T13:46:53.135Z"
   },
   {
    "duration": 17,
    "start_time": "2023-02-24T13:46:54.140Z"
   },
   {
    "duration": 17,
    "start_time": "2023-02-24T13:46:55.208Z"
   },
   {
    "duration": 276,
    "start_time": "2023-02-24T13:48:15.282Z"
   },
   {
    "duration": 3,
    "start_time": "2023-02-24T13:48:48.835Z"
   },
   {
    "duration": 18,
    "start_time": "2023-02-24T13:48:54.036Z"
   },
   {
    "duration": 18,
    "start_time": "2023-02-24T13:50:42.728Z"
   },
   {
    "duration": 17,
    "start_time": "2023-02-24T13:50:53.556Z"
   },
   {
    "duration": 17,
    "start_time": "2023-02-24T13:51:04.972Z"
   },
   {
    "duration": 18,
    "start_time": "2023-02-24T13:52:33.741Z"
   },
   {
    "duration": 18,
    "start_time": "2023-02-24T13:52:46.653Z"
   },
   {
    "duration": 23,
    "start_time": "2023-02-24T13:52:56.966Z"
   },
   {
    "duration": 16,
    "start_time": "2023-02-24T13:53:49.211Z"
   },
   {
    "duration": 17,
    "start_time": "2023-02-24T13:53:56.637Z"
   },
   {
    "duration": 17,
    "start_time": "2023-02-24T13:53:57.576Z"
   },
   {
    "duration": 16,
    "start_time": "2023-02-24T13:53:58.275Z"
   },
   {
    "duration": 18,
    "start_time": "2023-02-24T14:03:54.512Z"
   },
   {
    "duration": 93,
    "start_time": "2023-02-24T14:04:21.881Z"
   },
   {
    "duration": 12,
    "start_time": "2023-02-24T14:05:08.636Z"
   },
   {
    "duration": 1301,
    "start_time": "2023-02-24T14:07:35.657Z"
   },
   {
    "duration": 370,
    "start_time": "2023-02-24T14:07:37.966Z"
   },
   {
    "duration": 53,
    "start_time": "2023-02-24T14:07:39.271Z"
   },
   {
    "duration": 51,
    "start_time": "2023-02-24T14:07:39.976Z"
   },
   {
    "duration": 46,
    "start_time": "2023-02-24T14:07:40.622Z"
   },
   {
    "duration": 56,
    "start_time": "2023-02-24T14:07:42.222Z"
   },
   {
    "duration": 17,
    "start_time": "2023-02-24T14:07:43.865Z"
   },
   {
    "duration": 17,
    "start_time": "2023-02-24T14:07:44.949Z"
   },
   {
    "duration": 135,
    "start_time": "2023-02-24T14:07:48.758Z"
   },
   {
    "duration": 152,
    "start_time": "2023-02-24T14:07:50.951Z"
   },
   {
    "duration": 26,
    "start_time": "2023-02-24T14:08:00.146Z"
   },
   {
    "duration": 666,
    "start_time": "2023-02-24T14:08:06.031Z"
   },
   {
    "duration": 593,
    "start_time": "2023-02-24T14:08:41.751Z"
   },
   {
    "duration": 649,
    "start_time": "2023-02-24T14:09:09.135Z"
   },
   {
    "duration": 12,
    "start_time": "2023-02-24T14:09:41.592Z"
   },
   {
    "duration": 144,
    "start_time": "2023-02-24T14:09:58.136Z"
   },
   {
    "duration": 16,
    "start_time": "2023-02-24T14:10:06.804Z"
   },
   {
    "duration": 14,
    "start_time": "2023-02-24T14:10:30.185Z"
   },
   {
    "duration": 15,
    "start_time": "2023-02-24T14:10:51.377Z"
   },
   {
    "duration": 21,
    "start_time": "2023-02-24T14:11:51.985Z"
   },
   {
    "duration": 17,
    "start_time": "2023-02-24T14:11:57.392Z"
   },
   {
    "duration": 15,
    "start_time": "2023-02-24T14:11:59.377Z"
   },
   {
    "duration": 11,
    "start_time": "2023-02-24T14:12:18.090Z"
   },
   {
    "duration": 11,
    "start_time": "2023-02-24T15:00:57.754Z"
   },
   {
    "duration": 3,
    "start_time": "2023-02-24T15:01:11.385Z"
   },
   {
    "duration": 761,
    "start_time": "2023-02-24T15:01:19.361Z"
   },
   {
    "duration": 787,
    "start_time": "2023-02-24T15:04:10.336Z"
   },
   {
    "duration": 810,
    "start_time": "2023-02-24T15:05:16.018Z"
   },
   {
    "duration": 1291,
    "start_time": "2023-02-24T15:06:37.158Z"
   },
   {
    "duration": 370,
    "start_time": "2023-02-24T15:06:40.405Z"
   },
   {
    "duration": 47,
    "start_time": "2023-02-24T15:06:41.553Z"
   },
   {
    "duration": 45,
    "start_time": "2023-02-24T15:06:42.933Z"
   },
   {
    "duration": 43,
    "start_time": "2023-02-24T15:06:43.367Z"
   },
   {
    "duration": 51,
    "start_time": "2023-02-24T15:06:43.880Z"
   },
   {
    "duration": 14,
    "start_time": "2023-02-24T15:06:44.207Z"
   },
   {
    "duration": 16,
    "start_time": "2023-02-24T15:06:44.570Z"
   },
   {
    "duration": 124,
    "start_time": "2023-02-24T15:06:45.311Z"
   },
   {
    "duration": 163,
    "start_time": "2023-02-24T15:06:45.667Z"
   },
   {
    "duration": 27,
    "start_time": "2023-02-24T15:06:46.011Z"
   },
   {
    "duration": 661,
    "start_time": "2023-02-24T15:06:46.744Z"
   },
   {
    "duration": 591,
    "start_time": "2023-02-24T15:06:47.406Z"
   },
   {
    "duration": 573,
    "start_time": "2023-02-24T15:06:47.999Z"
   },
   {
    "duration": 10,
    "start_time": "2023-02-24T15:06:48.601Z"
   },
   {
    "duration": 14,
    "start_time": "2023-02-24T15:06:49.177Z"
   },
   {
    "duration": 15,
    "start_time": "2023-02-24T15:06:49.592Z"
   },
   {
    "duration": 13,
    "start_time": "2023-02-24T15:06:50.013Z"
   },
   {
    "duration": 962,
    "start_time": "2023-02-24T15:06:52.765Z"
   },
   {
    "duration": 1107,
    "start_time": "2023-02-24T15:07:55.323Z"
   },
   {
    "duration": 1214,
    "start_time": "2023-02-24T15:12:04.718Z"
   },
   {
    "duration": 1103,
    "start_time": "2023-02-24T15:12:13.719Z"
   },
   {
    "duration": 688,
    "start_time": "2023-02-24T15:12:51.284Z"
   },
   {
    "duration": 1011,
    "start_time": "2023-02-24T15:13:05.319Z"
   },
   {
    "duration": 937,
    "start_time": "2023-02-24T15:22:52.387Z"
   },
   {
    "duration": 698,
    "start_time": "2023-02-24T15:23:51.940Z"
   },
   {
    "duration": 1236,
    "start_time": "2023-02-24T15:24:38.387Z"
   },
   {
    "duration": 1061,
    "start_time": "2023-02-24T15:26:27.869Z"
   },
   {
    "duration": 3,
    "start_time": "2023-02-24T16:04:40.504Z"
   },
   {
    "duration": 9,
    "start_time": "2023-02-24T16:06:36.476Z"
   },
   {
    "duration": 4,
    "start_time": "2023-02-24T16:06:44.086Z"
   },
   {
    "duration": 4,
    "start_time": "2023-02-24T16:07:26.877Z"
   },
   {
    "duration": 4,
    "start_time": "2023-02-24T16:37:27.019Z"
   },
   {
    "duration": 8,
    "start_time": "2023-02-24T16:41:35.250Z"
   },
   {
    "duration": 2,
    "start_time": "2023-02-24T16:41:40.578Z"
   },
   {
    "duration": 3,
    "start_time": "2023-02-24T16:41:41.985Z"
   },
   {
    "duration": 4,
    "start_time": "2023-02-24T16:41:54.969Z"
   },
   {
    "duration": 11,
    "start_time": "2023-02-24T18:04:27.831Z"
   },
   {
    "duration": 5,
    "start_time": "2023-02-24T18:04:32.107Z"
   },
   {
    "duration": 5,
    "start_time": "2023-02-24T18:09:45.552Z"
   },
   {
    "duration": 3,
    "start_time": "2023-02-24T18:09:49.998Z"
   },
   {
    "duration": 12,
    "start_time": "2023-02-24T18:22:58.754Z"
   },
   {
    "duration": 3,
    "start_time": "2023-02-24T18:27:36.705Z"
   },
   {
    "duration": 4,
    "start_time": "2023-02-24T18:28:30.913Z"
   },
   {
    "duration": 4,
    "start_time": "2023-02-24T18:28:49.330Z"
   },
   {
    "duration": 11,
    "start_time": "2023-02-24T18:31:07.051Z"
   },
   {
    "duration": 88,
    "start_time": "2023-02-24T18:31:38.794Z"
   },
   {
    "duration": 14,
    "start_time": "2023-02-24T18:31:54.559Z"
   },
   {
    "duration": 13,
    "start_time": "2023-02-24T18:36:08.593Z"
   },
   {
    "duration": 19,
    "start_time": "2023-02-24T18:36:22.244Z"
   },
   {
    "duration": 1390,
    "start_time": "2023-02-24T18:37:10.663Z"
   },
   {
    "duration": 403,
    "start_time": "2023-02-24T18:37:13.134Z"
   },
   {
    "duration": 49,
    "start_time": "2023-02-24T18:37:17.958Z"
   },
   {
    "duration": 45,
    "start_time": "2023-02-24T18:37:18.958Z"
   },
   {
    "duration": 43,
    "start_time": "2023-02-24T18:37:19.688Z"
   },
   {
    "duration": 52,
    "start_time": "2023-02-24T18:37:20.810Z"
   },
   {
    "duration": 14,
    "start_time": "2023-02-24T18:37:21.502Z"
   },
   {
    "duration": 14,
    "start_time": "2023-02-24T18:37:22.086Z"
   },
   {
    "duration": 134,
    "start_time": "2023-02-24T18:37:23.558Z"
   },
   {
    "duration": 149,
    "start_time": "2023-02-24T18:37:24.166Z"
   },
   {
    "duration": 36,
    "start_time": "2023-02-24T18:37:25.073Z"
   },
   {
    "duration": 680,
    "start_time": "2023-02-24T18:37:26.582Z"
   },
   {
    "duration": 568,
    "start_time": "2023-02-24T18:37:27.265Z"
   },
   {
    "duration": 658,
    "start_time": "2023-02-24T18:37:27.835Z"
   },
   {
    "duration": 10,
    "start_time": "2023-02-24T18:37:29.967Z"
   },
   {
    "duration": 15,
    "start_time": "2023-02-24T18:37:31.111Z"
   },
   {
    "duration": 16,
    "start_time": "2023-02-24T18:37:31.720Z"
   },
   {
    "duration": 15,
    "start_time": "2023-02-24T18:37:32.278Z"
   },
   {
    "duration": 1340,
    "start_time": "2023-02-24T18:37:36.484Z"
   },
   {
    "duration": 998,
    "start_time": "2023-02-24T18:37:37.830Z"
   },
   {
    "duration": 1194,
    "start_time": "2023-02-24T18:37:38.835Z"
   },
   {
    "duration": 102,
    "start_time": "2023-02-24T18:37:40.031Z"
   },
   {
    "duration": 4,
    "start_time": "2023-02-24T18:37:41.117Z"
   },
   {
    "duration": 3,
    "start_time": "2023-02-24T18:37:41.886Z"
   },
   {
    "duration": 4,
    "start_time": "2023-02-24T18:37:42.901Z"
   },
   {
    "duration": 4,
    "start_time": "2023-02-24T18:37:43.646Z"
   },
   {
    "duration": 4,
    "start_time": "2023-02-24T18:37:44.041Z"
   },
   {
    "duration": 12,
    "start_time": "2023-02-24T18:37:46.158Z"
   },
   {
    "duration": 14,
    "start_time": "2023-02-24T18:37:47.351Z"
   },
   {
    "duration": 5,
    "start_time": "2023-02-24T18:42:47.650Z"
   },
   {
    "duration": 5,
    "start_time": "2023-02-24T18:43:19.032Z"
   },
   {
    "duration": 103,
    "start_time": "2023-02-24T18:43:23.851Z"
   },
   {
    "duration": 5,
    "start_time": "2023-02-24T18:43:31.070Z"
   },
   {
    "duration": 72,
    "start_time": "2023-02-24T18:44:17.466Z"
   },
   {
    "duration": 85,
    "start_time": "2023-02-24T18:44:35.931Z"
   },
   {
    "duration": 12,
    "start_time": "2023-02-24T18:48:12.334Z"
   },
   {
    "duration": 6,
    "start_time": "2023-02-24T18:48:36.960Z"
   },
   {
    "duration": 4,
    "start_time": "2023-02-24T18:49:33.599Z"
   },
   {
    "duration": 5,
    "start_time": "2023-02-24T18:49:39.343Z"
   },
   {
    "duration": 6,
    "start_time": "2023-02-24T18:50:12.143Z"
   },
   {
    "duration": 919,
    "start_time": "2023-02-24T18:50:28.206Z"
   },
   {
    "duration": 636,
    "start_time": "2023-02-24T18:50:31.102Z"
   },
   {
    "duration": 885,
    "start_time": "2023-02-24T18:50:32.042Z"
   },
   {
    "duration": 15,
    "start_time": "2023-02-24T18:50:33.511Z"
   },
   {
    "duration": 3,
    "start_time": "2023-02-24T18:50:39.191Z"
   },
   {
    "duration": 4,
    "start_time": "2023-02-24T18:50:40.087Z"
   },
   {
    "duration": 4,
    "start_time": "2023-02-24T18:50:41.064Z"
   },
   {
    "duration": 5,
    "start_time": "2023-02-24T18:50:41.907Z"
   },
   {
    "duration": 6,
    "start_time": "2023-02-24T18:50:42.431Z"
   },
   {
    "duration": 4,
    "start_time": "2023-02-24T18:50:49.456Z"
   },
   {
    "duration": 14,
    "start_time": "2023-02-24T18:50:57.066Z"
   },
   {
    "duration": 17,
    "start_time": "2023-02-24T18:51:02.484Z"
   },
   {
    "duration": 3,
    "start_time": "2023-02-24T18:56:27.013Z"
   },
   {
    "duration": 106,
    "start_time": "2023-02-24T19:03:47.922Z"
   },
   {
    "duration": 1053,
    "start_time": "2023-02-24T19:59:19.271Z"
   },
   {
    "duration": 643,
    "start_time": "2023-02-24T20:13:20.579Z"
   },
   {
    "duration": 444,
    "start_time": "2023-02-24T20:13:36.499Z"
   },
   {
    "duration": 927,
    "start_time": "2023-02-24T20:13:49.201Z"
   },
   {
    "duration": 88,
    "start_time": "2023-02-24T20:15:18.921Z"
   },
   {
    "duration": 1419,
    "start_time": "2023-02-24T20:15:32.135Z"
   },
   {
    "duration": 393,
    "start_time": "2023-02-24T20:15:33.556Z"
   },
   {
    "duration": 60,
    "start_time": "2023-02-24T20:15:34.569Z"
   },
   {
    "duration": 51,
    "start_time": "2023-02-24T20:15:34.962Z"
   },
   {
    "duration": 41,
    "start_time": "2023-02-24T20:15:35.361Z"
   },
   {
    "duration": 58,
    "start_time": "2023-02-24T20:15:35.920Z"
   },
   {
    "duration": 22,
    "start_time": "2023-02-24T20:15:36.323Z"
   },
   {
    "duration": 22,
    "start_time": "2023-02-24T20:15:36.713Z"
   },
   {
    "duration": 132,
    "start_time": "2023-02-24T20:15:37.457Z"
   },
   {
    "duration": 169,
    "start_time": "2023-02-24T20:15:37.842Z"
   },
   {
    "duration": 30,
    "start_time": "2023-02-24T20:15:38.227Z"
   },
   {
    "duration": 735,
    "start_time": "2023-02-24T20:15:39.017Z"
   },
   {
    "duration": 654,
    "start_time": "2023-02-24T20:15:39.754Z"
   },
   {
    "duration": 604,
    "start_time": "2023-02-24T20:15:40.410Z"
   },
   {
    "duration": 12,
    "start_time": "2023-02-24T20:15:42.072Z"
   },
   {
    "duration": 15,
    "start_time": "2023-02-24T20:15:43.360Z"
   },
   {
    "duration": 21,
    "start_time": "2023-02-24T20:15:43.920Z"
   },
   {
    "duration": 19,
    "start_time": "2023-02-24T20:15:44.474Z"
   },
   {
    "duration": 831,
    "start_time": "2023-02-24T20:15:46.410Z"
   },
   {
    "duration": 78,
    "start_time": "2023-02-24T20:16:01.657Z"
   },
   {
    "duration": 992,
    "start_time": "2023-02-24T20:16:47.441Z"
   },
   {
    "duration": 512,
    "start_time": "2023-02-24T20:18:12.323Z"
   },
   {
    "duration": 439,
    "start_time": "2023-02-24T20:18:36.185Z"
   },
   {
    "duration": 854,
    "start_time": "2023-02-24T20:19:02.076Z"
   },
   {
    "duration": 1015,
    "start_time": "2023-02-24T20:19:40.741Z"
   },
   {
    "duration": 474,
    "start_time": "2023-02-24T20:21:07.669Z"
   },
   {
    "duration": 629,
    "start_time": "2023-02-24T20:21:26.612Z"
   },
   {
    "duration": 798,
    "start_time": "2023-02-24T20:22:23.237Z"
   },
   {
    "duration": 1496,
    "start_time": "2023-02-24T20:33:20.151Z"
   },
   {
    "duration": 852,
    "start_time": "2023-02-24T20:33:49.988Z"
   },
   {
    "duration": 1118,
    "start_time": "2023-02-24T20:34:52.206Z"
   },
   {
    "duration": 870,
    "start_time": "2023-02-24T20:36:34.259Z"
   },
   {
    "duration": 1097,
    "start_time": "2023-02-24T20:38:35.641Z"
   },
   {
    "duration": 1270,
    "start_time": "2023-02-24T20:39:21.856Z"
   },
   {
    "duration": 400,
    "start_time": "2023-02-24T20:41:58.934Z"
   },
   {
    "duration": 1400,
    "start_time": "2023-02-24T20:43:11.686Z"
   },
   {
    "duration": 446,
    "start_time": "2023-02-24T20:43:14.141Z"
   },
   {
    "duration": 50,
    "start_time": "2023-02-24T20:43:16.037Z"
   },
   {
    "duration": 61,
    "start_time": "2023-02-24T20:43:16.633Z"
   },
   {
    "duration": 50,
    "start_time": "2023-02-24T20:43:17.188Z"
   },
   {
    "duration": 50,
    "start_time": "2023-02-24T20:43:18.842Z"
   },
   {
    "duration": 14,
    "start_time": "2023-02-24T20:43:19.465Z"
   },
   {
    "duration": 15,
    "start_time": "2023-02-24T20:43:20.236Z"
   },
   {
    "duration": 126,
    "start_time": "2023-02-24T20:43:21.993Z"
   },
   {
    "duration": 153,
    "start_time": "2023-02-24T20:43:22.874Z"
   },
   {
    "duration": 25,
    "start_time": "2023-02-24T20:43:23.866Z"
   },
   {
    "duration": 662,
    "start_time": "2023-02-24T20:43:25.531Z"
   },
   {
    "duration": 602,
    "start_time": "2023-02-24T20:43:27.186Z"
   },
   {
    "duration": 599,
    "start_time": "2023-02-24T20:43:28.682Z"
   },
   {
    "duration": 12,
    "start_time": "2023-02-24T20:43:32.089Z"
   },
   {
    "duration": 15,
    "start_time": "2023-02-24T20:43:33.873Z"
   },
   {
    "duration": 15,
    "start_time": "2023-02-24T20:43:35.042Z"
   },
   {
    "duration": 14,
    "start_time": "2023-02-24T20:43:37.281Z"
   },
   {
    "duration": 697,
    "start_time": "2023-02-24T20:43:39.754Z"
   },
   {
    "duration": 778,
    "start_time": "2023-02-24T20:44:03.860Z"
   },
   {
    "duration": 672,
    "start_time": "2023-02-24T20:44:33.655Z"
   },
   {
    "duration": 564,
    "start_time": "2023-02-24T20:45:00.372Z"
   },
   {
    "duration": 105,
    "start_time": "2023-02-24T20:45:08.603Z"
   },
   {
    "duration": 19,
    "start_time": "2023-02-24T20:45:22.812Z"
   },
   {
    "duration": 8,
    "start_time": "2023-02-24T20:45:28.837Z"
   },
   {
    "duration": 4,
    "start_time": "2023-02-24T20:45:32.708Z"
   },
   {
    "duration": 4,
    "start_time": "2023-02-24T20:45:35.850Z"
   },
   {
    "duration": 8,
    "start_time": "2023-02-24T20:45:38.540Z"
   },
   {
    "duration": 5,
    "start_time": "2023-02-24T20:45:53.019Z"
   },
   {
    "duration": 4,
    "start_time": "2023-02-24T21:24:16.007Z"
   },
   {
    "duration": 5,
    "start_time": "2023-02-24T21:24:19.838Z"
   },
   {
    "duration": 3,
    "start_time": "2023-02-24T21:24:25.443Z"
   },
   {
    "duration": 14,
    "start_time": "2023-02-24T21:24:28.269Z"
   },
   {
    "duration": 821,
    "start_time": "2023-02-24T21:26:21.004Z"
   },
   {
    "duration": 692,
    "start_time": "2023-02-24T21:26:30.942Z"
   },
   {
    "duration": 1501,
    "start_time": "2023-02-24T21:28:13.480Z"
   },
   {
    "duration": 430,
    "start_time": "2023-02-24T21:28:15.367Z"
   },
   {
    "duration": 62,
    "start_time": "2023-02-24T21:28:17.195Z"
   },
   {
    "duration": 44,
    "start_time": "2023-02-24T21:28:18.039Z"
   },
   {
    "duration": 46,
    "start_time": "2023-02-24T21:28:18.900Z"
   },
   {
    "duration": 88,
    "start_time": "2023-02-24T21:28:20.181Z"
   },
   {
    "duration": 16,
    "start_time": "2023-02-24T21:28:21.086Z"
   },
   {
    "duration": 16,
    "start_time": "2023-02-24T21:28:21.962Z"
   },
   {
    "duration": 148,
    "start_time": "2023-02-24T21:28:23.881Z"
   },
   {
    "duration": 290,
    "start_time": "2023-02-24T21:28:25.040Z"
   },
   {
    "duration": 24,
    "start_time": "2023-02-24T21:28:27.361Z"
   },
   {
    "duration": 720,
    "start_time": "2023-02-24T21:28:30.741Z"
   },
   {
    "duration": 594,
    "start_time": "2023-02-24T21:28:36.145Z"
   },
   {
    "duration": 629,
    "start_time": "2023-02-24T21:28:37.866Z"
   },
   {
    "duration": 11,
    "start_time": "2023-02-24T21:28:41.465Z"
   },
   {
    "duration": 15,
    "start_time": "2023-02-24T21:28:42.907Z"
   },
   {
    "duration": 20,
    "start_time": "2023-02-24T21:28:45.120Z"
   },
   {
    "duration": 20,
    "start_time": "2023-02-24T21:28:46.418Z"
   },
   {
    "duration": 671,
    "start_time": "2023-02-24T21:28:54.354Z"
   },
   {
    "duration": 672,
    "start_time": "2023-02-24T21:28:59.870Z"
   },
   {
    "duration": 754,
    "start_time": "2023-02-24T21:29:01.882Z"
   },
   {
    "duration": 13,
    "start_time": "2023-02-24T21:29:04.570Z"
   },
   {
    "duration": 3,
    "start_time": "2023-02-24T21:29:08.658Z"
   },
   {
    "duration": 4,
    "start_time": "2023-02-24T21:29:10.899Z"
   },
   {
    "duration": 4,
    "start_time": "2023-02-24T21:29:13.240Z"
   },
   {
    "duration": 5,
    "start_time": "2023-02-24T21:29:14.217Z"
   },
   {
    "duration": 5,
    "start_time": "2023-02-24T21:29:14.954Z"
   },
   {
    "duration": 4,
    "start_time": "2023-02-24T21:29:18.504Z"
   },
   {
    "duration": 28,
    "start_time": "2023-02-24T21:29:19.250Z"
   },
   {
    "duration": 4,
    "start_time": "2023-02-24T21:43:30.340Z"
   },
   {
    "duration": 5,
    "start_time": "2023-02-24T21:43:32.521Z"
   },
   {
    "duration": 5,
    "start_time": "2023-02-24T21:43:34.597Z"
   },
   {
    "duration": 4,
    "start_time": "2023-02-24T21:44:21.326Z"
   },
   {
    "duration": 3,
    "start_time": "2023-02-24T21:44:37.118Z"
   },
   {
    "duration": 4,
    "start_time": "2023-02-24T21:45:09.008Z"
   },
   {
    "duration": 5,
    "start_time": "2023-02-24T21:45:23.068Z"
   },
   {
    "duration": 17,
    "start_time": "2023-02-24T21:46:21.776Z"
   },
   {
    "duration": 1305,
    "start_time": "2023-02-24T21:47:50.592Z"
   },
   {
    "duration": 4,
    "start_time": "2023-02-24T22:06:39.515Z"
   },
   {
    "duration": 18,
    "start_time": "2023-02-24T22:06:44.067Z"
   },
   {
    "duration": 12,
    "start_time": "2023-02-24T22:10:00.582Z"
   },
   {
    "duration": 4,
    "start_time": "2023-02-24T22:10:08.677Z"
   },
   {
    "duration": 4,
    "start_time": "2023-02-24T22:10:14.277Z"
   },
   {
    "duration": 5,
    "start_time": "2023-02-24T22:38:19.516Z"
   },
   {
    "duration": 3,
    "start_time": "2023-02-24T22:54:04.255Z"
   },
   {
    "duration": 4,
    "start_time": "2023-02-24T22:54:07.179Z"
   },
   {
    "duration": 4,
    "start_time": "2023-02-24T22:54:08.837Z"
   },
   {
    "duration": 3,
    "start_time": "2023-02-24T22:54:10.119Z"
   },
   {
    "duration": 4,
    "start_time": "2023-02-24T22:54:13.558Z"
   },
   {
    "duration": 18,
    "start_time": "2023-02-24T22:54:15.774Z"
   },
   {
    "duration": 3,
    "start_time": "2023-02-24T22:54:18.758Z"
   },
   {
    "duration": 10,
    "start_time": "2023-02-24T22:54:51.599Z"
   },
   {
    "duration": 10,
    "start_time": "2023-02-24T22:56:02.607Z"
   },
   {
    "duration": 20,
    "start_time": "2023-02-24T22:56:16.649Z"
   },
   {
    "duration": 7,
    "start_time": "2023-02-24T22:57:00.130Z"
   },
   {
    "duration": 25,
    "start_time": "2023-02-24T22:57:08.200Z"
   },
   {
    "duration": 6,
    "start_time": "2023-02-24T22:57:46.257Z"
   },
   {
    "duration": 1344,
    "start_time": "2023-02-24T22:57:47.297Z"
   },
   {
    "duration": 6,
    "start_time": "2023-02-24T22:58:17.369Z"
   },
   {
    "duration": 9,
    "start_time": "2023-02-24T22:58:21.477Z"
   },
   {
    "duration": 4154,
    "start_time": "2023-02-24T22:58:21.986Z"
   },
   {
    "duration": 2420,
    "start_time": "2023-02-24T23:03:12.696Z"
   },
   {
    "duration": 1414,
    "start_time": "2023-02-24T23:03:15.119Z"
   },
   {
    "duration": 435,
    "start_time": "2023-02-24T23:03:16.537Z"
   },
   {
    "duration": 68,
    "start_time": "2023-02-24T23:03:16.974Z"
   },
   {
    "duration": 50,
    "start_time": "2023-02-24T23:03:17.044Z"
   },
   {
    "duration": 70,
    "start_time": "2023-02-24T23:03:17.096Z"
   },
   {
    "duration": 88,
    "start_time": "2023-02-24T23:03:17.169Z"
   },
   {
    "duration": 15,
    "start_time": "2023-02-24T23:03:17.259Z"
   },
   {
    "duration": 16,
    "start_time": "2023-02-24T23:03:17.277Z"
   },
   {
    "duration": 220,
    "start_time": "2023-02-24T23:03:17.295Z"
   },
   {
    "duration": 225,
    "start_time": "2023-02-24T23:03:17.518Z"
   },
   {
    "duration": 32,
    "start_time": "2023-02-24T23:03:17.745Z"
   },
   {
    "duration": 821,
    "start_time": "2023-02-24T23:03:17.779Z"
   },
   {
    "duration": 597,
    "start_time": "2023-02-24T23:03:18.602Z"
   },
   {
    "duration": 613,
    "start_time": "2023-02-24T23:03:19.201Z"
   },
   {
    "duration": 14,
    "start_time": "2023-02-24T23:03:19.821Z"
   },
   {
    "duration": 18,
    "start_time": "2023-02-24T23:03:19.838Z"
   },
   {
    "duration": 18,
    "start_time": "2023-02-24T23:03:19.858Z"
   },
   {
    "duration": 19,
    "start_time": "2023-02-24T23:03:19.878Z"
   },
   {
    "duration": 837,
    "start_time": "2023-02-24T23:03:19.898Z"
   },
   {
    "duration": 797,
    "start_time": "2023-02-24T23:03:20.738Z"
   },
   {
    "duration": 692,
    "start_time": "2023-02-24T23:03:21.548Z"
   },
   {
    "duration": 100,
    "start_time": "2023-02-24T23:03:22.248Z"
   },
   {
    "duration": 8,
    "start_time": "2023-02-24T23:03:22.355Z"
   },
   {
    "duration": 58,
    "start_time": "2023-02-24T23:03:22.364Z"
   },
   {
    "duration": 20,
    "start_time": "2023-02-24T23:03:22.429Z"
   },
   {
    "duration": 4,
    "start_time": "2023-02-24T23:03:22.452Z"
   },
   {
    "duration": 6,
    "start_time": "2023-02-24T23:03:22.457Z"
   },
   {
    "duration": 8,
    "start_time": "2023-02-24T23:03:22.464Z"
   },
   {
    "duration": 29,
    "start_time": "2023-02-24T23:03:22.473Z"
   },
   {
    "duration": 3,
    "start_time": "2023-02-24T23:03:22.503Z"
   },
   {
    "duration": 24,
    "start_time": "2023-02-24T23:03:22.508Z"
   },
   {
    "duration": 4304,
    "start_time": "2023-02-24T23:03:22.535Z"
   },
   {
    "duration": 4,
    "start_time": "2023-02-24T23:26:33.107Z"
   },
   {
    "duration": 3054,
    "start_time": "2023-02-25T14:43:54.781Z"
   },
   {
    "duration": 2109,
    "start_time": "2023-02-25T14:43:57.837Z"
   },
   {
    "duration": 330,
    "start_time": "2023-02-25T14:43:59.948Z"
   },
   {
    "duration": 63,
    "start_time": "2023-02-25T14:44:00.280Z"
   },
   {
    "duration": 52,
    "start_time": "2023-02-25T14:44:00.346Z"
   },
   {
    "duration": 65,
    "start_time": "2023-02-25T14:44:00.400Z"
   },
   {
    "duration": 88,
    "start_time": "2023-02-25T14:44:00.467Z"
   },
   {
    "duration": 15,
    "start_time": "2023-02-25T14:44:00.557Z"
   },
   {
    "duration": 17,
    "start_time": "2023-02-25T14:44:00.574Z"
   },
   {
    "duration": 178,
    "start_time": "2023-02-25T14:44:00.594Z"
   },
   {
    "duration": 208,
    "start_time": "2023-02-25T14:44:00.774Z"
   },
   {
    "duration": 22,
    "start_time": "2023-02-25T14:44:00.984Z"
   },
   {
    "duration": 683,
    "start_time": "2023-02-25T14:44:01.008Z"
   },
   {
    "duration": 625,
    "start_time": "2023-02-25T14:44:01.693Z"
   },
   {
    "duration": 621,
    "start_time": "2023-02-25T14:44:02.320Z"
   },
   {
    "duration": 10,
    "start_time": "2023-02-25T14:44:02.943Z"
   },
   {
    "duration": 18,
    "start_time": "2023-02-25T14:44:02.955Z"
   },
   {
    "duration": 25,
    "start_time": "2023-02-25T14:44:02.974Z"
   },
   {
    "duration": 18,
    "start_time": "2023-02-25T14:44:03.000Z"
   },
   {
    "duration": 429,
    "start_time": "2023-02-25T14:44:03.020Z"
   },
   {
    "duration": 689,
    "start_time": "2023-02-25T14:44:03.450Z"
   },
   {
    "duration": 598,
    "start_time": "2023-02-25T14:44:04.144Z"
   },
   {
    "duration": 92,
    "start_time": "2023-02-25T14:44:04.747Z"
   },
   {
    "duration": 5,
    "start_time": "2023-02-25T14:44:04.841Z"
   },
   {
    "duration": 90,
    "start_time": "2023-02-25T14:44:04.848Z"
   },
   {
    "duration": 14,
    "start_time": "2023-02-25T14:44:04.939Z"
   },
   {
    "duration": 25,
    "start_time": "2023-02-25T14:44:04.955Z"
   },
   {
    "duration": 5,
    "start_time": "2023-02-25T14:44:04.983Z"
   },
   {
    "duration": 4,
    "start_time": "2023-02-25T14:44:04.990Z"
   },
   {
    "duration": 22,
    "start_time": "2023-02-25T14:44:04.995Z"
   },
   {
    "duration": 3,
    "start_time": "2023-02-25T14:44:05.018Z"
   },
   {
    "duration": 14,
    "start_time": "2023-02-25T14:44:05.023Z"
   },
   {
    "duration": 4023,
    "start_time": "2023-02-25T14:44:05.039Z"
   }
  ],
  "kernelspec": {
   "display_name": "Python 3 (ipykernel)",
   "language": "python",
   "name": "python3"
  },
  "language_info": {
   "codemirror_mode": {
    "name": "ipython",
    "version": 3
   },
   "file_extension": ".py",
   "mimetype": "text/x-python",
   "name": "python",
   "nbconvert_exporter": "python",
   "pygments_lexer": "ipython3",
   "version": "3.9.13"
  },
  "toc": {
   "base_numbering": 1,
   "nav_menu": {},
   "number_sections": true,
   "sideBar": true,
   "skip_h1_title": true,
   "title_cell": "Table of Contents",
   "title_sidebar": "Contents",
   "toc_cell": false,
   "toc_position": {
    "height": "calc(100% - 180px)",
    "left": "10px",
    "top": "150px",
    "width": "261.458px"
   },
   "toc_section_display": true,
   "toc_window_display": true
  }
 },
 "nbformat": 4,
 "nbformat_minor": 2
}
