{
 "cells": [
  {
   "cell_type": "markdown",
   "metadata": {
    "toc": true
   },
   "source": [
    "<h1>Содержание<span class=\"tocSkip\"></span></h1>\n",
    "<div class=\"toc\"><ul class=\"toc-item\"><li><span><a href=\"#Подготовка-данных\" data-toc-modified-id=\"Подготовка-данных-1\"><span class=\"toc-item-num\">1&nbsp;&nbsp;</span>Подготовка данных</a></span><ul class=\"toc-item\"><li><span><a href=\"#Изучение-данных\" data-toc-modified-id=\"Изучение-данных-1.1\"><span class=\"toc-item-num\">1.1&nbsp;&nbsp;</span>Изучение данных</a></span></li><li><span><a href=\"#Проверка-расчета-эффективности-обогащения\" data-toc-modified-id=\"Проверка-расчета-эффективности-обогащения-1.2\"><span class=\"toc-item-num\">1.2&nbsp;&nbsp;</span>Проверка расчета эффективности обогащения</a></span></li><li><span><a href=\"#Анализ-признаков,-недоступных-в-тестовой-выборке\" data-toc-modified-id=\"Анализ-признаков,-недоступных-в-тестовой-выборке-1.3\"><span class=\"toc-item-num\">1.3&nbsp;&nbsp;</span>Анализ признаков, недоступных в тестовой выборке</a></span></li><li><span><a href=\"#Предобработка-данных\" data-toc-modified-id=\"Предобработка-данных-1.4\"><span class=\"toc-item-num\">1.4&nbsp;&nbsp;</span>Предобработка данных</a></span><ul class=\"toc-item\"><li><span><a href=\"#Cтолбцы,-различающиеся-в-тестовой-и-обучающей-выборках\" data-toc-modified-id=\"Cтолбцы,-различающиеся-в-тестовой-и-обучающей-выборках-1.4.1\"><span class=\"toc-item-num\">1.4.1&nbsp;&nbsp;</span>Cтолбцы, различающиеся в тестовой и обучающей выборках</a></span></li><li><span><a href=\"#Работа-с-пропусками-в-данных\" data-toc-modified-id=\"Работа-с-пропусками-в-данных-1.4.2\"><span class=\"toc-item-num\">1.4.2&nbsp;&nbsp;</span>Работа с пропусками в данных</a></span></li><li><span><a href=\"#Проверка-на-дубликаты\" data-toc-modified-id=\"Проверка-на-дубликаты-1.4.3\"><span class=\"toc-item-num\">1.4.3&nbsp;&nbsp;</span>Проверка на дубликаты</a></span></li><li><span><a href=\"#Размеры-обучайющей-и-тестовой-выборок\" data-toc-modified-id=\"Размеры-обучайющей-и-тестовой-выборок-1.4.4\"><span class=\"toc-item-num\">1.4.4&nbsp;&nbsp;</span>Размеры обучайющей и тестовой выборок</a></span></li></ul></li><li><span><a href=\"#Вывод\" data-toc-modified-id=\"Вывод-1.5\"><span class=\"toc-item-num\">1.5&nbsp;&nbsp;</span>Вывод</a></span></li></ul></li><li><span><a href=\"#Анализ-данных\" data-toc-modified-id=\"Анализ-данных-2\"><span class=\"toc-item-num\">2&nbsp;&nbsp;</span>Анализ данных</a></span><ul class=\"toc-item\"><li><span><a href=\"#Изменения-концентрации-металлов-(Au,-Ag,-Pb)-на-различных-этапах-очистки\" data-toc-modified-id=\"Изменения-концентрации-металлов-(Au,-Ag,-Pb)-на-различных-этапах-очистки-2.1\"><span class=\"toc-item-num\">2.1&nbsp;&nbsp;</span>Изменения концентрации металлов (Au, Ag, Pb) на различных этапах очистки</a></span></li><li><span><a href=\"#Сравнение-распределения-размеров-гранул-сырья-на-обучающей-и-тестовой-выборках\" data-toc-modified-id=\"Сравнение-распределения-размеров-гранул-сырья-на-обучающей-и-тестовой-выборках-2.2\"><span class=\"toc-item-num\">2.2&nbsp;&nbsp;</span>Сравнение распределения размеров гранул сырья на обучающей и тестовой выборках</a></span></li><li><span><a href=\"#Исследование-суммарной-концентрации-всех-веществ-на-разных-стадиях\" data-toc-modified-id=\"Исследование-суммарной-концентрации-всех-веществ-на-разных-стадиях-2.3\"><span class=\"toc-item-num\">2.3&nbsp;&nbsp;</span>Исследование суммарной концентрации всех веществ на разных стадиях</a></span></li><li><span><a href=\"#Вывод\" data-toc-modified-id=\"Вывод-2.4\"><span class=\"toc-item-num\">2.4&nbsp;&nbsp;</span>Вывод</a></span></li></ul></li><li><span><a href=\"#Модель\" data-toc-modified-id=\"Модель-3\"><span class=\"toc-item-num\">3&nbsp;&nbsp;</span>Модель</a></span><ul class=\"toc-item\"><li><span><a href=\"#Последние-приготовления-перед-ML\" data-toc-modified-id=\"Последние-приготовления-перед-ML-3.1\"><span class=\"toc-item-num\">3.1&nbsp;&nbsp;</span>Последние приготовления перед ML</a></span></li><li><span><a href=\"#Разбивка-данных\" data-toc-modified-id=\"Разбивка-данных-3.2\"><span class=\"toc-item-num\">3.2&nbsp;&nbsp;</span>Разбивка данных</a></span></li><li><span><a href=\"#Масштабирование-признаков\" data-toc-modified-id=\"Масштабирование-признаков-3.3\"><span class=\"toc-item-num\">3.3&nbsp;&nbsp;</span>Масштабирование признаков</a></span></li><li><span><a href=\"#Выбор-модели\" data-toc-modified-id=\"Выбор-модели-3.4\"><span class=\"toc-item-num\">3.4&nbsp;&nbsp;</span>Выбор модели</a></span><ul class=\"toc-item\"><li><span><a href=\"#Дерево-решений\" data-toc-modified-id=\"Дерево-решений-3.4.1\"><span class=\"toc-item-num\">3.4.1&nbsp;&nbsp;</span>Дерево решений</a></span></li><li><span><a href=\"#Случайный-лес\" data-toc-modified-id=\"Случайный-лес-3.4.2\"><span class=\"toc-item-num\">3.4.2&nbsp;&nbsp;</span>Случайный лес</a></span></li><li><span><a href=\"#Линейная-регрессия\" data-toc-modified-id=\"Линейная-регрессия-3.4.3\"><span class=\"toc-item-num\">3.4.3&nbsp;&nbsp;</span>Линейная регрессия</a></span></li><li><span><a href=\"#Лучшая-модель-для-предсказаний-на-финальном-этапе\" data-toc-modified-id=\"Лучшая-модель-для-предсказаний-на-финальном-этапе-3.4.4\"><span class=\"toc-item-num\">3.4.4&nbsp;&nbsp;</span>Лучшая модель для предсказаний на финальном этапе</a></span></li></ul></li><li><span><a href=\"#Предсказания-на-тестовых-данных\" data-toc-modified-id=\"Предсказания-на-тестовых-данных-3.5\"><span class=\"toc-item-num\">3.5&nbsp;&nbsp;</span>Предсказания на тестовых данных</a></span></li><li><span><a href=\"#Проверка-модели-на-адекватность\" data-toc-modified-id=\"Проверка-модели-на-адекватность-3.6\"><span class=\"toc-item-num\">3.6&nbsp;&nbsp;</span>Проверка модели на адекватность</a></span></li><li><span><a href=\"#Вывод\" data-toc-modified-id=\"Вывод-3.7\"><span class=\"toc-item-num\">3.7&nbsp;&nbsp;</span>Вывод</a></span></li></ul></li><li><span><a href=\"#Вывод\" data-toc-modified-id=\"Вывод-4\"><span class=\"toc-item-num\">4&nbsp;&nbsp;</span>Вывод</a></span></li></ul></div>"
   ]
  },
  {
   "cell_type": "markdown",
   "metadata": {},
   "source": [
    "# Восстановление золота из руды"
   ]
  },
  {
   "cell_type": "markdown",
   "metadata": {},
   "source": [
    "Подготовьте прототип модели машинного обучения для «Цифры». Компания разрабатывает решения для эффективной работы промышленных предприятий.\n",
    "\n",
    "Модель должна предсказать коэффициент восстановления золота из золотосодержащей руды. Используйте данные с параметрами добычи и очистки. \n",
    "\n",
    "Модель поможет оптимизировать производство, чтобы не запускать предприятие с убыточными характеристиками.\n",
    "\n",
    "Вам нужно:\n",
    "\n",
    "1. Подготовить данные;\n",
    "2. Провести исследовательский анализ данных;\n",
    "3. Построить и обучить модель.\n",
    "\n",
    "Чтобы выполнить проект, обращайтесь к библиотекам *pandas*, *matplotlib* и *sklearn.* Вам поможет их документация."
   ]
  },
  {
   "cell_type": "markdown",
   "metadata": {},
   "source": [
    "## Подготовка данных"
   ]
  },
  {
   "cell_type": "markdown",
   "metadata": {},
   "source": [
    "Импортируем необходимые библиотеки"
   ]
  },
  {
   "cell_type": "code",
   "execution_count": 1,
   "metadata": {},
   "outputs": [],
   "source": [
    "import pandas as pd\n",
    "import numpy as np\n",
    "import seaborn as sns\n",
    "import matplotlib.pyplot as plt\n",
    "\n",
    "from sklearn.metrics import mean_absolute_error\n",
    "from sklearn.metrics import make_scorer\n",
    "from sklearn.model_selection import GridSearchCV\n",
    "from sklearn.model_selection import cross_val_score\n",
    "from sklearn.preprocessing import StandardScaler\n",
    "\n",
    "from sklearn.tree import DecisionTreeRegressor\n",
    "from sklearn.ensemble import RandomForestRegressor\n",
    "from sklearn.linear_model import LinearRegression\n",
    "from sklearn.dummy import DummyRegressor\n",
    "\n",
    "import warnings\n",
    "warnings.filterwarnings(\"ignore\")"
   ]
  },
  {
   "cell_type": "markdown",
   "metadata": {},
   "source": [
    "**Константы для расчетов**"
   ]
  },
  {
   "cell_type": "code",
   "execution_count": 2,
   "metadata": {},
   "outputs": [],
   "source": [
    "SEED = 12345\n",
    "\n",
    "# переменные хранят названия столбцов с целевыми признаками\n",
    "target_rougher = 'rougher.output.recovery' \n",
    "target_final = 'final.output.recovery'\n",
    "target_cols = [target_rougher, target_final]"
   ]
  },
  {
   "cell_type": "markdown",
   "metadata": {},
   "source": [
    "Данные находятся в трёх файлах:  \n",
    "gold_recovery_train_new.csv — обучающая выборка;  \n",
    "gold_recovery_test_new.csv — тестовая выборка;  \n",
    "gold_recovery_full_new.csv — исходные данные.  \n",
    "Загрузим их."
   ]
  },
  {
   "cell_type": "code",
   "execution_count": 3,
   "metadata": {},
   "outputs": [],
   "source": [
    "train = pd.read_csv('/datasets/gold_recovery_train_new.csv', index_col='date')\n",
    "test = pd.read_csv('/datasets/gold_recovery_test_new.csv', index_col='date')\n",
    "full_data = pd.read_csv('/datasets/gold_recovery_full_new.csv', index_col='date')"
   ]
  },
  {
   "cell_type": "markdown",
   "metadata": {},
   "source": [
    "### Изучение данных"
   ]
  },
  {
   "cell_type": "markdown",
   "metadata": {},
   "source": [
    "**Обучающая выборка**"
   ]
  },
  {
   "cell_type": "code",
   "execution_count": 4,
   "metadata": {},
   "outputs": [
    {
     "name": "stdout",
     "output_type": "stream",
     "text": [
      "Первые строки:\n"
     ]
    },
    {
     "data": {
      "text/html": [
       "<div>\n",
       "<style scoped>\n",
       "    .dataframe tbody tr th:only-of-type {\n",
       "        vertical-align: middle;\n",
       "    }\n",
       "\n",
       "    .dataframe tbody tr th {\n",
       "        vertical-align: top;\n",
       "    }\n",
       "\n",
       "    .dataframe thead th {\n",
       "        text-align: right;\n",
       "    }\n",
       "</style>\n",
       "<table border=\"1\" class=\"dataframe\">\n",
       "  <thead>\n",
       "    <tr style=\"text-align: right;\">\n",
       "      <th></th>\n",
       "      <th>final.output.concentrate_ag</th>\n",
       "      <th>final.output.concentrate_pb</th>\n",
       "      <th>final.output.concentrate_sol</th>\n",
       "      <th>final.output.concentrate_au</th>\n",
       "      <th>final.output.recovery</th>\n",
       "      <th>final.output.tail_ag</th>\n",
       "      <th>final.output.tail_pb</th>\n",
       "      <th>final.output.tail_sol</th>\n",
       "      <th>final.output.tail_au</th>\n",
       "      <th>primary_cleaner.input.sulfate</th>\n",
       "      <th>...</th>\n",
       "      <th>secondary_cleaner.state.floatbank4_a_air</th>\n",
       "      <th>secondary_cleaner.state.floatbank4_a_level</th>\n",
       "      <th>secondary_cleaner.state.floatbank4_b_air</th>\n",
       "      <th>secondary_cleaner.state.floatbank4_b_level</th>\n",
       "      <th>secondary_cleaner.state.floatbank5_a_air</th>\n",
       "      <th>secondary_cleaner.state.floatbank5_a_level</th>\n",
       "      <th>secondary_cleaner.state.floatbank5_b_air</th>\n",
       "      <th>secondary_cleaner.state.floatbank5_b_level</th>\n",
       "      <th>secondary_cleaner.state.floatbank6_a_air</th>\n",
       "      <th>secondary_cleaner.state.floatbank6_a_level</th>\n",
       "    </tr>\n",
       "    <tr>\n",
       "      <th>date</th>\n",
       "      <th></th>\n",
       "      <th></th>\n",
       "      <th></th>\n",
       "      <th></th>\n",
       "      <th></th>\n",
       "      <th></th>\n",
       "      <th></th>\n",
       "      <th></th>\n",
       "      <th></th>\n",
       "      <th></th>\n",
       "      <th></th>\n",
       "      <th></th>\n",
       "      <th></th>\n",
       "      <th></th>\n",
       "      <th></th>\n",
       "      <th></th>\n",
       "      <th></th>\n",
       "      <th></th>\n",
       "      <th></th>\n",
       "      <th></th>\n",
       "      <th></th>\n",
       "    </tr>\n",
       "  </thead>\n",
       "  <tbody>\n",
       "    <tr>\n",
       "      <th>2016-01-15 00:00:00</th>\n",
       "      <td>6.055403</td>\n",
       "      <td>9.889648</td>\n",
       "      <td>5.507324</td>\n",
       "      <td>42.192020</td>\n",
       "      <td>70.541216</td>\n",
       "      <td>10.411962</td>\n",
       "      <td>0.895447</td>\n",
       "      <td>16.904297</td>\n",
       "      <td>2.143149</td>\n",
       "      <td>127.092003</td>\n",
       "      <td>...</td>\n",
       "      <td>14.016835</td>\n",
       "      <td>-502.488007</td>\n",
       "      <td>12.099931</td>\n",
       "      <td>-504.715942</td>\n",
       "      <td>9.925633</td>\n",
       "      <td>-498.310211</td>\n",
       "      <td>8.079666</td>\n",
       "      <td>-500.470978</td>\n",
       "      <td>14.151341</td>\n",
       "      <td>-605.841980</td>\n",
       "    </tr>\n",
       "    <tr>\n",
       "      <th>2016-01-15 01:00:00</th>\n",
       "      <td>6.029369</td>\n",
       "      <td>9.968944</td>\n",
       "      <td>5.257781</td>\n",
       "      <td>42.701629</td>\n",
       "      <td>69.266198</td>\n",
       "      <td>10.462676</td>\n",
       "      <td>0.927452</td>\n",
       "      <td>16.634514</td>\n",
       "      <td>2.224930</td>\n",
       "      <td>125.629232</td>\n",
       "      <td>...</td>\n",
       "      <td>13.992281</td>\n",
       "      <td>-505.503262</td>\n",
       "      <td>11.950531</td>\n",
       "      <td>-501.331529</td>\n",
       "      <td>10.039245</td>\n",
       "      <td>-500.169983</td>\n",
       "      <td>7.984757</td>\n",
       "      <td>-500.582168</td>\n",
       "      <td>13.998353</td>\n",
       "      <td>-599.787184</td>\n",
       "    </tr>\n",
       "    <tr>\n",
       "      <th>2016-01-15 02:00:00</th>\n",
       "      <td>6.055926</td>\n",
       "      <td>10.213995</td>\n",
       "      <td>5.383759</td>\n",
       "      <td>42.657501</td>\n",
       "      <td>68.116445</td>\n",
       "      <td>10.507046</td>\n",
       "      <td>0.953716</td>\n",
       "      <td>16.208849</td>\n",
       "      <td>2.257889</td>\n",
       "      <td>123.819808</td>\n",
       "      <td>...</td>\n",
       "      <td>14.015015</td>\n",
       "      <td>-502.520901</td>\n",
       "      <td>11.912783</td>\n",
       "      <td>-501.133383</td>\n",
       "      <td>10.070913</td>\n",
       "      <td>-500.129135</td>\n",
       "      <td>8.013877</td>\n",
       "      <td>-500.517572</td>\n",
       "      <td>14.028663</td>\n",
       "      <td>-601.427363</td>\n",
       "    </tr>\n",
       "    <tr>\n",
       "      <th>2016-01-15 03:00:00</th>\n",
       "      <td>6.047977</td>\n",
       "      <td>9.977019</td>\n",
       "      <td>4.858634</td>\n",
       "      <td>42.689819</td>\n",
       "      <td>68.347543</td>\n",
       "      <td>10.422762</td>\n",
       "      <td>0.883763</td>\n",
       "      <td>16.532835</td>\n",
       "      <td>2.146849</td>\n",
       "      <td>122.270188</td>\n",
       "      <td>...</td>\n",
       "      <td>14.036510</td>\n",
       "      <td>-500.857308</td>\n",
       "      <td>11.999550</td>\n",
       "      <td>-501.193686</td>\n",
       "      <td>9.970366</td>\n",
       "      <td>-499.201640</td>\n",
       "      <td>7.977324</td>\n",
       "      <td>-500.255908</td>\n",
       "      <td>14.005551</td>\n",
       "      <td>-599.996129</td>\n",
       "    </tr>\n",
       "    <tr>\n",
       "      <th>2016-01-15 04:00:00</th>\n",
       "      <td>6.148599</td>\n",
       "      <td>10.142511</td>\n",
       "      <td>4.939416</td>\n",
       "      <td>42.774141</td>\n",
       "      <td>66.927016</td>\n",
       "      <td>10.360302</td>\n",
       "      <td>0.792826</td>\n",
       "      <td>16.525686</td>\n",
       "      <td>2.055292</td>\n",
       "      <td>117.988169</td>\n",
       "      <td>...</td>\n",
       "      <td>14.027298</td>\n",
       "      <td>-499.838632</td>\n",
       "      <td>11.953070</td>\n",
       "      <td>-501.053894</td>\n",
       "      <td>9.925709</td>\n",
       "      <td>-501.686727</td>\n",
       "      <td>7.894242</td>\n",
       "      <td>-500.356035</td>\n",
       "      <td>13.996647</td>\n",
       "      <td>-601.496691</td>\n",
       "    </tr>\n",
       "  </tbody>\n",
       "</table>\n",
       "<p>5 rows × 86 columns</p>\n",
       "</div>"
      ],
      "text/plain": [
       "                     final.output.concentrate_ag  final.output.concentrate_pb  \\\n",
       "date                                                                            \n",
       "2016-01-15 00:00:00                     6.055403                     9.889648   \n",
       "2016-01-15 01:00:00                     6.029369                     9.968944   \n",
       "2016-01-15 02:00:00                     6.055926                    10.213995   \n",
       "2016-01-15 03:00:00                     6.047977                     9.977019   \n",
       "2016-01-15 04:00:00                     6.148599                    10.142511   \n",
       "\n",
       "                     final.output.concentrate_sol  \\\n",
       "date                                                \n",
       "2016-01-15 00:00:00                      5.507324   \n",
       "2016-01-15 01:00:00                      5.257781   \n",
       "2016-01-15 02:00:00                      5.383759   \n",
       "2016-01-15 03:00:00                      4.858634   \n",
       "2016-01-15 04:00:00                      4.939416   \n",
       "\n",
       "                     final.output.concentrate_au  final.output.recovery  \\\n",
       "date                                                                      \n",
       "2016-01-15 00:00:00                    42.192020              70.541216   \n",
       "2016-01-15 01:00:00                    42.701629              69.266198   \n",
       "2016-01-15 02:00:00                    42.657501              68.116445   \n",
       "2016-01-15 03:00:00                    42.689819              68.347543   \n",
       "2016-01-15 04:00:00                    42.774141              66.927016   \n",
       "\n",
       "                     final.output.tail_ag  final.output.tail_pb  \\\n",
       "date                                                              \n",
       "2016-01-15 00:00:00             10.411962              0.895447   \n",
       "2016-01-15 01:00:00             10.462676              0.927452   \n",
       "2016-01-15 02:00:00             10.507046              0.953716   \n",
       "2016-01-15 03:00:00             10.422762              0.883763   \n",
       "2016-01-15 04:00:00             10.360302              0.792826   \n",
       "\n",
       "                     final.output.tail_sol  final.output.tail_au  \\\n",
       "date                                                               \n",
       "2016-01-15 00:00:00              16.904297              2.143149   \n",
       "2016-01-15 01:00:00              16.634514              2.224930   \n",
       "2016-01-15 02:00:00              16.208849              2.257889   \n",
       "2016-01-15 03:00:00              16.532835              2.146849   \n",
       "2016-01-15 04:00:00              16.525686              2.055292   \n",
       "\n",
       "                     primary_cleaner.input.sulfate  ...  \\\n",
       "date                                                ...   \n",
       "2016-01-15 00:00:00                     127.092003  ...   \n",
       "2016-01-15 01:00:00                     125.629232  ...   \n",
       "2016-01-15 02:00:00                     123.819808  ...   \n",
       "2016-01-15 03:00:00                     122.270188  ...   \n",
       "2016-01-15 04:00:00                     117.988169  ...   \n",
       "\n",
       "                     secondary_cleaner.state.floatbank4_a_air  \\\n",
       "date                                                            \n",
       "2016-01-15 00:00:00                                 14.016835   \n",
       "2016-01-15 01:00:00                                 13.992281   \n",
       "2016-01-15 02:00:00                                 14.015015   \n",
       "2016-01-15 03:00:00                                 14.036510   \n",
       "2016-01-15 04:00:00                                 14.027298   \n",
       "\n",
       "                     secondary_cleaner.state.floatbank4_a_level  \\\n",
       "date                                                              \n",
       "2016-01-15 00:00:00                                 -502.488007   \n",
       "2016-01-15 01:00:00                                 -505.503262   \n",
       "2016-01-15 02:00:00                                 -502.520901   \n",
       "2016-01-15 03:00:00                                 -500.857308   \n",
       "2016-01-15 04:00:00                                 -499.838632   \n",
       "\n",
       "                     secondary_cleaner.state.floatbank4_b_air  \\\n",
       "date                                                            \n",
       "2016-01-15 00:00:00                                 12.099931   \n",
       "2016-01-15 01:00:00                                 11.950531   \n",
       "2016-01-15 02:00:00                                 11.912783   \n",
       "2016-01-15 03:00:00                                 11.999550   \n",
       "2016-01-15 04:00:00                                 11.953070   \n",
       "\n",
       "                     secondary_cleaner.state.floatbank4_b_level  \\\n",
       "date                                                              \n",
       "2016-01-15 00:00:00                                 -504.715942   \n",
       "2016-01-15 01:00:00                                 -501.331529   \n",
       "2016-01-15 02:00:00                                 -501.133383   \n",
       "2016-01-15 03:00:00                                 -501.193686   \n",
       "2016-01-15 04:00:00                                 -501.053894   \n",
       "\n",
       "                     secondary_cleaner.state.floatbank5_a_air  \\\n",
       "date                                                            \n",
       "2016-01-15 00:00:00                                  9.925633   \n",
       "2016-01-15 01:00:00                                 10.039245   \n",
       "2016-01-15 02:00:00                                 10.070913   \n",
       "2016-01-15 03:00:00                                  9.970366   \n",
       "2016-01-15 04:00:00                                  9.925709   \n",
       "\n",
       "                     secondary_cleaner.state.floatbank5_a_level  \\\n",
       "date                                                              \n",
       "2016-01-15 00:00:00                                 -498.310211   \n",
       "2016-01-15 01:00:00                                 -500.169983   \n",
       "2016-01-15 02:00:00                                 -500.129135   \n",
       "2016-01-15 03:00:00                                 -499.201640   \n",
       "2016-01-15 04:00:00                                 -501.686727   \n",
       "\n",
       "                     secondary_cleaner.state.floatbank5_b_air  \\\n",
       "date                                                            \n",
       "2016-01-15 00:00:00                                  8.079666   \n",
       "2016-01-15 01:00:00                                  7.984757   \n",
       "2016-01-15 02:00:00                                  8.013877   \n",
       "2016-01-15 03:00:00                                  7.977324   \n",
       "2016-01-15 04:00:00                                  7.894242   \n",
       "\n",
       "                     secondary_cleaner.state.floatbank5_b_level  \\\n",
       "date                                                              \n",
       "2016-01-15 00:00:00                                 -500.470978   \n",
       "2016-01-15 01:00:00                                 -500.582168   \n",
       "2016-01-15 02:00:00                                 -500.517572   \n",
       "2016-01-15 03:00:00                                 -500.255908   \n",
       "2016-01-15 04:00:00                                 -500.356035   \n",
       "\n",
       "                     secondary_cleaner.state.floatbank6_a_air  \\\n",
       "date                                                            \n",
       "2016-01-15 00:00:00                                 14.151341   \n",
       "2016-01-15 01:00:00                                 13.998353   \n",
       "2016-01-15 02:00:00                                 14.028663   \n",
       "2016-01-15 03:00:00                                 14.005551   \n",
       "2016-01-15 04:00:00                                 13.996647   \n",
       "\n",
       "                     secondary_cleaner.state.floatbank6_a_level  \n",
       "date                                                             \n",
       "2016-01-15 00:00:00                                 -605.841980  \n",
       "2016-01-15 01:00:00                                 -599.787184  \n",
       "2016-01-15 02:00:00                                 -601.427363  \n",
       "2016-01-15 03:00:00                                 -599.996129  \n",
       "2016-01-15 04:00:00                                 -601.496691  \n",
       "\n",
       "[5 rows x 86 columns]"
      ]
     },
     "metadata": {},
     "output_type": "display_data"
    },
    {
     "name": "stdout",
     "output_type": "stream",
     "text": [
      "Описание df\n"
     ]
    },
    {
     "data": {
      "text/html": [
       "<div>\n",
       "<style scoped>\n",
       "    .dataframe tbody tr th:only-of-type {\n",
       "        vertical-align: middle;\n",
       "    }\n",
       "\n",
       "    .dataframe tbody tr th {\n",
       "        vertical-align: top;\n",
       "    }\n",
       "\n",
       "    .dataframe thead th {\n",
       "        text-align: right;\n",
       "    }\n",
       "</style>\n",
       "<table border=\"1\" class=\"dataframe\">\n",
       "  <thead>\n",
       "    <tr style=\"text-align: right;\">\n",
       "      <th></th>\n",
       "      <th>final.output.concentrate_ag</th>\n",
       "      <th>final.output.concentrate_pb</th>\n",
       "      <th>final.output.concentrate_sol</th>\n",
       "      <th>final.output.concentrate_au</th>\n",
       "      <th>final.output.recovery</th>\n",
       "      <th>final.output.tail_ag</th>\n",
       "      <th>final.output.tail_pb</th>\n",
       "      <th>final.output.tail_sol</th>\n",
       "      <th>final.output.tail_au</th>\n",
       "      <th>primary_cleaner.input.sulfate</th>\n",
       "      <th>...</th>\n",
       "      <th>secondary_cleaner.state.floatbank4_a_air</th>\n",
       "      <th>secondary_cleaner.state.floatbank4_a_level</th>\n",
       "      <th>secondary_cleaner.state.floatbank4_b_air</th>\n",
       "      <th>secondary_cleaner.state.floatbank4_b_level</th>\n",
       "      <th>secondary_cleaner.state.floatbank5_a_air</th>\n",
       "      <th>secondary_cleaner.state.floatbank5_a_level</th>\n",
       "      <th>secondary_cleaner.state.floatbank5_b_air</th>\n",
       "      <th>secondary_cleaner.state.floatbank5_b_level</th>\n",
       "      <th>secondary_cleaner.state.floatbank6_a_air</th>\n",
       "      <th>secondary_cleaner.state.floatbank6_a_level</th>\n",
       "    </tr>\n",
       "  </thead>\n",
       "  <tbody>\n",
       "    <tr>\n",
       "      <th>count</th>\n",
       "      <td>14148.000000</td>\n",
       "      <td>14148.000000</td>\n",
       "      <td>13938.000000</td>\n",
       "      <td>14149.000000</td>\n",
       "      <td>14149.000000</td>\n",
       "      <td>14149.000000</td>\n",
       "      <td>14049.000000</td>\n",
       "      <td>14144.000000</td>\n",
       "      <td>14149.000000</td>\n",
       "      <td>14129.000000</td>\n",
       "      <td>...</td>\n",
       "      <td>14143.000000</td>\n",
       "      <td>14148.000000</td>\n",
       "      <td>14148.000000</td>\n",
       "      <td>14148.000000</td>\n",
       "      <td>14148.000000</td>\n",
       "      <td>14148.000000</td>\n",
       "      <td>14148.000000</td>\n",
       "      <td>14148.000000</td>\n",
       "      <td>14147.000000</td>\n",
       "      <td>14148.000000</td>\n",
       "    </tr>\n",
       "    <tr>\n",
       "      <th>mean</th>\n",
       "      <td>5.142034</td>\n",
       "      <td>10.132960</td>\n",
       "      <td>9.202849</td>\n",
       "      <td>44.003792</td>\n",
       "      <td>66.518832</td>\n",
       "      <td>9.607035</td>\n",
       "      <td>2.597298</td>\n",
       "      <td>10.512122</td>\n",
       "      <td>2.918421</td>\n",
       "      <td>133.320659</td>\n",
       "      <td>...</td>\n",
       "      <td>19.985454</td>\n",
       "      <td>-478.696836</td>\n",
       "      <td>15.487065</td>\n",
       "      <td>-460.229416</td>\n",
       "      <td>16.775136</td>\n",
       "      <td>-483.956022</td>\n",
       "      <td>13.064590</td>\n",
       "      <td>-483.966564</td>\n",
       "      <td>19.577539</td>\n",
       "      <td>-506.798480</td>\n",
       "    </tr>\n",
       "    <tr>\n",
       "      <th>std</th>\n",
       "      <td>1.369586</td>\n",
       "      <td>1.654930</td>\n",
       "      <td>2.790516</td>\n",
       "      <td>4.905261</td>\n",
       "      <td>10.295402</td>\n",
       "      <td>2.319069</td>\n",
       "      <td>0.971843</td>\n",
       "      <td>3.003617</td>\n",
       "      <td>0.903712</td>\n",
       "      <td>39.431659</td>\n",
       "      <td>...</td>\n",
       "      <td>5.657723</td>\n",
       "      <td>50.736021</td>\n",
       "      <td>5.255655</td>\n",
       "      <td>58.843586</td>\n",
       "      <td>5.831906</td>\n",
       "      <td>37.892788</td>\n",
       "      <td>5.765617</td>\n",
       "      <td>39.207913</td>\n",
       "      <td>5.764417</td>\n",
       "      <td>37.079249</td>\n",
       "    </tr>\n",
       "    <tr>\n",
       "      <th>min</th>\n",
       "      <td>0.000000</td>\n",
       "      <td>0.000000</td>\n",
       "      <td>0.000000</td>\n",
       "      <td>0.000000</td>\n",
       "      <td>0.000000</td>\n",
       "      <td>0.000000</td>\n",
       "      <td>0.000000</td>\n",
       "      <td>0.000000</td>\n",
       "      <td>0.000000</td>\n",
       "      <td>0.003112</td>\n",
       "      <td>...</td>\n",
       "      <td>0.000000</td>\n",
       "      <td>-799.709069</td>\n",
       "      <td>0.000000</td>\n",
       "      <td>-799.889113</td>\n",
       "      <td>-0.372054</td>\n",
       "      <td>-797.142475</td>\n",
       "      <td>0.646208</td>\n",
       "      <td>-800.006180</td>\n",
       "      <td>0.195324</td>\n",
       "      <td>-809.398668</td>\n",
       "    </tr>\n",
       "    <tr>\n",
       "      <th>25%</th>\n",
       "      <td>4.211620</td>\n",
       "      <td>9.297355</td>\n",
       "      <td>7.484645</td>\n",
       "      <td>43.276111</td>\n",
       "      <td>62.545817</td>\n",
       "      <td>7.997429</td>\n",
       "      <td>1.905973</td>\n",
       "      <td>8.811324</td>\n",
       "      <td>2.368607</td>\n",
       "      <td>107.006651</td>\n",
       "      <td>...</td>\n",
       "      <td>14.990775</td>\n",
       "      <td>-500.628656</td>\n",
       "      <td>11.894558</td>\n",
       "      <td>-500.149000</td>\n",
       "      <td>11.083980</td>\n",
       "      <td>-500.363177</td>\n",
       "      <td>8.994405</td>\n",
       "      <td>-500.105994</td>\n",
       "      <td>14.989304</td>\n",
       "      <td>-500.745104</td>\n",
       "    </tr>\n",
       "    <tr>\n",
       "      <th>50%</th>\n",
       "      <td>4.994652</td>\n",
       "      <td>10.297144</td>\n",
       "      <td>8.845462</td>\n",
       "      <td>44.872436</td>\n",
       "      <td>67.432775</td>\n",
       "      <td>9.480270</td>\n",
       "      <td>2.592022</td>\n",
       "      <td>10.514621</td>\n",
       "      <td>2.851025</td>\n",
       "      <td>133.018328</td>\n",
       "      <td>...</td>\n",
       "      <td>20.001789</td>\n",
       "      <td>-499.681450</td>\n",
       "      <td>14.975536</td>\n",
       "      <td>-499.388738</td>\n",
       "      <td>17.932223</td>\n",
       "      <td>-499.702452</td>\n",
       "      <td>11.997547</td>\n",
       "      <td>-499.914556</td>\n",
       "      <td>19.984175</td>\n",
       "      <td>-500.061431</td>\n",
       "    </tr>\n",
       "    <tr>\n",
       "      <th>75%</th>\n",
       "      <td>5.859540</td>\n",
       "      <td>11.170603</td>\n",
       "      <td>10.487508</td>\n",
       "      <td>46.166425</td>\n",
       "      <td>72.346428</td>\n",
       "      <td>11.003707</td>\n",
       "      <td>3.241723</td>\n",
       "      <td>11.933009</td>\n",
       "      <td>3.434764</td>\n",
       "      <td>159.825396</td>\n",
       "      <td>...</td>\n",
       "      <td>24.990826</td>\n",
       "      <td>-477.472413</td>\n",
       "      <td>20.059375</td>\n",
       "      <td>-400.039008</td>\n",
       "      <td>21.346550</td>\n",
       "      <td>-487.712108</td>\n",
       "      <td>17.982903</td>\n",
       "      <td>-453.186936</td>\n",
       "      <td>24.991623</td>\n",
       "      <td>-499.536466</td>\n",
       "    </tr>\n",
       "    <tr>\n",
       "      <th>max</th>\n",
       "      <td>16.001945</td>\n",
       "      <td>17.031899</td>\n",
       "      <td>18.124851</td>\n",
       "      <td>52.756638</td>\n",
       "      <td>100.000000</td>\n",
       "      <td>19.552149</td>\n",
       "      <td>5.639565</td>\n",
       "      <td>22.317730</td>\n",
       "      <td>8.197408</td>\n",
       "      <td>250.127834</td>\n",
       "      <td>...</td>\n",
       "      <td>30.115735</td>\n",
       "      <td>-245.239184</td>\n",
       "      <td>24.007913</td>\n",
       "      <td>-145.071088</td>\n",
       "      <td>43.709931</td>\n",
       "      <td>-275.073125</td>\n",
       "      <td>27.926001</td>\n",
       "      <td>-157.396071</td>\n",
       "      <td>32.188906</td>\n",
       "      <td>-104.427459</td>\n",
       "    </tr>\n",
       "  </tbody>\n",
       "</table>\n",
       "<p>8 rows × 86 columns</p>\n",
       "</div>"
      ],
      "text/plain": [
       "       final.output.concentrate_ag  final.output.concentrate_pb  \\\n",
       "count                 14148.000000                 14148.000000   \n",
       "mean                      5.142034                    10.132960   \n",
       "std                       1.369586                     1.654930   \n",
       "min                       0.000000                     0.000000   \n",
       "25%                       4.211620                     9.297355   \n",
       "50%                       4.994652                    10.297144   \n",
       "75%                       5.859540                    11.170603   \n",
       "max                      16.001945                    17.031899   \n",
       "\n",
       "       final.output.concentrate_sol  final.output.concentrate_au  \\\n",
       "count                  13938.000000                 14149.000000   \n",
       "mean                       9.202849                    44.003792   \n",
       "std                        2.790516                     4.905261   \n",
       "min                        0.000000                     0.000000   \n",
       "25%                        7.484645                    43.276111   \n",
       "50%                        8.845462                    44.872436   \n",
       "75%                       10.487508                    46.166425   \n",
       "max                       18.124851                    52.756638   \n",
       "\n",
       "       final.output.recovery  final.output.tail_ag  final.output.tail_pb  \\\n",
       "count           14149.000000          14149.000000          14049.000000   \n",
       "mean               66.518832              9.607035              2.597298   \n",
       "std                10.295402              2.319069              0.971843   \n",
       "min                 0.000000              0.000000              0.000000   \n",
       "25%                62.545817              7.997429              1.905973   \n",
       "50%                67.432775              9.480270              2.592022   \n",
       "75%                72.346428             11.003707              3.241723   \n",
       "max               100.000000             19.552149              5.639565   \n",
       "\n",
       "       final.output.tail_sol  final.output.tail_au  \\\n",
       "count           14144.000000          14149.000000   \n",
       "mean               10.512122              2.918421   \n",
       "std                 3.003617              0.903712   \n",
       "min                 0.000000              0.000000   \n",
       "25%                 8.811324              2.368607   \n",
       "50%                10.514621              2.851025   \n",
       "75%                11.933009              3.434764   \n",
       "max                22.317730              8.197408   \n",
       "\n",
       "       primary_cleaner.input.sulfate  ...  \\\n",
       "count                   14129.000000  ...   \n",
       "mean                      133.320659  ...   \n",
       "std                        39.431659  ...   \n",
       "min                         0.003112  ...   \n",
       "25%                       107.006651  ...   \n",
       "50%                       133.018328  ...   \n",
       "75%                       159.825396  ...   \n",
       "max                       250.127834  ...   \n",
       "\n",
       "       secondary_cleaner.state.floatbank4_a_air  \\\n",
       "count                              14143.000000   \n",
       "mean                                  19.985454   \n",
       "std                                    5.657723   \n",
       "min                                    0.000000   \n",
       "25%                                   14.990775   \n",
       "50%                                   20.001789   \n",
       "75%                                   24.990826   \n",
       "max                                   30.115735   \n",
       "\n",
       "       secondary_cleaner.state.floatbank4_a_level  \\\n",
       "count                                14148.000000   \n",
       "mean                                  -478.696836   \n",
       "std                                     50.736021   \n",
       "min                                   -799.709069   \n",
       "25%                                   -500.628656   \n",
       "50%                                   -499.681450   \n",
       "75%                                   -477.472413   \n",
       "max                                   -245.239184   \n",
       "\n",
       "       secondary_cleaner.state.floatbank4_b_air  \\\n",
       "count                              14148.000000   \n",
       "mean                                  15.487065   \n",
       "std                                    5.255655   \n",
       "min                                    0.000000   \n",
       "25%                                   11.894558   \n",
       "50%                                   14.975536   \n",
       "75%                                   20.059375   \n",
       "max                                   24.007913   \n",
       "\n",
       "       secondary_cleaner.state.floatbank4_b_level  \\\n",
       "count                                14148.000000   \n",
       "mean                                  -460.229416   \n",
       "std                                     58.843586   \n",
       "min                                   -799.889113   \n",
       "25%                                   -500.149000   \n",
       "50%                                   -499.388738   \n",
       "75%                                   -400.039008   \n",
       "max                                   -145.071088   \n",
       "\n",
       "       secondary_cleaner.state.floatbank5_a_air  \\\n",
       "count                              14148.000000   \n",
       "mean                                  16.775136   \n",
       "std                                    5.831906   \n",
       "min                                   -0.372054   \n",
       "25%                                   11.083980   \n",
       "50%                                   17.932223   \n",
       "75%                                   21.346550   \n",
       "max                                   43.709931   \n",
       "\n",
       "       secondary_cleaner.state.floatbank5_a_level  \\\n",
       "count                                14148.000000   \n",
       "mean                                  -483.956022   \n",
       "std                                     37.892788   \n",
       "min                                   -797.142475   \n",
       "25%                                   -500.363177   \n",
       "50%                                   -499.702452   \n",
       "75%                                   -487.712108   \n",
       "max                                   -275.073125   \n",
       "\n",
       "       secondary_cleaner.state.floatbank5_b_air  \\\n",
       "count                              14148.000000   \n",
       "mean                                  13.064590   \n",
       "std                                    5.765617   \n",
       "min                                    0.646208   \n",
       "25%                                    8.994405   \n",
       "50%                                   11.997547   \n",
       "75%                                   17.982903   \n",
       "max                                   27.926001   \n",
       "\n",
       "       secondary_cleaner.state.floatbank5_b_level  \\\n",
       "count                                14148.000000   \n",
       "mean                                  -483.966564   \n",
       "std                                     39.207913   \n",
       "min                                   -800.006180   \n",
       "25%                                   -500.105994   \n",
       "50%                                   -499.914556   \n",
       "75%                                   -453.186936   \n",
       "max                                   -157.396071   \n",
       "\n",
       "       secondary_cleaner.state.floatbank6_a_air  \\\n",
       "count                              14147.000000   \n",
       "mean                                  19.577539   \n",
       "std                                    5.764417   \n",
       "min                                    0.195324   \n",
       "25%                                   14.989304   \n",
       "50%                                   19.984175   \n",
       "75%                                   24.991623   \n",
       "max                                   32.188906   \n",
       "\n",
       "       secondary_cleaner.state.floatbank6_a_level  \n",
       "count                                14148.000000  \n",
       "mean                                  -506.798480  \n",
       "std                                     37.079249  \n",
       "min                                   -809.398668  \n",
       "25%                                   -500.745104  \n",
       "50%                                   -500.061431  \n",
       "75%                                   -499.536466  \n",
       "max                                   -104.427459  \n",
       "\n",
       "[8 rows x 86 columns]"
      ]
     },
     "metadata": {},
     "output_type": "display_data"
    },
    {
     "name": "stdout",
     "output_type": "stream",
     "text": [
      "\n",
      "Размер df: (14149, 86)\n"
     ]
    }
   ],
   "source": [
    "print('Первые строки:')\n",
    "display(train.head())\n",
    "print('Описание df')\n",
    "display(train.describe())\n",
    "print('')\n",
    "print('Размер df:', train.shape)"
   ]
  },
  {
   "cell_type": "markdown",
   "metadata": {},
   "source": [
    "**Тестовая выборка**"
   ]
  },
  {
   "cell_type": "code",
   "execution_count": 5,
   "metadata": {},
   "outputs": [
    {
     "name": "stdout",
     "output_type": "stream",
     "text": [
      "Первые строки:\n"
     ]
    },
    {
     "data": {
      "text/html": [
       "<div>\n",
       "<style scoped>\n",
       "    .dataframe tbody tr th:only-of-type {\n",
       "        vertical-align: middle;\n",
       "    }\n",
       "\n",
       "    .dataframe tbody tr th {\n",
       "        vertical-align: top;\n",
       "    }\n",
       "\n",
       "    .dataframe thead th {\n",
       "        text-align: right;\n",
       "    }\n",
       "</style>\n",
       "<table border=\"1\" class=\"dataframe\">\n",
       "  <thead>\n",
       "    <tr style=\"text-align: right;\">\n",
       "      <th></th>\n",
       "      <th>primary_cleaner.input.sulfate</th>\n",
       "      <th>primary_cleaner.input.depressant</th>\n",
       "      <th>primary_cleaner.input.feed_size</th>\n",
       "      <th>primary_cleaner.input.xanthate</th>\n",
       "      <th>primary_cleaner.state.floatbank8_a_air</th>\n",
       "      <th>primary_cleaner.state.floatbank8_a_level</th>\n",
       "      <th>primary_cleaner.state.floatbank8_b_air</th>\n",
       "      <th>primary_cleaner.state.floatbank8_b_level</th>\n",
       "      <th>primary_cleaner.state.floatbank8_c_air</th>\n",
       "      <th>primary_cleaner.state.floatbank8_c_level</th>\n",
       "      <th>...</th>\n",
       "      <th>secondary_cleaner.state.floatbank4_a_air</th>\n",
       "      <th>secondary_cleaner.state.floatbank4_a_level</th>\n",
       "      <th>secondary_cleaner.state.floatbank4_b_air</th>\n",
       "      <th>secondary_cleaner.state.floatbank4_b_level</th>\n",
       "      <th>secondary_cleaner.state.floatbank5_a_air</th>\n",
       "      <th>secondary_cleaner.state.floatbank5_a_level</th>\n",
       "      <th>secondary_cleaner.state.floatbank5_b_air</th>\n",
       "      <th>secondary_cleaner.state.floatbank5_b_level</th>\n",
       "      <th>secondary_cleaner.state.floatbank6_a_air</th>\n",
       "      <th>secondary_cleaner.state.floatbank6_a_level</th>\n",
       "    </tr>\n",
       "    <tr>\n",
       "      <th>date</th>\n",
       "      <th></th>\n",
       "      <th></th>\n",
       "      <th></th>\n",
       "      <th></th>\n",
       "      <th></th>\n",
       "      <th></th>\n",
       "      <th></th>\n",
       "      <th></th>\n",
       "      <th></th>\n",
       "      <th></th>\n",
       "      <th></th>\n",
       "      <th></th>\n",
       "      <th></th>\n",
       "      <th></th>\n",
       "      <th></th>\n",
       "      <th></th>\n",
       "      <th></th>\n",
       "      <th></th>\n",
       "      <th></th>\n",
       "      <th></th>\n",
       "      <th></th>\n",
       "    </tr>\n",
       "  </thead>\n",
       "  <tbody>\n",
       "    <tr>\n",
       "      <th>2016-09-01 00:59:59</th>\n",
       "      <td>210.800909</td>\n",
       "      <td>14.993118</td>\n",
       "      <td>8.080000</td>\n",
       "      <td>1.005021</td>\n",
       "      <td>1398.981301</td>\n",
       "      <td>-500.225577</td>\n",
       "      <td>1399.144926</td>\n",
       "      <td>-499.919735</td>\n",
       "      <td>1400.102998</td>\n",
       "      <td>-500.704369</td>\n",
       "      <td>...</td>\n",
       "      <td>12.023554</td>\n",
       "      <td>-497.795834</td>\n",
       "      <td>8.016656</td>\n",
       "      <td>-501.289139</td>\n",
       "      <td>7.946562</td>\n",
       "      <td>-432.317850</td>\n",
       "      <td>4.872511</td>\n",
       "      <td>-500.037437</td>\n",
       "      <td>26.705889</td>\n",
       "      <td>-499.709414</td>\n",
       "    </tr>\n",
       "    <tr>\n",
       "      <th>2016-09-01 01:59:59</th>\n",
       "      <td>215.392455</td>\n",
       "      <td>14.987471</td>\n",
       "      <td>8.080000</td>\n",
       "      <td>0.990469</td>\n",
       "      <td>1398.777912</td>\n",
       "      <td>-500.057435</td>\n",
       "      <td>1398.055362</td>\n",
       "      <td>-499.778182</td>\n",
       "      <td>1396.151033</td>\n",
       "      <td>-499.240168</td>\n",
       "      <td>...</td>\n",
       "      <td>12.058140</td>\n",
       "      <td>-498.695773</td>\n",
       "      <td>8.130979</td>\n",
       "      <td>-499.634209</td>\n",
       "      <td>7.958270</td>\n",
       "      <td>-525.839648</td>\n",
       "      <td>4.878850</td>\n",
       "      <td>-500.162375</td>\n",
       "      <td>25.019940</td>\n",
       "      <td>-499.819438</td>\n",
       "    </tr>\n",
       "    <tr>\n",
       "      <th>2016-09-01 02:59:59</th>\n",
       "      <td>215.259946</td>\n",
       "      <td>12.884934</td>\n",
       "      <td>7.786667</td>\n",
       "      <td>0.996043</td>\n",
       "      <td>1398.493666</td>\n",
       "      <td>-500.868360</td>\n",
       "      <td>1398.860436</td>\n",
       "      <td>-499.764529</td>\n",
       "      <td>1398.075709</td>\n",
       "      <td>-502.151509</td>\n",
       "      <td>...</td>\n",
       "      <td>11.962366</td>\n",
       "      <td>-498.767484</td>\n",
       "      <td>8.096893</td>\n",
       "      <td>-500.827423</td>\n",
       "      <td>8.071056</td>\n",
       "      <td>-500.801673</td>\n",
       "      <td>4.905125</td>\n",
       "      <td>-499.828510</td>\n",
       "      <td>24.994862</td>\n",
       "      <td>-500.622559</td>\n",
       "    </tr>\n",
       "    <tr>\n",
       "      <th>2016-09-01 03:59:59</th>\n",
       "      <td>215.336236</td>\n",
       "      <td>12.006805</td>\n",
       "      <td>7.640000</td>\n",
       "      <td>0.863514</td>\n",
       "      <td>1399.618111</td>\n",
       "      <td>-498.863574</td>\n",
       "      <td>1397.440120</td>\n",
       "      <td>-499.211024</td>\n",
       "      <td>1400.129303</td>\n",
       "      <td>-498.355873</td>\n",
       "      <td>...</td>\n",
       "      <td>12.033091</td>\n",
       "      <td>-498.350935</td>\n",
       "      <td>8.074946</td>\n",
       "      <td>-499.474407</td>\n",
       "      <td>7.897085</td>\n",
       "      <td>-500.868509</td>\n",
       "      <td>4.931400</td>\n",
       "      <td>-499.963623</td>\n",
       "      <td>24.948919</td>\n",
       "      <td>-498.709987</td>\n",
       "    </tr>\n",
       "    <tr>\n",
       "      <th>2016-09-01 04:59:59</th>\n",
       "      <td>199.099327</td>\n",
       "      <td>10.682530</td>\n",
       "      <td>7.530000</td>\n",
       "      <td>0.805575</td>\n",
       "      <td>1401.268123</td>\n",
       "      <td>-500.808305</td>\n",
       "      <td>1398.128818</td>\n",
       "      <td>-499.504543</td>\n",
       "      <td>1402.172226</td>\n",
       "      <td>-500.810606</td>\n",
       "      <td>...</td>\n",
       "      <td>12.025367</td>\n",
       "      <td>-500.786497</td>\n",
       "      <td>8.054678</td>\n",
       "      <td>-500.397500</td>\n",
       "      <td>8.107890</td>\n",
       "      <td>-509.526725</td>\n",
       "      <td>4.957674</td>\n",
       "      <td>-500.360026</td>\n",
       "      <td>25.003331</td>\n",
       "      <td>-500.856333</td>\n",
       "    </tr>\n",
       "  </tbody>\n",
       "</table>\n",
       "<p>5 rows × 52 columns</p>\n",
       "</div>"
      ],
      "text/plain": [
       "                     primary_cleaner.input.sulfate  \\\n",
       "date                                                 \n",
       "2016-09-01 00:59:59                     210.800909   \n",
       "2016-09-01 01:59:59                     215.392455   \n",
       "2016-09-01 02:59:59                     215.259946   \n",
       "2016-09-01 03:59:59                     215.336236   \n",
       "2016-09-01 04:59:59                     199.099327   \n",
       "\n",
       "                     primary_cleaner.input.depressant  \\\n",
       "date                                                    \n",
       "2016-09-01 00:59:59                         14.993118   \n",
       "2016-09-01 01:59:59                         14.987471   \n",
       "2016-09-01 02:59:59                         12.884934   \n",
       "2016-09-01 03:59:59                         12.006805   \n",
       "2016-09-01 04:59:59                         10.682530   \n",
       "\n",
       "                     primary_cleaner.input.feed_size  \\\n",
       "date                                                   \n",
       "2016-09-01 00:59:59                         8.080000   \n",
       "2016-09-01 01:59:59                         8.080000   \n",
       "2016-09-01 02:59:59                         7.786667   \n",
       "2016-09-01 03:59:59                         7.640000   \n",
       "2016-09-01 04:59:59                         7.530000   \n",
       "\n",
       "                     primary_cleaner.input.xanthate  \\\n",
       "date                                                  \n",
       "2016-09-01 00:59:59                        1.005021   \n",
       "2016-09-01 01:59:59                        0.990469   \n",
       "2016-09-01 02:59:59                        0.996043   \n",
       "2016-09-01 03:59:59                        0.863514   \n",
       "2016-09-01 04:59:59                        0.805575   \n",
       "\n",
       "                     primary_cleaner.state.floatbank8_a_air  \\\n",
       "date                                                          \n",
       "2016-09-01 00:59:59                             1398.981301   \n",
       "2016-09-01 01:59:59                             1398.777912   \n",
       "2016-09-01 02:59:59                             1398.493666   \n",
       "2016-09-01 03:59:59                             1399.618111   \n",
       "2016-09-01 04:59:59                             1401.268123   \n",
       "\n",
       "                     primary_cleaner.state.floatbank8_a_level  \\\n",
       "date                                                            \n",
       "2016-09-01 00:59:59                               -500.225577   \n",
       "2016-09-01 01:59:59                               -500.057435   \n",
       "2016-09-01 02:59:59                               -500.868360   \n",
       "2016-09-01 03:59:59                               -498.863574   \n",
       "2016-09-01 04:59:59                               -500.808305   \n",
       "\n",
       "                     primary_cleaner.state.floatbank8_b_air  \\\n",
       "date                                                          \n",
       "2016-09-01 00:59:59                             1399.144926   \n",
       "2016-09-01 01:59:59                             1398.055362   \n",
       "2016-09-01 02:59:59                             1398.860436   \n",
       "2016-09-01 03:59:59                             1397.440120   \n",
       "2016-09-01 04:59:59                             1398.128818   \n",
       "\n",
       "                     primary_cleaner.state.floatbank8_b_level  \\\n",
       "date                                                            \n",
       "2016-09-01 00:59:59                               -499.919735   \n",
       "2016-09-01 01:59:59                               -499.778182   \n",
       "2016-09-01 02:59:59                               -499.764529   \n",
       "2016-09-01 03:59:59                               -499.211024   \n",
       "2016-09-01 04:59:59                               -499.504543   \n",
       "\n",
       "                     primary_cleaner.state.floatbank8_c_air  \\\n",
       "date                                                          \n",
       "2016-09-01 00:59:59                             1400.102998   \n",
       "2016-09-01 01:59:59                             1396.151033   \n",
       "2016-09-01 02:59:59                             1398.075709   \n",
       "2016-09-01 03:59:59                             1400.129303   \n",
       "2016-09-01 04:59:59                             1402.172226   \n",
       "\n",
       "                     primary_cleaner.state.floatbank8_c_level  ...  \\\n",
       "date                                                           ...   \n",
       "2016-09-01 00:59:59                               -500.704369  ...   \n",
       "2016-09-01 01:59:59                               -499.240168  ...   \n",
       "2016-09-01 02:59:59                               -502.151509  ...   \n",
       "2016-09-01 03:59:59                               -498.355873  ...   \n",
       "2016-09-01 04:59:59                               -500.810606  ...   \n",
       "\n",
       "                     secondary_cleaner.state.floatbank4_a_air  \\\n",
       "date                                                            \n",
       "2016-09-01 00:59:59                                 12.023554   \n",
       "2016-09-01 01:59:59                                 12.058140   \n",
       "2016-09-01 02:59:59                                 11.962366   \n",
       "2016-09-01 03:59:59                                 12.033091   \n",
       "2016-09-01 04:59:59                                 12.025367   \n",
       "\n",
       "                     secondary_cleaner.state.floatbank4_a_level  \\\n",
       "date                                                              \n",
       "2016-09-01 00:59:59                                 -497.795834   \n",
       "2016-09-01 01:59:59                                 -498.695773   \n",
       "2016-09-01 02:59:59                                 -498.767484   \n",
       "2016-09-01 03:59:59                                 -498.350935   \n",
       "2016-09-01 04:59:59                                 -500.786497   \n",
       "\n",
       "                     secondary_cleaner.state.floatbank4_b_air  \\\n",
       "date                                                            \n",
       "2016-09-01 00:59:59                                  8.016656   \n",
       "2016-09-01 01:59:59                                  8.130979   \n",
       "2016-09-01 02:59:59                                  8.096893   \n",
       "2016-09-01 03:59:59                                  8.074946   \n",
       "2016-09-01 04:59:59                                  8.054678   \n",
       "\n",
       "                     secondary_cleaner.state.floatbank4_b_level  \\\n",
       "date                                                              \n",
       "2016-09-01 00:59:59                                 -501.289139   \n",
       "2016-09-01 01:59:59                                 -499.634209   \n",
       "2016-09-01 02:59:59                                 -500.827423   \n",
       "2016-09-01 03:59:59                                 -499.474407   \n",
       "2016-09-01 04:59:59                                 -500.397500   \n",
       "\n",
       "                     secondary_cleaner.state.floatbank5_a_air  \\\n",
       "date                                                            \n",
       "2016-09-01 00:59:59                                  7.946562   \n",
       "2016-09-01 01:59:59                                  7.958270   \n",
       "2016-09-01 02:59:59                                  8.071056   \n",
       "2016-09-01 03:59:59                                  7.897085   \n",
       "2016-09-01 04:59:59                                  8.107890   \n",
       "\n",
       "                     secondary_cleaner.state.floatbank5_a_level  \\\n",
       "date                                                              \n",
       "2016-09-01 00:59:59                                 -432.317850   \n",
       "2016-09-01 01:59:59                                 -525.839648   \n",
       "2016-09-01 02:59:59                                 -500.801673   \n",
       "2016-09-01 03:59:59                                 -500.868509   \n",
       "2016-09-01 04:59:59                                 -509.526725   \n",
       "\n",
       "                     secondary_cleaner.state.floatbank5_b_air  \\\n",
       "date                                                            \n",
       "2016-09-01 00:59:59                                  4.872511   \n",
       "2016-09-01 01:59:59                                  4.878850   \n",
       "2016-09-01 02:59:59                                  4.905125   \n",
       "2016-09-01 03:59:59                                  4.931400   \n",
       "2016-09-01 04:59:59                                  4.957674   \n",
       "\n",
       "                     secondary_cleaner.state.floatbank5_b_level  \\\n",
       "date                                                              \n",
       "2016-09-01 00:59:59                                 -500.037437   \n",
       "2016-09-01 01:59:59                                 -500.162375   \n",
       "2016-09-01 02:59:59                                 -499.828510   \n",
       "2016-09-01 03:59:59                                 -499.963623   \n",
       "2016-09-01 04:59:59                                 -500.360026   \n",
       "\n",
       "                     secondary_cleaner.state.floatbank6_a_air  \\\n",
       "date                                                            \n",
       "2016-09-01 00:59:59                                 26.705889   \n",
       "2016-09-01 01:59:59                                 25.019940   \n",
       "2016-09-01 02:59:59                                 24.994862   \n",
       "2016-09-01 03:59:59                                 24.948919   \n",
       "2016-09-01 04:59:59                                 25.003331   \n",
       "\n",
       "                     secondary_cleaner.state.floatbank6_a_level  \n",
       "date                                                             \n",
       "2016-09-01 00:59:59                                 -499.709414  \n",
       "2016-09-01 01:59:59                                 -499.819438  \n",
       "2016-09-01 02:59:59                                 -500.622559  \n",
       "2016-09-01 03:59:59                                 -498.709987  \n",
       "2016-09-01 04:59:59                                 -500.856333  \n",
       "\n",
       "[5 rows x 52 columns]"
      ]
     },
     "metadata": {},
     "output_type": "display_data"
    },
    {
     "name": "stdout",
     "output_type": "stream",
     "text": [
      "Описание df\n"
     ]
    },
    {
     "data": {
      "text/html": [
       "<div>\n",
       "<style scoped>\n",
       "    .dataframe tbody tr th:only-of-type {\n",
       "        vertical-align: middle;\n",
       "    }\n",
       "\n",
       "    .dataframe tbody tr th {\n",
       "        vertical-align: top;\n",
       "    }\n",
       "\n",
       "    .dataframe thead th {\n",
       "        text-align: right;\n",
       "    }\n",
       "</style>\n",
       "<table border=\"1\" class=\"dataframe\">\n",
       "  <thead>\n",
       "    <tr style=\"text-align: right;\">\n",
       "      <th></th>\n",
       "      <th>primary_cleaner.input.sulfate</th>\n",
       "      <th>primary_cleaner.input.depressant</th>\n",
       "      <th>primary_cleaner.input.feed_size</th>\n",
       "      <th>primary_cleaner.input.xanthate</th>\n",
       "      <th>primary_cleaner.state.floatbank8_a_air</th>\n",
       "      <th>primary_cleaner.state.floatbank8_a_level</th>\n",
       "      <th>primary_cleaner.state.floatbank8_b_air</th>\n",
       "      <th>primary_cleaner.state.floatbank8_b_level</th>\n",
       "      <th>primary_cleaner.state.floatbank8_c_air</th>\n",
       "      <th>primary_cleaner.state.floatbank8_c_level</th>\n",
       "      <th>...</th>\n",
       "      <th>secondary_cleaner.state.floatbank4_a_air</th>\n",
       "      <th>secondary_cleaner.state.floatbank4_a_level</th>\n",
       "      <th>secondary_cleaner.state.floatbank4_b_air</th>\n",
       "      <th>secondary_cleaner.state.floatbank4_b_level</th>\n",
       "      <th>secondary_cleaner.state.floatbank5_a_air</th>\n",
       "      <th>secondary_cleaner.state.floatbank5_a_level</th>\n",
       "      <th>secondary_cleaner.state.floatbank5_b_air</th>\n",
       "      <th>secondary_cleaner.state.floatbank5_b_level</th>\n",
       "      <th>secondary_cleaner.state.floatbank6_a_air</th>\n",
       "      <th>secondary_cleaner.state.floatbank6_a_level</th>\n",
       "    </tr>\n",
       "  </thead>\n",
       "  <tbody>\n",
       "    <tr>\n",
       "      <th>count</th>\n",
       "      <td>5286.000000</td>\n",
       "      <td>5285.000000</td>\n",
       "      <td>5290.000000</td>\n",
       "      <td>5286.000000</td>\n",
       "      <td>5.290000e+03</td>\n",
       "      <td>5290.000000</td>\n",
       "      <td>5.290000e+03</td>\n",
       "      <td>5290.000000</td>\n",
       "      <td>5.290000e+03</td>\n",
       "      <td>5290.000000</td>\n",
       "      <td>...</td>\n",
       "      <td>5.290000e+03</td>\n",
       "      <td>5290.000000</td>\n",
       "      <td>5.290000e+03</td>\n",
       "      <td>5290.000000</td>\n",
       "      <td>5290.000000</td>\n",
       "      <td>5290.000000</td>\n",
       "      <td>5290.000000</td>\n",
       "      <td>5290.000000</td>\n",
       "      <td>5290.000000</td>\n",
       "      <td>5290.000000</td>\n",
       "    </tr>\n",
       "    <tr>\n",
       "      <th>mean</th>\n",
       "      <td>174.839652</td>\n",
       "      <td>8.683596</td>\n",
       "      <td>7.266339</td>\n",
       "      <td>1.383803</td>\n",
       "      <td>1.539494e+03</td>\n",
       "      <td>-497.665883</td>\n",
       "      <td>1.545174e+03</td>\n",
       "      <td>-500.273098</td>\n",
       "      <td>1.527272e+03</td>\n",
       "      <td>-498.330680</td>\n",
       "      <td>...</td>\n",
       "      <td>1.632007e+01</td>\n",
       "      <td>-505.144570</td>\n",
       "      <td>1.373544e+01</td>\n",
       "      <td>-463.349858</td>\n",
       "      <td>12.804186</td>\n",
       "      <td>-501.329122</td>\n",
       "      <td>9.881145</td>\n",
       "      <td>-495.663398</td>\n",
       "      <td>17.304935</td>\n",
       "      <td>-501.793193</td>\n",
       "    </tr>\n",
       "    <tr>\n",
       "      <th>std</th>\n",
       "      <td>43.027080</td>\n",
       "      <td>3.072050</td>\n",
       "      <td>0.610219</td>\n",
       "      <td>0.643474</td>\n",
       "      <td>1.167979e+02</td>\n",
       "      <td>19.952431</td>\n",
       "      <td>1.222246e+02</td>\n",
       "      <td>32.968307</td>\n",
       "      <td>1.225380e+02</td>\n",
       "      <td>21.964876</td>\n",
       "      <td>...</td>\n",
       "      <td>3.493583e+00</td>\n",
       "      <td>31.427337</td>\n",
       "      <td>3.430484e+00</td>\n",
       "      <td>86.189107</td>\n",
       "      <td>3.026591</td>\n",
       "      <td>17.951495</td>\n",
       "      <td>2.868205</td>\n",
       "      <td>34.535007</td>\n",
       "      <td>4.536544</td>\n",
       "      <td>39.044215</td>\n",
       "    </tr>\n",
       "    <tr>\n",
       "      <th>min</th>\n",
       "      <td>2.566156</td>\n",
       "      <td>0.003839</td>\n",
       "      <td>5.650000</td>\n",
       "      <td>0.004984</td>\n",
       "      <td>5.445860e-32</td>\n",
       "      <td>-795.316337</td>\n",
       "      <td>6.647490e-32</td>\n",
       "      <td>-799.997015</td>\n",
       "      <td>4.033736e-32</td>\n",
       "      <td>-799.960571</td>\n",
       "      <td>...</td>\n",
       "      <td>1.079872e-16</td>\n",
       "      <td>-799.798523</td>\n",
       "      <td>2.489718e-17</td>\n",
       "      <td>-800.836914</td>\n",
       "      <td>0.069227</td>\n",
       "      <td>-797.323986</td>\n",
       "      <td>0.528083</td>\n",
       "      <td>-800.220337</td>\n",
       "      <td>-0.079426</td>\n",
       "      <td>-809.741464</td>\n",
       "    </tr>\n",
       "    <tr>\n",
       "      <th>25%</th>\n",
       "      <td>147.121401</td>\n",
       "      <td>6.489555</td>\n",
       "      <td>6.890000</td>\n",
       "      <td>0.907623</td>\n",
       "      <td>1.498936e+03</td>\n",
       "      <td>-500.357298</td>\n",
       "      <td>1.498971e+03</td>\n",
       "      <td>-500.703002</td>\n",
       "      <td>1.473230e+03</td>\n",
       "      <td>-501.018117</td>\n",
       "      <td>...</td>\n",
       "      <td>1.403618e+01</td>\n",
       "      <td>-500.868258</td>\n",
       "      <td>1.202862e+01</td>\n",
       "      <td>-500.323028</td>\n",
       "      <td>10.914838</td>\n",
       "      <td>-500.726841</td>\n",
       "      <td>8.036719</td>\n",
       "      <td>-500.194668</td>\n",
       "      <td>13.997317</td>\n",
       "      <td>-500.690984</td>\n",
       "    </tr>\n",
       "    <tr>\n",
       "      <th>50%</th>\n",
       "      <td>177.828489</td>\n",
       "      <td>8.052207</td>\n",
       "      <td>7.250000</td>\n",
       "      <td>1.197610</td>\n",
       "      <td>1.585129e+03</td>\n",
       "      <td>-499.969164</td>\n",
       "      <td>1.595622e+03</td>\n",
       "      <td>-500.028514</td>\n",
       "      <td>1.549595e+03</td>\n",
       "      <td>-500.017711</td>\n",
       "      <td>...</td>\n",
       "      <td>1.700847e+01</td>\n",
       "      <td>-500.115727</td>\n",
       "      <td>1.496486e+01</td>\n",
       "      <td>-499.576513</td>\n",
       "      <td>12.954182</td>\n",
       "      <td>-499.990332</td>\n",
       "      <td>10.004301</td>\n",
       "      <td>-499.990535</td>\n",
       "      <td>16.014935</td>\n",
       "      <td>-500.007126</td>\n",
       "    </tr>\n",
       "    <tr>\n",
       "      <th>75%</th>\n",
       "      <td>208.125438</td>\n",
       "      <td>10.027764</td>\n",
       "      <td>7.600000</td>\n",
       "      <td>1.797819</td>\n",
       "      <td>1.602077e+03</td>\n",
       "      <td>-499.568951</td>\n",
       "      <td>1.602324e+03</td>\n",
       "      <td>-499.293257</td>\n",
       "      <td>1.601144e+03</td>\n",
       "      <td>-498.994130</td>\n",
       "      <td>...</td>\n",
       "      <td>1.803862e+01</td>\n",
       "      <td>-499.404224</td>\n",
       "      <td>1.596213e+01</td>\n",
       "      <td>-400.933805</td>\n",
       "      <td>15.097528</td>\n",
       "      <td>-499.283191</td>\n",
       "      <td>11.997467</td>\n",
       "      <td>-499.719913</td>\n",
       "      <td>21.020013</td>\n",
       "      <td>-499.373018</td>\n",
       "    </tr>\n",
       "    <tr>\n",
       "      <th>max</th>\n",
       "      <td>265.983123</td>\n",
       "      <td>40.000000</td>\n",
       "      <td>15.500000</td>\n",
       "      <td>4.102454</td>\n",
       "      <td>2.103104e+03</td>\n",
       "      <td>-57.195404</td>\n",
       "      <td>1.813084e+03</td>\n",
       "      <td>-142.527229</td>\n",
       "      <td>1.715054e+03</td>\n",
       "      <td>-150.937035</td>\n",
       "      <td>...</td>\n",
       "      <td>3.005180e+01</td>\n",
       "      <td>-401.565212</td>\n",
       "      <td>3.126971e+01</td>\n",
       "      <td>-6.506986</td>\n",
       "      <td>25.258848</td>\n",
       "      <td>-244.483566</td>\n",
       "      <td>14.086866</td>\n",
       "      <td>-137.740004</td>\n",
       "      <td>26.705889</td>\n",
       "      <td>-123.307487</td>\n",
       "    </tr>\n",
       "  </tbody>\n",
       "</table>\n",
       "<p>8 rows × 52 columns</p>\n",
       "</div>"
      ],
      "text/plain": [
       "       primary_cleaner.input.sulfate  primary_cleaner.input.depressant  \\\n",
       "count                    5286.000000                       5285.000000   \n",
       "mean                      174.839652                          8.683596   \n",
       "std                        43.027080                          3.072050   \n",
       "min                         2.566156                          0.003839   \n",
       "25%                       147.121401                          6.489555   \n",
       "50%                       177.828489                          8.052207   \n",
       "75%                       208.125438                         10.027764   \n",
       "max                       265.983123                         40.000000   \n",
       "\n",
       "       primary_cleaner.input.feed_size  primary_cleaner.input.xanthate  \\\n",
       "count                      5290.000000                     5286.000000   \n",
       "mean                          7.266339                        1.383803   \n",
       "std                           0.610219                        0.643474   \n",
       "min                           5.650000                        0.004984   \n",
       "25%                           6.890000                        0.907623   \n",
       "50%                           7.250000                        1.197610   \n",
       "75%                           7.600000                        1.797819   \n",
       "max                          15.500000                        4.102454   \n",
       "\n",
       "       primary_cleaner.state.floatbank8_a_air  \\\n",
       "count                            5.290000e+03   \n",
       "mean                             1.539494e+03   \n",
       "std                              1.167979e+02   \n",
       "min                              5.445860e-32   \n",
       "25%                              1.498936e+03   \n",
       "50%                              1.585129e+03   \n",
       "75%                              1.602077e+03   \n",
       "max                              2.103104e+03   \n",
       "\n",
       "       primary_cleaner.state.floatbank8_a_level  \\\n",
       "count                               5290.000000   \n",
       "mean                                -497.665883   \n",
       "std                                   19.952431   \n",
       "min                                 -795.316337   \n",
       "25%                                 -500.357298   \n",
       "50%                                 -499.969164   \n",
       "75%                                 -499.568951   \n",
       "max                                  -57.195404   \n",
       "\n",
       "       primary_cleaner.state.floatbank8_b_air  \\\n",
       "count                            5.290000e+03   \n",
       "mean                             1.545174e+03   \n",
       "std                              1.222246e+02   \n",
       "min                              6.647490e-32   \n",
       "25%                              1.498971e+03   \n",
       "50%                              1.595622e+03   \n",
       "75%                              1.602324e+03   \n",
       "max                              1.813084e+03   \n",
       "\n",
       "       primary_cleaner.state.floatbank8_b_level  \\\n",
       "count                               5290.000000   \n",
       "mean                                -500.273098   \n",
       "std                                   32.968307   \n",
       "min                                 -799.997015   \n",
       "25%                                 -500.703002   \n",
       "50%                                 -500.028514   \n",
       "75%                                 -499.293257   \n",
       "max                                 -142.527229   \n",
       "\n",
       "       primary_cleaner.state.floatbank8_c_air  \\\n",
       "count                            5.290000e+03   \n",
       "mean                             1.527272e+03   \n",
       "std                              1.225380e+02   \n",
       "min                              4.033736e-32   \n",
       "25%                              1.473230e+03   \n",
       "50%                              1.549595e+03   \n",
       "75%                              1.601144e+03   \n",
       "max                              1.715054e+03   \n",
       "\n",
       "       primary_cleaner.state.floatbank8_c_level  ...  \\\n",
       "count                               5290.000000  ...   \n",
       "mean                                -498.330680  ...   \n",
       "std                                   21.964876  ...   \n",
       "min                                 -799.960571  ...   \n",
       "25%                                 -501.018117  ...   \n",
       "50%                                 -500.017711  ...   \n",
       "75%                                 -498.994130  ...   \n",
       "max                                 -150.937035  ...   \n",
       "\n",
       "       secondary_cleaner.state.floatbank4_a_air  \\\n",
       "count                              5.290000e+03   \n",
       "mean                               1.632007e+01   \n",
       "std                                3.493583e+00   \n",
       "min                                1.079872e-16   \n",
       "25%                                1.403618e+01   \n",
       "50%                                1.700847e+01   \n",
       "75%                                1.803862e+01   \n",
       "max                                3.005180e+01   \n",
       "\n",
       "       secondary_cleaner.state.floatbank4_a_level  \\\n",
       "count                                 5290.000000   \n",
       "mean                                  -505.144570   \n",
       "std                                     31.427337   \n",
       "min                                   -799.798523   \n",
       "25%                                   -500.868258   \n",
       "50%                                   -500.115727   \n",
       "75%                                   -499.404224   \n",
       "max                                   -401.565212   \n",
       "\n",
       "       secondary_cleaner.state.floatbank4_b_air  \\\n",
       "count                              5.290000e+03   \n",
       "mean                               1.373544e+01   \n",
       "std                                3.430484e+00   \n",
       "min                                2.489718e-17   \n",
       "25%                                1.202862e+01   \n",
       "50%                                1.496486e+01   \n",
       "75%                                1.596213e+01   \n",
       "max                                3.126971e+01   \n",
       "\n",
       "       secondary_cleaner.state.floatbank4_b_level  \\\n",
       "count                                 5290.000000   \n",
       "mean                                  -463.349858   \n",
       "std                                     86.189107   \n",
       "min                                   -800.836914   \n",
       "25%                                   -500.323028   \n",
       "50%                                   -499.576513   \n",
       "75%                                   -400.933805   \n",
       "max                                     -6.506986   \n",
       "\n",
       "       secondary_cleaner.state.floatbank5_a_air  \\\n",
       "count                               5290.000000   \n",
       "mean                                  12.804186   \n",
       "std                                    3.026591   \n",
       "min                                    0.069227   \n",
       "25%                                   10.914838   \n",
       "50%                                   12.954182   \n",
       "75%                                   15.097528   \n",
       "max                                   25.258848   \n",
       "\n",
       "       secondary_cleaner.state.floatbank5_a_level  \\\n",
       "count                                 5290.000000   \n",
       "mean                                  -501.329122   \n",
       "std                                     17.951495   \n",
       "min                                   -797.323986   \n",
       "25%                                   -500.726841   \n",
       "50%                                   -499.990332   \n",
       "75%                                   -499.283191   \n",
       "max                                   -244.483566   \n",
       "\n",
       "       secondary_cleaner.state.floatbank5_b_air  \\\n",
       "count                               5290.000000   \n",
       "mean                                   9.881145   \n",
       "std                                    2.868205   \n",
       "min                                    0.528083   \n",
       "25%                                    8.036719   \n",
       "50%                                   10.004301   \n",
       "75%                                   11.997467   \n",
       "max                                   14.086866   \n",
       "\n",
       "       secondary_cleaner.state.floatbank5_b_level  \\\n",
       "count                                 5290.000000   \n",
       "mean                                  -495.663398   \n",
       "std                                     34.535007   \n",
       "min                                   -800.220337   \n",
       "25%                                   -500.194668   \n",
       "50%                                   -499.990535   \n",
       "75%                                   -499.719913   \n",
       "max                                   -137.740004   \n",
       "\n",
       "       secondary_cleaner.state.floatbank6_a_air  \\\n",
       "count                               5290.000000   \n",
       "mean                                  17.304935   \n",
       "std                                    4.536544   \n",
       "min                                   -0.079426   \n",
       "25%                                   13.997317   \n",
       "50%                                   16.014935   \n",
       "75%                                   21.020013   \n",
       "max                                   26.705889   \n",
       "\n",
       "       secondary_cleaner.state.floatbank6_a_level  \n",
       "count                                 5290.000000  \n",
       "mean                                  -501.793193  \n",
       "std                                     39.044215  \n",
       "min                                   -809.741464  \n",
       "25%                                   -500.690984  \n",
       "50%                                   -500.007126  \n",
       "75%                                   -499.373018  \n",
       "max                                   -123.307487  \n",
       "\n",
       "[8 rows x 52 columns]"
      ]
     },
     "metadata": {},
     "output_type": "display_data"
    },
    {
     "name": "stdout",
     "output_type": "stream",
     "text": [
      "\n",
      "Размер df: (5290, 52)\n"
     ]
    }
   ],
   "source": [
    "print('Первые строки:')\n",
    "display(test.head())\n",
    "print('Описание df')\n",
    "display(test.describe())\n",
    "print('')\n",
    "print('Размер df:', test.shape)"
   ]
  },
  {
   "cell_type": "markdown",
   "metadata": {},
   "source": [
    "**Исходные данные**"
   ]
  },
  {
   "cell_type": "code",
   "execution_count": 6,
   "metadata": {},
   "outputs": [
    {
     "name": "stdout",
     "output_type": "stream",
     "text": [
      "Первые строки:\n"
     ]
    },
    {
     "data": {
      "text/html": [
       "<div>\n",
       "<style scoped>\n",
       "    .dataframe tbody tr th:only-of-type {\n",
       "        vertical-align: middle;\n",
       "    }\n",
       "\n",
       "    .dataframe tbody tr th {\n",
       "        vertical-align: top;\n",
       "    }\n",
       "\n",
       "    .dataframe thead th {\n",
       "        text-align: right;\n",
       "    }\n",
       "</style>\n",
       "<table border=\"1\" class=\"dataframe\">\n",
       "  <thead>\n",
       "    <tr style=\"text-align: right;\">\n",
       "      <th></th>\n",
       "      <th>final.output.concentrate_ag</th>\n",
       "      <th>final.output.concentrate_pb</th>\n",
       "      <th>final.output.concentrate_sol</th>\n",
       "      <th>final.output.concentrate_au</th>\n",
       "      <th>final.output.recovery</th>\n",
       "      <th>final.output.tail_ag</th>\n",
       "      <th>final.output.tail_pb</th>\n",
       "      <th>final.output.tail_sol</th>\n",
       "      <th>final.output.tail_au</th>\n",
       "      <th>primary_cleaner.input.sulfate</th>\n",
       "      <th>...</th>\n",
       "      <th>secondary_cleaner.state.floatbank4_a_air</th>\n",
       "      <th>secondary_cleaner.state.floatbank4_a_level</th>\n",
       "      <th>secondary_cleaner.state.floatbank4_b_air</th>\n",
       "      <th>secondary_cleaner.state.floatbank4_b_level</th>\n",
       "      <th>secondary_cleaner.state.floatbank5_a_air</th>\n",
       "      <th>secondary_cleaner.state.floatbank5_a_level</th>\n",
       "      <th>secondary_cleaner.state.floatbank5_b_air</th>\n",
       "      <th>secondary_cleaner.state.floatbank5_b_level</th>\n",
       "      <th>secondary_cleaner.state.floatbank6_a_air</th>\n",
       "      <th>secondary_cleaner.state.floatbank6_a_level</th>\n",
       "    </tr>\n",
       "    <tr>\n",
       "      <th>date</th>\n",
       "      <th></th>\n",
       "      <th></th>\n",
       "      <th></th>\n",
       "      <th></th>\n",
       "      <th></th>\n",
       "      <th></th>\n",
       "      <th></th>\n",
       "      <th></th>\n",
       "      <th></th>\n",
       "      <th></th>\n",
       "      <th></th>\n",
       "      <th></th>\n",
       "      <th></th>\n",
       "      <th></th>\n",
       "      <th></th>\n",
       "      <th></th>\n",
       "      <th></th>\n",
       "      <th></th>\n",
       "      <th></th>\n",
       "      <th></th>\n",
       "      <th></th>\n",
       "    </tr>\n",
       "  </thead>\n",
       "  <tbody>\n",
       "    <tr>\n",
       "      <th>2016-01-15 00:00:00</th>\n",
       "      <td>6.055403</td>\n",
       "      <td>9.889648</td>\n",
       "      <td>5.507324</td>\n",
       "      <td>42.192020</td>\n",
       "      <td>70.541216</td>\n",
       "      <td>10.411962</td>\n",
       "      <td>0.895447</td>\n",
       "      <td>16.904297</td>\n",
       "      <td>2.143149</td>\n",
       "      <td>127.092003</td>\n",
       "      <td>...</td>\n",
       "      <td>14.016835</td>\n",
       "      <td>-502.488007</td>\n",
       "      <td>12.099931</td>\n",
       "      <td>-504.715942</td>\n",
       "      <td>9.925633</td>\n",
       "      <td>-498.310211</td>\n",
       "      <td>8.079666</td>\n",
       "      <td>-500.470978</td>\n",
       "      <td>14.151341</td>\n",
       "      <td>-605.841980</td>\n",
       "    </tr>\n",
       "    <tr>\n",
       "      <th>2016-01-15 01:00:00</th>\n",
       "      <td>6.029369</td>\n",
       "      <td>9.968944</td>\n",
       "      <td>5.257781</td>\n",
       "      <td>42.701629</td>\n",
       "      <td>69.266198</td>\n",
       "      <td>10.462676</td>\n",
       "      <td>0.927452</td>\n",
       "      <td>16.634514</td>\n",
       "      <td>2.224930</td>\n",
       "      <td>125.629232</td>\n",
       "      <td>...</td>\n",
       "      <td>13.992281</td>\n",
       "      <td>-505.503262</td>\n",
       "      <td>11.950531</td>\n",
       "      <td>-501.331529</td>\n",
       "      <td>10.039245</td>\n",
       "      <td>-500.169983</td>\n",
       "      <td>7.984757</td>\n",
       "      <td>-500.582168</td>\n",
       "      <td>13.998353</td>\n",
       "      <td>-599.787184</td>\n",
       "    </tr>\n",
       "    <tr>\n",
       "      <th>2016-01-15 02:00:00</th>\n",
       "      <td>6.055926</td>\n",
       "      <td>10.213995</td>\n",
       "      <td>5.383759</td>\n",
       "      <td>42.657501</td>\n",
       "      <td>68.116445</td>\n",
       "      <td>10.507046</td>\n",
       "      <td>0.953716</td>\n",
       "      <td>16.208849</td>\n",
       "      <td>2.257889</td>\n",
       "      <td>123.819808</td>\n",
       "      <td>...</td>\n",
       "      <td>14.015015</td>\n",
       "      <td>-502.520901</td>\n",
       "      <td>11.912783</td>\n",
       "      <td>-501.133383</td>\n",
       "      <td>10.070913</td>\n",
       "      <td>-500.129135</td>\n",
       "      <td>8.013877</td>\n",
       "      <td>-500.517572</td>\n",
       "      <td>14.028663</td>\n",
       "      <td>-601.427363</td>\n",
       "    </tr>\n",
       "    <tr>\n",
       "      <th>2016-01-15 03:00:00</th>\n",
       "      <td>6.047977</td>\n",
       "      <td>9.977019</td>\n",
       "      <td>4.858634</td>\n",
       "      <td>42.689819</td>\n",
       "      <td>68.347543</td>\n",
       "      <td>10.422762</td>\n",
       "      <td>0.883763</td>\n",
       "      <td>16.532835</td>\n",
       "      <td>2.146849</td>\n",
       "      <td>122.270188</td>\n",
       "      <td>...</td>\n",
       "      <td>14.036510</td>\n",
       "      <td>-500.857308</td>\n",
       "      <td>11.999550</td>\n",
       "      <td>-501.193686</td>\n",
       "      <td>9.970366</td>\n",
       "      <td>-499.201640</td>\n",
       "      <td>7.977324</td>\n",
       "      <td>-500.255908</td>\n",
       "      <td>14.005551</td>\n",
       "      <td>-599.996129</td>\n",
       "    </tr>\n",
       "    <tr>\n",
       "      <th>2016-01-15 04:00:00</th>\n",
       "      <td>6.148599</td>\n",
       "      <td>10.142511</td>\n",
       "      <td>4.939416</td>\n",
       "      <td>42.774141</td>\n",
       "      <td>66.927016</td>\n",
       "      <td>10.360302</td>\n",
       "      <td>0.792826</td>\n",
       "      <td>16.525686</td>\n",
       "      <td>2.055292</td>\n",
       "      <td>117.988169</td>\n",
       "      <td>...</td>\n",
       "      <td>14.027298</td>\n",
       "      <td>-499.838632</td>\n",
       "      <td>11.953070</td>\n",
       "      <td>-501.053894</td>\n",
       "      <td>9.925709</td>\n",
       "      <td>-501.686727</td>\n",
       "      <td>7.894242</td>\n",
       "      <td>-500.356035</td>\n",
       "      <td>13.996647</td>\n",
       "      <td>-601.496691</td>\n",
       "    </tr>\n",
       "  </tbody>\n",
       "</table>\n",
       "<p>5 rows × 86 columns</p>\n",
       "</div>"
      ],
      "text/plain": [
       "                     final.output.concentrate_ag  final.output.concentrate_pb  \\\n",
       "date                                                                            \n",
       "2016-01-15 00:00:00                     6.055403                     9.889648   \n",
       "2016-01-15 01:00:00                     6.029369                     9.968944   \n",
       "2016-01-15 02:00:00                     6.055926                    10.213995   \n",
       "2016-01-15 03:00:00                     6.047977                     9.977019   \n",
       "2016-01-15 04:00:00                     6.148599                    10.142511   \n",
       "\n",
       "                     final.output.concentrate_sol  \\\n",
       "date                                                \n",
       "2016-01-15 00:00:00                      5.507324   \n",
       "2016-01-15 01:00:00                      5.257781   \n",
       "2016-01-15 02:00:00                      5.383759   \n",
       "2016-01-15 03:00:00                      4.858634   \n",
       "2016-01-15 04:00:00                      4.939416   \n",
       "\n",
       "                     final.output.concentrate_au  final.output.recovery  \\\n",
       "date                                                                      \n",
       "2016-01-15 00:00:00                    42.192020              70.541216   \n",
       "2016-01-15 01:00:00                    42.701629              69.266198   \n",
       "2016-01-15 02:00:00                    42.657501              68.116445   \n",
       "2016-01-15 03:00:00                    42.689819              68.347543   \n",
       "2016-01-15 04:00:00                    42.774141              66.927016   \n",
       "\n",
       "                     final.output.tail_ag  final.output.tail_pb  \\\n",
       "date                                                              \n",
       "2016-01-15 00:00:00             10.411962              0.895447   \n",
       "2016-01-15 01:00:00             10.462676              0.927452   \n",
       "2016-01-15 02:00:00             10.507046              0.953716   \n",
       "2016-01-15 03:00:00             10.422762              0.883763   \n",
       "2016-01-15 04:00:00             10.360302              0.792826   \n",
       "\n",
       "                     final.output.tail_sol  final.output.tail_au  \\\n",
       "date                                                               \n",
       "2016-01-15 00:00:00              16.904297              2.143149   \n",
       "2016-01-15 01:00:00              16.634514              2.224930   \n",
       "2016-01-15 02:00:00              16.208849              2.257889   \n",
       "2016-01-15 03:00:00              16.532835              2.146849   \n",
       "2016-01-15 04:00:00              16.525686              2.055292   \n",
       "\n",
       "                     primary_cleaner.input.sulfate  ...  \\\n",
       "date                                                ...   \n",
       "2016-01-15 00:00:00                     127.092003  ...   \n",
       "2016-01-15 01:00:00                     125.629232  ...   \n",
       "2016-01-15 02:00:00                     123.819808  ...   \n",
       "2016-01-15 03:00:00                     122.270188  ...   \n",
       "2016-01-15 04:00:00                     117.988169  ...   \n",
       "\n",
       "                     secondary_cleaner.state.floatbank4_a_air  \\\n",
       "date                                                            \n",
       "2016-01-15 00:00:00                                 14.016835   \n",
       "2016-01-15 01:00:00                                 13.992281   \n",
       "2016-01-15 02:00:00                                 14.015015   \n",
       "2016-01-15 03:00:00                                 14.036510   \n",
       "2016-01-15 04:00:00                                 14.027298   \n",
       "\n",
       "                     secondary_cleaner.state.floatbank4_a_level  \\\n",
       "date                                                              \n",
       "2016-01-15 00:00:00                                 -502.488007   \n",
       "2016-01-15 01:00:00                                 -505.503262   \n",
       "2016-01-15 02:00:00                                 -502.520901   \n",
       "2016-01-15 03:00:00                                 -500.857308   \n",
       "2016-01-15 04:00:00                                 -499.838632   \n",
       "\n",
       "                     secondary_cleaner.state.floatbank4_b_air  \\\n",
       "date                                                            \n",
       "2016-01-15 00:00:00                                 12.099931   \n",
       "2016-01-15 01:00:00                                 11.950531   \n",
       "2016-01-15 02:00:00                                 11.912783   \n",
       "2016-01-15 03:00:00                                 11.999550   \n",
       "2016-01-15 04:00:00                                 11.953070   \n",
       "\n",
       "                     secondary_cleaner.state.floatbank4_b_level  \\\n",
       "date                                                              \n",
       "2016-01-15 00:00:00                                 -504.715942   \n",
       "2016-01-15 01:00:00                                 -501.331529   \n",
       "2016-01-15 02:00:00                                 -501.133383   \n",
       "2016-01-15 03:00:00                                 -501.193686   \n",
       "2016-01-15 04:00:00                                 -501.053894   \n",
       "\n",
       "                     secondary_cleaner.state.floatbank5_a_air  \\\n",
       "date                                                            \n",
       "2016-01-15 00:00:00                                  9.925633   \n",
       "2016-01-15 01:00:00                                 10.039245   \n",
       "2016-01-15 02:00:00                                 10.070913   \n",
       "2016-01-15 03:00:00                                  9.970366   \n",
       "2016-01-15 04:00:00                                  9.925709   \n",
       "\n",
       "                     secondary_cleaner.state.floatbank5_a_level  \\\n",
       "date                                                              \n",
       "2016-01-15 00:00:00                                 -498.310211   \n",
       "2016-01-15 01:00:00                                 -500.169983   \n",
       "2016-01-15 02:00:00                                 -500.129135   \n",
       "2016-01-15 03:00:00                                 -499.201640   \n",
       "2016-01-15 04:00:00                                 -501.686727   \n",
       "\n",
       "                     secondary_cleaner.state.floatbank5_b_air  \\\n",
       "date                                                            \n",
       "2016-01-15 00:00:00                                  8.079666   \n",
       "2016-01-15 01:00:00                                  7.984757   \n",
       "2016-01-15 02:00:00                                  8.013877   \n",
       "2016-01-15 03:00:00                                  7.977324   \n",
       "2016-01-15 04:00:00                                  7.894242   \n",
       "\n",
       "                     secondary_cleaner.state.floatbank5_b_level  \\\n",
       "date                                                              \n",
       "2016-01-15 00:00:00                                 -500.470978   \n",
       "2016-01-15 01:00:00                                 -500.582168   \n",
       "2016-01-15 02:00:00                                 -500.517572   \n",
       "2016-01-15 03:00:00                                 -500.255908   \n",
       "2016-01-15 04:00:00                                 -500.356035   \n",
       "\n",
       "                     secondary_cleaner.state.floatbank6_a_air  \\\n",
       "date                                                            \n",
       "2016-01-15 00:00:00                                 14.151341   \n",
       "2016-01-15 01:00:00                                 13.998353   \n",
       "2016-01-15 02:00:00                                 14.028663   \n",
       "2016-01-15 03:00:00                                 14.005551   \n",
       "2016-01-15 04:00:00                                 13.996647   \n",
       "\n",
       "                     secondary_cleaner.state.floatbank6_a_level  \n",
       "date                                                             \n",
       "2016-01-15 00:00:00                                 -605.841980  \n",
       "2016-01-15 01:00:00                                 -599.787184  \n",
       "2016-01-15 02:00:00                                 -601.427363  \n",
       "2016-01-15 03:00:00                                 -599.996129  \n",
       "2016-01-15 04:00:00                                 -601.496691  \n",
       "\n",
       "[5 rows x 86 columns]"
      ]
     },
     "metadata": {},
     "output_type": "display_data"
    },
    {
     "name": "stdout",
     "output_type": "stream",
     "text": [
      "Описание df\n"
     ]
    },
    {
     "data": {
      "text/html": [
       "<div>\n",
       "<style scoped>\n",
       "    .dataframe tbody tr th:only-of-type {\n",
       "        vertical-align: middle;\n",
       "    }\n",
       "\n",
       "    .dataframe tbody tr th {\n",
       "        vertical-align: top;\n",
       "    }\n",
       "\n",
       "    .dataframe thead th {\n",
       "        text-align: right;\n",
       "    }\n",
       "</style>\n",
       "<table border=\"1\" class=\"dataframe\">\n",
       "  <thead>\n",
       "    <tr style=\"text-align: right;\">\n",
       "      <th></th>\n",
       "      <th>final.output.concentrate_ag</th>\n",
       "      <th>final.output.concentrate_pb</th>\n",
       "      <th>final.output.concentrate_sol</th>\n",
       "      <th>final.output.concentrate_au</th>\n",
       "      <th>final.output.recovery</th>\n",
       "      <th>final.output.tail_ag</th>\n",
       "      <th>final.output.tail_pb</th>\n",
       "      <th>final.output.tail_sol</th>\n",
       "      <th>final.output.tail_au</th>\n",
       "      <th>primary_cleaner.input.sulfate</th>\n",
       "      <th>...</th>\n",
       "      <th>secondary_cleaner.state.floatbank4_a_air</th>\n",
       "      <th>secondary_cleaner.state.floatbank4_a_level</th>\n",
       "      <th>secondary_cleaner.state.floatbank4_b_air</th>\n",
       "      <th>secondary_cleaner.state.floatbank4_b_level</th>\n",
       "      <th>secondary_cleaner.state.floatbank5_a_air</th>\n",
       "      <th>secondary_cleaner.state.floatbank5_a_level</th>\n",
       "      <th>secondary_cleaner.state.floatbank5_b_air</th>\n",
       "      <th>secondary_cleaner.state.floatbank5_b_level</th>\n",
       "      <th>secondary_cleaner.state.floatbank6_a_air</th>\n",
       "      <th>secondary_cleaner.state.floatbank6_a_level</th>\n",
       "    </tr>\n",
       "  </thead>\n",
       "  <tbody>\n",
       "    <tr>\n",
       "      <th>count</th>\n",
       "      <td>19438.000000</td>\n",
       "      <td>19438.000000</td>\n",
       "      <td>19228.000000</td>\n",
       "      <td>19439.000000</td>\n",
       "      <td>19439.000000</td>\n",
       "      <td>19438.000000</td>\n",
       "      <td>19338.000000</td>\n",
       "      <td>19433.000000</td>\n",
       "      <td>19439.000000</td>\n",
       "      <td>19415.000000</td>\n",
       "      <td>...</td>\n",
       "      <td>19433.000000</td>\n",
       "      <td>19438.000000</td>\n",
       "      <td>19438.000000</td>\n",
       "      <td>19438.000000</td>\n",
       "      <td>19438.000000</td>\n",
       "      <td>19438.000000</td>\n",
       "      <td>19438.000000</td>\n",
       "      <td>19438.000000</td>\n",
       "      <td>19437.000000</td>\n",
       "      <td>19438.000000</td>\n",
       "    </tr>\n",
       "    <tr>\n",
       "      <th>mean</th>\n",
       "      <td>5.168470</td>\n",
       "      <td>9.978895</td>\n",
       "      <td>9.501224</td>\n",
       "      <td>44.076513</td>\n",
       "      <td>67.050208</td>\n",
       "      <td>9.688589</td>\n",
       "      <td>2.705795</td>\n",
       "      <td>10.583728</td>\n",
       "      <td>3.042467</td>\n",
       "      <td>144.624774</td>\n",
       "      <td>...</td>\n",
       "      <td>18.987674</td>\n",
       "      <td>-485.894516</td>\n",
       "      <td>15.010366</td>\n",
       "      <td>-461.078636</td>\n",
       "      <td>15.694452</td>\n",
       "      <td>-488.684065</td>\n",
       "      <td>12.198224</td>\n",
       "      <td>-487.149827</td>\n",
       "      <td>18.959024</td>\n",
       "      <td>-505.436305</td>\n",
       "    </tr>\n",
       "    <tr>\n",
       "      <th>std</th>\n",
       "      <td>1.372348</td>\n",
       "      <td>1.669240</td>\n",
       "      <td>2.787537</td>\n",
       "      <td>5.129784</td>\n",
       "      <td>10.125840</td>\n",
       "      <td>2.328642</td>\n",
       "      <td>0.949077</td>\n",
       "      <td>2.868782</td>\n",
       "      <td>0.922808</td>\n",
       "      <td>44.464071</td>\n",
       "      <td>...</td>\n",
       "      <td>5.411058</td>\n",
       "      <td>47.758570</td>\n",
       "      <td>4.890228</td>\n",
       "      <td>67.405524</td>\n",
       "      <td>5.510974</td>\n",
       "      <td>34.533396</td>\n",
       "      <td>5.333024</td>\n",
       "      <td>38.347312</td>\n",
       "      <td>5.550498</td>\n",
       "      <td>37.689057</td>\n",
       "    </tr>\n",
       "    <tr>\n",
       "      <th>min</th>\n",
       "      <td>0.000000</td>\n",
       "      <td>0.000000</td>\n",
       "      <td>0.000000</td>\n",
       "      <td>0.000000</td>\n",
       "      <td>0.000000</td>\n",
       "      <td>0.000000</td>\n",
       "      <td>0.000000</td>\n",
       "      <td>0.000000</td>\n",
       "      <td>0.000000</td>\n",
       "      <td>0.003112</td>\n",
       "      <td>...</td>\n",
       "      <td>0.000000</td>\n",
       "      <td>-799.798523</td>\n",
       "      <td>0.000000</td>\n",
       "      <td>-800.836914</td>\n",
       "      <td>-0.372054</td>\n",
       "      <td>-797.323986</td>\n",
       "      <td>0.528083</td>\n",
       "      <td>-800.220337</td>\n",
       "      <td>-0.079426</td>\n",
       "      <td>-809.741464</td>\n",
       "    </tr>\n",
       "    <tr>\n",
       "      <th>25%</th>\n",
       "      <td>4.251240</td>\n",
       "      <td>9.137262</td>\n",
       "      <td>7.722820</td>\n",
       "      <td>43.402215</td>\n",
       "      <td>63.299712</td>\n",
       "      <td>8.062878</td>\n",
       "      <td>2.040119</td>\n",
       "      <td>8.938947</td>\n",
       "      <td>2.461138</td>\n",
       "      <td>114.107029</td>\n",
       "      <td>...</td>\n",
       "      <td>14.975734</td>\n",
       "      <td>-500.704892</td>\n",
       "      <td>11.940294</td>\n",
       "      <td>-500.187742</td>\n",
       "      <td>10.988606</td>\n",
       "      <td>-500.458467</td>\n",
       "      <td>8.971105</td>\n",
       "      <td>-500.129462</td>\n",
       "      <td>14.983037</td>\n",
       "      <td>-500.728067</td>\n",
       "    </tr>\n",
       "    <tr>\n",
       "      <th>50%</th>\n",
       "      <td>5.066094</td>\n",
       "      <td>10.102433</td>\n",
       "      <td>9.218961</td>\n",
       "      <td>45.011244</td>\n",
       "      <td>68.172738</td>\n",
       "      <td>9.743623</td>\n",
       "      <td>2.748730</td>\n",
       "      <td>10.622456</td>\n",
       "      <td>2.984909</td>\n",
       "      <td>143.232103</td>\n",
       "      <td>...</td>\n",
       "      <td>18.017481</td>\n",
       "      <td>-499.837793</td>\n",
       "      <td>14.971014</td>\n",
       "      <td>-499.459786</td>\n",
       "      <td>15.000036</td>\n",
       "      <td>-499.802605</td>\n",
       "      <td>11.019433</td>\n",
       "      <td>-499.935317</td>\n",
       "      <td>19.960541</td>\n",
       "      <td>-500.048400</td>\n",
       "    </tr>\n",
       "    <tr>\n",
       "      <th>75%</th>\n",
       "      <td>5.895527</td>\n",
       "      <td>11.035769</td>\n",
       "      <td>10.947813</td>\n",
       "      <td>46.275313</td>\n",
       "      <td>72.686642</td>\n",
       "      <td>11.134294</td>\n",
       "      <td>3.333216</td>\n",
       "      <td>12.104271</td>\n",
       "      <td>3.571351</td>\n",
       "      <td>175.075656</td>\n",
       "      <td>...</td>\n",
       "      <td>23.012470</td>\n",
       "      <td>-498.249730</td>\n",
       "      <td>19.034162</td>\n",
       "      <td>-400.118106</td>\n",
       "      <td>18.026190</td>\n",
       "      <td>-498.384187</td>\n",
       "      <td>14.019088</td>\n",
       "      <td>-499.436708</td>\n",
       "      <td>24.003170</td>\n",
       "      <td>-499.495378</td>\n",
       "    </tr>\n",
       "    <tr>\n",
       "      <th>max</th>\n",
       "      <td>16.001945</td>\n",
       "      <td>17.031899</td>\n",
       "      <td>19.615720</td>\n",
       "      <td>52.756638</td>\n",
       "      <td>100.000000</td>\n",
       "      <td>19.552149</td>\n",
       "      <td>5.804178</td>\n",
       "      <td>22.317730</td>\n",
       "      <td>8.245022</td>\n",
       "      <td>265.983123</td>\n",
       "      <td>...</td>\n",
       "      <td>30.115735</td>\n",
       "      <td>-245.239184</td>\n",
       "      <td>31.269706</td>\n",
       "      <td>-6.506986</td>\n",
       "      <td>43.709931</td>\n",
       "      <td>-244.483566</td>\n",
       "      <td>27.926001</td>\n",
       "      <td>-137.740004</td>\n",
       "      <td>32.188906</td>\n",
       "      <td>-104.427459</td>\n",
       "    </tr>\n",
       "  </tbody>\n",
       "</table>\n",
       "<p>8 rows × 86 columns</p>\n",
       "</div>"
      ],
      "text/plain": [
       "       final.output.concentrate_ag  final.output.concentrate_pb  \\\n",
       "count                 19438.000000                 19438.000000   \n",
       "mean                      5.168470                     9.978895   \n",
       "std                       1.372348                     1.669240   \n",
       "min                       0.000000                     0.000000   \n",
       "25%                       4.251240                     9.137262   \n",
       "50%                       5.066094                    10.102433   \n",
       "75%                       5.895527                    11.035769   \n",
       "max                      16.001945                    17.031899   \n",
       "\n",
       "       final.output.concentrate_sol  final.output.concentrate_au  \\\n",
       "count                  19228.000000                 19439.000000   \n",
       "mean                       9.501224                    44.076513   \n",
       "std                        2.787537                     5.129784   \n",
       "min                        0.000000                     0.000000   \n",
       "25%                        7.722820                    43.402215   \n",
       "50%                        9.218961                    45.011244   \n",
       "75%                       10.947813                    46.275313   \n",
       "max                       19.615720                    52.756638   \n",
       "\n",
       "       final.output.recovery  final.output.tail_ag  final.output.tail_pb  \\\n",
       "count           19439.000000          19438.000000          19338.000000   \n",
       "mean               67.050208              9.688589              2.705795   \n",
       "std                10.125840              2.328642              0.949077   \n",
       "min                 0.000000              0.000000              0.000000   \n",
       "25%                63.299712              8.062878              2.040119   \n",
       "50%                68.172738              9.743623              2.748730   \n",
       "75%                72.686642             11.134294              3.333216   \n",
       "max               100.000000             19.552149              5.804178   \n",
       "\n",
       "       final.output.tail_sol  final.output.tail_au  \\\n",
       "count           19433.000000          19439.000000   \n",
       "mean               10.583728              3.042467   \n",
       "std                 2.868782              0.922808   \n",
       "min                 0.000000              0.000000   \n",
       "25%                 8.938947              2.461138   \n",
       "50%                10.622456              2.984909   \n",
       "75%                12.104271              3.571351   \n",
       "max                22.317730              8.245022   \n",
       "\n",
       "       primary_cleaner.input.sulfate  ...  \\\n",
       "count                   19415.000000  ...   \n",
       "mean                      144.624774  ...   \n",
       "std                        44.464071  ...   \n",
       "min                         0.003112  ...   \n",
       "25%                       114.107029  ...   \n",
       "50%                       143.232103  ...   \n",
       "75%                       175.075656  ...   \n",
       "max                       265.983123  ...   \n",
       "\n",
       "       secondary_cleaner.state.floatbank4_a_air  \\\n",
       "count                              19433.000000   \n",
       "mean                                  18.987674   \n",
       "std                                    5.411058   \n",
       "min                                    0.000000   \n",
       "25%                                   14.975734   \n",
       "50%                                   18.017481   \n",
       "75%                                   23.012470   \n",
       "max                                   30.115735   \n",
       "\n",
       "       secondary_cleaner.state.floatbank4_a_level  \\\n",
       "count                                19438.000000   \n",
       "mean                                  -485.894516   \n",
       "std                                     47.758570   \n",
       "min                                   -799.798523   \n",
       "25%                                   -500.704892   \n",
       "50%                                   -499.837793   \n",
       "75%                                   -498.249730   \n",
       "max                                   -245.239184   \n",
       "\n",
       "       secondary_cleaner.state.floatbank4_b_air  \\\n",
       "count                              19438.000000   \n",
       "mean                                  15.010366   \n",
       "std                                    4.890228   \n",
       "min                                    0.000000   \n",
       "25%                                   11.940294   \n",
       "50%                                   14.971014   \n",
       "75%                                   19.034162   \n",
       "max                                   31.269706   \n",
       "\n",
       "       secondary_cleaner.state.floatbank4_b_level  \\\n",
       "count                                19438.000000   \n",
       "mean                                  -461.078636   \n",
       "std                                     67.405524   \n",
       "min                                   -800.836914   \n",
       "25%                                   -500.187742   \n",
       "50%                                   -499.459786   \n",
       "75%                                   -400.118106   \n",
       "max                                     -6.506986   \n",
       "\n",
       "       secondary_cleaner.state.floatbank5_a_air  \\\n",
       "count                              19438.000000   \n",
       "mean                                  15.694452   \n",
       "std                                    5.510974   \n",
       "min                                   -0.372054   \n",
       "25%                                   10.988606   \n",
       "50%                                   15.000036   \n",
       "75%                                   18.026190   \n",
       "max                                   43.709931   \n",
       "\n",
       "       secondary_cleaner.state.floatbank5_a_level  \\\n",
       "count                                19438.000000   \n",
       "mean                                  -488.684065   \n",
       "std                                     34.533396   \n",
       "min                                   -797.323986   \n",
       "25%                                   -500.458467   \n",
       "50%                                   -499.802605   \n",
       "75%                                   -498.384187   \n",
       "max                                   -244.483566   \n",
       "\n",
       "       secondary_cleaner.state.floatbank5_b_air  \\\n",
       "count                              19438.000000   \n",
       "mean                                  12.198224   \n",
       "std                                    5.333024   \n",
       "min                                    0.528083   \n",
       "25%                                    8.971105   \n",
       "50%                                   11.019433   \n",
       "75%                                   14.019088   \n",
       "max                                   27.926001   \n",
       "\n",
       "       secondary_cleaner.state.floatbank5_b_level  \\\n",
       "count                                19438.000000   \n",
       "mean                                  -487.149827   \n",
       "std                                     38.347312   \n",
       "min                                   -800.220337   \n",
       "25%                                   -500.129462   \n",
       "50%                                   -499.935317   \n",
       "75%                                   -499.436708   \n",
       "max                                   -137.740004   \n",
       "\n",
       "       secondary_cleaner.state.floatbank6_a_air  \\\n",
       "count                              19437.000000   \n",
       "mean                                  18.959024   \n",
       "std                                    5.550498   \n",
       "min                                   -0.079426   \n",
       "25%                                   14.983037   \n",
       "50%                                   19.960541   \n",
       "75%                                   24.003170   \n",
       "max                                   32.188906   \n",
       "\n",
       "       secondary_cleaner.state.floatbank6_a_level  \n",
       "count                                19438.000000  \n",
       "mean                                  -505.436305  \n",
       "std                                     37.689057  \n",
       "min                                   -809.741464  \n",
       "25%                                   -500.728067  \n",
       "50%                                   -500.048400  \n",
       "75%                                   -499.495378  \n",
       "max                                   -104.427459  \n",
       "\n",
       "[8 rows x 86 columns]"
      ]
     },
     "metadata": {},
     "output_type": "display_data"
    },
    {
     "name": "stdout",
     "output_type": "stream",
     "text": [
      "\n",
      "Размер df: (19439, 86)\n"
     ]
    }
   ],
   "source": [
    "print('Первые строки:')\n",
    "display(full_data.head())\n",
    "print('Описание df')\n",
    "display(full_data.describe())\n",
    "print('')\n",
    "print('Размер df:', full_data.shape)"
   ]
  },
  {
   "cell_type": "markdown",
   "metadata": {},
   "source": [
    "Выведем общую информацию о датасетах - названия колонок, количество ненулевых значений, типы данных и т.п."
   ]
  },
  {
   "cell_type": "markdown",
   "metadata": {},
   "source": [
    "**Обучающая выборка**"
   ]
  },
  {
   "cell_type": "code",
   "execution_count": 7,
   "metadata": {
    "scrolled": true
   },
   "outputs": [
    {
     "name": "stdout",
     "output_type": "stream",
     "text": [
      "<class 'pandas.core.frame.DataFrame'>\n",
      "Index: 14149 entries, 2016-01-15 00:00:00 to 2018-08-18 10:59:59\n",
      "Data columns (total 86 columns):\n",
      " #   Column                                              Non-Null Count  Dtype  \n",
      "---  ------                                              --------------  -----  \n",
      " 0   final.output.concentrate_ag                         14148 non-null  float64\n",
      " 1   final.output.concentrate_pb                         14148 non-null  float64\n",
      " 2   final.output.concentrate_sol                        13938 non-null  float64\n",
      " 3   final.output.concentrate_au                         14149 non-null  float64\n",
      " 4   final.output.recovery                               14149 non-null  float64\n",
      " 5   final.output.tail_ag                                14149 non-null  float64\n",
      " 6   final.output.tail_pb                                14049 non-null  float64\n",
      " 7   final.output.tail_sol                               14144 non-null  float64\n",
      " 8   final.output.tail_au                                14149 non-null  float64\n",
      " 9   primary_cleaner.input.sulfate                       14129 non-null  float64\n",
      " 10  primary_cleaner.input.depressant                    14117 non-null  float64\n",
      " 11  primary_cleaner.input.feed_size                     14149 non-null  float64\n",
      " 12  primary_cleaner.input.xanthate                      14049 non-null  float64\n",
      " 13  primary_cleaner.output.concentrate_ag               14149 non-null  float64\n",
      " 14  primary_cleaner.output.concentrate_pb               14063 non-null  float64\n",
      " 15  primary_cleaner.output.concentrate_sol              13863 non-null  float64\n",
      " 16  primary_cleaner.output.concentrate_au               14149 non-null  float64\n",
      " 17  primary_cleaner.output.tail_ag                      14148 non-null  float64\n",
      " 18  primary_cleaner.output.tail_pb                      14134 non-null  float64\n",
      " 19  primary_cleaner.output.tail_sol                     14103 non-null  float64\n",
      " 20  primary_cleaner.output.tail_au                      14149 non-null  float64\n",
      " 21  primary_cleaner.state.floatbank8_a_air              14145 non-null  float64\n",
      " 22  primary_cleaner.state.floatbank8_a_level            14148 non-null  float64\n",
      " 23  primary_cleaner.state.floatbank8_b_air              14145 non-null  float64\n",
      " 24  primary_cleaner.state.floatbank8_b_level            14148 non-null  float64\n",
      " 25  primary_cleaner.state.floatbank8_c_air              14147 non-null  float64\n",
      " 26  primary_cleaner.state.floatbank8_c_level            14148 non-null  float64\n",
      " 27  primary_cleaner.state.floatbank8_d_air              14146 non-null  float64\n",
      " 28  primary_cleaner.state.floatbank8_d_level            14148 non-null  float64\n",
      " 29  rougher.calculation.sulfate_to_au_concentrate       14148 non-null  float64\n",
      " 30  rougher.calculation.floatbank10_sulfate_to_au_feed  14148 non-null  float64\n",
      " 31  rougher.calculation.floatbank11_sulfate_to_au_feed  14148 non-null  float64\n",
      " 32  rougher.calculation.au_pb_ratio                     14149 non-null  float64\n",
      " 33  rougher.input.feed_ag                               14149 non-null  float64\n",
      " 34  rougher.input.feed_pb                               14049 non-null  float64\n",
      " 35  rougher.input.feed_rate                             14141 non-null  float64\n",
      " 36  rougher.input.feed_size                             14005 non-null  float64\n",
      " 37  rougher.input.feed_sol                              14071 non-null  float64\n",
      " 38  rougher.input.feed_au                               14149 non-null  float64\n",
      " 39  rougher.input.floatbank10_sulfate                   14120 non-null  float64\n",
      " 40  rougher.input.floatbank10_xanthate                  14141 non-null  float64\n",
      " 41  rougher.input.floatbank11_sulfate                   14113 non-null  float64\n",
      " 42  rougher.input.floatbank11_xanthate                  13721 non-null  float64\n",
      " 43  rougher.output.concentrate_ag                       14149 non-null  float64\n",
      " 44  rougher.output.concentrate_pb                       14149 non-null  float64\n",
      " 45  rougher.output.concentrate_sol                      14127 non-null  float64\n",
      " 46  rougher.output.concentrate_au                       14149 non-null  float64\n",
      " 47  rougher.output.recovery                             14149 non-null  float64\n",
      " 48  rougher.output.tail_ag                              14148 non-null  float64\n",
      " 49  rougher.output.tail_pb                              14149 non-null  float64\n",
      " 50  rougher.output.tail_sol                             14149 non-null  float64\n",
      " 51  rougher.output.tail_au                              14149 non-null  float64\n",
      " 52  rougher.state.floatbank10_a_air                     14148 non-null  float64\n",
      " 53  rougher.state.floatbank10_a_level                   14148 non-null  float64\n",
      " 54  rougher.state.floatbank10_b_air                     14148 non-null  float64\n",
      " 55  rougher.state.floatbank10_b_level                   14148 non-null  float64\n",
      " 56  rougher.state.floatbank10_c_air                     14148 non-null  float64\n",
      " 57  rougher.state.floatbank10_c_level                   14148 non-null  float64\n",
      " 58  rougher.state.floatbank10_d_air                     14149 non-null  float64\n",
      " 59  rougher.state.floatbank10_d_level                   14149 non-null  float64\n",
      " 60  rougher.state.floatbank10_e_air                     13713 non-null  float64\n",
      " 61  rougher.state.floatbank10_e_level                   14149 non-null  float64\n",
      " 62  rougher.state.floatbank10_f_air                     14149 non-null  float64\n",
      " 63  rougher.state.floatbank10_f_level                   14149 non-null  float64\n",
      " 64  secondary_cleaner.output.tail_ag                    14147 non-null  float64\n",
      " 65  secondary_cleaner.output.tail_pb                    14139 non-null  float64\n",
      " 66  secondary_cleaner.output.tail_sol                   12544 non-null  float64\n",
      " 67  secondary_cleaner.output.tail_au                    14149 non-null  float64\n",
      " 68  secondary_cleaner.state.floatbank2_a_air            13932 non-null  float64\n",
      " 69  secondary_cleaner.state.floatbank2_a_level          14148 non-null  float64\n",
      " 70  secondary_cleaner.state.floatbank2_b_air            14128 non-null  float64\n",
      " 71  secondary_cleaner.state.floatbank2_b_level          14148 non-null  float64\n",
      " 72  secondary_cleaner.state.floatbank3_a_air            14145 non-null  float64\n",
      " 73  secondary_cleaner.state.floatbank3_a_level          14148 non-null  float64\n",
      " 74  secondary_cleaner.state.floatbank3_b_air            14148 non-null  float64\n",
      " 75  secondary_cleaner.state.floatbank3_b_level          14148 non-null  float64\n",
      " 76  secondary_cleaner.state.floatbank4_a_air            14143 non-null  float64\n",
      " 77  secondary_cleaner.state.floatbank4_a_level          14148 non-null  float64\n",
      " 78  secondary_cleaner.state.floatbank4_b_air            14148 non-null  float64\n",
      " 79  secondary_cleaner.state.floatbank4_b_level          14148 non-null  float64\n",
      " 80  secondary_cleaner.state.floatbank5_a_air            14148 non-null  float64\n",
      " 81  secondary_cleaner.state.floatbank5_a_level          14148 non-null  float64\n",
      " 82  secondary_cleaner.state.floatbank5_b_air            14148 non-null  float64\n",
      " 83  secondary_cleaner.state.floatbank5_b_level          14148 non-null  float64\n",
      " 84  secondary_cleaner.state.floatbank6_a_air            14147 non-null  float64\n",
      " 85  secondary_cleaner.state.floatbank6_a_level          14148 non-null  float64\n",
      "dtypes: float64(86)\n",
      "memory usage: 9.4+ MB\n"
     ]
    }
   ],
   "source": [
    "train.info()"
   ]
  },
  {
   "cell_type": "markdown",
   "metadata": {},
   "source": [
    "В этом датасете есть пропуски, столбец date имеет некорректный тип данных object"
   ]
  },
  {
   "cell_type": "markdown",
   "metadata": {},
   "source": [
    "**Тестовая выборка**"
   ]
  },
  {
   "cell_type": "code",
   "execution_count": 8,
   "metadata": {
    "scrolled": true
   },
   "outputs": [
    {
     "name": "stdout",
     "output_type": "stream",
     "text": [
      "<class 'pandas.core.frame.DataFrame'>\n",
      "Index: 5290 entries, 2016-09-01 00:59:59 to 2017-12-31 23:59:59\n",
      "Data columns (total 52 columns):\n",
      " #   Column                                      Non-Null Count  Dtype  \n",
      "---  ------                                      --------------  -----  \n",
      " 0   primary_cleaner.input.sulfate               5286 non-null   float64\n",
      " 1   primary_cleaner.input.depressant            5285 non-null   float64\n",
      " 2   primary_cleaner.input.feed_size             5290 non-null   float64\n",
      " 3   primary_cleaner.input.xanthate              5286 non-null   float64\n",
      " 4   primary_cleaner.state.floatbank8_a_air      5290 non-null   float64\n",
      " 5   primary_cleaner.state.floatbank8_a_level    5290 non-null   float64\n",
      " 6   primary_cleaner.state.floatbank8_b_air      5290 non-null   float64\n",
      " 7   primary_cleaner.state.floatbank8_b_level    5290 non-null   float64\n",
      " 8   primary_cleaner.state.floatbank8_c_air      5290 non-null   float64\n",
      " 9   primary_cleaner.state.floatbank8_c_level    5290 non-null   float64\n",
      " 10  primary_cleaner.state.floatbank8_d_air      5290 non-null   float64\n",
      " 11  primary_cleaner.state.floatbank8_d_level    5290 non-null   float64\n",
      " 12  rougher.input.feed_ag                       5290 non-null   float64\n",
      " 13  rougher.input.feed_pb                       5290 non-null   float64\n",
      " 14  rougher.input.feed_rate                     5287 non-null   float64\n",
      " 15  rougher.input.feed_size                     5289 non-null   float64\n",
      " 16  rougher.input.feed_sol                      5269 non-null   float64\n",
      " 17  rougher.input.feed_au                       5290 non-null   float64\n",
      " 18  rougher.input.floatbank10_sulfate           5285 non-null   float64\n",
      " 19  rougher.input.floatbank10_xanthate          5290 non-null   float64\n",
      " 20  rougher.input.floatbank11_sulfate           5282 non-null   float64\n",
      " 21  rougher.input.floatbank11_xanthate          5265 non-null   float64\n",
      " 22  rougher.state.floatbank10_a_air             5290 non-null   float64\n",
      " 23  rougher.state.floatbank10_a_level           5290 non-null   float64\n",
      " 24  rougher.state.floatbank10_b_air             5290 non-null   float64\n",
      " 25  rougher.state.floatbank10_b_level           5290 non-null   float64\n",
      " 26  rougher.state.floatbank10_c_air             5290 non-null   float64\n",
      " 27  rougher.state.floatbank10_c_level           5290 non-null   float64\n",
      " 28  rougher.state.floatbank10_d_air             5290 non-null   float64\n",
      " 29  rougher.state.floatbank10_d_level           5290 non-null   float64\n",
      " 30  rougher.state.floatbank10_e_air             5290 non-null   float64\n",
      " 31  rougher.state.floatbank10_e_level           5290 non-null   float64\n",
      " 32  rougher.state.floatbank10_f_air             5290 non-null   float64\n",
      " 33  rougher.state.floatbank10_f_level           5290 non-null   float64\n",
      " 34  secondary_cleaner.state.floatbank2_a_air    5287 non-null   float64\n",
      " 35  secondary_cleaner.state.floatbank2_a_level  5290 non-null   float64\n",
      " 36  secondary_cleaner.state.floatbank2_b_air    5288 non-null   float64\n",
      " 37  secondary_cleaner.state.floatbank2_b_level  5290 non-null   float64\n",
      " 38  secondary_cleaner.state.floatbank3_a_air    5281 non-null   float64\n",
      " 39  secondary_cleaner.state.floatbank3_a_level  5290 non-null   float64\n",
      " 40  secondary_cleaner.state.floatbank3_b_air    5290 non-null   float64\n",
      " 41  secondary_cleaner.state.floatbank3_b_level  5290 non-null   float64\n",
      " 42  secondary_cleaner.state.floatbank4_a_air    5290 non-null   float64\n",
      " 43  secondary_cleaner.state.floatbank4_a_level  5290 non-null   float64\n",
      " 44  secondary_cleaner.state.floatbank4_b_air    5290 non-null   float64\n",
      " 45  secondary_cleaner.state.floatbank4_b_level  5290 non-null   float64\n",
      " 46  secondary_cleaner.state.floatbank5_a_air    5290 non-null   float64\n",
      " 47  secondary_cleaner.state.floatbank5_a_level  5290 non-null   float64\n",
      " 48  secondary_cleaner.state.floatbank5_b_air    5290 non-null   float64\n",
      " 49  secondary_cleaner.state.floatbank5_b_level  5290 non-null   float64\n",
      " 50  secondary_cleaner.state.floatbank6_a_air    5290 non-null   float64\n",
      " 51  secondary_cleaner.state.floatbank6_a_level  5290 non-null   float64\n",
      "dtypes: float64(52)\n",
      "memory usage: 2.1+ MB\n"
     ]
    }
   ],
   "source": [
    "test.info()"
   ]
  },
  {
   "cell_type": "markdown",
   "metadata": {},
   "source": [
    "В этом датасете также есть пропуски.  \n",
    "Cтолбец date имеет некорректный тип данных object.  \n",
    "Датасет содержит не все столбцы, которые есть в train."
   ]
  },
  {
   "cell_type": "markdown",
   "metadata": {},
   "source": [
    "**Исходные данные**"
   ]
  },
  {
   "cell_type": "code",
   "execution_count": 9,
   "metadata": {
    "scrolled": true
   },
   "outputs": [
    {
     "name": "stdout",
     "output_type": "stream",
     "text": [
      "<class 'pandas.core.frame.DataFrame'>\n",
      "Index: 19439 entries, 2016-01-15 00:00:00 to 2018-08-18 10:59:59\n",
      "Data columns (total 86 columns):\n",
      " #   Column                                              Non-Null Count  Dtype  \n",
      "---  ------                                              --------------  -----  \n",
      " 0   final.output.concentrate_ag                         19438 non-null  float64\n",
      " 1   final.output.concentrate_pb                         19438 non-null  float64\n",
      " 2   final.output.concentrate_sol                        19228 non-null  float64\n",
      " 3   final.output.concentrate_au                         19439 non-null  float64\n",
      " 4   final.output.recovery                               19439 non-null  float64\n",
      " 5   final.output.tail_ag                                19438 non-null  float64\n",
      " 6   final.output.tail_pb                                19338 non-null  float64\n",
      " 7   final.output.tail_sol                               19433 non-null  float64\n",
      " 8   final.output.tail_au                                19439 non-null  float64\n",
      " 9   primary_cleaner.input.sulfate                       19415 non-null  float64\n",
      " 10  primary_cleaner.input.depressant                    19402 non-null  float64\n",
      " 11  primary_cleaner.input.feed_size                     19439 non-null  float64\n",
      " 12  primary_cleaner.input.xanthate                      19335 non-null  float64\n",
      " 13  primary_cleaner.output.concentrate_ag               19439 non-null  float64\n",
      " 14  primary_cleaner.output.concentrate_pb               19323 non-null  float64\n",
      " 15  primary_cleaner.output.concentrate_sol              19069 non-null  float64\n",
      " 16  primary_cleaner.output.concentrate_au               19439 non-null  float64\n",
      " 17  primary_cleaner.output.tail_ag                      19435 non-null  float64\n",
      " 18  primary_cleaner.output.tail_pb                      19418 non-null  float64\n",
      " 19  primary_cleaner.output.tail_sol                     19377 non-null  float64\n",
      " 20  primary_cleaner.output.tail_au                      19439 non-null  float64\n",
      " 21  primary_cleaner.state.floatbank8_a_air              19435 non-null  float64\n",
      " 22  primary_cleaner.state.floatbank8_a_level            19438 non-null  float64\n",
      " 23  primary_cleaner.state.floatbank8_b_air              19435 non-null  float64\n",
      " 24  primary_cleaner.state.floatbank8_b_level            19438 non-null  float64\n",
      " 25  primary_cleaner.state.floatbank8_c_air              19437 non-null  float64\n",
      " 26  primary_cleaner.state.floatbank8_c_level            19438 non-null  float64\n",
      " 27  primary_cleaner.state.floatbank8_d_air              19436 non-null  float64\n",
      " 28  primary_cleaner.state.floatbank8_d_level            19438 non-null  float64\n",
      " 29  rougher.calculation.sulfate_to_au_concentrate       19437 non-null  float64\n",
      " 30  rougher.calculation.floatbank10_sulfate_to_au_feed  19437 non-null  float64\n",
      " 31  rougher.calculation.floatbank11_sulfate_to_au_feed  19437 non-null  float64\n",
      " 32  rougher.calculation.au_pb_ratio                     19439 non-null  float64\n",
      " 33  rougher.input.feed_ag                               19439 non-null  float64\n",
      " 34  rougher.input.feed_pb                               19339 non-null  float64\n",
      " 35  rougher.input.feed_rate                             19428 non-null  float64\n",
      " 36  rougher.input.feed_size                             19294 non-null  float64\n",
      " 37  rougher.input.feed_sol                              19340 non-null  float64\n",
      " 38  rougher.input.feed_au                               19439 non-null  float64\n",
      " 39  rougher.input.floatbank10_sulfate                   19405 non-null  float64\n",
      " 40  rougher.input.floatbank10_xanthate                  19431 non-null  float64\n",
      " 41  rougher.input.floatbank11_sulfate                   19395 non-null  float64\n",
      " 42  rougher.input.floatbank11_xanthate                  18986 non-null  float64\n",
      " 43  rougher.output.concentrate_ag                       19439 non-null  float64\n",
      " 44  rougher.output.concentrate_pb                       19439 non-null  float64\n",
      " 45  rougher.output.concentrate_sol                      19416 non-null  float64\n",
      " 46  rougher.output.concentrate_au                       19439 non-null  float64\n",
      " 47  rougher.output.recovery                             19439 non-null  float64\n",
      " 48  rougher.output.tail_ag                              19438 non-null  float64\n",
      " 49  rougher.output.tail_pb                              19439 non-null  float64\n",
      " 50  rougher.output.tail_sol                             19439 non-null  float64\n",
      " 51  rougher.output.tail_au                              19439 non-null  float64\n",
      " 52  rougher.state.floatbank10_a_air                     19438 non-null  float64\n",
      " 53  rougher.state.floatbank10_a_level                   19438 non-null  float64\n",
      " 54  rougher.state.floatbank10_b_air                     19438 non-null  float64\n",
      " 55  rougher.state.floatbank10_b_level                   19438 non-null  float64\n",
      " 56  rougher.state.floatbank10_c_air                     19438 non-null  float64\n",
      " 57  rougher.state.floatbank10_c_level                   19438 non-null  float64\n",
      " 58  rougher.state.floatbank10_d_air                     19439 non-null  float64\n",
      " 59  rougher.state.floatbank10_d_level                   19439 non-null  float64\n",
      " 60  rougher.state.floatbank10_e_air                     19003 non-null  float64\n",
      " 61  rougher.state.floatbank10_e_level                   19439 non-null  float64\n",
      " 62  rougher.state.floatbank10_f_air                     19439 non-null  float64\n",
      " 63  rougher.state.floatbank10_f_level                   19439 non-null  float64\n",
      " 64  secondary_cleaner.output.tail_ag                    19437 non-null  float64\n",
      " 65  secondary_cleaner.output.tail_pb                    19427 non-null  float64\n",
      " 66  secondary_cleaner.output.tail_sol                   17691 non-null  float64\n",
      " 67  secondary_cleaner.output.tail_au                    19439 non-null  float64\n",
      " 68  secondary_cleaner.state.floatbank2_a_air            19219 non-null  float64\n",
      " 69  secondary_cleaner.state.floatbank2_a_level          19438 non-null  float64\n",
      " 70  secondary_cleaner.state.floatbank2_b_air            19416 non-null  float64\n",
      " 71  secondary_cleaner.state.floatbank2_b_level          19438 non-null  float64\n",
      " 72  secondary_cleaner.state.floatbank3_a_air            19426 non-null  float64\n",
      " 73  secondary_cleaner.state.floatbank3_a_level          19438 non-null  float64\n",
      " 74  secondary_cleaner.state.floatbank3_b_air            19438 non-null  float64\n",
      " 75  secondary_cleaner.state.floatbank3_b_level          19438 non-null  float64\n",
      " 76  secondary_cleaner.state.floatbank4_a_air            19433 non-null  float64\n",
      " 77  secondary_cleaner.state.floatbank4_a_level          19438 non-null  float64\n",
      " 78  secondary_cleaner.state.floatbank4_b_air            19438 non-null  float64\n",
      " 79  secondary_cleaner.state.floatbank4_b_level          19438 non-null  float64\n",
      " 80  secondary_cleaner.state.floatbank5_a_air            19438 non-null  float64\n",
      " 81  secondary_cleaner.state.floatbank5_a_level          19438 non-null  float64\n",
      " 82  secondary_cleaner.state.floatbank5_b_air            19438 non-null  float64\n",
      " 83  secondary_cleaner.state.floatbank5_b_level          19438 non-null  float64\n",
      " 84  secondary_cleaner.state.floatbank6_a_air            19437 non-null  float64\n",
      " 85  secondary_cleaner.state.floatbank6_a_level          19438 non-null  float64\n",
      "dtypes: float64(86)\n",
      "memory usage: 12.9+ MB\n"
     ]
    }
   ],
   "source": [
    "full_data.info()"
   ]
  },
  {
   "cell_type": "markdown",
   "metadata": {},
   "source": [
    "В этом датасете тоже есть пропуски и столбец date имеет некорректный тип данных object."
   ]
  },
  {
   "cell_type": "markdown",
   "metadata": {},
   "source": [
    "**Промежуточный вывод:**  \n",
    "- даты прочитаны правильно;\n",
    "- присутствуют только численные данные;\n",
    "- названия столбцов однотипны и корректны;\n",
    "- в данных есть пропуски;\n",
    "- в тестовых данных намного меньше стобцов, чем в обучающей выборке."
   ]
  },
  {
   "cell_type": "markdown",
   "metadata": {},
   "source": [
    "### Проверка расчета эффективности обогащения"
   ]
  },
  {
   "cell_type": "markdown",
   "metadata": {},
   "source": [
    "Необходимо проверить, верно ли расчитана эффективность обогащения, которая вычисляется по формуле:  \n",
    "\n",
    "$$  recovery = \\frac{C x (F - T)}{F x (C - T)}x 100% $$\n",
    "\n",
    "\n",
    "где:\n",
    "C - доля золота в концентрате после флотации/очистки  \n",
    "F - доля золота в сырье/концентрате до флотации/очистки  \n",
    "T - доля золота в отвальных хвостах после флотации/очистки\n"
   ]
  },
  {
   "cell_type": "markdown",
   "metadata": {},
   "source": [
    "Основываясь на полученных от заказчика данных, необходимые нам признаки для проверки формулы это:\n",
    "  \n",
    "`rougher.output.concentrate_au` (С)  \n",
    "`rougher.input.feed_au` (F)  \n",
    "`rougher.output.tail_au` (T)  \n",
    "    \n",
    "Проверим, что эффективность обогащения расчитана правильно. Вычислим её на обучающей выборке для признака `rougher.output.recovery`. Найдем MAE между нашими расчётами и значением признака.\n",
    "\n",
    "Напишем функцию."
   ]
  },
  {
   "cell_type": "code",
   "execution_count": 10,
   "metadata": {},
   "outputs": [],
   "source": [
    "def rougher_recovery(row):\n",
    "    C = row['rougher.output.concentrate_au']\n",
    "    F = row['rougher.input.feed_au']\n",
    "    T = row['rougher.output.tail_au']\n",
    "    recovery = ((C * (F - T)) / (F * (C - T))) * 100\n",
    "    if np.isnan(recovery):\n",
    "        return 0\n",
    "    return recovery"
   ]
  },
  {
   "cell_type": "markdown",
   "metadata": {},
   "source": [
    "Чтобы на данном этапе не возникло ошибок из-за NaN значений в данных, не меняя при этом исходный датафрейм:\n",
    "\n",
    "- сделаем копию датафрейма для расчётов;\n",
    "- удалим NaN значения в копии."
   ]
  },
  {
   "cell_type": "code",
   "execution_count": 11,
   "metadata": {},
   "outputs": [],
   "source": [
    "train_copy = train.copy(deep=True)\n",
    "train_copy.dropna(inplace=True)"
   ]
  },
  {
   "cell_type": "markdown",
   "metadata": {},
   "source": [
    "Применим функцию и выведем расчитанный столбец и столбец с исходными расчётами"
   ]
  },
  {
   "cell_type": "code",
   "execution_count": 12,
   "metadata": {},
   "outputs": [
    {
     "data": {
      "text/html": [
       "<div>\n",
       "<style scoped>\n",
       "    .dataframe tbody tr th:only-of-type {\n",
       "        vertical-align: middle;\n",
       "    }\n",
       "\n",
       "    .dataframe tbody tr th {\n",
       "        vertical-align: top;\n",
       "    }\n",
       "\n",
       "    .dataframe thead th {\n",
       "        text-align: right;\n",
       "    }\n",
       "</style>\n",
       "<table border=\"1\" class=\"dataframe\">\n",
       "  <thead>\n",
       "    <tr style=\"text-align: right;\">\n",
       "      <th></th>\n",
       "      <th>rougher.output.recovery</th>\n",
       "      <th>rougher.output.recovery.calculated</th>\n",
       "    </tr>\n",
       "    <tr>\n",
       "      <th>date</th>\n",
       "      <th></th>\n",
       "      <th></th>\n",
       "    </tr>\n",
       "  </thead>\n",
       "  <tbody>\n",
       "    <tr>\n",
       "      <th>2016-06-05 18:59:59</th>\n",
       "      <td>70.768168</td>\n",
       "      <td>70.768168</td>\n",
       "    </tr>\n",
       "    <tr>\n",
       "      <th>2016-02-25 18:00:00</th>\n",
       "      <td>88.505520</td>\n",
       "      <td>88.505520</td>\n",
       "    </tr>\n",
       "    <tr>\n",
       "      <th>2016-06-16 22:59:59</th>\n",
       "      <td>80.200369</td>\n",
       "      <td>80.200369</td>\n",
       "    </tr>\n",
       "    <tr>\n",
       "      <th>2017-06-16 21:59:59</th>\n",
       "      <td>83.618245</td>\n",
       "      <td>83.618245</td>\n",
       "    </tr>\n",
       "    <tr>\n",
       "      <th>2017-07-30 23:59:59</th>\n",
       "      <td>81.924995</td>\n",
       "      <td>81.924995</td>\n",
       "    </tr>\n",
       "    <tr>\n",
       "      <th>2016-08-20 03:59:59</th>\n",
       "      <td>89.062208</td>\n",
       "      <td>89.062208</td>\n",
       "    </tr>\n",
       "    <tr>\n",
       "      <th>2016-02-29 12:00:00</th>\n",
       "      <td>88.698412</td>\n",
       "      <td>88.698412</td>\n",
       "    </tr>\n",
       "    <tr>\n",
       "      <th>2017-03-20 22:59:59</th>\n",
       "      <td>86.664893</td>\n",
       "      <td>86.664893</td>\n",
       "    </tr>\n",
       "    <tr>\n",
       "      <th>2018-02-18 21:59:59</th>\n",
       "      <td>93.774339</td>\n",
       "      <td>93.774339</td>\n",
       "    </tr>\n",
       "    <tr>\n",
       "      <th>2017-07-30 08:59:59</th>\n",
       "      <td>82.131115</td>\n",
       "      <td>82.131115</td>\n",
       "    </tr>\n",
       "  </tbody>\n",
       "</table>\n",
       "</div>"
      ],
      "text/plain": [
       "                     rougher.output.recovery  \\\n",
       "date                                           \n",
       "2016-06-05 18:59:59                70.768168   \n",
       "2016-02-25 18:00:00                88.505520   \n",
       "2016-06-16 22:59:59                80.200369   \n",
       "2017-06-16 21:59:59                83.618245   \n",
       "2017-07-30 23:59:59                81.924995   \n",
       "2016-08-20 03:59:59                89.062208   \n",
       "2016-02-29 12:00:00                88.698412   \n",
       "2017-03-20 22:59:59                86.664893   \n",
       "2018-02-18 21:59:59                93.774339   \n",
       "2017-07-30 08:59:59                82.131115   \n",
       "\n",
       "                     rougher.output.recovery.calculated  \n",
       "date                                                     \n",
       "2016-06-05 18:59:59                           70.768168  \n",
       "2016-02-25 18:00:00                           88.505520  \n",
       "2016-06-16 22:59:59                           80.200369  \n",
       "2017-06-16 21:59:59                           83.618245  \n",
       "2017-07-30 23:59:59                           81.924995  \n",
       "2016-08-20 03:59:59                           89.062208  \n",
       "2016-02-29 12:00:00                           88.698412  \n",
       "2017-03-20 22:59:59                           86.664893  \n",
       "2018-02-18 21:59:59                           93.774339  \n",
       "2017-07-30 08:59:59                           82.131115  "
      ]
     },
     "execution_count": 12,
     "metadata": {},
     "output_type": "execute_result"
    }
   ],
   "source": [
    "y_calculated = target_rougher + '.calculated'\n",
    "train_copy[y_calculated] = train_copy.apply(rougher_recovery, axis=1)\n",
    "train_copy[[target_rougher, y_calculated]].sample(n=10, random_state=SEED)"
   ]
  },
  {
   "cell_type": "markdown",
   "metadata": {},
   "source": [
    "Найдём MAE между нашими расчётами и значением признака `rougher.output.recovery`. Воспользуемся функцией `mean_absolute_error`"
   ]
  },
  {
   "cell_type": "code",
   "execution_count": 13,
   "metadata": {},
   "outputs": [
    {
     "data": {
      "text/plain": [
       "9.82970122149377e-15"
      ]
     },
     "execution_count": 13,
     "metadata": {},
     "output_type": "execute_result"
    }
   ],
   "source": [
    "mean_absolute_error(train_copy[target_rougher], train_copy[y_calculated])"
   ]
  },
  {
   "cell_type": "markdown",
   "metadata": {},
   "source": [
    "Средняя абсолютная ошибка в -15 степени (очень маленькая) значит точность расчётов высокая.  \n",
    "Убедимся, что расчитанные значения и значения признака имеют схожие распределения. Построим гистограммы."
   ]
  },
  {
   "cell_type": "code",
   "execution_count": 14,
   "metadata": {},
   "outputs": [
    {
     "data": {
      "image/png": "[encoded data removed]",
      "text/plain": [
       "<Figure size 1080x432 with 2 Axes>"
      ]
     },
     "metadata": {},
     "output_type": "display_data"
    }
   ],
   "source": [
    "sns.set_theme(style='whitegrid', palette=\"viridis\")\n",
    "fig, axes = plt.subplots(1, 2, figsize=(15, 6));\n",
    "sns.histplot(data=train_copy, x=\"rougher.output.recovery\", ax=axes[0]);\n",
    "sns.histplot(data=train_copy, x=\"rougher.output.recovery.calculated\", ax=axes[1]);\n",
    "fig.suptitle('Распределение значений признака и расчитанной функцией значений признака на обучающей выборке');"
   ]
  },
  {
   "cell_type": "markdown",
   "metadata": {},
   "source": [
    "**Промежуточный вывод**  \n",
    "  \n",
    "Распределения визуально не отличаются, погрешность минимальна - будем считать, что данные рассчитаны верно."
   ]
  },
  {
   "cell_type": "markdown",
   "metadata": {},
   "source": [
    "### Анализ признаков, недоступных в тестовой выборке"
   ]
  },
  {
   "cell_type": "markdown",
   "metadata": {},
   "source": [
    "Сравним два датафрейма."
   ]
  },
  {
   "cell_type": "code",
   "execution_count": 15,
   "metadata": {},
   "outputs": [
    {
     "name": "stdout",
     "output_type": "stream",
     "text": [
      "(14149, 86)\n",
      "(5290, 52)\n"
     ]
    }
   ],
   "source": [
    "print(train.shape)\n",
    "print(test.shape)"
   ]
  },
  {
   "cell_type": "markdown",
   "metadata": {},
   "source": [
    "34 столбца отсутствуют в тестовой выборке.  \n",
    "Выведем эти столбцы"
   ]
  },
  {
   "cell_type": "code",
   "execution_count": 16,
   "metadata": {},
   "outputs": [
    {
     "name": "stdout",
     "output_type": "stream",
     "text": [
      "Столбцы, встречающиеся только в обучающей выборке:\n",
      "\n",
      " ['final.output.concentrate_ag', 'final.output.concentrate_pb', 'final.output.concentrate_sol', 'final.output.concentrate_au', 'final.output.recovery', 'final.output.tail_ag', 'final.output.tail_pb', 'final.output.tail_sol', 'final.output.tail_au', 'primary_cleaner.output.concentrate_ag', 'primary_cleaner.output.concentrate_pb', 'primary_cleaner.output.concentrate_sol', 'primary_cleaner.output.concentrate_au', 'primary_cleaner.output.tail_ag', 'primary_cleaner.output.tail_pb', 'primary_cleaner.output.tail_sol', 'primary_cleaner.output.tail_au', 'rougher.calculation.sulfate_to_au_concentrate', 'rougher.calculation.floatbank10_sulfate_to_au_feed', 'rougher.calculation.floatbank11_sulfate_to_au_feed', 'rougher.calculation.au_pb_ratio', 'rougher.output.concentrate_ag', 'rougher.output.concentrate_pb', 'rougher.output.concentrate_sol', 'rougher.output.concentrate_au', 'rougher.output.recovery', 'rougher.output.tail_ag', 'rougher.output.tail_pb', 'rougher.output.tail_sol', 'rougher.output.tail_au', 'secondary_cleaner.output.tail_ag', 'secondary_cleaner.output.tail_pb', 'secondary_cleaner.output.tail_sol', 'secondary_cleaner.output.tail_au']\n"
     ]
    }
   ],
   "source": [
    "different_cols = train.columns.drop(test.columns)\n",
    "print(\"Столбцы, встречающиеся только в обучающей выборке:\\n\\n\", list(train[different_cols].columns))"
   ]
  },
  {
   "cell_type": "markdown",
   "metadata": {},
   "source": [
    "`rougher.output.recovery` и `final.output.recovery` - 2 целевых признака, которые отсутствуют в тестовой выборке, но которые необходимо добавить в тестовую выборку. Остальные отсутствующие столбцы в тестовых данных вполне объяснимы: они становятся известны после выполнения части этапов техпроцесса."
   ]
  },
  {
   "cell_type": "markdown",
   "metadata": {},
   "source": [
    "**Промежуточный вывод**\n",
    "\n",
    "- из обучающего датасета необходимо удалить 32 признака, кроме `rougher.output.recovery` и `final.output.recovery`\n",
    "- в тестовый датасет необходимо добавть целевые признаки `rougher.output.recovery` и `final.output.recovery`"
   ]
  },
  {
   "cell_type": "markdown",
   "metadata": {},
   "source": [
    "### Предобработка данных"
   ]
  },
  {
   "cell_type": "markdown",
   "metadata": {},
   "source": [
    "#### Cтолбцы, различающиеся в тестовой и обучающей выборках"
   ]
  },
  {
   "cell_type": "markdown",
   "metadata": {},
   "source": [
    "**Обучающая выборка**  \n",
    "\n",
    "Удалим 32 столбца, которых нет в тестовой выборке, оставив целевые признаки."
   ]
  },
  {
   "cell_type": "code",
   "execution_count": 20,
   "metadata": {},
   "outputs": [
    {
     "name": "stdout",
     "output_type": "stream",
     "text": [
      "Размер обучающей выборки до изменений: (14149, 86)\n",
      "Размер обучающей выборки после изменений: (14149, 54)\n"
     ]
    }
   ],
   "source": [
    "print('Размер обучающей выборки до изменений:', train.shape)\n",
    "drop_cols = different_cols.drop(['final.output.recovery', 'rougher.output.recovery'])\n",
    "appropriate_cols = train.columns.drop(drop_cols)\n",
    "train = train[appropriate_cols]\n",
    "print('Размер обучающей выборки после изменений:', train.shape)"
   ]
  },
  {
   "cell_type": "markdown",
   "metadata": {},
   "source": [
    "**Тестовая выборка**"
   ]
  },
  {
   "cell_type": "markdown",
   "metadata": {},
   "source": [
    "Добавим целевые признаки"
   ]
  },
  {
   "cell_type": "code",
   "execution_count": 21,
   "metadata": {},
   "outputs": [
    {
     "name": "stdout",
     "output_type": "stream",
     "text": [
      "Размер тестовой выборки до изменений: (5290, 52)\n",
      "Размер тестовой выборки после изменений: (5290, 54)\n"
     ]
    }
   ],
   "source": [
    "print('Размер тестовой выборки до изменений:', test.shape)\n",
    "join_target_features = full_data[['final.output.recovery', 'rougher.output.recovery']].copy()\n",
    "test = test.join(join_target_features)#.set_index('date'), on='date')\n",
    "print('Размер тестовой выборки после изменений:', test.shape)"
   ]
  },
  {
   "cell_type": "markdown",
   "metadata": {},
   "source": [
    "#### Работа с пропусками в данных"
   ]
  },
  {
   "cell_type": "markdown",
   "metadata": {},
   "source": [
    "Из раздела Изучение данных мы помним, что в датасетах есть пропуски. Выведем процент пропущенных данных во всех трех датасетах."
   ]
  },
  {
   "cell_type": "markdown",
   "metadata": {},
   "source": [
    "**Обучающая выборка**"
   ]
  },
  {
   "cell_type": "code",
   "execution_count": 22,
   "metadata": {
    "scrolled": true
   },
   "outputs": [
    {
     "data": {
      "text/html": [
       "<style  type=\"text/css\" >\n",
       "#T_1a2e2_row0_col0,#T_1a2e2_row3_col0,#T_1a2e2_row6_col0,#T_1a2e2_row8_col0,#T_1a2e2_row10_col0,#T_1a2e2_row12_col0,#T_1a2e2_row13_col0,#T_1a2e2_row18_col0,#T_1a2e2_row23_col0,#T_1a2e2_row24_col0,#T_1a2e2_row25_col0,#T_1a2e2_row26_col0,#T_1a2e2_row27_col0,#T_1a2e2_row28_col0,#T_1a2e2_row29_col0,#T_1a2e2_row30_col0,#T_1a2e2_row31_col0,#T_1a2e2_row33_col0,#T_1a2e2_row34_col0,#T_1a2e2_row35_col0,#T_1a2e2_row37_col0,#T_1a2e2_row39_col0,#T_1a2e2_row41_col0,#T_1a2e2_row42_col0,#T_1a2e2_row43_col0,#T_1a2e2_row45_col0,#T_1a2e2_row46_col0,#T_1a2e2_row47_col0,#T_1a2e2_row48_col0,#T_1a2e2_row49_col0,#T_1a2e2_row50_col0,#T_1a2e2_row51_col0,#T_1a2e2_row53_col0{\n",
       "            background-color:  #3b4cc0;\n",
       "            color:  #f1f1f1;\n",
       "        }#T_1a2e2_row1_col0{\n",
       "            background-color:  #485fd1;\n",
       "            color:  #f1f1f1;\n",
       "        }#T_1a2e2_row2_col0{\n",
       "            background-color:  #506bda;\n",
       "            color:  #000000;\n",
       "        }#T_1a2e2_row4_col0,#T_1a2e2_row14_col0{\n",
       "            background-color:  #85a8fc;\n",
       "            color:  #000000;\n",
       "        }#T_1a2e2_row5_col0,#T_1a2e2_row7_col0,#T_1a2e2_row40_col0{\n",
       "            background-color:  #3d50c3;\n",
       "            color:  #f1f1f1;\n",
       "        }#T_1a2e2_row9_col0,#T_1a2e2_row11_col0,#T_1a2e2_row52_col0{\n",
       "            background-color:  #3c4ec2;\n",
       "            color:  #f1f1f1;\n",
       "        }#T_1a2e2_row15_col0,#T_1a2e2_row20_col0{\n",
       "            background-color:  #3f53c6;\n",
       "            color:  #f1f1f1;\n",
       "        }#T_1a2e2_row16_col0{\n",
       "            background-color:  #a9c6fd;\n",
       "            color:  #000000;\n",
       "        }#T_1a2e2_row17_col0{\n",
       "            background-color:  #7396f5;\n",
       "            color:  #000000;\n",
       "        }#T_1a2e2_row19_col0{\n",
       "            background-color:  #4f69d9;\n",
       "            color:  #000000;\n",
       "        }#T_1a2e2_row21_col0{\n",
       "            background-color:  #5470de;\n",
       "            color:  #000000;\n",
       "        }#T_1a2e2_row22_col0{\n",
       "            background-color:  #ba162b;\n",
       "            color:  #f1f1f1;\n",
       "        }#T_1a2e2_row32_col0{\n",
       "            background-color:  #b40426;\n",
       "            color:  #f1f1f1;\n",
       "        }#T_1a2e2_row36_col0{\n",
       "            background-color:  #dcdddd;\n",
       "            color:  #000000;\n",
       "        }#T_1a2e2_row38_col0{\n",
       "            background-color:  #4961d2;\n",
       "            color:  #f1f1f1;\n",
       "        }#T_1a2e2_row44_col0{\n",
       "            background-color:  #3e51c5;\n",
       "            color:  #f1f1f1;\n",
       "        }</style><table id=\"T_1a2e2_\" ><thead>    <tr>        <th class=\"blank level0\" ></th>        <th class=\"col_heading level0 col0\" >0</th>    </tr></thead><tbody>\n",
       "                <tr>\n",
       "                        <th id=\"T_1a2e2_level0_row0\" class=\"row_heading level0 row0\" >final.output.recovery</th>\n",
       "                        <td id=\"T_1a2e2_row0_col0\" class=\"data row0 col0\" >0.000000</td>\n",
       "            </tr>\n",
       "            <tr>\n",
       "                        <th id=\"T_1a2e2_level0_row1\" class=\"row_heading level0 row1\" >primary_cleaner.input.sulfate</th>\n",
       "                        <td id=\"T_1a2e2_row1_col0\" class=\"data row1 col0\" >0.141353</td>\n",
       "            </tr>\n",
       "            <tr>\n",
       "                        <th id=\"T_1a2e2_level0_row2\" class=\"row_heading level0 row2\" >primary_cleaner.input.depressant</th>\n",
       "                        <td id=\"T_1a2e2_row2_col0\" class=\"data row2 col0\" >0.226164</td>\n",
       "            </tr>\n",
       "            <tr>\n",
       "                        <th id=\"T_1a2e2_level0_row3\" class=\"row_heading level0 row3\" >primary_cleaner.input.feed_size</th>\n",
       "                        <td id=\"T_1a2e2_row3_col0\" class=\"data row3 col0\" >0.000000</td>\n",
       "            </tr>\n",
       "            <tr>\n",
       "                        <th id=\"T_1a2e2_level0_row4\" class=\"row_heading level0 row4\" >primary_cleaner.input.xanthate</th>\n",
       "                        <td id=\"T_1a2e2_row4_col0\" class=\"data row4 col0\" >0.706764</td>\n",
       "            </tr>\n",
       "            <tr>\n",
       "                        <th id=\"T_1a2e2_level0_row5\" class=\"row_heading level0 row5\" >primary_cleaner.state.floatbank8_a_air</th>\n",
       "                        <td id=\"T_1a2e2_row5_col0\" class=\"data row5 col0\" >0.028271</td>\n",
       "            </tr>\n",
       "            <tr>\n",
       "                        <th id=\"T_1a2e2_level0_row6\" class=\"row_heading level0 row6\" >primary_cleaner.state.floatbank8_a_level</th>\n",
       "                        <td id=\"T_1a2e2_row6_col0\" class=\"data row6 col0\" >0.007068</td>\n",
       "            </tr>\n",
       "            <tr>\n",
       "                        <th id=\"T_1a2e2_level0_row7\" class=\"row_heading level0 row7\" >primary_cleaner.state.floatbank8_b_air</th>\n",
       "                        <td id=\"T_1a2e2_row7_col0\" class=\"data row7 col0\" >0.028271</td>\n",
       "            </tr>\n",
       "            <tr>\n",
       "                        <th id=\"T_1a2e2_level0_row8\" class=\"row_heading level0 row8\" >primary_cleaner.state.floatbank8_b_level</th>\n",
       "                        <td id=\"T_1a2e2_row8_col0\" class=\"data row8 col0\" >0.007068</td>\n",
       "            </tr>\n",
       "            <tr>\n",
       "                        <th id=\"T_1a2e2_level0_row9\" class=\"row_heading level0 row9\" >primary_cleaner.state.floatbank8_c_air</th>\n",
       "                        <td id=\"T_1a2e2_row9_col0\" class=\"data row9 col0\" >0.014135</td>\n",
       "            </tr>\n",
       "            <tr>\n",
       "                        <th id=\"T_1a2e2_level0_row10\" class=\"row_heading level0 row10\" >primary_cleaner.state.floatbank8_c_level</th>\n",
       "                        <td id=\"T_1a2e2_row10_col0\" class=\"data row10 col0\" >0.007068</td>\n",
       "            </tr>\n",
       "            <tr>\n",
       "                        <th id=\"T_1a2e2_level0_row11\" class=\"row_heading level0 row11\" >primary_cleaner.state.floatbank8_d_air</th>\n",
       "                        <td id=\"T_1a2e2_row11_col0\" class=\"data row11 col0\" >0.021203</td>\n",
       "            </tr>\n",
       "            <tr>\n",
       "                        <th id=\"T_1a2e2_level0_row12\" class=\"row_heading level0 row12\" >primary_cleaner.state.floatbank8_d_level</th>\n",
       "                        <td id=\"T_1a2e2_row12_col0\" class=\"data row12 col0\" >0.007068</td>\n",
       "            </tr>\n",
       "            <tr>\n",
       "                        <th id=\"T_1a2e2_level0_row13\" class=\"row_heading level0 row13\" >rougher.input.feed_ag</th>\n",
       "                        <td id=\"T_1a2e2_row13_col0\" class=\"data row13 col0\" >0.000000</td>\n",
       "            </tr>\n",
       "            <tr>\n",
       "                        <th id=\"T_1a2e2_level0_row14\" class=\"row_heading level0 row14\" >rougher.input.feed_pb</th>\n",
       "                        <td id=\"T_1a2e2_row14_col0\" class=\"data row14 col0\" >0.706764</td>\n",
       "            </tr>\n",
       "            <tr>\n",
       "                        <th id=\"T_1a2e2_level0_row15\" class=\"row_heading level0 row15\" >rougher.input.feed_rate</th>\n",
       "                        <td id=\"T_1a2e2_row15_col0\" class=\"data row15 col0\" >0.056541</td>\n",
       "            </tr>\n",
       "            <tr>\n",
       "                        <th id=\"T_1a2e2_level0_row16\" class=\"row_heading level0 row16\" >rougher.input.feed_size</th>\n",
       "                        <td id=\"T_1a2e2_row16_col0\" class=\"data row16 col0\" >1.017740</td>\n",
       "            </tr>\n",
       "            <tr>\n",
       "                        <th id=\"T_1a2e2_level0_row17\" class=\"row_heading level0 row17\" >rougher.input.feed_sol</th>\n",
       "                        <td id=\"T_1a2e2_row17_col0\" class=\"data row17 col0\" >0.551276</td>\n",
       "            </tr>\n",
       "            <tr>\n",
       "                        <th id=\"T_1a2e2_level0_row18\" class=\"row_heading level0 row18\" >rougher.input.feed_au</th>\n",
       "                        <td id=\"T_1a2e2_row18_col0\" class=\"data row18 col0\" >0.000000</td>\n",
       "            </tr>\n",
       "            <tr>\n",
       "                        <th id=\"T_1a2e2_level0_row19\" class=\"row_heading level0 row19\" >rougher.input.floatbank10_sulfate</th>\n",
       "                        <td id=\"T_1a2e2_row19_col0\" class=\"data row19 col0\" >0.204961</td>\n",
       "            </tr>\n",
       "            <tr>\n",
       "                        <th id=\"T_1a2e2_level0_row20\" class=\"row_heading level0 row20\" >rougher.input.floatbank10_xanthate</th>\n",
       "                        <td id=\"T_1a2e2_row20_col0\" class=\"data row20 col0\" >0.056541</td>\n",
       "            </tr>\n",
       "            <tr>\n",
       "                        <th id=\"T_1a2e2_level0_row21\" class=\"row_heading level0 row21\" >rougher.input.floatbank11_sulfate</th>\n",
       "                        <td id=\"T_1a2e2_row21_col0\" class=\"data row21 col0\" >0.254435</td>\n",
       "            </tr>\n",
       "            <tr>\n",
       "                        <th id=\"T_1a2e2_level0_row22\" class=\"row_heading level0 row22\" >rougher.input.floatbank11_xanthate</th>\n",
       "                        <td id=\"T_1a2e2_row22_col0\" class=\"data row22 col0\" >3.024949</td>\n",
       "            </tr>\n",
       "            <tr>\n",
       "                        <th id=\"T_1a2e2_level0_row23\" class=\"row_heading level0 row23\" >rougher.output.recovery</th>\n",
       "                        <td id=\"T_1a2e2_row23_col0\" class=\"data row23 col0\" >0.000000</td>\n",
       "            </tr>\n",
       "            <tr>\n",
       "                        <th id=\"T_1a2e2_level0_row24\" class=\"row_heading level0 row24\" >rougher.state.floatbank10_a_air</th>\n",
       "                        <td id=\"T_1a2e2_row24_col0\" class=\"data row24 col0\" >0.007068</td>\n",
       "            </tr>\n",
       "            <tr>\n",
       "                        <th id=\"T_1a2e2_level0_row25\" class=\"row_heading level0 row25\" >rougher.state.floatbank10_a_level</th>\n",
       "                        <td id=\"T_1a2e2_row25_col0\" class=\"data row25 col0\" >0.007068</td>\n",
       "            </tr>\n",
       "            <tr>\n",
       "                        <th id=\"T_1a2e2_level0_row26\" class=\"row_heading level0 row26\" >rougher.state.floatbank10_b_air</th>\n",
       "                        <td id=\"T_1a2e2_row26_col0\" class=\"data row26 col0\" >0.007068</td>\n",
       "            </tr>\n",
       "            <tr>\n",
       "                        <th id=\"T_1a2e2_level0_row27\" class=\"row_heading level0 row27\" >rougher.state.floatbank10_b_level</th>\n",
       "                        <td id=\"T_1a2e2_row27_col0\" class=\"data row27 col0\" >0.007068</td>\n",
       "            </tr>\n",
       "            <tr>\n",
       "                        <th id=\"T_1a2e2_level0_row28\" class=\"row_heading level0 row28\" >rougher.state.floatbank10_c_air</th>\n",
       "                        <td id=\"T_1a2e2_row28_col0\" class=\"data row28 col0\" >0.007068</td>\n",
       "            </tr>\n",
       "            <tr>\n",
       "                        <th id=\"T_1a2e2_level0_row29\" class=\"row_heading level0 row29\" >rougher.state.floatbank10_c_level</th>\n",
       "                        <td id=\"T_1a2e2_row29_col0\" class=\"data row29 col0\" >0.007068</td>\n",
       "            </tr>\n",
       "            <tr>\n",
       "                        <th id=\"T_1a2e2_level0_row30\" class=\"row_heading level0 row30\" >rougher.state.floatbank10_d_air</th>\n",
       "                        <td id=\"T_1a2e2_row30_col0\" class=\"data row30 col0\" >0.000000</td>\n",
       "            </tr>\n",
       "            <tr>\n",
       "                        <th id=\"T_1a2e2_level0_row31\" class=\"row_heading level0 row31\" >rougher.state.floatbank10_d_level</th>\n",
       "                        <td id=\"T_1a2e2_row31_col0\" class=\"data row31 col0\" >0.000000</td>\n",
       "            </tr>\n",
       "            <tr>\n",
       "                        <th id=\"T_1a2e2_level0_row32\" class=\"row_heading level0 row32\" >rougher.state.floatbank10_e_air</th>\n",
       "                        <td id=\"T_1a2e2_row32_col0\" class=\"data row32 col0\" >3.081490</td>\n",
       "            </tr>\n",
       "            <tr>\n",
       "                        <th id=\"T_1a2e2_level0_row33\" class=\"row_heading level0 row33\" >rougher.state.floatbank10_e_level</th>\n",
       "                        <td id=\"T_1a2e2_row33_col0\" class=\"data row33 col0\" >0.000000</td>\n",
       "            </tr>\n",
       "            <tr>\n",
       "                        <th id=\"T_1a2e2_level0_row34\" class=\"row_heading level0 row34\" >rougher.state.floatbank10_f_air</th>\n",
       "                        <td id=\"T_1a2e2_row34_col0\" class=\"data row34 col0\" >0.000000</td>\n",
       "            </tr>\n",
       "            <tr>\n",
       "                        <th id=\"T_1a2e2_level0_row35\" class=\"row_heading level0 row35\" >rougher.state.floatbank10_f_level</th>\n",
       "                        <td id=\"T_1a2e2_row35_col0\" class=\"data row35 col0\" >0.000000</td>\n",
       "            </tr>\n",
       "            <tr>\n",
       "                        <th id=\"T_1a2e2_level0_row36\" class=\"row_heading level0 row36\" >secondary_cleaner.state.floatbank2_a_air</th>\n",
       "                        <td id=\"T_1a2e2_row36_col0\" class=\"data row36 col0\" >1.533677</td>\n",
       "            </tr>\n",
       "            <tr>\n",
       "                        <th id=\"T_1a2e2_level0_row37\" class=\"row_heading level0 row37\" >secondary_cleaner.state.floatbank2_a_level</th>\n",
       "                        <td id=\"T_1a2e2_row37_col0\" class=\"data row37 col0\" >0.007068</td>\n",
       "            </tr>\n",
       "            <tr>\n",
       "                        <th id=\"T_1a2e2_level0_row38\" class=\"row_heading level0 row38\" >secondary_cleaner.state.floatbank2_b_air</th>\n",
       "                        <td id=\"T_1a2e2_row38_col0\" class=\"data row38 col0\" >0.148420</td>\n",
       "            </tr>\n",
       "            <tr>\n",
       "                        <th id=\"T_1a2e2_level0_row39\" class=\"row_heading level0 row39\" >secondary_cleaner.state.floatbank2_b_level</th>\n",
       "                        <td id=\"T_1a2e2_row39_col0\" class=\"data row39 col0\" >0.007068</td>\n",
       "            </tr>\n",
       "            <tr>\n",
       "                        <th id=\"T_1a2e2_level0_row40\" class=\"row_heading level0 row40\" >secondary_cleaner.state.floatbank3_a_air</th>\n",
       "                        <td id=\"T_1a2e2_row40_col0\" class=\"data row40 col0\" >0.028271</td>\n",
       "            </tr>\n",
       "            <tr>\n",
       "                        <th id=\"T_1a2e2_level0_row41\" class=\"row_heading level0 row41\" >secondary_cleaner.state.floatbank3_a_level</th>\n",
       "                        <td id=\"T_1a2e2_row41_col0\" class=\"data row41 col0\" >0.007068</td>\n",
       "            </tr>\n",
       "            <tr>\n",
       "                        <th id=\"T_1a2e2_level0_row42\" class=\"row_heading level0 row42\" >secondary_cleaner.state.floatbank3_b_air</th>\n",
       "                        <td id=\"T_1a2e2_row42_col0\" class=\"data row42 col0\" >0.007068</td>\n",
       "            </tr>\n",
       "            <tr>\n",
       "                        <th id=\"T_1a2e2_level0_row43\" class=\"row_heading level0 row43\" >secondary_cleaner.state.floatbank3_b_level</th>\n",
       "                        <td id=\"T_1a2e2_row43_col0\" class=\"data row43 col0\" >0.007068</td>\n",
       "            </tr>\n",
       "            <tr>\n",
       "                        <th id=\"T_1a2e2_level0_row44\" class=\"row_heading level0 row44\" >secondary_cleaner.state.floatbank4_a_air</th>\n",
       "                        <td id=\"T_1a2e2_row44_col0\" class=\"data row44 col0\" >0.042406</td>\n",
       "            </tr>\n",
       "            <tr>\n",
       "                        <th id=\"T_1a2e2_level0_row45\" class=\"row_heading level0 row45\" >secondary_cleaner.state.floatbank4_a_level</th>\n",
       "                        <td id=\"T_1a2e2_row45_col0\" class=\"data row45 col0\" >0.007068</td>\n",
       "            </tr>\n",
       "            <tr>\n",
       "                        <th id=\"T_1a2e2_level0_row46\" class=\"row_heading level0 row46\" >secondary_cleaner.state.floatbank4_b_air</th>\n",
       "                        <td id=\"T_1a2e2_row46_col0\" class=\"data row46 col0\" >0.007068</td>\n",
       "            </tr>\n",
       "            <tr>\n",
       "                        <th id=\"T_1a2e2_level0_row47\" class=\"row_heading level0 row47\" >secondary_cleaner.state.floatbank4_b_level</th>\n",
       "                        <td id=\"T_1a2e2_row47_col0\" class=\"data row47 col0\" >0.007068</td>\n",
       "            </tr>\n",
       "            <tr>\n",
       "                        <th id=\"T_1a2e2_level0_row48\" class=\"row_heading level0 row48\" >secondary_cleaner.state.floatbank5_a_air</th>\n",
       "                        <td id=\"T_1a2e2_row48_col0\" class=\"data row48 col0\" >0.007068</td>\n",
       "            </tr>\n",
       "            <tr>\n",
       "                        <th id=\"T_1a2e2_level0_row49\" class=\"row_heading level0 row49\" >secondary_cleaner.state.floatbank5_a_level</th>\n",
       "                        <td id=\"T_1a2e2_row49_col0\" class=\"data row49 col0\" >0.007068</td>\n",
       "            </tr>\n",
       "            <tr>\n",
       "                        <th id=\"T_1a2e2_level0_row50\" class=\"row_heading level0 row50\" >secondary_cleaner.state.floatbank5_b_air</th>\n",
       "                        <td id=\"T_1a2e2_row50_col0\" class=\"data row50 col0\" >0.007068</td>\n",
       "            </tr>\n",
       "            <tr>\n",
       "                        <th id=\"T_1a2e2_level0_row51\" class=\"row_heading level0 row51\" >secondary_cleaner.state.floatbank5_b_level</th>\n",
       "                        <td id=\"T_1a2e2_row51_col0\" class=\"data row51 col0\" >0.007068</td>\n",
       "            </tr>\n",
       "            <tr>\n",
       "                        <th id=\"T_1a2e2_level0_row52\" class=\"row_heading level0 row52\" >secondary_cleaner.state.floatbank6_a_air</th>\n",
       "                        <td id=\"T_1a2e2_row52_col0\" class=\"data row52 col0\" >0.014135</td>\n",
       "            </tr>\n",
       "            <tr>\n",
       "                        <th id=\"T_1a2e2_level0_row53\" class=\"row_heading level0 row53\" >secondary_cleaner.state.floatbank6_a_level</th>\n",
       "                        <td id=\"T_1a2e2_row53_col0\" class=\"data row53 col0\" >0.007068</td>\n",
       "            </tr>\n",
       "    </tbody></table>"
      ],
      "text/plain": [
       "<pandas.io.formats.style.Styler at 0x7f7ccc5db2e0>"
      ]
     },
     "execution_count": 22,
     "metadata": {},
     "output_type": "execute_result"
    }
   ],
   "source": [
    "pd.DataFrame(train.isna().mean()*100,).style.background_gradient('coolwarm')\n"
   ]
  },
  {
   "cell_type": "markdown",
   "metadata": {},
   "source": [
    "По целевым признакам пропусков нет.  \n",
    "Максимальное количество пропусков по одному из столбцов - 3%. Так как в условии задачи говорилось, что соседние по времени параметры часто похожи, заполним их методом ffill() - нулевые значения заменяются данными из предыдущей строки (или мтолбца, но это не наш случай)."
   ]
  },
  {
   "cell_type": "code",
   "execution_count": 23,
   "metadata": {
    "scrolled": true
   },
   "outputs": [
    {
     "name": "stdout",
     "output_type": "stream",
     "text": [
      "Количество пропусков: 0\n"
     ]
    }
   ],
   "source": [
    "train = train.fillna(method='ffill')\n",
    "\n",
    "# проверка\n",
    "print('Количество пропусков:', train.isna().sum().sum())"
   ]
  },
  {
   "cell_type": "markdown",
   "metadata": {},
   "source": [
    "**Тестовая выборка**"
   ]
  },
  {
   "cell_type": "code",
   "execution_count": 24,
   "metadata": {
    "scrolled": true
   },
   "outputs": [
    {
     "data": {
      "text/html": [
       "<style  type=\"text/css\" >\n",
       "#T_0452e_row0_col0,#T_0452e_row3_col0{\n",
       "            background-color:  #6c8ff1;\n",
       "            color:  #000000;\n",
       "        }#T_0452e_row1_col0,#T_0452e_row18_col0{\n",
       "            background-color:  #7b9ff9;\n",
       "            color:  #000000;\n",
       "        }#T_0452e_row2_col0,#T_0452e_row4_col0,#T_0452e_row5_col0,#T_0452e_row6_col0,#T_0452e_row7_col0,#T_0452e_row8_col0,#T_0452e_row9_col0,#T_0452e_row10_col0,#T_0452e_row11_col0,#T_0452e_row12_col0,#T_0452e_row13_col0,#T_0452e_row17_col0,#T_0452e_row19_col0,#T_0452e_row22_col0,#T_0452e_row23_col0,#T_0452e_row24_col0,#T_0452e_row25_col0,#T_0452e_row26_col0,#T_0452e_row27_col0,#T_0452e_row28_col0,#T_0452e_row29_col0,#T_0452e_row30_col0,#T_0452e_row31_col0,#T_0452e_row32_col0,#T_0452e_row33_col0,#T_0452e_row35_col0,#T_0452e_row37_col0,#T_0452e_row39_col0,#T_0452e_row40_col0,#T_0452e_row41_col0,#T_0452e_row42_col0,#T_0452e_row43_col0,#T_0452e_row44_col0,#T_0452e_row45_col0,#T_0452e_row46_col0,#T_0452e_row47_col0,#T_0452e_row48_col0,#T_0452e_row49_col0,#T_0452e_row50_col0,#T_0452e_row51_col0,#T_0452e_row52_col0,#T_0452e_row53_col0{\n",
       "            background-color:  #3b4cc0;\n",
       "            color:  #f1f1f1;\n",
       "        }#T_0452e_row14_col0,#T_0452e_row34_col0{\n",
       "            background-color:  #5f7fe8;\n",
       "            color:  #000000;\n",
       "        }#T_0452e_row15_col0{\n",
       "            background-color:  #465ecf;\n",
       "            color:  #f1f1f1;\n",
       "        }#T_0452e_row16_col0{\n",
       "            background-color:  #e57058;\n",
       "            color:  #000000;\n",
       "        }#T_0452e_row20_col0{\n",
       "            background-color:  #a5c3fe;\n",
       "            color:  #000000;\n",
       "        }#T_0452e_row21_col0{\n",
       "            background-color:  #b40426;\n",
       "            color:  #f1f1f1;\n",
       "        }#T_0452e_row36_col0{\n",
       "            background-color:  #536edd;\n",
       "            color:  #000000;\n",
       "        }#T_0452e_row38_col0{\n",
       "            background-color:  #b3cdfb;\n",
       "            color:  #000000;\n",
       "        }</style><table id=\"T_0452e_\" ><thead>    <tr>        <th class=\"blank level0\" ></th>        <th class=\"col_heading level0 col0\" >0</th>    </tr></thead><tbody>\n",
       "                <tr>\n",
       "                        <th id=\"T_0452e_level0_row0\" class=\"row_heading level0 row0\" >primary_cleaner.input.sulfate</th>\n",
       "                        <td id=\"T_0452e_row0_col0\" class=\"data row0 col0\" >0.075614</td>\n",
       "            </tr>\n",
       "            <tr>\n",
       "                        <th id=\"T_0452e_level0_row1\" class=\"row_heading level0 row1\" >primary_cleaner.input.depressant</th>\n",
       "                        <td id=\"T_0452e_row1_col0\" class=\"data row1 col0\" >0.094518</td>\n",
       "            </tr>\n",
       "            <tr>\n",
       "                        <th id=\"T_0452e_level0_row2\" class=\"row_heading level0 row2\" >primary_cleaner.input.feed_size</th>\n",
       "                        <td id=\"T_0452e_row2_col0\" class=\"data row2 col0\" >0.000000</td>\n",
       "            </tr>\n",
       "            <tr>\n",
       "                        <th id=\"T_0452e_level0_row3\" class=\"row_heading level0 row3\" >primary_cleaner.input.xanthate</th>\n",
       "                        <td id=\"T_0452e_row3_col0\" class=\"data row3 col0\" >0.075614</td>\n",
       "            </tr>\n",
       "            <tr>\n",
       "                        <th id=\"T_0452e_level0_row4\" class=\"row_heading level0 row4\" >primary_cleaner.state.floatbank8_a_air</th>\n",
       "                        <td id=\"T_0452e_row4_col0\" class=\"data row4 col0\" >0.000000</td>\n",
       "            </tr>\n",
       "            <tr>\n",
       "                        <th id=\"T_0452e_level0_row5\" class=\"row_heading level0 row5\" >primary_cleaner.state.floatbank8_a_level</th>\n",
       "                        <td id=\"T_0452e_row5_col0\" class=\"data row5 col0\" >0.000000</td>\n",
       "            </tr>\n",
       "            <tr>\n",
       "                        <th id=\"T_0452e_level0_row6\" class=\"row_heading level0 row6\" >primary_cleaner.state.floatbank8_b_air</th>\n",
       "                        <td id=\"T_0452e_row6_col0\" class=\"data row6 col0\" >0.000000</td>\n",
       "            </tr>\n",
       "            <tr>\n",
       "                        <th id=\"T_0452e_level0_row7\" class=\"row_heading level0 row7\" >primary_cleaner.state.floatbank8_b_level</th>\n",
       "                        <td id=\"T_0452e_row7_col0\" class=\"data row7 col0\" >0.000000</td>\n",
       "            </tr>\n",
       "            <tr>\n",
       "                        <th id=\"T_0452e_level0_row8\" class=\"row_heading level0 row8\" >primary_cleaner.state.floatbank8_c_air</th>\n",
       "                        <td id=\"T_0452e_row8_col0\" class=\"data row8 col0\" >0.000000</td>\n",
       "            </tr>\n",
       "            <tr>\n",
       "                        <th id=\"T_0452e_level0_row9\" class=\"row_heading level0 row9\" >primary_cleaner.state.floatbank8_c_level</th>\n",
       "                        <td id=\"T_0452e_row9_col0\" class=\"data row9 col0\" >0.000000</td>\n",
       "            </tr>\n",
       "            <tr>\n",
       "                        <th id=\"T_0452e_level0_row10\" class=\"row_heading level0 row10\" >primary_cleaner.state.floatbank8_d_air</th>\n",
       "                        <td id=\"T_0452e_row10_col0\" class=\"data row10 col0\" >0.000000</td>\n",
       "            </tr>\n",
       "            <tr>\n",
       "                        <th id=\"T_0452e_level0_row11\" class=\"row_heading level0 row11\" >primary_cleaner.state.floatbank8_d_level</th>\n",
       "                        <td id=\"T_0452e_row11_col0\" class=\"data row11 col0\" >0.000000</td>\n",
       "            </tr>\n",
       "            <tr>\n",
       "                        <th id=\"T_0452e_level0_row12\" class=\"row_heading level0 row12\" >rougher.input.feed_ag</th>\n",
       "                        <td id=\"T_0452e_row12_col0\" class=\"data row12 col0\" >0.000000</td>\n",
       "            </tr>\n",
       "            <tr>\n",
       "                        <th id=\"T_0452e_level0_row13\" class=\"row_heading level0 row13\" >rougher.input.feed_pb</th>\n",
       "                        <td id=\"T_0452e_row13_col0\" class=\"data row13 col0\" >0.000000</td>\n",
       "            </tr>\n",
       "            <tr>\n",
       "                        <th id=\"T_0452e_level0_row14\" class=\"row_heading level0 row14\" >rougher.input.feed_rate</th>\n",
       "                        <td id=\"T_0452e_row14_col0\" class=\"data row14 col0\" >0.056711</td>\n",
       "            </tr>\n",
       "            <tr>\n",
       "                        <th id=\"T_0452e_level0_row15\" class=\"row_heading level0 row15\" >rougher.input.feed_size</th>\n",
       "                        <td id=\"T_0452e_row15_col0\" class=\"data row15 col0\" >0.018904</td>\n",
       "            </tr>\n",
       "            <tr>\n",
       "                        <th id=\"T_0452e_level0_row16\" class=\"row_heading level0 row16\" >rougher.input.feed_sol</th>\n",
       "                        <td id=\"T_0452e_row16_col0\" class=\"data row16 col0\" >0.396975</td>\n",
       "            </tr>\n",
       "            <tr>\n",
       "                        <th id=\"T_0452e_level0_row17\" class=\"row_heading level0 row17\" >rougher.input.feed_au</th>\n",
       "                        <td id=\"T_0452e_row17_col0\" class=\"data row17 col0\" >0.000000</td>\n",
       "            </tr>\n",
       "            <tr>\n",
       "                        <th id=\"T_0452e_level0_row18\" class=\"row_heading level0 row18\" >rougher.input.floatbank10_sulfate</th>\n",
       "                        <td id=\"T_0452e_row18_col0\" class=\"data row18 col0\" >0.094518</td>\n",
       "            </tr>\n",
       "            <tr>\n",
       "                        <th id=\"T_0452e_level0_row19\" class=\"row_heading level0 row19\" >rougher.input.floatbank10_xanthate</th>\n",
       "                        <td id=\"T_0452e_row19_col0\" class=\"data row19 col0\" >0.000000</td>\n",
       "            </tr>\n",
       "            <tr>\n",
       "                        <th id=\"T_0452e_level0_row20\" class=\"row_heading level0 row20\" >rougher.input.floatbank11_sulfate</th>\n",
       "                        <td id=\"T_0452e_row20_col0\" class=\"data row20 col0\" >0.151229</td>\n",
       "            </tr>\n",
       "            <tr>\n",
       "                        <th id=\"T_0452e_level0_row21\" class=\"row_heading level0 row21\" >rougher.input.floatbank11_xanthate</th>\n",
       "                        <td id=\"T_0452e_row21_col0\" class=\"data row21 col0\" >0.472590</td>\n",
       "            </tr>\n",
       "            <tr>\n",
       "                        <th id=\"T_0452e_level0_row22\" class=\"row_heading level0 row22\" >rougher.state.floatbank10_a_air</th>\n",
       "                        <td id=\"T_0452e_row22_col0\" class=\"data row22 col0\" >0.000000</td>\n",
       "            </tr>\n",
       "            <tr>\n",
       "                        <th id=\"T_0452e_level0_row23\" class=\"row_heading level0 row23\" >rougher.state.floatbank10_a_level</th>\n",
       "                        <td id=\"T_0452e_row23_col0\" class=\"data row23 col0\" >0.000000</td>\n",
       "            </tr>\n",
       "            <tr>\n",
       "                        <th id=\"T_0452e_level0_row24\" class=\"row_heading level0 row24\" >rougher.state.floatbank10_b_air</th>\n",
       "                        <td id=\"T_0452e_row24_col0\" class=\"data row24 col0\" >0.000000</td>\n",
       "            </tr>\n",
       "            <tr>\n",
       "                        <th id=\"T_0452e_level0_row25\" class=\"row_heading level0 row25\" >rougher.state.floatbank10_b_level</th>\n",
       "                        <td id=\"T_0452e_row25_col0\" class=\"data row25 col0\" >0.000000</td>\n",
       "            </tr>\n",
       "            <tr>\n",
       "                        <th id=\"T_0452e_level0_row26\" class=\"row_heading level0 row26\" >rougher.state.floatbank10_c_air</th>\n",
       "                        <td id=\"T_0452e_row26_col0\" class=\"data row26 col0\" >0.000000</td>\n",
       "            </tr>\n",
       "            <tr>\n",
       "                        <th id=\"T_0452e_level0_row27\" class=\"row_heading level0 row27\" >rougher.state.floatbank10_c_level</th>\n",
       "                        <td id=\"T_0452e_row27_col0\" class=\"data row27 col0\" >0.000000</td>\n",
       "            </tr>\n",
       "            <tr>\n",
       "                        <th id=\"T_0452e_level0_row28\" class=\"row_heading level0 row28\" >rougher.state.floatbank10_d_air</th>\n",
       "                        <td id=\"T_0452e_row28_col0\" class=\"data row28 col0\" >0.000000</td>\n",
       "            </tr>\n",
       "            <tr>\n",
       "                        <th id=\"T_0452e_level0_row29\" class=\"row_heading level0 row29\" >rougher.state.floatbank10_d_level</th>\n",
       "                        <td id=\"T_0452e_row29_col0\" class=\"data row29 col0\" >0.000000</td>\n",
       "            </tr>\n",
       "            <tr>\n",
       "                        <th id=\"T_0452e_level0_row30\" class=\"row_heading level0 row30\" >rougher.state.floatbank10_e_air</th>\n",
       "                        <td id=\"T_0452e_row30_col0\" class=\"data row30 col0\" >0.000000</td>\n",
       "            </tr>\n",
       "            <tr>\n",
       "                        <th id=\"T_0452e_level0_row31\" class=\"row_heading level0 row31\" >rougher.state.floatbank10_e_level</th>\n",
       "                        <td id=\"T_0452e_row31_col0\" class=\"data row31 col0\" >0.000000</td>\n",
       "            </tr>\n",
       "            <tr>\n",
       "                        <th id=\"T_0452e_level0_row32\" class=\"row_heading level0 row32\" >rougher.state.floatbank10_f_air</th>\n",
       "                        <td id=\"T_0452e_row32_col0\" class=\"data row32 col0\" >0.000000</td>\n",
       "            </tr>\n",
       "            <tr>\n",
       "                        <th id=\"T_0452e_level0_row33\" class=\"row_heading level0 row33\" >rougher.state.floatbank10_f_level</th>\n",
       "                        <td id=\"T_0452e_row33_col0\" class=\"data row33 col0\" >0.000000</td>\n",
       "            </tr>\n",
       "            <tr>\n",
       "                        <th id=\"T_0452e_level0_row34\" class=\"row_heading level0 row34\" >secondary_cleaner.state.floatbank2_a_air</th>\n",
       "                        <td id=\"T_0452e_row34_col0\" class=\"data row34 col0\" >0.056711</td>\n",
       "            </tr>\n",
       "            <tr>\n",
       "                        <th id=\"T_0452e_level0_row35\" class=\"row_heading level0 row35\" >secondary_cleaner.state.floatbank2_a_level</th>\n",
       "                        <td id=\"T_0452e_row35_col0\" class=\"data row35 col0\" >0.000000</td>\n",
       "            </tr>\n",
       "            <tr>\n",
       "                        <th id=\"T_0452e_level0_row36\" class=\"row_heading level0 row36\" >secondary_cleaner.state.floatbank2_b_air</th>\n",
       "                        <td id=\"T_0452e_row36_col0\" class=\"data row36 col0\" >0.037807</td>\n",
       "            </tr>\n",
       "            <tr>\n",
       "                        <th id=\"T_0452e_level0_row37\" class=\"row_heading level0 row37\" >secondary_cleaner.state.floatbank2_b_level</th>\n",
       "                        <td id=\"T_0452e_row37_col0\" class=\"data row37 col0\" >0.000000</td>\n",
       "            </tr>\n",
       "            <tr>\n",
       "                        <th id=\"T_0452e_level0_row38\" class=\"row_heading level0 row38\" >secondary_cleaner.state.floatbank3_a_air</th>\n",
       "                        <td id=\"T_0452e_row38_col0\" class=\"data row38 col0\" >0.170132</td>\n",
       "            </tr>\n",
       "            <tr>\n",
       "                        <th id=\"T_0452e_level0_row39\" class=\"row_heading level0 row39\" >secondary_cleaner.state.floatbank3_a_level</th>\n",
       "                        <td id=\"T_0452e_row39_col0\" class=\"data row39 col0\" >0.000000</td>\n",
       "            </tr>\n",
       "            <tr>\n",
       "                        <th id=\"T_0452e_level0_row40\" class=\"row_heading level0 row40\" >secondary_cleaner.state.floatbank3_b_air</th>\n",
       "                        <td id=\"T_0452e_row40_col0\" class=\"data row40 col0\" >0.000000</td>\n",
       "            </tr>\n",
       "            <tr>\n",
       "                        <th id=\"T_0452e_level0_row41\" class=\"row_heading level0 row41\" >secondary_cleaner.state.floatbank3_b_level</th>\n",
       "                        <td id=\"T_0452e_row41_col0\" class=\"data row41 col0\" >0.000000</td>\n",
       "            </tr>\n",
       "            <tr>\n",
       "                        <th id=\"T_0452e_level0_row42\" class=\"row_heading level0 row42\" >secondary_cleaner.state.floatbank4_a_air</th>\n",
       "                        <td id=\"T_0452e_row42_col0\" class=\"data row42 col0\" >0.000000</td>\n",
       "            </tr>\n",
       "            <tr>\n",
       "                        <th id=\"T_0452e_level0_row43\" class=\"row_heading level0 row43\" >secondary_cleaner.state.floatbank4_a_level</th>\n",
       "                        <td id=\"T_0452e_row43_col0\" class=\"data row43 col0\" >0.000000</td>\n",
       "            </tr>\n",
       "            <tr>\n",
       "                        <th id=\"T_0452e_level0_row44\" class=\"row_heading level0 row44\" >secondary_cleaner.state.floatbank4_b_air</th>\n",
       "                        <td id=\"T_0452e_row44_col0\" class=\"data row44 col0\" >0.000000</td>\n",
       "            </tr>\n",
       "            <tr>\n",
       "                        <th id=\"T_0452e_level0_row45\" class=\"row_heading level0 row45\" >secondary_cleaner.state.floatbank4_b_level</th>\n",
       "                        <td id=\"T_0452e_row45_col0\" class=\"data row45 col0\" >0.000000</td>\n",
       "            </tr>\n",
       "            <tr>\n",
       "                        <th id=\"T_0452e_level0_row46\" class=\"row_heading level0 row46\" >secondary_cleaner.state.floatbank5_a_air</th>\n",
       "                        <td id=\"T_0452e_row46_col0\" class=\"data row46 col0\" >0.000000</td>\n",
       "            </tr>\n",
       "            <tr>\n",
       "                        <th id=\"T_0452e_level0_row47\" class=\"row_heading level0 row47\" >secondary_cleaner.state.floatbank5_a_level</th>\n",
       "                        <td id=\"T_0452e_row47_col0\" class=\"data row47 col0\" >0.000000</td>\n",
       "            </tr>\n",
       "            <tr>\n",
       "                        <th id=\"T_0452e_level0_row48\" class=\"row_heading level0 row48\" >secondary_cleaner.state.floatbank5_b_air</th>\n",
       "                        <td id=\"T_0452e_row48_col0\" class=\"data row48 col0\" >0.000000</td>\n",
       "            </tr>\n",
       "            <tr>\n",
       "                        <th id=\"T_0452e_level0_row49\" class=\"row_heading level0 row49\" >secondary_cleaner.state.floatbank5_b_level</th>\n",
       "                        <td id=\"T_0452e_row49_col0\" class=\"data row49 col0\" >0.000000</td>\n",
       "            </tr>\n",
       "            <tr>\n",
       "                        <th id=\"T_0452e_level0_row50\" class=\"row_heading level0 row50\" >secondary_cleaner.state.floatbank6_a_air</th>\n",
       "                        <td id=\"T_0452e_row50_col0\" class=\"data row50 col0\" >0.000000</td>\n",
       "            </tr>\n",
       "            <tr>\n",
       "                        <th id=\"T_0452e_level0_row51\" class=\"row_heading level0 row51\" >secondary_cleaner.state.floatbank6_a_level</th>\n",
       "                        <td id=\"T_0452e_row51_col0\" class=\"data row51 col0\" >0.000000</td>\n",
       "            </tr>\n",
       "            <tr>\n",
       "                        <th id=\"T_0452e_level0_row52\" class=\"row_heading level0 row52\" >final.output.recovery</th>\n",
       "                        <td id=\"T_0452e_row52_col0\" class=\"data row52 col0\" >0.000000</td>\n",
       "            </tr>\n",
       "            <tr>\n",
       "                        <th id=\"T_0452e_level0_row53\" class=\"row_heading level0 row53\" >rougher.output.recovery</th>\n",
       "                        <td id=\"T_0452e_row53_col0\" class=\"data row53 col0\" >0.000000</td>\n",
       "            </tr>\n",
       "    </tbody></table>"
      ],
      "text/plain": [
       "<pandas.io.formats.style.Styler at 0x7f7ccc62b880>"
      ]
     },
     "execution_count": 24,
     "metadata": {},
     "output_type": "execute_result"
    }
   ],
   "source": [
    "pd.DataFrame(test.isna().mean()*100,).style.background_gradient('coolwarm')"
   ]
  },
  {
   "cell_type": "markdown",
   "metadata": {},
   "source": [
    "Аналогично поступим с пропущенными значениями в тестовой выборке - заполним методом ffill(). Пропусков в целевых признаках нет."
   ]
  },
  {
   "cell_type": "code",
   "execution_count": 25,
   "metadata": {},
   "outputs": [
    {
     "name": "stdout",
     "output_type": "stream",
     "text": [
      "Количество пропусков: 0\n"
     ]
    }
   ],
   "source": [
    "test = test.fillna(method='ffill')\n",
    "\n",
    "# проверка\n",
    "print('Количество пропусков:', test.isna().sum().sum())"
   ]
  },
  {
   "cell_type": "markdown",
   "metadata": {},
   "source": [
    "**Исходные данные**"
   ]
  },
  {
   "cell_type": "code",
   "execution_count": 26,
   "metadata": {
    "scrolled": true
   },
   "outputs": [
    {
     "data": {
      "text/html": [
       "<style  type=\"text/css\" >\n",
       "#T_243ed_row0_col0,#T_243ed_row1_col0,#T_243ed_row3_col0,#T_243ed_row4_col0,#T_243ed_row5_col0,#T_243ed_row7_col0,#T_243ed_row8_col0,#T_243ed_row11_col0,#T_243ed_row13_col0,#T_243ed_row16_col0,#T_243ed_row17_col0,#T_243ed_row20_col0,#T_243ed_row21_col0,#T_243ed_row22_col0,#T_243ed_row23_col0,#T_243ed_row24_col0,#T_243ed_row25_col0,#T_243ed_row26_col0,#T_243ed_row27_col0,#T_243ed_row28_col0,#T_243ed_row29_col0,#T_243ed_row30_col0,#T_243ed_row31_col0,#T_243ed_row32_col0,#T_243ed_row33_col0,#T_243ed_row38_col0,#T_243ed_row43_col0,#T_243ed_row44_col0,#T_243ed_row46_col0,#T_243ed_row47_col0,#T_243ed_row48_col0,#T_243ed_row49_col0,#T_243ed_row50_col0,#T_243ed_row51_col0,#T_243ed_row52_col0,#T_243ed_row53_col0,#T_243ed_row54_col0,#T_243ed_row55_col0,#T_243ed_row56_col0,#T_243ed_row57_col0,#T_243ed_row58_col0,#T_243ed_row59_col0,#T_243ed_row61_col0,#T_243ed_row62_col0,#T_243ed_row63_col0,#T_243ed_row64_col0,#T_243ed_row67_col0,#T_243ed_row69_col0,#T_243ed_row71_col0,#T_243ed_row73_col0,#T_243ed_row74_col0,#T_243ed_row75_col0,#T_243ed_row76_col0,#T_243ed_row77_col0,#T_243ed_row78_col0,#T_243ed_row79_col0,#T_243ed_row80_col0,#T_243ed_row81_col0,#T_243ed_row82_col0,#T_243ed_row83_col0,#T_243ed_row84_col0,#T_243ed_row85_col0{\n",
       "            background-color:  #3b4cc0;\n",
       "            color:  #f1f1f1;\n",
       "        }#T_243ed_row2_col0{\n",
       "            background-color:  #5f7fe8;\n",
       "            color:  #000000;\n",
       "        }#T_243ed_row6_col0,#T_243ed_row34_col0,#T_243ed_row37_col0{\n",
       "            background-color:  #4b64d5;\n",
       "            color:  #f1f1f1;\n",
       "        }#T_243ed_row9_col0,#T_243ed_row18_col0,#T_243ed_row45_col0,#T_243ed_row70_col0{\n",
       "            background-color:  #3e51c5;\n",
       "            color:  #f1f1f1;\n",
       "        }#T_243ed_row10_col0{\n",
       "            background-color:  #4055c8;\n",
       "            color:  #f1f1f1;\n",
       "        }#T_243ed_row12_col0{\n",
       "            background-color:  #4c66d6;\n",
       "            color:  #000000;\n",
       "        }#T_243ed_row14_col0{\n",
       "            background-color:  #4e68d8;\n",
       "            color:  #000000;\n",
       "        }#T_243ed_row15_col0{\n",
       "            background-color:  #80a3fa;\n",
       "            color:  #000000;\n",
       "        }#T_243ed_row19_col0{\n",
       "            background-color:  #455cce;\n",
       "            color:  #f1f1f1;\n",
       "        }#T_243ed_row35_col0,#T_243ed_row40_col0,#T_243ed_row65_col0,#T_243ed_row72_col0{\n",
       "            background-color:  #3c4ec2;\n",
       "            color:  #f1f1f1;\n",
       "        }#T_243ed_row36_col0{\n",
       "            background-color:  #5470de;\n",
       "            color:  #000000;\n",
       "        }#T_243ed_row39_col0{\n",
       "            background-color:  #3f53c6;\n",
       "            color:  #f1f1f1;\n",
       "        }#T_243ed_row41_col0{\n",
       "            background-color:  #4257c9;\n",
       "            color:  #f1f1f1;\n",
       "        }#T_243ed_row42_col0{\n",
       "            background-color:  #90b2fe;\n",
       "            color:  #000000;\n",
       "        }#T_243ed_row60_col0{\n",
       "            background-color:  #8caffe;\n",
       "            color:  #000000;\n",
       "        }#T_243ed_row66_col0{\n",
       "            background-color:  #b40426;\n",
       "            color:  #f1f1f1;\n",
       "        }#T_243ed_row68_col0{\n",
       "            background-color:  #6282ea;\n",
       "            color:  #000000;\n",
       "        }</style><table id=\"T_243ed_\" ><thead>    <tr>        <th class=\"blank level0\" ></th>        <th class=\"col_heading level0 col0\" >0</th>    </tr></thead><tbody>\n",
       "                <tr>\n",
       "                        <th id=\"T_243ed_level0_row0\" class=\"row_heading level0 row0\" >final.output.concentrate_ag</th>\n",
       "                        <td id=\"T_243ed_row0_col0\" class=\"data row0 col0\" >0.005144</td>\n",
       "            </tr>\n",
       "            <tr>\n",
       "                        <th id=\"T_243ed_level0_row1\" class=\"row_heading level0 row1\" >final.output.concentrate_pb</th>\n",
       "                        <td id=\"T_243ed_row1_col0\" class=\"data row1 col0\" >0.005144</td>\n",
       "            </tr>\n",
       "            <tr>\n",
       "                        <th id=\"T_243ed_level0_row2\" class=\"row_heading level0 row2\" >final.output.concentrate_sol</th>\n",
       "                        <td id=\"T_243ed_row2_col0\" class=\"data row2 col0\" >1.085447</td>\n",
       "            </tr>\n",
       "            <tr>\n",
       "                        <th id=\"T_243ed_level0_row3\" class=\"row_heading level0 row3\" >final.output.concentrate_au</th>\n",
       "                        <td id=\"T_243ed_row3_col0\" class=\"data row3 col0\" >0.000000</td>\n",
       "            </tr>\n",
       "            <tr>\n",
       "                        <th id=\"T_243ed_level0_row4\" class=\"row_heading level0 row4\" >final.output.recovery</th>\n",
       "                        <td id=\"T_243ed_row4_col0\" class=\"data row4 col0\" >0.000000</td>\n",
       "            </tr>\n",
       "            <tr>\n",
       "                        <th id=\"T_243ed_level0_row5\" class=\"row_heading level0 row5\" >final.output.tail_ag</th>\n",
       "                        <td id=\"T_243ed_row5_col0\" class=\"data row5 col0\" >0.005144</td>\n",
       "            </tr>\n",
       "            <tr>\n",
       "                        <th id=\"T_243ed_level0_row6\" class=\"row_heading level0 row6\" >final.output.tail_pb</th>\n",
       "                        <td id=\"T_243ed_row6_col0\" class=\"data row6 col0\" >0.519574</td>\n",
       "            </tr>\n",
       "            <tr>\n",
       "                        <th id=\"T_243ed_level0_row7\" class=\"row_heading level0 row7\" >final.output.tail_sol</th>\n",
       "                        <td id=\"T_243ed_row7_col0\" class=\"data row7 col0\" >0.030866</td>\n",
       "            </tr>\n",
       "            <tr>\n",
       "                        <th id=\"T_243ed_level0_row8\" class=\"row_heading level0 row8\" >final.output.tail_au</th>\n",
       "                        <td id=\"T_243ed_row8_col0\" class=\"data row8 col0\" >0.000000</td>\n",
       "            </tr>\n",
       "            <tr>\n",
       "                        <th id=\"T_243ed_level0_row9\" class=\"row_heading level0 row9\" >primary_cleaner.input.sulfate</th>\n",
       "                        <td id=\"T_243ed_row9_col0\" class=\"data row9 col0\" >0.123463</td>\n",
       "            </tr>\n",
       "            <tr>\n",
       "                        <th id=\"T_243ed_level0_row10\" class=\"row_heading level0 row10\" >primary_cleaner.input.depressant</th>\n",
       "                        <td id=\"T_243ed_row10_col0\" class=\"data row10 col0\" >0.190339</td>\n",
       "            </tr>\n",
       "            <tr>\n",
       "                        <th id=\"T_243ed_level0_row11\" class=\"row_heading level0 row11\" >primary_cleaner.input.feed_size</th>\n",
       "                        <td id=\"T_243ed_row11_col0\" class=\"data row11 col0\" >0.000000</td>\n",
       "            </tr>\n",
       "            <tr>\n",
       "                        <th id=\"T_243ed_level0_row12\" class=\"row_heading level0 row12\" >primary_cleaner.input.xanthate</th>\n",
       "                        <td id=\"T_243ed_row12_col0\" class=\"data row12 col0\" >0.535007</td>\n",
       "            </tr>\n",
       "            <tr>\n",
       "                        <th id=\"T_243ed_level0_row13\" class=\"row_heading level0 row13\" >primary_cleaner.output.concentrate_ag</th>\n",
       "                        <td id=\"T_243ed_row13_col0\" class=\"data row13 col0\" >0.000000</td>\n",
       "            </tr>\n",
       "            <tr>\n",
       "                        <th id=\"T_243ed_level0_row14\" class=\"row_heading level0 row14\" >primary_cleaner.output.concentrate_pb</th>\n",
       "                        <td id=\"T_243ed_row14_col0\" class=\"data row14 col0\" >0.596739</td>\n",
       "            </tr>\n",
       "            <tr>\n",
       "                        <th id=\"T_243ed_level0_row15\" class=\"row_heading level0 row15\" >primary_cleaner.output.concentrate_sol</th>\n",
       "                        <td id=\"T_243ed_row15_col0\" class=\"data row15 col0\" >1.903390</td>\n",
       "            </tr>\n",
       "            <tr>\n",
       "                        <th id=\"T_243ed_level0_row16\" class=\"row_heading level0 row16\" >primary_cleaner.output.concentrate_au</th>\n",
       "                        <td id=\"T_243ed_row16_col0\" class=\"data row16 col0\" >0.000000</td>\n",
       "            </tr>\n",
       "            <tr>\n",
       "                        <th id=\"T_243ed_level0_row17\" class=\"row_heading level0 row17\" >primary_cleaner.output.tail_ag</th>\n",
       "                        <td id=\"T_243ed_row17_col0\" class=\"data row17 col0\" >0.020577</td>\n",
       "            </tr>\n",
       "            <tr>\n",
       "                        <th id=\"T_243ed_level0_row18\" class=\"row_heading level0 row18\" >primary_cleaner.output.tail_pb</th>\n",
       "                        <td id=\"T_243ed_row18_col0\" class=\"data row18 col0\" >0.108030</td>\n",
       "            </tr>\n",
       "            <tr>\n",
       "                        <th id=\"T_243ed_level0_row19\" class=\"row_heading level0 row19\" >primary_cleaner.output.tail_sol</th>\n",
       "                        <td id=\"T_243ed_row19_col0\" class=\"data row19 col0\" >0.318946</td>\n",
       "            </tr>\n",
       "            <tr>\n",
       "                        <th id=\"T_243ed_level0_row20\" class=\"row_heading level0 row20\" >primary_cleaner.output.tail_au</th>\n",
       "                        <td id=\"T_243ed_row20_col0\" class=\"data row20 col0\" >0.000000</td>\n",
       "            </tr>\n",
       "            <tr>\n",
       "                        <th id=\"T_243ed_level0_row21\" class=\"row_heading level0 row21\" >primary_cleaner.state.floatbank8_a_air</th>\n",
       "                        <td id=\"T_243ed_row21_col0\" class=\"data row21 col0\" >0.020577</td>\n",
       "            </tr>\n",
       "            <tr>\n",
       "                        <th id=\"T_243ed_level0_row22\" class=\"row_heading level0 row22\" >primary_cleaner.state.floatbank8_a_level</th>\n",
       "                        <td id=\"T_243ed_row22_col0\" class=\"data row22 col0\" >0.005144</td>\n",
       "            </tr>\n",
       "            <tr>\n",
       "                        <th id=\"T_243ed_level0_row23\" class=\"row_heading level0 row23\" >primary_cleaner.state.floatbank8_b_air</th>\n",
       "                        <td id=\"T_243ed_row23_col0\" class=\"data row23 col0\" >0.020577</td>\n",
       "            </tr>\n",
       "            <tr>\n",
       "                        <th id=\"T_243ed_level0_row24\" class=\"row_heading level0 row24\" >primary_cleaner.state.floatbank8_b_level</th>\n",
       "                        <td id=\"T_243ed_row24_col0\" class=\"data row24 col0\" >0.005144</td>\n",
       "            </tr>\n",
       "            <tr>\n",
       "                        <th id=\"T_243ed_level0_row25\" class=\"row_heading level0 row25\" >primary_cleaner.state.floatbank8_c_air</th>\n",
       "                        <td id=\"T_243ed_row25_col0\" class=\"data row25 col0\" >0.010289</td>\n",
       "            </tr>\n",
       "            <tr>\n",
       "                        <th id=\"T_243ed_level0_row26\" class=\"row_heading level0 row26\" >primary_cleaner.state.floatbank8_c_level</th>\n",
       "                        <td id=\"T_243ed_row26_col0\" class=\"data row26 col0\" >0.005144</td>\n",
       "            </tr>\n",
       "            <tr>\n",
       "                        <th id=\"T_243ed_level0_row27\" class=\"row_heading level0 row27\" >primary_cleaner.state.floatbank8_d_air</th>\n",
       "                        <td id=\"T_243ed_row27_col0\" class=\"data row27 col0\" >0.015433</td>\n",
       "            </tr>\n",
       "            <tr>\n",
       "                        <th id=\"T_243ed_level0_row28\" class=\"row_heading level0 row28\" >primary_cleaner.state.floatbank8_d_level</th>\n",
       "                        <td id=\"T_243ed_row28_col0\" class=\"data row28 col0\" >0.005144</td>\n",
       "            </tr>\n",
       "            <tr>\n",
       "                        <th id=\"T_243ed_level0_row29\" class=\"row_heading level0 row29\" >rougher.calculation.sulfate_to_au_concentrate</th>\n",
       "                        <td id=\"T_243ed_row29_col0\" class=\"data row29 col0\" >0.010289</td>\n",
       "            </tr>\n",
       "            <tr>\n",
       "                        <th id=\"T_243ed_level0_row30\" class=\"row_heading level0 row30\" >rougher.calculation.floatbank10_sulfate_to_au_feed</th>\n",
       "                        <td id=\"T_243ed_row30_col0\" class=\"data row30 col0\" >0.010289</td>\n",
       "            </tr>\n",
       "            <tr>\n",
       "                        <th id=\"T_243ed_level0_row31\" class=\"row_heading level0 row31\" >rougher.calculation.floatbank11_sulfate_to_au_feed</th>\n",
       "                        <td id=\"T_243ed_row31_col0\" class=\"data row31 col0\" >0.010289</td>\n",
       "            </tr>\n",
       "            <tr>\n",
       "                        <th id=\"T_243ed_level0_row32\" class=\"row_heading level0 row32\" >rougher.calculation.au_pb_ratio</th>\n",
       "                        <td id=\"T_243ed_row32_col0\" class=\"data row32 col0\" >0.000000</td>\n",
       "            </tr>\n",
       "            <tr>\n",
       "                        <th id=\"T_243ed_level0_row33\" class=\"row_heading level0 row33\" >rougher.input.feed_ag</th>\n",
       "                        <td id=\"T_243ed_row33_col0\" class=\"data row33 col0\" >0.000000</td>\n",
       "            </tr>\n",
       "            <tr>\n",
       "                        <th id=\"T_243ed_level0_row34\" class=\"row_heading level0 row34\" >rougher.input.feed_pb</th>\n",
       "                        <td id=\"T_243ed_row34_col0\" class=\"data row34 col0\" >0.514430</td>\n",
       "            </tr>\n",
       "            <tr>\n",
       "                        <th id=\"T_243ed_level0_row35\" class=\"row_heading level0 row35\" >rougher.input.feed_rate</th>\n",
       "                        <td id=\"T_243ed_row35_col0\" class=\"data row35 col0\" >0.056587</td>\n",
       "            </tr>\n",
       "            <tr>\n",
       "                        <th id=\"T_243ed_level0_row36\" class=\"row_heading level0 row36\" >rougher.input.feed_size</th>\n",
       "                        <td id=\"T_243ed_row36_col0\" class=\"data row36 col0\" >0.745923</td>\n",
       "            </tr>\n",
       "            <tr>\n",
       "                        <th id=\"T_243ed_level0_row37\" class=\"row_heading level0 row37\" >rougher.input.feed_sol</th>\n",
       "                        <td id=\"T_243ed_row37_col0\" class=\"data row37 col0\" >0.509285</td>\n",
       "            </tr>\n",
       "            <tr>\n",
       "                        <th id=\"T_243ed_level0_row38\" class=\"row_heading level0 row38\" >rougher.input.feed_au</th>\n",
       "                        <td id=\"T_243ed_row38_col0\" class=\"data row38 col0\" >0.000000</td>\n",
       "            </tr>\n",
       "            <tr>\n",
       "                        <th id=\"T_243ed_level0_row39\" class=\"row_heading level0 row39\" >rougher.input.floatbank10_sulfate</th>\n",
       "                        <td id=\"T_243ed_row39_col0\" class=\"data row39 col0\" >0.174906</td>\n",
       "            </tr>\n",
       "            <tr>\n",
       "                        <th id=\"T_243ed_level0_row40\" class=\"row_heading level0 row40\" >rougher.input.floatbank10_xanthate</th>\n",
       "                        <td id=\"T_243ed_row40_col0\" class=\"data row40 col0\" >0.041154</td>\n",
       "            </tr>\n",
       "            <tr>\n",
       "                        <th id=\"T_243ed_level0_row41\" class=\"row_heading level0 row41\" >rougher.input.floatbank11_sulfate</th>\n",
       "                        <td id=\"T_243ed_row41_col0\" class=\"data row41 col0\" >0.226349</td>\n",
       "            </tr>\n",
       "            <tr>\n",
       "                        <th id=\"T_243ed_level0_row42\" class=\"row_heading level0 row42\" >rougher.input.floatbank11_xanthate</th>\n",
       "                        <td id=\"T_243ed_row42_col0\" class=\"data row42 col0\" >2.330367</td>\n",
       "            </tr>\n",
       "            <tr>\n",
       "                        <th id=\"T_243ed_level0_row43\" class=\"row_heading level0 row43\" >rougher.output.concentrate_ag</th>\n",
       "                        <td id=\"T_243ed_row43_col0\" class=\"data row43 col0\" >0.000000</td>\n",
       "            </tr>\n",
       "            <tr>\n",
       "                        <th id=\"T_243ed_level0_row44\" class=\"row_heading level0 row44\" >rougher.output.concentrate_pb</th>\n",
       "                        <td id=\"T_243ed_row44_col0\" class=\"data row44 col0\" >0.000000</td>\n",
       "            </tr>\n",
       "            <tr>\n",
       "                        <th id=\"T_243ed_level0_row45\" class=\"row_heading level0 row45\" >rougher.output.concentrate_sol</th>\n",
       "                        <td id=\"T_243ed_row45_col0\" class=\"data row45 col0\" >0.118319</td>\n",
       "            </tr>\n",
       "            <tr>\n",
       "                        <th id=\"T_243ed_level0_row46\" class=\"row_heading level0 row46\" >rougher.output.concentrate_au</th>\n",
       "                        <td id=\"T_243ed_row46_col0\" class=\"data row46 col0\" >0.000000</td>\n",
       "            </tr>\n",
       "            <tr>\n",
       "                        <th id=\"T_243ed_level0_row47\" class=\"row_heading level0 row47\" >rougher.output.recovery</th>\n",
       "                        <td id=\"T_243ed_row47_col0\" class=\"data row47 col0\" >0.000000</td>\n",
       "            </tr>\n",
       "            <tr>\n",
       "                        <th id=\"T_243ed_level0_row48\" class=\"row_heading level0 row48\" >rougher.output.tail_ag</th>\n",
       "                        <td id=\"T_243ed_row48_col0\" class=\"data row48 col0\" >0.005144</td>\n",
       "            </tr>\n",
       "            <tr>\n",
       "                        <th id=\"T_243ed_level0_row49\" class=\"row_heading level0 row49\" >rougher.output.tail_pb</th>\n",
       "                        <td id=\"T_243ed_row49_col0\" class=\"data row49 col0\" >0.000000</td>\n",
       "            </tr>\n",
       "            <tr>\n",
       "                        <th id=\"T_243ed_level0_row50\" class=\"row_heading level0 row50\" >rougher.output.tail_sol</th>\n",
       "                        <td id=\"T_243ed_row50_col0\" class=\"data row50 col0\" >0.000000</td>\n",
       "            </tr>\n",
       "            <tr>\n",
       "                        <th id=\"T_243ed_level0_row51\" class=\"row_heading level0 row51\" >rougher.output.tail_au</th>\n",
       "                        <td id=\"T_243ed_row51_col0\" class=\"data row51 col0\" >0.000000</td>\n",
       "            </tr>\n",
       "            <tr>\n",
       "                        <th id=\"T_243ed_level0_row52\" class=\"row_heading level0 row52\" >rougher.state.floatbank10_a_air</th>\n",
       "                        <td id=\"T_243ed_row52_col0\" class=\"data row52 col0\" >0.005144</td>\n",
       "            </tr>\n",
       "            <tr>\n",
       "                        <th id=\"T_243ed_level0_row53\" class=\"row_heading level0 row53\" >rougher.state.floatbank10_a_level</th>\n",
       "                        <td id=\"T_243ed_row53_col0\" class=\"data row53 col0\" >0.005144</td>\n",
       "            </tr>\n",
       "            <tr>\n",
       "                        <th id=\"T_243ed_level0_row54\" class=\"row_heading level0 row54\" >rougher.state.floatbank10_b_air</th>\n",
       "                        <td id=\"T_243ed_row54_col0\" class=\"data row54 col0\" >0.005144</td>\n",
       "            </tr>\n",
       "            <tr>\n",
       "                        <th id=\"T_243ed_level0_row55\" class=\"row_heading level0 row55\" >rougher.state.floatbank10_b_level</th>\n",
       "                        <td id=\"T_243ed_row55_col0\" class=\"data row55 col0\" >0.005144</td>\n",
       "            </tr>\n",
       "            <tr>\n",
       "                        <th id=\"T_243ed_level0_row56\" class=\"row_heading level0 row56\" >rougher.state.floatbank10_c_air</th>\n",
       "                        <td id=\"T_243ed_row56_col0\" class=\"data row56 col0\" >0.005144</td>\n",
       "            </tr>\n",
       "            <tr>\n",
       "                        <th id=\"T_243ed_level0_row57\" class=\"row_heading level0 row57\" >rougher.state.floatbank10_c_level</th>\n",
       "                        <td id=\"T_243ed_row57_col0\" class=\"data row57 col0\" >0.005144</td>\n",
       "            </tr>\n",
       "            <tr>\n",
       "                        <th id=\"T_243ed_level0_row58\" class=\"row_heading level0 row58\" >rougher.state.floatbank10_d_air</th>\n",
       "                        <td id=\"T_243ed_row58_col0\" class=\"data row58 col0\" >0.000000</td>\n",
       "            </tr>\n",
       "            <tr>\n",
       "                        <th id=\"T_243ed_level0_row59\" class=\"row_heading level0 row59\" >rougher.state.floatbank10_d_level</th>\n",
       "                        <td id=\"T_243ed_row59_col0\" class=\"data row59 col0\" >0.000000</td>\n",
       "            </tr>\n",
       "            <tr>\n",
       "                        <th id=\"T_243ed_level0_row60\" class=\"row_heading level0 row60\" >rougher.state.floatbank10_e_air</th>\n",
       "                        <td id=\"T_243ed_row60_col0\" class=\"data row60 col0\" >2.242914</td>\n",
       "            </tr>\n",
       "            <tr>\n",
       "                        <th id=\"T_243ed_level0_row61\" class=\"row_heading level0 row61\" >rougher.state.floatbank10_e_level</th>\n",
       "                        <td id=\"T_243ed_row61_col0\" class=\"data row61 col0\" >0.000000</td>\n",
       "            </tr>\n",
       "            <tr>\n",
       "                        <th id=\"T_243ed_level0_row62\" class=\"row_heading level0 row62\" >rougher.state.floatbank10_f_air</th>\n",
       "                        <td id=\"T_243ed_row62_col0\" class=\"data row62 col0\" >0.000000</td>\n",
       "            </tr>\n",
       "            <tr>\n",
       "                        <th id=\"T_243ed_level0_row63\" class=\"row_heading level0 row63\" >rougher.state.floatbank10_f_level</th>\n",
       "                        <td id=\"T_243ed_row63_col0\" class=\"data row63 col0\" >0.000000</td>\n",
       "            </tr>\n",
       "            <tr>\n",
       "                        <th id=\"T_243ed_level0_row64\" class=\"row_heading level0 row64\" >secondary_cleaner.output.tail_ag</th>\n",
       "                        <td id=\"T_243ed_row64_col0\" class=\"data row64 col0\" >0.010289</td>\n",
       "            </tr>\n",
       "            <tr>\n",
       "                        <th id=\"T_243ed_level0_row65\" class=\"row_heading level0 row65\" >secondary_cleaner.output.tail_pb</th>\n",
       "                        <td id=\"T_243ed_row65_col0\" class=\"data row65 col0\" >0.061732</td>\n",
       "            </tr>\n",
       "            <tr>\n",
       "                        <th id=\"T_243ed_level0_row66\" class=\"row_heading level0 row66\" >secondary_cleaner.output.tail_sol</th>\n",
       "                        <td id=\"T_243ed_row66_col0\" class=\"data row66 col0\" >8.992232</td>\n",
       "            </tr>\n",
       "            <tr>\n",
       "                        <th id=\"T_243ed_level0_row67\" class=\"row_heading level0 row67\" >secondary_cleaner.output.tail_au</th>\n",
       "                        <td id=\"T_243ed_row67_col0\" class=\"data row67 col0\" >0.000000</td>\n",
       "            </tr>\n",
       "            <tr>\n",
       "                        <th id=\"T_243ed_level0_row68\" class=\"row_heading level0 row68\" >secondary_cleaner.state.floatbank2_a_air</th>\n",
       "                        <td id=\"T_243ed_row68_col0\" class=\"data row68 col0\" >1.131745</td>\n",
       "            </tr>\n",
       "            <tr>\n",
       "                        <th id=\"T_243ed_level0_row69\" class=\"row_heading level0 row69\" >secondary_cleaner.state.floatbank2_a_level</th>\n",
       "                        <td id=\"T_243ed_row69_col0\" class=\"data row69 col0\" >0.005144</td>\n",
       "            </tr>\n",
       "            <tr>\n",
       "                        <th id=\"T_243ed_level0_row70\" class=\"row_heading level0 row70\" >secondary_cleaner.state.floatbank2_b_air</th>\n",
       "                        <td id=\"T_243ed_row70_col0\" class=\"data row70 col0\" >0.118319</td>\n",
       "            </tr>\n",
       "            <tr>\n",
       "                        <th id=\"T_243ed_level0_row71\" class=\"row_heading level0 row71\" >secondary_cleaner.state.floatbank2_b_level</th>\n",
       "                        <td id=\"T_243ed_row71_col0\" class=\"data row71 col0\" >0.005144</td>\n",
       "            </tr>\n",
       "            <tr>\n",
       "                        <th id=\"T_243ed_level0_row72\" class=\"row_heading level0 row72\" >secondary_cleaner.state.floatbank3_a_air</th>\n",
       "                        <td id=\"T_243ed_row72_col0\" class=\"data row72 col0\" >0.066876</td>\n",
       "            </tr>\n",
       "            <tr>\n",
       "                        <th id=\"T_243ed_level0_row73\" class=\"row_heading level0 row73\" >secondary_cleaner.state.floatbank3_a_level</th>\n",
       "                        <td id=\"T_243ed_row73_col0\" class=\"data row73 col0\" >0.005144</td>\n",
       "            </tr>\n",
       "            <tr>\n",
       "                        <th id=\"T_243ed_level0_row74\" class=\"row_heading level0 row74\" >secondary_cleaner.state.floatbank3_b_air</th>\n",
       "                        <td id=\"T_243ed_row74_col0\" class=\"data row74 col0\" >0.005144</td>\n",
       "            </tr>\n",
       "            <tr>\n",
       "                        <th id=\"T_243ed_level0_row75\" class=\"row_heading level0 row75\" >secondary_cleaner.state.floatbank3_b_level</th>\n",
       "                        <td id=\"T_243ed_row75_col0\" class=\"data row75 col0\" >0.005144</td>\n",
       "            </tr>\n",
       "            <tr>\n",
       "                        <th id=\"T_243ed_level0_row76\" class=\"row_heading level0 row76\" >secondary_cleaner.state.floatbank4_a_air</th>\n",
       "                        <td id=\"T_243ed_row76_col0\" class=\"data row76 col0\" >0.030866</td>\n",
       "            </tr>\n",
       "            <tr>\n",
       "                        <th id=\"T_243ed_level0_row77\" class=\"row_heading level0 row77\" >secondary_cleaner.state.floatbank4_a_level</th>\n",
       "                        <td id=\"T_243ed_row77_col0\" class=\"data row77 col0\" >0.005144</td>\n",
       "            </tr>\n",
       "            <tr>\n",
       "                        <th id=\"T_243ed_level0_row78\" class=\"row_heading level0 row78\" >secondary_cleaner.state.floatbank4_b_air</th>\n",
       "                        <td id=\"T_243ed_row78_col0\" class=\"data row78 col0\" >0.005144</td>\n",
       "            </tr>\n",
       "            <tr>\n",
       "                        <th id=\"T_243ed_level0_row79\" class=\"row_heading level0 row79\" >secondary_cleaner.state.floatbank4_b_level</th>\n",
       "                        <td id=\"T_243ed_row79_col0\" class=\"data row79 col0\" >0.005144</td>\n",
       "            </tr>\n",
       "            <tr>\n",
       "                        <th id=\"T_243ed_level0_row80\" class=\"row_heading level0 row80\" >secondary_cleaner.state.floatbank5_a_air</th>\n",
       "                        <td id=\"T_243ed_row80_col0\" class=\"data row80 col0\" >0.005144</td>\n",
       "            </tr>\n",
       "            <tr>\n",
       "                        <th id=\"T_243ed_level0_row81\" class=\"row_heading level0 row81\" >secondary_cleaner.state.floatbank5_a_level</th>\n",
       "                        <td id=\"T_243ed_row81_col0\" class=\"data row81 col0\" >0.005144</td>\n",
       "            </tr>\n",
       "            <tr>\n",
       "                        <th id=\"T_243ed_level0_row82\" class=\"row_heading level0 row82\" >secondary_cleaner.state.floatbank5_b_air</th>\n",
       "                        <td id=\"T_243ed_row82_col0\" class=\"data row82 col0\" >0.005144</td>\n",
       "            </tr>\n",
       "            <tr>\n",
       "                        <th id=\"T_243ed_level0_row83\" class=\"row_heading level0 row83\" >secondary_cleaner.state.floatbank5_b_level</th>\n",
       "                        <td id=\"T_243ed_row83_col0\" class=\"data row83 col0\" >0.005144</td>\n",
       "            </tr>\n",
       "            <tr>\n",
       "                        <th id=\"T_243ed_level0_row84\" class=\"row_heading level0 row84\" >secondary_cleaner.state.floatbank6_a_air</th>\n",
       "                        <td id=\"T_243ed_row84_col0\" class=\"data row84 col0\" >0.010289</td>\n",
       "            </tr>\n",
       "            <tr>\n",
       "                        <th id=\"T_243ed_level0_row85\" class=\"row_heading level0 row85\" >secondary_cleaner.state.floatbank6_a_level</th>\n",
       "                        <td id=\"T_243ed_row85_col0\" class=\"data row85 col0\" >0.005144</td>\n",
       "            </tr>\n",
       "    </tbody></table>"
      ],
      "text/plain": [
       "<pandas.io.formats.style.Styler at 0x7f7ccc62b700>"
      ]
     },
     "execution_count": 26,
     "metadata": {},
     "output_type": "execute_result"
    }
   ],
   "source": [
    "pd.DataFrame(full_data.isna().mean()*100,).style.background_gradient('coolwarm')"
   ]
  },
  {
   "cell_type": "markdown",
   "metadata": {},
   "source": [
    "Исходные данные я пока оставлю без изменений. Если что, потом заполню методом ffill()"
   ]
  },
  {
   "cell_type": "markdown",
   "metadata": {},
   "source": [
    "#### Проверка на дубликаты"
   ]
  },
  {
   "cell_type": "code",
   "execution_count": 27,
   "metadata": {},
   "outputs": [
    {
     "name": "stdout",
     "output_type": "stream",
     "text": [
      "False    14149\n",
      "dtype: int64\n",
      "False    5290\n",
      "dtype: int64\n",
      "False    19439\n",
      "dtype: int64\n"
     ]
    }
   ],
   "source": [
    "print(train.duplicated().value_counts())\n",
    "print(test.duplicated().value_counts())\n",
    "print(full_data.duplicated().value_counts())"
   ]
  },
  {
   "cell_type": "markdown",
   "metadata": {},
   "source": [
    "Явные дубликаты отсутствуют.  \n",
    "Проверим и на неявные по столбцу `date`"
   ]
  },
  {
   "cell_type": "markdown",
   "metadata": {},
   "source": [
    "#### Размеры обучайющей и тестовой выборок"
   ]
  },
  {
   "cell_type": "code",
   "execution_count": 30,
   "metadata": {},
   "outputs": [
    {
     "name": "stdout",
     "output_type": "stream",
     "text": [
      "Процент данных обучающей выборки: 0.7278666598076032\n",
      "Процент данных тестовой выборки: 0.2721333401923967\n"
     ]
    }
   ],
   "source": [
    "print('Процент данных обучающей выборки:', len(train)/len(full_data))\n",
    "print('Процент данных тестовой выборки:', len(test)/len(full_data))"
   ]
  },
  {
   "cell_type": "markdown",
   "metadata": {},
   "source": [
    "### Вывод  \n",
    "\n",
    "На этом этапе выполнено:\n",
    "\n",
    "- данные загружены и изучены;\n",
    "- преверен расчет эффективности обогащения - данным можно доверять;\n",
    "- добавили в тестовую выборку целевые признаки - `'final.output.recovery'`, `'rougher.output.recovery'`;\n",
    "- проверили данные на дубликаты - отсутствуют;\n",
    "- избавились от пропусков в датасетах методом заполнения по предущему значению;\n",
    "- вывели соотношение обучающих и тестовых данных $ \\approx 73\\% $ : $ \\approx 27\\% $."
   ]
  },
  {
   "cell_type": "markdown",
   "metadata": {},
   "source": [
    "## Анализ данных"
   ]
  },
  {
   "cell_type": "markdown",
   "metadata": {},
   "source": [
    "### Изменения концентрации металлов (Au, Ag, Pb) на различных этапах очистки"
   ]
  },
  {
   "cell_type": "code",
   "execution_count": 31,
   "metadata": {},
   "outputs": [
    {
     "data": {
      "image/png": "[encoded data removed]",
      "text/plain": [
       "<Figure size 1080x432 with 1 Axes>"
      ]
     },
     "metadata": {},
     "output_type": "display_data"
    },
    {
     "data": {
      "image/png": "[encoded data removed]",
      "text/plain": [
       "<Figure size 1080x432 with 1 Axes>"
      ]
     },
     "metadata": {},
     "output_type": "display_data"
    },
    {
     "data": {
      "image/png": "[encoded data removed]",
      "text/plain": [
       "<Figure size 1080x432 with 1 Axes>"
      ]
     },
     "metadata": {},
     "output_type": "display_data"
    }
   ],
   "source": [
    "sns.set_theme(style='whitegrid', palette=\"viridis\")\n",
    "\n",
    "ag_list = ['rougher.input.feed_ag', 'rougher.output.concentrate_ag', 'primary_cleaner.output.concentrate_ag', 'final.output.concentrate_ag']\n",
    "au_list = ['rougher.input.feed_au', 'rougher.output.concentrate_au', 'primary_cleaner.output.concentrate_au','final.output.concentrate_au']\n",
    "pb_list = ['rougher.input.feed_pb', 'rougher.output.concentrate_pb', 'primary_cleaner.output.concentrate_pb','final.output.concentrate_pb']\n",
    "\n",
    "metall_dict = {\"Au\": au_list, \"Ag\": ag_list, \"Pb\": pb_list}\n",
    "for key in metall_dict:\n",
    "    title = 'Изменение концентрации ' + key + ' на разных этапах очистки'\n",
    "    fig, ax = plt.subplots()\n",
    "    ax.set_title(title, fontsize=20)\n",
    "    ax.set_xlabel('Концентрация', fontsize=16)\n",
    "    full_data[metall_dict[key]].plot(kind='hist', bins=200, figsize=(15,6), ax=ax, alpha=0.6)\n",
    "    plt.ylabel('Кол-во наблюдений', fontsize=16)\n",
    "    plt.legend(['Исходное сырье','Флотация','Первичная очистка', 'Вторичная очистка'], loc='upper right')\n"
   ]
  },
  {
   "cell_type": "markdown",
   "metadata": {},
   "source": [
    "**Промежуточный вывод**\n",
    "\n",
    "- Концентрация золота растёт с каждым этапом. Так и должно быть, иначе зачем эти этапы).  \n",
    "- Концентрация серебра на этапе флотации вырастает относительно исходного сырья, далее падает на первичном этапе (возвращаясь практически к данным исходного сырья), и на вторичной очитске приходит к своим минумумам.  \n",
    "- Концентрация свинца на исходных данных показываект минимальные значения, на этапе флотации растет почти в 2 раза, при первичной и вторичной очистке не сильно различается, но растет относительно этапа флотации.  \n",
    "- Для каждого из матллов встречаются нулевые значения, которые уменьшаются от этапа к этапу."
   ]
  },
  {
   "cell_type": "markdown",
   "metadata": {},
   "source": [
    "### Сравнение распределения размеров гранул сырья на обучающей и тестовой выборках"
   ]
  },
  {
   "cell_type": "markdown",
   "metadata": {},
   "source": [
    "Посмотрим сколько признаков у нас есть с названием \"размер гранул\" - `feed_size`"
   ]
  },
  {
   "cell_type": "code",
   "execution_count": 32,
   "metadata": {},
   "outputs": [
    {
     "name": "stdout",
     "output_type": "stream",
     "text": [
      "['primary_cleaner.input.feed_size', 'rougher.input.feed_size']\n"
     ]
    },
    {
     "data": {
      "text/plain": [
       "['primary_cleaner.input.feed_size', 'rougher.input.feed_size']"
      ]
     },
     "execution_count": 32,
     "metadata": {},
     "output_type": "execute_result"
    }
   ],
   "source": [
    "print(list(filter(lambda s: \"feed_size\" in s, train.columns)))\n",
    "list(filter(lambda s: \"feed_size\" in s, test.columns))"
   ]
  },
  {
   "cell_type": "markdown",
   "metadata": {},
   "source": [
    "Всего 2 столбца с `feed_size` в обучающей и тестовой выборках - `rougher.input.feed_size` и `primary_cleaner.input.feed_size`. Сравним их распределения. Если они сильно отличаются друг от друга, оценка модели будет неправильной."
   ]
  },
  {
   "cell_type": "code",
   "execution_count": 33,
   "metadata": {},
   "outputs": [
    {
     "data": {
      "image/png": "[encoded data removed]",
      "text/plain": [
       "<Figure size 1080x432 with 1 Axes>"
      ]
     },
     "metadata": {},
     "output_type": "display_data"
    },
    {
     "data": {
      "image/png": "[encoded data removed]",
      "text/plain": [
       "<Figure size 1080x432 with 1 Axes>"
      ]
     },
     "metadata": {},
     "output_type": "display_data"
    }
   ],
   "source": [
    "sns.set_theme(style='whitegrid', palette=\"Spectral\")\n",
    "for step in ['rougher', 'primary_cleaner']:\n",
    "    \n",
    "    fig = plt.figure(figsize=(15, 6), tight_layout=True)\n",
    "    fig.suptitle(f'Распределение размера гранул сырья на этапе {step}')\n",
    "    column = step + '.input.feed_size'\n",
    "\n",
    "    sns.distplot(train[column], kde=True, hist=False)\n",
    "    sns.distplot(test[column], kde=True, hist=False)\n",
    "    \n",
    "    plt.legend(['Обучающая', 'Тестовая'], loc='best')\n",
    "    plt.xlabel('Размер гранул мм')\n",
    "    plt.ylabel('Плотность')"
   ]
  },
  {
   "cell_type": "markdown",
   "metadata": {},
   "source": [
    "Распределения размеров гранул сырья на этапах в обучающей и тестовой выборках статистически различаются, но незначительно. Следовательно, оценка модели будет правильной."
   ]
  },
  {
   "cell_type": "markdown",
   "metadata": {},
   "source": [
    "### Исследование суммарной концентрации всех веществ на разных стадиях"
   ]
  },
  {
   "cell_type": "markdown",
   "metadata": {},
   "source": [
    "Исследуем суммарную концентрацию всех веществ на разных стадиях: в сырье, в черновом и финальном концентратах.  \n",
    "Отберем из полного датафрейма признаки, которые характеризуют концентрацию металлов на разных стадиях"
   ]
  },
  {
   "cell_type": "code",
   "execution_count": 34,
   "metadata": {},
   "outputs": [],
   "source": [
    "def get_columns_sum(step):\n",
    "    column = full_data[[step + 'au', step + 'ag', \n",
    "                      step + 'pb']].sum(axis=1)\n",
    "    return column"
   ]
  },
  {
   "cell_type": "code",
   "execution_count": 35,
   "metadata": {},
   "outputs": [
    {
     "data": {
      "text/html": [
       "<div>\n",
       "<style scoped>\n",
       "    .dataframe tbody tr th:only-of-type {\n",
       "        vertical-align: middle;\n",
       "    }\n",
       "\n",
       "    .dataframe tbody tr th {\n",
       "        vertical-align: top;\n",
       "    }\n",
       "\n",
       "    .dataframe thead th {\n",
       "        text-align: right;\n",
       "    }\n",
       "</style>\n",
       "<table border=\"1\" class=\"dataframe\">\n",
       "  <thead>\n",
       "    <tr style=\"text-align: right;\">\n",
       "      <th></th>\n",
       "      <th>rougher_in_sum</th>\n",
       "      <th>rougher_out_sum</th>\n",
       "      <th>primary_out_sum</th>\n",
       "      <th>final_sum</th>\n",
       "    </tr>\n",
       "    <tr>\n",
       "      <th>date</th>\n",
       "      <th></th>\n",
       "      <th></th>\n",
       "      <th></th>\n",
       "      <th></th>\n",
       "    </tr>\n",
       "  </thead>\n",
       "  <tbody>\n",
       "    <tr>\n",
       "      <th>2016-01-15 00:00:00</th>\n",
       "      <td>14.871440</td>\n",
       "      <td>38.395653</td>\n",
       "      <td>53.111627</td>\n",
       "      <td>58.137072</td>\n",
       "    </tr>\n",
       "    <tr>\n",
       "      <th>2016-01-15 01:00:00</th>\n",
       "      <td>14.905729</td>\n",
       "      <td>38.945647</td>\n",
       "      <td>53.174338</td>\n",
       "      <td>58.699942</td>\n",
       "    </tr>\n",
       "    <tr>\n",
       "      <th>2016-01-15 02:00:00</th>\n",
       "      <td>14.638299</td>\n",
       "      <td>38.649756</td>\n",
       "      <td>52.927464</td>\n",
       "      <td>58.927421</td>\n",
       "    </tr>\n",
       "    <tr>\n",
       "      <th>2016-01-15 03:00:00</th>\n",
       "      <td>14.199305</td>\n",
       "      <td>38.411473</td>\n",
       "      <td>43.979185</td>\n",
       "      <td>58.714815</td>\n",
       "    </tr>\n",
       "    <tr>\n",
       "      <th>2016-01-15 04:00:00</th>\n",
       "      <td>13.511497</td>\n",
       "      <td>38.867359</td>\n",
       "      <td>52.121146</td>\n",
       "      <td>59.065251</td>\n",
       "    </tr>\n",
       "  </tbody>\n",
       "</table>\n",
       "</div>"
      ],
      "text/plain": [
       "                     rougher_in_sum  rougher_out_sum  primary_out_sum  \\\n",
       "date                                                                    \n",
       "2016-01-15 00:00:00       14.871440        38.395653        53.111627   \n",
       "2016-01-15 01:00:00       14.905729        38.945647        53.174338   \n",
       "2016-01-15 02:00:00       14.638299        38.649756        52.927464   \n",
       "2016-01-15 03:00:00       14.199305        38.411473        43.979185   \n",
       "2016-01-15 04:00:00       13.511497        38.867359        52.121146   \n",
       "\n",
       "                     final_sum  \n",
       "date                            \n",
       "2016-01-15 00:00:00  58.137072  \n",
       "2016-01-15 01:00:00  58.699942  \n",
       "2016-01-15 02:00:00  58.927421  \n",
       "2016-01-15 03:00:00  58.714815  \n",
       "2016-01-15 04:00:00  59.065251  "
      ]
     },
     "execution_count": 35,
     "metadata": {},
     "output_type": "execute_result"
    }
   ],
   "source": [
    "total_concentrate = pd.DataFrame()\n",
    "rougher_input = 'rougher.input.feed_'\n",
    "rougher_output = 'rougher.output.concentrate_'\n",
    "primary_output = 'primary_cleaner.output.concentrate_'\n",
    "final_output = 'final.output.concentrate_'\n",
    "\n",
    "full_data['rougher_in_sum'] = get_columns_sum(rougher_input)\n",
    "full_data['rougher_out_sum'] = get_columns_sum(rougher_output)\n",
    "full_data['primary_out_sum'] = get_columns_sum(primary_output)\n",
    "full_data['final_sum'] = get_columns_sum(final_output)\n",
    "sum_columns = ['rougher_in_sum', 'rougher_out_sum', 'primary_out_sum', 'final_sum']\n",
    "full_data[sum_columns].head()"
   ]
  },
  {
   "cell_type": "code",
   "execution_count": 36,
   "metadata": {},
   "outputs": [
    {
     "data": {
      "text/html": [
       "<div>\n",
       "<style scoped>\n",
       "    .dataframe tbody tr th:only-of-type {\n",
       "        vertical-align: middle;\n",
       "    }\n",
       "\n",
       "    .dataframe tbody tr th {\n",
       "        vertical-align: top;\n",
       "    }\n",
       "\n",
       "    .dataframe thead th {\n",
       "        text-align: right;\n",
       "    }\n",
       "</style>\n",
       "<table border=\"1\" class=\"dataframe\">\n",
       "  <thead>\n",
       "    <tr style=\"text-align: right;\">\n",
       "      <th></th>\n",
       "      <th>count</th>\n",
       "      <th>mean</th>\n",
       "      <th>std</th>\n",
       "      <th>min</th>\n",
       "      <th>25%</th>\n",
       "      <th>50%</th>\n",
       "      <th>75%</th>\n",
       "      <th>max</th>\n",
       "    </tr>\n",
       "  </thead>\n",
       "  <tbody>\n",
       "    <tr>\n",
       "      <th>rougher_in_sum</th>\n",
       "      <td>19439.0</td>\n",
       "      <td>20.640600</td>\n",
       "      <td>4.494362</td>\n",
       "      <td>0.03</td>\n",
       "      <td>17.252879</td>\n",
       "      <td>20.141216</td>\n",
       "      <td>23.797381</td>\n",
       "      <td>33.498784</td>\n",
       "    </tr>\n",
       "    <tr>\n",
       "      <th>rougher_out_sum</th>\n",
       "      <td>19439.0</td>\n",
       "      <td>39.373032</td>\n",
       "      <td>6.863389</td>\n",
       "      <td>0.00</td>\n",
       "      <td>38.394639</td>\n",
       "      <td>40.312648</td>\n",
       "      <td>42.365102</td>\n",
       "      <td>55.568687</td>\n",
       "    </tr>\n",
       "    <tr>\n",
       "      <th>primary_out_sum</th>\n",
       "      <td>19439.0</td>\n",
       "      <td>50.332682</td>\n",
       "      <td>7.671672</td>\n",
       "      <td>0.00</td>\n",
       "      <td>50.038524</td>\n",
       "      <td>51.905758</td>\n",
       "      <td>53.386172</td>\n",
       "      <td>60.269003</td>\n",
       "    </tr>\n",
       "    <tr>\n",
       "      <th>final_sum</th>\n",
       "      <td>19439.0</td>\n",
       "      <td>59.223099</td>\n",
       "      <td>6.097603</td>\n",
       "      <td>0.00</td>\n",
       "      <td>59.298323</td>\n",
       "      <td>60.306921</td>\n",
       "      <td>61.096667</td>\n",
       "      <td>64.968881</td>\n",
       "    </tr>\n",
       "  </tbody>\n",
       "</table>\n",
       "</div>"
      ],
      "text/plain": [
       "                   count       mean       std   min        25%        50%  \\\n",
       "rougher_in_sum   19439.0  20.640600  4.494362  0.03  17.252879  20.141216   \n",
       "rougher_out_sum  19439.0  39.373032  6.863389  0.00  38.394639  40.312648   \n",
       "primary_out_sum  19439.0  50.332682  7.671672  0.00  50.038524  51.905758   \n",
       "final_sum        19439.0  59.223099  6.097603  0.00  59.298323  60.306921   \n",
       "\n",
       "                       75%        max  \n",
       "rougher_in_sum   23.797381  33.498784  \n",
       "rougher_out_sum  42.365102  55.568687  \n",
       "primary_out_sum  53.386172  60.269003  \n",
       "final_sum        61.096667  64.968881  "
      ]
     },
     "execution_count": 36,
     "metadata": {},
     "output_type": "execute_result"
    }
   ],
   "source": [
    "full_data[sum_columns].describe().T"
   ]
  },
  {
   "cell_type": "markdown",
   "metadata": {},
   "source": [
    "Построим графики распределений"
   ]
  },
  {
   "cell_type": "code",
   "execution_count": 37,
   "metadata": {},
   "outputs": [
    {
     "data": {
      "image/png": "[encoded data removed]",
      "text/plain": [
       "<Figure size 1080x360 with 1 Axes>"
      ]
     },
     "metadata": {},
     "output_type": "display_data"
    }
   ],
   "source": [
    "f, ax = plt.subplots(figsize=(15, 5))\n",
    "ax.set(title='Суммарная концентрация всех веществ на разных этапах')\n",
    "sns.histplot(data=full_data[sum_columns], x='rougher_in_sum', color='indigo', alpha=.5, label='сырьё')\n",
    "sns.histplot(data=full_data[sum_columns], x='rougher_out_sum', color='purple', alpha=.5, label='флотация')\n",
    "sns.histplot(data=full_data[sum_columns], x='primary_out_sum', color='red', alpha=.5, label='очищенный')\n",
    "sns.histplot(data=full_data[sum_columns], x='final_sum', color='yellow', alpha=.5, label='финальный')\n",
    "plt.legend(fontsize = 12);"
   ]
  },
  {
   "cell_type": "code",
   "execution_count": 38,
   "metadata": {
    "scrolled": true
   },
   "outputs": [
    {
     "data": {
      "image/png": "[encoded data removed]",
      "text/plain": [
       "<Figure size 1080x360 with 4 Axes>"
      ]
     },
     "metadata": {},
     "output_type": "display_data"
    }
   ],
   "source": [
    "fig, axes = plt.subplots(1, 4, figsize=(15, 5));\n",
    "sns.boxplot(data=full_data[sum_columns], y='rougher_in_sum', color='indigo', ax=axes[0])\n",
    "sns.boxplot(data=full_data[sum_columns], y='rougher_out_sum', color='purple', ax=axes[1])\n",
    "sns.boxplot(data=full_data[sum_columns], y='primary_out_sum', color='red', ax=axes[2])\n",
    "sns.boxplot(data=full_data[sum_columns], y='final_sum', color='yellow', ax=axes[3])\n",
    "fig.suptitle('Суммарная концентрация всех веществ на разных этапах')\n",
    "plt.legend(['сырьё', 'флотация', 'очищенный', 'финальный'], fontsize = 12);    "
   ]
  },
  {
   "cell_type": "markdown",
   "metadata": {},
   "source": [
    "**Промежуточный вывод**  \n",
    "  \n",
    "Концентрация металлов от этапа к этапу возрастает, что логично.  \n",
    "Подтвержадются выбросы и анамально высокие значения около 0."
   ]
  },
  {
   "cell_type": "markdown",
   "metadata": {},
   "source": [
    "Красота. Но давайте исследуем нулевые значения.  \n",
    "В суммарных данных есть выбросы и много околонулевых значений, количество которых резко выбивается из общего графика. Кроме того, видим, что минимальные значения = 0 (в сырье 0,03), а разница между 25% и 50% значений разница в 1-2 единицы значений. Эти аномалии могли появиться в результате сбоя оборудования, значит нет гарантий, что остальные признаки правильные. Классифицируем эти данные, как ошибочные и удалим.  \n",
    "Для начала, найдём то значение, выше которого количество \"ошибочных\" значений будет незначительно изменяться.  \n",
    "Создадим датасет с аномальными наблюдениями."
   ]
  },
  {
   "cell_type": "code",
   "execution_count": 39,
   "metadata": {},
   "outputs": [
    {
     "name": "stdout",
     "output_type": "stream",
     "text": [
      "Количество значений до 0 :\n",
      "Этап rougher_in_sum ---> 0\n",
      "Этап rougher_out_sum ---> 0\n",
      "Этап primary_out_sum ---> 0\n",
      "Этап final_sum ---> 0\n",
      "Количество значений до 1 :\n",
      "Этап rougher_in_sum ---> 5\n",
      "Этап rougher_out_sum ---> 399\n",
      "Этап primary_out_sum ---> 229\n",
      "Этап final_sum ---> 99\n",
      "Количество значений до 2 :\n",
      "Этап rougher_in_sum ---> 6\n",
      "Этап rougher_out_sum ---> 400\n",
      "Этап primary_out_sum ---> 236\n",
      "Этап final_sum ---> 101\n",
      "Количество значений до 3 :\n",
      "Этап rougher_in_sum ---> 9\n",
      "Этап rougher_out_sum ---> 400\n",
      "Этап primary_out_sum ---> 243\n",
      "Этап final_sum ---> 101\n",
      "Количество значений до 4 :\n",
      "Этап rougher_in_sum ---> 11\n",
      "Этап rougher_out_sum ---> 402\n",
      "Этап primary_out_sum ---> 251\n",
      "Этап final_sum ---> 101\n"
     ]
    }
   ],
   "source": [
    "for i in range(5):\n",
    "    print('Количество значений до', i, ':')\n",
    "    for col in sum_columns:\n",
    "        print('Этап', col ,'--->', (full_data[col] < i).sum())"
   ]
  },
  {
   "cell_type": "markdown",
   "metadata": {},
   "source": [
    "Количество значений до 1 сильно разнятся от предыдущего, тогда как последующие (до 2, до 3) прибрастают на 1-2 значение. Удалим данные которые меньше 1."
   ]
  },
  {
   "cell_type": "code",
   "execution_count": 40,
   "metadata": {},
   "outputs": [
    {
     "data": {
      "text/html": [
       "<div>\n",
       "<style scoped>\n",
       "    .dataframe tbody tr th:only-of-type {\n",
       "        vertical-align: middle;\n",
       "    }\n",
       "\n",
       "    .dataframe tbody tr th {\n",
       "        vertical-align: top;\n",
       "    }\n",
       "\n",
       "    .dataframe thead th {\n",
       "        text-align: right;\n",
       "    }\n",
       "</style>\n",
       "<table border=\"1\" class=\"dataframe\">\n",
       "  <thead>\n",
       "    <tr style=\"text-align: right;\">\n",
       "      <th></th>\n",
       "      <th>count</th>\n",
       "      <th>mean</th>\n",
       "      <th>std</th>\n",
       "      <th>min</th>\n",
       "      <th>25%</th>\n",
       "      <th>50%</th>\n",
       "      <th>75%</th>\n",
       "      <th>max</th>\n",
       "    </tr>\n",
       "  </thead>\n",
       "  <tbody>\n",
       "    <tr>\n",
       "      <th>rougher_in_sum</th>\n",
       "      <td>18721.0</td>\n",
       "      <td>20.647132</td>\n",
       "      <td>4.439073</td>\n",
       "      <td>2.560855</td>\n",
       "      <td>17.238008</td>\n",
       "      <td>20.136186</td>\n",
       "      <td>23.787611</td>\n",
       "      <td>33.498784</td>\n",
       "    </tr>\n",
       "    <tr>\n",
       "      <th>rougher_out_sum</th>\n",
       "      <td>18721.0</td>\n",
       "      <td>40.212048</td>\n",
       "      <td>3.823193</td>\n",
       "      <td>1.137053</td>\n",
       "      <td>38.537325</td>\n",
       "      <td>40.381394</td>\n",
       "      <td>42.411418</td>\n",
       "      <td>55.568687</td>\n",
       "    </tr>\n",
       "    <tr>\n",
       "      <th>primary_out_sum</th>\n",
       "      <td>18721.0</td>\n",
       "      <td>50.931482</td>\n",
       "      <td>5.260191</td>\n",
       "      <td>1.037408</td>\n",
       "      <td>50.116208</td>\n",
       "      <td>51.913713</td>\n",
       "      <td>53.360880</td>\n",
       "      <td>60.106566</td>\n",
       "    </tr>\n",
       "    <tr>\n",
       "      <th>final_sum</th>\n",
       "      <td>18721.0</td>\n",
       "      <td>59.536667</td>\n",
       "      <td>4.267517</td>\n",
       "      <td>1.685441</td>\n",
       "      <td>59.307366</td>\n",
       "      <td>60.303141</td>\n",
       "      <td>61.086650</td>\n",
       "      <td>64.968881</td>\n",
       "    </tr>\n",
       "  </tbody>\n",
       "</table>\n",
       "</div>"
      ],
      "text/plain": [
       "                   count       mean       std       min        25%        50%  \\\n",
       "rougher_in_sum   18721.0  20.647132  4.439073  2.560855  17.238008  20.136186   \n",
       "rougher_out_sum  18721.0  40.212048  3.823193  1.137053  38.537325  40.381394   \n",
       "primary_out_sum  18721.0  50.931482  5.260191  1.037408  50.116208  51.913713   \n",
       "final_sum        18721.0  59.536667  4.267517  1.685441  59.307366  60.303141   \n",
       "\n",
       "                       75%        max  \n",
       "rougher_in_sum   23.787611  33.498784  \n",
       "rougher_out_sum  42.411418  55.568687  \n",
       "primary_out_sum  53.360880  60.106566  \n",
       "final_sum        61.086650  64.968881  "
      ]
     },
     "execution_count": 40,
     "metadata": {},
     "output_type": "execute_result"
    }
   ],
   "source": [
    "full_final = full_data[(full_data[sum_columns[0]] > 1) & \n",
    "                       (full_data[sum_columns[1]] > 1) & \n",
    "                       (full_data[sum_columns[2]] > 1) & \n",
    "                       (full_data[sum_columns[3]] > 1)]\n",
    "full_final[sum_columns].describe().T"
   ]
  },
  {
   "cell_type": "code",
   "execution_count": 41,
   "metadata": {},
   "outputs": [
    {
     "name": "stdout",
     "output_type": "stream",
     "text": [
      "(19439, 90)\n",
      "(18721, 90)\n"
     ]
    }
   ],
   "source": [
    "print(full_data.shape)\n",
    "print(full_final.shape)"
   ]
  },
  {
   "cell_type": "code",
   "execution_count": 42,
   "metadata": {},
   "outputs": [
    {
     "data": {
      "image/png": "[encoded data removed]",
      "text/plain": [
       "<Figure size 1080x360 with 1 Axes>"
      ]
     },
     "metadata": {},
     "output_type": "display_data"
    }
   ],
   "source": [
    "f, ax = plt.subplots(figsize=(15, 5))\n",
    "ax.set(title='Суммарная концентрация всех веществ на разных этапах')\n",
    "sns.histplot(data=full_final[sum_columns], x='rougher_in_sum', color='indigo', alpha=.5, label='сырьё')\n",
    "sns.histplot(data=full_final[sum_columns], x='rougher_out_sum', color='purple', alpha=.5, label='флотация')\n",
    "sns.histplot(data=full_final[sum_columns], x='primary_out_sum', color='red', alpha=.5, label='очищенный')\n",
    "sns.histplot(data=full_final[sum_columns], x='final_sum', color='yellow', alpha=.5, label='финальный')\n",
    "plt.legend(fontsize = 12);"
   ]
  },
  {
   "cell_type": "markdown",
   "metadata": {},
   "source": [
    "Минимальные значения больше 1, а выбросов около 0 на графике нет."
   ]
  },
  {
   "cell_type": "markdown",
   "metadata": {},
   "source": [
    "Уберём из обучающих и тестовых данных те же значения, которые только что отсекли в полном датасете.\n",
    "Используем для этого дату как индекс. Также удалим строки с пропусками в оставшихся данных."
   ]
  },
  {
   "cell_type": "code",
   "execution_count": 43,
   "metadata": {},
   "outputs": [
    {
     "name": "stdout",
     "output_type": "stream",
     "text": [
      "Размеры обучающей выборки до удаления: (14149, 54)\n",
      "Размеры обучающей выборки после удаления: (13598, 54)\n",
      "\n",
      "Размеры тестовой выборки до удаления: (5290, 54)\n",
      "Размеры тестовой выборки после удаления: (5123, 54)\n"
     ]
    }
   ],
   "source": [
    "train_final = train[train.index.isin(full_final.index)]\n",
    "test_final = test[test.index.isin(full_final.index)]\n",
    "\n",
    "train_final = train_final.dropna()\n",
    "test_final = test_final.dropna()\n",
    "\n",
    "print('Размеры обучающей выборки до удаления:', train.shape)\n",
    "print('Размеры обучающей выборки после удаления:', train_final.shape)\n",
    "print()\n",
    "print('Размеры тестовой выборки до удаления:', test.shape)\n",
    "print('Размеры тестовой выборки после удаления:', test_final.shape)"
   ]
  },
  {
   "cell_type": "markdown",
   "metadata": {},
   "source": [
    "Выборки готовы, можно строить модель."
   ]
  },
  {
   "cell_type": "markdown",
   "metadata": {},
   "source": [
    "### Вывод\n",
    "  \n",
    "1. Проверенр, как меняется концентрация металлов (Au, Ag, Pb) на различных этапах очистки:\n",
    "  - концентрация золота постепенно увеличивается на каждом этапе;\n",
    "  - концентрация серебра постепенно падает;\n",
    "  - концентрация свинца сначала растёт, но на последних двух этапах замедляется. \n",
    "   \n",
    "  \n",
    "2. Проанализировано размеры гранул на обучающей и тестовой выборках и убедились, что их распределения не имеют сильных отклонений.   \n",
    "   \n",
    "   \n",
    "3. Проведен анализ суммарной концентрации всех металлов во время разных стадий. Обнаружили скачок количества значений около 0, большая часть из которых укладыввалась в диапазон 0-1. Такие данные мы удалили их из всех датасетов, так как они могли исказить предсказания модели."
   ]
  },
  {
   "cell_type": "markdown",
   "metadata": {},
   "source": [
    "## Модель"
   ]
  },
  {
   "cell_type": "markdown",
   "metadata": {},
   "source": [
    "### Последние приготовления перед ML"
   ]
  },
  {
   "cell_type": "markdown",
   "metadata": {},
   "source": [
    "Для начала запишем формулу симметричного среднего абсолютного процентного отклонения.  \n",
    "$$ sMAPE = \\frac{1}{N} \\sum_{i=1}^{N} \\frac{|y_i - \\hat{y}_i|}{(|y_i|+|\\hat{y}_i|)/2} * 100\\%$$\n",
    "  \n",
    "где:  \n",
    "$y_i$ - значение целевого признака для объекта с порядковым номером i в выборке на которой измеряется качество.  \n",
    "$\\hat{y}_i$ - значение предсказания для объекта с порядковым номером например в тестовой выборке.  \n",
    "$N$ - количества объектов в выборке.  \n",
    "$\\sum_{i=1}^{N}$ - суммирование по всем объектам выборки ($i$ изменяется от $1$ до $N$)"
   ]
  },
  {
   "cell_type": "markdown",
   "metadata": {},
   "source": [
    "$$\\begin{matrix}Итоговое \\cr sMAPE\\end{matrix} = 25\\% * sMAPE(rougher) + 75\\% * sMAPE(final)$$"
   ]
  },
  {
   "cell_type": "markdown",
   "metadata": {},
   "source": [
    "Напишем функцию расчёта sMAPE."
   ]
  },
  {
   "cell_type": "code",
   "execution_count": 44,
   "metadata": {},
   "outputs": [],
   "source": [
    "def sMAPE(target, predictions):\n",
    "    top = np.abs(target - predictions)\n",
    "    bot = (np.abs(target) + np.abs(predictions)) / 2\n",
    "    summ = (top / bot).sum()\n",
    "    smape = (1 / len(target)) * summ * 100\n",
    "    return smape"
   ]
  },
  {
   "cell_type": "markdown",
   "metadata": {},
   "source": [
    "И функцию, которая считает Итоговое sMAPE"
   ]
  },
  {
   "cell_type": "code",
   "execution_count": 45,
   "metadata": {},
   "outputs": [],
   "source": [
    "def final_smape(rougher, final):\n",
    "    return 0.25 * rougher + 0.75 * final"
   ]
  },
  {
   "cell_type": "markdown",
   "metadata": {},
   "source": [
    "Для прогноза коэффициента нужно найти долю золота в концентратах и хвостах. Причём важен не только финальный продукт, но и черновой концентрат. Значит модель будует предсказывать значения на двух этапах.  \n",
    "  \n",
    "Предсказывая эффективность обогощения чернового концентрата, мы не можем oбучать модель на всех имеющихся данных. Необходимо обучить только на тех данных, которые доступны на тот момент. Попробуем обучить как на всех данных, так и на части из них.  \n",
    "  \n",
    "Соберём следующие списки столбцов:  \n",
    "  \n",
    "- столбцы, имеющие отношение только к этапу флотации (начинающиеся на `rougher`)\n",
    "- все столбцы для обучения"
   ]
  },
  {
   "cell_type": "code",
   "execution_count": 46,
   "metadata": {},
   "outputs": [
    {
     "data": {
      "text/plain": [
       "['rougher.input.feed_ag',\n",
       " 'rougher.input.feed_pb',\n",
       " 'rougher.input.feed_rate',\n",
       " 'rougher.input.feed_size',\n",
       " 'rougher.input.feed_sol',\n",
       " 'rougher.input.feed_au',\n",
       " 'rougher.input.floatbank10_sulfate',\n",
       " 'rougher.input.floatbank10_xanthate',\n",
       " 'rougher.input.floatbank11_sulfate',\n",
       " 'rougher.input.floatbank11_xanthate',\n",
       " 'rougher.output.recovery',\n",
       " 'rougher.state.floatbank10_a_air',\n",
       " 'rougher.state.floatbank10_a_level',\n",
       " 'rougher.state.floatbank10_b_air',\n",
       " 'rougher.state.floatbank10_b_level',\n",
       " 'rougher.state.floatbank10_c_air',\n",
       " 'rougher.state.floatbank10_c_level',\n",
       " 'rougher.state.floatbank10_d_air',\n",
       " 'rougher.state.floatbank10_d_level',\n",
       " 'rougher.state.floatbank10_e_air',\n",
       " 'rougher.state.floatbank10_e_level',\n",
       " 'rougher.state.floatbank10_f_air',\n",
       " 'rougher.state.floatbank10_f_level']"
      ]
     },
     "execution_count": 46,
     "metadata": {},
     "output_type": "execute_result"
    }
   ],
   "source": [
    "rougher_cols = [col for col in train.columns if col.startswith('rougher')]\n",
    "rougher_cols"
   ]
  },
  {
   "cell_type": "code",
   "execution_count": 47,
   "metadata": {},
   "outputs": [
    {
     "name": "stdout",
     "output_type": "stream",
     "text": [
      "(13598, 23)\n",
      "(5123, 23)\n",
      "(13598, 54)\n",
      "(5123, 54)\n"
     ]
    }
   ],
   "source": [
    "rougher_train = train_final[rougher_cols]\n",
    "rougher_test = test_final[rougher_cols]\n",
    "final_train = train_final#.drop('date', axis=1)\n",
    "final_test = test_final#.drop('date', axis=1)\n",
    "\n",
    "print(rougher_train.shape)\n",
    "print(rougher_test.shape)\n",
    "print(final_train.shape)\n",
    "print(final_test.shape)"
   ]
  },
  {
   "cell_type": "markdown",
   "metadata": {},
   "source": [
    "### Разбивка данных"
   ]
  },
  {
   "cell_type": "markdown",
   "metadata": {},
   "source": [
    "Выделим признаки и целевые признаки для всех выборок"
   ]
  },
  {
   "cell_type": "code",
   "execution_count": 48,
   "metadata": {},
   "outputs": [
    {
     "name": "stdout",
     "output_type": "stream",
     "text": [
      "(13598, 22)\n",
      "(13598,)\n",
      "(5123, 22)\n",
      "(5123,)\n"
     ]
    }
   ],
   "source": [
    "rougher_features_train = rougher_train.drop(target_rougher, axis=1).reset_index(drop=True)\n",
    "rougher_target_train = rougher_train[target_rougher].reset_index(drop=True)\n",
    "\n",
    "rougher_features_test = rougher_test.drop(target_rougher, axis=1).reset_index(drop=True)\n",
    "rougher_target_test = rougher_test[target_rougher].reset_index(drop=True)\n",
    "\n",
    "print(rougher_features_train.shape)\n",
    "print(rougher_target_train.shape)\n",
    "print(rougher_features_test.shape)\n",
    "print(rougher_target_test.shape)"
   ]
  },
  {
   "cell_type": "code",
   "execution_count": 49,
   "metadata": {},
   "outputs": [
    {
     "name": "stdout",
     "output_type": "stream",
     "text": [
      "(13598, 52)\n",
      "(13598,)\n",
      "(5123, 52)\n",
      "(5123,)\n"
     ]
    }
   ],
   "source": [
    "final_features_train = final_train.drop(target_cols, axis=1).reset_index(drop=True)\n",
    "final_target_train = final_train[target_final].reset_index(drop=True)\n",
    "\n",
    "final_features_test = final_test.drop(target_cols, axis=1).reset_index(drop=True)\n",
    "final_target_test = final_test[target_final].reset_index(drop=True)\n",
    "\n",
    "print(final_features_train.shape)\n",
    "print(final_target_train.shape)\n",
    "print(final_features_test.shape)\n",
    "print(final_target_test.shape)"
   ]
  },
  {
   "cell_type": "markdown",
   "metadata": {},
   "source": [
    "### Масштабирование признаков"
   ]
  },
  {
   "cell_type": "markdown",
   "metadata": {},
   "source": [
    "Проведём масштабирование признаков, использовав StandardScaler.\n",
    "Так как наборы данных у нас разные для этапа флотации и финального продукта, обучать StandardScaler будем отдельно для набора данных этапа флотации и отдельно для финального набора данных."
   ]
  },
  {
   "cell_type": "code",
   "execution_count": 50,
   "metadata": {},
   "outputs": [],
   "source": [
    "numeric = rougher_features_train.columns\n",
    "scaler = StandardScaler()\n",
    "scaler.fit(rougher_features_train[numeric])\n",
    "rougher_features_train[numeric] = scaler.transform(rougher_features_train[numeric])\n",
    "rougher_features_test[numeric] = scaler.transform(rougher_features_test[numeric])"
   ]
  },
  {
   "cell_type": "code",
   "execution_count": 51,
   "metadata": {},
   "outputs": [],
   "source": [
    "numeric = final_features_train.columns\n",
    "scaler = StandardScaler()\n",
    "scaler.fit(final_features_train[numeric])\n",
    "final_features_train[numeric] = scaler.transform(final_features_train[numeric])\n",
    "final_features_test[numeric] = scaler.transform(final_features_test[numeric])"
   ]
  },
  {
   "cell_type": "markdown",
   "metadata": {},
   "source": [
    "### Выбор модели"
   ]
  },
  {
   "cell_type": "markdown",
   "metadata": {},
   "source": [
    "Создадим скорер для перекрёстной проверки и подбора пораметров:"
   ]
  },
  {
   "cell_type": "code",
   "execution_count": 52,
   "metadata": {},
   "outputs": [],
   "source": [
    "smape_scorer = make_scorer(sMAPE, greater_is_better=False)"
   ]
  },
  {
   "cell_type": "markdown",
   "metadata": {},
   "source": [
    "Создадим переменные, в которые запишем наилучший результат и модель, сравнивая каждый раз с получившимися"
   ]
  },
  {
   "cell_type": "code",
   "execution_count": 53,
   "metadata": {},
   "outputs": [],
   "source": [
    "best_model_rougher = None\n",
    "best_model_final = None\n",
    "\n",
    "best_sMAPE_rougher = 100\n",
    "best_sMAPE_final = 100"
   ]
  },
  {
   "cell_type": "markdown",
   "metadata": {},
   "source": [
    "#### Дерево решений"
   ]
  },
  {
   "cell_type": "markdown",
   "metadata": {},
   "source": [
    "Для модели проведём поиск гиперпараметров методом GridSearchCV. Также, учитывая, что в качестве метрики мы должны использовать метрику sMAPE, укажем эту функцию в качетве параметра scoring, использовав объект scorer."
   ]
  },
  {
   "cell_type": "code",
   "execution_count": 54,
   "metadata": {
    "scrolled": true
   },
   "outputs": [
    {
     "name": "stdout",
     "output_type": "stream",
     "text": [
      "Fitting 5 folds for each of 9 candidates, totalling 45 fits\n",
      "[CV 1/5; 1/9] START max_depth=1.................................................\n",
      "[CV 1/5; 1/9] END ...............................max_depth=1; total time=   0.0s\n",
      "[CV 2/5; 1/9] START max_depth=1.................................................\n",
      "[CV 2/5; 1/9] END ...............................max_depth=1; total time=   0.0s\n",
      "[CV 3/5; 1/9] START max_depth=1.................................................\n",
      "[CV 3/5; 1/9] END ...............................max_depth=1; total time=   0.0s\n",
      "[CV 4/5; 1/9] START max_depth=1.................................................\n",
      "[CV 4/5; 1/9] END ...............................max_depth=1; total time=   0.0s\n",
      "[CV 5/5; 1/9] START max_depth=1.................................................\n",
      "[CV 5/5; 1/9] END ...............................max_depth=1; total time=   0.0s\n",
      "[CV 1/5; 2/9] START max_depth=2.................................................\n",
      "[CV 1/5; 2/9] END ...............................max_depth=2; total time=   0.1s\n",
      "[CV 2/5; 2/9] START max_depth=2.................................................\n",
      "[CV 2/5; 2/9] END ...............................max_depth=2; total time=   0.0s\n",
      "[CV 3/5; 2/9] START max_depth=2.................................................\n",
      "[CV 3/5; 2/9] END ...............................max_depth=2; total time=   0.1s\n",
      "[CV 4/5; 2/9] START max_depth=2.................................................\n",
      "[CV 4/5; 2/9] END ...............................max_depth=2; total time=   0.0s\n",
      "[CV 5/5; 2/9] START max_depth=2.................................................\n",
      "[CV 5/5; 2/9] END ...............................max_depth=2; total time=   0.0s\n",
      "[CV 1/5; 3/9] START max_depth=3.................................................\n",
      "[CV 1/5; 3/9] END ...............................max_depth=3; total time=   0.1s\n",
      "[CV 2/5; 3/9] START max_depth=3.................................................\n",
      "[CV 2/5; 3/9] END ...............................max_depth=3; total time=   0.1s\n",
      "[CV 3/5; 3/9] START max_depth=3.................................................\n",
      "[CV 3/5; 3/9] END ...............................max_depth=3; total time=   0.1s\n",
      "[CV 4/5; 3/9] START max_depth=3.................................................\n",
      "[CV 4/5; 3/9] END ...............................max_depth=3; total time=   0.1s\n",
      "[CV 5/5; 3/9] START max_depth=3.................................................\n",
      "[CV 5/5; 3/9] END ...............................max_depth=3; total time=   0.1s\n",
      "[CV 1/5; 4/9] START max_depth=4.................................................\n",
      "[CV 1/5; 4/9] END ...............................max_depth=4; total time=   0.1s\n",
      "[CV 2/5; 4/9] START max_depth=4.................................................\n",
      "[CV 2/5; 4/9] END ...............................max_depth=4; total time=   0.1s\n",
      "[CV 3/5; 4/9] START max_depth=4.................................................\n",
      "[CV 3/5; 4/9] END ...............................max_depth=4; total time=   0.1s\n",
      "[CV 4/5; 4/9] START max_depth=4.................................................\n",
      "[CV 4/5; 4/9] END ...............................max_depth=4; total time=   0.1s\n",
      "[CV 5/5; 4/9] START max_depth=4.................................................\n",
      "[CV 5/5; 4/9] END ...............................max_depth=4; total time=   0.1s\n",
      "[CV 1/5; 5/9] START max_depth=5.................................................\n",
      "[CV 1/5; 5/9] END ...............................max_depth=5; total time=   0.1s\n",
      "[CV 2/5; 5/9] START max_depth=5.................................................\n",
      "[CV 2/5; 5/9] END ...............................max_depth=5; total time=   0.1s\n",
      "[CV 3/5; 5/9] START max_depth=5.................................................\n",
      "[CV 3/5; 5/9] END ...............................max_depth=5; total time=   0.1s\n",
      "[CV 4/5; 5/9] START max_depth=5.................................................\n",
      "[CV 4/5; 5/9] END ...............................max_depth=5; total time=   0.1s\n",
      "[CV 5/5; 5/9] START max_depth=5.................................................\n",
      "[CV 5/5; 5/9] END ...............................max_depth=5; total time=   0.1s\n",
      "[CV 1/5; 6/9] START max_depth=6.................................................\n",
      "[CV 1/5; 6/9] END ...............................max_depth=6; total time=   0.1s\n",
      "[CV 2/5; 6/9] START max_depth=6.................................................\n",
      "[CV 2/5; 6/9] END ...............................max_depth=6; total time=   0.1s\n",
      "[CV 3/5; 6/9] START max_depth=6.................................................\n",
      "[CV 3/5; 6/9] END ...............................max_depth=6; total time=   0.1s\n",
      "[CV 4/5; 6/9] START max_depth=6.................................................\n",
      "[CV 4/5; 6/9] END ...............................max_depth=6; total time=   0.1s\n",
      "[CV 5/5; 6/9] START max_depth=6.................................................\n",
      "[CV 5/5; 6/9] END ...............................max_depth=6; total time=   0.2s\n",
      "[CV 1/5; 7/9] START max_depth=7.................................................\n",
      "[CV 1/5; 7/9] END ...............................max_depth=7; total time=   0.2s\n",
      "[CV 2/5; 7/9] START max_depth=7.................................................\n",
      "[CV 2/5; 7/9] END ...............................max_depth=7; total time=   0.2s\n",
      "[CV 3/5; 7/9] START max_depth=7.................................................\n",
      "[CV 3/5; 7/9] END ...............................max_depth=7; total time=   0.2s\n",
      "[CV 4/5; 7/9] START max_depth=7.................................................\n",
      "[CV 4/5; 7/9] END ...............................max_depth=7; total time=   0.2s\n",
      "[CV 5/5; 7/9] START max_depth=7.................................................\n",
      "[CV 5/5; 7/9] END ...............................max_depth=7; total time=   0.2s\n",
      "[CV 1/5; 8/9] START max_depth=8.................................................\n",
      "[CV 1/5; 8/9] END ...............................max_depth=8; total time=   0.2s\n",
      "[CV 2/5; 8/9] START max_depth=8.................................................\n",
      "[CV 2/5; 8/9] END ...............................max_depth=8; total time=   0.2s\n",
      "[CV 3/5; 8/9] START max_depth=8.................................................\n",
      "[CV 3/5; 8/9] END ...............................max_depth=8; total time=   0.2s\n",
      "[CV 4/5; 8/9] START max_depth=8.................................................\n",
      "[CV 4/5; 8/9] END ...............................max_depth=8; total time=   0.2s\n",
      "[CV 5/5; 8/9] START max_depth=8.................................................\n",
      "[CV 5/5; 8/9] END ...............................max_depth=8; total time=   0.2s\n",
      "[CV 1/5; 9/9] START max_depth=9.................................................\n",
      "[CV 1/5; 9/9] END ...............................max_depth=9; total time=   0.3s\n",
      "[CV 2/5; 9/9] START max_depth=9.................................................\n",
      "[CV 2/5; 9/9] END ...............................max_depth=9; total time=   0.2s\n",
      "[CV 3/5; 9/9] START max_depth=9.................................................\n",
      "[CV 3/5; 9/9] END ...............................max_depth=9; total time=   0.2s\n",
      "[CV 4/5; 9/9] START max_depth=9.................................................\n",
      "[CV 4/5; 9/9] END ...............................max_depth=9; total time=   0.2s\n",
      "[CV 5/5; 9/9] START max_depth=9.................................................\n",
      "[CV 5/5; 9/9] END ...............................max_depth=9; total time=   0.2s\n",
      "Лучшая модель: DecisionTreeRegressor(max_depth=5, random_state=12345)\n",
      "Параметры лучшей модели: {'max_depth': 5}\n",
      "Cимметричное среднее абсолютного процентного отклонения, полученное на лучшей модели sMAPE = 6.94\n",
      "CPU times: user 5.38 s, sys: 22.7 ms, total: 5.4 s\n",
      "Wall time: 5.46 s\n"
     ]
    }
   ],
   "source": [
    "%%time \n",
    "#-----> Wall time: 5.86 s\n",
    "\n",
    "## для этапа флотации\n",
    "param_grid = {'max_depth': np.arange(1, 10)}  # изначально перебирала с диапазоне до 100, лучший вариант был 9, \n",
    "                                              # сузила до 10 для ускорения выполнения\n",
    "model_dt_rougher_train = DecisionTreeRegressor(random_state=SEED)\n",
    "rougher_train_predictions_gs_dt = GridSearchCV(model_dt_rougher_train, \n",
    "                                               param_grid=param_grid, \n",
    "                                               scoring=smape_scorer, \n",
    "                                               cv=5, \n",
    "                                               verbose=10, \n",
    "                                               n_jobs=-1)\n",
    "rougher_train_predictions_gs_dt.fit(rougher_features_train, rougher_target_train)\n",
    "smape_rougher_dt = np.abs(rougher_train_predictions_gs_dt.best_score_)\n",
    "\n",
    "print(\"Лучшая модель:\", rougher_train_predictions_gs_dt.best_estimator_) \n",
    "print(\"Параметры лучшей модели:\", rougher_train_predictions_gs_dt.best_params_)\n",
    "print(\"Cимметричное среднее абсолютного процентного отклонения, полученное на лучшей модели sMAPE =\", round(smape_rougher_dt, 4))"
   ]
  },
  {
   "cell_type": "markdown",
   "metadata": {},
   "source": [
    "**У модели \"Дерево решений\" в черновом концентрате метрика sMAPE = 6.94%.**"
   ]
  },
  {
   "cell_type": "code",
   "execution_count": 55,
   "metadata": {
    "scrolled": true
   },
   "outputs": [
    {
     "name": "stdout",
     "output_type": "stream",
     "text": [
      "Fitting 5 folds for each of 9 candidates, totalling 45 fits\n",
      "[CV 1/5; 1/9] START max_depth=1.................................................\n",
      "[CV 1/5; 1/9] END ...............................max_depth=1; total time=   0.1s\n",
      "[CV 2/5; 1/9] START max_depth=1.................................................\n",
      "[CV 2/5; 1/9] END ...............................max_depth=1; total time=   0.1s\n",
      "[CV 3/5; 1/9] START max_depth=1.................................................\n",
      "[CV 3/5; 1/9] END ...............................max_depth=1; total time=   0.1s\n",
      "[CV 4/5; 1/9] START max_depth=1.................................................\n",
      "[CV 4/5; 1/9] END ...............................max_depth=1; total time=   0.1s\n",
      "[CV 5/5; 1/9] START max_depth=1.................................................\n",
      "[CV 5/5; 1/9] END ...............................max_depth=1; total time=   0.1s\n",
      "[CV 1/5; 2/9] START max_depth=2.................................................\n",
      "[CV 1/5; 2/9] END ...............................max_depth=2; total time=   0.1s\n",
      "[CV 2/5; 2/9] START max_depth=2.................................................\n",
      "[CV 2/5; 2/9] END ...............................max_depth=2; total time=   0.1s\n",
      "[CV 3/5; 2/9] START max_depth=2.................................................\n",
      "[CV 3/5; 2/9] END ...............................max_depth=2; total time=   0.1s\n",
      "[CV 4/5; 2/9] START max_depth=2.................................................\n",
      "[CV 4/5; 2/9] END ...............................max_depth=2; total time=   0.1s\n",
      "[CV 5/5; 2/9] START max_depth=2.................................................\n",
      "[CV 5/5; 2/9] END ...............................max_depth=2; total time=   0.1s\n",
      "[CV 1/5; 3/9] START max_depth=3.................................................\n",
      "[CV 1/5; 3/9] END ...............................max_depth=3; total time=   0.2s\n",
      "[CV 2/5; 3/9] START max_depth=3.................................................\n",
      "[CV 2/5; 3/9] END ...............................max_depth=3; total time=   0.2s\n",
      "[CV 3/5; 3/9] START max_depth=3.................................................\n",
      "[CV 3/5; 3/9] END ...............................max_depth=3; total time=   0.2s\n",
      "[CV 4/5; 3/9] START max_depth=3.................................................\n",
      "[CV 4/5; 3/9] END ...............................max_depth=3; total time=   0.2s\n",
      "[CV 5/5; 3/9] START max_depth=3.................................................\n",
      "[CV 5/5; 3/9] END ...............................max_depth=3; total time=   0.2s\n",
      "[CV 1/5; 4/9] START max_depth=4.................................................\n",
      "[CV 1/5; 4/9] END ...............................max_depth=4; total time=   0.2s\n",
      "[CV 2/5; 4/9] START max_depth=4.................................................\n",
      "[CV 2/5; 4/9] END ...............................max_depth=4; total time=   0.2s\n",
      "[CV 3/5; 4/9] START max_depth=4.................................................\n",
      "[CV 3/5; 4/9] END ...............................max_depth=4; total time=   0.2s\n",
      "[CV 4/5; 4/9] START max_depth=4.................................................\n",
      "[CV 4/5; 4/9] END ...............................max_depth=4; total time=   0.2s\n",
      "[CV 5/5; 4/9] START max_depth=4.................................................\n",
      "[CV 5/5; 4/9] END ...............................max_depth=4; total time=   0.2s\n",
      "[CV 1/5; 5/9] START max_depth=5.................................................\n",
      "[CV 1/5; 5/9] END ...............................max_depth=5; total time=   0.3s\n",
      "[CV 2/5; 5/9] START max_depth=5.................................................\n",
      "[CV 2/5; 5/9] END ...............................max_depth=5; total time=   0.3s\n",
      "[CV 3/5; 5/9] START max_depth=5.................................................\n",
      "[CV 3/5; 5/9] END ...............................max_depth=5; total time=   0.3s\n",
      "[CV 4/5; 5/9] START max_depth=5.................................................\n",
      "[CV 4/5; 5/9] END ...............................max_depth=5; total time=   0.3s\n",
      "[CV 5/5; 5/9] START max_depth=5.................................................\n",
      "[CV 5/5; 5/9] END ...............................max_depth=5; total time=   0.5s\n",
      "[CV 1/5; 6/9] START max_depth=6.................................................\n",
      "[CV 1/5; 6/9] END ...............................max_depth=6; total time=   0.4s\n",
      "[CV 2/5; 6/9] START max_depth=6.................................................\n",
      "[CV 2/5; 6/9] END ...............................max_depth=6; total time=   0.3s\n",
      "[CV 3/5; 6/9] START max_depth=6.................................................\n",
      "[CV 3/5; 6/9] END ...............................max_depth=6; total time=   0.3s\n",
      "[CV 4/5; 6/9] START max_depth=6.................................................\n",
      "[CV 4/5; 6/9] END ...............................max_depth=6; total time=   0.3s\n",
      "[CV 5/5; 6/9] START max_depth=6.................................................\n",
      "[CV 5/5; 6/9] END ...............................max_depth=6; total time=   0.3s\n",
      "[CV 1/5; 7/9] START max_depth=7.................................................\n",
      "[CV 1/5; 7/9] END ...............................max_depth=7; total time=   0.3s\n",
      "[CV 2/5; 7/9] START max_depth=7.................................................\n",
      "[CV 2/5; 7/9] END ...............................max_depth=7; total time=   0.3s\n",
      "[CV 3/5; 7/9] START max_depth=7.................................................\n",
      "[CV 3/5; 7/9] END ...............................max_depth=7; total time=   0.3s\n",
      "[CV 4/5; 7/9] START max_depth=7.................................................\n",
      "[CV 4/5; 7/9] END ...............................max_depth=7; total time=   0.3s\n",
      "[CV 5/5; 7/9] START max_depth=7.................................................\n",
      "[CV 5/5; 7/9] END ...............................max_depth=7; total time=   0.3s\n",
      "[CV 1/5; 8/9] START max_depth=8.................................................\n",
      "[CV 1/5; 8/9] END ...............................max_depth=8; total time=   0.4s\n",
      "[CV 2/5; 8/9] START max_depth=8.................................................\n",
      "[CV 2/5; 8/9] END ...............................max_depth=8; total time=   0.5s\n",
      "[CV 3/5; 8/9] START max_depth=8.................................................\n",
      "[CV 3/5; 8/9] END ...............................max_depth=8; total time=   0.8s\n",
      "[CV 4/5; 8/9] START max_depth=8.................................................\n",
      "[CV 4/5; 8/9] END ...............................max_depth=8; total time=   0.7s\n",
      "[CV 5/5; 8/9] START max_depth=8.................................................\n",
      "[CV 5/5; 8/9] END ...............................max_depth=8; total time=   0.7s\n",
      "[CV 1/5; 9/9] START max_depth=9.................................................\n",
      "[CV 1/5; 9/9] END ...............................max_depth=9; total time=   0.5s\n",
      "[CV 2/5; 9/9] START max_depth=9.................................................\n",
      "[CV 2/5; 9/9] END ...............................max_depth=9; total time=   0.4s\n",
      "[CV 3/5; 9/9] START max_depth=9.................................................\n",
      "[CV 3/5; 9/9] END ...............................max_depth=9; total time=   0.4s\n",
      "[CV 4/5; 9/9] START max_depth=9.................................................\n",
      "[CV 4/5; 9/9] END ...............................max_depth=9; total time=   0.4s\n",
      "[CV 5/5; 9/9] START max_depth=9.................................................\n",
      "[CV 5/5; 9/9] END ...............................max_depth=9; total time=   0.4s\n",
      "Лучшая модель: DecisionTreeRegressor(max_depth=3, random_state=12345)\n",
      "Параметры лучшей модели: {'max_depth': 3}\n",
      "Cимметричное среднее абсолютного процентного отклонения, полученное на лучшей модели sMAPE = 9.2383\n",
      "CPU times: user 11.5 s, sys: 28.7 ms, total: 11.6 s\n",
      "Wall time: 13.1 s\n"
     ]
    }
   ],
   "source": [
    "%%time \n",
    "#-----> Wall time: 12.6 s\n",
    "\n",
    "## для финального этапа \n",
    "model_dt_final_train = DecisionTreeRegressor(random_state=SEED)\n",
    "final_train_predictions_gs_dt = GridSearchCV(model_dt_final_train, \n",
    "                                             param_grid=param_grid, \n",
    "                                             scoring=smape_scorer, \n",
    "                                             cv=5, \n",
    "                                             verbose=10, \n",
    "                                             n_jobs=-1)\n",
    "final_train_predictions_gs_dt.fit(final_features_train, final_target_train)\n",
    "smape_final_dt = np.abs(final_train_predictions_gs_dt.best_score_)\n",
    "\n",
    "print(\"Лучшая модель:\", final_train_predictions_gs_dt.best_estimator_) \n",
    "print(\"Параметры лучшей модели:\", final_train_predictions_gs_dt.best_params_)\n",
    "print(\"Cимметричное среднее абсолютного процентного отклонения, полученное на лучшей модели sMAPE =\", round(smape_final_dt, 4))"
   ]
  },
  {
   "cell_type": "markdown",
   "metadata": {},
   "source": [
    "**У модели \"Дерево решений\" в финальном продукте метрика sMAPE = 9.24%.**"
   ]
  },
  {
   "cell_type": "code",
   "execution_count": 56,
   "metadata": {},
   "outputs": [
    {
     "name": "stdout",
     "output_type": "stream",
     "text": [
      "Итоговая sMAPE 8.6637\n"
     ]
    }
   ],
   "source": [
    "final_smape_dt = final_smape(smape_rougher_dt, smape_final_dt)\n",
    "print('Итоговая sMAPE',  round(final_smape_dt, 4))"
   ]
  },
  {
   "cell_type": "code",
   "execution_count": 57,
   "metadata": {},
   "outputs": [],
   "source": [
    "if best_sMAPE_final > final_smape_dt:\n",
    "    best_sMAPE_final = final_smape_dt\n",
    "    best_model_final = final_train_predictions_gs_dt.best_estimator_\n",
    "    best_model_rougher = rougher_train_predictions_gs_dt.best_estimator_"
   ]
  },
  {
   "cell_type": "markdown",
   "metadata": {},
   "source": [
    "#### Случайный лес"
   ]
  },
  {
   "cell_type": "markdown",
   "metadata": {},
   "source": [
    "Для модели случайный лес также проведём поиск гиперпараметров методом GridSearchCV. И в качестве метрики используем sMAPE в качетве параметра scoring, используя объект scorer."
   ]
  },
  {
   "cell_type": "code",
   "execution_count": 58,
   "metadata": {
    "scrolled": true
   },
   "outputs": [
    {
     "name": "stdout",
     "output_type": "stream",
     "text": [
      "Fitting 5 folds for each of 8 candidates, totalling 40 fits\n",
      "[CV 1/5; 1/8] START max_depth=4, n_estimators=2.................................\n",
      "[CV 1/5; 1/8] END ...............max_depth=4, n_estimators=2; total time=   0.1s\n",
      "[CV 2/5; 1/8] START max_depth=4, n_estimators=2.................................\n",
      "[CV 2/5; 1/8] END ...............max_depth=4, n_estimators=2; total time=   0.1s\n",
      "[CV 3/5; 1/8] START max_depth=4, n_estimators=2.................................\n",
      "[CV 3/5; 1/8] END ...............max_depth=4, n_estimators=2; total time=   0.1s\n",
      "[CV 4/5; 1/8] START max_depth=4, n_estimators=2.................................\n",
      "[CV 4/5; 1/8] END ...............max_depth=4, n_estimators=2; total time=   0.1s\n",
      "[CV 5/5; 1/8] START max_depth=4, n_estimators=2.................................\n",
      "[CV 5/5; 1/8] END ...............max_depth=4, n_estimators=2; total time=   0.1s\n",
      "[CV 1/5; 2/8] START max_depth=4, n_estimators=12................................\n",
      "[CV 1/5; 2/8] END ..............max_depth=4, n_estimators=12; total time=   0.6s\n",
      "[CV 2/5; 2/8] START max_depth=4, n_estimators=12................................\n",
      "[CV 2/5; 2/8] END ..............max_depth=4, n_estimators=12; total time=   0.6s\n",
      "[CV 3/5; 2/8] START max_depth=4, n_estimators=12................................\n",
      "[CV 3/5; 2/8] END ..............max_depth=4, n_estimators=12; total time=   0.6s\n",
      "[CV 4/5; 2/8] START max_depth=4, n_estimators=12................................\n",
      "[CV 4/5; 2/8] END ..............max_depth=4, n_estimators=12; total time=   0.6s\n",
      "[CV 5/5; 2/8] START max_depth=4, n_estimators=12................................\n",
      "[CV 5/5; 2/8] END ..............max_depth=4, n_estimators=12; total time=   0.6s\n",
      "[CV 1/5; 3/8] START max_depth=4, n_estimators=18................................\n",
      "[CV 1/5; 3/8] END ..............max_depth=4, n_estimators=18; total time=   0.9s\n",
      "[CV 2/5; 3/8] START max_depth=4, n_estimators=18................................\n",
      "[CV 2/5; 3/8] END ..............max_depth=4, n_estimators=18; total time=   0.9s\n",
      "[CV 3/5; 3/8] START max_depth=4, n_estimators=18................................\n",
      "[CV 3/5; 3/8] END ..............max_depth=4, n_estimators=18; total time=   0.9s\n",
      "[CV 4/5; 3/8] START max_depth=4, n_estimators=18................................\n",
      "[CV 4/5; 3/8] END ..............max_depth=4, n_estimators=18; total time=   0.9s\n",
      "[CV 5/5; 3/8] START max_depth=4, n_estimators=18................................\n",
      "[CV 5/5; 3/8] END ..............max_depth=4, n_estimators=18; total time=   0.9s\n",
      "[CV 1/5; 4/8] START max_depth=4, n_estimators=20................................\n",
      "[CV 1/5; 4/8] END ..............max_depth=4, n_estimators=20; total time=   1.0s\n",
      "[CV 2/5; 4/8] START max_depth=4, n_estimators=20................................\n",
      "[CV 2/5; 4/8] END ..............max_depth=4, n_estimators=20; total time=   1.1s\n",
      "[CV 3/5; 4/8] START max_depth=4, n_estimators=20................................\n",
      "[CV 3/5; 4/8] END ..............max_depth=4, n_estimators=20; total time=   1.1s\n",
      "[CV 4/5; 4/8] START max_depth=4, n_estimators=20................................\n",
      "[CV 4/5; 4/8] END ..............max_depth=4, n_estimators=20; total time=   1.1s\n",
      "[CV 5/5; 4/8] START max_depth=4, n_estimators=20................................\n",
      "[CV 5/5; 4/8] END ..............max_depth=4, n_estimators=20; total time=   1.1s\n",
      "[CV 1/5; 5/8] START max_depth=5, n_estimators=2.................................\n",
      "[CV 1/5; 5/8] END ...............max_depth=5, n_estimators=2; total time=   0.1s\n",
      "[CV 2/5; 5/8] START max_depth=5, n_estimators=2.................................\n",
      "[CV 2/5; 5/8] END ...............max_depth=5, n_estimators=2; total time=   0.1s\n",
      "[CV 3/5; 5/8] START max_depth=5, n_estimators=2.................................\n",
      "[CV 3/5; 5/8] END ...............max_depth=5, n_estimators=2; total time=   0.1s\n",
      "[CV 4/5; 5/8] START max_depth=5, n_estimators=2.................................\n",
      "[CV 4/5; 5/8] END ...............max_depth=5, n_estimators=2; total time=   0.1s\n",
      "[CV 5/5; 5/8] START max_depth=5, n_estimators=2.................................\n",
      "[CV 5/5; 5/8] END ...............max_depth=5, n_estimators=2; total time=   0.1s\n",
      "[CV 1/5; 6/8] START max_depth=5, n_estimators=12................................\n",
      "[CV 1/5; 6/8] END ..............max_depth=5, n_estimators=12; total time=   0.8s\n",
      "[CV 2/5; 6/8] START max_depth=5, n_estimators=12................................\n",
      "[CV 2/5; 6/8] END ..............max_depth=5, n_estimators=12; total time=   0.8s\n",
      "[CV 3/5; 6/8] START max_depth=5, n_estimators=12................................\n",
      "[CV 3/5; 6/8] END ..............max_depth=5, n_estimators=12; total time=   0.7s\n",
      "[CV 4/5; 6/8] START max_depth=5, n_estimators=12................................\n",
      "[CV 4/5; 6/8] END ..............max_depth=5, n_estimators=12; total time=   0.7s\n",
      "[CV 5/5; 6/8] START max_depth=5, n_estimators=12................................\n",
      "[CV 5/5; 6/8] END ..............max_depth=5, n_estimators=12; total time=   0.7s\n",
      "[CV 1/5; 7/8] START max_depth=5, n_estimators=18................................\n",
      "[CV 1/5; 7/8] END ..............max_depth=5, n_estimators=18; total time=   1.1s\n",
      "[CV 2/5; 7/8] START max_depth=5, n_estimators=18................................\n",
      "[CV 2/5; 7/8] END ..............max_depth=5, n_estimators=18; total time=   1.2s\n",
      "[CV 3/5; 7/8] START max_depth=5, n_estimators=18................................\n",
      "[CV 3/5; 7/8] END ..............max_depth=5, n_estimators=18; total time=   1.1s\n",
      "[CV 4/5; 7/8] START max_depth=5, n_estimators=18................................\n",
      "[CV 4/5; 7/8] END ..............max_depth=5, n_estimators=18; total time=   1.1s\n",
      "[CV 5/5; 7/8] START max_depth=5, n_estimators=18................................\n",
      "[CV 5/5; 7/8] END ..............max_depth=5, n_estimators=18; total time=   1.1s\n",
      "[CV 1/5; 8/8] START max_depth=5, n_estimators=20................................\n",
      "[CV 1/5; 8/8] END ..............max_depth=5, n_estimators=20; total time=   1.3s\n",
      "[CV 2/5; 8/8] START max_depth=5, n_estimators=20................................\n",
      "[CV 2/5; 8/8] END ..............max_depth=5, n_estimators=20; total time=   1.4s\n",
      "[CV 3/5; 8/8] START max_depth=5, n_estimators=20................................\n",
      "[CV 3/5; 8/8] END ..............max_depth=5, n_estimators=20; total time=   1.2s\n",
      "[CV 4/5; 8/8] START max_depth=5, n_estimators=20................................\n",
      "[CV 4/5; 8/8] END ..............max_depth=5, n_estimators=20; total time=   1.3s\n",
      "[CV 5/5; 8/8] START max_depth=5, n_estimators=20................................\n",
      "[CV 5/5; 8/8] END ..............max_depth=5, n_estimators=20; total time=   1.5s\n",
      "Лучшая модель: RandomForestRegressor(max_depth=5, n_estimators=12, random_state=12345)\n",
      "Параметры лучшей модели: {'max_depth': 5, 'n_estimators': 12}\n",
      "Cимметричное среднее абсолютного процентного отклонения, полученное на лучшей модели sMAPE = 6.3889\n",
      "CPU times: user 31.5 s, sys: 59.9 ms, total: 31.5 s\n",
      "Wall time: 31.6 s\n"
     ]
    }
   ],
   "source": [
    "%%time \n",
    "#-----> Wall time: 58.6 s\n",
    "\n",
    "## для этапа флотации\n",
    "param_grid = {'max_depth': np.arange(4, 6), 'n_estimators': (2, 12, 18, 20)} # изначально перебирала и глубину дерева, \n",
    "                                                                             # и количество деревьев\n",
    "                                                                             # в большом диапазоне, \n",
    "                                                                             # сузила для ускорения выполнения\n",
    "model_rf_rougher_train = RandomForestRegressor(random_state=SEED)\n",
    "rougher_train_predictions_gs_rf = GridSearchCV(model_rf_rougher_train, \n",
    "                                               param_grid=param_grid, \n",
    "                                               scoring=smape_scorer, \n",
    "                                               cv=5, \n",
    "                                               verbose=10, \n",
    "                                               n_jobs=-1)\n",
    "rougher_train_predictions_gs_rf.fit(rougher_features_train, rougher_target_train)\n",
    "smape_rougher_rf = np.abs(rougher_train_predictions_gs_rf.best_score_)\n",
    "\n",
    "print(\"Лучшая модель:\", rougher_train_predictions_gs_rf.best_estimator_) \n",
    "print(\"Параметры лучшей модели:\", rougher_train_predictions_gs_rf.best_params_)\n",
    "print(\"Cимметричное среднее абсолютного процентного отклонения, полученное на лучшей модели sMAPE =\", round(smape_rougher_rf, 4))"
   ]
  },
  {
   "cell_type": "markdown",
   "metadata": {},
   "source": [
    "**У модели \"Случайный лес\" в черновом концентрате метрика sMAPE = 6.39%.**"
   ]
  },
  {
   "cell_type": "code",
   "execution_count": null,
   "metadata": {
    "scrolled": true
   },
   "outputs": [
    {
     "name": "stdout",
     "output_type": "stream",
     "text": [
      "Fitting 5 folds for each of 8 candidates, totalling 40 fits\n",
      "[CV 1/5; 1/8] START max_depth=4, n_estimators=2.................................\n",
      "[CV 1/5; 1/8] END ...............max_depth=4, n_estimators=2; total time=   0.3s\n",
      "[CV 2/5; 1/8] START max_depth=4, n_estimators=2.................................\n",
      "[CV 2/5; 1/8] END ...............max_depth=4, n_estimators=2; total time=   0.3s\n",
      "[CV 3/5; 1/8] START max_depth=4, n_estimators=2.................................\n",
      "[CV 3/5; 1/8] END ...............max_depth=4, n_estimators=2; total time=   0.3s\n",
      "[CV 4/5; 1/8] START max_depth=4, n_estimators=2.................................\n",
      "[CV 4/5; 1/8] END ...............max_depth=4, n_estimators=2; total time=   0.3s\n",
      "[CV 5/5; 1/8] START max_depth=4, n_estimators=2.................................\n",
      "[CV 5/5; 1/8] END ...............max_depth=4, n_estimators=2; total time=   0.3s\n",
      "[CV 1/5; 2/8] START max_depth=4, n_estimators=12................................\n",
      "[CV 1/5; 2/8] END ..............max_depth=4, n_estimators=12; total time=   1.6s\n",
      "[CV 2/5; 2/8] START max_depth=4, n_estimators=12................................\n",
      "[CV 2/5; 2/8] END ..............max_depth=4, n_estimators=12; total time=   1.4s\n",
      "[CV 3/5; 2/8] START max_depth=4, n_estimators=12................................\n",
      "[CV 3/5; 2/8] END ..............max_depth=4, n_estimators=12; total time=   1.5s\n",
      "[CV 4/5; 2/8] START max_depth=4, n_estimators=12................................\n",
      "[CV 4/5; 2/8] END ..............max_depth=4, n_estimators=12; total time=   1.5s\n",
      "[CV 5/5; 2/8] START max_depth=4, n_estimators=12................................\n",
      "[CV 5/5; 2/8] END ..............max_depth=4, n_estimators=12; total time=   1.6s\n",
      "[CV 1/5; 3/8] START max_depth=4, n_estimators=18................................\n",
      "[CV 1/5; 3/8] END ..............max_depth=4, n_estimators=18; total time=   2.4s\n",
      "[CV 2/5; 3/8] START max_depth=4, n_estimators=18................................\n",
      "[CV 2/5; 3/8] END ..............max_depth=4, n_estimators=18; total time=   2.5s\n",
      "[CV 3/5; 3/8] START max_depth=4, n_estimators=18................................\n",
      "[CV 3/5; 3/8] END ..............max_depth=4, n_estimators=18; total time=   2.3s\n",
      "[CV 4/5; 3/8] START max_depth=4, n_estimators=18................................\n",
      "[CV 4/5; 3/8] END ..............max_depth=4, n_estimators=18; total time=   2.3s\n",
      "[CV 5/5; 3/8] START max_depth=4, n_estimators=18................................\n",
      "[CV 5/5; 3/8] END ..............max_depth=4, n_estimators=18; total time=   2.2s\n",
      "[CV 1/5; 4/8] START max_depth=4, n_estimators=20................................\n",
      "[CV 1/5; 4/8] END ..............max_depth=4, n_estimators=20; total time=   2.4s\n",
      "[CV 2/5; 4/8] START max_depth=4, n_estimators=20................................\n",
      "[CV 2/5; 4/8] END ..............max_depth=4, n_estimators=20; total time=   2.4s\n",
      "[CV 3/5; 4/8] START max_depth=4, n_estimators=20................................\n",
      "[CV 3/5; 4/8] END ..............max_depth=4, n_estimators=20; total time=   2.4s\n",
      "[CV 4/5; 4/8] START max_depth=4, n_estimators=20................................\n",
      "[CV 4/5; 4/8] END ..............max_depth=4, n_estimators=20; total time=   2.4s\n",
      "[CV 5/5; 4/8] START max_depth=4, n_estimators=20................................\n",
      "[CV 5/5; 4/8] END ..............max_depth=4, n_estimators=20; total time=   2.4s\n",
      "[CV 1/5; 5/8] START max_depth=5, n_estimators=2.................................\n",
      "[CV 1/5; 5/8] END ...............max_depth=5, n_estimators=2; total time=   0.4s\n",
      "[CV 2/5; 5/8] START max_depth=5, n_estimators=2.................................\n",
      "[CV 2/5; 5/8] END ...............max_depth=5, n_estimators=2; total time=   0.3s\n",
      "[CV 3/5; 5/8] START max_depth=5, n_estimators=2.................................\n",
      "[CV 3/5; 5/8] END ...............max_depth=5, n_estimators=2; total time=   0.3s\n",
      "[CV 4/5; 5/8] START max_depth=5, n_estimators=2.................................\n",
      "[CV 4/5; 5/8] END ...............max_depth=5, n_estimators=2; total time=   0.3s\n",
      "[CV 5/5; 5/8] START max_depth=5, n_estimators=2.................................\n",
      "[CV 5/5; 5/8] END ...............max_depth=5, n_estimators=2; total time=   0.3s\n",
      "[CV 1/5; 6/8] START max_depth=5, n_estimators=12................................\n",
      "[CV 1/5; 6/8] END ..............max_depth=5, n_estimators=12; total time=   1.8s\n",
      "[CV 2/5; 6/8] START max_depth=5, n_estimators=12................................\n",
      "[CV 2/5; 6/8] END ..............max_depth=5, n_estimators=12; total time=   2.2s\n",
      "[CV 3/5; 6/8] START max_depth=5, n_estimators=12................................\n",
      "[CV 3/5; 6/8] END ..............max_depth=5, n_estimators=12; total time=   1.9s\n",
      "[CV 4/5; 6/8] START max_depth=5, n_estimators=12................................\n",
      "[CV 4/5; 6/8] END ..............max_depth=5, n_estimators=12; total time=   1.7s\n",
      "[CV 5/5; 6/8] START max_depth=5, n_estimators=12................................\n",
      "[CV 5/5; 6/8] END ..............max_depth=5, n_estimators=12; total time=   1.8s\n",
      "[CV 1/5; 7/8] START max_depth=5, n_estimators=18................................\n",
      "[CV 1/5; 7/8] END ..............max_depth=5, n_estimators=18; total time=   2.6s\n",
      "[CV 2/5; 7/8] START max_depth=5, n_estimators=18................................\n",
      "[CV 2/5; 7/8] END ..............max_depth=5, n_estimators=18; total time=   2.8s\n",
      "[CV 3/5; 7/8] START max_depth=5, n_estimators=18................................\n",
      "[CV 3/5; 7/8] END ..............max_depth=5, n_estimators=18; total time=   2.7s\n",
      "[CV 4/5; 7/8] START max_depth=5, n_estimators=18................................\n",
      "[CV 4/5; 7/8] END ..............max_depth=5, n_estimators=18; total time=   2.9s\n",
      "[CV 5/5; 7/8] START max_depth=5, n_estimators=18................................\n",
      "[CV 5/5; 7/8] END ..............max_depth=5, n_estimators=18; total time=   4.2s\n",
      "[CV 1/5; 8/8] START max_depth=5, n_estimators=20................................\n",
      "[CV 1/5; 8/8] END ..............max_depth=5, n_estimators=20; total time=   3.4s\n",
      "[CV 2/5; 8/8] START max_depth=5, n_estimators=20................................\n",
      "[CV 2/5; 8/8] END ..............max_depth=5, n_estimators=20; total time=   2.9s\n",
      "[CV 3/5; 8/8] START max_depth=5, n_estimators=20................................\n",
      "[CV 3/5; 8/8] END ..............max_depth=5, n_estimators=20; total time=   3.0s\n",
      "[CV 4/5; 8/8] START max_depth=5, n_estimators=20................................\n",
      "[CV 4/5; 8/8] END ..............max_depth=5, n_estimators=20; total time=   4.1s\n",
      "[CV 5/5; 8/8] START max_depth=5, n_estimators=20................................\n",
      "[CV 5/5; 8/8] END ..............max_depth=5, n_estimators=20; total time=   3.2s\n"
     ]
    }
   ],
   "source": [
    "%%time \n",
    "#-----> Wall time: 2min 12s\n",
    "\n",
    "## для финального этапа\n",
    "model_rf_final_train = RandomForestRegressor(random_state=SEED)\n",
    "final_train_predictions_gs_rf = GridSearchCV(model_rf_final_train, \n",
    "                                             param_grid=param_grid, \n",
    "                                             scoring=smape_scorer, \n",
    "                                             cv=5, \n",
    "                                             verbose=10, \n",
    "                                             n_jobs=-1)\n",
    "final_train_predictions_gs_rf.fit(final_features_train, final_target_train)\n",
    "smape_final_rf = np.abs(final_train_predictions_gs_rf.best_score_)\n",
    "\n",
    "print(\"Лучшая модель:\", final_train_predictions_gs_rf.best_estimator_) \n",
    "print(\"Параметры лучшей модели:\", final_train_predictions_gs_rf.best_params_)\n",
    "print(\"Cимметричное среднее абсолютного процентного отклонения, полученное на лучшей модели sMAPE =\", round(smape_final_rf, 4))"
   ]
  },
  {
   "cell_type": "markdown",
   "metadata": {},
   "source": [
    "**У модели \"Случайный лес\" в финальном продукте метрика sMAPE = 9.04%.**"
   ]
  },
  {
   "cell_type": "code",
   "execution_count": null,
   "metadata": {},
   "outputs": [],
   "source": [
    "final_smape_rf = final_smape(smape_rougher_rf, smape_final_rf)\n",
    "print('Итоговая sMAPE',  round(final_smape_rf, 4))"
   ]
  },
  {
   "cell_type": "code",
   "execution_count": null,
   "metadata": {},
   "outputs": [],
   "source": [
    "if best_sMAPE_final > final_smape_rf:\n",
    "    best_sMAPE_final = final_smape_rf\n",
    "    best_model_final = final_train_predictions_gs_rf.best_estimator_\n",
    "    best_model_rougher = rougher_train_predictions_gs_rf.best_estimator_"
   ]
  },
  {
   "cell_type": "markdown",
   "metadata": {},
   "source": [
    "#### Линейная регрессия"
   ]
  },
  {
   "cell_type": "code",
   "execution_count": null,
   "metadata": {
    "scrolled": true
   },
   "outputs": [],
   "source": [
    "%%time \n",
    "#-----> Wall time: 8.56 s\n",
    "\n",
    "## для этапа флотации\n",
    "\n",
    "model_lr_rougher_train = LinearRegression()\n",
    "smape_rougher_lr = np.mean(np.abs(cross_val_score(model_lr_rougher_train, \n",
    "                                          rougher_features_train, \n",
    "                                          rougher_target_train, \n",
    "                                          scoring=smape_scorer, \n",
    "                                          cv=5, n_jobs=-1, verbose=10)))\n",
    "\n",
    "print(\"Cимметричное среднее абсолютного процентного отклонения, полученное на лучшей модели sMAPE =\", smape_rougher_lr)"
   ]
  },
  {
   "cell_type": "markdown",
   "metadata": {},
   "source": [
    "**У модели \"Линейная регрессия\" в черновом концентрате метрика sMAPE = 6.67%.**"
   ]
  },
  {
   "cell_type": "code",
   "execution_count": null,
   "metadata": {},
   "outputs": [],
   "source": [
    "%%time\n",
    "#-----> Wall time: 12.3 s\n",
    "\n",
    "## для финального этапа\n",
    "model_lr_final_train = LinearRegression()\n",
    "\n",
    "smape_final_lr = np.mean(np.abs(cross_val_score(model_lr_final_train, \n",
    "                                        final_features_train, \n",
    "                                        final_target_train, \n",
    "                                        scoring=smape_scorer, \n",
    "                                        cv=5, n_jobs=-1, verbose=10)))\n",
    "\n",
    "print(\"Cимметричное среднее абсолютного процентного отклонения, полученное на лучшей модели sMAPE =\", smape_final_lr)"
   ]
  },
  {
   "cell_type": "markdown",
   "metadata": {},
   "source": [
    "**У модели \"Линейная регрессия\" в финальном продукте метрика sMAPE = 11,02%.**"
   ]
  },
  {
   "cell_type": "code",
   "execution_count": null,
   "metadata": {},
   "outputs": [],
   "source": [
    "final_smape_lr = final_smape(smape_rougher_lr, smape_final_lr)\n",
    "print('Итоговая sMAPE',  round(final_smape_lr, 4))"
   ]
  },
  {
   "cell_type": "code",
   "execution_count": null,
   "metadata": {},
   "outputs": [],
   "source": [
    "if best_sMAPE_final > final_smape_lr:\n",
    "    best_sMAPE_final = final_smape_lr\n",
    "    best_model_final = final_train_predictions_gs_lr.best_estimator_\n",
    "    best_model_rougher = rougher_train_predictions_gs_lr.best_estimator_"
   ]
  },
  {
   "cell_type": "markdown",
   "metadata": {},
   "source": [
    "**Лучшая модель для предсказаний на этапе флотации (черновой концентрат)**"
   ]
  },
  {
   "cell_type": "code",
   "execution_count": null,
   "metadata": {},
   "outputs": [],
   "source": [
    "best_model_rougher"
   ]
  },
  {
   "cell_type": "markdown",
   "metadata": {},
   "source": [
    "#### Лучшая модель для предсказаний на финальном этапе"
   ]
  },
  {
   "cell_type": "code",
   "execution_count": null,
   "metadata": {},
   "outputs": [],
   "source": [
    "best_model_final"
   ]
  },
  {
   "cell_type": "markdown",
   "metadata": {},
   "source": [
    "### Предсказания на тестовых данных"
   ]
  },
  {
   "cell_type": "markdown",
   "metadata": {},
   "source": [
    "**Черновой концентрат**"
   ]
  },
  {
   "cell_type": "code",
   "execution_count": null,
   "metadata": {},
   "outputs": [],
   "source": [
    "model_rougher = best_model_rougher\n",
    "model_rougher.fit(rougher_features_train, rougher_target_train)\n",
    "predicted_rougher = model_rougher.predict(rougher_features_test)\n",
    "smape_rougher = sMAPE(rougher_target_test, predicted_rougher)\n",
    "print('Cимметричное среднее абсолютного процентного отклонения у модели в черновом концентрате =', smape_rougher)"
   ]
  },
  {
   "cell_type": "markdown",
   "metadata": {},
   "source": [
    "**Финальный продукт**"
   ]
  },
  {
   "cell_type": "code",
   "execution_count": null,
   "metadata": {},
   "outputs": [],
   "source": [
    "model_final = best_model_final\n",
    "model_final.fit(final_features_train, final_target_train)\n",
    "predicted_final = model_final.predict(final_features_test)\n",
    "smape_final = sMAPE(final_target_test, predicted_final)\n",
    "print('Cимметричное среднее абсолютного процентного отклонения у модели в финальном продукте =', smape_final)"
   ]
  },
  {
   "cell_type": "code",
   "execution_count": null,
   "metadata": {},
   "outputs": [],
   "source": [
    "print('Итоговое sMAPE =', round(final_smape(smape_rougher, smape_final), 4))"
   ]
  },
  {
   "cell_type": "markdown",
   "metadata": {},
   "source": [
    "### Проверка модели на адекватность"
   ]
  },
  {
   "cell_type": "code",
   "execution_count": null,
   "metadata": {},
   "outputs": [],
   "source": [
    "strategies = ['mean', 'median']\n",
    "for strat in strategies:\n",
    "    dummy = DummyRegressor(strategy=strat)\n",
    "\n",
    "    dummy.fit(rougher_features_train, rougher_target_train)\n",
    "    predictions_rouger = dummy.predict(rougher_features_test)\n",
    "\n",
    "    dummy.fit(final_features_train, final_target_train)\n",
    "    predictions_final = dummy.predict(final_features_test)\n",
    "\n",
    "    score_rougher = sMAPE(rougher_target_test, predicted_rougher)\n",
    "    score_final = sMAPE(final_target_test, predictions_final)\n",
    "    total_smape = final_smape(score_rougher, score_final)\n",
    "    print('Стратегия:', strat)\n",
    "    print('sMAPE чернового концентрата:', score_rougher)\n",
    "    print('sMAPE финального продукта:', score_final)\n",
    "    print('Итоговый sMAPE:', total_smape)\n",
    "    print()"
   ]
  },
  {
   "cell_type": "markdown",
   "metadata": {},
   "source": [
    "7,64 на dummy модели против 7,42 на лучшей модели.  \n",
    "Обученная модель работает лучше, чем модель Dummy. Можем сказать, что модель прошла проверку на адекватность."
   ]
  },
  {
   "cell_type": "markdown",
   "metadata": {},
   "source": [
    "### Вывод"
   ]
  },
  {
   "cell_type": "markdown",
   "metadata": {},
   "source": [
    "На этом этапе выполнено:\n",
    "\n",
    "- написаны функции расчёта метрики качества sMAPE и итоговой метрики;\n",
    "- выделены столбцы с данными, которые относятся к этапу флотации (черновой концентрат);\n",
    "- выделены два целевых признака для двух разных этапов;\n",
    "- данные масштабированы;\n",
    "- из трех моделей выбрана лучшая;\n",
    "- протестирована лучшая модель и проверена на адекватность.\n",
    "  \n",
    "Наилучшим подходом оказалось использование двух моделей и двух наборов обучающих данных:\n",
    "  \n",
    "- для этапа флотации использовались данные, которые содержат только входную информацию чернового концентрата; модель регрессора случайного леса была настроена с глубиной деревьев 6, числом деревье 4;\n",
    "- для финального этапа использовались все доступные для обучения данные, а модель настроена с глубиной деревьев 2, количеством деревьев 8.\n",
    "  \n",
    "При сравнении с константной Dummy моделью качество предсказания незначительно отстаёт на значение sMAPE = 0,04."
   ]
  },
  {
   "cell_type": "markdown",
   "metadata": {},
   "source": [
    "## Вывод"
   ]
  },
  {
   "cell_type": "markdown",
   "metadata": {},
   "source": [
    "Была проведена работа по обработке и анализу данных в результате которых выяснилось с какими данными будет идти дальнейшая работа, а с какими не должно проходить обучение модели.   \n",
    "Скорректировано распределение значений во всех выборках удалением показателей ниже 1.   \n",
    "Определена лучшая модель, предсказания которой, должны уложиться ниже константной модели, которая в свою очередь предсказвает медианное и среднее значения. Для этого выбирана модель при помощи перебора параметров методом GridSearchCV.  \n",
    "В результате с незначительным отрывом на 0,04 sMAPE лидировала обученная модель Случайный лес.   "
   ]
  }
 ],
 "metadata": {
  "ExecuteTimeLog": [
   {
    "duration": 427,
    "start_time": "2023-02-25T19:20:32.698Z"
   },
   {
    "duration": 2050,
    "start_time": "2023-02-25T19:20:34.407Z"
   },
   {
    "duration": 68,
    "start_time": "2023-02-25T19:22:01.510Z"
   },
   {
    "duration": 692,
    "start_time": "2023-02-25T19:22:44.918Z"
   },
   {
    "duration": 44,
    "start_time": "2023-02-25T19:23:30.325Z"
   },
   {
    "duration": 3078,
    "start_time": "2023-02-25T19:23:48.815Z"
   },
   {
    "duration": 22,
    "start_time": "2023-02-25T19:24:16.649Z"
   },
   {
    "duration": 2050,
    "start_time": "2023-02-25T20:10:31.391Z"
   },
   {
    "duration": 404,
    "start_time": "2023-02-25T20:10:44.015Z"
   },
   {
    "duration": 675,
    "start_time": "2023-02-25T20:22:50.807Z"
   },
   {
    "duration": 17,
    "start_time": "2023-02-25T20:22:55.720Z"
   },
   {
    "duration": 236,
    "start_time": "2023-02-25T20:24:35.805Z"
   },
   {
    "duration": 143,
    "start_time": "2023-02-25T20:27:12.509Z"
   },
   {
    "duration": 278,
    "start_time": "2023-02-25T20:27:53.651Z"
   },
   {
    "duration": 15,
    "start_time": "2023-02-25T20:30:22.829Z"
   },
   {
    "duration": 14,
    "start_time": "2023-02-25T20:34:30.313Z"
   },
   {
    "duration": 16,
    "start_time": "2023-02-25T20:35:36.791Z"
   },
   {
    "duration": 68,
    "start_time": "2023-02-25T20:42:12.054Z"
   },
   {
    "duration": 13,
    "start_time": "2023-02-25T20:43:17.240Z"
   },
   {
    "duration": 230,
    "start_time": "2023-02-25T20:56:01.771Z"
   },
   {
    "duration": 14,
    "start_time": "2023-02-25T20:56:42.094Z"
   },
   {
    "duration": 21,
    "start_time": "2023-02-25T20:56:57.789Z"
   },
   {
    "duration": 14,
    "start_time": "2023-02-25T20:58:14.203Z"
   },
   {
    "duration": 20,
    "start_time": "2023-02-25T20:58:34.929Z"
   },
   {
    "duration": 19,
    "start_time": "2023-02-25T20:59:11.153Z"
   },
   {
    "duration": 14,
    "start_time": "2023-02-25T20:59:29.329Z"
   },
   {
    "duration": 22,
    "start_time": "2023-02-25T20:59:40.801Z"
   },
   {
    "duration": 4,
    "start_time": "2023-02-25T21:47:00.328Z"
   },
   {
    "duration": 65,
    "start_time": "2023-02-25T21:48:10.397Z"
   },
   {
    "duration": 16,
    "start_time": "2023-02-25T21:48:15.501Z"
   },
   {
    "duration": 81,
    "start_time": "2023-02-25T21:50:30.776Z"
   },
   {
    "duration": 7,
    "start_time": "2023-02-25T21:50:43.294Z"
   },
   {
    "duration": 3,
    "start_time": "2023-02-25T21:50:48.047Z"
   },
   {
    "duration": 12,
    "start_time": "2023-02-25T21:53:28.138Z"
   },
   {
    "duration": 8,
    "start_time": "2023-02-25T21:53:30.950Z"
   },
   {
    "duration": 8,
    "start_time": "2023-02-25T21:55:07.014Z"
   },
   {
    "duration": 8,
    "start_time": "2023-02-25T21:56:23.618Z"
   },
   {
    "duration": 3,
    "start_time": "2023-02-25T21:56:38.719Z"
   },
   {
    "duration": 84,
    "start_time": "2023-02-25T21:57:26.024Z"
   },
   {
    "duration": 124,
    "start_time": "2023-02-25T21:58:23.240Z"
   },
   {
    "duration": 3,
    "start_time": "2023-02-25T21:59:08.399Z"
   },
   {
    "duration": 16,
    "start_time": "2023-02-25T21:59:11.092Z"
   },
   {
    "duration": 82,
    "start_time": "2023-02-25T21:59:12.089Z"
   },
   {
    "duration": 390,
    "start_time": "2023-02-25T21:59:24.331Z"
   },
   {
    "duration": 3,
    "start_time": "2023-02-25T21:59:25.596Z"
   },
   {
    "duration": 680,
    "start_time": "2023-02-25T21:59:26.756Z"
   },
   {
    "duration": 234,
    "start_time": "2023-02-25T21:59:28.036Z"
   },
   {
    "duration": 130,
    "start_time": "2023-02-25T21:59:28.593Z"
   },
   {
    "duration": 277,
    "start_time": "2023-02-25T21:59:29.076Z"
   },
   {
    "duration": 16,
    "start_time": "2023-02-25T21:59:29.843Z"
   },
   {
    "duration": 12,
    "start_time": "2023-02-25T21:59:30.869Z"
   },
   {
    "duration": 16,
    "start_time": "2023-02-25T21:59:31.745Z"
   },
   {
    "duration": 4,
    "start_time": "2023-02-25T21:59:34.636Z"
   },
   {
    "duration": 16,
    "start_time": "2023-02-25T21:59:36.282Z"
   },
   {
    "duration": 249,
    "start_time": "2023-02-25T21:59:37.611Z"
   },
   {
    "duration": 201,
    "start_time": "2023-02-25T21:59:47.844Z"
   },
   {
    "duration": 96,
    "start_time": "2023-02-25T22:01:55.711Z"
   },
   {
    "duration": 7,
    "start_time": "2023-02-25T22:02:34.585Z"
   },
   {
    "duration": 586,
    "start_time": "2023-02-25T22:03:07.247Z"
   },
   {
    "duration": 5,
    "start_time": "2023-02-25T22:03:13.194Z"
   },
   {
    "duration": 39,
    "start_time": "2023-02-25T22:06:51.036Z"
   },
   {
    "duration": 285,
    "start_time": "2023-02-25T22:07:33.443Z"
   },
   {
    "duration": 243,
    "start_time": "2023-02-25T22:07:46.644Z"
   },
   {
    "duration": 301,
    "start_time": "2023-02-25T22:07:56.202Z"
   },
   {
    "duration": 24,
    "start_time": "2023-02-25T22:08:53.746Z"
   },
   {
    "duration": 279,
    "start_time": "2023-02-25T22:09:19.483Z"
   },
   {
    "duration": 247,
    "start_time": "2023-02-25T22:09:24.583Z"
   },
   {
    "duration": 9,
    "start_time": "2023-02-25T22:13:27.185Z"
   },
   {
    "duration": 0,
    "start_time": "2023-02-25T22:14:36.934Z"
   },
   {
    "duration": 1324,
    "start_time": "2023-02-25T22:14:42.618Z"
   },
   {
    "duration": 3,
    "start_time": "2023-02-25T22:14:43.944Z"
   },
   {
    "duration": 697,
    "start_time": "2023-02-25T22:14:45.024Z"
   },
   {
    "duration": 234,
    "start_time": "2023-02-25T22:14:46.215Z"
   },
   {
    "duration": 129,
    "start_time": "2023-02-25T22:14:46.872Z"
   },
   {
    "duration": 232,
    "start_time": "2023-02-25T22:14:47.608Z"
   },
   {
    "duration": 15,
    "start_time": "2023-02-25T22:14:48.503Z"
   },
   {
    "duration": 13,
    "start_time": "2023-02-25T22:14:49.526Z"
   },
   {
    "duration": 16,
    "start_time": "2023-02-25T22:14:50.560Z"
   },
   {
    "duration": 3,
    "start_time": "2023-02-25T22:14:53.431Z"
   },
   {
    "duration": 16,
    "start_time": "2023-02-25T22:14:54.863Z"
   },
   {
    "duration": 207,
    "start_time": "2023-02-25T22:14:56.159Z"
   },
   {
    "duration": 6,
    "start_time": "2023-02-25T22:14:57.615Z"
   },
   {
    "duration": 231,
    "start_time": "2023-02-25T22:14:58.783Z"
   },
   {
    "duration": 238,
    "start_time": "2023-02-25T22:15:00.197Z"
   },
   {
    "duration": 15,
    "start_time": "2023-02-25T22:16:35.236Z"
   },
   {
    "duration": 598,
    "start_time": "2023-02-25T22:22:57.814Z"
   },
   {
    "duration": 86,
    "start_time": "2023-02-25T22:25:43.438Z"
   },
   {
    "duration": 76,
    "start_time": "2023-02-25T22:25:50.098Z"
   },
   {
    "duration": 78,
    "start_time": "2023-02-25T22:26:06.701Z"
   },
   {
    "duration": 3,
    "start_time": "2023-02-25T22:29:07.366Z"
   },
   {
    "duration": 429,
    "start_time": "2023-02-25T22:29:20.693Z"
   },
   {
    "duration": 12,
    "start_time": "2023-02-25T22:31:51.619Z"
   },
   {
    "duration": 12,
    "start_time": "2023-02-25T22:31:57.226Z"
   },
   {
    "duration": 1316,
    "start_time": "2023-02-25T22:32:07.115Z"
   },
   {
    "duration": 378,
    "start_time": "2023-02-25T22:34:02.673Z"
   },
   {
    "duration": 249,
    "start_time": "2023-02-25T22:34:10.750Z"
   },
   {
    "duration": 251,
    "start_time": "2023-02-25T22:34:36.790Z"
   },
   {
    "duration": 486,
    "start_time": "2023-02-25T22:35:31.608Z"
   },
   {
    "duration": 392,
    "start_time": "2023-02-25T22:35:44.644Z"
   },
   {
    "duration": 406,
    "start_time": "2023-02-25T22:36:55.036Z"
   },
   {
    "duration": 502,
    "start_time": "2023-02-25T22:37:21.795Z"
   },
   {
    "duration": 404,
    "start_time": "2023-02-25T22:37:28.530Z"
   },
   {
    "duration": 484,
    "start_time": "2023-02-25T22:39:56.087Z"
   },
   {
    "duration": 488,
    "start_time": "2023-02-25T22:40:04.255Z"
   },
   {
    "duration": 510,
    "start_time": "2023-02-25T22:40:18.622Z"
   },
   {
    "duration": 477,
    "start_time": "2023-02-25T22:40:28.038Z"
   },
   {
    "duration": 462,
    "start_time": "2023-02-25T22:40:54.485Z"
   },
   {
    "duration": 10,
    "start_time": "2023-02-25T22:41:44.154Z"
   },
   {
    "duration": 366,
    "start_time": "2023-02-25T22:42:28.059Z"
   },
   {
    "duration": 961,
    "start_time": "2023-02-25T22:45:19.985Z"
   },
   {
    "duration": 133,
    "start_time": "2023-02-25T22:45:46.852Z"
   },
   {
    "duration": 131,
    "start_time": "2023-02-25T22:47:13.855Z"
   },
   {
    "duration": 405,
    "start_time": "2023-02-25T22:47:23.109Z"
   },
   {
    "duration": 1313,
    "start_time": "2023-02-25T22:47:33.149Z"
   },
   {
    "duration": 3,
    "start_time": "2023-02-25T22:47:36.021Z"
   },
   {
    "duration": 675,
    "start_time": "2023-02-25T22:47:36.973Z"
   },
   {
    "duration": 231,
    "start_time": "2023-02-25T22:47:38.044Z"
   },
   {
    "duration": 126,
    "start_time": "2023-02-25T22:47:38.741Z"
   },
   {
    "duration": 237,
    "start_time": "2023-02-25T22:47:39.416Z"
   },
   {
    "duration": 15,
    "start_time": "2023-02-25T22:47:40.580Z"
   },
   {
    "duration": 12,
    "start_time": "2023-02-25T22:47:41.796Z"
   },
   {
    "duration": 15,
    "start_time": "2023-02-25T22:47:42.901Z"
   },
   {
    "duration": 3,
    "start_time": "2023-02-25T22:47:45.564Z"
   },
   {
    "duration": 15,
    "start_time": "2023-02-25T22:47:46.381Z"
   },
   {
    "duration": 202,
    "start_time": "2023-02-25T22:47:47.124Z"
   },
   {
    "duration": 4,
    "start_time": "2023-02-25T22:47:48.278Z"
   },
   {
    "duration": 379,
    "start_time": "2023-02-25T22:47:49.116Z"
   },
   {
    "duration": 3,
    "start_time": "2023-02-25T22:49:58.337Z"
   },
   {
    "duration": 98,
    "start_time": "2023-02-25T22:51:09.601Z"
   },
   {
    "duration": 71,
    "start_time": "2023-02-25T22:51:37.859Z"
   },
   {
    "duration": 72,
    "start_time": "2023-02-25T22:51:41.991Z"
   },
   {
    "duration": 11,
    "start_time": "2023-02-25T22:54:37.164Z"
   },
   {
    "duration": 10,
    "start_time": "2023-02-25T22:54:59.875Z"
   },
   {
    "duration": 161,
    "start_time": "2023-02-25T22:55:32.498Z"
   },
   {
    "duration": 244,
    "start_time": "2023-02-25T22:55:44.354Z"
   },
   {
    "duration": 151,
    "start_time": "2023-02-25T22:56:04.082Z"
   },
   {
    "duration": 158,
    "start_time": "2023-02-25T22:56:22.625Z"
   },
   {
    "duration": 151,
    "start_time": "2023-02-25T22:56:54.554Z"
   },
   {
    "duration": 91,
    "start_time": "2023-02-25T22:56:59.345Z"
   },
   {
    "duration": 149,
    "start_time": "2023-02-25T22:57:10.673Z"
   },
   {
    "duration": 149,
    "start_time": "2023-02-25T22:57:28.696Z"
   },
   {
    "duration": 343,
    "start_time": "2023-02-25T22:57:44.793Z"
   },
   {
    "duration": 562,
    "start_time": "2023-02-25T22:58:04.920Z"
   },
   {
    "duration": 478,
    "start_time": "2023-02-25T22:58:48.926Z"
   },
   {
    "duration": 510,
    "start_time": "2023-02-25T23:00:28.828Z"
   },
   {
    "duration": 602,
    "start_time": "2023-02-25T23:00:36.116Z"
   },
   {
    "duration": 532,
    "start_time": "2023-02-25T23:00:44.964Z"
   },
   {
    "duration": 617,
    "start_time": "2023-02-25T23:01:02.628Z"
   },
   {
    "duration": 506,
    "start_time": "2023-02-25T23:01:09.931Z"
   },
   {
    "duration": 540,
    "start_time": "2023-02-25T23:01:14.283Z"
   },
   {
    "duration": 665,
    "start_time": "2023-02-25T23:01:20.884Z"
   },
   {
    "duration": 546,
    "start_time": "2023-02-25T23:01:44.620Z"
   },
   {
    "duration": 499,
    "start_time": "2023-02-25T23:03:03.218Z"
   },
   {
    "duration": 610,
    "start_time": "2023-02-25T23:03:36.273Z"
   },
   {
    "duration": 511,
    "start_time": "2023-02-25T23:03:55.771Z"
   },
   {
    "duration": 520,
    "start_time": "2023-02-25T23:04:03.880Z"
   },
   {
    "duration": 4,
    "start_time": "2023-02-25T23:08:48.793Z"
   },
   {
    "duration": 6,
    "start_time": "2023-02-25T23:24:13.678Z"
   },
   {
    "duration": 72,
    "start_time": "2023-02-26T00:36:21.233Z"
   },
   {
    "duration": 8,
    "start_time": "2023-02-26T00:40:20.216Z"
   },
   {
    "duration": 9,
    "start_time": "2023-02-26T00:40:25.411Z"
   },
   {
    "duration": 1297,
    "start_time": "2023-02-26T00:40:39.251Z"
   },
   {
    "duration": 3,
    "start_time": "2023-02-26T00:40:40.550Z"
   },
   {
    "duration": 676,
    "start_time": "2023-02-26T00:40:41.164Z"
   },
   {
    "duration": 225,
    "start_time": "2023-02-26T00:40:42.055Z"
   },
   {
    "duration": 135,
    "start_time": "2023-02-26T00:40:42.820Z"
   },
   {
    "duration": 231,
    "start_time": "2023-02-26T00:40:43.348Z"
   },
   {
    "duration": 15,
    "start_time": "2023-02-26T00:40:44.064Z"
   },
   {
    "duration": 12,
    "start_time": "2023-02-26T00:40:45.570Z"
   },
   {
    "duration": 16,
    "start_time": "2023-02-26T00:40:46.234Z"
   },
   {
    "duration": 4,
    "start_time": "2023-02-26T00:40:47.554Z"
   },
   {
    "duration": 16,
    "start_time": "2023-02-26T00:40:47.994Z"
   },
   {
    "duration": 205,
    "start_time": "2023-02-26T00:40:48.442Z"
   },
   {
    "duration": 6,
    "start_time": "2023-02-26T00:40:48.866Z"
   },
   {
    "duration": 521,
    "start_time": "2023-02-26T00:40:49.299Z"
   },
   {
    "duration": 3,
    "start_time": "2023-02-26T00:40:50.354Z"
   },
   {
    "duration": 5,
    "start_time": "2023-02-26T00:40:52.203Z"
   },
   {
    "duration": 12,
    "start_time": "2023-02-26T00:40:55.260Z"
   },
   {
    "duration": 50,
    "start_time": "2023-02-26T00:40:56.821Z"
   },
   {
    "duration": 15,
    "start_time": "2023-02-26T00:40:57.363Z"
   },
   {
    "duration": 19,
    "start_time": "2023-02-26T00:40:57.855Z"
   },
   {
    "duration": 12,
    "start_time": "2023-02-26T00:40:59.307Z"
   },
   {
    "duration": 9,
    "start_time": "2023-02-26T00:43:04.488Z"
   },
   {
    "duration": 1278,
    "start_time": "2023-02-26T00:48:03.770Z"
   },
   {
    "duration": 3,
    "start_time": "2023-02-26T00:48:06.257Z"
   },
   {
    "duration": 679,
    "start_time": "2023-02-26T00:48:07.225Z"
   },
   {
    "duration": 224,
    "start_time": "2023-02-26T00:48:08.431Z"
   },
   {
    "duration": 139,
    "start_time": "2023-02-26T00:48:09.018Z"
   },
   {
    "duration": 234,
    "start_time": "2023-02-26T00:48:09.514Z"
   },
   {
    "duration": 15,
    "start_time": "2023-02-26T00:48:10.201Z"
   },
   {
    "duration": 12,
    "start_time": "2023-02-26T00:48:10.809Z"
   },
   {
    "duration": 16,
    "start_time": "2023-02-26T00:48:11.425Z"
   },
   {
    "duration": 3,
    "start_time": "2023-02-26T00:48:12.697Z"
   },
   {
    "duration": 16,
    "start_time": "2023-02-26T00:48:13.136Z"
   },
   {
    "duration": 207,
    "start_time": "2023-02-26T00:48:13.572Z"
   },
   {
    "duration": 5,
    "start_time": "2023-02-26T00:48:13.992Z"
   },
   {
    "duration": 553,
    "start_time": "2023-02-26T00:48:14.425Z"
   },
   {
    "duration": 3,
    "start_time": "2023-02-26T00:48:15.353Z"
   },
   {
    "duration": 6,
    "start_time": "2023-02-26T00:48:15.800Z"
   },
   {
    "duration": 12,
    "start_time": "2023-02-26T00:48:18.809Z"
   },
   {
    "duration": 50,
    "start_time": "2023-02-26T00:48:20.537Z"
   },
   {
    "duration": 15,
    "start_time": "2023-02-26T00:48:21.209Z"
   },
   {
    "duration": 19,
    "start_time": "2023-02-26T00:48:21.969Z"
   },
   {
    "duration": 106,
    "start_time": "2023-02-26T00:48:24.689Z"
   },
   {
    "duration": 11,
    "start_time": "2023-02-26T00:50:52.189Z"
   },
   {
    "duration": 2047,
    "start_time": "2023-02-26T00:53:00.094Z"
   },
   {
    "duration": 1301,
    "start_time": "2023-02-26T00:53:02.143Z"
   },
   {
    "duration": 3,
    "start_time": "2023-02-26T00:53:03.446Z"
   },
   {
    "duration": 676,
    "start_time": "2023-02-26T00:53:03.450Z"
   },
   {
    "duration": 236,
    "start_time": "2023-02-26T00:53:04.127Z"
   },
   {
    "duration": 158,
    "start_time": "2023-02-26T00:53:04.364Z"
   },
   {
    "duration": 262,
    "start_time": "2023-02-26T00:53:04.524Z"
   },
   {
    "duration": 16,
    "start_time": "2023-02-26T00:53:04.788Z"
   },
   {
    "duration": 25,
    "start_time": "2023-02-26T00:53:04.805Z"
   },
   {
    "duration": 16,
    "start_time": "2023-02-26T00:53:04.833Z"
   },
   {
    "duration": 4,
    "start_time": "2023-02-26T00:53:04.851Z"
   },
   {
    "duration": 17,
    "start_time": "2023-02-26T00:53:04.856Z"
   },
   {
    "duration": 264,
    "start_time": "2023-02-26T00:53:04.875Z"
   },
   {
    "duration": 5,
    "start_time": "2023-02-26T00:53:05.141Z"
   },
   {
    "duration": 548,
    "start_time": "2023-02-26T00:53:05.148Z"
   },
   {
    "duration": 4,
    "start_time": "2023-02-26T00:53:05.698Z"
   },
   {
    "duration": 20,
    "start_time": "2023-02-26T00:53:05.704Z"
   },
   {
    "duration": 13,
    "start_time": "2023-02-26T00:53:05.726Z"
   },
   {
    "duration": 50,
    "start_time": "2023-02-26T00:53:05.740Z"
   },
   {
    "duration": 36,
    "start_time": "2023-02-26T00:53:05.793Z"
   },
   {
    "duration": 17,
    "start_time": "2023-02-26T00:53:05.831Z"
   },
   {
    "duration": 124,
    "start_time": "2023-02-26T00:53:05.849Z"
   },
   {
    "duration": 0,
    "start_time": "2023-02-26T00:53:05.974Z"
   },
   {
    "duration": 12,
    "start_time": "2023-02-26T00:54:07.042Z"
   },
   {
    "duration": 7,
    "start_time": "2023-02-26T00:54:15.234Z"
   },
   {
    "duration": 1357,
    "start_time": "2023-02-26T00:55:38.432Z"
   },
   {
    "duration": 2,
    "start_time": "2023-02-26T00:55:39.791Z"
   },
   {
    "duration": 685,
    "start_time": "2023-02-26T00:55:40.386Z"
   },
   {
    "duration": 235,
    "start_time": "2023-02-26T00:55:41.073Z"
   },
   {
    "duration": 129,
    "start_time": "2023-02-26T00:55:41.456Z"
   },
   {
    "duration": 239,
    "start_time": "2023-02-26T00:55:41.930Z"
   },
   {
    "duration": 16,
    "start_time": "2023-02-26T00:55:42.623Z"
   },
   {
    "duration": 12,
    "start_time": "2023-02-26T00:55:43.320Z"
   },
   {
    "duration": 16,
    "start_time": "2023-02-26T00:55:44.047Z"
   },
   {
    "duration": 3,
    "start_time": "2023-02-26T00:55:46.065Z"
   },
   {
    "duration": 17,
    "start_time": "2023-02-26T00:55:46.703Z"
   },
   {
    "duration": 206,
    "start_time": "2023-02-26T00:55:47.376Z"
   },
   {
    "duration": 5,
    "start_time": "2023-02-26T00:55:48.295Z"
   },
   {
    "duration": 525,
    "start_time": "2023-02-26T00:55:49.696Z"
   },
   {
    "duration": 3,
    "start_time": "2023-02-26T00:55:52.464Z"
   },
   {
    "duration": 6,
    "start_time": "2023-02-26T00:55:53.842Z"
   },
   {
    "duration": 13,
    "start_time": "2023-02-26T00:55:58.039Z"
   },
   {
    "duration": 50,
    "start_time": "2023-02-26T00:56:00.456Z"
   },
   {
    "duration": 16,
    "start_time": "2023-02-26T00:56:00.983Z"
   },
   {
    "duration": 19,
    "start_time": "2023-02-26T00:56:01.760Z"
   },
   {
    "duration": 16,
    "start_time": "2023-02-26T00:56:04.191Z"
   },
   {
    "duration": 2051,
    "start_time": "2023-02-26T00:59:33.926Z"
   },
   {
    "duration": 1270,
    "start_time": "2023-02-26T00:59:35.979Z"
   },
   {
    "duration": 3,
    "start_time": "2023-02-26T00:59:37.251Z"
   },
   {
    "duration": 692,
    "start_time": "2023-02-26T00:59:37.256Z"
   },
   {
    "duration": 240,
    "start_time": "2023-02-26T00:59:37.950Z"
   },
   {
    "duration": 148,
    "start_time": "2023-02-26T00:59:38.192Z"
   },
   {
    "duration": 253,
    "start_time": "2023-02-26T00:59:38.342Z"
   },
   {
    "duration": 28,
    "start_time": "2023-02-26T00:59:38.597Z"
   },
   {
    "duration": 11,
    "start_time": "2023-02-26T00:59:38.627Z"
   },
   {
    "duration": 17,
    "start_time": "2023-02-26T00:59:38.641Z"
   },
   {
    "duration": 3,
    "start_time": "2023-02-26T00:59:38.659Z"
   },
   {
    "duration": 20,
    "start_time": "2023-02-26T00:59:38.664Z"
   },
   {
    "duration": 236,
    "start_time": "2023-02-26T00:59:38.685Z"
   },
   {
    "duration": 4,
    "start_time": "2023-02-26T00:59:38.923Z"
   },
   {
    "duration": 550,
    "start_time": "2023-02-26T00:59:38.929Z"
   },
   {
    "duration": 3,
    "start_time": "2023-02-26T00:59:39.481Z"
   },
   {
    "duration": 9,
    "start_time": "2023-02-26T00:59:39.485Z"
   },
   {
    "duration": 28,
    "start_time": "2023-02-26T00:59:39.495Z"
   },
   {
    "duration": 52,
    "start_time": "2023-02-26T00:59:39.525Z"
   },
   {
    "duration": 13,
    "start_time": "2023-02-26T00:59:39.578Z"
   },
   {
    "duration": 35,
    "start_time": "2023-02-26T00:59:39.592Z"
   },
   {
    "duration": 15,
    "start_time": "2023-02-26T00:59:39.629Z"
   },
   {
    "duration": 117,
    "start_time": "2023-02-26T00:59:39.646Z"
   },
   {
    "duration": 13,
    "start_time": "2023-02-26T01:03:20.261Z"
   },
   {
    "duration": 1342,
    "start_time": "2023-02-26T01:04:34.508Z"
   },
   {
    "duration": 3,
    "start_time": "2023-02-26T01:04:37.133Z"
   },
   {
    "duration": 694,
    "start_time": "2023-02-26T01:04:37.892Z"
   },
   {
    "duration": 245,
    "start_time": "2023-02-26T01:04:38.588Z"
   },
   {
    "duration": 134,
    "start_time": "2023-02-26T01:04:39.236Z"
   },
   {
    "duration": 237,
    "start_time": "2023-02-26T01:04:40.036Z"
   },
   {
    "duration": 15,
    "start_time": "2023-02-26T01:04:41.083Z"
   },
   {
    "duration": 13,
    "start_time": "2023-02-26T01:04:42.146Z"
   },
   {
    "duration": 16,
    "start_time": "2023-02-26T01:04:43.179Z"
   },
   {
    "duration": 3,
    "start_time": "2023-02-26T01:04:45.395Z"
   },
   {
    "duration": 15,
    "start_time": "2023-02-26T01:04:46.099Z"
   },
   {
    "duration": 211,
    "start_time": "2023-02-26T01:04:46.759Z"
   },
   {
    "duration": 5,
    "start_time": "2023-02-26T01:04:47.443Z"
   },
   {
    "duration": 539,
    "start_time": "2023-02-26T01:04:48.163Z"
   },
   {
    "duration": 3,
    "start_time": "2023-02-26T01:04:50.227Z"
   },
   {
    "duration": 6,
    "start_time": "2023-02-26T01:04:51.857Z"
   },
   {
    "duration": 12,
    "start_time": "2023-02-26T01:04:55.931Z"
   },
   {
    "duration": 8,
    "start_time": "2023-02-26T01:04:58.332Z"
   },
   {
    "duration": 10,
    "start_time": "2023-02-26T01:07:28.073Z"
   },
   {
    "duration": 107,
    "start_time": "2023-02-26T01:20:43.015Z"
   },
   {
    "duration": 1323,
    "start_time": "2023-02-26T01:21:55.807Z"
   },
   {
    "duration": 3,
    "start_time": "2023-02-26T01:21:59.247Z"
   },
   {
    "duration": 678,
    "start_time": "2023-02-26T01:22:00.040Z"
   },
   {
    "duration": 232,
    "start_time": "2023-02-26T01:22:00.982Z"
   },
   {
    "duration": 137,
    "start_time": "2023-02-26T01:22:01.582Z"
   },
   {
    "duration": 245,
    "start_time": "2023-02-26T01:22:02.211Z"
   },
   {
    "duration": 15,
    "start_time": "2023-02-26T01:22:03.221Z"
   },
   {
    "duration": 12,
    "start_time": "2023-02-26T01:22:04.255Z"
   },
   {
    "duration": 16,
    "start_time": "2023-02-26T01:22:05.312Z"
   },
   {
    "duration": 4,
    "start_time": "2023-02-26T01:22:07.438Z"
   },
   {
    "duration": 16,
    "start_time": "2023-02-26T01:22:08.124Z"
   },
   {
    "duration": 213,
    "start_time": "2023-02-26T01:22:08.859Z"
   },
   {
    "duration": 5,
    "start_time": "2023-02-26T01:22:10.229Z"
   },
   {
    "duration": 540,
    "start_time": "2023-02-26T01:22:11.214Z"
   },
   {
    "duration": 3,
    "start_time": "2023-02-26T01:22:13.062Z"
   },
   {
    "duration": 7,
    "start_time": "2023-02-26T01:22:14.420Z"
   },
   {
    "duration": 12,
    "start_time": "2023-02-26T01:22:17.574Z"
   },
   {
    "duration": 7,
    "start_time": "2023-02-26T01:22:20.318Z"
   },
   {
    "duration": 10,
    "start_time": "2023-02-26T01:22:30.511Z"
   },
   {
    "duration": 48,
    "start_time": "2023-02-26T01:22:41.478Z"
   },
   {
    "duration": 20,
    "start_time": "2023-02-26T01:25:05.050Z"
   },
   {
    "duration": 23,
    "start_time": "2023-02-26T01:25:24.402Z"
   },
   {
    "duration": 77,
    "start_time": "2023-02-26T01:26:50.799Z"
   },
   {
    "duration": 14,
    "start_time": "2023-02-26T01:28:56.725Z"
   },
   {
    "duration": 12,
    "start_time": "2023-02-26T01:30:21.924Z"
   },
   {
    "duration": 12,
    "start_time": "2023-02-26T01:30:39.397Z"
   },
   {
    "duration": 10,
    "start_time": "2023-02-26T01:32:00.995Z"
   },
   {
    "duration": 18,
    "start_time": "2023-02-26T01:32:33.512Z"
   },
   {
    "duration": 20,
    "start_time": "2023-02-26T01:33:16.128Z"
   },
   {
    "duration": 18,
    "start_time": "2023-02-26T01:33:52.222Z"
   },
   {
    "duration": 94,
    "start_time": "2023-02-26T01:34:09.686Z"
   },
   {
    "duration": 1324,
    "start_time": "2023-02-26T01:34:24.229Z"
   },
   {
    "duration": 3,
    "start_time": "2023-02-26T01:34:26.324Z"
   },
   {
    "duration": 676,
    "start_time": "2023-02-26T01:34:27.253Z"
   },
   {
    "duration": 227,
    "start_time": "2023-02-26T01:34:28.326Z"
   },
   {
    "duration": 131,
    "start_time": "2023-02-26T01:34:28.941Z"
   },
   {
    "duration": 245,
    "start_time": "2023-02-26T01:34:29.557Z"
   },
   {
    "duration": 16,
    "start_time": "2023-02-26T01:34:30.413Z"
   },
   {
    "duration": 12,
    "start_time": "2023-02-26T01:34:31.341Z"
   },
   {
    "duration": 16,
    "start_time": "2023-02-26T01:34:32.211Z"
   },
   {
    "duration": 3,
    "start_time": "2023-02-26T01:34:33.855Z"
   },
   {
    "duration": 17,
    "start_time": "2023-02-26T01:34:34.428Z"
   },
   {
    "duration": 222,
    "start_time": "2023-02-26T01:34:34.983Z"
   },
   {
    "duration": 6,
    "start_time": "2023-02-26T01:34:35.493Z"
   },
   {
    "duration": 532,
    "start_time": "2023-02-26T01:34:36.094Z"
   },
   {
    "duration": 3,
    "start_time": "2023-02-26T01:34:37.294Z"
   },
   {
    "duration": 6,
    "start_time": "2023-02-26T01:34:37.836Z"
   },
   {
    "duration": 12,
    "start_time": "2023-02-26T01:34:39.508Z"
   },
   {
    "duration": 7,
    "start_time": "2023-02-26T01:34:40.324Z"
   },
   {
    "duration": 11,
    "start_time": "2023-02-26T01:34:41.197Z"
   },
   {
    "duration": 96,
    "start_time": "2023-02-26T01:34:52.309Z"
   },
   {
    "duration": 9,
    "start_time": "2023-02-26T01:35:12.990Z"
   },
   {
    "duration": 18,
    "start_time": "2023-02-26T01:35:19.141Z"
   },
   {
    "duration": 26,
    "start_time": "2023-02-26T01:35:30.477Z"
   },
   {
    "duration": 1321,
    "start_time": "2023-02-26T01:40:30.823Z"
   },
   {
    "duration": 3,
    "start_time": "2023-02-26T01:40:32.146Z"
   },
   {
    "duration": 687,
    "start_time": "2023-02-26T01:40:32.197Z"
   },
   {
    "duration": 234,
    "start_time": "2023-02-26T01:40:32.902Z"
   },
   {
    "duration": 132,
    "start_time": "2023-02-26T01:40:33.380Z"
   },
   {
    "duration": 239,
    "start_time": "2023-02-26T01:40:34.007Z"
   },
   {
    "duration": 15,
    "start_time": "2023-02-26T01:40:34.790Z"
   },
   {
    "duration": 11,
    "start_time": "2023-02-26T01:40:35.432Z"
   },
   {
    "duration": 16,
    "start_time": "2023-02-26T01:40:36.077Z"
   },
   {
    "duration": 3,
    "start_time": "2023-02-26T01:40:37.437Z"
   },
   {
    "duration": 16,
    "start_time": "2023-02-26T01:40:37.861Z"
   },
   {
    "duration": 209,
    "start_time": "2023-02-26T01:40:38.317Z"
   },
   {
    "duration": 5,
    "start_time": "2023-02-26T01:40:38.806Z"
   },
   {
    "duration": 530,
    "start_time": "2023-02-26T01:40:39.445Z"
   },
   {
    "duration": 3,
    "start_time": "2023-02-26T01:40:40.397Z"
   },
   {
    "duration": 5,
    "start_time": "2023-02-26T01:40:40.878Z"
   },
   {
    "duration": 12,
    "start_time": "2023-02-26T01:40:42.653Z"
   },
   {
    "duration": 6,
    "start_time": "2023-02-26T01:40:43.365Z"
   },
   {
    "duration": 10,
    "start_time": "2023-02-26T01:40:44.077Z"
   },
   {
    "duration": 50,
    "start_time": "2023-02-26T01:40:45.837Z"
   },
   {
    "duration": 11,
    "start_time": "2023-02-26T01:40:49.997Z"
   },
   {
    "duration": 8,
    "start_time": "2023-02-26T01:59:33.621Z"
   },
   {
    "duration": 14,
    "start_time": "2023-02-26T02:01:52.162Z"
   },
   {
    "duration": 1326,
    "start_time": "2023-02-26T02:17:57.096Z"
   },
   {
    "duration": 2,
    "start_time": "2023-02-26T02:17:59.366Z"
   },
   {
    "duration": 675,
    "start_time": "2023-02-26T02:18:00.213Z"
   },
   {
    "duration": 216,
    "start_time": "2023-02-26T02:18:04.086Z"
   },
   {
    "duration": 129,
    "start_time": "2023-02-26T02:18:05.623Z"
   },
   {
    "duration": 228,
    "start_time": "2023-02-26T02:18:06.590Z"
   },
   {
    "duration": 20,
    "start_time": "2023-02-26T02:18:07.380Z"
   },
   {
    "duration": 11,
    "start_time": "2023-02-26T02:18:07.989Z"
   },
   {
    "duration": 16,
    "start_time": "2023-02-26T02:18:08.580Z"
   },
   {
    "duration": 3,
    "start_time": "2023-02-26T02:18:10.452Z"
   },
   {
    "duration": 15,
    "start_time": "2023-02-26T02:18:11.143Z"
   },
   {
    "duration": 201,
    "start_time": "2023-02-26T02:18:11.796Z"
   },
   {
    "duration": 5,
    "start_time": "2023-02-26T02:18:12.751Z"
   },
   {
    "duration": 538,
    "start_time": "2023-02-26T02:18:14.045Z"
   },
   {
    "duration": 4,
    "start_time": "2023-02-26T02:18:16.508Z"
   },
   {
    "duration": 5,
    "start_time": "2023-02-26T02:18:17.565Z"
   },
   {
    "duration": 12,
    "start_time": "2023-02-26T02:18:21.373Z"
   },
   {
    "duration": 8,
    "start_time": "2023-02-26T02:18:24.468Z"
   },
   {
    "duration": 11,
    "start_time": "2023-02-26T02:18:38.308Z"
   },
   {
    "duration": 46,
    "start_time": "2023-02-26T02:18:48.829Z"
   },
   {
    "duration": 8,
    "start_time": "2023-02-26T02:18:58.844Z"
   },
   {
    "duration": 16,
    "start_time": "2023-02-26T02:19:14.468Z"
   },
   {
    "duration": 17,
    "start_time": "2023-02-26T02:21:22.866Z"
   },
   {
    "duration": 20,
    "start_time": "2023-02-26T02:22:21.624Z"
   },
   {
    "duration": 70,
    "start_time": "2023-02-26T02:23:04.953Z"
   },
   {
    "duration": 113,
    "start_time": "2023-02-26T02:23:48.253Z"
   },
   {
    "duration": 11,
    "start_time": "2023-02-26T02:23:54.582Z"
   },
   {
    "duration": 9,
    "start_time": "2023-02-26T02:24:41.573Z"
   },
   {
    "duration": 7,
    "start_time": "2023-02-26T02:25:14.005Z"
   },
   {
    "duration": 25,
    "start_time": "2023-02-26T02:25:24.972Z"
   },
   {
    "duration": 277,
    "start_time": "2023-02-26T02:34:11.473Z"
   },
   {
    "duration": 11,
    "start_time": "2023-02-26T02:35:48.926Z"
   },
   {
    "duration": 10,
    "start_time": "2023-02-26T02:49:44.934Z"
   },
   {
    "duration": 10,
    "start_time": "2023-02-26T02:49:58.398Z"
   },
   {
    "duration": 11,
    "start_time": "2023-02-26T02:52:03.772Z"
   },
   {
    "duration": 20,
    "start_time": "2023-02-26T02:52:33.905Z"
   },
   {
    "duration": 45,
    "start_time": "2023-02-26T02:53:10.994Z"
   },
   {
    "duration": 5,
    "start_time": "2023-02-26T02:57:51.634Z"
   },
   {
    "duration": 6,
    "start_time": "2023-02-26T02:58:15.995Z"
   },
   {
    "duration": 2,
    "start_time": "2023-02-26T03:05:22.899Z"
   },
   {
    "duration": 1433,
    "start_time": "2023-02-26T10:46:44.907Z"
   },
   {
    "duration": 3,
    "start_time": "2023-02-26T10:46:46.382Z"
   },
   {
    "duration": 677,
    "start_time": "2023-02-26T10:46:47.382Z"
   },
   {
    "duration": 264,
    "start_time": "2023-02-26T10:46:48.541Z"
   },
   {
    "duration": 147,
    "start_time": "2023-02-26T10:46:49.299Z"
   },
   {
    "duration": 266,
    "start_time": "2023-02-26T10:46:50.260Z"
   },
   {
    "duration": 18,
    "start_time": "2023-02-26T10:46:51.562Z"
   },
   {
    "duration": 17,
    "start_time": "2023-02-26T10:46:52.882Z"
   },
   {
    "duration": 18,
    "start_time": "2023-02-26T10:46:53.921Z"
   },
   {
    "duration": 4,
    "start_time": "2023-02-26T10:46:59.415Z"
   },
   {
    "duration": 15,
    "start_time": "2023-02-26T10:47:01.828Z"
   },
   {
    "duration": 223,
    "start_time": "2023-02-26T10:47:03.387Z"
   },
   {
    "duration": 6,
    "start_time": "2023-02-26T10:47:05.330Z"
   },
   {
    "duration": 583,
    "start_time": "2023-02-26T10:50:56.893Z"
   },
   {
    "duration": 4,
    "start_time": "2023-02-26T10:50:59.788Z"
   },
   {
    "duration": 6,
    "start_time": "2023-02-26T10:51:04.172Z"
   },
   {
    "duration": 14,
    "start_time": "2023-02-26T10:51:11.124Z"
   },
   {
    "duration": 8,
    "start_time": "2023-02-26T10:51:16.196Z"
   },
   {
    "duration": 10,
    "start_time": "2023-02-26T10:51:18.052Z"
   },
   {
    "duration": 63,
    "start_time": "2023-02-26T10:51:22.996Z"
   },
   {
    "duration": 12,
    "start_time": "2023-02-26T10:51:27.517Z"
   },
   {
    "duration": 17,
    "start_time": "2023-02-26T10:51:29.212Z"
   },
   {
    "duration": 8,
    "start_time": "2023-02-26T10:51:36.292Z"
   },
   {
    "duration": 22,
    "start_time": "2023-02-26T10:51:37.511Z"
   },
   {
    "duration": 280,
    "start_time": "2023-02-26T10:51:39.930Z"
   },
   {
    "duration": 43,
    "start_time": "2023-02-26T10:51:52.869Z"
   },
   {
    "duration": 4,
    "start_time": "2023-02-26T10:51:58.172Z"
   },
   {
    "duration": 816,
    "start_time": "2023-02-26T11:19:44.385Z"
   },
   {
    "duration": 656,
    "start_time": "2023-02-26T11:23:41.101Z"
   },
   {
    "duration": 610,
    "start_time": "2023-02-26T11:25:50.329Z"
   },
   {
    "duration": 664,
    "start_time": "2023-02-26T11:27:07.127Z"
   },
   {
    "duration": 4,
    "start_time": "2023-02-26T11:47:11.250Z"
   },
   {
    "duration": 5,
    "start_time": "2023-02-26T11:47:11.807Z"
   },
   {
    "duration": 4,
    "start_time": "2023-02-26T11:47:12.526Z"
   },
   {
    "duration": 4,
    "start_time": "2023-02-26T11:47:14.245Z"
   },
   {
    "duration": 254,
    "start_time": "2023-02-26T11:48:57.373Z"
   },
   {
    "duration": 482,
    "start_time": "2023-02-26T11:49:37.404Z"
   },
   {
    "duration": 154,
    "start_time": "2023-02-26T12:15:36.553Z"
   },
   {
    "duration": 150,
    "start_time": "2023-02-26T12:16:23.937Z"
   },
   {
    "duration": 2367,
    "start_time": "2023-02-26T12:16:33.898Z"
   },
   {
    "duration": 1545,
    "start_time": "2023-02-26T12:17:14.796Z"
   },
   {
    "duration": 3,
    "start_time": "2023-02-26T12:17:16.343Z"
   },
   {
    "duration": 722,
    "start_time": "2023-02-26T12:17:16.348Z"
   },
   {
    "duration": 268,
    "start_time": "2023-02-26T12:17:17.073Z"
   },
   {
    "duration": 174,
    "start_time": "2023-02-26T12:17:17.343Z"
   },
   {
    "duration": 304,
    "start_time": "2023-02-26T12:17:17.518Z"
   },
   {
    "duration": 18,
    "start_time": "2023-02-26T12:17:17.824Z"
   },
   {
    "duration": 12,
    "start_time": "2023-02-26T12:17:17.844Z"
   },
   {
    "duration": 18,
    "start_time": "2023-02-26T12:17:18.197Z"
   },
   {
    "duration": 3,
    "start_time": "2023-02-26T12:17:19.342Z"
   },
   {
    "duration": 18,
    "start_time": "2023-02-26T12:17:19.702Z"
   },
   {
    "duration": 235,
    "start_time": "2023-02-26T12:17:20.062Z"
   },
   {
    "duration": 6,
    "start_time": "2023-02-26T12:17:20.462Z"
   },
   {
    "duration": 654,
    "start_time": "2023-02-26T12:17:20.871Z"
   },
   {
    "duration": 4,
    "start_time": "2023-02-26T12:17:21.973Z"
   },
   {
    "duration": 6,
    "start_time": "2023-02-26T12:17:22.397Z"
   },
   {
    "duration": 14,
    "start_time": "2023-02-26T12:17:23.639Z"
   },
   {
    "duration": 723,
    "start_time": "2023-02-26T12:17:39.501Z"
   },
   {
    "duration": 4,
    "start_time": "2023-02-26T12:17:40.225Z"
   },
   {
    "duration": 6,
    "start_time": "2023-02-26T12:17:40.561Z"
   },
   {
    "duration": 21,
    "start_time": "2023-02-26T12:17:41.766Z"
   },
   {
    "duration": 8,
    "start_time": "2023-02-26T12:17:42.397Z"
   },
   {
    "duration": 11,
    "start_time": "2023-02-26T12:17:43.009Z"
   },
   {
    "duration": 53,
    "start_time": "2023-02-26T12:17:43.831Z"
   },
   {
    "duration": 11,
    "start_time": "2023-02-26T12:17:44.263Z"
   },
   {
    "duration": 22,
    "start_time": "2023-02-26T12:17:44.686Z"
   },
   {
    "duration": 10,
    "start_time": "2023-02-26T12:17:45.093Z"
   },
   {
    "duration": 21,
    "start_time": "2023-02-26T12:17:45.510Z"
   },
   {
    "duration": 202,
    "start_time": "2023-02-26T12:17:46.253Z"
   },
   {
    "duration": 47,
    "start_time": "2023-02-26T12:17:46.813Z"
   },
   {
    "duration": 4,
    "start_time": "2023-02-26T12:17:47.814Z"
   },
   {
    "duration": 2266,
    "start_time": "2023-02-26T12:17:48.958Z"
   },
   {
    "duration": 1593,
    "start_time": "2023-02-26T12:18:45.267Z"
   },
   {
    "duration": 4,
    "start_time": "2023-02-26T12:18:46.863Z"
   },
   {
    "duration": 710,
    "start_time": "2023-02-26T12:18:46.868Z"
   },
   {
    "duration": 293,
    "start_time": "2023-02-26T12:18:47.580Z"
   },
   {
    "duration": 180,
    "start_time": "2023-02-26T12:18:47.875Z"
   },
   {
    "duration": 309,
    "start_time": "2023-02-26T12:18:48.058Z"
   },
   {
    "duration": 20,
    "start_time": "2023-02-26T12:18:48.369Z"
   },
   {
    "duration": 13,
    "start_time": "2023-02-26T12:18:48.988Z"
   },
   {
    "duration": 18,
    "start_time": "2023-02-26T12:18:49.789Z"
   },
   {
    "duration": 4,
    "start_time": "2023-02-26T12:18:51.884Z"
   },
   {
    "duration": 18,
    "start_time": "2023-02-26T12:18:52.875Z"
   },
   {
    "duration": 232,
    "start_time": "2023-02-26T12:18:53.512Z"
   },
   {
    "duration": 5,
    "start_time": "2023-02-26T12:18:54.252Z"
   },
   {
    "duration": 576,
    "start_time": "2023-02-26T12:18:55.398Z"
   },
   {
    "duration": 4,
    "start_time": "2023-02-26T12:18:58.540Z"
   },
   {
    "duration": 6,
    "start_time": "2023-02-26T12:18:59.117Z"
   },
   {
    "duration": 14,
    "start_time": "2023-02-26T12:19:00.588Z"
   },
   {
    "duration": 8,
    "start_time": "2023-02-26T12:19:01.373Z"
   },
   {
    "duration": 11,
    "start_time": "2023-02-26T12:19:02.389Z"
   },
   {
    "duration": 54,
    "start_time": "2023-02-26T12:19:03.516Z"
   },
   {
    "duration": 11,
    "start_time": "2023-02-26T12:19:04.156Z"
   },
   {
    "duration": 22,
    "start_time": "2023-02-26T12:19:04.589Z"
   },
   {
    "duration": 8,
    "start_time": "2023-02-26T12:19:05.028Z"
   },
   {
    "duration": 21,
    "start_time": "2023-02-26T12:19:05.489Z"
   },
   {
    "duration": 283,
    "start_time": "2023-02-26T12:19:06.444Z"
   },
   {
    "duration": 54,
    "start_time": "2023-02-26T12:19:07.083Z"
   },
   {
    "duration": 4,
    "start_time": "2023-02-26T12:19:08.035Z"
   },
   {
    "duration": 2285,
    "start_time": "2023-02-26T12:19:08.876Z"
   },
   {
    "duration": 2240,
    "start_time": "2023-02-26T12:20:34.459Z"
   },
   {
    "duration": 2244,
    "start_time": "2023-02-26T12:20:51.067Z"
   },
   {
    "duration": 2195,
    "start_time": "2023-02-26T12:22:49.760Z"
   },
   {
    "duration": 2537,
    "start_time": "2023-02-26T12:36:54.166Z"
   },
   {
    "duration": 2467,
    "start_time": "2023-02-26T12:37:20.198Z"
   },
   {
    "duration": 109,
    "start_time": "2023-02-26T12:38:27.404Z"
   },
   {
    "duration": 2426,
    "start_time": "2023-02-26T12:38:37.454Z"
   },
   {
    "duration": 2421,
    "start_time": "2023-02-26T12:46:35.717Z"
   },
   {
    "duration": 2382,
    "start_time": "2023-02-26T12:46:50.105Z"
   },
   {
    "duration": 2982,
    "start_time": "2023-02-26T12:49:06.360Z"
   },
   {
    "duration": 2942,
    "start_time": "2023-02-26T12:49:47.350Z"
   },
   {
    "duration": 11,
    "start_time": "2023-02-26T12:50:22.524Z"
   },
   {
    "duration": 3086,
    "start_time": "2023-02-26T12:50:31.532Z"
   },
   {
    "duration": 3037,
    "start_time": "2023-02-26T12:51:51.554Z"
   },
   {
    "duration": 3125,
    "start_time": "2023-02-26T12:52:18.492Z"
   },
   {
    "duration": 2948,
    "start_time": "2023-02-26T12:53:04.657Z"
   },
   {
    "duration": 2887,
    "start_time": "2023-02-26T12:59:14.296Z"
   },
   {
    "duration": 2842,
    "start_time": "2023-02-26T13:00:06.297Z"
   },
   {
    "duration": 3022,
    "start_time": "2023-02-26T13:00:49.896Z"
   },
   {
    "duration": 561,
    "start_time": "2023-02-26T13:01:37.361Z"
   },
   {
    "duration": 724,
    "start_time": "2023-02-26T13:01:57.665Z"
   },
   {
    "duration": 611,
    "start_time": "2023-02-26T13:02:15.933Z"
   },
   {
    "duration": 709,
    "start_time": "2023-02-26T13:02:44.916Z"
   },
   {
    "duration": 2672,
    "start_time": "2023-02-26T13:03:01.028Z"
   },
   {
    "duration": 2686,
    "start_time": "2023-02-26T13:03:48.532Z"
   },
   {
    "duration": 169,
    "start_time": "2023-02-26T13:27:04.918Z"
   },
   {
    "duration": 150,
    "start_time": "2023-02-26T13:27:31.708Z"
   },
   {
    "duration": 2584,
    "start_time": "2023-02-26T14:54:28.181Z"
   },
   {
    "duration": 1383,
    "start_time": "2023-02-26T14:54:42.603Z"
   },
   {
    "duration": 3,
    "start_time": "2023-02-26T14:54:43.989Z"
   },
   {
    "duration": 690,
    "start_time": "2023-02-26T14:54:45.044Z"
   },
   {
    "duration": 233,
    "start_time": "2023-02-26T14:54:46.461Z"
   },
   {
    "duration": 139,
    "start_time": "2023-02-26T14:54:47.252Z"
   },
   {
    "duration": 244,
    "start_time": "2023-02-26T14:54:47.989Z"
   },
   {
    "duration": 16,
    "start_time": "2023-02-26T14:54:49.131Z"
   },
   {
    "duration": 13,
    "start_time": "2023-02-26T14:54:50.027Z"
   },
   {
    "duration": 17,
    "start_time": "2023-02-26T14:54:50.803Z"
   },
   {
    "duration": 3,
    "start_time": "2023-02-26T14:54:52.012Z"
   },
   {
    "duration": 15,
    "start_time": "2023-02-26T14:54:52.452Z"
   },
   {
    "duration": 227,
    "start_time": "2023-02-26T14:54:52.909Z"
   },
   {
    "duration": 5,
    "start_time": "2023-02-26T14:54:53.381Z"
   },
   {
    "duration": 590,
    "start_time": "2023-02-26T14:54:53.851Z"
   },
   {
    "duration": 4,
    "start_time": "2023-02-26T14:54:56.515Z"
   },
   {
    "duration": 6,
    "start_time": "2023-02-26T14:54:57.466Z"
   },
   {
    "duration": 12,
    "start_time": "2023-02-26T14:55:00.011Z"
   },
   {
    "duration": 9,
    "start_time": "2023-02-26T14:55:00.811Z"
   },
   {
    "duration": 10,
    "start_time": "2023-02-26T14:55:01.619Z"
   },
   {
    "duration": 50,
    "start_time": "2023-02-26T14:55:02.709Z"
   },
   {
    "duration": 12,
    "start_time": "2023-02-26T14:55:03.267Z"
   },
   {
    "duration": 16,
    "start_time": "2023-02-26T14:55:03.811Z"
   },
   {
    "duration": 8,
    "start_time": "2023-02-26T14:55:04.331Z"
   },
   {
    "duration": 19,
    "start_time": "2023-02-26T14:55:04.867Z"
   },
   {
    "duration": 264,
    "start_time": "2023-02-26T14:55:05.603Z"
   },
   {
    "duration": 41,
    "start_time": "2023-02-26T14:55:06.147Z"
   },
   {
    "duration": 4,
    "start_time": "2023-02-26T14:55:06.971Z"
   },
   {
    "duration": 2625,
    "start_time": "2023-02-26T14:55:08.275Z"
   },
   {
    "duration": 2833,
    "start_time": "2023-02-26T14:56:34.337Z"
   },
   {
    "duration": 2657,
    "start_time": "2023-02-26T14:58:37.847Z"
   },
   {
    "duration": 3045,
    "start_time": "2023-02-26T14:59:22.846Z"
   },
   {
    "duration": 364,
    "start_time": "2023-02-26T15:01:05.757Z"
   },
   {
    "duration": 334,
    "start_time": "2023-02-26T15:06:29.710Z"
   },
   {
    "duration": 2788,
    "start_time": "2023-02-26T15:06:42.537Z"
   },
   {
    "duration": 3270,
    "start_time": "2023-02-26T15:10:07.864Z"
   },
   {
    "duration": 3020,
    "start_time": "2023-02-26T15:10:18.992Z"
   },
   {
    "duration": 3198,
    "start_time": "2023-02-26T15:13:22.078Z"
   },
   {
    "duration": 1195,
    "start_time": "2023-02-26T15:33:04.268Z"
   },
   {
    "duration": 947,
    "start_time": "2023-02-26T15:33:19.486Z"
   },
   {
    "duration": 1083,
    "start_time": "2023-02-26T15:33:56.884Z"
   },
   {
    "duration": 2483,
    "start_time": "2023-02-26T15:34:15.400Z"
   },
   {
    "duration": 2483,
    "start_time": "2023-02-26T15:34:38.698Z"
   },
   {
    "duration": 3862,
    "start_time": "2023-02-26T15:34:52.538Z"
   },
   {
    "duration": 3145,
    "start_time": "2023-02-26T15:35:02.097Z"
   },
   {
    "duration": 2858,
    "start_time": "2023-02-26T15:35:07.648Z"
   },
   {
    "duration": 2761,
    "start_time": "2023-02-26T15:35:14.168Z"
   },
   {
    "duration": 164,
    "start_time": "2023-02-26T15:38:36.831Z"
   },
   {
    "duration": 164,
    "start_time": "2023-02-26T15:38:49.951Z"
   },
   {
    "duration": 2983,
    "start_time": "2023-02-26T15:38:57.924Z"
   },
   {
    "duration": 2382,
    "start_time": "2023-02-26T15:39:11.550Z"
   },
   {
    "duration": 18,
    "start_time": "2023-02-26T16:23:07.673Z"
   },
   {
    "duration": 9,
    "start_time": "2023-02-26T16:23:31.538Z"
   },
   {
    "duration": 161,
    "start_time": "2023-02-26T16:28:29.205Z"
   },
   {
    "duration": 149,
    "start_time": "2023-02-26T16:30:02.753Z"
   },
   {
    "duration": 157,
    "start_time": "2023-02-26T16:30:14.764Z"
   },
   {
    "duration": 146,
    "start_time": "2023-02-26T16:30:25.473Z"
   },
   {
    "duration": 457,
    "start_time": "2023-02-26T16:30:34.606Z"
   },
   {
    "duration": 309,
    "start_time": "2023-02-26T16:30:56.472Z"
   },
   {
    "duration": 609,
    "start_time": "2023-02-26T16:33:00.703Z"
   },
   {
    "duration": 669,
    "start_time": "2023-02-26T16:35:13.538Z"
   },
   {
    "duration": 1655,
    "start_time": "2023-02-26T16:37:03.569Z"
   },
   {
    "duration": 681,
    "start_time": "2023-02-26T16:38:11.350Z"
   },
   {
    "duration": 5,
    "start_time": "2023-02-26T16:46:31.381Z"
   },
   {
    "duration": 4,
    "start_time": "2023-02-26T16:47:46.724Z"
   },
   {
    "duration": 6,
    "start_time": "2023-02-26T16:47:55.657Z"
   },
   {
    "duration": 998,
    "start_time": "2023-02-26T16:49:28.657Z"
   },
   {
    "duration": 378,
    "start_time": "2023-02-26T16:50:17.896Z"
   },
   {
    "duration": 374,
    "start_time": "2023-02-26T16:50:56.806Z"
   },
   {
    "duration": 426,
    "start_time": "2023-02-26T16:51:04.955Z"
   },
   {
    "duration": 395,
    "start_time": "2023-02-26T16:51:49.862Z"
   },
   {
    "duration": 419,
    "start_time": "2023-02-26T16:52:06.173Z"
   },
   {
    "duration": 363,
    "start_time": "2023-02-26T16:53:59.138Z"
   },
   {
    "duration": 912,
    "start_time": "2023-02-26T16:54:11.860Z"
   },
   {
    "duration": 477,
    "start_time": "2023-02-26T16:55:30.923Z"
   },
   {
    "duration": 129,
    "start_time": "2023-02-26T16:56:07.264Z"
   },
   {
    "duration": 896,
    "start_time": "2023-02-26T16:56:37.366Z"
   },
   {
    "duration": 1042,
    "start_time": "2023-02-26T16:56:44.119Z"
   },
   {
    "duration": 1116,
    "start_time": "2023-02-26T16:58:42.077Z"
   },
   {
    "duration": 1447,
    "start_time": "2023-02-26T16:58:53.004Z"
   },
   {
    "duration": 1539,
    "start_time": "2023-02-26T17:00:48.746Z"
   },
   {
    "duration": 1432,
    "start_time": "2023-02-26T17:00:54.545Z"
   },
   {
    "duration": 678,
    "start_time": "2023-02-26T17:02:00.015Z"
   },
   {
    "duration": 1146,
    "start_time": "2023-02-26T17:03:29.966Z"
   },
   {
    "duration": 3,
    "start_time": "2023-02-26T17:05:02.260Z"
   },
   {
    "duration": 1456,
    "start_time": "2023-02-26T17:05:06.766Z"
   },
   {
    "duration": 1299,
    "start_time": "2023-02-26T17:05:24.750Z"
   },
   {
    "duration": 1294,
    "start_time": "2023-02-26T17:05:35.859Z"
   },
   {
    "duration": 1187,
    "start_time": "2023-02-26T17:05:57.066Z"
   },
   {
    "duration": 1301,
    "start_time": "2023-02-26T17:07:09.521Z"
   },
   {
    "duration": 10,
    "start_time": "2023-02-26T17:08:32.977Z"
   },
   {
    "duration": 15,
    "start_time": "2023-02-26T17:08:40.854Z"
   },
   {
    "duration": 17,
    "start_time": "2023-02-26T17:10:17.823Z"
   },
   {
    "duration": 1290,
    "start_time": "2023-02-26T17:10:22.301Z"
   },
   {
    "duration": 768,
    "start_time": "2023-02-26T17:10:57.734Z"
   },
   {
    "duration": 38,
    "start_time": "2023-02-26T17:11:21.515Z"
   },
   {
    "duration": 629,
    "start_time": "2023-02-26T17:11:32.125Z"
   },
   {
    "duration": 1338,
    "start_time": "2023-02-26T17:11:58.180Z"
   },
   {
    "duration": 2547,
    "start_time": "2023-02-26T17:12:11.924Z"
   },
   {
    "duration": 620,
    "start_time": "2023-02-26T17:12:46.434Z"
   },
   {
    "duration": 2661,
    "start_time": "2023-02-26T17:13:03.626Z"
   },
   {
    "duration": 1272,
    "start_time": "2023-02-26T17:13:16.418Z"
   },
   {
    "duration": 1489,
    "start_time": "2023-02-26T17:13:58.592Z"
   },
   {
    "duration": 1325,
    "start_time": "2023-02-26T17:14:34.867Z"
   },
   {
    "duration": 3,
    "start_time": "2023-02-26T17:18:06.862Z"
   },
   {
    "duration": 81,
    "start_time": "2023-02-26T17:19:21.514Z"
   },
   {
    "duration": 24,
    "start_time": "2023-02-26T17:32:07.576Z"
   },
   {
    "duration": 162,
    "start_time": "2023-02-26T17:35:00.526Z"
   },
   {
    "duration": 1936,
    "start_time": "2023-02-26T17:38:14.832Z"
   },
   {
    "duration": 1864,
    "start_time": "2023-02-26T17:38:52.860Z"
   },
   {
    "duration": 414,
    "start_time": "2023-02-26T17:42:06.356Z"
   },
   {
    "duration": 219,
    "start_time": "2023-02-26T17:43:22.168Z"
   },
   {
    "duration": 281,
    "start_time": "2023-02-26T17:43:43.122Z"
   },
   {
    "duration": 501,
    "start_time": "2023-02-26T17:43:58.501Z"
   },
   {
    "duration": 2315,
    "start_time": "2023-02-26T17:44:21.626Z"
   },
   {
    "duration": 279,
    "start_time": "2023-02-26T17:45:21.071Z"
   },
   {
    "duration": 278,
    "start_time": "2023-02-26T17:45:58.907Z"
   },
   {
    "duration": 274,
    "start_time": "2023-02-26T17:46:03.280Z"
   },
   {
    "duration": 2338,
    "start_time": "2023-02-26T17:46:23.631Z"
   },
   {
    "duration": 1894,
    "start_time": "2023-02-26T17:46:46.166Z"
   },
   {
    "duration": 1991,
    "start_time": "2023-02-26T17:46:55.666Z"
   },
   {
    "duration": 3,
    "start_time": "2023-02-26T17:53:45.756Z"
   },
   {
    "duration": 80,
    "start_time": "2023-02-26T17:53:46.485Z"
   },
   {
    "duration": 25,
    "start_time": "2023-02-26T17:53:50.196Z"
   },
   {
    "duration": 2004,
    "start_time": "2023-02-26T17:54:29.339Z"
   },
   {
    "duration": 35,
    "start_time": "2023-02-26T17:55:40.874Z"
   },
   {
    "duration": 29,
    "start_time": "2023-02-26T17:57:28.512Z"
   },
   {
    "duration": 3,
    "start_time": "2023-02-26T17:59:12.069Z"
   },
   {
    "duration": 75,
    "start_time": "2023-02-26T17:59:12.672Z"
   },
   {
    "duration": 30,
    "start_time": "2023-02-26T17:59:13.372Z"
   },
   {
    "duration": 583,
    "start_time": "2023-02-26T17:59:18.892Z"
   },
   {
    "duration": 2120,
    "start_time": "2023-02-26T17:59:30.406Z"
   },
   {
    "duration": 9,
    "start_time": "2023-02-26T18:00:03.582Z"
   },
   {
    "duration": 13,
    "start_time": "2023-02-26T18:00:15.899Z"
   },
   {
    "duration": 6,
    "start_time": "2023-02-26T19:04:06.404Z"
   },
   {
    "duration": 6,
    "start_time": "2023-02-26T19:20:11.366Z"
   },
   {
    "duration": 12,
    "start_time": "2023-02-26T19:21:04.085Z"
   },
   {
    "duration": 192,
    "start_time": "2023-02-26T19:22:07.195Z"
   },
   {
    "duration": 4,
    "start_time": "2023-02-26T19:22:43.090Z"
   },
   {
    "duration": 81,
    "start_time": "2023-02-26T19:23:56.809Z"
   },
   {
    "duration": 34,
    "start_time": "2023-02-26T19:24:40.553Z"
   },
   {
    "duration": 14,
    "start_time": "2023-02-26T19:24:54.664Z"
   },
   {
    "duration": 4,
    "start_time": "2023-02-26T19:25:06.855Z"
   },
   {
    "duration": 1952,
    "start_time": "2023-02-26T19:29:06.811Z"
   },
   {
    "duration": 1255,
    "start_time": "2023-02-26T21:47:45.370Z"
   },
   {
    "duration": 3,
    "start_time": "2023-02-26T21:47:46.626Z"
   },
   {
    "duration": 692,
    "start_time": "2023-02-26T21:47:46.728Z"
   },
   {
    "duration": 234,
    "start_time": "2023-02-26T21:47:47.552Z"
   },
   {
    "duration": 139,
    "start_time": "2023-02-26T21:47:48.104Z"
   },
   {
    "duration": 234,
    "start_time": "2023-02-26T21:47:48.640Z"
   },
   {
    "duration": 15,
    "start_time": "2023-02-26T21:47:49.377Z"
   },
   {
    "duration": 12,
    "start_time": "2023-02-26T21:47:50.110Z"
   },
   {
    "duration": 16,
    "start_time": "2023-02-26T21:47:50.854Z"
   },
   {
    "duration": 3,
    "start_time": "2023-02-26T21:47:52.360Z"
   },
   {
    "duration": 17,
    "start_time": "2023-02-26T21:47:54.791Z"
   },
   {
    "duration": 241,
    "start_time": "2023-02-26T21:47:55.342Z"
   },
   {
    "duration": 5,
    "start_time": "2023-02-26T21:47:57.264Z"
   },
   {
    "duration": 641,
    "start_time": "2023-02-26T21:47:57.839Z"
   },
   {
    "duration": 3,
    "start_time": "2023-02-26T21:47:58.967Z"
   },
   {
    "duration": 6,
    "start_time": "2023-02-26T21:47:59.598Z"
   },
   {
    "duration": 13,
    "start_time": "2023-02-26T21:48:01.430Z"
   },
   {
    "duration": 8,
    "start_time": "2023-02-26T21:48:02.318Z"
   },
   {
    "duration": 10,
    "start_time": "2023-02-26T21:48:03.199Z"
   },
   {
    "duration": 50,
    "start_time": "2023-02-26T21:48:04.334Z"
   },
   {
    "duration": 11,
    "start_time": "2023-02-26T21:48:04.893Z"
   },
   {
    "duration": 15,
    "start_time": "2023-02-26T21:48:05.479Z"
   },
   {
    "duration": 7,
    "start_time": "2023-02-26T21:48:06.094Z"
   },
   {
    "duration": 20,
    "start_time": "2023-02-26T21:48:06.671Z"
   },
   {
    "duration": 257,
    "start_time": "2023-02-26T21:48:07.582Z"
   },
   {
    "duration": 40,
    "start_time": "2023-02-26T21:48:08.215Z"
   },
   {
    "duration": 3,
    "start_time": "2023-02-26T21:48:09.118Z"
   },
   {
    "duration": 2098,
    "start_time": "2023-02-26T21:48:10.478Z"
   },
   {
    "duration": 5,
    "start_time": "2023-02-26T21:48:12.577Z"
   },
   {
    "duration": 1220,
    "start_time": "2023-02-26T21:48:13.544Z"
   },
   {
    "duration": 3,
    "start_time": "2023-02-26T21:48:15.864Z"
   },
   {
    "duration": 80,
    "start_time": "2023-02-26T21:48:19.072Z"
   },
   {
    "duration": 24,
    "start_time": "2023-02-26T21:48:28.551Z"
   },
   {
    "duration": 99,
    "start_time": "2023-02-26T21:52:37.906Z"
   },
   {
    "duration": 18,
    "start_time": "2023-02-26T21:56:57.772Z"
   },
   {
    "duration": 14,
    "start_time": "2023-02-26T22:00:40.155Z"
   },
   {
    "duration": 148,
    "start_time": "2023-02-26T22:29:04.756Z"
   },
   {
    "duration": 147,
    "start_time": "2023-02-26T22:29:32.157Z"
   },
   {
    "duration": 189,
    "start_time": "2023-02-26T22:31:01.057Z"
   },
   {
    "duration": 148,
    "start_time": "2023-02-26T22:40:16.292Z"
   },
   {
    "duration": 530,
    "start_time": "2023-02-26T22:40:40.434Z"
   },
   {
    "duration": 395,
    "start_time": "2023-02-26T22:41:04.860Z"
   },
   {
    "duration": 172,
    "start_time": "2023-02-26T22:41:27.499Z"
   },
   {
    "duration": 416,
    "start_time": "2023-02-26T22:42:36.858Z"
   },
   {
    "duration": 402,
    "start_time": "2023-02-26T22:42:48.330Z"
   },
   {
    "duration": 543,
    "start_time": "2023-02-26T22:43:01.848Z"
   },
   {
    "duration": 337,
    "start_time": "2023-02-26T22:43:58.649Z"
   },
   {
    "duration": 302,
    "start_time": "2023-02-26T22:44:18.320Z"
   },
   {
    "duration": 10,
    "start_time": "2023-02-26T22:52:18.948Z"
   },
   {
    "duration": 21,
    "start_time": "2023-02-26T22:52:30.532Z"
   },
   {
    "duration": 31,
    "start_time": "2023-02-26T22:53:05.052Z"
   },
   {
    "duration": 22,
    "start_time": "2023-02-26T22:54:17.979Z"
   },
   {
    "duration": 18,
    "start_time": "2023-02-26T22:54:41.690Z"
   },
   {
    "duration": 32,
    "start_time": "2023-02-26T22:58:28.778Z"
   },
   {
    "duration": 31,
    "start_time": "2023-02-26T22:58:49.344Z"
   },
   {
    "duration": 3,
    "start_time": "2023-02-26T23:00:02.599Z"
   },
   {
    "duration": 146,
    "start_time": "2023-02-26T23:00:31.074Z"
   },
   {
    "duration": 1651,
    "start_time": "2023-02-26T23:02:15.112Z"
   },
   {
    "duration": 421,
    "start_time": "2023-02-26T23:03:00.972Z"
   },
   {
    "duration": 297,
    "start_time": "2023-02-26T23:04:00.309Z"
   },
   {
    "duration": 338,
    "start_time": "2023-02-26T23:04:30.733Z"
   },
   {
    "duration": 18,
    "start_time": "2023-02-26T23:13:26.803Z"
   },
   {
    "duration": 96,
    "start_time": "2023-02-26T23:27:59.560Z"
   },
   {
    "duration": 3,
    "start_time": "2023-02-26T23:54:37.478Z"
   },
   {
    "duration": 92,
    "start_time": "2023-02-26T23:57:31.328Z"
   },
   {
    "duration": 3,
    "start_time": "2023-02-27T00:04:41.904Z"
   },
   {
    "duration": 4,
    "start_time": "2023-02-27T00:17:57.607Z"
   },
   {
    "duration": 5,
    "start_time": "2023-02-27T00:20:22.324Z"
   },
   {
    "duration": 14,
    "start_time": "2023-02-27T00:21:26.962Z"
   },
   {
    "duration": 6,
    "start_time": "2023-02-27T00:21:33.053Z"
   },
   {
    "duration": 10,
    "start_time": "2023-02-27T00:28:05.956Z"
   },
   {
    "duration": 9,
    "start_time": "2023-02-27T00:28:16.849Z"
   },
   {
    "duration": 3,
    "start_time": "2023-02-27T00:28:30.761Z"
   },
   {
    "duration": 9,
    "start_time": "2023-02-27T00:29:14.904Z"
   },
   {
    "duration": 9,
    "start_time": "2023-02-27T00:32:37.693Z"
   },
   {
    "duration": 2,
    "start_time": "2023-02-27T00:32:55.823Z"
   },
   {
    "duration": 9,
    "start_time": "2023-02-27T00:33:39.394Z"
   },
   {
    "duration": 17,
    "start_time": "2023-02-27T00:35:01.393Z"
   },
   {
    "duration": 15,
    "start_time": "2023-02-27T00:35:33.239Z"
   },
   {
    "duration": 15,
    "start_time": "2023-02-27T00:35:49.312Z"
   },
   {
    "duration": 10,
    "start_time": "2023-02-27T00:37:48.614Z"
   },
   {
    "duration": 10,
    "start_time": "2023-02-27T00:41:29.860Z"
   },
   {
    "duration": 1275,
    "start_time": "2023-02-27T00:42:16.775Z"
   },
   {
    "duration": 2,
    "start_time": "2023-02-27T00:42:18.503Z"
   },
   {
    "duration": 691,
    "start_time": "2023-02-27T00:42:19.294Z"
   },
   {
    "duration": 225,
    "start_time": "2023-02-27T00:42:21.991Z"
   },
   {
    "duration": 126,
    "start_time": "2023-02-27T00:42:23.359Z"
   },
   {
    "duration": 236,
    "start_time": "2023-02-27T00:42:24.584Z"
   },
   {
    "duration": 16,
    "start_time": "2023-02-27T00:42:26.990Z"
   },
   {
    "duration": 12,
    "start_time": "2023-02-27T00:42:29.064Z"
   },
   {
    "duration": 16,
    "start_time": "2023-02-27T00:42:30.686Z"
   },
   {
    "duration": 3,
    "start_time": "2023-02-27T00:42:35.908Z"
   },
   {
    "duration": 15,
    "start_time": "2023-02-27T00:42:36.967Z"
   },
   {
    "duration": 94,
    "start_time": "2023-02-27T00:42:38.334Z"
   },
   {
    "duration": 201,
    "start_time": "2023-02-27T00:42:59.366Z"
   },
   {
    "duration": 202,
    "start_time": "2023-02-27T00:43:23.813Z"
   },
   {
    "duration": 9,
    "start_time": "2023-02-27T00:44:32.763Z"
   },
   {
    "duration": 5,
    "start_time": "2023-02-27T00:44:49.132Z"
   },
   {
    "duration": 596,
    "start_time": "2023-02-27T00:44:54.419Z"
   },
   {
    "duration": 3,
    "start_time": "2023-02-27T00:44:57.035Z"
   },
   {
    "duration": 5,
    "start_time": "2023-02-27T00:44:57.868Z"
   },
   {
    "duration": 12,
    "start_time": "2023-02-27T00:45:00.842Z"
   },
   {
    "duration": 7,
    "start_time": "2023-02-27T00:45:13.179Z"
   },
   {
    "duration": 10,
    "start_time": "2023-02-27T00:45:17.402Z"
   },
   {
    "duration": 47,
    "start_time": "2023-02-27T00:45:19.243Z"
   },
   {
    "duration": 10,
    "start_time": "2023-02-27T00:45:20.066Z"
   },
   {
    "duration": 16,
    "start_time": "2023-02-27T00:45:20.907Z"
   },
   {
    "duration": 7,
    "start_time": "2023-02-27T00:45:21.786Z"
   },
   {
    "duration": 19,
    "start_time": "2023-02-27T00:45:22.652Z"
   },
   {
    "duration": 243,
    "start_time": "2023-02-27T00:45:23.923Z"
   },
   {
    "duration": 39,
    "start_time": "2023-02-27T00:45:24.891Z"
   },
   {
    "duration": 4,
    "start_time": "2023-02-27T00:45:26.250Z"
   },
   {
    "duration": 1979,
    "start_time": "2023-02-27T00:45:28.658Z"
   },
   {
    "duration": 6,
    "start_time": "2023-02-27T00:45:30.639Z"
   },
   {
    "duration": 1235,
    "start_time": "2023-02-27T00:45:31.291Z"
   },
   {
    "duration": 3,
    "start_time": "2023-02-27T00:45:33.005Z"
   },
   {
    "duration": 70,
    "start_time": "2023-02-27T00:45:33.506Z"
   },
   {
    "duration": 23,
    "start_time": "2023-02-27T00:45:33.962Z"
   },
   {
    "duration": 1691,
    "start_time": "2023-02-27T00:45:34.891Z"
   },
   {
    "duration": 444,
    "start_time": "2023-02-27T00:45:36.584Z"
   },
   {
    "duration": 20,
    "start_time": "2023-02-27T00:45:37.030Z"
   },
   {
    "duration": 32,
    "start_time": "2023-02-27T00:45:37.090Z"
   },
   {
    "duration": 3,
    "start_time": "2023-02-27T00:45:37.490Z"
   },
   {
    "duration": 1610,
    "start_time": "2023-02-27T00:45:38.147Z"
   },
   {
    "duration": 22,
    "start_time": "2023-02-27T00:45:40.962Z"
   },
   {
    "duration": 3,
    "start_time": "2023-02-27T00:45:45.388Z"
   },
   {
    "duration": 3,
    "start_time": "2023-02-27T00:45:46.129Z"
   },
   {
    "duration": 5,
    "start_time": "2023-02-27T00:45:47.066Z"
   },
   {
    "duration": 6,
    "start_time": "2023-02-27T00:45:47.578Z"
   },
   {
    "duration": 10,
    "start_time": "2023-02-27T00:45:49.131Z"
   },
   {
    "duration": 14,
    "start_time": "2023-02-27T00:45:49.688Z"
   },
   {
    "duration": 17,
    "start_time": "2023-02-27T00:45:51.053Z"
   },
   {
    "duration": 2,
    "start_time": "2023-02-27T00:47:11.593Z"
   },
   {
    "duration": 15,
    "start_time": "2023-02-27T01:16:19.692Z"
   },
   {
    "duration": 1361,
    "start_time": "2023-02-27T01:18:02.579Z"
   },
   {
    "duration": 0,
    "start_time": "2023-02-27T01:18:03.941Z"
   },
   {
    "duration": 0,
    "start_time": "2023-02-27T01:18:03.943Z"
   },
   {
    "duration": 9,
    "start_time": "2023-02-27T01:18:04.353Z"
   },
   {
    "duration": 9,
    "start_time": "2023-02-27T01:18:04.752Z"
   },
   {
    "duration": 10,
    "start_time": "2023-02-27T01:18:05.178Z"
   },
   {
    "duration": 50,
    "start_time": "2023-02-27T01:18:34.354Z"
   },
   {
    "duration": 1353,
    "start_time": "2023-02-27T01:18:44.920Z"
   },
   {
    "duration": 3,
    "start_time": "2023-02-27T01:18:50.568Z"
   },
   {
    "duration": 682,
    "start_time": "2023-02-27T01:18:51.959Z"
   },
   {
    "duration": 242,
    "start_time": "2023-02-27T01:18:58.415Z"
   },
   {
    "duration": 133,
    "start_time": "2023-02-27T01:19:04.231Z"
   },
   {
    "duration": 242,
    "start_time": "2023-02-27T01:19:05.735Z"
   },
   {
    "duration": 16,
    "start_time": "2023-02-27T01:19:08.176Z"
   },
   {
    "duration": 13,
    "start_time": "2023-02-27T01:19:10.348Z"
   },
   {
    "duration": 17,
    "start_time": "2023-02-27T01:19:12.407Z"
   },
   {
    "duration": 3,
    "start_time": "2023-02-27T01:19:20.679Z"
   },
   {
    "duration": 19,
    "start_time": "2023-02-27T01:19:21.406Z"
   },
   {
    "duration": 228,
    "start_time": "2023-02-27T01:19:22.135Z"
   },
   {
    "duration": 5,
    "start_time": "2023-02-27T01:19:22.798Z"
   },
   {
    "duration": 651,
    "start_time": "2023-02-27T01:19:23.590Z"
   },
   {
    "duration": 4,
    "start_time": "2023-02-27T01:19:24.998Z"
   },
   {
    "duration": 5,
    "start_time": "2023-02-27T01:19:25.631Z"
   },
   {
    "duration": 11,
    "start_time": "2023-02-27T01:19:27.575Z"
   },
   {
    "duration": 7,
    "start_time": "2023-02-27T01:19:28.550Z"
   },
   {
    "duration": 9,
    "start_time": "2023-02-27T01:19:29.447Z"
   },
   {
    "duration": 49,
    "start_time": "2023-02-27T01:19:30.608Z"
   },
   {
    "duration": 9,
    "start_time": "2023-02-27T01:19:31.142Z"
   },
   {
    "duration": 15,
    "start_time": "2023-02-27T01:19:31.670Z"
   },
   {
    "duration": 7,
    "start_time": "2023-02-27T01:19:31.740Z"
   },
   {
    "duration": 21,
    "start_time": "2023-02-27T01:19:31.808Z"
   },
   {
    "duration": 186,
    "start_time": "2023-02-27T01:19:31.905Z"
   },
   {
    "duration": 48,
    "start_time": "2023-02-27T01:19:32.092Z"
   },
   {
    "duration": 3,
    "start_time": "2023-02-27T01:19:32.142Z"
   },
   {
    "duration": 2067,
    "start_time": "2023-02-27T01:19:32.210Z"
   },
   {
    "duration": 5,
    "start_time": "2023-02-27T01:19:34.279Z"
   },
   {
    "duration": 1238,
    "start_time": "2023-02-27T01:19:34.285Z"
   },
   {
    "duration": 3,
    "start_time": "2023-02-27T01:19:35.525Z"
   },
   {
    "duration": 80,
    "start_time": "2023-02-27T01:19:35.530Z"
   },
   {
    "duration": 22,
    "start_time": "2023-02-27T01:19:35.620Z"
   },
   {
    "duration": 1836,
    "start_time": "2023-02-27T01:19:35.644Z"
   },
   {
    "duration": 341,
    "start_time": "2023-02-27T01:19:37.482Z"
   },
   {
    "duration": 19,
    "start_time": "2023-02-27T01:19:37.825Z"
   },
   {
    "duration": 30,
    "start_time": "2023-02-27T01:19:37.846Z"
   },
   {
    "duration": 3,
    "start_time": "2023-02-27T01:19:37.877Z"
   },
   {
    "duration": 1738,
    "start_time": "2023-02-27T01:19:37.881Z"
   },
   {
    "duration": 19,
    "start_time": "2023-02-27T01:19:39.621Z"
   },
   {
    "duration": 3,
    "start_time": "2023-02-27T01:19:39.642Z"
   },
   {
    "duration": 9,
    "start_time": "2023-02-27T01:19:39.646Z"
   },
   {
    "duration": 12,
    "start_time": "2023-02-27T01:19:39.656Z"
   },
   {
    "duration": 8,
    "start_time": "2023-02-27T01:19:39.670Z"
   },
   {
    "duration": 12,
    "start_time": "2023-02-27T01:19:39.680Z"
   },
   {
    "duration": 28,
    "start_time": "2023-02-27T01:19:39.693Z"
   },
   {
    "duration": 15,
    "start_time": "2023-02-27T01:19:39.722Z"
   },
   {
    "duration": 118,
    "start_time": "2023-02-27T01:19:39.739Z"
   },
   {
    "duration": 1425,
    "start_time": "2023-02-27T11:48:10.223Z"
   },
   {
    "duration": 4,
    "start_time": "2023-02-27T11:48:12.628Z"
   },
   {
    "duration": 720,
    "start_time": "2023-02-27T11:48:13.468Z"
   },
   {
    "duration": 332,
    "start_time": "2023-02-27T11:48:14.431Z"
   },
   {
    "duration": 164,
    "start_time": "2023-02-27T11:48:15.013Z"
   },
   {
    "duration": 273,
    "start_time": "2023-02-27T11:48:15.604Z"
   },
   {
    "duration": 19,
    "start_time": "2023-02-27T11:48:16.465Z"
   },
   {
    "duration": 13,
    "start_time": "2023-02-27T11:48:17.365Z"
   },
   {
    "duration": 18,
    "start_time": "2023-02-27T11:48:18.292Z"
   },
   {
    "duration": 3,
    "start_time": "2023-02-27T11:48:20.326Z"
   },
   {
    "duration": 19,
    "start_time": "2023-02-27T11:48:20.916Z"
   },
   {
    "duration": 227,
    "start_time": "2023-02-27T11:48:21.612Z"
   },
   {
    "duration": 8,
    "start_time": "2023-02-27T11:48:22.257Z"
   },
   {
    "duration": 644,
    "start_time": "2023-02-27T11:48:22.884Z"
   },
   {
    "duration": 4,
    "start_time": "2023-02-27T11:48:24.500Z"
   },
   {
    "duration": 6,
    "start_time": "2023-02-27T11:48:25.115Z"
   },
   {
    "duration": 14,
    "start_time": "2023-02-27T11:48:27.076Z"
   },
   {
    "duration": 8,
    "start_time": "2023-02-27T11:48:28.012Z"
   },
   {
    "duration": 11,
    "start_time": "2023-02-27T11:48:28.900Z"
   },
   {
    "duration": 56,
    "start_time": "2023-02-27T11:48:30.164Z"
   },
   {
    "duration": 9,
    "start_time": "2023-02-27T11:48:30.780Z"
   },
   {
    "duration": 15,
    "start_time": "2023-02-27T11:48:31.381Z"
   },
   {
    "duration": 8,
    "start_time": "2023-02-27T11:48:32.051Z"
   },
   {
    "duration": 21,
    "start_time": "2023-02-27T11:48:32.686Z"
   },
   {
    "duration": 180,
    "start_time": "2023-02-27T11:48:33.995Z"
   },
   {
    "duration": 42,
    "start_time": "2023-02-27T11:48:34.764Z"
   },
   {
    "duration": 4,
    "start_time": "2023-02-27T11:48:36.235Z"
   },
   {
    "duration": 75,
    "start_time": "2023-02-27T11:48:38.195Z"
   },
   {
    "duration": 1008,
    "start_time": "2023-02-27T11:48:50.372Z"
   },
   {
    "duration": 5514,
    "start_time": "2023-02-27T11:49:08.516Z"
   },
   {
    "duration": 2656,
    "start_time": "2023-02-27T11:49:30.322Z"
   },
   {
    "duration": 4008,
    "start_time": "2023-02-27T11:49:44.894Z"
   },
   {
    "duration": 6,
    "start_time": "2023-02-27T11:52:03.561Z"
   },
   {
    "duration": 1287,
    "start_time": "2023-02-27T11:52:13.187Z"
   },
   {
    "duration": 3,
    "start_time": "2023-02-27T11:52:16.610Z"
   },
   {
    "duration": 75,
    "start_time": "2023-02-27T11:52:17.011Z"
   },
   {
    "duration": 25,
    "start_time": "2023-02-27T11:52:17.402Z"
   },
   {
    "duration": 2046,
    "start_time": "2023-02-27T11:52:18.330Z"
   },
   {
    "duration": 351,
    "start_time": "2023-02-27T11:52:20.565Z"
   },
   {
    "duration": 26,
    "start_time": "2023-02-27T11:52:22.436Z"
   },
   {
    "duration": 33,
    "start_time": "2023-02-27T11:52:23.479Z"
   },
   {
    "duration": 3,
    "start_time": "2023-02-27T11:52:23.970Z"
   },
   {
    "duration": 1972,
    "start_time": "2023-02-27T11:52:24.580Z"
   },
   {
    "duration": 22,
    "start_time": "2023-02-27T11:52:28.069Z"
   },
   {
    "duration": 4,
    "start_time": "2023-02-27T11:52:32.226Z"
   },
   {
    "duration": 3,
    "start_time": "2023-02-27T11:52:33.385Z"
   },
   {
    "duration": 8,
    "start_time": "2023-02-27T11:52:34.465Z"
   },
   {
    "duration": 8,
    "start_time": "2023-02-27T11:52:35.010Z"
   },
   {
    "duration": 10,
    "start_time": "2023-02-27T11:52:36.491Z"
   },
   {
    "duration": 13,
    "start_time": "2023-02-27T11:52:37.003Z"
   },
   {
    "duration": 17,
    "start_time": "2023-02-27T11:52:38.272Z"
   },
   {
    "duration": 1585,
    "start_time": "2023-02-27T12:50:41.680Z"
   },
   {
    "duration": 4,
    "start_time": "2023-02-27T12:50:44.685Z"
   },
   {
    "duration": 711,
    "start_time": "2023-02-27T12:50:46.676Z"
   },
   {
    "duration": 269,
    "start_time": "2023-02-27T12:50:47.390Z"
   },
   {
    "duration": 142,
    "start_time": "2023-02-27T12:50:47.678Z"
   },
   {
    "duration": 267,
    "start_time": "2023-02-27T12:50:48.029Z"
   },
   {
    "duration": 18,
    "start_time": "2023-02-27T12:50:48.573Z"
   },
   {
    "duration": 13,
    "start_time": "2023-02-27T12:50:49.077Z"
   },
   {
    "duration": 18,
    "start_time": "2023-02-27T12:50:49.589Z"
   },
   {
    "duration": 4,
    "start_time": "2023-02-27T12:50:50.652Z"
   },
   {
    "duration": 20,
    "start_time": "2023-02-27T12:50:51.013Z"
   },
   {
    "duration": 236,
    "start_time": "2023-02-27T12:50:51.365Z"
   },
   {
    "duration": 6,
    "start_time": "2023-02-27T12:50:51.733Z"
   },
   {
    "duration": 696,
    "start_time": "2023-02-27T12:50:52.092Z"
   },
   {
    "duration": 3,
    "start_time": "2023-02-27T12:50:52.901Z"
   },
   {
    "duration": 6,
    "start_time": "2023-02-27T12:50:53.269Z"
   },
   {
    "duration": 14,
    "start_time": "2023-02-27T12:50:54.447Z"
   },
   {
    "duration": 8,
    "start_time": "2023-02-27T12:50:54.997Z"
   },
   {
    "duration": 11,
    "start_time": "2023-02-27T12:50:55.580Z"
   },
   {
    "duration": 55,
    "start_time": "2023-02-27T12:50:56.516Z"
   },
   {
    "duration": 11,
    "start_time": "2023-02-27T12:50:57.251Z"
   },
   {
    "duration": 16,
    "start_time": "2023-02-27T12:50:57.944Z"
   },
   {
    "duration": 8,
    "start_time": "2023-02-27T12:50:58.781Z"
   },
   {
    "duration": 24,
    "start_time": "2023-02-27T12:50:59.710Z"
   },
   {
    "duration": 204,
    "start_time": "2023-02-27T12:51:01.117Z"
   },
   {
    "duration": 59,
    "start_time": "2023-02-27T12:51:02.100Z"
   },
   {
    "duration": 4,
    "start_time": "2023-02-27T12:51:03.377Z"
   },
   {
    "duration": 4058,
    "start_time": "2023-02-27T12:51:06.326Z"
   },
   {
    "duration": 4354,
    "start_time": "2023-02-27T12:51:27.412Z"
   },
   {
    "duration": 7,
    "start_time": "2023-02-27T12:51:44.164Z"
   },
   {
    "duration": 1356,
    "start_time": "2023-02-27T12:51:44.757Z"
   },
   {
    "duration": 7,
    "start_time": "2023-02-27T12:51:46.115Z"
   },
   {
    "duration": 76,
    "start_time": "2023-02-27T12:51:46.357Z"
   },
   {
    "duration": 26,
    "start_time": "2023-02-27T12:51:46.774Z"
   },
   {
    "duration": 2210,
    "start_time": "2023-02-27T12:51:48.021Z"
   },
   {
    "duration": 401,
    "start_time": "2023-02-27T12:51:50.233Z"
   },
   {
    "duration": 23,
    "start_time": "2023-02-27T12:51:51.289Z"
   },
   {
    "duration": 33,
    "start_time": "2023-02-27T12:51:52.589Z"
   },
   {
    "duration": 3,
    "start_time": "2023-02-27T12:51:53.004Z"
   },
   {
    "duration": 2199,
    "start_time": "2023-02-27T12:51:53.396Z"
   },
   {
    "duration": 27,
    "start_time": "2023-02-27T12:51:55.597Z"
   },
   {
    "duration": 3,
    "start_time": "2023-02-27T12:51:58.101Z"
   },
   {
    "duration": 3,
    "start_time": "2023-02-27T12:51:58.812Z"
   },
   {
    "duration": 5,
    "start_time": "2023-02-27T12:51:59.484Z"
   },
   {
    "duration": 7,
    "start_time": "2023-02-27T12:51:59.971Z"
   },
   {
    "duration": 10,
    "start_time": "2023-02-27T12:52:02.271Z"
   },
   {
    "duration": 14,
    "start_time": "2023-02-27T12:52:03.240Z"
   },
   {
    "duration": 30,
    "start_time": "2023-02-27T12:52:04.989Z"
   },
   {
    "duration": 117,
    "start_time": "2023-02-27T13:04:40.376Z"
   },
   {
    "duration": 12,
    "start_time": "2023-02-27T13:08:14.503Z"
   },
   {
    "duration": 1510,
    "start_time": "2023-02-27T14:00:05.655Z"
   },
   {
    "duration": 3,
    "start_time": "2023-02-27T14:04:27.752Z"
   },
   {
    "duration": 670,
    "start_time": "2023-02-27T14:04:28.992Z"
   },
   {
    "duration": 286,
    "start_time": "2023-02-27T14:04:29.665Z"
   },
   {
    "duration": 161,
    "start_time": "2023-02-27T14:04:29.952Z"
   },
   {
    "duration": 304,
    "start_time": "2023-02-27T14:04:30.122Z"
   },
   {
    "duration": 21,
    "start_time": "2023-02-27T14:04:30.429Z"
   },
   {
    "duration": 16,
    "start_time": "2023-02-27T14:04:30.596Z"
   },
   {
    "duration": 18,
    "start_time": "2023-02-27T14:04:31.134Z"
   },
   {
    "duration": 4,
    "start_time": "2023-02-27T14:04:32.205Z"
   },
   {
    "duration": 18,
    "start_time": "2023-02-27T14:04:32.566Z"
   },
   {
    "duration": 237,
    "start_time": "2023-02-27T14:04:32.933Z"
   },
   {
    "duration": 5,
    "start_time": "2023-02-27T14:04:33.295Z"
   },
   {
    "duration": 710,
    "start_time": "2023-02-27T14:04:33.656Z"
   },
   {
    "duration": 3,
    "start_time": "2023-02-27T14:04:34.389Z"
   },
   {
    "duration": 6,
    "start_time": "2023-02-27T14:04:34.751Z"
   },
   {
    "duration": 13,
    "start_time": "2023-02-27T14:04:35.864Z"
   },
   {
    "duration": 7,
    "start_time": "2023-02-27T14:04:36.390Z"
   },
   {
    "duration": 14,
    "start_time": "2023-02-27T14:04:36.918Z"
   },
   {
    "duration": 55,
    "start_time": "2023-02-27T14:04:37.655Z"
   },
   {
    "duration": 10,
    "start_time": "2023-02-27T14:04:38.037Z"
   },
   {
    "duration": 21,
    "start_time": "2023-02-27T14:04:38.423Z"
   },
   {
    "duration": 8,
    "start_time": "2023-02-27T14:04:38.767Z"
   },
   {
    "duration": 22,
    "start_time": "2023-02-27T14:04:39.159Z"
   },
   {
    "duration": 188,
    "start_time": "2023-02-27T14:04:39.766Z"
   },
   {
    "duration": 48,
    "start_time": "2023-02-27T14:04:40.136Z"
   },
   {
    "duration": 3,
    "start_time": "2023-02-27T14:04:40.702Z"
   },
   {
    "duration": 4427,
    "start_time": "2023-02-27T14:04:41.470Z"
   },
   {
    "duration": 6,
    "start_time": "2023-02-27T14:04:45.899Z"
   },
   {
    "duration": 1286,
    "start_time": "2023-02-27T14:04:45.906Z"
   },
   {
    "duration": 3,
    "start_time": "2023-02-27T14:04:47.194Z"
   },
   {
    "duration": 91,
    "start_time": "2023-02-27T14:04:47.199Z"
   },
   {
    "duration": 35,
    "start_time": "2023-02-27T14:04:47.292Z"
   },
   {
    "duration": 2433,
    "start_time": "2023-02-27T14:04:47.329Z"
   },
   {
    "duration": 406,
    "start_time": "2023-02-27T14:04:49.764Z"
   },
   {
    "duration": 24,
    "start_time": "2023-02-27T14:04:50.172Z"
   },
   {
    "duration": 54,
    "start_time": "2023-02-27T14:04:50.198Z"
   },
   {
    "duration": 3,
    "start_time": "2023-02-27T14:04:50.254Z"
   },
   {
    "duration": 2078,
    "start_time": "2023-02-27T14:04:50.259Z"
   },
   {
    "duration": 22,
    "start_time": "2023-02-27T14:04:52.340Z"
   },
   {
    "duration": 3,
    "start_time": "2023-02-27T14:04:52.364Z"
   },
   {
    "duration": 9,
    "start_time": "2023-02-27T14:04:52.369Z"
   },
   {
    "duration": 27,
    "start_time": "2023-02-27T14:04:52.380Z"
   },
   {
    "duration": 23,
    "start_time": "2023-02-27T14:04:52.410Z"
   },
   {
    "duration": 24,
    "start_time": "2023-02-27T14:04:52.436Z"
   },
   {
    "duration": 15,
    "start_time": "2023-02-27T14:04:52.653Z"
   },
   {
    "duration": 18,
    "start_time": "2023-02-27T14:04:54.048Z"
   },
   {
    "duration": 127,
    "start_time": "2023-02-27T14:04:54.902Z"
   },
   {
    "duration": 115,
    "start_time": "2023-02-27T14:05:56.799Z"
   },
   {
    "duration": 1890,
    "start_time": "2023-02-27T14:06:13.004Z"
   },
   {
    "duration": 4092,
    "start_time": "2023-02-27T14:06:28.448Z"
   },
   {
    "duration": 74,
    "start_time": "2023-02-27T14:06:35.327Z"
   },
   {
    "duration": 5,
    "start_time": "2023-02-27T14:06:47.512Z"
   },
   {
    "duration": 795,
    "start_time": "2023-02-27T14:06:49.605Z"
   },
   {
    "duration": 3052,
    "start_time": "2023-02-27T16:21:09.352Z"
   },
   {
    "duration": 3,
    "start_time": "2023-02-27T16:21:17.476Z"
   },
   {
    "duration": 770,
    "start_time": "2023-02-27T16:21:18.095Z"
   },
   {
    "duration": 273,
    "start_time": "2023-02-27T16:21:18.867Z"
   },
   {
    "duration": 219,
    "start_time": "2023-02-27T16:21:19.142Z"
   },
   {
    "duration": 273,
    "start_time": "2023-02-27T16:21:19.461Z"
   },
   {
    "duration": 17,
    "start_time": "2023-02-27T16:21:19.989Z"
   },
   {
    "duration": 13,
    "start_time": "2023-02-27T16:21:20.650Z"
   },
   {
    "duration": 19,
    "start_time": "2023-02-27T16:21:21.150Z"
   },
   {
    "duration": 3,
    "start_time": "2023-02-27T16:21:22.221Z"
   },
   {
    "duration": 19,
    "start_time": "2023-02-27T16:21:22.584Z"
   },
   {
    "duration": 218,
    "start_time": "2023-02-27T16:21:22.948Z"
   },
   {
    "duration": 5,
    "start_time": "2023-02-27T16:21:23.317Z"
   },
   {
    "duration": 599,
    "start_time": "2023-02-27T16:21:23.679Z"
   },
   {
    "duration": 5,
    "start_time": "2023-02-27T16:21:24.405Z"
   },
   {
    "duration": 6,
    "start_time": "2023-02-27T16:21:24.776Z"
   },
   {
    "duration": 19,
    "start_time": "2023-02-27T16:21:25.869Z"
   },
   {
    "duration": 9,
    "start_time": "2023-02-27T16:21:26.414Z"
   },
   {
    "duration": 12,
    "start_time": "2023-02-27T16:21:26.989Z"
   },
   {
    "duration": 77,
    "start_time": "2023-02-27T16:21:27.730Z"
   },
   {
    "duration": 11,
    "start_time": "2023-02-27T16:21:28.079Z"
   },
   {
    "duration": 20,
    "start_time": "2023-02-27T16:21:28.469Z"
   },
   {
    "duration": 8,
    "start_time": "2023-02-27T16:21:28.873Z"
   },
   {
    "duration": 20,
    "start_time": "2023-02-27T16:21:29.246Z"
   },
   {
    "duration": 203,
    "start_time": "2023-02-27T16:21:29.864Z"
   },
   {
    "duration": 48,
    "start_time": "2023-02-27T16:21:30.284Z"
   },
   {
    "duration": 4,
    "start_time": "2023-02-27T16:21:31.458Z"
   },
   {
    "duration": 4297,
    "start_time": "2023-02-27T16:21:33.838Z"
   },
   {
    "duration": 6,
    "start_time": "2023-02-27T16:21:38.137Z"
   },
   {
    "duration": 1417,
    "start_time": "2023-02-27T16:21:38.145Z"
   },
   {
    "duration": 4,
    "start_time": "2023-02-27T16:21:39.565Z"
   },
   {
    "duration": 93,
    "start_time": "2023-02-27T16:21:39.571Z"
   },
   {
    "duration": 26,
    "start_time": "2023-02-27T16:21:39.666Z"
   },
   {
    "duration": 2105,
    "start_time": "2023-02-27T16:21:39.694Z"
   },
   {
    "duration": 382,
    "start_time": "2023-02-27T16:21:41.801Z"
   },
   {
    "duration": 27,
    "start_time": "2023-02-27T16:21:42.788Z"
   },
   {
    "duration": 47,
    "start_time": "2023-02-27T16:21:44.500Z"
   },
   {
    "duration": 7,
    "start_time": "2023-02-27T16:21:45.124Z"
   },
   {
    "duration": 1966,
    "start_time": "2023-02-27T16:21:48.277Z"
   },
   {
    "duration": 26,
    "start_time": "2023-02-27T16:21:50.246Z"
   },
   {
    "duration": 5,
    "start_time": "2023-02-27T16:21:56.853Z"
   },
   {
    "duration": 3,
    "start_time": "2023-02-27T16:21:57.901Z"
   },
   {
    "duration": 6,
    "start_time": "2023-02-27T16:22:01.061Z"
   },
   {
    "duration": 8,
    "start_time": "2023-02-27T16:22:03.702Z"
   },
   {
    "duration": 10,
    "start_time": "2023-02-27T16:22:06.246Z"
   },
   {
    "duration": 18,
    "start_time": "2023-02-27T16:22:08.069Z"
   },
   {
    "duration": 20,
    "start_time": "2023-02-27T16:22:10.478Z"
   },
   {
    "duration": 3751972,
    "start_time": "2023-02-27T16:22:17.293Z"
   },
   {
    "duration": 4,
    "start_time": "2023-02-27T20:35:58.491Z"
   },
   {
    "duration": 309,
    "start_time": "2023-02-27T20:36:14.684Z"
   },
   {
    "duration": 27,
    "start_time": "2023-02-27T20:41:35.044Z"
   },
   {
    "duration": 17,
    "start_time": "2023-02-27T20:41:36.140Z"
   },
   {
    "duration": 5,
    "start_time": "2023-02-27T20:42:15.772Z"
   },
   {
    "duration": 3,
    "start_time": "2023-02-27T20:42:23.483Z"
   },
   {
    "duration": 85,
    "start_time": "2023-02-27T20:42:24.520Z"
   },
   {
    "duration": 58,
    "start_time": "2023-02-27T20:49:07.580Z"
   },
   {
    "duration": 3,
    "start_time": "2023-02-27T21:13:44.774Z"
   },
   {
    "duration": 26217,
    "start_time": "2023-02-27T21:13:45.311Z"
   },
   {
    "duration": 28323,
    "start_time": "2023-02-27T21:14:54.223Z"
   },
   {
    "duration": 25902,
    "start_time": "2023-02-27T21:15:31.215Z"
   },
   {
    "duration": 377,
    "start_time": "2023-02-27T21:19:09.498Z"
   },
   {
    "duration": 110,
    "start_time": "2023-02-27T21:28:52.918Z"
   },
   {
    "duration": 14,
    "start_time": "2023-02-27T21:33:09.487Z"
   },
   {
    "duration": 25,
    "start_time": "2023-02-27T21:33:12.145Z"
   },
   {
    "duration": 98,
    "start_time": "2023-02-27T21:33:13.003Z"
   },
   {
    "duration": 1345,
    "start_time": "2023-02-27T21:35:15.652Z"
   },
   {
    "duration": 3,
    "start_time": "2023-02-27T21:35:18.789Z"
   },
   {
    "duration": 700,
    "start_time": "2023-02-27T21:35:19.344Z"
   },
   {
    "duration": 255,
    "start_time": "2023-02-27T21:35:20.045Z"
   },
   {
    "duration": 142,
    "start_time": "2023-02-27T21:35:20.412Z"
   },
   {
    "duration": 295,
    "start_time": "2023-02-27T21:35:20.827Z"
   },
   {
    "duration": 19,
    "start_time": "2023-02-27T21:35:21.388Z"
   },
   {
    "duration": 15,
    "start_time": "2023-02-27T21:35:21.946Z"
   },
   {
    "duration": 20,
    "start_time": "2023-02-27T21:35:22.492Z"
   },
   {
    "duration": 4,
    "start_time": "2023-02-27T21:35:23.610Z"
   },
   {
    "duration": 18,
    "start_time": "2023-02-27T21:35:24.003Z"
   },
   {
    "duration": 255,
    "start_time": "2023-02-27T21:35:24.404Z"
   },
   {
    "duration": 6,
    "start_time": "2023-02-27T21:35:24.762Z"
   },
   {
    "duration": 643,
    "start_time": "2023-02-27T21:35:25.316Z"
   },
   {
    "duration": 4,
    "start_time": "2023-02-27T21:35:26.203Z"
   },
   {
    "duration": 6,
    "start_time": "2023-02-27T21:35:26.637Z"
   },
   {
    "duration": 12,
    "start_time": "2023-02-27T21:35:27.978Z"
   },
   {
    "duration": 7,
    "start_time": "2023-02-27T21:35:28.620Z"
   },
   {
    "duration": 10,
    "start_time": "2023-02-27T21:35:29.282Z"
   },
   {
    "duration": 58,
    "start_time": "2023-02-27T21:35:30.163Z"
   },
   {
    "duration": 9,
    "start_time": "2023-02-27T21:35:30.635Z"
   },
   {
    "duration": 15,
    "start_time": "2023-02-27T21:35:31.040Z"
   },
   {
    "duration": 7,
    "start_time": "2023-02-27T21:35:31.452Z"
   },
   {
    "duration": 20,
    "start_time": "2023-02-27T21:35:31.925Z"
   },
   {
    "duration": 185,
    "start_time": "2023-02-27T21:35:32.622Z"
   },
   {
    "duration": 42,
    "start_time": "2023-02-27T21:35:33.209Z"
   },
   {
    "duration": 4,
    "start_time": "2023-02-27T21:35:33.915Z"
   },
   {
    "duration": 3708,
    "start_time": "2023-02-27T21:35:35.001Z"
   },
   {
    "duration": 12,
    "start_time": "2023-02-27T21:35:38.712Z"
   },
   {
    "duration": 1208,
    "start_time": "2023-02-27T21:35:38.726Z"
   },
   {
    "duration": 3,
    "start_time": "2023-02-27T21:35:39.936Z"
   },
   {
    "duration": 98,
    "start_time": "2023-02-27T21:35:39.940Z"
   },
   {
    "duration": 25,
    "start_time": "2023-02-27T21:35:40.039Z"
   },
   {
    "duration": 2164,
    "start_time": "2023-02-27T21:35:40.575Z"
   },
   {
    "duration": 380,
    "start_time": "2023-02-27T21:35:42.741Z"
   },
   {
    "duration": 24,
    "start_time": "2023-02-27T21:35:43.122Z"
   },
   {
    "duration": 32,
    "start_time": "2023-02-27T21:35:46.979Z"
   },
   {
    "duration": 4,
    "start_time": "2023-02-27T21:35:48.871Z"
   },
   {
    "duration": 1837,
    "start_time": "2023-02-27T21:35:49.587Z"
   },
   {
    "duration": 21,
    "start_time": "2023-02-27T21:35:51.426Z"
   },
   {
    "duration": 4,
    "start_time": "2023-02-27T21:35:55.719Z"
   },
   {
    "duration": 3,
    "start_time": "2023-02-27T21:35:56.582Z"
   },
   {
    "duration": 5,
    "start_time": "2023-02-27T21:35:58.530Z"
   },
   {
    "duration": 7,
    "start_time": "2023-02-27T21:36:00.450Z"
   },
   {
    "duration": 6,
    "start_time": "2023-02-27T21:36:55.345Z"
   },
   {
    "duration": 11,
    "start_time": "2023-02-27T21:37:00.352Z"
   },
   {
    "duration": 16,
    "start_time": "2023-02-27T21:37:02.203Z"
   },
   {
    "duration": 20,
    "start_time": "2023-02-27T21:37:05.332Z"
   },
   {
    "duration": 187,
    "start_time": "2023-02-27T21:37:08.452Z"
   },
   {
    "duration": 97,
    "start_time": "2023-02-27T21:37:36.508Z"
   },
   {
    "duration": 109,
    "start_time": "2023-02-27T21:38:19.036Z"
   },
   {
    "duration": 88,
    "start_time": "2023-02-27T21:38:46.996Z"
   },
   {
    "duration": 1351,
    "start_time": "2023-02-27T22:23:37.031Z"
   },
   {
    "duration": 4,
    "start_time": "2023-02-27T22:23:38.575Z"
   },
   {
    "duration": 688,
    "start_time": "2023-02-27T22:23:42.608Z"
   },
   {
    "duration": 238,
    "start_time": "2023-02-27T22:23:43.673Z"
   },
   {
    "duration": 149,
    "start_time": "2023-02-27T22:23:44.208Z"
   },
   {
    "duration": 255,
    "start_time": "2023-02-27T22:23:44.642Z"
   },
   {
    "duration": 16,
    "start_time": "2023-02-27T22:23:45.255Z"
   },
   {
    "duration": 12,
    "start_time": "2023-02-27T22:23:45.887Z"
   },
   {
    "duration": 16,
    "start_time": "2023-02-27T22:23:46.467Z"
   },
   {
    "duration": 3,
    "start_time": "2023-02-27T22:23:47.791Z"
   },
   {
    "duration": 18,
    "start_time": "2023-02-27T22:23:48.367Z"
   },
   {
    "duration": 205,
    "start_time": "2023-02-27T22:23:48.959Z"
   },
   {
    "duration": 201,
    "start_time": "2023-02-27T22:23:55.752Z"
   },
   {
    "duration": 5,
    "start_time": "2023-02-27T22:23:57.968Z"
   },
   {
    "duration": 642,
    "start_time": "2023-02-27T22:24:00.160Z"
   },
   {
    "duration": 4,
    "start_time": "2023-02-27T22:24:04.569Z"
   },
   {
    "duration": 6,
    "start_time": "2023-02-27T22:24:06.552Z"
   },
   {
    "duration": 15,
    "start_time": "2023-02-27T22:24:11.155Z"
   },
   {
    "duration": 8,
    "start_time": "2023-02-27T22:24:12.784Z"
   },
   {
    "duration": 12,
    "start_time": "2023-02-27T22:24:13.763Z"
   },
   {
    "duration": 66,
    "start_time": "2023-02-27T22:24:15.009Z"
   },
   {
    "duration": 11,
    "start_time": "2023-02-27T22:24:15.643Z"
   },
   {
    "duration": 15,
    "start_time": "2023-02-27T22:24:16.152Z"
   },
   {
    "duration": 8,
    "start_time": "2023-02-27T22:24:16.860Z"
   },
   {
    "duration": 23,
    "start_time": "2023-02-27T22:24:17.696Z"
   },
   {
    "duration": 175,
    "start_time": "2023-02-27T22:24:19.827Z"
   },
   {
    "duration": 50,
    "start_time": "2023-02-27T22:24:20.004Z"
   },
   {
    "duration": 4,
    "start_time": "2023-02-27T22:24:20.056Z"
   },
   {
    "duration": 4052,
    "start_time": "2023-02-27T22:24:23.209Z"
   },
   {
    "duration": 5,
    "start_time": "2023-02-27T22:24:27.263Z"
   },
   {
    "duration": 1299,
    "start_time": "2023-02-27T22:24:27.269Z"
   },
   {
    "duration": 3,
    "start_time": "2023-02-27T22:24:28.570Z"
   },
   {
    "duration": 89,
    "start_time": "2023-02-27T22:24:28.575Z"
   },
   {
    "duration": 24,
    "start_time": "2023-02-27T22:24:28.666Z"
   },
   {
    "duration": 2139,
    "start_time": "2023-02-27T22:24:29.272Z"
   },
   {
    "duration": 352,
    "start_time": "2023-02-27T22:24:31.413Z"
   },
   {
    "duration": 19,
    "start_time": "2023-02-27T22:24:31.766Z"
   },
   {
    "duration": 31,
    "start_time": "2023-02-27T22:24:32.430Z"
   },
   {
    "duration": 3,
    "start_time": "2023-02-27T22:24:32.969Z"
   },
   {
    "duration": 1739,
    "start_time": "2023-02-27T22:24:33.560Z"
   },
   {
    "duration": 3,
    "start_time": "2023-02-27T22:26:44.825Z"
   },
   {
    "duration": 1837,
    "start_time": "2023-02-27T22:26:48.161Z"
   },
   {
    "duration": 24,
    "start_time": "2023-02-27T22:26:53.401Z"
   },
   {
    "duration": 3,
    "start_time": "2023-02-27T22:26:58.213Z"
   },
   {
    "duration": 2,
    "start_time": "2023-02-27T22:26:58.626Z"
   },
   {
    "duration": 5,
    "start_time": "2023-02-27T22:26:59.629Z"
   },
   {
    "duration": 7,
    "start_time": "2023-02-27T22:27:00.185Z"
   },
   {
    "duration": 10,
    "start_time": "2023-02-27T22:27:01.625Z"
   },
   {
    "duration": 16,
    "start_time": "2023-02-27T22:27:02.049Z"
   },
   {
    "duration": 18,
    "start_time": "2023-02-27T22:27:03.497Z"
   },
   {
    "duration": 199,
    "start_time": "2023-02-27T22:27:04.712Z"
   },
   {
    "duration": 202,
    "start_time": "2023-02-27T22:32:03.734Z"
   },
   {
    "duration": 102,
    "start_time": "2023-02-27T22:33:15.421Z"
   },
   {
    "duration": 95,
    "start_time": "2023-02-27T22:33:52.342Z"
   },
   {
    "duration": 97,
    "start_time": "2023-02-27T22:34:11.958Z"
   },
   {
    "duration": 19,
    "start_time": "2023-02-27T22:34:49.414Z"
   },
   {
    "duration": 4,
    "start_time": "2023-02-27T22:35:49.881Z"
   },
   {
    "duration": 116,
    "start_time": "2023-02-27T22:36:34.695Z"
   },
   {
    "duration": 655,
    "start_time": "2023-02-27T22:38:22.434Z"
   },
   {
    "duration": 18,
    "start_time": "2023-02-27T22:39:11.025Z"
   },
   {
    "duration": 4,
    "start_time": "2023-02-27T22:39:20.664Z"
   },
   {
    "duration": 16,
    "start_time": "2023-02-27T22:39:25.601Z"
   },
   {
    "duration": 17,
    "start_time": "2023-02-27T22:44:19.916Z"
   },
   {
    "duration": 18,
    "start_time": "2023-02-27T22:44:28.548Z"
   },
   {
    "duration": 9,
    "start_time": "2023-02-27T22:44:51.508Z"
   },
   {
    "duration": 10,
    "start_time": "2023-02-27T22:45:07.964Z"
   },
   {
    "duration": 11,
    "start_time": "2023-02-27T22:45:21.797Z"
   },
   {
    "duration": 17,
    "start_time": "2023-02-27T22:45:51.365Z"
   },
   {
    "duration": 17,
    "start_time": "2023-02-27T22:45:54.364Z"
   },
   {
    "duration": 25,
    "start_time": "2023-02-27T22:46:02.069Z"
   },
   {
    "duration": 9,
    "start_time": "2023-02-27T22:47:43.175Z"
   },
   {
    "duration": 4,
    "start_time": "2023-02-27T22:48:28.013Z"
   },
   {
    "duration": 3,
    "start_time": "2023-02-27T22:48:29.350Z"
   },
   {
    "duration": 4,
    "start_time": "2023-02-27T22:48:30.360Z"
   },
   {
    "duration": 11,
    "start_time": "2023-02-27T22:51:21.929Z"
   },
   {
    "duration": 8,
    "start_time": "2023-02-27T22:51:27.126Z"
   },
   {
    "duration": 10,
    "start_time": "2023-02-27T22:51:27.769Z"
   },
   {
    "duration": 17,
    "start_time": "2023-02-27T22:51:35.280Z"
   },
   {
    "duration": 27,
    "start_time": "2023-02-27T22:51:35.896Z"
   },
   {
    "duration": 3,
    "start_time": "2023-02-27T22:51:37.496Z"
   },
   {
    "duration": 85,
    "start_time": "2023-02-27T22:51:40.297Z"
   },
   {
    "duration": 126,
    "start_time": "2023-02-27T22:53:38.154Z"
   },
   {
    "duration": 3,
    "start_time": "2023-02-27T22:53:41.624Z"
   },
   {
    "duration": 84,
    "start_time": "2023-02-27T22:53:42.850Z"
   },
   {
    "duration": 75,
    "start_time": "2023-02-27T22:54:05.729Z"
   },
   {
    "duration": 2,
    "start_time": "2023-02-27T22:54:08.082Z"
   },
   {
    "duration": 25992,
    "start_time": "2023-02-27T22:54:08.412Z"
   },
   {
    "duration": 79,
    "start_time": "2023-02-27T22:55:48.684Z"
   },
   {
    "duration": 25547,
    "start_time": "2023-02-27T23:07:25.633Z"
   },
   {
    "duration": 61550,
    "start_time": "2023-02-27T23:10:37.347Z"
   },
   {
    "duration": 4,
    "start_time": "2023-02-28T09:57:38.395Z"
   },
   {
    "duration": 1697,
    "start_time": "2023-02-28T09:57:43.699Z"
   },
   {
    "duration": 3,
    "start_time": "2023-02-28T09:57:46.348Z"
   },
   {
    "duration": 711,
    "start_time": "2023-02-28T09:57:46.784Z"
   },
   {
    "duration": 283,
    "start_time": "2023-02-28T09:57:47.497Z"
   },
   {
    "duration": 170,
    "start_time": "2023-02-28T09:57:47.781Z"
   },
   {
    "duration": 285,
    "start_time": "2023-02-28T09:57:48.048Z"
   },
   {
    "duration": 15,
    "start_time": "2023-02-28T09:57:48.588Z"
   },
   {
    "duration": 12,
    "start_time": "2023-02-28T09:57:49.090Z"
   },
   {
    "duration": 17,
    "start_time": "2023-02-28T09:57:49.593Z"
   },
   {
    "duration": 4,
    "start_time": "2023-02-28T09:57:50.608Z"
   },
   {
    "duration": 18,
    "start_time": "2023-02-28T09:57:50.950Z"
   },
   {
    "duration": 258,
    "start_time": "2023-02-28T09:57:51.292Z"
   },
   {
    "duration": 7,
    "start_time": "2023-02-28T09:57:51.639Z"
   },
   {
    "duration": 773,
    "start_time": "2023-02-28T09:57:51.978Z"
   },
   {
    "duration": 5,
    "start_time": "2023-02-28T09:57:52.755Z"
   },
   {
    "duration": 7,
    "start_time": "2023-02-28T09:57:53.049Z"
   },
   {
    "duration": 14,
    "start_time": "2023-02-28T09:57:54.099Z"
   },
   {
    "duration": 14,
    "start_time": "2023-02-28T09:57:54.616Z"
   },
   {
    "duration": 11,
    "start_time": "2023-02-28T09:57:55.096Z"
   },
   {
    "duration": 55,
    "start_time": "2023-02-28T09:57:55.842Z"
   },
   {
    "duration": 18,
    "start_time": "2023-02-28T09:57:56.248Z"
   },
   {
    "duration": 15,
    "start_time": "2023-02-28T09:57:56.592Z"
   },
   {
    "duration": 8,
    "start_time": "2023-02-28T09:57:56.976Z"
   },
   {
    "duration": 22,
    "start_time": "2023-02-28T09:57:57.346Z"
   },
   {
    "duration": 213,
    "start_time": "2023-02-28T09:57:57.889Z"
   },
   {
    "duration": 66,
    "start_time": "2023-02-28T09:57:58.248Z"
   },
   {
    "duration": 4,
    "start_time": "2023-02-28T09:57:58.793Z"
   },
   {
    "duration": 4353,
    "start_time": "2023-02-28T09:57:59.547Z"
   },
   {
    "duration": 4,
    "start_time": "2023-02-28T09:58:03.902Z"
   },
   {
    "duration": 1370,
    "start_time": "2023-02-28T09:58:03.923Z"
   },
   {
    "duration": 3,
    "start_time": "2023-02-28T09:58:05.295Z"
   },
   {
    "duration": 95,
    "start_time": "2023-02-28T09:58:05.300Z"
   },
   {
    "duration": 53,
    "start_time": "2023-02-28T09:58:05.398Z"
   },
   {
    "duration": 2520,
    "start_time": "2023-02-28T09:58:05.454Z"
   },
   {
    "duration": 441,
    "start_time": "2023-02-28T09:58:07.976Z"
   },
   {
    "duration": 25,
    "start_time": "2023-02-28T09:58:08.421Z"
   },
   {
    "duration": 32,
    "start_time": "2023-02-28T09:58:08.449Z"
   },
   {
    "duration": 4,
    "start_time": "2023-02-28T09:58:08.483Z"
   },
   {
    "duration": 2296,
    "start_time": "2023-02-28T09:58:08.489Z"
   },
   {
    "duration": 22,
    "start_time": "2023-02-28T09:58:10.786Z"
   },
   {
    "duration": 4,
    "start_time": "2023-02-28T09:58:10.809Z"
   },
   {
    "duration": 12,
    "start_time": "2023-02-28T09:58:10.826Z"
   },
   {
    "duration": 20,
    "start_time": "2023-02-28T09:58:10.840Z"
   },
   {
    "duration": 12,
    "start_time": "2023-02-28T09:58:11.415Z"
   },
   {
    "duration": 30,
    "start_time": "2023-02-28T09:58:13.119Z"
   },
   {
    "duration": 15,
    "start_time": "2023-02-28T09:58:13.610Z"
   },
   {
    "duration": 22,
    "start_time": "2023-02-28T09:58:14.896Z"
   },
   {
    "duration": 39,
    "start_time": "2023-02-28T09:58:15.508Z"
   },
   {
    "duration": 3,
    "start_time": "2023-02-28T09:58:31.248Z"
   },
   {
    "duration": 30607,
    "start_time": "2023-02-28T09:58:36.543Z"
   },
   {
    "duration": 217,
    "start_time": "2023-02-28T10:11:25.246Z"
   },
   {
    "duration": 106976,
    "start_time": "2023-02-28T10:11:47.995Z"
   },
   {
    "duration": 0,
    "start_time": "2023-02-28T10:13:35.076Z"
   },
   {
    "duration": 87,
    "start_time": "2023-02-28T10:18:26.269Z"
   },
   {
    "duration": 117740,
    "start_time": "2023-02-28T10:19:27.404Z"
   },
   {
    "duration": 1561,
    "start_time": "2023-02-28T10:21:34.865Z"
   },
   {
    "duration": 3,
    "start_time": "2023-02-28T10:21:36.428Z"
   },
   {
    "duration": 699,
    "start_time": "2023-02-28T10:21:36.433Z"
   },
   {
    "duration": 262,
    "start_time": "2023-02-28T10:21:37.134Z"
   },
   {
    "duration": 150,
    "start_time": "2023-02-28T10:21:37.397Z"
   },
   {
    "duration": 279,
    "start_time": "2023-02-28T10:21:37.549Z"
   },
   {
    "duration": 16,
    "start_time": "2023-02-28T10:21:37.830Z"
   },
   {
    "duration": 14,
    "start_time": "2023-02-28T10:21:38.153Z"
   },
   {
    "duration": 17,
    "start_time": "2023-02-28T10:21:38.624Z"
   },
   {
    "duration": 3,
    "start_time": "2023-02-28T10:21:39.920Z"
   },
   {
    "duration": 19,
    "start_time": "2023-02-28T10:21:40.320Z"
   },
   {
    "duration": 217,
    "start_time": "2023-02-28T10:21:40.718Z"
   },
   {
    "duration": 6,
    "start_time": "2023-02-28T10:21:41.120Z"
   },
   {
    "duration": 640,
    "start_time": "2023-02-28T10:21:41.537Z"
   },
   {
    "duration": 3,
    "start_time": "2023-02-28T10:21:42.351Z"
   },
   {
    "duration": 6,
    "start_time": "2023-02-28T10:21:42.759Z"
   },
   {
    "duration": 12,
    "start_time": "2023-02-28T10:21:44.003Z"
   },
   {
    "duration": 7,
    "start_time": "2023-02-28T10:21:45.184Z"
   },
   {
    "duration": 14,
    "start_time": "2023-02-28T10:21:45.193Z"
   },
   {
    "duration": 54,
    "start_time": "2023-02-28T10:21:46.088Z"
   },
   {
    "duration": 11,
    "start_time": "2023-02-28T10:21:46.521Z"
   },
   {
    "duration": 16,
    "start_time": "2023-02-28T10:21:46.995Z"
   },
   {
    "duration": 8,
    "start_time": "2023-02-28T10:21:47.504Z"
   },
   {
    "duration": 22,
    "start_time": "2023-02-28T10:21:48.248Z"
   },
   {
    "duration": 181,
    "start_time": "2023-02-28T10:21:49.220Z"
   },
   {
    "duration": 42,
    "start_time": "2023-02-28T10:21:49.847Z"
   },
   {
    "duration": 4,
    "start_time": "2023-02-28T10:21:51.239Z"
   },
   {
    "duration": 3946,
    "start_time": "2023-02-28T10:21:52.144Z"
   },
   {
    "duration": 6,
    "start_time": "2023-02-28T10:21:56.092Z"
   },
   {
    "duration": 1347,
    "start_time": "2023-02-28T10:21:56.100Z"
   },
   {
    "duration": 4,
    "start_time": "2023-02-28T10:21:57.449Z"
   },
   {
    "duration": 90,
    "start_time": "2023-02-28T10:21:57.455Z"
   },
   {
    "duration": 24,
    "start_time": "2023-02-28T10:21:57.546Z"
   },
   {
    "duration": 2188,
    "start_time": "2023-02-28T10:21:57.572Z"
   },
   {
    "duration": 394,
    "start_time": "2023-02-28T10:21:59.763Z"
   },
   {
    "duration": 19,
    "start_time": "2023-02-28T10:22:00.159Z"
   },
   {
    "duration": 39,
    "start_time": "2023-02-28T10:22:00.295Z"
   },
   {
    "duration": 3,
    "start_time": "2023-02-28T10:22:01.058Z"
   },
   {
    "duration": 1927,
    "start_time": "2023-02-28T10:22:01.724Z"
   },
   {
    "duration": 27,
    "start_time": "2023-02-28T10:22:05.040Z"
   },
   {
    "duration": 3,
    "start_time": "2023-02-28T10:22:08.767Z"
   },
   {
    "duration": 3,
    "start_time": "2023-02-28T10:22:10.639Z"
   },
   {
    "duration": 5,
    "start_time": "2023-02-28T10:22:11.922Z"
   },
   {
    "duration": 13,
    "start_time": "2023-02-28T10:22:12.576Z"
   },
   {
    "duration": 10,
    "start_time": "2023-02-28T10:22:15.467Z"
   },
   {
    "duration": 16,
    "start_time": "2023-02-28T10:22:18.325Z"
   },
   {
    "duration": 24,
    "start_time": "2023-02-28T10:22:19.873Z"
   },
   {
    "duration": 30,
    "start_time": "2023-02-28T10:22:20.287Z"
   },
   {
    "duration": 3,
    "start_time": "2023-02-28T10:22:22.079Z"
   },
   {
    "duration": 203,
    "start_time": "2023-02-28T10:22:26.600Z"
   },
   {
    "duration": 28962,
    "start_time": "2023-02-28T10:22:47.319Z"
   },
   {
    "duration": 68066,
    "start_time": "2023-02-28T10:23:26.241Z"
   },
   {
    "duration": 3054764,
    "start_time": "2023-02-28T10:24:47.568Z"
   },
   {
    "duration": 8428378,
    "start_time": "2023-02-28T11:15:42.335Z"
   },
   {
    "duration": 24,
    "start_time": "2023-02-28T13:36:10.715Z"
   },
   {
    "duration": 157,
    "start_time": "2023-02-28T13:36:10.744Z"
   },
   {
    "duration": 157,
    "start_time": "2023-02-28T13:43:52.502Z"
   },
   {
    "duration": 94,
    "start_time": "2023-02-28T13:43:59.117Z"
   },
   {
    "duration": 110,
    "start_time": "2023-02-28T13:44:29.493Z"
   },
   {
    "duration": 113,
    "start_time": "2023-02-28T13:44:40.598Z"
   },
   {
    "duration": 116,
    "start_time": "2023-02-28T13:45:36.653Z"
   },
   {
    "duration": 9188,
    "start_time": "2023-02-28T13:45:45.734Z"
   },
   {
    "duration": 30590,
    "start_time": "2023-02-28T13:45:54.931Z"
   },
   {
    "duration": 1579,
    "start_time": "2023-02-28T13:50:56.355Z"
   },
   {
    "duration": 6,
    "start_time": "2023-02-28T13:50:57.938Z"
   },
   {
    "duration": 802,
    "start_time": "2023-02-28T13:50:57.946Z"
   },
   {
    "duration": 5,
    "start_time": "2023-02-28T13:51:05.151Z"
   },
   {
    "duration": 1603,
    "start_time": "2023-02-28T13:51:05.169Z"
   },
   {
    "duration": 3,
    "start_time": "2023-02-28T13:51:06.774Z"
   },
   {
    "duration": 775,
    "start_time": "2023-02-28T13:51:06.779Z"
   },
   {
    "duration": 291,
    "start_time": "2023-02-28T13:51:07.556Z"
   },
   {
    "duration": 174,
    "start_time": "2023-02-28T13:51:07.848Z"
   },
   {
    "duration": 300,
    "start_time": "2023-02-28T13:51:08.029Z"
   },
   {
    "duration": 19,
    "start_time": "2023-02-28T13:51:08.337Z"
   },
   {
    "duration": 22,
    "start_time": "2023-02-28T13:51:08.358Z"
   },
   {
    "duration": 20,
    "start_time": "2023-02-28T13:51:08.382Z"
   },
   {
    "duration": 4,
    "start_time": "2023-02-28T13:51:08.403Z"
   },
   {
    "duration": 66,
    "start_time": "2023-02-28T13:51:08.408Z"
   },
   {
    "duration": 284,
    "start_time": "2023-02-28T13:51:08.476Z"
   },
   {
    "duration": 7,
    "start_time": "2023-02-28T13:51:08.775Z"
   },
   {
    "duration": 789,
    "start_time": "2023-02-28T13:51:08.784Z"
   },
   {
    "duration": 4,
    "start_time": "2023-02-28T13:51:09.575Z"
   },
   {
    "duration": 24,
    "start_time": "2023-02-28T13:51:09.582Z"
   },
   {
    "duration": 31,
    "start_time": "2023-02-28T13:51:09.608Z"
   },
   {
    "duration": 24,
    "start_time": "2023-02-28T13:51:09.644Z"
   },
   {
    "duration": 16,
    "start_time": "2023-02-28T13:51:09.670Z"
   },
   {
    "duration": 67,
    "start_time": "2023-02-28T13:51:09.688Z"
   },
   {
    "duration": 13,
    "start_time": "2023-02-28T13:51:09.758Z"
   },
   {
    "duration": 25,
    "start_time": "2023-02-28T13:51:09.773Z"
   },
   {
    "duration": 61,
    "start_time": "2023-02-28T13:51:09.800Z"
   },
   {
    "duration": 31,
    "start_time": "2023-02-28T13:51:09.863Z"
   },
   {
    "duration": 250,
    "start_time": "2023-02-28T13:51:09.895Z"
   },
   {
    "duration": 41,
    "start_time": "2023-02-28T13:51:10.150Z"
   },
   {
    "duration": 4,
    "start_time": "2023-02-28T13:51:10.193Z"
   },
   {
    "duration": 4412,
    "start_time": "2023-02-28T13:51:10.198Z"
   },
   {
    "duration": 26,
    "start_time": "2023-02-28T13:51:14.613Z"
   },
   {
    "duration": 1982,
    "start_time": "2023-02-28T13:51:14.641Z"
   },
   {
    "duration": 7,
    "start_time": "2023-02-28T13:51:16.625Z"
   },
   {
    "duration": 196,
    "start_time": "2023-02-28T13:51:16.634Z"
   },
   {
    "duration": 91,
    "start_time": "2023-02-28T13:51:16.832Z"
   },
   {
    "duration": 2862,
    "start_time": "2023-02-28T13:51:16.926Z"
   },
   {
    "duration": 470,
    "start_time": "2023-02-28T13:51:19.790Z"
   },
   {
    "duration": 23,
    "start_time": "2023-02-28T13:51:20.262Z"
   },
   {
    "duration": 70,
    "start_time": "2023-02-28T13:51:20.286Z"
   },
   {
    "duration": 4,
    "start_time": "2023-02-28T13:51:20.358Z"
   },
   {
    "duration": 2171,
    "start_time": "2023-02-28T13:51:20.364Z"
   },
   {
    "duration": 29,
    "start_time": "2023-02-28T13:51:22.541Z"
   },
   {
    "duration": 4,
    "start_time": "2023-02-28T13:51:22.572Z"
   },
   {
    "duration": 4,
    "start_time": "2023-02-28T13:51:22.578Z"
   },
   {
    "duration": 7,
    "start_time": "2023-02-28T13:51:22.584Z"
   },
   {
    "duration": 40,
    "start_time": "2023-02-28T13:51:22.593Z"
   },
   {
    "duration": 34,
    "start_time": "2023-02-28T13:51:22.637Z"
   },
   {
    "duration": 15,
    "start_time": "2023-02-28T13:51:22.672Z"
   },
   {
    "duration": 19,
    "start_time": "2023-02-28T13:51:22.689Z"
   },
   {
    "duration": 51,
    "start_time": "2023-02-28T13:51:22.710Z"
   },
   {
    "duration": 8,
    "start_time": "2023-02-28T13:51:22.764Z"
   },
   {
    "duration": 7,
    "start_time": "2023-02-28T13:51:22.774Z"
   },
   {
    "duration": 5876,
    "start_time": "2023-02-28T13:51:22.783Z"
   },
   {
    "duration": 3,
    "start_time": "2023-02-28T13:51:28.661Z"
   },
   {
    "duration": 12610,
    "start_time": "2023-02-28T13:51:28.666Z"
   },
   {
    "duration": 3,
    "start_time": "2023-02-28T13:51:41.277Z"
   },
   {
    "duration": 58614,
    "start_time": "2023-02-28T13:51:41.282Z"
   },
   {
    "duration": 3,
    "start_time": "2023-02-28T13:52:39.898Z"
   },
   {
    "duration": 132651,
    "start_time": "2023-02-28T13:52:39.903Z"
   },
   {
    "duration": 4,
    "start_time": "2023-02-28T13:54:52.556Z"
   },
   {
    "duration": 8581,
    "start_time": "2023-02-28T13:54:52.561Z"
   },
   {
    "duration": 13,
    "start_time": "2023-02-28T13:55:01.145Z"
   },
   {
    "duration": 28287,
    "start_time": "2023-02-28T13:55:01.161Z"
   },
   {
    "duration": 6,
    "start_time": "2023-02-28T13:55:29.453Z"
   },
   {
    "duration": 4,
    "start_time": "2023-02-28T13:58:04.082Z"
   },
   {
    "duration": 6,
    "start_time": "2023-02-28T13:58:07.325Z"
   },
   {
    "duration": 3,
    "start_time": "2023-02-28T14:13:57.426Z"
   },
   {
    "duration": 1460,
    "start_time": "2023-02-28T14:13:57.586Z"
   },
   {
    "duration": 3,
    "start_time": "2023-02-28T14:13:59.048Z"
   },
   {
    "duration": 686,
    "start_time": "2023-02-28T14:13:59.053Z"
   },
   {
    "duration": 271,
    "start_time": "2023-02-28T14:13:59.741Z"
   },
   {
    "duration": 166,
    "start_time": "2023-02-28T14:14:00.022Z"
   },
   {
    "duration": 290,
    "start_time": "2023-02-28T14:14:00.190Z"
   },
   {
    "duration": 16,
    "start_time": "2023-02-28T14:14:00.482Z"
   },
   {
    "duration": 31,
    "start_time": "2023-02-28T14:14:00.500Z"
   },
   {
    "duration": 18,
    "start_time": "2023-02-28T14:14:00.972Z"
   },
   {
    "duration": 4,
    "start_time": "2023-02-28T14:14:02.098Z"
   },
   {
    "duration": 21,
    "start_time": "2023-02-28T14:14:02.467Z"
   },
   {
    "duration": 251,
    "start_time": "2023-02-28T14:14:02.837Z"
   },
   {
    "duration": 5,
    "start_time": "2023-02-28T14:14:03.235Z"
   },
   {
    "duration": 698,
    "start_time": "2023-02-28T14:14:03.612Z"
   },
   {
    "duration": 4,
    "start_time": "2023-02-28T14:14:04.394Z"
   },
   {
    "duration": 6,
    "start_time": "2023-02-28T14:14:04.819Z"
   },
   {
    "duration": 14,
    "start_time": "2023-02-28T14:14:06.571Z"
   },
   {
    "duration": 7,
    "start_time": "2023-02-28T14:14:07.138Z"
   },
   {
    "duration": 10,
    "start_time": "2023-02-28T14:14:07.669Z"
   },
   {
    "duration": 50,
    "start_time": "2023-02-28T14:14:08.483Z"
   },
   {
    "duration": 9,
    "start_time": "2023-02-28T14:14:08.891Z"
   },
   {
    "duration": 16,
    "start_time": "2023-02-28T14:14:09.227Z"
   },
   {
    "duration": 8,
    "start_time": "2023-02-28T14:14:09.655Z"
   },
   {
    "duration": 22,
    "start_time": "2023-02-28T14:14:10.011Z"
   },
   {
    "duration": 188,
    "start_time": "2023-02-28T14:14:10.578Z"
   },
   {
    "duration": 43,
    "start_time": "2023-02-28T14:14:10.980Z"
   },
   {
    "duration": 4,
    "start_time": "2023-02-28T14:14:11.635Z"
   },
   {
    "duration": 4067,
    "start_time": "2023-02-28T14:14:12.499Z"
   },
   {
    "duration": 5,
    "start_time": "2023-02-28T14:14:16.569Z"
   },
   {
    "duration": 1297,
    "start_time": "2023-02-28T14:14:16.576Z"
   },
   {
    "duration": 3,
    "start_time": "2023-02-28T14:14:17.876Z"
   },
   {
    "duration": 98,
    "start_time": "2023-02-28T14:14:17.881Z"
   },
   {
    "duration": 26,
    "start_time": "2023-02-28T14:14:17.981Z"
   },
   {
    "duration": 2320,
    "start_time": "2023-02-28T14:14:18.009Z"
   },
   {
    "duration": 424,
    "start_time": "2023-02-28T14:14:20.332Z"
   },
   {
    "duration": 20,
    "start_time": "2023-02-28T14:14:20.757Z"
   },
   {
    "duration": 35,
    "start_time": "2023-02-28T14:14:21.421Z"
   },
   {
    "duration": 3,
    "start_time": "2023-02-28T14:14:22.436Z"
   },
   {
    "duration": 2101,
    "start_time": "2023-02-28T14:14:23.468Z"
   },
   {
    "duration": 23,
    "start_time": "2023-02-28T14:14:28.068Z"
   },
   {
    "duration": 4,
    "start_time": "2023-02-28T14:14:36.466Z"
   },
   {
    "duration": 3,
    "start_time": "2023-02-28T14:14:37.834Z"
   },
   {
    "duration": 5,
    "start_time": "2023-02-28T14:14:41.738Z"
   },
   {
    "duration": 13,
    "start_time": "2023-02-28T14:14:42.884Z"
   },
   {
    "duration": 5,
    "start_time": "2023-02-28T14:15:29.730Z"
   },
   {
    "duration": 12,
    "start_time": "2023-02-28T14:15:31.402Z"
   },
   {
    "duration": 8,
    "start_time": "2023-02-28T14:15:33.515Z"
   },
   {
    "duration": 14,
    "start_time": "2023-02-28T14:15:35.025Z"
   },
   {
    "duration": 23,
    "start_time": "2023-02-28T14:15:42.937Z"
   },
   {
    "duration": 34,
    "start_time": "2023-02-28T14:15:45.515Z"
   },
   {
    "duration": 3,
    "start_time": "2023-02-28T14:15:47.019Z"
   },
   {
    "duration": 3,
    "start_time": "2023-02-28T14:15:52.367Z"
   },
   {
    "duration": 5,
    "start_time": "2023-02-28T14:15:54.567Z"
   },
   {
    "duration": 5270,
    "start_time": "2023-02-28T14:16:10.786Z"
   },
   {
    "duration": 4,
    "start_time": "2023-02-28T14:16:21.167Z"
   },
   {
    "duration": 11841,
    "start_time": "2023-02-28T14:16:27.966Z"
   },
   {
    "duration": 74,
    "start_time": "2023-02-28T14:22:17.269Z"
   },
   {
    "duration": 124,
    "start_time": "2023-02-28T14:22:23.010Z"
   },
   {
    "duration": 4,
    "start_time": "2023-02-28T14:22:50.592Z"
   },
   {
    "duration": 1438,
    "start_time": "2023-02-28T14:22:50.784Z"
   },
   {
    "duration": 3,
    "start_time": "2023-02-28T14:22:52.224Z"
   },
   {
    "duration": 707,
    "start_time": "2023-02-28T14:22:52.228Z"
   },
   {
    "duration": 257,
    "start_time": "2023-02-28T14:22:52.937Z"
   },
   {
    "duration": 168,
    "start_time": "2023-02-28T14:22:53.195Z"
   },
   {
    "duration": 299,
    "start_time": "2023-02-28T14:22:53.365Z"
   },
   {
    "duration": 17,
    "start_time": "2023-02-28T14:22:53.666Z"
   },
   {
    "duration": 11,
    "start_time": "2023-02-28T14:22:53.686Z"
   },
   {
    "duration": 17,
    "start_time": "2023-02-28T14:22:54.192Z"
   },
   {
    "duration": 3,
    "start_time": "2023-02-28T14:22:55.266Z"
   },
   {
    "duration": 20,
    "start_time": "2023-02-28T14:22:55.608Z"
   },
   {
    "duration": 227,
    "start_time": "2023-02-28T14:22:55.968Z"
   },
   {
    "duration": 5,
    "start_time": "2023-02-28T14:22:56.367Z"
   },
   {
    "duration": 647,
    "start_time": "2023-02-28T14:22:56.712Z"
   },
   {
    "duration": 4,
    "start_time": "2023-02-28T14:22:57.472Z"
   },
   {
    "duration": 6,
    "start_time": "2023-02-28T14:22:57.869Z"
   },
   {
    "duration": 12,
    "start_time": "2023-02-28T14:22:58.992Z"
   },
   {
    "duration": 7,
    "start_time": "2023-02-28T14:22:59.641Z"
   },
   {
    "duration": 11,
    "start_time": "2023-02-28T14:23:00.280Z"
   },
   {
    "duration": 49,
    "start_time": "2023-02-28T14:23:01.072Z"
   },
   {
    "duration": 10,
    "start_time": "2023-02-28T14:23:01.465Z"
   },
   {
    "duration": 16,
    "start_time": "2023-02-28T14:23:01.833Z"
   },
   {
    "duration": 8,
    "start_time": "2023-02-28T14:23:02.240Z"
   },
   {
    "duration": 23,
    "start_time": "2023-02-28T14:23:02.634Z"
   },
   {
    "duration": 189,
    "start_time": "2023-02-28T14:23:03.272Z"
   },
   {
    "duration": 43,
    "start_time": "2023-02-28T14:23:03.666Z"
   },
   {
    "duration": 5,
    "start_time": "2023-02-28T14:23:04.329Z"
   },
   {
    "duration": 3755,
    "start_time": "2023-02-28T14:23:05.166Z"
   },
   {
    "duration": 5,
    "start_time": "2023-02-28T14:23:10.920Z"
   },
   {
    "duration": 1337,
    "start_time": "2023-02-28T14:23:11.770Z"
   },
   {
    "duration": 4,
    "start_time": "2023-02-28T14:23:14.566Z"
   },
   {
    "duration": 81,
    "start_time": "2023-02-28T14:23:15.017Z"
   },
   {
    "duration": 26,
    "start_time": "2023-02-28T14:23:15.667Z"
   },
   {
    "duration": 2201,
    "start_time": "2023-02-28T14:23:16.633Z"
   },
   {
    "duration": 357,
    "start_time": "2023-02-28T14:23:18.836Z"
   },
   {
    "duration": 32,
    "start_time": "2023-02-28T14:23:19.195Z"
   },
   {
    "duration": 32,
    "start_time": "2023-02-28T14:23:19.229Z"
   },
   {
    "duration": 4,
    "start_time": "2023-02-28T14:23:20.617Z"
   },
   {
    "duration": 1898,
    "start_time": "2023-02-28T14:23:21.026Z"
   },
   {
    "duration": 25,
    "start_time": "2023-02-28T14:23:24.018Z"
   },
   {
    "duration": 3,
    "start_time": "2023-02-28T14:23:30.593Z"
   },
   {
    "duration": 3,
    "start_time": "2023-02-28T14:23:31.657Z"
   },
   {
    "duration": 3,
    "start_time": "2023-02-28T14:23:49.565Z"
   },
   {
    "duration": 4,
    "start_time": "2023-02-28T14:23:50.769Z"
   },
   {
    "duration": 12,
    "start_time": "2023-02-28T14:23:57.137Z"
   },
   {
    "duration": 11,
    "start_time": "2023-02-28T14:24:02.896Z"
   },
   {
    "duration": 14,
    "start_time": "2023-02-28T14:24:04.365Z"
   },
   {
    "duration": 21,
    "start_time": "2023-02-28T14:24:10.562Z"
   },
   {
    "duration": 32,
    "start_time": "2023-02-28T14:24:11.081Z"
   },
   {
    "duration": 3,
    "start_time": "2023-02-28T14:24:17.949Z"
   },
   {
    "duration": 3,
    "start_time": "2023-02-28T14:24:18.880Z"
   },
   {
    "duration": 5425,
    "start_time": "2023-02-28T14:24:29.673Z"
   },
   {
    "duration": 12135,
    "start_time": "2023-02-28T14:24:59.520Z"
   },
   {
    "duration": 3,
    "start_time": "2023-02-28T14:25:18.176Z"
   },
   {
    "duration": 12022,
    "start_time": "2023-02-28T14:25:56.040Z"
   },
   {
    "duration": 5339,
    "start_time": "2023-02-28T14:26:08.063Z"
   },
   {
    "duration": 3,
    "start_time": "2023-02-28T14:26:20.770Z"
   },
   {
    "duration": 5,
    "start_time": "2023-02-28T14:27:10.536Z"
   },
   {
    "duration": 11856,
    "start_time": "2023-02-28T14:28:23.767Z"
   },
   {
    "duration": 4,
    "start_time": "2023-02-28T14:28:35.625Z"
   },
   {
    "duration": 11,
    "start_time": "2023-02-28T14:28:35.631Z"
   },
   {
    "duration": 5,
    "start_time": "2023-02-28T14:28:55.104Z"
   },
   {
    "duration": 3,
    "start_time": "2023-02-28T14:29:04.719Z"
   },
   {
    "duration": 55507,
    "start_time": "2023-02-28T14:30:02.459Z"
   },
   {
    "duration": 4,
    "start_time": "2023-02-28T14:30:57.967Z"
   },
   {
    "duration": 120566,
    "start_time": "2023-02-28T14:31:09.736Z"
   },
   {
    "duration": 4,
    "start_time": "2023-02-28T14:33:10.303Z"
   },
   {
    "duration": 3,
    "start_time": "2023-02-28T14:41:49.865Z"
   },
   {
    "duration": 7738,
    "start_time": "2023-02-28T14:42:45.423Z"
   },
   {
    "duration": 7399,
    "start_time": "2023-02-28T14:43:14.225Z"
   },
   {
    "duration": 6495,
    "start_time": "2023-02-28T14:43:28.828Z"
   },
   {
    "duration": 11506,
    "start_time": "2023-02-28T14:43:55.123Z"
   },
   {
    "duration": 6738,
    "start_time": "2023-02-28T14:44:30.386Z"
   },
   {
    "duration": 6656,
    "start_time": "2023-02-28T14:44:51.477Z"
   },
   {
    "duration": 11670,
    "start_time": "2023-02-28T14:45:19.673Z"
   },
   {
    "duration": 3,
    "start_time": "2023-02-28T14:46:24.290Z"
   },
   {
    "duration": 4,
    "start_time": "2023-02-28T14:46:25.896Z"
   },
   {
    "duration": 4,
    "start_time": "2023-02-28T14:46:56.065Z"
   },
   {
    "duration": 4,
    "start_time": "2023-02-28T14:46:58.305Z"
   },
   {
    "duration": 10,
    "start_time": "2023-02-28T14:53:12.200Z"
   },
   {
    "duration": 1418,
    "start_time": "2023-02-28T17:13:43.661Z"
   },
   {
    "duration": 4,
    "start_time": "2023-02-28T17:13:45.083Z"
   },
   {
    "duration": 665,
    "start_time": "2023-02-28T17:13:45.447Z"
   },
   {
    "duration": 245,
    "start_time": "2023-02-28T17:13:46.147Z"
   },
   {
    "duration": 158,
    "start_time": "2023-02-28T17:13:46.527Z"
   },
   {
    "duration": 261,
    "start_time": "2023-02-28T17:13:46.872Z"
   },
   {
    "duration": 15,
    "start_time": "2023-02-28T17:13:47.447Z"
   },
   {
    "duration": 13,
    "start_time": "2023-02-28T17:13:48.015Z"
   },
   {
    "duration": 18,
    "start_time": "2023-02-28T17:13:48.562Z"
   },
   {
    "duration": 3,
    "start_time": "2023-02-28T17:13:49.679Z"
   },
   {
    "duration": 18,
    "start_time": "2023-02-28T17:13:50.095Z"
   },
   {
    "duration": 214,
    "start_time": "2023-02-28T17:13:50.470Z"
   },
   {
    "duration": 6,
    "start_time": "2023-02-28T17:13:50.847Z"
   },
   {
    "duration": 588,
    "start_time": "2023-02-28T17:13:51.223Z"
   },
   {
    "duration": 4,
    "start_time": "2023-02-28T17:13:51.998Z"
   },
   {
    "duration": 6,
    "start_time": "2023-02-28T17:13:52.375Z"
   },
   {
    "duration": 12,
    "start_time": "2023-02-28T17:13:53.511Z"
   },
   {
    "duration": 8,
    "start_time": "2023-02-28T17:13:54.087Z"
   },
   {
    "duration": 13,
    "start_time": "2023-02-28T17:13:54.654Z"
   },
   {
    "duration": 133,
    "start_time": "2023-02-28T17:13:55.416Z"
   },
   {
    "duration": 9,
    "start_time": "2023-02-28T17:13:55.848Z"
   },
   {
    "duration": 15,
    "start_time": "2023-02-28T17:13:56.199Z"
   },
   {
    "duration": 7,
    "start_time": "2023-02-28T17:13:56.591Z"
   },
   {
    "duration": 21,
    "start_time": "2023-02-28T17:13:56.978Z"
   },
   {
    "duration": 178,
    "start_time": "2023-02-28T17:13:57.566Z"
   },
   {
    "duration": 46,
    "start_time": "2023-02-28T17:13:57.950Z"
   },
   {
    "duration": 4,
    "start_time": "2023-02-28T17:13:58.547Z"
   },
   {
    "duration": 3925,
    "start_time": "2023-02-28T17:13:59.567Z"
   },
   {
    "duration": 6,
    "start_time": "2023-02-28T17:14:03.494Z"
   },
   {
    "duration": 1296,
    "start_time": "2023-02-28T17:14:03.502Z"
   },
   {
    "duration": 4,
    "start_time": "2023-02-28T17:14:04.800Z"
   },
   {
    "duration": 87,
    "start_time": "2023-02-28T17:14:04.805Z"
   },
   {
    "duration": 43,
    "start_time": "2023-02-28T17:14:04.894Z"
   },
   {
    "duration": 2099,
    "start_time": "2023-02-28T17:14:04.966Z"
   },
   {
    "duration": 340,
    "start_time": "2023-02-28T17:14:07.671Z"
   },
   {
    "duration": 20,
    "start_time": "2023-02-28T17:14:09.451Z"
   },
   {
    "duration": 35,
    "start_time": "2023-02-28T17:14:10.672Z"
   },
   {
    "duration": 3,
    "start_time": "2023-02-28T17:14:11.040Z"
   },
   {
    "duration": 1851,
    "start_time": "2023-02-28T17:14:11.320Z"
   },
   {
    "duration": 20,
    "start_time": "2023-02-28T17:14:13.172Z"
   },
   {
    "duration": 3,
    "start_time": "2023-02-28T17:14:13.951Z"
   },
   {
    "duration": 3,
    "start_time": "2023-02-28T17:14:14.319Z"
   },
   {
    "duration": 4,
    "start_time": "2023-02-28T17:14:14.695Z"
   },
   {
    "duration": 11,
    "start_time": "2023-02-28T17:14:14.893Z"
   },
   {
    "duration": 10,
    "start_time": "2023-02-28T17:14:16.407Z"
   },
   {
    "duration": 16,
    "start_time": "2023-02-28T17:14:16.862Z"
   },
   {
    "duration": 20,
    "start_time": "2023-02-28T17:14:18.398Z"
   },
   {
    "duration": 30,
    "start_time": "2023-02-28T17:14:18.784Z"
   },
   {
    "duration": 3,
    "start_time": "2023-02-28T17:14:20.095Z"
   },
   {
    "duration": 3,
    "start_time": "2023-02-28T17:14:26.431Z"
   },
   {
    "duration": 5147,
    "start_time": "2023-02-28T17:14:34.632Z"
   },
   {
    "duration": 11483,
    "start_time": "2023-02-28T17:14:44.208Z"
   },
   {
    "duration": 3,
    "start_time": "2023-02-28T17:14:58.864Z"
   },
   {
    "duration": 3,
    "start_time": "2023-02-28T17:14:59.689Z"
   },
   {
    "duration": 51126,
    "start_time": "2023-02-28T17:15:02.720Z"
   },
   {
    "duration": 117103,
    "start_time": "2023-02-28T17:15:53.848Z"
   },
   {
    "duration": 4,
    "start_time": "2023-02-28T17:18:09.378Z"
   },
   {
    "duration": 3,
    "start_time": "2023-02-28T17:18:11.450Z"
   },
   {
    "duration": 6400,
    "start_time": "2023-02-28T17:18:13.329Z"
   },
   {
    "duration": 12296,
    "start_time": "2023-02-28T17:18:19.731Z"
   },
   {
    "duration": 3,
    "start_time": "2023-02-28T17:18:48.454Z"
   },
   {
    "duration": 2,
    "start_time": "2023-02-28T17:18:51.345Z"
   },
   {
    "duration": 4,
    "start_time": "2023-02-28T17:18:55.786Z"
   },
   {
    "duration": 4,
    "start_time": "2023-02-28T17:18:57.510Z"
   },
   {
    "duration": 505,
    "start_time": "2023-02-28T17:19:08.402Z"
   },
   {
    "duration": 412,
    "start_time": "2023-02-28T17:19:29.971Z"
   },
   {
    "duration": 465,
    "start_time": "2023-02-28T17:21:06.765Z"
   },
   {
    "duration": 484,
    "start_time": "2023-02-28T17:23:28.462Z"
   },
   {
    "duration": 416,
    "start_time": "2023-02-28T17:26:47.873Z"
   },
   {
    "duration": 486,
    "start_time": "2023-02-28T17:32:23.064Z"
   },
   {
    "duration": 717,
    "start_time": "2023-02-28T17:34:40.140Z"
   },
   {
    "duration": 10,
    "start_time": "2023-02-28T17:37:21.446Z"
   },
   {
    "duration": 4,
    "start_time": "2023-02-28T17:37:48.596Z"
   },
   {
    "duration": 4,
    "start_time": "2023-02-28T17:38:07.974Z"
   },
   {
    "duration": 15,
    "start_time": "2023-02-28T17:44:37.474Z"
   },
   {
    "duration": 14,
    "start_time": "2023-02-28T17:44:51.317Z"
   },
   {
    "duration": 18,
    "start_time": "2023-02-28T17:45:44.652Z"
   },
   {
    "duration": 16,
    "start_time": "2023-02-28T17:46:34.447Z"
   },
   {
    "duration": 13,
    "start_time": "2023-02-28T17:46:38.923Z"
   },
   {
    "duration": 1655,
    "start_time": "2023-02-28T18:45:58.667Z"
   },
   {
    "duration": 14,
    "start_time": "2023-02-28T18:54:29.012Z"
   },
   {
    "duration": 16,
    "start_time": "2023-02-28T18:55:37.565Z"
   },
   {
    "duration": 1373,
    "start_time": "2023-02-28T18:56:47.075Z"
   },
   {
    "duration": 3,
    "start_time": "2023-02-28T18:56:49.380Z"
   },
   {
    "duration": 722,
    "start_time": "2023-02-28T18:56:50.110Z"
   },
   {
    "duration": 262,
    "start_time": "2023-02-28T18:56:50.834Z"
   },
   {
    "duration": 164,
    "start_time": "2023-02-28T18:56:51.097Z"
   },
   {
    "duration": 266,
    "start_time": "2023-02-28T18:56:51.398Z"
   },
   {
    "duration": 19,
    "start_time": "2023-02-28T18:56:51.948Z"
   },
   {
    "duration": 15,
    "start_time": "2023-02-28T18:56:52.490Z"
   },
   {
    "duration": 18,
    "start_time": "2023-02-28T18:56:53.007Z"
   },
   {
    "duration": 3,
    "start_time": "2023-02-28T18:56:54.101Z"
   },
   {
    "duration": 20,
    "start_time": "2023-02-28T18:56:54.430Z"
   },
   {
    "duration": 271,
    "start_time": "2023-02-28T18:56:54.894Z"
   },
   {
    "duration": 5,
    "start_time": "2023-02-28T18:56:55.279Z"
   },
   {
    "duration": 677,
    "start_time": "2023-02-28T18:56:55.614Z"
   },
   {
    "duration": 3,
    "start_time": "2023-02-28T18:56:56.566Z"
   },
   {
    "duration": 6,
    "start_time": "2023-02-28T18:56:56.961Z"
   },
   {
    "duration": 13,
    "start_time": "2023-02-28T18:56:58.222Z"
   },
   {
    "duration": 8,
    "start_time": "2023-02-28T18:56:58.823Z"
   },
   {
    "duration": 11,
    "start_time": "2023-02-28T18:56:59.462Z"
   },
   {
    "duration": 59,
    "start_time": "2023-02-28T18:57:00.406Z"
   },
   {
    "duration": 10,
    "start_time": "2023-02-28T18:57:00.918Z"
   },
   {
    "duration": 24,
    "start_time": "2023-02-28T18:57:01.518Z"
   },
   {
    "duration": 9,
    "start_time": "2023-02-28T18:57:02.086Z"
   },
   {
    "duration": 25,
    "start_time": "2023-02-28T18:57:02.839Z"
   },
   {
    "duration": 202,
    "start_time": "2023-02-28T18:57:04.336Z"
   },
   {
    "duration": 43,
    "start_time": "2023-02-28T18:57:05.374Z"
   },
   {
    "duration": 4,
    "start_time": "2023-02-28T18:57:07.567Z"
   },
   {
    "duration": 4075,
    "start_time": "2023-02-28T18:57:10.894Z"
   },
   {
    "duration": 6,
    "start_time": "2023-02-28T18:57:14.971Z"
   },
   {
    "duration": 1275,
    "start_time": "2023-02-28T18:57:14.979Z"
   },
   {
    "duration": 3,
    "start_time": "2023-02-28T18:57:16.256Z"
   },
   {
    "duration": 97,
    "start_time": "2023-02-28T18:57:16.261Z"
   },
   {
    "duration": 26,
    "start_time": "2023-02-28T18:57:16.360Z"
   },
   {
    "duration": 2240,
    "start_time": "2023-02-28T18:57:17.284Z"
   },
   {
    "duration": 382,
    "start_time": "2023-02-28T18:57:19.526Z"
   },
   {
    "duration": 26,
    "start_time": "2023-02-28T18:57:19.909Z"
   },
   {
    "duration": 33,
    "start_time": "2023-02-28T18:57:20.652Z"
   },
   {
    "duration": 3,
    "start_time": "2023-02-28T18:57:21.166Z"
   },
   {
    "duration": 2068,
    "start_time": "2023-02-28T18:57:21.680Z"
   },
   {
    "duration": 23,
    "start_time": "2023-02-28T18:57:23.750Z"
   },
   {
    "duration": 4,
    "start_time": "2023-02-28T18:57:26.527Z"
   },
   {
    "duration": 3,
    "start_time": "2023-02-28T18:57:27.478Z"
   },
   {
    "duration": 5,
    "start_time": "2023-02-28T18:57:29.701Z"
   },
   {
    "duration": 14,
    "start_time": "2023-02-28T18:57:30.614Z"
   },
   {
    "duration": 11,
    "start_time": "2023-02-28T18:57:33.198Z"
   },
   {
    "duration": 15,
    "start_time": "2023-02-28T18:57:34.153Z"
   },
   {
    "duration": 18,
    "start_time": "2023-02-28T18:57:37.183Z"
   },
   {
    "duration": 32,
    "start_time": "2023-02-28T18:57:37.663Z"
   },
   {
    "duration": 3,
    "start_time": "2023-02-28T18:57:46.191Z"
   },
   {
    "duration": 3,
    "start_time": "2023-02-28T18:57:48.710Z"
   },
   {
    "duration": 5461,
    "start_time": "2023-02-28T18:57:52.940Z"
   },
   {
    "duration": 12087,
    "start_time": "2023-02-28T18:57:58.403Z"
   },
   {
    "duration": 4,
    "start_time": "2023-02-28T18:58:15.519Z"
   },
   {
    "duration": 4,
    "start_time": "2023-02-28T18:58:16.318Z"
   },
   {
    "duration": 53895,
    "start_time": "2023-02-28T18:58:28.055Z"
   },
   {
    "duration": 3,
    "start_time": "2023-02-28T19:07:12.779Z"
   },
   {
    "duration": 2,
    "start_time": "2023-02-28T19:07:14.109Z"
   },
   {
    "duration": 5,
    "start_time": "2023-02-28T19:07:14.827Z"
   },
   {
    "duration": 11,
    "start_time": "2023-02-28T19:07:15.100Z"
   },
   {
    "duration": 9,
    "start_time": "2023-02-28T19:07:15.916Z"
   },
   {
    "duration": 11,
    "start_time": "2023-02-28T19:07:16.198Z"
   },
   {
    "duration": 19,
    "start_time": "2023-02-28T19:07:17.172Z"
   },
   {
    "duration": 28,
    "start_time": "2023-02-28T19:07:17.466Z"
   },
   {
    "duration": 3,
    "start_time": "2023-02-28T19:07:22.235Z"
   },
   {
    "duration": 3,
    "start_time": "2023-02-28T19:07:24.020Z"
   },
   {
    "duration": 5530,
    "start_time": "2023-02-28T19:07:25.664Z"
   },
   {
    "duration": 8639,
    "start_time": "2023-02-28T19:07:43.957Z"
   },
   {
    "duration": 4,
    "start_time": "2023-02-28T19:07:58.555Z"
   },
   {
    "duration": 1364,
    "start_time": "2023-02-28T19:07:58.564Z"
   },
   {
    "duration": 3,
    "start_time": "2023-02-28T19:07:59.930Z"
   },
   {
    "duration": 718,
    "start_time": "2023-02-28T19:07:59.934Z"
   },
   {
    "duration": 267,
    "start_time": "2023-02-28T19:08:00.654Z"
   },
   {
    "duration": 161,
    "start_time": "2023-02-28T19:08:00.924Z"
   },
   {
    "duration": 282,
    "start_time": "2023-02-28T19:08:01.087Z"
   },
   {
    "duration": 16,
    "start_time": "2023-02-28T19:08:01.371Z"
   },
   {
    "duration": 62,
    "start_time": "2023-02-28T19:08:01.389Z"
   },
   {
    "duration": 54,
    "start_time": "2023-02-28T19:08:01.453Z"
   },
   {
    "duration": 9,
    "start_time": "2023-02-28T19:08:01.510Z"
   },
   {
    "duration": 45,
    "start_time": "2023-02-28T19:08:01.521Z"
   },
   {
    "duration": 243,
    "start_time": "2023-02-28T19:08:01.568Z"
   },
   {
    "duration": 9,
    "start_time": "2023-02-28T19:08:01.812Z"
   },
   {
    "duration": 676,
    "start_time": "2023-02-28T19:08:01.824Z"
   },
   {
    "duration": 3,
    "start_time": "2023-02-28T19:08:02.501Z"
   },
   {
    "duration": 16,
    "start_time": "2023-02-28T19:08:02.506Z"
   },
   {
    "duration": 24,
    "start_time": "2023-02-28T19:08:02.523Z"
   },
   {
    "duration": 9,
    "start_time": "2023-02-28T19:08:02.548Z"
   },
   {
    "duration": 15,
    "start_time": "2023-02-28T19:08:02.558Z"
   },
   {
    "duration": 71,
    "start_time": "2023-02-28T19:08:02.575Z"
   },
   {
    "duration": 10,
    "start_time": "2023-02-28T19:08:02.647Z"
   },
   {
    "duration": 17,
    "start_time": "2023-02-28T19:08:02.660Z"
   },
   {
    "duration": 8,
    "start_time": "2023-02-28T19:08:02.679Z"
   },
   {
    "duration": 48,
    "start_time": "2023-02-28T19:08:02.689Z"
   },
   {
    "duration": 214,
    "start_time": "2023-02-28T19:08:02.738Z"
   },
   {
    "duration": 44,
    "start_time": "2023-02-28T19:08:02.954Z"
   },
   {
    "duration": 21,
    "start_time": "2023-02-28T19:08:03.001Z"
   },
   {
    "duration": 3730,
    "start_time": "2023-02-28T19:08:03.026Z"
   },
   {
    "duration": 6,
    "start_time": "2023-02-28T19:08:06.757Z"
   },
   {
    "duration": 1395,
    "start_time": "2023-02-28T19:08:06.765Z"
   },
   {
    "duration": 3,
    "start_time": "2023-02-28T19:08:08.162Z"
   },
   {
    "duration": 86,
    "start_time": "2023-02-28T19:08:08.167Z"
   },
   {
    "duration": 34,
    "start_time": "2023-02-28T19:08:08.255Z"
   },
   {
    "duration": 2047,
    "start_time": "2023-02-28T19:08:08.291Z"
   },
   {
    "duration": 361,
    "start_time": "2023-02-28T19:08:10.340Z"
   },
   {
    "duration": 23,
    "start_time": "2023-02-28T19:08:10.702Z"
   },
   {
    "duration": 32,
    "start_time": "2023-02-28T19:08:10.727Z"
   },
   {
    "duration": 3,
    "start_time": "2023-02-28T19:08:10.761Z"
   },
   {
    "duration": 1817,
    "start_time": "2023-02-28T19:08:10.765Z"
   },
   {
    "duration": 21,
    "start_time": "2023-02-28T19:08:12.583Z"
   },
   {
    "duration": 16,
    "start_time": "2023-02-28T19:08:12.606Z"
   },
   {
    "duration": 7,
    "start_time": "2023-02-28T19:08:12.623Z"
   },
   {
    "duration": 10,
    "start_time": "2023-02-28T19:08:12.631Z"
   },
   {
    "duration": 13,
    "start_time": "2023-02-28T19:08:12.643Z"
   },
   {
    "duration": 19,
    "start_time": "2023-02-28T19:08:12.658Z"
   },
   {
    "duration": 15,
    "start_time": "2023-02-28T19:08:12.679Z"
   },
   {
    "duration": 36,
    "start_time": "2023-02-28T19:08:12.696Z"
   },
   {
    "duration": 30,
    "start_time": "2023-02-28T19:08:12.733Z"
   },
   {
    "duration": 3,
    "start_time": "2023-02-28T19:08:12.765Z"
   },
   {
    "duration": 8,
    "start_time": "2023-02-28T19:08:12.769Z"
   },
   {
    "duration": 5137,
    "start_time": "2023-02-28T19:08:12.779Z"
   },
   {
    "duration": 11874,
    "start_time": "2023-02-28T19:08:17.917Z"
   },
   {
    "duration": 3,
    "start_time": "2023-02-28T19:08:29.792Z"
   },
   {
    "duration": 24,
    "start_time": "2023-02-28T19:08:29.797Z"
   },
   {
    "duration": 50024,
    "start_time": "2023-02-28T19:08:29.823Z"
   },
   {
    "duration": 114206,
    "start_time": "2023-02-28T19:09:19.849Z"
   },
   {
    "duration": 123,
    "start_time": "2023-02-28T19:11:14.057Z"
   },
   {
    "duration": 1,
    "start_time": "2023-02-28T19:11:14.181Z"
   },
   {
    "duration": 0,
    "start_time": "2023-02-28T19:11:14.184Z"
   },
   {
    "duration": 0,
    "start_time": "2023-02-28T19:11:14.185Z"
   },
   {
    "duration": 0,
    "start_time": "2023-02-28T19:11:14.187Z"
   },
   {
    "duration": 0,
    "start_time": "2023-02-28T19:11:14.189Z"
   },
   {
    "duration": 0,
    "start_time": "2023-02-28T19:11:14.189Z"
   },
   {
    "duration": 0,
    "start_time": "2023-02-28T19:11:14.190Z"
   },
   {
    "duration": 0,
    "start_time": "2023-02-28T19:11:14.191Z"
   },
   {
    "duration": 0,
    "start_time": "2023-02-28T19:11:14.192Z"
   },
   {
    "duration": 0,
    "start_time": "2023-02-28T19:11:14.193Z"
   },
   {
    "duration": 0,
    "start_time": "2023-02-28T19:11:14.221Z"
   },
   {
    "duration": 0,
    "start_time": "2023-02-28T19:11:14.222Z"
   },
   {
    "duration": 13,
    "start_time": "2023-02-28T19:42:43.556Z"
   },
   {
    "duration": 3,
    "start_time": "2023-02-28T19:43:00.738Z"
   },
   {
    "duration": 3,
    "start_time": "2023-02-28T19:43:01.113Z"
   },
   {
    "duration": 7975,
    "start_time": "2023-02-28T19:43:02.050Z"
   },
   {
    "duration": 12702,
    "start_time": "2023-02-28T19:43:10.027Z"
   },
   {
    "duration": 87,
    "start_time": "2023-02-28T19:43:22.735Z"
   },
   {
    "duration": 8,
    "start_time": "2023-02-28T19:43:22.824Z"
   },
   {
    "duration": 7,
    "start_time": "2023-02-28T19:43:22.834Z"
   },
   {
    "duration": 16,
    "start_time": "2023-02-28T19:43:22.842Z"
   },
   {
    "duration": 507,
    "start_time": "2023-02-28T19:43:22.860Z"
   },
   {
    "duration": 828,
    "start_time": "2023-02-28T19:43:23.368Z"
   },
   {
    "duration": 3,
    "start_time": "2023-02-28T19:43:24.198Z"
   },
   {
    "duration": 30,
    "start_time": "2023-02-28T19:43:24.204Z"
   },
   {
    "duration": 325,
    "start_time": "2023-02-28T19:45:16.463Z"
   },
   {
    "duration": 193,
    "start_time": "2023-02-28T19:46:38.940Z"
   },
   {
    "duration": 328,
    "start_time": "2023-02-28T19:49:05.031Z"
   },
   {
    "duration": 191,
    "start_time": "2023-02-28T19:49:54.783Z"
   },
   {
    "duration": 15,
    "start_time": "2023-02-28T19:50:23.240Z"
   },
   {
    "duration": 223,
    "start_time": "2023-02-28T19:50:28.623Z"
   },
   {
    "duration": 3,
    "start_time": "2023-02-28T19:54:39.460Z"
   },
   {
    "duration": 1455,
    "start_time": "2023-02-28T19:54:39.465Z"
   },
   {
    "duration": 3,
    "start_time": "2023-02-28T19:54:40.922Z"
   },
   {
    "duration": 718,
    "start_time": "2023-02-28T19:54:40.927Z"
   },
   {
    "duration": 265,
    "start_time": "2023-02-28T19:54:41.647Z"
   },
   {
    "duration": 157,
    "start_time": "2023-02-28T19:54:41.914Z"
   },
   {
    "duration": 288,
    "start_time": "2023-02-28T19:54:42.073Z"
   },
   {
    "duration": 16,
    "start_time": "2023-02-28T19:54:42.363Z"
   },
   {
    "duration": 14,
    "start_time": "2023-02-28T19:54:42.380Z"
   },
   {
    "duration": 18,
    "start_time": "2023-02-28T19:54:42.421Z"
   },
   {
    "duration": 4,
    "start_time": "2023-02-28T19:54:42.442Z"
   },
   {
    "duration": 23,
    "start_time": "2023-02-28T19:54:42.448Z"
   },
   {
    "duration": 258,
    "start_time": "2023-02-28T19:54:42.473Z"
   },
   {
    "duration": 5,
    "start_time": "2023-02-28T19:54:42.732Z"
   },
   {
    "duration": 679,
    "start_time": "2023-02-28T19:54:42.739Z"
   },
   {
    "duration": 4,
    "start_time": "2023-02-28T19:54:43.421Z"
   },
   {
    "duration": 9,
    "start_time": "2023-02-28T19:54:43.426Z"
   },
   {
    "duration": 13,
    "start_time": "2023-02-28T19:54:43.437Z"
   },
   {
    "duration": 7,
    "start_time": "2023-02-28T19:54:43.452Z"
   },
   {
    "duration": 17,
    "start_time": "2023-02-28T19:54:43.460Z"
   },
   {
    "duration": 83,
    "start_time": "2023-02-28T19:54:43.478Z"
   },
   {
    "duration": 9,
    "start_time": "2023-02-28T19:54:43.562Z"
   },
   {
    "duration": 16,
    "start_time": "2023-02-28T19:54:43.572Z"
   },
   {
    "duration": 33,
    "start_time": "2023-02-28T19:54:43.590Z"
   },
   {
    "duration": 20,
    "start_time": "2023-02-28T19:54:43.625Z"
   },
   {
    "duration": 215,
    "start_time": "2023-02-28T19:54:43.646Z"
   },
   {
    "duration": 41,
    "start_time": "2023-02-28T19:54:43.863Z"
   },
   {
    "duration": 17,
    "start_time": "2023-02-28T19:54:43.906Z"
   },
   {
    "duration": 3906,
    "start_time": "2023-02-28T19:54:43.927Z"
   },
   {
    "duration": 5,
    "start_time": "2023-02-28T19:54:47.834Z"
   },
   {
    "duration": 1298,
    "start_time": "2023-02-28T19:54:47.841Z"
   },
   {
    "duration": 4,
    "start_time": "2023-02-28T19:54:49.141Z"
   },
   {
    "duration": 95,
    "start_time": "2023-02-28T19:54:49.146Z"
   },
   {
    "duration": 26,
    "start_time": "2023-02-28T19:54:49.243Z"
   },
   {
    "duration": 2162,
    "start_time": "2023-02-28T19:54:49.271Z"
   },
   {
    "duration": 377,
    "start_time": "2023-02-28T19:54:51.435Z"
   },
   {
    "duration": 28,
    "start_time": "2023-02-28T19:54:51.814Z"
   },
   {
    "duration": 32,
    "start_time": "2023-02-28T19:54:51.845Z"
   },
   {
    "duration": 4,
    "start_time": "2023-02-28T19:54:51.879Z"
   },
   {
    "duration": 2022,
    "start_time": "2023-02-28T19:54:51.921Z"
   },
   {
    "duration": 20,
    "start_time": "2023-02-28T19:54:53.946Z"
   },
   {
    "duration": 3,
    "start_time": "2023-02-28T19:54:53.968Z"
   },
   {
    "duration": 5,
    "start_time": "2023-02-28T19:54:53.973Z"
   },
   {
    "duration": 6,
    "start_time": "2023-02-28T19:54:53.979Z"
   },
   {
    "duration": 42,
    "start_time": "2023-02-28T19:54:53.987Z"
   },
   {
    "duration": 12,
    "start_time": "2023-02-28T19:54:54.030Z"
   },
   {
    "duration": 13,
    "start_time": "2023-02-28T19:54:54.044Z"
   },
   {
    "duration": 17,
    "start_time": "2023-02-28T19:54:54.058Z"
   },
   {
    "duration": 59,
    "start_time": "2023-02-28T19:54:54.077Z"
   },
   {
    "duration": 3,
    "start_time": "2023-02-28T19:54:54.138Z"
   },
   {
    "duration": 8,
    "start_time": "2023-02-28T19:54:54.142Z"
   },
   {
    "duration": 5221,
    "start_time": "2023-02-28T19:54:54.152Z"
   },
   {
    "duration": 11957,
    "start_time": "2023-02-28T19:54:59.375Z"
   },
   {
    "duration": 4,
    "start_time": "2023-02-28T19:55:11.334Z"
   },
   {
    "duration": 5,
    "start_time": "2023-02-28T19:55:11.340Z"
   },
   {
    "duration": 52549,
    "start_time": "2023-02-28T19:55:11.346Z"
   },
   {
    "duration": 114627,
    "start_time": "2023-02-28T19:56:03.896Z"
   },
   {
    "duration": 3,
    "start_time": "2023-02-28T19:57:58.525Z"
   },
   {
    "duration": 10,
    "start_time": "2023-02-28T19:57:58.530Z"
   },
   {
    "duration": 6983,
    "start_time": "2023-02-28T19:57:58.542Z"
   },
   {
    "duration": 11702,
    "start_time": "2023-02-28T19:58:05.527Z"
   },
   {
    "duration": 5,
    "start_time": "2023-02-28T19:58:17.322Z"
   },
   {
    "duration": 100,
    "start_time": "2023-02-28T19:58:17.329Z"
   },
   {
    "duration": 7,
    "start_time": "2023-02-28T19:58:17.431Z"
   },
   {
    "duration": 9,
    "start_time": "2023-02-28T19:58:17.439Z"
   },
   {
    "duration": 421,
    "start_time": "2023-02-28T19:58:17.449Z"
   },
   {
    "duration": 318,
    "start_time": "2023-02-28T19:58:17.872Z"
   },
   {
    "duration": 216,
    "start_time": "2023-02-28T19:58:18.192Z"
   },
   {
    "duration": 694,
    "start_time": "2023-02-28T19:58:18.410Z"
   },
   {
    "duration": 316,
    "start_time": "2023-02-28T19:58:19.105Z"
   },
   {
    "duration": 203,
    "start_time": "2023-02-28T19:58:19.422Z"
   },
   {
    "duration": 3,
    "start_time": "2023-02-28T19:58:19.627Z"
   },
   {
    "duration": 14,
    "start_time": "2023-02-28T19:58:19.631Z"
   },
   {
    "duration": 2941,
    "start_time": "2023-02-28T19:59:02.817Z"
   },
   {
    "duration": 121,
    "start_time": "2023-02-28T20:00:48.587Z"
   },
   {
    "duration": 3,
    "start_time": "2023-03-01T02:00:21.660Z"
   },
   {
    "duration": 2597,
    "start_time": "2023-03-01T02:00:21.740Z"
   },
   {
    "duration": 3,
    "start_time": "2023-03-01T02:00:24.339Z"
   },
   {
    "duration": 675,
    "start_time": "2023-03-01T02:00:24.343Z"
   },
   {
    "duration": 244,
    "start_time": "2023-03-01T02:00:25.020Z"
   },
   {
    "duration": 145,
    "start_time": "2023-03-01T02:00:25.266Z"
   },
   {
    "duration": 261,
    "start_time": "2023-03-01T02:00:25.413Z"
   },
   {
    "duration": 16,
    "start_time": "2023-03-01T02:00:25.686Z"
   },
   {
    "duration": 12,
    "start_time": "2023-03-01T02:00:25.704Z"
   },
   {
    "duration": 17,
    "start_time": "2023-03-01T02:00:25.718Z"
   },
   {
    "duration": 2,
    "start_time": "2023-03-01T02:00:25.738Z"
   },
   {
    "duration": 44,
    "start_time": "2023-03-01T02:00:25.742Z"
   },
   {
    "duration": 222,
    "start_time": "2023-03-01T02:00:25.787Z"
   },
   {
    "duration": 5,
    "start_time": "2023-03-01T02:00:26.010Z"
   },
   {
    "duration": 626,
    "start_time": "2023-03-01T02:00:26.016Z"
   },
   {
    "duration": 3,
    "start_time": "2023-03-01T02:00:26.897Z"
   },
   {
    "duration": 5,
    "start_time": "2023-03-01T02:00:27.182Z"
   },
   {
    "duration": 13,
    "start_time": "2023-03-01T02:00:28.794Z"
   },
   {
    "duration": 6,
    "start_time": "2023-03-01T02:00:31.956Z"
   },
   {
    "duration": 23,
    "start_time": "2023-03-01T02:00:38.932Z"
   },
   {
    "duration": 4,
    "start_time": "2023-03-01T02:00:53.334Z"
   },
   {
    "duration": 10,
    "start_time": "2023-03-01T02:00:57.294Z"
   },
   {
    "duration": 27,
    "start_time": "2023-03-01T02:01:04.178Z"
   },
   {
    "duration": 15,
    "start_time": "2023-03-01T02:01:23.905Z"
   },
   {
    "duration": 125,
    "start_time": "2023-03-01T02:01:44.561Z"
   },
   {
    "duration": 24,
    "start_time": "2023-03-01T02:02:04.767Z"
   },
   {
    "duration": 23,
    "start_time": "2023-03-01T02:02:15.733Z"
   },
   {
    "duration": 15,
    "start_time": "2023-03-01T02:02:22.636Z"
   },
   {
    "duration": 15,
    "start_time": "2023-03-01T02:02:31.207Z"
   },
   {
    "duration": 3,
    "start_time": "2023-03-01T02:06:47.260Z"
   },
   {
    "duration": 1699,
    "start_time": "2023-03-01T02:06:47.339Z"
   },
   {
    "duration": 2,
    "start_time": "2023-03-01T02:06:49.040Z"
   },
   {
    "duration": 661,
    "start_time": "2023-03-01T02:06:49.044Z"
   },
   {
    "duration": 232,
    "start_time": "2023-03-01T02:06:49.707Z"
   },
   {
    "duration": 131,
    "start_time": "2023-03-01T02:06:49.940Z"
   },
   {
    "duration": 252,
    "start_time": "2023-03-01T02:06:50.072Z"
   },
   {
    "duration": 14,
    "start_time": "2023-03-01T02:06:50.326Z"
   },
   {
    "duration": 11,
    "start_time": "2023-03-01T02:06:50.342Z"
   },
   {
    "duration": 34,
    "start_time": "2023-03-01T02:06:50.354Z"
   },
   {
    "duration": 3,
    "start_time": "2023-03-01T02:06:50.390Z"
   },
   {
    "duration": 19,
    "start_time": "2023-03-01T02:06:50.395Z"
   },
   {
    "duration": 229,
    "start_time": "2023-03-01T02:06:50.416Z"
   },
   {
    "duration": 4,
    "start_time": "2023-03-01T02:06:50.646Z"
   },
   {
    "duration": 606,
    "start_time": "2023-03-01T02:06:50.652Z"
   },
   {
    "duration": 3,
    "start_time": "2023-03-01T02:06:51.259Z"
   },
   {
    "duration": 7,
    "start_time": "2023-03-01T02:06:51.264Z"
   },
   {
    "duration": 13,
    "start_time": "2023-03-01T02:06:51.682Z"
   },
   {
    "duration": 6,
    "start_time": "2023-03-01T02:06:52.014Z"
   },
   {
    "duration": 10,
    "start_time": "2023-03-01T02:06:52.341Z"
   },
   {
    "duration": 54,
    "start_time": "2023-03-01T02:06:52.761Z"
   },
   {
    "duration": 8,
    "start_time": "2023-03-01T02:06:53.058Z"
   },
   {
    "duration": 15,
    "start_time": "2023-03-01T02:06:53.346Z"
   },
   {
    "duration": 7,
    "start_time": "2023-03-01T02:06:54.034Z"
   },
   {
    "duration": 22,
    "start_time": "2023-03-01T02:06:54.202Z"
   },
   {
    "duration": 186,
    "start_time": "2023-03-01T02:06:54.535Z"
   },
   {
    "duration": 47,
    "start_time": "2023-03-01T02:06:54.784Z"
   },
   {
    "duration": 3,
    "start_time": "2023-03-01T02:06:55.120Z"
   },
   {
    "duration": 3394,
    "start_time": "2023-03-01T02:06:55.632Z"
   },
   {
    "duration": 5,
    "start_time": "2023-03-01T02:06:59.029Z"
   },
   {
    "duration": 1267,
    "start_time": "2023-03-01T02:06:59.036Z"
   },
   {
    "duration": 3,
    "start_time": "2023-03-01T02:07:00.305Z"
   },
   {
    "duration": 69,
    "start_time": "2023-03-01T02:07:00.310Z"
   },
   {
    "duration": 22,
    "start_time": "2023-03-01T02:07:00.385Z"
   },
   {
    "duration": 1881,
    "start_time": "2023-03-01T02:07:00.409Z"
   },
   {
    "duration": 353,
    "start_time": "2023-03-01T02:07:02.292Z"
   },
   {
    "duration": 24,
    "start_time": "2023-03-01T02:07:02.647Z"
   },
   {
    "duration": 30,
    "start_time": "2023-03-01T02:07:02.688Z"
   },
   {
    "duration": 3,
    "start_time": "2023-03-01T02:07:02.720Z"
   },
   {
    "duration": 1708,
    "start_time": "2023-03-01T02:07:02.725Z"
   },
   {
    "duration": 25,
    "start_time": "2023-03-01T02:07:12.129Z"
   },
   {
    "duration": 26,
    "start_time": "2023-03-01T02:07:19.020Z"
   },
   {
    "duration": 24,
    "start_time": "2023-03-01T02:07:25.896Z"
   },
   {
    "duration": 1502,
    "start_time": "2023-03-01T06:23:01.169Z"
   },
   {
    "duration": 3,
    "start_time": "2023-03-01T06:23:03.786Z"
   },
   {
    "duration": 714,
    "start_time": "2023-03-01T06:23:05.465Z"
   },
   {
    "duration": 257,
    "start_time": "2023-03-01T06:23:06.393Z"
   },
   {
    "duration": 147,
    "start_time": "2023-03-01T06:23:06.745Z"
   },
   {
    "duration": 275,
    "start_time": "2023-03-01T06:23:07.136Z"
   },
   {
    "duration": 17,
    "start_time": "2023-03-01T06:23:07.697Z"
   },
   {
    "duration": 13,
    "start_time": "2023-03-01T06:23:08.281Z"
   },
   {
    "duration": 19,
    "start_time": "2023-03-01T06:23:09.041Z"
   },
   {
    "duration": 3,
    "start_time": "2023-03-01T06:23:10.546Z"
   },
   {
    "duration": 19,
    "start_time": "2023-03-01T06:23:10.941Z"
   },
   {
    "duration": 223,
    "start_time": "2023-03-01T06:23:11.361Z"
   },
   {
    "duration": 5,
    "start_time": "2023-03-01T06:23:11.744Z"
   },
   {
    "duration": 718,
    "start_time": "2023-03-01T06:23:12.153Z"
   },
   {
    "duration": 3,
    "start_time": "2023-03-01T06:23:13.282Z"
   },
   {
    "duration": 6,
    "start_time": "2023-03-01T06:23:13.680Z"
   },
   {
    "duration": 21,
    "start_time": "2023-03-01T06:23:15.353Z"
   },
   {
    "duration": 8,
    "start_time": "2023-03-01T06:23:16.140Z"
   },
   {
    "duration": 12,
    "start_time": "2023-03-01T06:23:16.992Z"
   },
   {
    "duration": 56,
    "start_time": "2023-03-01T06:23:17.946Z"
   },
   {
    "duration": 11,
    "start_time": "2023-03-01T06:23:20.435Z"
   },
   {
    "duration": 16,
    "start_time": "2023-03-01T06:23:21.339Z"
   },
   {
    "duration": 9,
    "start_time": "2023-03-01T06:23:22.039Z"
   },
   {
    "duration": 23,
    "start_time": "2023-03-01T06:23:22.602Z"
   },
   {
    "duration": 210,
    "start_time": "2023-03-01T06:23:23.570Z"
   },
   {
    "duration": 48,
    "start_time": "2023-03-01T06:23:27.890Z"
   },
   {
    "duration": 3,
    "start_time": "2023-03-01T06:23:29.298Z"
   },
   {
    "duration": 4138,
    "start_time": "2023-03-01T06:23:35.050Z"
   },
   {
    "duration": 6,
    "start_time": "2023-03-01T06:23:46.329Z"
   },
   {
    "duration": 1303,
    "start_time": "2023-03-01T06:23:47.357Z"
   },
   {
    "duration": 3,
    "start_time": "2023-03-01T06:23:55.434Z"
   },
   {
    "duration": 79,
    "start_time": "2023-03-01T06:23:55.977Z"
   },
   {
    "duration": 26,
    "start_time": "2023-03-01T06:23:56.522Z"
   },
   {
    "duration": 2268,
    "start_time": "2023-03-01T06:23:58.410Z"
   },
   {
    "duration": 256,
    "start_time": "2023-03-01T06:24:14.161Z"
   },
   {
    "duration": 164,
    "start_time": "2023-03-01T06:24:20.290Z"
   },
   {
    "duration": 2048,
    "start_time": "2023-03-01T06:26:55.392Z"
   },
   {
    "duration": 2213,
    "start_time": "2023-03-01T06:29:59.095Z"
   },
   {
    "duration": 2274,
    "start_time": "2023-03-01T06:30:28.352Z"
   },
   {
    "duration": 2071,
    "start_time": "2023-03-01T06:31:36.845Z"
   },
   {
    "duration": 2116,
    "start_time": "2023-03-01T06:31:44.871Z"
   },
   {
    "duration": 419,
    "start_time": "2023-03-01T06:32:16.086Z"
   },
   {
    "duration": 608,
    "start_time": "2023-03-01T06:32:38.264Z"
   },
   {
    "duration": 470,
    "start_time": "2023-03-01T06:32:49.110Z"
   },
   {
    "duration": 439,
    "start_time": "2023-03-01T06:33:03.429Z"
   },
   {
    "duration": 401,
    "start_time": "2023-03-01T06:34:40.605Z"
   },
   {
    "duration": 420,
    "start_time": "2023-03-01T06:37:06.653Z"
   },
   {
    "duration": 555,
    "start_time": "2023-03-01T06:37:17.982Z"
   },
   {
    "duration": 629,
    "start_time": "2023-03-01T06:39:19.963Z"
   },
   {
    "duration": 2165,
    "start_time": "2023-03-01T06:41:50.052Z"
   },
   {
    "duration": 438,
    "start_time": "2023-03-01T06:42:03.132Z"
   },
   {
    "duration": 77,
    "start_time": "2023-03-01T06:58:58.069Z"
   },
   {
    "duration": 717,
    "start_time": "2023-03-01T07:03:40.179Z"
   },
   {
    "duration": 1539,
    "start_time": "2023-03-01T07:03:47.932Z"
   },
   {
    "duration": 3,
    "start_time": "2023-03-01T07:03:51.002Z"
   },
   {
    "duration": 803,
    "start_time": "2023-03-01T07:03:53.404Z"
   },
   {
    "duration": 310,
    "start_time": "2023-03-01T07:04:55.963Z"
   },
   {
    "duration": 167,
    "start_time": "2023-03-01T07:05:01.971Z"
   },
   {
    "duration": 332,
    "start_time": "2023-03-01T07:05:06.123Z"
   },
   {
    "duration": 19,
    "start_time": "2023-03-01T07:07:04.145Z"
   },
   {
    "duration": 13,
    "start_time": "2023-03-01T07:07:25.657Z"
   },
   {
    "duration": 21,
    "start_time": "2023-03-01T07:07:31.441Z"
   },
   {
    "duration": 3,
    "start_time": "2023-03-01T07:07:35.208Z"
   },
   {
    "duration": 22,
    "start_time": "2023-03-01T07:07:38.225Z"
   },
   {
    "duration": 194,
    "start_time": "2023-03-01T07:07:40.441Z"
   },
   {
    "duration": 6,
    "start_time": "2023-03-01T07:07:46.128Z"
   },
   {
    "duration": 721,
    "start_time": "2023-03-01T07:07:47.480Z"
   },
   {
    "duration": 4,
    "start_time": "2023-03-01T07:07:51.040Z"
   },
   {
    "duration": 6,
    "start_time": "2023-03-01T07:07:54.043Z"
   },
   {
    "duration": 1401,
    "start_time": "2023-03-01T07:07:57.664Z"
   },
   {
    "duration": 9,
    "start_time": "2023-03-01T07:08:15.067Z"
   },
   {
    "duration": 9,
    "start_time": "2023-03-01T07:08:17.328Z"
   },
   {
    "duration": 22,
    "start_time": "2023-03-01T07:08:20.961Z"
   },
   {
    "duration": 13,
    "start_time": "2023-03-01T07:09:27.066Z"
   },
   {
    "duration": 61,
    "start_time": "2023-03-01T07:09:39.616Z"
   },
   {
    "duration": 14,
    "start_time": "2023-03-01T07:09:42.441Z"
   },
   {
    "duration": 17,
    "start_time": "2023-03-01T07:09:43.639Z"
   },
   {
    "duration": 12,
    "start_time": "2023-03-01T07:09:46.400Z"
   },
   {
    "duration": 36,
    "start_time": "2023-03-01T07:09:47.921Z"
   },
   {
    "duration": 204,
    "start_time": "2023-03-01T07:09:50.871Z"
   },
   {
    "duration": 18,
    "start_time": "2023-03-01T07:09:59.610Z"
   },
   {
    "duration": 5,
    "start_time": "2023-03-01T07:10:03.144Z"
   },
   {
    "duration": 4300,
    "start_time": "2023-03-01T07:10:08.904Z"
   },
   {
    "duration": 6,
    "start_time": "2023-03-01T07:10:16.031Z"
   },
   {
    "duration": 1389,
    "start_time": "2023-03-01T07:10:17.289Z"
   },
   {
    "duration": 4,
    "start_time": "2023-03-01T07:10:23.327Z"
   },
   {
    "duration": 83,
    "start_time": "2023-03-01T07:10:24.217Z"
   },
   {
    "duration": 34,
    "start_time": "2023-03-01T07:10:25.090Z"
   },
   {
    "duration": 2498,
    "start_time": "2023-03-01T07:10:26.577Z"
   },
   {
    "duration": 430,
    "start_time": "2023-03-01T07:10:30.481Z"
   },
   {
    "duration": 30,
    "start_time": "2023-03-01T07:10:37.271Z"
   },
   {
    "duration": 34,
    "start_time": "2023-03-01T07:10:38.751Z"
   },
   {
    "duration": 5,
    "start_time": "2023-03-01T07:10:42.968Z"
   },
   {
    "duration": 2107,
    "start_time": "2023-03-01T07:10:56.759Z"
   },
   {
    "duration": 27,
    "start_time": "2023-03-01T07:11:01.879Z"
   },
   {
    "duration": 4,
    "start_time": "2023-03-01T07:11:08.792Z"
   },
   {
    "duration": 3,
    "start_time": "2023-03-01T07:11:10.856Z"
   },
   {
    "duration": 6,
    "start_time": "2023-03-01T07:11:12.658Z"
   },
   {
    "duration": 26,
    "start_time": "2023-03-01T07:11:13.871Z"
   },
   {
    "duration": 17,
    "start_time": "2023-03-01T07:11:33.888Z"
   },
   {
    "duration": 8,
    "start_time": "2023-03-01T07:11:53.640Z"
   },
   {
    "duration": 11,
    "start_time": "2023-03-01T07:11:57.880Z"
   },
   {
    "duration": 18,
    "start_time": "2023-03-01T07:11:58.415Z"
   },
   {
    "duration": 19,
    "start_time": "2023-03-01T07:26:16.273Z"
   },
   {
    "duration": 34,
    "start_time": "2023-03-01T07:26:16.659Z"
   },
   {
    "duration": 3,
    "start_time": "2023-03-01T07:26:18.059Z"
   },
   {
    "duration": 3,
    "start_time": "2023-03-01T07:26:19.059Z"
   },
   {
    "duration": 5570,
    "start_time": "2023-03-01T07:26:20.252Z"
   },
   {
    "duration": 12364,
    "start_time": "2023-03-01T07:26:25.824Z"
   },
   {
    "duration": 4,
    "start_time": "2023-03-01T07:26:38.190Z"
   },
   {
    "duration": 6,
    "start_time": "2023-03-01T07:26:38.197Z"
   },
   {
    "duration": 21568,
    "start_time": "2023-03-01T07:26:38.205Z"
   },
   {
    "duration": 1477,
    "start_time": "2023-03-01T07:27:07.472Z"
   },
   {
    "duration": 3,
    "start_time": "2023-03-01T07:27:10.523Z"
   },
   {
    "duration": 795,
    "start_time": "2023-03-01T07:27:14.763Z"
   },
   {
    "duration": 257,
    "start_time": "2023-03-01T07:27:21.300Z"
   },
   {
    "duration": 147,
    "start_time": "2023-03-01T07:27:22.357Z"
   },
   {
    "duration": 284,
    "start_time": "2023-03-01T07:27:23.362Z"
   },
   {
    "duration": 16,
    "start_time": "2023-03-01T07:27:24.785Z"
   },
   {
    "duration": 19,
    "start_time": "2023-03-01T07:27:26.128Z"
   },
   {
    "duration": 16,
    "start_time": "2023-03-01T07:27:27.473Z"
   },
   {
    "duration": 3,
    "start_time": "2023-03-01T07:27:30.663Z"
   },
   {
    "duration": 17,
    "start_time": "2023-03-01T07:27:31.803Z"
   },
   {
    "duration": 202,
    "start_time": "2023-03-01T07:27:32.766Z"
   },
   {
    "duration": 8,
    "start_time": "2023-03-01T07:27:38.490Z"
   },
   {
    "duration": 684,
    "start_time": "2023-03-01T07:27:40.963Z"
   },
   {
    "duration": 4,
    "start_time": "2023-03-01T07:27:45.363Z"
   },
   {
    "duration": 6,
    "start_time": "2023-03-01T07:27:48.981Z"
   },
   {
    "duration": 3,
    "start_time": "2023-03-01T07:27:53.071Z"
   },
   {
    "duration": 11,
    "start_time": "2023-03-01T07:27:54.595Z"
   },
   {
    "duration": 11,
    "start_time": "2023-03-01T07:27:57.305Z"
   },
   {
    "duration": 54,
    "start_time": "2023-03-01T07:28:32.931Z"
   },
   {
    "duration": 10,
    "start_time": "2023-03-01T07:28:34.412Z"
   },
   {
    "duration": 15,
    "start_time": "2023-03-01T07:28:35.899Z"
   },
   {
    "duration": 9,
    "start_time": "2023-03-01T07:28:38.719Z"
   },
   {
    "duration": 21,
    "start_time": "2023-03-01T07:28:41.773Z"
   },
   {
    "duration": 199,
    "start_time": "2023-03-01T07:28:52.602Z"
   },
   {
    "duration": 5,
    "start_time": "2023-03-01T07:29:03.499Z"
   },
   {
    "duration": 3959,
    "start_time": "2023-03-01T07:29:12.224Z"
   },
   {
    "duration": 5,
    "start_time": "2023-03-01T07:29:16.186Z"
   },
   {
    "duration": 1319,
    "start_time": "2023-03-01T07:29:16.652Z"
   },
   {
    "duration": 4,
    "start_time": "2023-03-01T07:29:21.297Z"
   },
   {
    "duration": 83,
    "start_time": "2023-03-01T07:29:21.874Z"
   },
   {
    "duration": 26,
    "start_time": "2023-03-01T07:29:22.585Z"
   },
   {
    "duration": 2366,
    "start_time": "2023-03-01T07:29:23.917Z"
   },
   {
    "duration": 424,
    "start_time": "2023-03-01T07:30:04.924Z"
   },
   {
    "duration": 373,
    "start_time": "2023-03-01T07:30:15.705Z"
   },
   {
    "duration": 149,
    "start_time": "2023-03-01T07:46:54.603Z"
   },
   {
    "duration": 14,
    "start_time": "2023-03-01T07:47:02.980Z"
   },
   {
    "duration": 24,
    "start_time": "2023-03-01T07:47:11.997Z"
   },
   {
    "duration": 46,
    "start_time": "2023-03-01T07:47:25.994Z"
   },
   {
    "duration": 4,
    "start_time": "2023-03-01T07:47:28.378Z"
   },
   {
    "duration": 2121,
    "start_time": "2023-03-01T07:47:43.420Z"
   },
   {
    "duration": 2378,
    "start_time": "2023-03-01T07:48:03.931Z"
   },
   {
    "duration": 34,
    "start_time": "2023-03-01T07:50:27.786Z"
   },
   {
    "duration": 3,
    "start_time": "2023-03-01T08:03:18.901Z"
   },
   {
    "duration": 1479,
    "start_time": "2023-03-01T11:17:51.871Z"
   },
   {
    "duration": 4,
    "start_time": "2023-03-01T11:17:53.352Z"
   },
   {
    "duration": 723,
    "start_time": "2023-03-01T11:17:53.614Z"
   },
   {
    "duration": 331,
    "start_time": "2023-03-01T11:17:54.472Z"
   },
   {
    "duration": 175,
    "start_time": "2023-03-01T11:17:54.855Z"
   },
   {
    "duration": 293,
    "start_time": "2023-03-01T11:17:55.213Z"
   },
   {
    "duration": 16,
    "start_time": "2023-03-01T11:17:55.765Z"
   },
   {
    "duration": 20,
    "start_time": "2023-03-01T11:17:56.302Z"
   },
   {
    "duration": 27,
    "start_time": "2023-03-01T11:17:56.857Z"
   },
   {
    "duration": 4,
    "start_time": "2023-03-01T11:17:58.167Z"
   },
   {
    "duration": 21,
    "start_time": "2023-03-01T11:17:58.447Z"
   },
   {
    "duration": 199,
    "start_time": "2023-03-01T11:17:58.830Z"
   },
   {
    "duration": 7,
    "start_time": "2023-03-01T11:17:59.175Z"
   },
   {
    "duration": 725,
    "start_time": "2023-03-01T11:17:59.567Z"
   },
   {
    "duration": 4,
    "start_time": "2023-03-01T11:18:01.230Z"
   },
   {
    "duration": 6,
    "start_time": "2023-03-01T11:18:01.750Z"
   },
   {
    "duration": 3,
    "start_time": "2023-03-01T11:18:03.861Z"
   },
   {
    "duration": 3,
    "start_time": "2023-03-01T11:18:04.207Z"
   },
   {
    "duration": 4,
    "start_time": "2023-03-01T11:18:04.632Z"
   },
   {
    "duration": 11,
    "start_time": "2023-03-01T11:18:10.127Z"
   },
   {
    "duration": 13,
    "start_time": "2023-03-01T11:18:11.526Z"
   },
   {
    "duration": 80,
    "start_time": "2023-03-01T11:18:16.879Z"
   },
   {
    "duration": 10,
    "start_time": "2023-03-01T11:18:17.982Z"
   },
   {
    "duration": 24,
    "start_time": "2023-03-01T11:18:27.286Z"
   },
   {
    "duration": 8,
    "start_time": "2023-03-01T11:18:29.383Z"
   },
   {
    "duration": 35,
    "start_time": "2023-03-01T11:18:30.601Z"
   },
   {
    "duration": 183,
    "start_time": "2023-03-01T11:18:32.628Z"
   },
   {
    "duration": 4,
    "start_time": "2023-03-01T11:18:35.037Z"
   },
   {
    "duration": 3,
    "start_time": "2023-03-01T11:18:35.510Z"
   },
   {
    "duration": 4,
    "start_time": "2023-03-01T11:18:41.605Z"
   },
   {
    "duration": 4350,
    "start_time": "2023-03-01T11:18:44.375Z"
   },
   {
    "duration": 5,
    "start_time": "2023-03-01T11:18:48.728Z"
   },
   {
    "duration": 1431,
    "start_time": "2023-03-01T11:18:48.735Z"
   },
   {
    "duration": 4,
    "start_time": "2023-03-01T11:18:50.169Z"
   },
   {
    "duration": 82,
    "start_time": "2023-03-01T11:18:50.248Z"
   },
   {
    "duration": 39,
    "start_time": "2023-03-01T11:18:50.677Z"
   },
   {
    "duration": 2342,
    "start_time": "2023-03-01T11:18:51.975Z"
   },
   {
    "duration": 501,
    "start_time": "2023-03-01T11:18:54.320Z"
   },
   {
    "duration": 25,
    "start_time": "2023-03-01T11:19:22.230Z"
   },
   {
    "duration": 38,
    "start_time": "2023-03-01T11:19:23.477Z"
   },
   {
    "duration": 5,
    "start_time": "2023-03-01T11:19:23.982Z"
   },
   {
    "duration": 2198,
    "start_time": "2023-03-01T11:19:24.470Z"
   },
   {
    "duration": 2137,
    "start_time": "2023-03-01T11:19:33.374Z"
   },
   {
    "duration": 2162,
    "start_time": "2023-03-01T11:19:39.277Z"
   },
   {
    "duration": 37,
    "start_time": "2023-03-01T11:19:44.966Z"
   },
   {
    "duration": 4,
    "start_time": "2023-03-01T11:19:55.269Z"
   },
   {
    "duration": 3,
    "start_time": "2023-03-01T11:19:55.962Z"
   },
   {
    "duration": 6,
    "start_time": "2023-03-01T11:19:57.053Z"
   },
   {
    "duration": 11,
    "start_time": "2023-03-01T11:19:57.662Z"
   },
   {
    "duration": 15,
    "start_time": "2023-03-01T11:19:59.063Z"
   },
   {
    "duration": 15,
    "start_time": "2023-03-01T11:19:59.492Z"
   },
   {
    "duration": 20,
    "start_time": "2023-03-01T11:20:01.164Z"
   },
   {
    "duration": 34,
    "start_time": "2023-03-01T11:20:01.534Z"
   },
   {
    "duration": 4,
    "start_time": "2023-03-01T11:20:02.880Z"
   },
   {
    "duration": 3,
    "start_time": "2023-03-01T11:20:03.758Z"
   },
   {
    "duration": 5247,
    "start_time": "2023-03-01T11:20:05.821Z"
   },
   {
    "duration": 52,
    "start_time": "2023-03-01T11:20:22.653Z"
   },
   {
    "duration": 119,
    "start_time": "2023-03-01T11:21:59.054Z"
   },
   {
    "duration": 13607,
    "start_time": "2023-03-01T11:22:07.375Z"
   },
   {
    "duration": 12758,
    "start_time": "2023-03-01T11:23:58.885Z"
   },
   {
    "duration": 5587,
    "start_time": "2023-03-01T11:25:00.556Z"
   },
   {
    "duration": 71883,
    "start_time": "2023-03-01T11:27:47.326Z"
   },
   {
    "duration": 199116,
    "start_time": "2023-03-01T11:31:32.090Z"
   },
   {
    "duration": 5,
    "start_time": "2023-03-01T11:35:12.439Z"
   },
   {
    "duration": 12,
    "start_time": "2023-03-01T11:35:14.920Z"
   },
   {
    "duration": 3823298,
    "start_time": "2023-03-01T11:36:10.105Z"
   },
   {
    "duration": 673032,
    "start_time": "2023-03-01T12:59:35.148Z"
   },
   {
    "duration": 1544309,
    "start_time": "2023-03-01T13:17:51.442Z"
   },
   {
    "duration": 35880,
    "start_time": "2023-03-01T13:45:02.090Z"
   },
   {
    "duration": 4,
    "start_time": "2023-03-01T13:46:29.434Z"
   },
   {
    "duration": 3,
    "start_time": "2023-03-01T13:46:29.934Z"
   },
   {
    "duration": 207,
    "start_time": "2023-03-01T13:46:55.145Z"
   },
   {
    "duration": 6,
    "start_time": "2023-03-01T13:47:03.041Z"
   },
   {
    "duration": 797,
    "start_time": "2023-03-01T13:47:09.931Z"
   },
   {
    "duration": 1151,
    "start_time": "2023-03-01T13:47:41.417Z"
   },
   {
    "duration": 1007,
    "start_time": "2023-03-01T13:49:31.330Z"
   },
   {
    "duration": 854,
    "start_time": "2023-03-01T13:49:47.970Z"
   },
   {
    "duration": 67,
    "start_time": "2023-03-01T13:50:03.872Z"
   },
   {
    "duration": 1102,
    "start_time": "2023-03-01T13:50:06.976Z"
   },
   {
    "duration": 882,
    "start_time": "2023-03-01T13:50:28.841Z"
   },
   {
    "duration": 2291,
    "start_time": "2023-03-01T13:52:21.048Z"
   },
   {
    "duration": 2054,
    "start_time": "2023-03-01T13:52:46.167Z"
   },
   {
    "duration": 11,
    "start_time": "2023-03-01T13:53:01.798Z"
   },
   {
    "duration": 2107,
    "start_time": "2023-03-01T13:53:49.335Z"
   },
   {
    "duration": 3036,
    "start_time": "2023-03-01T13:54:13.295Z"
   },
   {
    "duration": 939,
    "start_time": "2023-03-01T13:54:29.686Z"
   },
   {
    "duration": 5,
    "start_time": "2023-03-01T13:54:54.470Z"
   },
   {
    "duration": 2670,
    "start_time": "2023-03-01T13:55:20.159Z"
   },
   {
    "duration": 1013,
    "start_time": "2023-03-01T13:55:48.615Z"
   },
   {
    "duration": 3940,
    "start_time": "2023-03-01T13:58:12.185Z"
   },
   {
    "duration": 3,
    "start_time": "2023-03-01T13:58:20.766Z"
   },
   {
    "duration": 3,
    "start_time": "2023-03-01T13:58:22.596Z"
   },
   {
    "duration": 4,
    "start_time": "2023-03-01T14:00:59.203Z"
   },
   {
    "duration": 4,
    "start_time": "2023-03-01T14:01:01.613Z"
   },
   {
    "duration": 1089,
    "start_time": "2023-03-01T14:01:07.661Z"
   },
   {
    "duration": 3740,
    "start_time": "2023-03-01T14:01:10.961Z"
   },
   {
    "duration": 3,
    "start_time": "2023-03-01T14:01:14.704Z"
   },
   {
    "duration": 20,
    "start_time": "2023-03-01T14:04:00.555Z"
   },
   {
    "duration": 1573,
    "start_time": "2023-03-01T14:05:54.808Z"
   },
   {
    "duration": 3,
    "start_time": "2023-03-01T14:05:56.383Z"
   },
   {
    "duration": 775,
    "start_time": "2023-03-01T14:05:56.388Z"
   },
   {
    "duration": 295,
    "start_time": "2023-03-01T14:05:57.165Z"
   },
   {
    "duration": 173,
    "start_time": "2023-03-01T14:05:57.462Z"
   },
   {
    "duration": 293,
    "start_time": "2023-03-01T14:05:57.640Z"
   },
   {
    "duration": 17,
    "start_time": "2023-03-01T14:05:57.934Z"
   },
   {
    "duration": 11,
    "start_time": "2023-03-01T14:05:57.952Z"
   },
   {
    "duration": 19,
    "start_time": "2023-03-01T14:05:57.965Z"
   },
   {
    "duration": 4,
    "start_time": "2023-03-01T14:05:57.987Z"
   },
   {
    "duration": 49,
    "start_time": "2023-03-01T14:05:57.992Z"
   },
   {
    "duration": 201,
    "start_time": "2023-03-01T14:05:58.044Z"
   },
   {
    "duration": 6,
    "start_time": "2023-03-01T14:05:58.247Z"
   },
   {
    "duration": 747,
    "start_time": "2023-03-01T14:05:58.254Z"
   },
   {
    "duration": 4,
    "start_time": "2023-03-01T14:05:59.003Z"
   },
   {
    "duration": 29,
    "start_time": "2023-03-01T14:05:59.020Z"
   },
   {
    "duration": 9,
    "start_time": "2023-03-01T14:05:59.051Z"
   },
   {
    "duration": 7,
    "start_time": "2023-03-01T14:05:59.062Z"
   },
   {
    "duration": 5,
    "start_time": "2023-03-01T14:05:59.071Z"
   },
   {
    "duration": 15,
    "start_time": "2023-03-01T14:05:59.078Z"
   },
   {
    "duration": 18,
    "start_time": "2023-03-01T14:05:59.095Z"
   },
   {
    "duration": 68,
    "start_time": "2023-03-01T14:05:59.116Z"
   },
   {
    "duration": 9,
    "start_time": "2023-03-01T14:05:59.185Z"
   },
   {
    "duration": 32,
    "start_time": "2023-03-01T14:05:59.196Z"
   },
   {
    "duration": 10,
    "start_time": "2023-03-01T14:05:59.229Z"
   },
   {
    "duration": 24,
    "start_time": "2023-03-01T14:05:59.242Z"
   },
   {
    "duration": 219,
    "start_time": "2023-03-01T14:05:59.268Z"
   },
   {
    "duration": 3,
    "start_time": "2023-03-01T14:05:59.491Z"
   },
   {
    "duration": 9,
    "start_time": "2023-03-01T14:05:59.495Z"
   },
   {
    "duration": 42,
    "start_time": "2023-03-01T14:05:59.508Z"
   },
   {
    "duration": 4191,
    "start_time": "2023-03-01T14:05:59.552Z"
   },
   {
    "duration": 6,
    "start_time": "2023-03-01T14:06:03.745Z"
   },
   {
    "duration": 1524,
    "start_time": "2023-03-01T14:06:03.753Z"
   },
   {
    "duration": 3,
    "start_time": "2023-03-01T14:06:05.279Z"
   },
   {
    "duration": 97,
    "start_time": "2023-03-01T14:06:05.284Z"
   },
   {
    "duration": 25,
    "start_time": "2023-03-01T14:06:05.383Z"
   },
   {
    "duration": 3574,
    "start_time": "2023-03-01T14:06:05.409Z"
   },
   {
    "duration": 408,
    "start_time": "2023-03-01T14:06:08.985Z"
   },
   {
    "duration": 32,
    "start_time": "2023-03-01T14:06:09.395Z"
   },
   {
    "duration": 37,
    "start_time": "2023-03-01T14:06:09.440Z"
   },
   {
    "duration": 5,
    "start_time": "2023-03-01T14:06:09.479Z"
   },
   {
    "duration": 2219,
    "start_time": "2023-03-01T14:06:09.485Z"
   },
   {
    "duration": 37,
    "start_time": "2023-03-01T14:06:11.706Z"
   },
   {
    "duration": 5,
    "start_time": "2023-03-01T14:06:11.745Z"
   },
   {
    "duration": 6,
    "start_time": "2023-03-01T14:06:11.752Z"
   },
   {
    "duration": 7,
    "start_time": "2023-03-01T14:06:11.760Z"
   },
   {
    "duration": 11,
    "start_time": "2023-03-01T14:06:11.768Z"
   },
   {
    "duration": 14,
    "start_time": "2023-03-01T14:06:11.781Z"
   },
   {
    "duration": 37,
    "start_time": "2023-03-01T14:06:11.824Z"
   },
   {
    "duration": 25,
    "start_time": "2023-03-01T14:06:11.863Z"
   },
   {
    "duration": 51,
    "start_time": "2023-03-01T14:06:11.891Z"
   },
   {
    "duration": 3,
    "start_time": "2023-03-01T14:06:11.944Z"
   },
   {
    "duration": 6,
    "start_time": "2023-03-01T14:06:11.948Z"
   },
   {
    "duration": 5943,
    "start_time": "2023-03-01T14:06:11.956Z"
   },
   {
    "duration": 12744,
    "start_time": "2023-03-01T14:06:17.901Z"
   },
   {
    "duration": 5,
    "start_time": "2023-03-01T14:06:30.648Z"
   },
   {
    "duration": 27,
    "start_time": "2023-03-01T14:06:30.655Z"
   },
   {
    "duration": 34099,
    "start_time": "2023-03-01T14:06:30.685Z"
   },
   {
    "duration": 83561,
    "start_time": "2023-03-01T14:07:04.786Z"
   },
   {
    "duration": 4,
    "start_time": "2023-03-01T14:08:28.350Z"
   },
   {
    "duration": 11,
    "start_time": "2023-03-01T14:08:28.356Z"
   },
   {
    "duration": 678,
    "start_time": "2023-03-01T14:08:28.369Z"
   },
   {
    "duration": 2689,
    "start_time": "2023-03-01T14:08:29.049Z"
   },
   {
    "duration": 7,
    "start_time": "2023-03-01T14:08:31.821Z"
   },
   {
    "duration": 30,
    "start_time": "2023-03-01T14:08:31.832Z"
   },
   {
    "duration": 24,
    "start_time": "2023-03-01T14:08:31.864Z"
   },
   {
    "duration": 19,
    "start_time": "2023-03-01T14:08:31.891Z"
   },
   {
    "duration": 1180,
    "start_time": "2023-03-01T14:08:31.913Z"
   },
   {
    "duration": 3919,
    "start_time": "2023-03-01T14:08:33.095Z"
   },
   {
    "duration": 13,
    "start_time": "2023-03-01T14:08:37.020Z"
   },
   {
    "duration": 29,
    "start_time": "2023-03-01T14:08:37.034Z"
   },
   {
    "duration": 1509,
    "start_time": "2023-03-04T15:33:16.939Z"
   },
   {
    "duration": 3,
    "start_time": "2023-03-04T15:33:18.450Z"
   },
   {
    "duration": 1893,
    "start_time": "2023-03-04T15:33:18.454Z"
   },
   {
    "duration": 240,
    "start_time": "2023-03-04T15:33:20.349Z"
   },
   {
    "duration": 155,
    "start_time": "2023-03-04T15:33:20.591Z"
   },
   {
    "duration": 266,
    "start_time": "2023-03-04T15:33:20.748Z"
   },
   {
    "duration": 24,
    "start_time": "2023-03-04T15:33:21.016Z"
   },
   {
    "duration": 14,
    "start_time": "2023-03-04T15:33:21.042Z"
   },
   {
    "duration": 19,
    "start_time": "2023-03-04T15:33:21.058Z"
   },
   {
    "duration": 4,
    "start_time": "2023-03-04T15:33:21.080Z"
   },
   {
    "duration": 32,
    "start_time": "2023-03-04T15:33:21.085Z"
   },
   {
    "duration": 204,
    "start_time": "2023-03-04T15:33:21.120Z"
   },
   {
    "duration": 14,
    "start_time": "2023-03-04T15:33:21.326Z"
   },
   {
    "duration": 686,
    "start_time": "2023-03-04T15:33:21.342Z"
   },
   {
    "duration": 3,
    "start_time": "2023-03-04T15:33:22.030Z"
   },
   {
    "duration": 6,
    "start_time": "2023-03-04T15:33:22.041Z"
   },
   {
    "duration": 8,
    "start_time": "2023-03-04T15:33:22.048Z"
   },
   {
    "duration": 4,
    "start_time": "2023-03-04T15:33:22.058Z"
   },
   {
    "duration": 5,
    "start_time": "2023-03-04T15:33:22.064Z"
   },
   {
    "duration": 9,
    "start_time": "2023-03-04T15:33:22.071Z"
   },
   {
    "duration": 12,
    "start_time": "2023-03-04T15:33:22.081Z"
   },
   {
    "duration": 78,
    "start_time": "2023-03-04T15:33:22.095Z"
   },
   {
    "duration": 8,
    "start_time": "2023-03-04T15:33:22.175Z"
   },
   {
    "duration": 16,
    "start_time": "2023-03-04T15:33:22.185Z"
   },
   {
    "duration": 8,
    "start_time": "2023-03-04T15:33:22.203Z"
   },
   {
    "duration": 27,
    "start_time": "2023-03-04T15:33:22.240Z"
   },
   {
    "duration": 474,
    "start_time": "2023-03-04T15:33:22.269Z"
   },
   {
    "duration": 2,
    "start_time": "2023-03-04T15:33:22.748Z"
   },
   {
    "duration": 21,
    "start_time": "2023-03-04T15:33:22.752Z"
   },
   {
    "duration": 13,
    "start_time": "2023-03-04T15:33:22.775Z"
   },
   {
    "duration": 4916,
    "start_time": "2023-03-04T15:33:22.790Z"
   },
   {
    "duration": 5,
    "start_time": "2023-03-04T15:33:27.708Z"
   },
   {
    "duration": 1259,
    "start_time": "2023-03-04T15:33:27.715Z"
   },
   {
    "duration": 4,
    "start_time": "2023-03-04T15:33:28.975Z"
   },
   {
    "duration": 88,
    "start_time": "2023-03-04T15:33:28.980Z"
   },
   {
    "duration": 30,
    "start_time": "2023-03-04T15:33:29.069Z"
   },
   {
    "duration": 2175,
    "start_time": "2023-03-04T15:33:29.101Z"
   },
   {
    "duration": 395,
    "start_time": "2023-03-04T15:33:31.278Z"
   },
   {
    "duration": 25,
    "start_time": "2023-03-04T15:33:31.675Z"
   },
   {
    "duration": 61,
    "start_time": "2023-03-04T15:33:31.702Z"
   },
   {
    "duration": 4,
    "start_time": "2023-03-04T15:33:31.765Z"
   },
   {
    "duration": 2142,
    "start_time": "2023-03-04T15:33:31.770Z"
   },
   {
    "duration": 28,
    "start_time": "2023-03-04T15:33:33.914Z"
   },
   {
    "duration": 3,
    "start_time": "2023-03-04T15:33:33.944Z"
   },
   {
    "duration": 5,
    "start_time": "2023-03-04T15:33:33.948Z"
   },
   {
    "duration": 8,
    "start_time": "2023-03-04T15:33:33.955Z"
   },
   {
    "duration": 13,
    "start_time": "2023-03-04T15:33:33.964Z"
   },
   {
    "duration": 11,
    "start_time": "2023-03-04T15:33:33.979Z"
   },
   {
    "duration": 14,
    "start_time": "2023-03-04T15:33:33.991Z"
   },
   {
    "duration": 49,
    "start_time": "2023-03-04T15:33:34.007Z"
   },
   {
    "duration": 34,
    "start_time": "2023-03-04T15:33:34.058Z"
   },
   {
    "duration": 4,
    "start_time": "2023-03-04T15:33:34.097Z"
   },
   {
    "duration": 11,
    "start_time": "2023-03-04T15:33:34.103Z"
   },
   {
    "duration": 5466,
    "start_time": "2023-03-04T15:33:34.116Z"
   },
   {
    "duration": 13128,
    "start_time": "2023-03-04T15:33:39.584Z"
   },
   {
    "duration": 8,
    "start_time": "2023-03-04T15:33:52.715Z"
   },
   {
    "duration": 14,
    "start_time": "2023-03-04T15:33:52.726Z"
   },
   {
    "duration": 31643,
    "start_time": "2023-03-04T15:33:52.742Z"
   }
  ],
  "kernelspec": {
   "display_name": "Python 3 (ipykernel)",
   "language": "python",
   "name": "python3"
  },
  "language_info": {
   "codemirror_mode": {
    "name": "ipython",
    "version": 3
   },
   "file_extension": ".py",
   "mimetype": "text/x-python",
   "name": "python",
   "nbconvert_exporter": "python",
   "pygments_lexer": "ipython3",
   "version": "3.9.13"
  },
  "toc": {
   "base_numbering": 1,
   "nav_menu": {},
   "number_sections": true,
   "sideBar": true,
   "skip_h1_title": true,
   "title_cell": "Содержание",
   "title_sidebar": "Contents",
   "toc_cell": true,
   "toc_position": {
    "height": "calc(100% - 180px)",
    "left": "10px",
    "top": "150px",
    "width": "302.33px"
   },
   "toc_section_display": true,
   "toc_window_display": true
  }
 },
 "nbformat": 4,
 "nbformat_minor": 2
}
