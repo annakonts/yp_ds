{
 "cells": [
  {
   "cell_type": "markdown",
   "metadata": {
    "toc": true
   },
   "source": [
    "<h1>Содержание<span class=\"tocSkip\"></span></h1>\n",
    "<div class=\"toc\"><ul class=\"toc-item\"><li><span><a href=\"#Подготовка-данных\" data-toc-modified-id=\"Подготовка-данных-1\"><span class=\"toc-item-num\">1&nbsp;&nbsp;</span>Подготовка данных</a></span><ul class=\"toc-item\"><li><ul class=\"toc-item\"><li><span><a href=\"#Импорт-необходимых-библиотек\" data-toc-modified-id=\"Импорт-необходимых-библиотек-1.0.1\"><span class=\"toc-item-num\">1.0.1&nbsp;&nbsp;</span>Импорт необходимых библиотек</a></span></li><li><span><a href=\"#Открытие-датасета-и-знакомство-с-данными\" data-toc-modified-id=\"Открытие-датасета-и-знакомство-с-данными-1.0.2\"><span class=\"toc-item-num\">1.0.2&nbsp;&nbsp;</span>Открытие датасета и знакомство с данными</a></span></li></ul></li><li><span><a href=\"#Предобработка-данных\" data-toc-modified-id=\"Предобработка-данных-1.1\"><span class=\"toc-item-num\">1.1&nbsp;&nbsp;</span>Предобработка данных</a></span><ul class=\"toc-item\"><li><span><a href=\"#Пропуски\" data-toc-modified-id=\"Пропуски-1.1.1\"><span class=\"toc-item-num\">1.1.1&nbsp;&nbsp;</span>Пропуски</a></span></li><li><span><a href=\"#Некоторые-столбцы-и-их-значения\" data-toc-modified-id=\"Некоторые-столбцы-и-их-значения-1.1.2\"><span class=\"toc-item-num\">1.1.2&nbsp;&nbsp;</span>Некоторые столбцы и их значения</a></span></li><li><span><a href=\"#Дубликаты\" data-toc-modified-id=\"Дубликаты-1.1.3\"><span class=\"toc-item-num\">1.1.3&nbsp;&nbsp;</span>Дубликаты</a></span></li></ul></li><li><span><a href=\"#Подготовка-датасета-к-ML\" data-toc-modified-id=\"Подготовка-датасета-к-ML-1.2\"><span class=\"toc-item-num\">1.2&nbsp;&nbsp;</span>Подготовка датасета к ML</a></span><ul class=\"toc-item\"><li><span><a href=\"#Посмотрим-корреляцию-признаков\" data-toc-modified-id=\"Посмотрим-корреляцию-признаков-1.2.1\"><span class=\"toc-item-num\">1.2.1&nbsp;&nbsp;</span>Посмотрим корреляцию признаков</a></span></li></ul></li><li><span><a href=\"#Вывод\" data-toc-modified-id=\"Вывод-1.3\"><span class=\"toc-item-num\">1.3&nbsp;&nbsp;</span>Вывод</a></span></li></ul></li><li><span><a href=\"#Исследование-задачи\" data-toc-modified-id=\"Исследование-задачи-2\"><span class=\"toc-item-num\">2&nbsp;&nbsp;</span>Исследование задачи</a></span><ul class=\"toc-item\"><li><span><a href=\"#Деление-данных\" data-toc-modified-id=\"Деление-данных-2.1\"><span class=\"toc-item-num\">2.1&nbsp;&nbsp;</span>Деление данных</a></span></li><li><span><a href=\"#Масштабирование-данных\" data-toc-modified-id=\"Масштабирование-данных-2.2\"><span class=\"toc-item-num\">2.2&nbsp;&nbsp;</span>Масштабирование данных</a></span></li><li><span><a href=\"#Расчет-F1-меры-на-разных-моделях-без-учета-дисбаланса-классов\" data-toc-modified-id=\"Расчет-F1-меры-на-разных-моделях-без-учета-дисбаланса-классов-2.3\"><span class=\"toc-item-num\">2.3&nbsp;&nbsp;</span>Расчет F1-меры на разных моделях без учета дисбаланса классов</a></span><ul class=\"toc-item\"><li><span><a href=\"#Дерево-решений\" data-toc-modified-id=\"Дерево-решений-2.3.1\"><span class=\"toc-item-num\">2.3.1&nbsp;&nbsp;</span>Дерево решений</a></span></li><li><span><a href=\"#Случайный-лес\" data-toc-modified-id=\"Случайный-лес-2.3.2\"><span class=\"toc-item-num\">2.3.2&nbsp;&nbsp;</span>Случайный лес</a></span></li><li><span><a href=\"#Логистическая-регрессия\" data-toc-modified-id=\"Логистическая-регрессия-2.3.3\"><span class=\"toc-item-num\">2.3.3&nbsp;&nbsp;</span>Логистическая регрессия</a></span></li></ul></li><li><span><a href=\"#Вывод\" data-toc-modified-id=\"Вывод-2.4\"><span class=\"toc-item-num\">2.4&nbsp;&nbsp;</span>Вывод</a></span></li></ul></li><li><span><a href=\"#Борьба-с-дисбалансом\" data-toc-modified-id=\"Борьба-с-дисбалансом-3\"><span class=\"toc-item-num\">3&nbsp;&nbsp;</span>Борьба с дисбалансом</a></span><ul class=\"toc-item\"><li><span><a href=\"#Предварительные-метрики\" data-toc-modified-id=\"Предварительные-метрики-3.1\"><span class=\"toc-item-num\">3.1&nbsp;&nbsp;</span>Предварительные метрики</a></span><ul class=\"toc-item\"><li><span><a href=\"#Количество-оставшихся-и-ушедших-клиентов\" data-toc-modified-id=\"Количество-оставшихся-и-ушедших-клиентов-3.1.1\"><span class=\"toc-item-num\">3.1.1&nbsp;&nbsp;</span>Количество оставшихся и ушедших клиентов</a></span></li><li><span><a href=\"#Матрица-ошибок,-recall-и-precision\" data-toc-modified-id=\"Матрица-ошибок,-recall-и-precision-3.1.2\"><span class=\"toc-item-num\">3.1.2&nbsp;&nbsp;</span>Матрица ошибок, recall и precision</a></span></li></ul></li><li><span><a href=\"#Взвешивание-классов\" data-toc-modified-id=\"Взвешивание-классов-3.2\"><span class=\"toc-item-num\">3.2&nbsp;&nbsp;</span>Взвешивание классов</a></span><ul class=\"toc-item\"><li><span><a href=\"#Дерево-решений\" data-toc-modified-id=\"Дерево-решений-3.2.1\"><span class=\"toc-item-num\">3.2.1&nbsp;&nbsp;</span>Дерево решений</a></span></li><li><span><a href=\"#Случайный-лес\" data-toc-modified-id=\"Случайный-лес-3.2.2\"><span class=\"toc-item-num\">3.2.2&nbsp;&nbsp;</span>Случайный лес</a></span></li><li><span><a href=\"#Логистическая-регрессия\" data-toc-modified-id=\"Логистическая-регрессия-3.2.3\"><span class=\"toc-item-num\">3.2.3&nbsp;&nbsp;</span>Логистическая регрессия</a></span></li></ul></li><li><span><a href=\"#Увеличение-выборки\" data-toc-modified-id=\"Увеличение-выборки-3.3\"><span class=\"toc-item-num\">3.3&nbsp;&nbsp;</span>Увеличение выборки</a></span><ul class=\"toc-item\"><li><span><a href=\"#Дерево-решений\" data-toc-modified-id=\"Дерево-решений-3.3.1\"><span class=\"toc-item-num\">3.3.1&nbsp;&nbsp;</span>Дерево решений</a></span></li><li><span><a href=\"#Случайный-лес\" data-toc-modified-id=\"Случайный-лес-3.3.2\"><span class=\"toc-item-num\">3.3.2&nbsp;&nbsp;</span>Случайный лес</a></span></li><li><span><a href=\"#Логистическая-регрессия\" data-toc-modified-id=\"Логистическая-регрессия-3.3.3\"><span class=\"toc-item-num\">3.3.3&nbsp;&nbsp;</span>Логистическая регрессия</a></span></li></ul></li><li><span><a href=\"#Уменьшение-выборки\" data-toc-modified-id=\"Уменьшение-выборки-3.4\"><span class=\"toc-item-num\">3.4&nbsp;&nbsp;</span>Уменьшение выборки</a></span><ul class=\"toc-item\"><li><span><a href=\"#Дерево-решений\" data-toc-modified-id=\"Дерево-решений-3.4.1\"><span class=\"toc-item-num\">3.4.1&nbsp;&nbsp;</span>Дерево решений</a></span></li><li><span><a href=\"#Случайный-лес\" data-toc-modified-id=\"Случайный-лес-3.4.2\"><span class=\"toc-item-num\">3.4.2&nbsp;&nbsp;</span>Случайный лес</a></span></li><li><span><a href=\"#Логистическая-регрессия\" data-toc-modified-id=\"Логистическая-регрессия-3.4.3\"><span class=\"toc-item-num\">3.4.3&nbsp;&nbsp;</span>Логистическая регрессия</a></span></li></ul></li><li><span><a href=\"#Вывод\" data-toc-modified-id=\"Вывод-3.5\"><span class=\"toc-item-num\">3.5&nbsp;&nbsp;</span>Вывод</a></span></li></ul></li><li><span><a href=\"#Тестирование-модели\" data-toc-modified-id=\"Тестирование-модели-4\"><span class=\"toc-item-num\">4&nbsp;&nbsp;</span>Тестирование модели</a></span><ul class=\"toc-item\"><li><span><a href=\"#Изменение-порога\" data-toc-modified-id=\"Изменение-порога-4.1\"><span class=\"toc-item-num\">4.1&nbsp;&nbsp;</span>Изменение порога</a></span></li><li><span><a href=\"#PR-кривая\" data-toc-modified-id=\"PR-кривая-4.2\"><span class=\"toc-item-num\">4.2&nbsp;&nbsp;</span>PR-кривая</a></span></li><li><span><a href=\"#AUC-ROC-кривая\" data-toc-modified-id=\"AUC-ROC-кривая-4.3\"><span class=\"toc-item-num\">4.3&nbsp;&nbsp;</span>AUC-ROC кривая</a></span></li><li><span><a href=\"#Вывод\" data-toc-modified-id=\"Вывод-4.4\"><span class=\"toc-item-num\">4.4&nbsp;&nbsp;</span>Вывод</a></span></li></ul></li><li><span><a href=\"#ОБЩИЙ-ВЫВОД\" data-toc-modified-id=\"ОБЩИЙ-ВЫВОД-5\"><span class=\"toc-item-num\">5&nbsp;&nbsp;</span>ОБЩИЙ ВЫВОД</a></span></li><li><span><a href=\"#Чек-лист-готовности-проекта\" data-toc-modified-id=\"Чек-лист-готовности-проекта-6\"><span class=\"toc-item-num\">6&nbsp;&nbsp;</span>Чек-лист готовности проекта</a></span></li><li><span><a href=\"#Общий-вывод-по-проекту\" data-toc-modified-id=\"Общий-вывод-по-проекту-7\"><span class=\"toc-item-num\">7&nbsp;&nbsp;</span><b>Общий вывод по проекту</b></a></span></li><li><span><a href=\"#Общий-вывод-по-проекту-В2\" data-toc-modified-id=\"Общий-вывод-по-проекту-В2-8\"><span class=\"toc-item-num\">8&nbsp;&nbsp;</span><b>Общий вывод по проекту В2</b></a></span></li></ul></div>"
   ]
  },
  {
   "cell_type": "markdown",
   "metadata": {},
   "source": [
    "# Отток клиентов"
   ]
  },
  {
   "cell_type": "markdown",
   "metadata": {},
   "source": [
    "Из «Бета-Банка» стали уходить клиенты. Каждый месяц. Немного, но заметно. Банковские маркетологи посчитали: сохранять текущих клиентов дешевле, чем привлекать новых.\n",
    "\n",
    "Нужно спрогнозировать, уйдёт клиент из банка в ближайшее время или нет. Вам предоставлены исторические данные о поведении клиентов и расторжении договоров с банком. \n",
    "\n",
    "Постройте модель с предельно большим значением *F1*-меры. Чтобы сдать проект успешно, нужно довести метрику до 0.59. Проверьте *F1*-меру на тестовой выборке самостоятельно.\n",
    "\n",
    "Дополнительно измеряйте *AUC-ROC*, сравнивайте её значение с *F1*-мерой.\n",
    "\n",
    "Источник данных: [https://www.kaggle.com/barelydedicated/bank-customer-churn-modeling](https://www.kaggle.com/barelydedicated/bank-customer-churn-modeling)"
   ]
  },
  {
   "cell_type": "markdown",
   "metadata": {},
   "source": [
    "**Цель проекта**   \n",
    "1. Спрогнозировать, уйдет ли клиент из банка в ближайшее время или нет.  \n",
    "2. Уровень F1-меры должен быть не ниже 0.59\n",
    "  \n",
    "\n",
    "**Данные о клиентах** получу из файла /datasets/Churn.csv.   \n",
    "\n",
    "\n",
    "**Инструкция по выполнению проекта**\n",
    "1. Загрузить и подготовить данные. Пояснить порядок действий.\n",
    "2. Исследовать баланс классов, обучить модель без учёта дисбаланса. Кратко описать выводы.\n",
    "3. Улучшить качество модели, учитывая дисбаланс классов. Обучить разные модели и найти лучшую. Кратко опишисать выводы.\n",
    "4. Провести финальное тестирование.\n"
   ]
  },
  {
   "cell_type": "markdown",
   "metadata": {},
   "source": [
    "###### Признаки\n",
    "`RowNumber` — индекс строки в данных  \n",
    "`CustomerId` — уникальный идентификатор клиента  \n",
    "`Surname` — фамилия  \n",
    "`CreditScore` — кредитный рейтинг  \n",
    "`Geography` — страна проживания  \n",
    "`Gender` — пол  \n",
    "`Age` — возраст  \n",
    "`Tenure` — сколько лет человек является клиентом банка  \n",
    "`Balance` — баланс на счёте  \n",
    "`NumOfProducts` — количество продуктов банка, используемых клиентом  \n",
    "`HasCrCard` — наличие кредитной карты  \n",
    "`IsActiveMember` — активность клиента  \n",
    "`EstimatedSalary` — предполагаемая зарплата  \n",
    "###### Целевой признак\n",
    "`Exited` — факт ухода клиента  "
   ]
  },
  {
   "cell_type": "markdown",
   "metadata": {},
   "source": [
    "## Подготовка данных"
   ]
  },
  {
   "cell_type": "markdown",
   "metadata": {},
   "source": [
    "#### Импорт необходимых библиотек"
   ]
  },
  {
   "cell_type": "code",
   "execution_count": 1,
   "metadata": {},
   "outputs": [
    {
     "name": "stdout",
     "output_type": "stream",
     "text": [
      "Requirement already satisfied: phik in /opt/conda/lib/python3.9/site-packages (0.12.3)\n",
      "Requirement already satisfied: scipy>=1.5.2 in /opt/conda/lib/python3.9/site-packages (from phik) (1.9.1)\n",
      "Requirement already satisfied: joblib>=0.14.1 in /opt/conda/lib/python3.9/site-packages (from phik) (1.1.0)\n",
      "Requirement already satisfied: numpy>=1.18.0 in /opt/conda/lib/python3.9/site-packages (from phik) (1.21.1)\n",
      "Requirement already satisfied: matplotlib>=2.2.3 in /opt/conda/lib/python3.9/site-packages (from phik) (3.3.4)\n",
      "Requirement already satisfied: pandas>=0.25.1 in /opt/conda/lib/python3.9/site-packages (from phik) (1.2.4)\n",
      "Requirement already satisfied: cycler>=0.10 in /opt/conda/lib/python3.9/site-packages (from matplotlib>=2.2.3->phik) (0.11.0)\n",
      "Requirement already satisfied: python-dateutil>=2.1 in /opt/conda/lib/python3.9/site-packages (from matplotlib>=2.2.3->phik) (2.8.1)\n",
      "Requirement already satisfied: kiwisolver>=1.0.1 in /opt/conda/lib/python3.9/site-packages (from matplotlib>=2.2.3->phik) (1.4.4)\n",
      "Requirement already satisfied: pyparsing!=2.0.4,!=2.1.2,!=2.1.6,>=2.0.3 in /opt/conda/lib/python3.9/site-packages (from matplotlib>=2.2.3->phik) (2.4.7)\n",
      "Requirement already satisfied: pillow>=6.2.0 in /opt/conda/lib/python3.9/site-packages (from matplotlib>=2.2.3->phik) (8.4.0)\n",
      "Requirement already satisfied: pytz>=2017.3 in /opt/conda/lib/python3.9/site-packages (from pandas>=0.25.1->phik) (2021.1)\n",
      "Requirement already satisfied: six>=1.5 in /opt/conda/lib/python3.9/site-packages (from python-dateutil>=2.1->matplotlib>=2.2.3->phik) (1.16.0)\n"
     ]
    }
   ],
   "source": [
    "!pip install phik"
   ]
  },
  {
   "cell_type": "code",
   "execution_count": 2,
   "metadata": {},
   "outputs": [],
   "source": [
    "import numpy as np\n",
    "import pandas as pd\n",
    "import matplotlib.pyplot as plt\n",
    "import seaborn as sns\n",
    "import phik\n",
    "\n",
    "from phik import resources, report\n",
    "from phik.report import plot_correlation_matrix\n",
    "\n",
    "from sklearn.ensemble import RandomForestClassifier \n",
    "from sklearn.linear_model import LogisticRegression\n",
    "from sklearn.tree import DecisionTreeClassifier\n",
    "from sklearn.tree import plot_tree\n",
    "\n",
    "#from sklearn.metrics import *\n",
    "from sklearn.metrics import accuracy_score\n",
    "from sklearn.metrics import confusion_matrix\n",
    "from sklearn.metrics import f1_score\n",
    "from sklearn.metrics import precision_recall_curve\n",
    "from sklearn.metrics import precision_score\n",
    "from sklearn.metrics import recall_score\n",
    "from sklearn.metrics import roc_auc_score\n",
    "from sklearn.metrics import roc_curve\n",
    "\n",
    "\n",
    "from sklearn.model_selection import train_test_split\n",
    "from sklearn.preprocessing import StandardScaler \n",
    "from sklearn.utils import shuffle\n",
    "\n",
    "from tqdm import tqdm\n",
    "\n",
    "import warnings\n",
    "warnings.filterwarnings(\"ignore\")"
   ]
  },
  {
   "cell_type": "markdown",
   "metadata": {},
   "source": [
    "#### Открытие датасета и знакомство с данными"
   ]
  },
  {
   "cell_type": "code",
   "execution_count": 3,
   "metadata": {},
   "outputs": [],
   "source": [
    "df = pd.read_csv('/datasets/Churn.csv')"
   ]
  },
  {
   "cell_type": "code",
   "execution_count": 4,
   "metadata": {},
   "outputs": [
    {
     "data": {
      "text/html": [
       "<div>\n",
       "<style scoped>\n",
       "    .dataframe tbody tr th:only-of-type {\n",
       "        vertical-align: middle;\n",
       "    }\n",
       "\n",
       "    .dataframe tbody tr th {\n",
       "        vertical-align: top;\n",
       "    }\n",
       "\n",
       "    .dataframe thead th {\n",
       "        text-align: right;\n",
       "    }\n",
       "</style>\n",
       "<table border=\"1\" class=\"dataframe\">\n",
       "  <thead>\n",
       "    <tr style=\"text-align: right;\">\n",
       "      <th></th>\n",
       "      <th>RowNumber</th>\n",
       "      <th>CustomerId</th>\n",
       "      <th>Surname</th>\n",
       "      <th>CreditScore</th>\n",
       "      <th>Geography</th>\n",
       "      <th>Gender</th>\n",
       "      <th>Age</th>\n",
       "      <th>Tenure</th>\n",
       "      <th>Balance</th>\n",
       "      <th>NumOfProducts</th>\n",
       "      <th>HasCrCard</th>\n",
       "      <th>IsActiveMember</th>\n",
       "      <th>EstimatedSalary</th>\n",
       "      <th>Exited</th>\n",
       "    </tr>\n",
       "  </thead>\n",
       "  <tbody>\n",
       "    <tr>\n",
       "      <th>0</th>\n",
       "      <td>1</td>\n",
       "      <td>15634602</td>\n",
       "      <td>Hargrave</td>\n",
       "      <td>619</td>\n",
       "      <td>France</td>\n",
       "      <td>Female</td>\n",
       "      <td>42</td>\n",
       "      <td>2.0</td>\n",
       "      <td>0.00</td>\n",
       "      <td>1</td>\n",
       "      <td>1</td>\n",
       "      <td>1</td>\n",
       "      <td>101348.88</td>\n",
       "      <td>1</td>\n",
       "    </tr>\n",
       "    <tr>\n",
       "      <th>1</th>\n",
       "      <td>2</td>\n",
       "      <td>15647311</td>\n",
       "      <td>Hill</td>\n",
       "      <td>608</td>\n",
       "      <td>Spain</td>\n",
       "      <td>Female</td>\n",
       "      <td>41</td>\n",
       "      <td>1.0</td>\n",
       "      <td>83807.86</td>\n",
       "      <td>1</td>\n",
       "      <td>0</td>\n",
       "      <td>1</td>\n",
       "      <td>112542.58</td>\n",
       "      <td>0</td>\n",
       "    </tr>\n",
       "    <tr>\n",
       "      <th>2</th>\n",
       "      <td>3</td>\n",
       "      <td>15619304</td>\n",
       "      <td>Onio</td>\n",
       "      <td>502</td>\n",
       "      <td>France</td>\n",
       "      <td>Female</td>\n",
       "      <td>42</td>\n",
       "      <td>8.0</td>\n",
       "      <td>159660.80</td>\n",
       "      <td>3</td>\n",
       "      <td>1</td>\n",
       "      <td>0</td>\n",
       "      <td>113931.57</td>\n",
       "      <td>1</td>\n",
       "    </tr>\n",
       "    <tr>\n",
       "      <th>3</th>\n",
       "      <td>4</td>\n",
       "      <td>15701354</td>\n",
       "      <td>Boni</td>\n",
       "      <td>699</td>\n",
       "      <td>France</td>\n",
       "      <td>Female</td>\n",
       "      <td>39</td>\n",
       "      <td>1.0</td>\n",
       "      <td>0.00</td>\n",
       "      <td>2</td>\n",
       "      <td>0</td>\n",
       "      <td>0</td>\n",
       "      <td>93826.63</td>\n",
       "      <td>0</td>\n",
       "    </tr>\n",
       "    <tr>\n",
       "      <th>4</th>\n",
       "      <td>5</td>\n",
       "      <td>15737888</td>\n",
       "      <td>Mitchell</td>\n",
       "      <td>850</td>\n",
       "      <td>Spain</td>\n",
       "      <td>Female</td>\n",
       "      <td>43</td>\n",
       "      <td>2.0</td>\n",
       "      <td>125510.82</td>\n",
       "      <td>1</td>\n",
       "      <td>1</td>\n",
       "      <td>1</td>\n",
       "      <td>79084.10</td>\n",
       "      <td>0</td>\n",
       "    </tr>\n",
       "    <tr>\n",
       "      <th>5</th>\n",
       "      <td>6</td>\n",
       "      <td>15574012</td>\n",
       "      <td>Chu</td>\n",
       "      <td>645</td>\n",
       "      <td>Spain</td>\n",
       "      <td>Male</td>\n",
       "      <td>44</td>\n",
       "      <td>8.0</td>\n",
       "      <td>113755.78</td>\n",
       "      <td>2</td>\n",
       "      <td>1</td>\n",
       "      <td>0</td>\n",
       "      <td>149756.71</td>\n",
       "      <td>1</td>\n",
       "    </tr>\n",
       "    <tr>\n",
       "      <th>6</th>\n",
       "      <td>7</td>\n",
       "      <td>15592531</td>\n",
       "      <td>Bartlett</td>\n",
       "      <td>822</td>\n",
       "      <td>France</td>\n",
       "      <td>Male</td>\n",
       "      <td>50</td>\n",
       "      <td>7.0</td>\n",
       "      <td>0.00</td>\n",
       "      <td>2</td>\n",
       "      <td>1</td>\n",
       "      <td>1</td>\n",
       "      <td>10062.80</td>\n",
       "      <td>0</td>\n",
       "    </tr>\n",
       "    <tr>\n",
       "      <th>7</th>\n",
       "      <td>8</td>\n",
       "      <td>15656148</td>\n",
       "      <td>Obinna</td>\n",
       "      <td>376</td>\n",
       "      <td>Germany</td>\n",
       "      <td>Female</td>\n",
       "      <td>29</td>\n",
       "      <td>4.0</td>\n",
       "      <td>115046.74</td>\n",
       "      <td>4</td>\n",
       "      <td>1</td>\n",
       "      <td>0</td>\n",
       "      <td>119346.88</td>\n",
       "      <td>1</td>\n",
       "    </tr>\n",
       "    <tr>\n",
       "      <th>8</th>\n",
       "      <td>9</td>\n",
       "      <td>15792365</td>\n",
       "      <td>He</td>\n",
       "      <td>501</td>\n",
       "      <td>France</td>\n",
       "      <td>Male</td>\n",
       "      <td>44</td>\n",
       "      <td>4.0</td>\n",
       "      <td>142051.07</td>\n",
       "      <td>2</td>\n",
       "      <td>0</td>\n",
       "      <td>1</td>\n",
       "      <td>74940.50</td>\n",
       "      <td>0</td>\n",
       "    </tr>\n",
       "    <tr>\n",
       "      <th>9</th>\n",
       "      <td>10</td>\n",
       "      <td>15592389</td>\n",
       "      <td>H?</td>\n",
       "      <td>684</td>\n",
       "      <td>France</td>\n",
       "      <td>Male</td>\n",
       "      <td>27</td>\n",
       "      <td>2.0</td>\n",
       "      <td>134603.88</td>\n",
       "      <td>1</td>\n",
       "      <td>1</td>\n",
       "      <td>1</td>\n",
       "      <td>71725.73</td>\n",
       "      <td>0</td>\n",
       "    </tr>\n",
       "  </tbody>\n",
       "</table>\n",
       "</div>"
      ],
      "text/plain": [
       "   RowNumber  CustomerId   Surname  CreditScore Geography  Gender  Age  \\\n",
       "0          1    15634602  Hargrave          619    France  Female   42   \n",
       "1          2    15647311      Hill          608     Spain  Female   41   \n",
       "2          3    15619304      Onio          502    France  Female   42   \n",
       "3          4    15701354      Boni          699    France  Female   39   \n",
       "4          5    15737888  Mitchell          850     Spain  Female   43   \n",
       "5          6    15574012       Chu          645     Spain    Male   44   \n",
       "6          7    15592531  Bartlett          822    France    Male   50   \n",
       "7          8    15656148    Obinna          376   Germany  Female   29   \n",
       "8          9    15792365        He          501    France    Male   44   \n",
       "9         10    15592389        H?          684    France    Male   27   \n",
       "\n",
       "   Tenure    Balance  NumOfProducts  HasCrCard  IsActiveMember  \\\n",
       "0     2.0       0.00              1          1               1   \n",
       "1     1.0   83807.86              1          0               1   \n",
       "2     8.0  159660.80              3          1               0   \n",
       "3     1.0       0.00              2          0               0   \n",
       "4     2.0  125510.82              1          1               1   \n",
       "5     8.0  113755.78              2          1               0   \n",
       "6     7.0       0.00              2          1               1   \n",
       "7     4.0  115046.74              4          1               0   \n",
       "8     4.0  142051.07              2          0               1   \n",
       "9     2.0  134603.88              1          1               1   \n",
       "\n",
       "   EstimatedSalary  Exited  \n",
       "0        101348.88       1  \n",
       "1        112542.58       0  \n",
       "2        113931.57       1  \n",
       "3         93826.63       0  \n",
       "4         79084.10       0  \n",
       "5        149756.71       1  \n",
       "6         10062.80       0  \n",
       "7        119346.88       1  \n",
       "8         74940.50       0  \n",
       "9         71725.73       0  "
      ]
     },
     "execution_count": 4,
     "metadata": {},
     "output_type": "execute_result"
    }
   ],
   "source": [
    "df.head(10)"
   ]
  },
  {
   "cell_type": "code",
   "execution_count": 5,
   "metadata": {},
   "outputs": [
    {
     "name": "stdout",
     "output_type": "stream",
     "text": [
      "<class 'pandas.core.frame.DataFrame'>\n",
      "RangeIndex: 10000 entries, 0 to 9999\n",
      "Data columns (total 14 columns):\n",
      " #   Column           Non-Null Count  Dtype  \n",
      "---  ------           --------------  -----  \n",
      " 0   RowNumber        10000 non-null  int64  \n",
      " 1   CustomerId       10000 non-null  int64  \n",
      " 2   Surname          10000 non-null  object \n",
      " 3   CreditScore      10000 non-null  int64  \n",
      " 4   Geography        10000 non-null  object \n",
      " 5   Gender           10000 non-null  object \n",
      " 6   Age              10000 non-null  int64  \n",
      " 7   Tenure           9091 non-null   float64\n",
      " 8   Balance          10000 non-null  float64\n",
      " 9   NumOfProducts    10000 non-null  int64  \n",
      " 10  HasCrCard        10000 non-null  int64  \n",
      " 11  IsActiveMember   10000 non-null  int64  \n",
      " 12  EstimatedSalary  10000 non-null  float64\n",
      " 13  Exited           10000 non-null  int64  \n",
      "dtypes: float64(3), int64(8), object(3)\n",
      "memory usage: 1.1+ MB\n"
     ]
    }
   ],
   "source": [
    "df.info()"
   ]
  },
  {
   "cell_type": "markdown",
   "metadata": {},
   "source": [
    "Столбцы `RowNumber` (индекс строки в данных), `CustomerID` (уникальный идентификатор клиента) и `Surname` (фамилия) не несут для будущей модели важности, не будем брать в признаки.  "
   ]
  },
  {
   "cell_type": "markdown",
   "metadata": {},
   "source": [
    "Однако проверим `CustomerID` на дубликаты"
   ]
  },
  {
   "cell_type": "code",
   "execution_count": 6,
   "metadata": {},
   "outputs": [
    {
     "data": {
      "text/plain": [
       "0"
      ]
     },
     "execution_count": 6,
     "metadata": {},
     "output_type": "execute_result"
    }
   ],
   "source": [
    "df['CustomerId'].duplicated().sum()"
   ]
  },
  {
   "cell_type": "markdown",
   "metadata": {},
   "source": [
    "### Предобработка данных"
   ]
  },
  {
   "cell_type": "markdown",
   "metadata": {},
   "source": [
    "#### Пропуски"
   ]
  },
  {
   "cell_type": "markdown",
   "metadata": {},
   "source": [
    "Выведем процент пропусков по каждому столбцу."
   ]
  },
  {
   "cell_type": "code",
   "execution_count": 7,
   "metadata": {},
   "outputs": [
    {
     "data": {
      "text/html": [
       "<style  type=\"text/css\" >\n",
       "#T_8e2a3_row0_col0,#T_8e2a3_row1_col0,#T_8e2a3_row2_col0,#T_8e2a3_row3_col0,#T_8e2a3_row4_col0,#T_8e2a3_row5_col0,#T_8e2a3_row6_col0,#T_8e2a3_row8_col0,#T_8e2a3_row9_col0,#T_8e2a3_row10_col0,#T_8e2a3_row11_col0,#T_8e2a3_row12_col0,#T_8e2a3_row13_col0{\n",
       "            background-color:  #3b4cc0;\n",
       "            color:  #f1f1f1;\n",
       "        }#T_8e2a3_row7_col0{\n",
       "            background-color:  #b40426;\n",
       "            color:  #f1f1f1;\n",
       "        }</style><table id=\"T_8e2a3_\" ><thead>    <tr>        <th class=\"blank level0\" ></th>        <th class=\"col_heading level0 col0\" >0</th>    </tr></thead><tbody>\n",
       "                <tr>\n",
       "                        <th id=\"T_8e2a3_level0_row0\" class=\"row_heading level0 row0\" >RowNumber</th>\n",
       "                        <td id=\"T_8e2a3_row0_col0\" class=\"data row0 col0\" >0.000000</td>\n",
       "            </tr>\n",
       "            <tr>\n",
       "                        <th id=\"T_8e2a3_level0_row1\" class=\"row_heading level0 row1\" >CustomerId</th>\n",
       "                        <td id=\"T_8e2a3_row1_col0\" class=\"data row1 col0\" >0.000000</td>\n",
       "            </tr>\n",
       "            <tr>\n",
       "                        <th id=\"T_8e2a3_level0_row2\" class=\"row_heading level0 row2\" >Surname</th>\n",
       "                        <td id=\"T_8e2a3_row2_col0\" class=\"data row2 col0\" >0.000000</td>\n",
       "            </tr>\n",
       "            <tr>\n",
       "                        <th id=\"T_8e2a3_level0_row3\" class=\"row_heading level0 row3\" >CreditScore</th>\n",
       "                        <td id=\"T_8e2a3_row3_col0\" class=\"data row3 col0\" >0.000000</td>\n",
       "            </tr>\n",
       "            <tr>\n",
       "                        <th id=\"T_8e2a3_level0_row4\" class=\"row_heading level0 row4\" >Geography</th>\n",
       "                        <td id=\"T_8e2a3_row4_col0\" class=\"data row4 col0\" >0.000000</td>\n",
       "            </tr>\n",
       "            <tr>\n",
       "                        <th id=\"T_8e2a3_level0_row5\" class=\"row_heading level0 row5\" >Gender</th>\n",
       "                        <td id=\"T_8e2a3_row5_col0\" class=\"data row5 col0\" >0.000000</td>\n",
       "            </tr>\n",
       "            <tr>\n",
       "                        <th id=\"T_8e2a3_level0_row6\" class=\"row_heading level0 row6\" >Age</th>\n",
       "                        <td id=\"T_8e2a3_row6_col0\" class=\"data row6 col0\" >0.000000</td>\n",
       "            </tr>\n",
       "            <tr>\n",
       "                        <th id=\"T_8e2a3_level0_row7\" class=\"row_heading level0 row7\" >Tenure</th>\n",
       "                        <td id=\"T_8e2a3_row7_col0\" class=\"data row7 col0\" >9.000000</td>\n",
       "            </tr>\n",
       "            <tr>\n",
       "                        <th id=\"T_8e2a3_level0_row8\" class=\"row_heading level0 row8\" >Balance</th>\n",
       "                        <td id=\"T_8e2a3_row8_col0\" class=\"data row8 col0\" >0.000000</td>\n",
       "            </tr>\n",
       "            <tr>\n",
       "                        <th id=\"T_8e2a3_level0_row9\" class=\"row_heading level0 row9\" >NumOfProducts</th>\n",
       "                        <td id=\"T_8e2a3_row9_col0\" class=\"data row9 col0\" >0.000000</td>\n",
       "            </tr>\n",
       "            <tr>\n",
       "                        <th id=\"T_8e2a3_level0_row10\" class=\"row_heading level0 row10\" >HasCrCard</th>\n",
       "                        <td id=\"T_8e2a3_row10_col0\" class=\"data row10 col0\" >0.000000</td>\n",
       "            </tr>\n",
       "            <tr>\n",
       "                        <th id=\"T_8e2a3_level0_row11\" class=\"row_heading level0 row11\" >IsActiveMember</th>\n",
       "                        <td id=\"T_8e2a3_row11_col0\" class=\"data row11 col0\" >0.000000</td>\n",
       "            </tr>\n",
       "            <tr>\n",
       "                        <th id=\"T_8e2a3_level0_row12\" class=\"row_heading level0 row12\" >EstimatedSalary</th>\n",
       "                        <td id=\"T_8e2a3_row12_col0\" class=\"data row12 col0\" >0.000000</td>\n",
       "            </tr>\n",
       "            <tr>\n",
       "                        <th id=\"T_8e2a3_level0_row13\" class=\"row_heading level0 row13\" >Exited</th>\n",
       "                        <td id=\"T_8e2a3_row13_col0\" class=\"data row13 col0\" >0.000000</td>\n",
       "            </tr>\n",
       "    </tbody></table>"
      ],
      "text/plain": [
       "<pandas.io.formats.style.Styler at 0x7f213e45b1c0>"
      ]
     },
     "execution_count": 7,
     "metadata": {},
     "output_type": "execute_result"
    }
   ],
   "source": [
    "pd.DataFrame(round(df.isna().mean()*100,)).style.background_gradient('coolwarm')"
   ]
  },
  {
   "cell_type": "markdown",
   "metadata": {},
   "source": [
    "Есть пропущенные значения в столбце `Tenure` (сколько лет человек является клиентом банка).  \n",
    "Выведем уникальные значения столбца, чтобы проверить значения на соответствие типу столбца:"
   ]
  },
  {
   "cell_type": "code",
   "execution_count": 8,
   "metadata": {},
   "outputs": [
    {
     "data": {
      "text/plain": [
       "array([ 2.,  1.,  8.,  7.,  4.,  6.,  3., 10.,  5.,  9.,  0., nan])"
      ]
     },
     "execution_count": 8,
     "metadata": {},
     "output_type": "execute_result"
    }
   ],
   "source": [
    "df['Tenure'].unique()"
   ]
  },
  {
   "cell_type": "markdown",
   "metadata": {},
   "source": [
    "Очевидно, что столбец должен быть целочисленного типа, но пропущенные значения не дадут нам его привести к `Int64`. Заполним пустые значения медианой."
   ]
  },
  {
   "cell_type": "code",
   "execution_count": 9,
   "metadata": {},
   "outputs": [],
   "source": [
    "df['Tenure'] = df['Tenure'].fillna(df['Tenure'].median())"
   ]
  },
  {
   "cell_type": "markdown",
   "metadata": {},
   "source": [
    "Изменим тип на целочисленный."
   ]
  },
  {
   "cell_type": "code",
   "execution_count": 10,
   "metadata": {},
   "outputs": [],
   "source": [
    "df['Tenure'] = df['Tenure'].astype('int')"
   ]
  },
  {
   "cell_type": "markdown",
   "metadata": {},
   "source": [
    "Проверим и выведем отсортированные уникальные значения столбца `Tenure`"
   ]
  },
  {
   "cell_type": "code",
   "execution_count": 11,
   "metadata": {},
   "outputs": [
    {
     "data": {
      "text/plain": [
       "[0, 1, 2, 3, 4, 5, 6, 7, 8, 9, 10]"
      ]
     },
     "execution_count": 11,
     "metadata": {},
     "output_type": "execute_result"
    }
   ],
   "source": [
    "sorted(df['Tenure'].unique())"
   ]
  },
  {
   "cell_type": "markdown",
   "metadata": {},
   "source": [
    "#### Некоторые столбцы и их значения"
   ]
  },
  {
   "cell_type": "markdown",
   "metadata": {},
   "source": [
    "Учитывая принятые правки в количестве полов, посмотрим уникальные значения в столбце `Gender`"
   ]
  },
  {
   "cell_type": "code",
   "execution_count": 12,
   "metadata": {},
   "outputs": [
    {
     "data": {
      "text/plain": [
       "Male      5457\n",
       "Female    4543\n",
       "Name: Gender, dtype: int64"
      ]
     },
     "execution_count": 12,
     "metadata": {},
     "output_type": "execute_result"
    }
   ],
   "source": [
    "df['Gender'].value_counts()"
   ]
  },
  {
   "cell_type": "markdown",
   "metadata": {},
   "source": [
    "Вот и славно. Полов всего 2 - мужской и женский."
   ]
  },
  {
   "cell_type": "code",
   "execution_count": 13,
   "metadata": {},
   "outputs": [
    {
     "data": {
      "text/plain": [
       "0    7963\n",
       "1    2037\n",
       "Name: Exited, dtype: int64"
      ]
     },
     "execution_count": 13,
     "metadata": {},
     "output_type": "execute_result"
    }
   ],
   "source": [
    "df['Exited'].value_counts()"
   ]
  },
  {
   "cell_type": "markdown",
   "metadata": {},
   "source": [
    "Тут мы увидели большое количество значений 0 и маленькое 1. Вернемся к этому вопросу позже."
   ]
  },
  {
   "cell_type": "markdown",
   "metadata": {},
   "source": [
    "#### Дубликаты"
   ]
  },
  {
   "cell_type": "markdown",
   "metadata": {},
   "source": [
    "Сначала проверим на явные дубликаты:"
   ]
  },
  {
   "cell_type": "code",
   "execution_count": 14,
   "metadata": {
    "scrolled": true
   },
   "outputs": [
    {
     "data": {
      "text/plain": [
       "0"
      ]
     },
     "execution_count": 14,
     "metadata": {},
     "output_type": "execute_result"
    }
   ],
   "source": [
    "df.duplicated().sum()"
   ]
  },
  {
   "cell_type": "markdown",
   "metadata": {},
   "source": [
    "Теперь проверим на неявные дубликаты:"
   ]
  },
  {
   "cell_type": "code",
   "execution_count": 15,
   "metadata": {},
   "outputs": [
    {
     "data": {
      "text/plain": [
       "array(['France', 'Spain', 'Germany'], dtype=object)"
      ]
     },
     "execution_count": 15,
     "metadata": {},
     "output_type": "execute_result"
    }
   ],
   "source": [
    "df['Geography'].unique()"
   ]
  },
  {
   "cell_type": "markdown",
   "metadata": {},
   "source": [
    "**Вывод**  \n",
    "\n",
    "- `RowNumber` — индекс строки в данных не несет ценности для обучения модели, не будем использовать в features.  \n",
    "- `CustomerId` — уникальный идентификатор клиента не будем использовать в features.  \n",
    "- `Surname` — фамилия не будет использовать в features.  \n",
    "- `Geography` — страна проживания содержит три значения, которые преобразуем в численные значения техникой прямого кодирования OHE.  \n",
    "- `Gender` — пол содержит 2 значения, которые преобразуем в численные значения техникой прямого кодирования OHE.   \n",
    "- `Tenure` — сколько лет человек является клиентом банка заполнили пропуски фиктивным 999 и изменили тип данных на целочисленный.  \n"
   ]
  },
  {
   "cell_type": "markdown",
   "metadata": {},
   "source": [
    "### Подготовка датасета к ML"
   ]
  },
  {
   "cell_type": "code",
   "execution_count": 16,
   "metadata": {
    "scrolled": true
   },
   "outputs": [
    {
     "data": {
      "text/html": [
       "<div>\n",
       "<style scoped>\n",
       "    .dataframe tbody tr th:only-of-type {\n",
       "        vertical-align: middle;\n",
       "    }\n",
       "\n",
       "    .dataframe tbody tr th {\n",
       "        vertical-align: top;\n",
       "    }\n",
       "\n",
       "    .dataframe thead th {\n",
       "        text-align: right;\n",
       "    }\n",
       "</style>\n",
       "<table border=\"1\" class=\"dataframe\">\n",
       "  <thead>\n",
       "    <tr style=\"text-align: right;\">\n",
       "      <th></th>\n",
       "      <th>CreditScore</th>\n",
       "      <th>Age</th>\n",
       "      <th>Tenure</th>\n",
       "      <th>Balance</th>\n",
       "      <th>NumOfProducts</th>\n",
       "      <th>HasCrCard</th>\n",
       "      <th>IsActiveMember</th>\n",
       "      <th>EstimatedSalary</th>\n",
       "      <th>Exited</th>\n",
       "      <th>Geography_Germany</th>\n",
       "      <th>Geography_Spain</th>\n",
       "      <th>Gender_Male</th>\n",
       "    </tr>\n",
       "  </thead>\n",
       "  <tbody>\n",
       "    <tr>\n",
       "      <th>0</th>\n",
       "      <td>619</td>\n",
       "      <td>42</td>\n",
       "      <td>2</td>\n",
       "      <td>0.00</td>\n",
       "      <td>1</td>\n",
       "      <td>1</td>\n",
       "      <td>1</td>\n",
       "      <td>101348.88</td>\n",
       "      <td>1</td>\n",
       "      <td>0</td>\n",
       "      <td>0</td>\n",
       "      <td>0</td>\n",
       "    </tr>\n",
       "    <tr>\n",
       "      <th>1</th>\n",
       "      <td>608</td>\n",
       "      <td>41</td>\n",
       "      <td>1</td>\n",
       "      <td>83807.86</td>\n",
       "      <td>1</td>\n",
       "      <td>0</td>\n",
       "      <td>1</td>\n",
       "      <td>112542.58</td>\n",
       "      <td>0</td>\n",
       "      <td>0</td>\n",
       "      <td>1</td>\n",
       "      <td>0</td>\n",
       "    </tr>\n",
       "    <tr>\n",
       "      <th>2</th>\n",
       "      <td>502</td>\n",
       "      <td>42</td>\n",
       "      <td>8</td>\n",
       "      <td>159660.80</td>\n",
       "      <td>3</td>\n",
       "      <td>1</td>\n",
       "      <td>0</td>\n",
       "      <td>113931.57</td>\n",
       "      <td>1</td>\n",
       "      <td>0</td>\n",
       "      <td>0</td>\n",
       "      <td>0</td>\n",
       "    </tr>\n",
       "    <tr>\n",
       "      <th>3</th>\n",
       "      <td>699</td>\n",
       "      <td>39</td>\n",
       "      <td>1</td>\n",
       "      <td>0.00</td>\n",
       "      <td>2</td>\n",
       "      <td>0</td>\n",
       "      <td>0</td>\n",
       "      <td>93826.63</td>\n",
       "      <td>0</td>\n",
       "      <td>0</td>\n",
       "      <td>0</td>\n",
       "      <td>0</td>\n",
       "    </tr>\n",
       "    <tr>\n",
       "      <th>4</th>\n",
       "      <td>850</td>\n",
       "      <td>43</td>\n",
       "      <td>2</td>\n",
       "      <td>125510.82</td>\n",
       "      <td>1</td>\n",
       "      <td>1</td>\n",
       "      <td>1</td>\n",
       "      <td>79084.10</td>\n",
       "      <td>0</td>\n",
       "      <td>0</td>\n",
       "      <td>1</td>\n",
       "      <td>0</td>\n",
       "    </tr>\n",
       "  </tbody>\n",
       "</table>\n",
       "</div>"
      ],
      "text/plain": [
       "   CreditScore  Age  Tenure    Balance  NumOfProducts  HasCrCard  \\\n",
       "0          619   42       2       0.00              1          1   \n",
       "1          608   41       1   83807.86              1          0   \n",
       "2          502   42       8  159660.80              3          1   \n",
       "3          699   39       1       0.00              2          0   \n",
       "4          850   43       2  125510.82              1          1   \n",
       "\n",
       "   IsActiveMember  EstimatedSalary  Exited  Geography_Germany  \\\n",
       "0               1        101348.88       1                  0   \n",
       "1               1        112542.58       0                  0   \n",
       "2               0        113931.57       1                  0   \n",
       "3               0         93826.63       0                  0   \n",
       "4               1         79084.10       0                  0   \n",
       "\n",
       "   Geography_Spain  Gender_Male  \n",
       "0                0            0  \n",
       "1                1            0  \n",
       "2                0            0  \n",
       "3                0            0  \n",
       "4                1            0  "
      ]
     },
     "execution_count": 16,
     "metadata": {},
     "output_type": "execute_result"
    }
   ],
   "source": [
    "df_prep = df.drop(['RowNumber', 'CustomerId', 'Surname'], axis=1) #удалили ненужные столбцы\n",
    "df_prep = pd.get_dummies(df_prep, drop_first=True) #преобразуем данные техникой прямого кодирования, \n",
    "                                                   #удалив первый созданный столбец, чтобы избежать дамми-ловушку\n",
    "df_prep.head()"
   ]
  },
  {
   "cell_type": "code",
   "execution_count": 17,
   "metadata": {},
   "outputs": [
    {
     "data": {
      "text/plain": [
       "array([ 2,  1,  8,  7,  4,  6,  3, 10,  5,  9,  0])"
      ]
     },
     "execution_count": 17,
     "metadata": {},
     "output_type": "execute_result"
    }
   ],
   "source": [
    "df['Tenure'].unique()"
   ]
  },
  {
   "cell_type": "markdown",
   "metadata": {},
   "source": [
    "#### Посмотрим корреляцию признаков"
   ]
  },
  {
   "cell_type": "markdown",
   "metadata": {},
   "source": [
    "Отделим количественные данные в отдельный список столбцов и передадим этот список как параметр матрице корреляции PhiK и выведем матрицу корреляции Phik."
   ]
  },
  {
   "cell_type": "code",
   "execution_count": 19,
   "metadata": {},
   "outputs": [
    {
     "data": {
      "text/html": [
       "<div>\n",
       "<style scoped>\n",
       "    .dataframe tbody tr th:only-of-type {\n",
       "        vertical-align: middle;\n",
       "    }\n",
       "\n",
       "    .dataframe tbody tr th {\n",
       "        vertical-align: top;\n",
       "    }\n",
       "\n",
       "    .dataframe thead th {\n",
       "        text-align: right;\n",
       "    }\n",
       "</style>\n",
       "<table border=\"1\" class=\"dataframe\">\n",
       "  <thead>\n",
       "    <tr style=\"text-align: right;\">\n",
       "      <th></th>\n",
       "      <th>CreditScore</th>\n",
       "      <th>Age</th>\n",
       "      <th>Tenure</th>\n",
       "      <th>Balance</th>\n",
       "      <th>NumOfProducts</th>\n",
       "      <th>HasCrCard</th>\n",
       "      <th>IsActiveMember</th>\n",
       "      <th>EstimatedSalary</th>\n",
       "      <th>Exited</th>\n",
       "      <th>Geography_Germany</th>\n",
       "      <th>Geography_Spain</th>\n",
       "      <th>Gender_Male</th>\n",
       "    </tr>\n",
       "  </thead>\n",
       "  <tbody>\n",
       "    <tr>\n",
       "      <th>CreditScore</th>\n",
       "      <td>1.00</td>\n",
       "      <td>0.00</td>\n",
       "      <td>0.00</td>\n",
       "      <td>0.00</td>\n",
       "      <td>0.03</td>\n",
       "      <td>0.00</td>\n",
       "      <td>0.04</td>\n",
       "      <td>0.03</td>\n",
       "      <td>0.10</td>\n",
       "      <td>0.02</td>\n",
       "      <td>0.03</td>\n",
       "      <td>0.00</td>\n",
       "    </tr>\n",
       "    <tr>\n",
       "      <th>Age</th>\n",
       "      <td>0.00</td>\n",
       "      <td>1.00</td>\n",
       "      <td>0.04</td>\n",
       "      <td>0.04</td>\n",
       "      <td>0.15</td>\n",
       "      <td>0.02</td>\n",
       "      <td>0.19</td>\n",
       "      <td>0.05</td>\n",
       "      <td>0.49</td>\n",
       "      <td>0.09</td>\n",
       "      <td>0.00</td>\n",
       "      <td>0.03</td>\n",
       "    </tr>\n",
       "    <tr>\n",
       "      <th>Tenure</th>\n",
       "      <td>0.00</td>\n",
       "      <td>0.04</td>\n",
       "      <td>1.00</td>\n",
       "      <td>0.06</td>\n",
       "      <td>0.06</td>\n",
       "      <td>0.03</td>\n",
       "      <td>0.03</td>\n",
       "      <td>0.00</td>\n",
       "      <td>0.02</td>\n",
       "      <td>0.02</td>\n",
       "      <td>0.00</td>\n",
       "      <td>0.03</td>\n",
       "    </tr>\n",
       "    <tr>\n",
       "      <th>Balance</th>\n",
       "      <td>0.00</td>\n",
       "      <td>0.04</td>\n",
       "      <td>0.06</td>\n",
       "      <td>1.00</td>\n",
       "      <td>0.37</td>\n",
       "      <td>0.05</td>\n",
       "      <td>0.02</td>\n",
       "      <td>0.00</td>\n",
       "      <td>0.18</td>\n",
       "      <td>0.58</td>\n",
       "      <td>0.19</td>\n",
       "      <td>0.00</td>\n",
       "    </tr>\n",
       "    <tr>\n",
       "      <th>NumOfProducts</th>\n",
       "      <td>0.03</td>\n",
       "      <td>0.15</td>\n",
       "      <td>0.06</td>\n",
       "      <td>0.37</td>\n",
       "      <td>1.00</td>\n",
       "      <td>0.00</td>\n",
       "      <td>0.06</td>\n",
       "      <td>0.03</td>\n",
       "      <td>0.57</td>\n",
       "      <td>0.10</td>\n",
       "      <td>0.04</td>\n",
       "      <td>0.06</td>\n",
       "    </tr>\n",
       "    <tr>\n",
       "      <th>HasCrCard</th>\n",
       "      <td>0.00</td>\n",
       "      <td>0.02</td>\n",
       "      <td>0.03</td>\n",
       "      <td>0.05</td>\n",
       "      <td>0.00</td>\n",
       "      <td>1.00</td>\n",
       "      <td>0.01</td>\n",
       "      <td>0.00</td>\n",
       "      <td>0.00</td>\n",
       "      <td>0.00</td>\n",
       "      <td>0.01</td>\n",
       "      <td>0.00</td>\n",
       "    </tr>\n",
       "    <tr>\n",
       "      <th>IsActiveMember</th>\n",
       "      <td>0.04</td>\n",
       "      <td>0.19</td>\n",
       "      <td>0.03</td>\n",
       "      <td>0.02</td>\n",
       "      <td>0.06</td>\n",
       "      <td>0.01</td>\n",
       "      <td>1.00</td>\n",
       "      <td>0.03</td>\n",
       "      <td>0.24</td>\n",
       "      <td>0.03</td>\n",
       "      <td>0.02</td>\n",
       "      <td>0.03</td>\n",
       "    </tr>\n",
       "    <tr>\n",
       "      <th>EstimatedSalary</th>\n",
       "      <td>0.03</td>\n",
       "      <td>0.05</td>\n",
       "      <td>0.00</td>\n",
       "      <td>0.00</td>\n",
       "      <td>0.03</td>\n",
       "      <td>0.00</td>\n",
       "      <td>0.03</td>\n",
       "      <td>1.00</td>\n",
       "      <td>0.00</td>\n",
       "      <td>0.02</td>\n",
       "      <td>0.03</td>\n",
       "      <td>0.03</td>\n",
       "    </tr>\n",
       "    <tr>\n",
       "      <th>Exited</th>\n",
       "      <td>0.10</td>\n",
       "      <td>0.49</td>\n",
       "      <td>0.02</td>\n",
       "      <td>0.18</td>\n",
       "      <td>0.57</td>\n",
       "      <td>0.00</td>\n",
       "      <td>0.24</td>\n",
       "      <td>0.00</td>\n",
       "      <td>1.00</td>\n",
       "      <td>0.27</td>\n",
       "      <td>0.08</td>\n",
       "      <td>0.17</td>\n",
       "    </tr>\n",
       "    <tr>\n",
       "      <th>Geography_Germany</th>\n",
       "      <td>0.02</td>\n",
       "      <td>0.09</td>\n",
       "      <td>0.02</td>\n",
       "      <td>0.58</td>\n",
       "      <td>0.10</td>\n",
       "      <td>0.00</td>\n",
       "      <td>0.03</td>\n",
       "      <td>0.02</td>\n",
       "      <td>0.27</td>\n",
       "      <td>1.00</td>\n",
       "      <td>0.50</td>\n",
       "      <td>0.03</td>\n",
       "    </tr>\n",
       "    <tr>\n",
       "      <th>Geography_Spain</th>\n",
       "      <td>0.03</td>\n",
       "      <td>0.00</td>\n",
       "      <td>0.00</td>\n",
       "      <td>0.19</td>\n",
       "      <td>0.04</td>\n",
       "      <td>0.01</td>\n",
       "      <td>0.02</td>\n",
       "      <td>0.03</td>\n",
       "      <td>0.08</td>\n",
       "      <td>0.50</td>\n",
       "      <td>1.00</td>\n",
       "      <td>0.02</td>\n",
       "    </tr>\n",
       "    <tr>\n",
       "      <th>Gender_Male</th>\n",
       "      <td>0.00</td>\n",
       "      <td>0.03</td>\n",
       "      <td>0.03</td>\n",
       "      <td>0.00</td>\n",
       "      <td>0.06</td>\n",
       "      <td>0.00</td>\n",
       "      <td>0.03</td>\n",
       "      <td>0.03</td>\n",
       "      <td>0.17</td>\n",
       "      <td>0.03</td>\n",
       "      <td>0.02</td>\n",
       "      <td>1.00</td>\n",
       "    </tr>\n",
       "  </tbody>\n",
       "</table>\n",
       "</div>"
      ],
      "text/plain": [
       "                   CreditScore   Age  Tenure  Balance  NumOfProducts  \\\n",
       "CreditScore               1.00  0.00    0.00     0.00           0.03   \n",
       "Age                       0.00  1.00    0.04     0.04           0.15   \n",
       "Tenure                    0.00  0.04    1.00     0.06           0.06   \n",
       "Balance                   0.00  0.04    0.06     1.00           0.37   \n",
       "NumOfProducts             0.03  0.15    0.06     0.37           1.00   \n",
       "HasCrCard                 0.00  0.02    0.03     0.05           0.00   \n",
       "IsActiveMember            0.04  0.19    0.03     0.02           0.06   \n",
       "EstimatedSalary           0.03  0.05    0.00     0.00           0.03   \n",
       "Exited                    0.10  0.49    0.02     0.18           0.57   \n",
       "Geography_Germany         0.02  0.09    0.02     0.58           0.10   \n",
       "Geography_Spain           0.03  0.00    0.00     0.19           0.04   \n",
       "Gender_Male               0.00  0.03    0.03     0.00           0.06   \n",
       "\n",
       "                   HasCrCard  IsActiveMember  EstimatedSalary  Exited  \\\n",
       "CreditScore             0.00            0.04             0.03    0.10   \n",
       "Age                     0.02            0.19             0.05    0.49   \n",
       "Tenure                  0.03            0.03             0.00    0.02   \n",
       "Balance                 0.05            0.02             0.00    0.18   \n",
       "NumOfProducts           0.00            0.06             0.03    0.57   \n",
       "HasCrCard               1.00            0.01             0.00    0.00   \n",
       "IsActiveMember          0.01            1.00             0.03    0.24   \n",
       "EstimatedSalary         0.00            0.03             1.00    0.00   \n",
       "Exited                  0.00            0.24             0.00    1.00   \n",
       "Geography_Germany       0.00            0.03             0.02    0.27   \n",
       "Geography_Spain         0.01            0.02             0.03    0.08   \n",
       "Gender_Male             0.00            0.03             0.03    0.17   \n",
       "\n",
       "                   Geography_Germany  Geography_Spain  Gender_Male  \n",
       "CreditScore                     0.02             0.03         0.00  \n",
       "Age                             0.09             0.00         0.03  \n",
       "Tenure                          0.02             0.00         0.03  \n",
       "Balance                         0.58             0.19         0.00  \n",
       "NumOfProducts                   0.10             0.04         0.06  \n",
       "HasCrCard                       0.00             0.01         0.00  \n",
       "IsActiveMember                  0.03             0.02         0.03  \n",
       "EstimatedSalary                 0.02             0.03         0.03  \n",
       "Exited                          0.27             0.08         0.17  \n",
       "Geography_Germany               1.00             0.50         0.03  \n",
       "Geography_Spain                 0.50             1.00         0.02  \n",
       "Gender_Male                     0.03             0.02         1.00  "
      ]
     },
     "execution_count": 19,
     "metadata": {},
     "output_type": "execute_result"
    }
   ],
   "source": [
    "interval_cols = ['CreditScore', 'Age', 'Tenure', 'Balance', 'NumOfProducts', 'EstimatedSalary']\n",
    "phik_overview = df_prep.phik_matrix(interval_cols=interval_cols)\n",
    "phik_overview.round(2)"
   ]
  },
  {
   "cell_type": "markdown",
   "metadata": {},
   "source": [
    "Выведем heatmap для матрицы корреляции Phik"
   ]
  },
  {
   "cell_type": "code",
   "execution_count": 20,
   "metadata": {},
   "outputs": [
    {
     "data": {
      "image/png": "[encoded data removed]",
      "text/plain": [
       "<Figure size 720x576 with 2 Axes>"
      ]
     },
     "metadata": {
      "needs_background": "light"
     },
     "output_type": "display_data"
    }
   ],
   "source": [
    "plot_correlation_matrix(phik_overview.values, \n",
    "                        x_labels=phik_overview.columns, \n",
    "                        y_labels=phik_overview.index, \n",
    "                        vmin=0, vmax=1, color_map=\"YlGnBu\", \n",
    "                        title=r\"correlation $\\phi_K$\", \n",
    "                        fontsize_factor=1.5, \n",
    "                        figsize=(10, 8))\n",
    "plt.tight_layout()"
   ]
  },
  {
   "cell_type": "markdown",
   "metadata": {},
   "source": [
    "Из матрицы корреляции Fhik мы видим, что:  \n",
    "- Возраст влияет на решение выйти числа из клинетов банка (Age vs Exited).  \n",
    "- Баланс и клиенты из Германии коррелируют.   \n",
    "- Количество продуктов и Признак выхода (Balance vs Exited).  \n",
    "- Немного чувствителен столбец Balance к Количеству продуктов."
   ]
  },
  {
   "cell_type": "markdown",
   "metadata": {},
   "source": [
    "**Выведем отчет корреляции Phik**, в котором:  \n",
    "- сначала идет heatmap матрицы корреляции Fhik (уже вывели и описали выше),  \n",
    "- глобальные коэффициенты корреляции (дают достоверную оценку того, насколько хорошо каждая переменная может быть смоделирована с точки зрения всех других переменных, независимо от типа переменной),   \n",
    "- матрица значимости (показывает статистическую значимость коррелированных и некоррелированных пар переменных.)\n",
    "- Значения выбросов для пар переменных, в нашем случае для /Balance и хз какой/ и /NumOfProducts и хз какой/\n",
    "  \n",
    "В параметрах указываем  \n",
    "- significance_threshold – оценить значимость выбросов для всех пар переменных со значением некорреляции выше этого порога  \n",
    "- correlation_threshold – оценить значимость выбросов для всех пар переменных со значением корреляции phik выше этого порога"
   ]
  },
  {
   "cell_type": "code",
   "execution_count": 21,
   "metadata": {
    "scrolled": false
   },
   "outputs": [
    {
     "name": "stdout",
     "output_type": "stream",
     "text": [
      "interval columns not set, guessing: ['CreditScore', 'Age', 'Tenure', 'Balance', 'NumOfProducts', 'HasCrCard', 'IsActiveMember', 'EstimatedSalary', 'Exited', 'Geography_Germany', 'Geography_Spain', 'Gender_Male']\n"
     ]
    },
    {
     "data": {
      "image/png": "[encoded data removed]",
      "text/plain": [
       "<Figure size 504x396 with 2 Axes>"
      ]
     },
     "metadata": {
      "needs_background": "light"
     },
     "output_type": "display_data"
    },
    {
     "data": {
      "image/png": "[encoded data removed]",
      "text/plain": [
       "<Figure size 252x288 with 2 Axes>"
      ]
     },
     "metadata": {
      "needs_background": "light"
     },
     "output_type": "display_data"
    },
    {
     "data": {
      "image/png": "[encoded data removed]",
      "text/plain": [
       "<Figure size 504x396 with 2 Axes>"
      ]
     },
     "metadata": {
      "needs_background": "light"
     },
     "output_type": "display_data"
    },
    {
     "data": {
      "image/png": "[encoded data removed]",
      "text/plain": [
       "<Figure size 504x360 with 2 Axes>"
      ]
     },
     "metadata": {
      "needs_background": "light"
     },
     "output_type": "display_data"
    },
    {
     "data": {
      "image/png": "[encoded data removed]",
      "text/plain": [
       "<Figure size 504x360 with 2 Axes>"
      ]
     },
     "metadata": {
      "needs_background": "light"
     },
     "output_type": "display_data"
    }
   ],
   "source": [
    "rep = report.correlation_report(df_prep, significance_threshold=3, correlation_threshold=0.5)"
   ]
  },
  {
   "cell_type": "code",
   "execution_count": 22,
   "metadata": {},
   "outputs": [
    {
     "data": {
      "text/plain": [
       "250898.09"
      ]
     },
     "execution_count": 22,
     "metadata": {},
     "output_type": "execute_result"
    }
   ],
   "source": [
    "# Чтобы узнать для каких переменных последние 2 хитмэпа, \n",
    "# выведу инфу о макс и мин количественных столбцов\n",
    "df_prep['Balance'].max()"
   ]
  },
  {
   "cell_type": "markdown",
   "metadata": {},
   "source": [
    "Каких-то явных прямо зависящих друг от друга переменных мы не обнаружили, можно приступать к исследованию задачи."
   ]
  },
  {
   "cell_type": "markdown",
   "metadata": {},
   "source": [
    "**Выведем медианные значения** сгруппировав данные по столбцу `Факт ухода клиента`"
   ]
  },
  {
   "cell_type": "code",
   "execution_count": 24,
   "metadata": {
    "scrolled": true
   },
   "outputs": [
    {
     "data": {
      "text/html": [
       "<div>\n",
       "<style scoped>\n",
       "    .dataframe tbody tr th:only-of-type {\n",
       "        vertical-align: middle;\n",
       "    }\n",
       "\n",
       "    .dataframe tbody tr th {\n",
       "        vertical-align: top;\n",
       "    }\n",
       "\n",
       "    .dataframe thead th {\n",
       "        text-align: right;\n",
       "    }\n",
       "</style>\n",
       "<table border=\"1\" class=\"dataframe\">\n",
       "  <thead>\n",
       "    <tr style=\"text-align: right;\">\n",
       "      <th></th>\n",
       "      <th>CreditScore</th>\n",
       "      <th>Age</th>\n",
       "      <th>Tenure</th>\n",
       "      <th>Balance</th>\n",
       "      <th>NumOfProducts</th>\n",
       "      <th>HasCrCard</th>\n",
       "      <th>IsActiveMember</th>\n",
       "      <th>EstimatedSalary</th>\n",
       "      <th>Geography_Germany</th>\n",
       "      <th>Geography_Spain</th>\n",
       "      <th>Gender_Male</th>\n",
       "    </tr>\n",
       "    <tr>\n",
       "      <th>Exited</th>\n",
       "      <th></th>\n",
       "      <th></th>\n",
       "      <th></th>\n",
       "      <th></th>\n",
       "      <th></th>\n",
       "      <th></th>\n",
       "      <th></th>\n",
       "      <th></th>\n",
       "      <th></th>\n",
       "      <th></th>\n",
       "      <th></th>\n",
       "    </tr>\n",
       "  </thead>\n",
       "  <tbody>\n",
       "    <tr>\n",
       "      <th>0</th>\n",
       "      <td>653</td>\n",
       "      <td>36</td>\n",
       "      <td>5</td>\n",
       "      <td>92072.68</td>\n",
       "      <td>2</td>\n",
       "      <td>1</td>\n",
       "      <td>1</td>\n",
       "      <td>99645.04</td>\n",
       "      <td>0</td>\n",
       "      <td>0</td>\n",
       "      <td>1</td>\n",
       "    </tr>\n",
       "    <tr>\n",
       "      <th>1</th>\n",
       "      <td>646</td>\n",
       "      <td>45</td>\n",
       "      <td>5</td>\n",
       "      <td>109349.29</td>\n",
       "      <td>1</td>\n",
       "      <td>1</td>\n",
       "      <td>0</td>\n",
       "      <td>102460.84</td>\n",
       "      <td>0</td>\n",
       "      <td>0</td>\n",
       "      <td>0</td>\n",
       "    </tr>\n",
       "  </tbody>\n",
       "</table>\n",
       "</div>"
      ],
      "text/plain": [
       "        CreditScore  Age  Tenure    Balance  NumOfProducts  HasCrCard  \\\n",
       "Exited                                                                  \n",
       "0               653   36       5   92072.68              2          1   \n",
       "1               646   45       5  109349.29              1          1   \n",
       "\n",
       "        IsActiveMember  EstimatedSalary  Geography_Germany  Geography_Spain  \\\n",
       "Exited                                                                        \n",
       "0                    1         99645.04                  0                0   \n",
       "1                    0        102460.84                  0                0   \n",
       "\n",
       "        Gender_Male  \n",
       "Exited               \n",
       "0                 1  \n",
       "1                 0  "
      ]
     },
     "execution_count": 24,
     "metadata": {},
     "output_type": "execute_result"
    }
   ],
   "source": [
    "df_prep.groupby('Exited').median()"
   ]
  },
  {
   "cell_type": "markdown",
   "metadata": {},
   "source": [
    "*Наблюдения за теми, кто ушел:*\n",
    "- Кредитный рейтинг ниже\n",
    "- Возраст выше\n",
    "- Баланс выше\n",
    "- Неактивные клиенты\n",
    "- Предполагаемая ЗП выше\n",
    "- Испания\n",
    "- Женщины"
   ]
  },
  {
   "cell_type": "markdown",
   "metadata": {},
   "source": [
    "### Вывод\n"
   ]
  },
  {
   "cell_type": "markdown",
   "metadata": {},
   "source": [
    "- Пропущенные значения в столбце `Tenure` заполнены значением-заглушкой = 999  \n",
    "- Преобразованы категориальные признаки в численные техникой прямого кодирования  \n",
    "- Удалены столбцы, в которых нет необходимости: `RowNumber`, `CustomerId`, `Surname`  \n",
    "- Данные в датафрейме подготовлены для исследования"
   ]
  },
  {
   "cell_type": "markdown",
   "metadata": {},
   "source": [
    "## Исследование задачи"
   ]
  },
  {
   "cell_type": "markdown",
   "metadata": {},
   "source": [
    "### Деление данных "
   ]
  },
  {
   "cell_type": "markdown",
   "metadata": {},
   "source": [
    "Подготовим признаки и ключевой признак:"
   ]
  },
  {
   "cell_type": "code",
   "execution_count": 25,
   "metadata": {},
   "outputs": [],
   "source": [
    "features = df_prep.drop('Exited', axis=1)\n",
    "target = df_prep['Exited']"
   ]
  },
  {
   "cell_type": "markdown",
   "metadata": {},
   "source": [
    "Разделим признаки на три выборки: тренировочную, валидационную и тестовую в пропорции 60%, 20% и 20% соответственно, рандомно перетасовав и равномерно распределив по целевому признаку."
   ]
  },
  {
   "cell_type": "code",
   "execution_count": 26,
   "metadata": {},
   "outputs": [
    {
     "name": "stdout",
     "output_type": "stream",
     "text": [
      "Количество строк в target_train по классам: [4778 1222]\n",
      "Количество строк в target_val по классам: [1592  408]\n",
      "Количество строк в target_test по классам: [1593  407]\n"
     ]
    }
   ],
   "source": [
    "features_train, features_val_test, target_train, target_val_test = train_test_split(features, target, \n",
    "                                                                                    test_size=0.4, \n",
    "                                                                                    random_state=12345, \n",
    "                                                                                    stratify=target)\n",
    "features_val, features_test, target_val, target_test = train_test_split(features_val_test, target_val_test, \n",
    "                                                                        test_size=0.5, \n",
    "                                                                        random_state=12345, \n",
    "                                                                        stratify=target_val_test)\n",
    "print(f\"Количество строк в target_train по классам: {np.bincount(target_train)}\")\n",
    "print(f\"Количество строк в target_val по классам: {np.bincount(target_val)}\")\n",
    "print(f\"Количество строк в target_test по классам: {np.bincount(target_test)}\")"
   ]
  },
  {
   "cell_type": "markdown",
   "metadata": {},
   "source": [
    "### Масштабирование данных"
   ]
  },
  {
   "cell_type": "markdown",
   "metadata": {},
   "source": [
    "У нас есть такие данные как `возраст`, `кредитный рейтинг`, `предполагаемая зарплата`, `количество лет, которое человек является клиентом банка`. Все они очень разные. Необходимо масштабировать данные."
   ]
  },
  {
   "cell_type": "code",
   "execution_count": 27,
   "metadata": {},
   "outputs": [
    {
     "name": "stdout",
     "output_type": "stream",
     "text": [
      "(6000, 11)\n",
      "(2000, 11)\n",
      "(2000, 11)\n"
     ]
    }
   ],
   "source": [
    "numeric = ['CreditScore', 'Age', 'Tenure', 'Balance', 'NumOfProducts', 'EstimatedSalary']\n",
    "scaler = StandardScaler()\n",
    "scaler.fit(features_train[numeric]) \n",
    "\n",
    "features_train[numeric] = scaler.transform(features_train[numeric])\n",
    "features_val[numeric] = scaler.transform(features_val[numeric])\n",
    "features_test[numeric] = scaler.transform(features_test[numeric])\n",
    "\n",
    "pd.options.mode.chained_assignment = None\n",
    "\n",
    "print(features_train.shape)\n",
    "print(features_val.shape)\n",
    "print(features_test.shape)"
   ]
  },
  {
   "cell_type": "markdown",
   "metadata": {},
   "source": [
    "### Расчет F1-меры на разных моделях без учета дисбаланса классов"
   ]
  },
  {
   "cell_type": "markdown",
   "metadata": {},
   "source": [
    "#### Дерево решений"
   ]
  },
  {
   "cell_type": "code",
   "execution_count": 28,
   "metadata": {},
   "outputs": [
    {
     "name": "stderr",
     "output_type": "stream",
     "text": [
      "100%|██████████| 24/24 [00:00<00:00, 38.71it/s]"
     ]
    },
    {
     "name": "stdout",
     "output_type": "stream",
     "text": [
      "Глубина дерева 7\n",
      "F1 \"Дерева решений\" 0.5924855491329479\n"
     ]
    },
    {
     "name": "stderr",
     "output_type": "stream",
     "text": [
      "\n"
     ]
    },
    {
     "data": {
      "image/png": "[encoded data removed]",
      "text/plain": [
       "<Figure size 432x288 with 1 Axes>"
      ]
     },
     "metadata": {
      "needs_background": "light"
     },
     "output_type": "display_data"
    }
   ],
   "source": [
    "best_f1_dt = 0\n",
    "depth = 0\n",
    "best_model_dt = None\n",
    "depths_dt = []\n",
    "fs1_dt = []\n",
    "\n",
    "for depth in tqdm(range(1, 25)):\n",
    "    model_dt = DecisionTreeClassifier(random_state=12345, max_depth=depth)\n",
    "    model_dt.fit(features_train, target_train)\n",
    "    predicted_val_dt = model_dt.predict(features_val)\n",
    "    f1_dt = f1_score(target_val, predicted_val_dt)\n",
    "    depths_dt.append(depth)\n",
    "    fs1_dt.append(f1_dt)\n",
    "        \n",
    "    plt.plot(depths_dt, fs1_dt)\n",
    "    plt.title(\"Зависимость F1-меры от глубины дерева\")\n",
    "    plt.xlabel(\"Глубина дерева\")\n",
    "    plt.ylabel(\"F1-мера\")\n",
    "    plt.grid()\n",
    "    plt.show\n",
    "            \n",
    "    if f1_dt > best_f1_dt:\n",
    "        best_depth = depth\n",
    "        best_f1_dt = f1_dt\n",
    "        best_model_dt = model_dt\n",
    "\n",
    "print('Глубина дерева', best_depth)\n",
    "print('F1 \"Дерева решений\"', best_f1_dt) \n"
   ]
  },
  {
   "cell_type": "code",
   "execution_count": 29,
   "metadata": {},
   "outputs": [
    {
     "name": "stdout",
     "output_type": "stream",
     "text": [
      "auc_roc = 0.8230390617302197\n"
     ]
    }
   ],
   "source": [
    "probabilities_val_dt = best_model_dt.predict_proba(features_val)\n",
    "probabilities_one_val_dt = probabilities_val_dt[:, 1]\n",
    "auc_roc_dt = roc_auc_score(target_val, probabilities_one_val_dt)\n",
    "print('auc_roc =', auc_roc_dt)"
   ]
  },
  {
   "cell_type": "markdown",
   "metadata": {},
   "source": [
    "#### Случайный лес"
   ]
  },
  {
   "cell_type": "code",
   "execution_count": 30,
   "metadata": {},
   "outputs": [
    {
     "name": "stderr",
     "output_type": "stream",
     "text": [
      "100%|██████████| 42/42 [00:06<00:00,  6.67it/s]"
     ]
    },
    {
     "name": "stdout",
     "output_type": "stream",
     "text": [
      "Гиперпараметры наилучшей модели:\n",
      "Количество деревьев - 41 Максимальная глубина - 20\n",
      "F1 наилучшей модели на валидационной выборке: 0.6078147612156295\n",
      "CPU times: user 6.2 s, sys: 48.2 ms, total: 6.24 s\n",
      "Wall time: 6.3 s\n"
     ]
    },
    {
     "name": "stderr",
     "output_type": "stream",
     "text": [
      "\n"
     ]
    },
    {
     "data": {
      "image/png": "[encoded data removed]",
      "text/plain": [
       "<Figure size 432x288 with 1 Axes>"
      ]
     },
     "metadata": {
      "needs_background": "light"
     },
     "output_type": "display_data"
    }
   ],
   "source": [
    "%%time\n",
    "\n",
    "best_model_rf = None\n",
    "best_f1_rf = 0\n",
    "best_est_rf = 0\n",
    "best_depth_rf = 20 #подобрана заранее во вложенном цикле\n",
    "n_ests = []\n",
    "fs1_rf = []\n",
    "\n",
    "# создадим цикл в цикле для перебора 2х гиперпараметров число деревьев и глубина дерева\n",
    "for est in tqdm(range(1, 43)): \n",
    "    model_rf = RandomForestClassifier(random_state=12345,\n",
    "                                      max_depth=best_depth_rf,\n",
    "                                      n_estimators=est\n",
    "                                      ) \n",
    "    model_rf.fit(features_train, target_train) # обучаем модель\n",
    "    predicted_val_rf = model_rf.predict(features_val) # предсказания на валидационной выборке\n",
    "    f1_rf = f1_score(target_val, predicted_val_rf) # вычисляем F1\n",
    "        \n",
    "    n_ests.append(est)\n",
    "    fs1_rf.append(f1_rf)\n",
    "    \n",
    "    plt.plot(n_ests, fs1_rf)\n",
    "    plt.title(\"Зависимость F1-меры от количества деревьев\")\n",
    "    plt.xlabel(\"Количество деревьев\")\n",
    "    plt.ylabel(\"F1-мера\")\n",
    "    plt.grid()\n",
    "    plt.show\n",
    "    # сохраняем лучшую модель и ее результат\n",
    "    if f1_rf > best_f1_rf:  \n",
    "        best_model_rf = model_rf \n",
    "        best_f1_rf = f1_rf \n",
    "        best_est_rf = est\n",
    "        \n",
    "\n",
    "print(\"Гиперпараметры наилучшей модели:\")\n",
    "print(\"Количество деревьев -\", best_est_rf, \"Максимальная глубина -\", best_depth_rf)\n",
    "print(\"F1 наилучшей модели на валидационной выборке:\", best_f1_rf)"
   ]
  },
  {
   "cell_type": "code",
   "execution_count": 31,
   "metadata": {},
   "outputs": [
    {
     "name": "stdout",
     "output_type": "stream",
     "text": [
      "auc_roc = 0.8596906099123066\n"
     ]
    }
   ],
   "source": [
    "probabilities_val_rf = best_model_rf.predict_proba(features_val)\n",
    "probabilities_one_val_rf = probabilities_val_rf[:, 1]\n",
    "auc_roc_rf = roc_auc_score(target_val, probabilities_one_val_rf)\n",
    "print('auc_roc =', auc_roc_rf)"
   ]
  },
  {
   "cell_type": "markdown",
   "metadata": {},
   "source": [
    "#### Логистическая регрессия"
   ]
  },
  {
   "cell_type": "code",
   "execution_count": 33,
   "metadata": {},
   "outputs": [
    {
     "name": "stdout",
     "output_type": "stream",
     "text": [
      "Гиперпараметры наилучшей модели:\n",
      "Решающий метод - LogisticRegression(random_state=12345, solver='liblinear')\n",
      "F1 наилучшей модели на валидационной выборке: 0.3076923076923077\n"
     ]
    },
    {
     "data": {
      "image/png": "[encoded data removed]",
      "text/plain": [
       "<Figure size 432x288 with 1 Axes>"
      ]
     },
     "metadata": {
      "needs_background": "light"
     },
     "output_type": "display_data"
    }
   ],
   "source": [
    "best_model_lr = None\n",
    "best_f1_lr = 0\n",
    "best_solver_lr = []\n",
    "solvers = []\n",
    "fs1_lr = []\n",
    "solver_dic = ['liblinear', 'newton-cg', 'lbfgs', 'sag', 'saga']\n",
    "\n",
    "# создадим цикл в цикле для перебора 2х гиперпараметров число деревьев и глубина дерева\n",
    "for solver in solver_dic: \n",
    "    model_lr = LogisticRegression(random_state=12345, solver=solver)\n",
    "    model_lr.fit(features_train, target_train) # обучаем модель\n",
    "    predicted_val_lr = model_lr.predict(features_val) # предсказания на валидационной выборке\n",
    "    f1_lr = f1_score(target_val, predicted_val_lr) # вычисляем F1\n",
    "        \n",
    "    solvers.append(solver)\n",
    "    fs1_lr.append(f1_lr)\n",
    "    \n",
    "    plt.plot(solvers, fs1_lr)\n",
    "    plt.title(\"Зависимость F1-меры от решающего метода solver\")\n",
    "    plt.xlabel(\"Решающий метод\")\n",
    "    plt.ylabel(\"F1-мера\")\n",
    "    plt.grid()\n",
    "    plt.show\n",
    "    # сохраняем лучшую модель и ее результат\n",
    "    if f1_lr > best_f1_lr:  \n",
    "        best_model_lr = model_lr \n",
    "        best_f1_lr = f1_lr \n",
    "        best_solver_lr = solver_dic\n",
    "        \n",
    "\n",
    "print(\"Гиперпараметры наилучшей модели:\")\n",
    "print(\"Решающий метод -\", best_model_lr)\n",
    "print(\"F1 наилучшей модели на валидационной выборке:\", best_f1_lr)"
   ]
  },
  {
   "cell_type": "markdown",
   "metadata": {},
   "source": [
    "Из графика видно, что в данном случае `f1` выше всего у `solver = 'liblinear'` и равен 0,307"
   ]
  },
  {
   "cell_type": "code",
   "execution_count": 34,
   "metadata": {},
   "outputs": [
    {
     "name": "stdout",
     "output_type": "stream",
     "text": [
      "auc_roc = 0.7875575795644891\n"
     ]
    }
   ],
   "source": [
    "probabilities_val_lr = model_lr.predict_proba(features_val)\n",
    "probabilities_one_val_lr = probabilities_val_lr[:, 1]\n",
    "auc_roc_lr = roc_auc_score(target_val, probabilities_one_val_lr)\n",
    "print('auc_roc =', auc_roc_lr)"
   ]
  },
  {
   "cell_type": "markdown",
   "metadata": {},
   "source": [
    "### Вывод"
   ]
  },
  {
   "cell_type": "markdown",
   "metadata": {},
   "source": [
    "Признаки масштабированы.  \n",
    "\n",
    "По результатам исследования моделей без учёта дисбаланса классов можно сделать следующие заключения:\n",
    "\n",
    "- F1-мера у модели логистической регрессии получилась наиболее низкой (0.317). Вероятно, данные имеют более сложные, нелинейные связи между признаками и целевым признаком.  \n",
    "- F1-мера у модели дерева решений получилась 0.592, глубина дерева при этом равна 7.  \n",
    "- F1-мера у модели случайного леса составила 0.622 (при количестве деревьев 27 и глубине леса 20).   \n",
    "\n",
    "Модели Решающего дерева и Случайного леса превысили заданный в задаче порог. Однако не можем же мы оставить изученные метрики и методы оставить без опробирования)) Пойдем улучшать модель!  \n",
    "    \n",
    "Поработаем над дисбалансом"
   ]
  },
  {
   "cell_type": "markdown",
   "metadata": {},
   "source": [
    "## Борьба с дисбалансом"
   ]
  },
  {
   "cell_type": "markdown",
   "metadata": {},
   "source": [
    "### Предварительные метрики"
   ]
  },
  {
   "cell_type": "markdown",
   "metadata": {},
   "source": [
    "#### Количество оставшихся и ушедших клиентов "
   ]
  },
  {
   "cell_type": "markdown",
   "metadata": {},
   "source": [
    "Рассмотрим целевой признак - количество оставшихся и ушедших клиентов."
   ]
  },
  {
   "cell_type": "code",
   "execution_count": 35,
   "metadata": {},
   "outputs": [
    {
     "name": "stdout",
     "output_type": "stream",
     "text": [
      "0    0.7963\n",
      "1    0.2037\n",
      "Name: Exited, dtype: float64\n"
     ]
    },
    {
     "data": {
      "image/png": "[encoded data removed]",
      "text/plain": [
       "<Figure size 432x288 with 1 Axes>"
      ]
     },
     "metadata": {
      "needs_background": "light"
     },
     "output_type": "display_data"
    }
   ],
   "source": [
    "class_frequency = df_prep['Exited'].value_counts(normalize=True)\n",
    "print(class_frequency)\n",
    "class_frequency.plot(kind='bar');"
   ]
  },
  {
   "cell_type": "markdown",
   "metadata": {},
   "source": [
    "Почти 80% пока еще остались и 20 ушли. Наши классы несбалансированны, отношение оставшихся к ушедшим составляет 80:20"
   ]
  },
  {
   "cell_type": "markdown",
   "metadata": {},
   "source": [
    "#### Матрица ошибок, recall и precision"
   ]
  },
  {
   "cell_type": "markdown",
   "metadata": {},
   "source": [
    "**Решающего дерева:**"
   ]
  },
  {
   "cell_type": "code",
   "execution_count": 36,
   "metadata": {},
   "outputs": [
    {
     "name": "stdout",
     "output_type": "stream",
     "text": [
      "[[0.688 0.108]\n",
      " [0.099 0.105]]\n",
      "Полнота 0.5147058823529411\n",
      "Точность 0.49295774647887325\n",
      "f1 0.5924855491329479\n"
     ]
    }
   ],
   "source": [
    "print(confusion_matrix(target_val, predicted_val_dt, normalize='all'))\n",
    "print('Полнота', recall_score(target_val, predicted_val_dt))\n",
    "print('Точность', precision_score(target_val, predicted_val_dt))\n",
    "print('f1', best_f1_dt)"
   ]
  },
  {
   "cell_type": "markdown",
   "metadata": {},
   "source": [
    "Доля положительных объектов из всех положительно предсказанных = 54%. \n",
    "В 49% предсказывает как =1, и они действительно являются положительными."
   ]
  },
  {
   "cell_type": "markdown",
   "metadata": {},
   "source": [
    "**Случайного леса:**"
   ]
  },
  {
   "cell_type": "code",
   "execution_count": 37,
   "metadata": {},
   "outputs": [
    {
     "name": "stdout",
     "output_type": "stream",
     "text": [
      "[[0.7605 0.0355]\n",
      " [0.1005 0.1035]]\n",
      "Полнота 0.5073529411764706\n",
      "Точность 0.7446043165467626\n",
      "f1 0.6078147612156295\n"
     ]
    }
   ],
   "source": [
    "print(confusion_matrix(target_val, predicted_val_rf, normalize='all'))\n",
    "print('Полнота', recall_score(target_val, predicted_val_rf))\n",
    "print('Точность', precision_score(target_val, predicted_val_rf))\n",
    "print('f1', best_f1_rf)"
   ]
  },
  {
   "cell_type": "markdown",
   "metadata": {},
   "source": [
    "Доля положительных объектов из всех положительно предсказанных = 51%. \n",
    "В 76% предсказывает как =1, и они действительно являются положительными. Уже лучше."
   ]
  },
  {
   "cell_type": "markdown",
   "metadata": {},
   "source": [
    "**Логистической регрессии:**"
   ]
  },
  {
   "cell_type": "code",
   "execution_count": 38,
   "metadata": {},
   "outputs": [
    {
     "name": "stdout",
     "output_type": "stream",
     "text": [
      "[[0.769  0.027 ]\n",
      " [0.1625 0.0415]]\n",
      "Полнота 0.2034313725490196\n",
      "Точность 0.6058394160583942\n",
      "f1 0.30458715596330277\n"
     ]
    }
   ],
   "source": [
    "print(confusion_matrix(target_val, predicted_val_lr, normalize='all'))\n",
    "print('Полнота', recall_score(target_val, predicted_val_lr))\n",
    "print('Точность', precision_score(target_val, predicted_val_lr))\n",
    "print('f1', f1_lr)"
   ]
  },
  {
   "cell_type": "markdown",
   "metadata": {},
   "source": [
    "Доля положительных объектов из всех положительно предсказанных = 21%. Совсем никуда не годится. Но мы видели это на f1-мере.\n",
    "В 61% предсказывает как =1, и они действительно являются положительными. "
   ]
  },
  {
   "cell_type": "markdown",
   "metadata": {},
   "source": [
    "Напомню, мы стремимся получить значения Точности и Полноты близкие к 1. "
   ]
  },
  {
   "cell_type": "markdown",
   "metadata": {},
   "source": [
    "**В нашем распоряжении три модели классификации и три метода борьбы с дисбалансом. Рассмотрим все комбинации.**"
   ]
  },
  {
   "cell_type": "markdown",
   "metadata": {},
   "source": [
    "### Взвешивание классов"
   ]
  },
  {
   "cell_type": "markdown",
   "metadata": {},
   "source": [
    "#### Дерево решений"
   ]
  },
  {
   "cell_type": "code",
   "execution_count": 39,
   "metadata": {},
   "outputs": [],
   "source": [
    "# переменные, в которые сохраним самую лучшую модель и ее F1-меру\n",
    "# на ней будем репортить\n",
    "best_model = None\n",
    "best_f1 = 0"
   ]
  },
  {
   "cell_type": "code",
   "execution_count": 40,
   "metadata": {},
   "outputs": [
    {
     "name": "stderr",
     "output_type": "stream",
     "text": [
      "100%|██████████| 99/99 [00:03<00:00, 32.60it/s]\n"
     ]
    },
    {
     "name": "stdout",
     "output_type": "stream",
     "text": [
      "Лучшая модель: DecisionTreeClassifier(class_weight='balanced', max_depth=6, random_state=12345)\n",
      "F1 лучшей модели: 0.575925925925926\n",
      "auc_roc = 0.8233269595526653\n",
      "\n",
      "CPU times: user 2.99 s, sys: 11 ms, total: 3 s\n",
      "Wall time: 3.04 s\n"
     ]
    },
    {
     "data": {
      "image/png": "[encoded data removed]",
      "text/plain": [
       "<Figure size 432x288 with 1 Axes>"
      ]
     },
     "metadata": {
      "needs_background": "light"
     },
     "output_type": "display_data"
    }
   ],
   "source": [
    "%%time\n",
    "#Переберем глубину дерева в цикле\n",
    "\n",
    "best_model_dt_cw = None\n",
    "best_f1_dt_cw = 0\n",
    "depths = []\n",
    "fs1_dt_cw = []\n",
    "\n",
    "#цикл перебора глубины дерева\n",
    "for depth in tqdm(range(1, 100)):\n",
    "    model_dt_cw = DecisionTreeClassifier(random_state=12345,\n",
    "                                         class_weight=\"balanced\", # сбалансировать вес класса\n",
    "                                         max_depth=depth\n",
    "                                        )\n",
    "    model_dt_cw.fit(features_train, target_train) # обучаем модель \n",
    "    predicted_val_dt_cw = model_dt_cw.predict(features_val) # предсказания на валидационной выборке\n",
    "    f1_dt_cw = f1_score(target_val, predicted_val_dt_cw) # вычисляем F1\n",
    "    depths.append(depth)\n",
    "    fs1_dt_cw.append(f1_dt_cw)\n",
    "    \n",
    "    plt.plot(depths, fs1_dt_cw)\n",
    "    plt.title(\"Зависимость F1-меры от глубины дерева\")\n",
    "    plt.xlabel(\"Глубина дерева\")\n",
    "    plt.ylabel(\"F1-мера\")\n",
    "    plt.grid()\n",
    "    plt.show\n",
    "    \n",
    "    # сохраняем лучшую модель и ее результат\n",
    "    if f1_dt_cw > best_f1_dt_cw: \n",
    "        best_model_dt_cw = model_dt_cw\n",
    "        best_f1_dt_cw = f1_dt_cw\n",
    "        \n",
    "print(\"Лучшая модель:\", best_model_dt_cw)\n",
    "print(\"F1 лучшей модели:\", best_f1_dt_cw)\n",
    "\n",
    "probabilities_val_dt_cw = best_model_dt_cw.predict_proba(features_val)\n",
    "probabilities_one_val_dt_cw = probabilities_val_dt_cw[:, 1]\n",
    "auc_roc_dt_cw = roc_auc_score(target_val, probabilities_one_val_dt_cw)\n",
    "print('auc_roc =', auc_roc_dt_cw)\n",
    "print('')"
   ]
  },
  {
   "cell_type": "code",
   "execution_count": 41,
   "metadata": {},
   "outputs": [],
   "source": [
    "if best_f1_dt_cw > best_f1:\n",
    "    best_model = best_model_dt_cw\n",
    "    best_f1 = best_f1_dt_cw "
   ]
  },
  {
   "cell_type": "markdown",
   "metadata": {},
   "source": [
    "Визуализируем дерево решений. Чтобы график не получился громоздким (ведь лучшая глубина дерева определена как 6), мы ограничили его глубиной дерева 3. Посмотрим как модель делает выбор."
   ]
  },
  {
   "cell_type": "code",
   "execution_count": 42,
   "metadata": {},
   "outputs": [
    {
     "data": {
      "text/plain": [
       "[Text(418.5, 475.65000000000003, 'X[1] <= 0.048\\ngini = 0.5\\nsamples = 6000\\nvalue = [3000.0, 3000.0]'),\n",
       " Text(209.25, 339.75, 'X[4] <= 1.689\\ngini = 0.424\\nsamples = 3594\\nvalue = [2028.673, 891.162]'),\n",
       " Text(104.625, 203.85000000000002, 'X[4] <= -0.047\\ngini = 0.401\\nsamples = 3529\\nvalue = [2017.371, 775.777]'),\n",
       " Text(52.3125, 67.94999999999999, 'gini = 0.48\\nsamples = 1732\\nvalue = [929.259, 618.658]'),\n",
       " Text(156.9375, 67.94999999999999, 'gini = 0.221\\nsamples = 1797\\nvalue = [1088.112, 157.119]'),\n",
       " Text(313.875, 203.85000000000002, 'X[3] <= -0.849\\ngini = 0.163\\nsamples = 65\\nvalue = [11.302, 115.385]'),\n",
       " Text(261.5625, 67.94999999999999, 'gini = 0.338\\nsamples = 29\\nvalue = [9.418, 34.37]'),\n",
       " Text(366.1875, 67.94999999999999, 'gini = 0.044\\nsamples = 36\\nvalue = [1.884, 81.015]'),\n",
       " Text(627.75, 339.75, 'X[6] <= 0.5\\ngini = 0.432\\nsamples = 2406\\nvalue = [971.327, 2108.838]'),\n",
       " Text(523.125, 203.85000000000002, 'X[1] <= 0.524\\ngini = 0.321\\nsamples = 1123\\nvalue = [349.728, 1389.525]'),\n",
       " Text(470.8125, 67.94999999999999, 'gini = 0.472\\nsamples = 525\\nvalue = [232.943, 378.069]'),\n",
       " Text(575.4375, 67.94999999999999, 'gini = 0.186\\nsamples = 598\\nvalue = [116.785, 1011.457]'),\n",
       " Text(732.375, 203.85000000000002, 'X[4] <= 1.689\\ngini = 0.497\\nsamples = 1283\\nvalue = [621.599, 719.313]'),\n",
       " Text(680.0625, 67.94999999999999, 'gini = 0.5\\nsamples = 1232\\nvalue = [617.204, 611.293]'),\n",
       " Text(784.6875, 67.94999999999999, 'gini = 0.075\\nsamples = 51\\nvalue = [4.395, 108.02]')]"
      ]
     },
     "execution_count": 42,
     "metadata": {},
     "output_type": "execute_result"
    },
    {
     "data": {
      "image/png": "[encoded data removed]",
      "text/plain": [
       "<Figure size 1080x720 with 1 Axes>"
      ]
     },
     "metadata": {
      "needs_background": "light"
     },
     "output_type": "display_data"
    }
   ],
   "source": [
    "model_dt_cw_depth3 = DecisionTreeClassifier(class_weight='balanced', max_depth=3, random_state=12345)\n",
    "model_dt_cw_depth3.fit(features_train, target_train)\n",
    "model_dt_cw_depth3.predict(features_val)\n",
    "plt.figure(figsize=(15,10))\n",
    "plot_tree(model_dt_cw_depth3, filled=True, impurity=True)"
   ]
  },
  {
   "cell_type": "markdown",
   "metadata": {},
   "source": [
    "Модель выбрала алгоритм работы на основе коэффициента gini"
   ]
  },
  {
   "cell_type": "markdown",
   "metadata": {},
   "source": [
    "#### Случайный лес"
   ]
  },
  {
   "cell_type": "code",
   "execution_count": 43,
   "metadata": {
    "scrolled": false
   },
   "outputs": [
    {
     "name": "stderr",
     "output_type": "stream",
     "text": [
      "100%|██████████| 6/6 [00:02<00:00,  2.40it/s]"
     ]
    },
    {
     "name": "stdout",
     "output_type": "stream",
     "text": [
      "Гиперпараметры наилучшей модели:\n",
      "Количество деревьев - 29 Максимальная глубина - 9\n",
      "F1 наилучшей модели на валидационной выборке: 0.6409966024915061\n",
      "auc_roc = 0.8697100699576312\n",
      "\n",
      "CPU times: user 2.49 s, sys: 2.77 ms, total: 2.5 s\n",
      "Wall time: 2.51 s\n"
     ]
    },
    {
     "name": "stderr",
     "output_type": "stream",
     "text": [
      "\n"
     ]
    }
   ],
   "source": [
    "%%time\n",
    "\n",
    "best_model_rf_cw = None\n",
    "best_f1_rf_cw = 0\n",
    "best_est_rf_cw = 0\n",
    "best_depth_rf_cw = 0\n",
    "\n",
    "# создадим цикл в цикле для перебора 2х гиперпараметров число деревьев и глубина дерева\n",
    "for est in tqdm((2, 5, 8, 16, 29, 44)): # я перебирала разное количество деревьев и глубины дерева от 1 до 100. \n",
    "                                        # Поэтому в конечном итоге оставила перебор в этих диапазонах \n",
    "                                        # для сокращения времени проверки\n",
    "    for depth in (2, 4, 9, 12, 18):\n",
    "        model_rf_cw = RandomForestClassifier(random_state=12345,\n",
    "                                             class_weight=\"balanced\", # сбалансировать вес класса\n",
    "                                             max_depth=depth,\n",
    "                                             n_estimators=est\n",
    "                                            ) \n",
    "        model_rf_cw.fit(features_train, target_train) # обучаем модель\n",
    "        predicted_val_rf_cw = model_rf_cw.predict(features_val) # предсказания на валидационной выборке\n",
    "        f1_rf_cw = f1_score(target_val, predicted_val_rf_cw) # вычисляем F1\n",
    "        \n",
    "        # сохраняем лучшую модель и ее результат\n",
    "        if f1_rf_cw > best_f1_rf_cw:  \n",
    "            best_model_rf_cw = model_rf_cw \n",
    "            best_f1_rf_cw = f1_rf_cw \n",
    "            best_est_rf_cw = est\n",
    "            best_depth_rf_cw = depth\n",
    "\n",
    "print(\"Гиперпараметры наилучшей модели:\")\n",
    "print(\"Количество деревьев -\", best_est_rf_cw, \"Максимальная глубина -\", best_depth_rf_cw)\n",
    "print(\"F1 наилучшей модели на валидационной выборке:\", best_f1_rf_cw)\n",
    "\n",
    "probabilities_val_rf_cw = best_model_rf_cw.predict_proba(features_val)\n",
    "probabilities_one_val_rf_cw = probabilities_val_rf_cw[:, 1]\n",
    "auc_roc_rf_cw = roc_auc_score(target_val, probabilities_one_val_rf_cw)\n",
    "print('auc_roc =', auc_roc_rf_cw)\n",
    "print('')"
   ]
  },
  {
   "cell_type": "markdown",
   "metadata": {},
   "source": [
    "*''Результат цикла depth in range(1, 100) и est in range(1, 100):*  \n",
    "*Гиперпараметры наилучшей модели:*  \n",
    "***Количество деревьев - 28 Максимальная глубина - 9***  \n",
    "***F1 наилучшей модели на валидационной выборке: 0.6551724137931035***  \n",
    "*CPU times: user 52min 40s, sys: 11.4 s, total: 52min 52s*  \n",
    "*Wall time: 53min 6s*  "
   ]
  },
  {
   "cell_type": "code",
   "execution_count": 44,
   "metadata": {},
   "outputs": [],
   "source": [
    "if best_f1_rf_cw > best_f1:\n",
    "    best_model = best_model_rf_cw\n",
    "    best_f1 = best_f1_rf_cw  "
   ]
  },
  {
   "cell_type": "markdown",
   "metadata": {},
   "source": [
    "#### Логистическая регрессия"
   ]
  },
  {
   "cell_type": "code",
   "execution_count": 45,
   "metadata": {},
   "outputs": [
    {
     "name": "stdout",
     "output_type": "stream",
     "text": [
      "F1 модели \"Логистическая регрессия:\" 0.5289982425307558\n",
      "auc_roc = 0.7937004261503596\n",
      "\n"
     ]
    }
   ],
   "source": [
    "model_lr_cw = LogisticRegression(random_state=12345, \n",
    "                                 class_weight=\"balanced\", # сбалансировать вес класса\n",
    "                                 solver='liblinear', \n",
    "                                 max_iter=1000\n",
    "                                )\n",
    "model_lr_cw.fit(features_train, target_train)\n",
    "predicted_val_lr_cw = model_lr_cw.predict(features_val)\n",
    "f1_lr_cw = f1_score(target_val, predicted_val_lr_cw)\n",
    "print('F1 модели \"Логистическая регрессия:\"', f1_lr_cw)\n",
    "\n",
    "probabilities_val_lr_cw = model_lr_cw.predict_proba(features_val)\n",
    "probabilities_one_val_lr_cw = probabilities_val_lr_cw[:, 1]\n",
    "auc_roc_lr_cw = roc_auc_score(target_val, probabilities_one_val_lr_cw)\n",
    "print('auc_roc =', auc_roc_lr_cw)\n",
    "print('')"
   ]
  },
  {
   "cell_type": "code",
   "execution_count": 46,
   "metadata": {},
   "outputs": [],
   "source": [
    "if f1_lr_cw > best_f1:\n",
    "    best_model = model_lr_cw\n",
    "    best_f1 = f1_lr_cw"
   ]
  },
  {
   "cell_type": "markdown",
   "metadata": {},
   "source": [
    "Все модели при взешивании классов улучшили значения F1-меры"
   ]
  },
  {
   "cell_type": "markdown",
   "metadata": {},
   "source": [
    "### Увеличение выборки"
   ]
  },
  {
   "cell_type": "markdown",
   "metadata": {},
   "source": [
    "Создадим функцию, которая увеличивает размер выборки"
   ]
  },
  {
   "cell_type": "code",
   "execution_count": 47,
   "metadata": {},
   "outputs": [],
   "source": [
    "def upsample(features, target, repeat):\n",
    "    features_zeros = features[target == 0]\n",
    "    features_ones = features[target == 1]\n",
    "    target_zeros = target[target == 0]\n",
    "    target_ones = target[target == 1]\n",
    "\n",
    "    features_upsampled = pd.concat([features_zeros] + [features_ones] * repeat)\n",
    "    target_upsampled = pd.concat([target_zeros] + [target_ones] * repeat)\n",
    "    \n",
    "    features_upsampled, target_upsampled = shuffle(\n",
    "        features_upsampled, target_upsampled, random_state=12345)\n",
    "    \n",
    "    return features_upsampled, target_upsampled\n",
    "\n",
    "features_upsampled, target_upsampled = upsample(features_train, target_train, 4)\n"
   ]
  },
  {
   "cell_type": "code",
   "execution_count": 48,
   "metadata": {},
   "outputs": [
    {
     "name": "stdout",
     "output_type": "stream",
     "text": [
      "1    0.50569\n",
      "0    0.49431\n",
      "Name: Exited, dtype: float64\n"
     ]
    },
    {
     "data": {
      "image/png": "[encoded data removed]",
      "text/plain": [
       "<Figure size 432x288 with 1 Axes>"
      ]
     },
     "metadata": {
      "needs_background": "light"
     },
     "output_type": "display_data"
    }
   ],
   "source": [
    "class_frequency = target_upsampled.value_counts(normalize=True)\n",
    "print(class_frequency)\n",
    "class_frequency.plot(kind='bar');"
   ]
  },
  {
   "cell_type": "markdown",
   "metadata": {},
   "source": [
    "#### Дерево решений"
   ]
  },
  {
   "cell_type": "code",
   "execution_count": 49,
   "metadata": {},
   "outputs": [
    {
     "name": "stderr",
     "output_type": "stream",
     "text": [
      "100%|██████████| 99/99 [00:03<00:00, 29.26it/s]"
     ]
    },
    {
     "name": "stdout",
     "output_type": "stream",
     "text": [
      "Лучшая модель: DecisionTreeClassifier(max_depth=6, random_state=12345)\n",
      "F1 лучшей модели: 0.575925925925926\n",
      "auc_roc = 0.8233423551581437\n",
      "\n",
      "CPU times: user 3.3 s, sys: 35.8 ms, total: 3.33 s\n",
      "Wall time: 3.39 s\n"
     ]
    },
    {
     "name": "stderr",
     "output_type": "stream",
     "text": [
      "\n"
     ]
    }
   ],
   "source": [
    "%%time\n",
    "#Переберем глубину дерева в цикле\n",
    "\n",
    "best_model_dt_us = None\n",
    "best_f1_dt_us = 0\n",
    "\n",
    "#цикл перебора глубины дерева\n",
    "for depth in tqdm(range(1, 100)):\n",
    "    model_dt_us = DecisionTreeClassifier(random_state=12345,                                         \n",
    "                                         max_depth=depth\n",
    "                                        )\n",
    "    model_dt_us.fit(features_upsampled, target_upsampled) # обучаем модель \n",
    "    predicted_val_dt_us = model_dt_us.predict(features_val) # предсказания на валидационной выборке\n",
    "    f1_dt_us = f1_score(target_val, predicted_val_dt_us) # вычисляем F1\n",
    "    if f1_dt_us > best_f1_dt_us: # сохраним лучшую модель и ее результат\n",
    "        best_model_dt_us = model_dt_us\n",
    "        best_f1_dt_us = f1_dt_us\n",
    "        \n",
    "print(\"Лучшая модель:\", best_model_dt_us)\n",
    "print(\"F1 лучшей модели:\", best_f1_dt_us)\n",
    "\n",
    "probabilities_val_dt_us = best_model_dt_us.predict_proba(features_val)\n",
    "probabilities_one_val_dt_us = probabilities_val_dt_us[:, 1]\n",
    "auc_roc_dt_us = roc_auc_score(target_val, probabilities_one_val_dt_us)\n",
    "print('auc_roc =', auc_roc_dt_us)\n",
    "print('')"
   ]
  },
  {
   "cell_type": "code",
   "execution_count": 50,
   "metadata": {},
   "outputs": [],
   "source": [
    "if best_f1_dt_us > best_f1:\n",
    "    best_model = best_model_dt_us\n",
    "    best_f1 = best_f1_dt_us"
   ]
  },
  {
   "cell_type": "markdown",
   "metadata": {},
   "source": [
    "#### Случайный лес"
   ]
  },
  {
   "cell_type": "code",
   "execution_count": 51,
   "metadata": {},
   "outputs": [
    {
     "name": "stderr",
     "output_type": "stream",
     "text": [
      "100%|██████████| 6/6 [00:06<00:00,  1.09s/it]"
     ]
    },
    {
     "name": "stdout",
     "output_type": "stream",
     "text": [
      "Гиперпараметры наилучшей модели:\n",
      "Количество деревьев - 100 Максимальная глубина - 32\n",
      "F1 наилучшей модели на валидационной выборке: 0.6358839050131926\n",
      "auc_roc = 0.866346130160607\n",
      "\n",
      "CPU times: user 6.56 s, sys: 36 ms, total: 6.6 s\n",
      "Wall time: 6.62 s\n"
     ]
    },
    {
     "name": "stderr",
     "output_type": "stream",
     "text": [
      "\n"
     ]
    }
   ],
   "source": [
    "%%time\n",
    "\n",
    "best_model_rf_us = None\n",
    "best_f1_rf_us = 0\n",
    "best_est_rf_us = 0\n",
    "best_depth_rf_us = 0\n",
    "\n",
    "# создадим цикл в цикле для перебора 2х гиперпараметров число деревьев и глубина дерева\n",
    "for est in tqdm((1, 10, 20, 43,92, 100)): # я перебирала разное количество деревьев и глубины дерева от 1 до 100 (результаты приведены ниже). \n",
    "                                          # Поэтому в конечном итоге оставила перебор в цикле в этих диапазонах \n",
    "                                          # для сокращения времени проверки\n",
    "    for depth in (2, 4, 14, 32):\n",
    "        model_rf_us = RandomForestClassifier(random_state=12345,\n",
    "                                             max_depth=depth,\n",
    "                                             n_estimators=est\n",
    "                                            )\n",
    "        model_rf_us.fit(features_upsampled, target_upsampled)\n",
    "        predicted_val_rf_us = model_rf_us.predict(features_val)\n",
    "        f1_rf_us = f1_score(target_val, predicted_val_rf_us) # качество модели на валидационной выборке\n",
    "        if f1_rf_us > best_f1_rf_us: # сохраните наилучшую модель и ее результаты на валидационной выборке\n",
    "            best_model_rf_us = model_rf_us \n",
    "            best_f1_rf_us = f1_rf_us \n",
    "            best_est_rf_us = est\n",
    "            best_depth_rf_us = depth\n",
    "\n",
    "print(\"Гиперпараметры наилучшей модели:\")\n",
    "print(\"Количество деревьев -\", best_est_rf_us, \"Максимальная глубина -\", best_depth_rf_us)\n",
    "print(\"F1 наилучшей модели на валидационной выборке:\", best_f1_rf_us)\n",
    "\n",
    "probabilities_val_rf_us = best_model_rf_us.predict_proba(features_val)\n",
    "probabilities_one_val_rf_us = probabilities_val_rf_us[:, 1]\n",
    "auc_roc_rf_us = roc_auc_score(target_val, probabilities_one_val_rf_us)\n",
    "print('auc_roc =', auc_roc_rf_us)\n",
    "print('')"
   ]
  },
  {
   "cell_type": "markdown",
   "metadata": {},
   "source": [
    "*''Результат цикла depth in range(1, 100) и est in range(1, 100):*\n",
    "*Гиперпараметры наилучшей модели:*  \n",
    "***Количество деревьев - 92 Максимальная глубина - 14***  \n",
    "***F1 наилучшей модели на валидационной выборке: 0.6433566433566433***   \n",
    "*CPU times: user 1h 36min 6s, sys: 18.3 s, total: 1h 36min 25s*  \n",
    "*Wall time: 1h 37min 4s*  "
   ]
  },
  {
   "cell_type": "code",
   "execution_count": 52,
   "metadata": {},
   "outputs": [],
   "source": [
    "if best_f1_rf_us > best_f1:\n",
    "    best_model = best_model_rf_us\n",
    "    best_f1 = best_f1_rf_us"
   ]
  },
  {
   "cell_type": "markdown",
   "metadata": {},
   "source": [
    "#### Логистическая регрессия"
   ]
  },
  {
   "cell_type": "code",
   "execution_count": 53,
   "metadata": {},
   "outputs": [
    {
     "name": "stdout",
     "output_type": "stream",
     "text": [
      "F1 модели \"Логистическая регрессия:\" 0.5246753246753246\n",
      "auc_roc = 0.7937774041777517\n",
      "\n"
     ]
    }
   ],
   "source": [
    "model_lr_us = LogisticRegression(random_state=12345, \n",
    "                                 solver='liblinear',                                 \n",
    "                                 max_iter=1000\n",
    "                                )\n",
    "model_lr_us.fit(features_upsampled, target_upsampled)\n",
    "predicted_val_lr_us = model_lr_us.predict(features_val)\n",
    "f1_lr_us = f1_score(target_val, predicted_val_lr_us)\n",
    "print('F1 модели \"Логистическая регрессия:\"', f1_lr_us)\n",
    "\n",
    "probabilities_val_lr_us = model_lr_us.predict_proba(features_val)\n",
    "probabilities_one_val_lr_us = probabilities_val_lr_us[:, 1]\n",
    "auc_roc_lr_us = roc_auc_score(target_val, probabilities_one_val_lr_us)\n",
    "print('auc_roc =', auc_roc_lr_us)\n",
    "print('')"
   ]
  },
  {
   "cell_type": "code",
   "execution_count": 54,
   "metadata": {},
   "outputs": [],
   "source": [
    "if f1_lr_us > best_f1:\n",
    "    best_model = model_lr_us\n",
    "    best_f1 = f1_lr_us"
   ]
  },
  {
   "cell_type": "markdown",
   "metadata": {},
   "source": [
    "### Уменьшение выборки"
   ]
  },
  {
   "cell_type": "markdown",
   "metadata": {},
   "source": [
    "Создадим функцию, которая увеличивает размер выборки"
   ]
  },
  {
   "cell_type": "code",
   "execution_count": 55,
   "metadata": {},
   "outputs": [],
   "source": [
    "def downsample(features, target, fraction):\n",
    "    features_zeros = features[target == 0]\n",
    "    features_ones = features[target == 1]\n",
    "    target_zeros = target[target == 0]\n",
    "    target_ones = target[target == 1]\n",
    "\n",
    "    features_downsampled = pd.concat(\n",
    "        [features_zeros.sample(frac=fraction, random_state=12345)] + [features_ones])\n",
    "    target_downsampled = pd.concat(\n",
    "        [target_zeros.sample(frac=fraction, random_state=12345)] + [target_ones])\n",
    "    \n",
    "    features_downsampled, target_downsampled = shuffle(\n",
    "        features_downsampled, target_downsampled, random_state=12345)\n",
    "    \n",
    "    return features_downsampled, target_downsampled\n",
    "\n",
    "features_downsampled, target_downsampled = downsample(features_train, target_train, 0.25)"
   ]
  },
  {
   "cell_type": "code",
   "execution_count": 56,
   "metadata": {},
   "outputs": [
    {
     "name": "stdout",
     "output_type": "stream",
     "text": [
      "1    0.505795\n",
      "0    0.494205\n",
      "Name: Exited, dtype: float64\n"
     ]
    },
    {
     "data": {
      "image/png": "[encoded data removed]",
      "text/plain": [
       "<Figure size 432x288 with 1 Axes>"
      ]
     },
     "metadata": {
      "needs_background": "light"
     },
     "output_type": "display_data"
    }
   ],
   "source": [
    "class_frequency = target_downsampled.value_counts(normalize=True)\n",
    "print(class_frequency)\n",
    "class_frequency.plot(kind='bar');"
   ]
  },
  {
   "cell_type": "markdown",
   "metadata": {},
   "source": [
    "#### Дерево решений"
   ]
  },
  {
   "cell_type": "code",
   "execution_count": 57,
   "metadata": {},
   "outputs": [
    {
     "name": "stderr",
     "output_type": "stream",
     "text": [
      "100%|██████████| 99/99 [00:01<00:00, 78.72it/s] "
     ]
    },
    {
     "name": "stdout",
     "output_type": "stream",
     "text": [
      "Лучшая модель: DecisionTreeClassifier(max_depth=6, random_state=12345)\n",
      "F1 лучшей модели: 0.5944919278252612\n",
      "auc_roc = 0.8477767206128681\n",
      "\n",
      "CPU times: user 1.24 s, sys: 0 ns, total: 1.24 s\n",
      "Wall time: 1.26 s\n"
     ]
    },
    {
     "name": "stderr",
     "output_type": "stream",
     "text": [
      "\n"
     ]
    }
   ],
   "source": [
    "%%time\n",
    "#Переберем глубину дерева в цикле\n",
    "\n",
    "best_model_dt_ds = None\n",
    "best_f1_dt_ds = 0\n",
    "\n",
    "#цикл перебора глубины дерева\n",
    "for depth in tqdm(range(1, 100)):\n",
    "    model_dt_ds = DecisionTreeClassifier(random_state=12345,                                         \n",
    "                                         max_depth=depth\n",
    "                                        )\n",
    "    model_dt_ds.fit(features_downsampled, target_downsampled) # обучаем модель \n",
    "    predicted_val_dt_ds = model_dt_ds.predict(features_val) # предсказания на валидационной выборке\n",
    "    f1_dt_ds = f1_score(target_val, predicted_val_dt_ds) # вычисляем F1\n",
    "    if f1_dt_ds > best_f1_dt_ds: # сохраним лучшую модель и ее результат\n",
    "        best_model_dt_ds = model_dt_ds\n",
    "        best_f1_dt_ds = f1_dt_ds\n",
    "        \n",
    "print(\"Лучшая модель:\", best_model_dt_ds)\n",
    "print(\"F1 лучшей модели:\", best_f1_dt_ds)\n",
    "\n",
    "probabilities_val_dt_ds = best_model_dt_ds.predict_proba(features_val)\n",
    "probabilities_one_val_dt_ds = probabilities_val_dt_ds[:, 1]\n",
    "auc_roc_dt_ds = roc_auc_score(target_val, probabilities_one_val_dt_ds)\n",
    "print('auc_roc =', auc_roc_dt_ds)\n",
    "print('')"
   ]
  },
  {
   "cell_type": "code",
   "execution_count": 58,
   "metadata": {},
   "outputs": [],
   "source": [
    "if best_f1_dt_ds > best_f1:\n",
    "    best_model = best_model_dt_ds\n",
    "    best_f1 = best_f1_dt_ds"
   ]
  },
  {
   "cell_type": "markdown",
   "metadata": {},
   "source": [
    "#### Случайный лес"
   ]
  },
  {
   "cell_type": "code",
   "execution_count": 59,
   "metadata": {},
   "outputs": [
    {
     "name": "stderr",
     "output_type": "stream",
     "text": [
      "100%|██████████| 19/19 [00:00<00:00, 33.88it/s]"
     ]
    },
    {
     "name": "stdout",
     "output_type": "stream",
     "text": [
      "Гиперпараметры наилучшей модели:\n",
      "Количество деревьев - 19 Максимальная глубина - 99\n",
      "F1 наилучшей модели на валидационной выборке: 0.6309751434034416\n",
      "auc_roc = 0.8648381306040004\n",
      "\n",
      "CPU times: user 558 ms, sys: 7.55 ms, total: 566 ms\n",
      "Wall time: 574 ms\n"
     ]
    },
    {
     "name": "stderr",
     "output_type": "stream",
     "text": [
      "\n"
     ]
    }
   ],
   "source": [
    "%%time\n",
    "\n",
    "best_model_rf_ds = None\n",
    "best_f1_rf_ds = 0\n",
    "best_est_rf_ds = 0\n",
    "best_depth_rf_ds = 0\n",
    "\n",
    "# создадим цикл в цикле для перебора 2х гиперпараметров число деревьев и глубина дерева\n",
    "for est in tqdm(range(1, 20)): # я перебирала разное количество деревьев и глубины дерева от 1 до 100. \n",
    "                         #Поэтому в конечном итоге оставила перебор в цикле в этих диапазонах для сокращения времени проверки\n",
    "    model_rf_ds = RandomForestClassifier(random_state=12345,\n",
    "                                         max_depth=6,\n",
    "                                         n_estimators=est\n",
    "                                         )\n",
    "    model_rf_ds.fit(features_downsampled, target_downsampled)\n",
    "    predicted_val_rf_ds = model_rf_ds.predict(features_val)\n",
    "    f1_rf_ds = f1_score(target_val, predicted_val_rf_ds) # качество модели на валидационной выборке\n",
    "    if f1_rf_ds > best_f1_rf_ds: # сохраните наилучшую модель и ее результаты на валидационной выборке\n",
    "        best_model_rf_ds = model_rf_ds \n",
    "        best_f1_rf_ds = f1_rf_ds \n",
    "        best_est_rf_ds = est\n",
    "        best_depth_rf_ds = depth\n",
    "\n",
    "print(\"Гиперпараметры наилучшей модели:\")\n",
    "print(\"Количество деревьев -\", best_est_rf_ds, \"Максимальная глубина -\", best_depth_rf_ds)\n",
    "print(\"F1 наилучшей модели на валидационной выборке:\", best_f1_rf_ds)\n",
    "\n",
    "probabilities_val_rf_ds = best_model_rf_ds.predict_proba(features_val)\n",
    "probabilities_one_val_rf_ds = probabilities_val_rf_ds[:, 1]\n",
    "auc_roc_rf_ds = roc_auc_score(target_val, probabilities_one_val_rf_ds)\n",
    "print('auc_roc =', auc_roc_rf_ds)\n",
    "print('')"
   ]
  },
  {
   "cell_type": "markdown",
   "metadata": {},
   "source": [
    "*Гиперпараметры наилучшей модели:*  \n",
    "***Количество деревьев - 17 Максимальная глубина - 6***  \n",
    "***F1 наилучшей модели на валидационной выборке: 0.6095406360424028***  \n",
    "*CPU times: user 28min 10s, sys: 7.84 s, total: 28min 18s*  \n",
    "*Wall time: 28min 23s*"
   ]
  },
  {
   "cell_type": "code",
   "execution_count": 60,
   "metadata": {},
   "outputs": [],
   "source": [
    "if best_f1_rf_ds > best_f1:\n",
    "    best_model = best_model_rf_ds\n",
    "    best_f1 = best_f1_rf_ds"
   ]
  },
  {
   "cell_type": "markdown",
   "metadata": {},
   "source": [
    "#### Логистическая регрессия"
   ]
  },
  {
   "cell_type": "code",
   "execution_count": 61,
   "metadata": {},
   "outputs": [
    {
     "name": "stdout",
     "output_type": "stream",
     "text": [
      "F1 модели \"Логистическая регрессия:\" 0.5275862068965517\n",
      "auc_roc = 0.7926027194797518\n",
      "\n"
     ]
    }
   ],
   "source": [
    "model_lr_ds = LogisticRegression(random_state=12345, \n",
    "                                 solver='liblinear',                                 \n",
    "                                 max_iter=1000\n",
    "                                )\n",
    "model_lr_ds.fit(features_downsampled, target_downsampled)\n",
    "predicted_val_lr_ds = model_lr_ds.predict(features_val)\n",
    "f1_lr_ds = f1_score(target_val, predicted_val_lr_ds)\n",
    "print('F1 модели \"Логистическая регрессия:\"', f1_lr_ds)\n",
    "\n",
    "probabilities_val_lr_ds = model_lr_ds.predict_proba(features_val)\n",
    "probabilities_one_val_lr_ds = probabilities_val_lr_ds[:, 1]\n",
    "auc_roc_lr_ds = roc_auc_score(target_val, probabilities_one_val_lr_ds)\n",
    "print('auc_roc =', auc_roc_lr_ds)\n",
    "print('')"
   ]
  },
  {
   "cell_type": "code",
   "execution_count": 62,
   "metadata": {},
   "outputs": [],
   "source": [
    "if f1_lr_ds > best_f1:\n",
    "    best_model = model_lr_ds\n",
    "    best_f1 = f1_lr_ds"
   ]
  },
  {
   "cell_type": "code",
   "execution_count": 63,
   "metadata": {},
   "outputs": [
    {
     "name": "stdout",
     "output_type": "stream",
     "text": [
      "Лучшая модель: RandomForestClassifier(class_weight='balanced', max_depth=9, n_estimators=29,\n",
      "                       random_state=12345)\n",
      "F1 лучшей модели: 0.6409966024915061\n"
     ]
    }
   ],
   "source": [
    "print('Лучшая модель:', best_model)\n",
    "print('F1 лучшей модели:', best_f1)"
   ]
  },
  {
   "cell_type": "markdown",
   "metadata": {},
   "source": [
    "Итак, лучшая модель с балансировкой классов методом взвешивания RandomForestClassifier, глубина леса 9, количество деревьев 29.  \n",
    "F1 улучшена до 0,64"
   ]
  },
  {
   "cell_type": "markdown",
   "metadata": {},
   "source": [
    "### Вывод"
   ]
  },
  {
   "cell_type": "markdown",
   "metadata": {},
   "source": [
    "Баланс классов в данных равен 4:1.  \n",
    "Матрица ошибок показала, что у модели Случайный лес показатель точности самый высоки и равен 0,76, а показатель полноты лучше у модели Дерева решений.  \n",
    "F1-мера = 0,62 у модели Случайный лес.  \n",
    "Для борьбы с дисбалансом были применены: балансировка классов, увеличение и уменьшение выборки.\n",
    "  \n",
    "Лучшая модель - Случайный лес с глубиной деревьев 9 и количеством 29.  \n",
    "F1 лучшей модели: 0.64  \n",
    "  \n",
    "Эффективней всего показал себя метод балансировки классов - его и применим при тестировании модели вместе с лучшей моделью."
   ]
  },
  {
   "cell_type": "markdown",
   "metadata": {},
   "source": [
    "## Тестирование модели"
   ]
  },
  {
   "cell_type": "markdown",
   "metadata": {},
   "source": [
    "### Изменение порога"
   ]
  },
  {
   "cell_type": "markdown",
   "metadata": {},
   "source": [
    "Применим нашу модель"
   ]
  },
  {
   "cell_type": "code",
   "execution_count": 64,
   "metadata": {},
   "outputs": [
    {
     "name": "stdout",
     "output_type": "stream",
     "text": [
      "F1 модели \"Случайный лес:\" на тестовой выборке 0.5973715651135006\n",
      "auc_roc = 0.8469686944263215\n",
      "\n"
     ]
    }
   ],
   "source": [
    "model = RandomForestClassifier(class_weight='balanced', \n",
    "                               max_depth=9, \n",
    "                               n_estimators=29,\n",
    "                               random_state=12345\n",
    "                              )\n",
    "model.fit(features_train, target_train)\n",
    "\n",
    "predicted_test = model.predict(features_test)\n",
    "f1 = f1_score(target_test, predicted_test)\n",
    "print('F1 модели \"Случайный лес:\" на тестовой выборке', f1)\n",
    "\n",
    "probabilities_test = model.predict_proba(features_test)\n",
    "probabilities_one_test = probabilities_test[:, 1]\n",
    "auc_roc = roc_auc_score(target_test, probabilities_one_test)\n",
    "print('auc_roc =', auc_roc)\n",
    "print('')\n",
    "\n",
    "#probabilities_test = model.predict_proba(features_test)\n",
    "#probabilities_one_test = probabilities_test[:, 1]\n",
    "\n",
    "#for threshold in np.arange(0, 0.3, 0.02):\n",
    "#    predicted_test = probabilities_one_test > threshold\n",
    "#    precision = precision_score(target_test, predicted_test)\n",
    "#    recall = recall_score(target_test, predicted_test)\n",
    "\n",
    "#    print(\"Порог = {:.2f} | Точность = {:.3f}, Полнота = {:.3f}\".format(\n",
    "#        threshold, precision, recall))"
   ]
  },
  {
   "cell_type": "markdown",
   "metadata": {},
   "source": [
    "Цель проекта достигнута, уровень F1 не ниже 0,59"
   ]
  },
  {
   "cell_type": "markdown",
   "metadata": {},
   "source": [
    "### PR-кривая"
   ]
  },
  {
   "cell_type": "code",
   "execution_count": 65,
   "metadata": {},
   "outputs": [
    {
     "data": {
      "image/png": "[encoded data removed]",
      "text/plain": [
       "<Figure size 1080x576 with 1 Axes>"
      ]
     },
     "metadata": {
      "needs_background": "light"
     },
     "output_type": "display_data"
    }
   ],
   "source": [
    "precision, recall, thresholds = precision_recall_curve(target_test, probabilities_test[:, 1])\n",
    "\n",
    "plt.figure(figsize=(15, 8))\n",
    "plt.step(recall, precision, where='post')\n",
    "plt.xlabel('Recall')\n",
    "plt.ylabel('Precision')\n",
    "plt.ylim([0.0, 1.05])\n",
    "plt.xlim([0.0, 1.0])\n",
    "plt.title('Кривая Precision-Recall')\n",
    "plt.show()"
   ]
  },
  {
   "cell_type": "markdown",
   "metadata": {},
   "source": [
    "### AUC-ROC кривая"
   ]
  },
  {
   "cell_type": "code",
   "execution_count": 66,
   "metadata": {},
   "outputs": [
    {
     "data": {
      "image/png": "[encoded data removed]",
      "text/plain": [
       "<Figure size 1080x576 with 1 Axes>"
      ]
     },
     "metadata": {
      "needs_background": "light"
     },
     "output_type": "display_data"
    }
   ],
   "source": [
    "fpr, tpr, thresholds = roc_curve(target_test, probabilities_one_test)\n",
    "\n",
    "plt.figure(figsize=(15, 8))\n",
    "# ROC-кривая случайной модели (выглядит как прямая)\n",
    "plt.plot([0, 1], [0, 1], linestyle='--')\n",
    "\n",
    "plt.xlim([0.0, 1.0])\n",
    "plt.ylim([0.0, 1.0])\n",
    "plt.plot(fpr, tpr)\n",
    "plt.xlabel('False Positive Rate')\n",
    "plt.ylabel('True Positive Rate')\n",
    "plt.title('ROC-кривая')\n",
    "plt.show()"
   ]
  },
  {
   "cell_type": "markdown",
   "metadata": {},
   "source": [
    "### Вывод"
   ]
  },
  {
   "cell_type": "markdown",
   "metadata": {},
   "source": [
    "Выбранная модель и техника баласировки классов позволили достичь значения F1-меры 0.59 на тестовой выборке.  \n",
    "Значение AUC-ROC получилось равным 0.84."
   ]
  },
  {
   "cell_type": "markdown",
   "metadata": {},
   "source": [
    "## ОБЩИЙ ВЫВОД"
   ]
  },
  {
   "cell_type": "markdown",
   "metadata": {},
   "source": [
    "- Для проведения обучения, проверки моделей и тестирования лучшей модели исходный датафрейм был разделён на три выборки: обучающую (60%), валидационную (20%) и тестовую (20%).  \n",
    "- В исследовании участвовали три различные алгоритма классификации: дерево решений, случайный лес и логистическая регрессия.  \n",
    "- Для выбора оптимальной модели использовалась метрика: F1-мера (метрика качества классификации, являющаяся средним гармоническим полноты и точности). \n",
    "- Значение F1-меры при выборе модели оказалось наибольшим у Случайного Леса.\n",
    "- Для борьбы с дисбалансом классов были применены: балансировка классов, увеличение и уменьшение выборки\n",
    "- Эффективней всего показала себя техника балансировки классов - её применили при тестировании модели\n",
    "  \n",
    "По итогам исследования можно сделать заключение о том, что для получения прогноза оттока клиентов наиболее подходящей моделью является `RandomForestClassifier` с глубиной 9 и количеством деревьев 29:  \n",
    "  значение F1-меры в тестовой выборке составило 0.597, расчётное значение AUC-ROC оказалось 0.84"
   ]
  }
 ],
 "metadata": {
  "ExecuteTimeLog": [
   {
    "duration": 437,
    "start_time": "2023-02-16T21:24:21.851Z"
   },
   {
    "duration": 174,
    "start_time": "2023-02-16T21:24:22.791Z"
   },
   {
    "duration": 11,
    "start_time": "2023-02-16T21:27:17.591Z"
   },
   {
    "duration": 20,
    "start_time": "2023-02-17T16:49:51.361Z"
   },
   {
    "duration": 7,
    "start_time": "2023-02-17T17:12:32.272Z"
   },
   {
    "duration": 61,
    "start_time": "2023-02-17T17:12:43.433Z"
   },
   {
    "duration": 7,
    "start_time": "2023-02-17T17:12:51.725Z"
   },
   {
    "duration": 5,
    "start_time": "2023-02-17T17:13:16.407Z"
   },
   {
    "duration": 16,
    "start_time": "2023-02-17T17:28:34.762Z"
   },
   {
    "duration": 1152,
    "start_time": "2023-02-17T17:30:40.286Z"
   },
   {
    "duration": 4,
    "start_time": "2023-02-17T17:30:50.657Z"
   },
   {
    "duration": 4,
    "start_time": "2023-02-17T17:30:53.835Z"
   },
   {
    "duration": 5,
    "start_time": "2023-02-17T17:31:03.530Z"
   },
   {
    "duration": 8,
    "start_time": "2023-02-17T17:32:26.677Z"
   },
   {
    "duration": 4,
    "start_time": "2023-02-17T17:32:32.445Z"
   },
   {
    "duration": 12,
    "start_time": "2023-02-17T17:35:29.044Z"
   },
   {
    "duration": 5,
    "start_time": "2023-02-17T17:38:21.725Z"
   },
   {
    "duration": 81,
    "start_time": "2023-02-17T17:39:01.727Z"
   },
   {
    "duration": 5,
    "start_time": "2023-02-17T17:40:03.472Z"
   },
   {
    "duration": 6,
    "start_time": "2023-02-17T17:47:27.228Z"
   },
   {
    "duration": 5,
    "start_time": "2023-02-17T18:30:05.453Z"
   },
   {
    "duration": 5,
    "start_time": "2023-02-17T18:30:15.687Z"
   },
   {
    "duration": 7,
    "start_time": "2023-02-17T18:30:30.648Z"
   },
   {
    "duration": 7,
    "start_time": "2023-02-17T18:30:47.767Z"
   },
   {
    "duration": 1136,
    "start_time": "2023-02-17T19:33:10.130Z"
   },
   {
    "duration": 25,
    "start_time": "2023-02-17T19:33:22.571Z"
   },
   {
    "duration": 9,
    "start_time": "2023-02-17T19:33:29.955Z"
   },
   {
    "duration": 8,
    "start_time": "2023-02-17T19:35:39.679Z"
   },
   {
    "duration": 6,
    "start_time": "2023-02-17T19:35:45.421Z"
   },
   {
    "duration": 5,
    "start_time": "2023-02-17T19:35:50.982Z"
   },
   {
    "duration": 3,
    "start_time": "2023-02-17T19:38:50.931Z"
   },
   {
    "duration": 2,
    "start_time": "2023-02-17T19:39:23.124Z"
   },
   {
    "duration": 101,
    "start_time": "2023-02-17T19:41:56.316Z"
   },
   {
    "duration": 375,
    "start_time": "2023-02-17T23:09:28.161Z"
   },
   {
    "duration": 41,
    "start_time": "2023-02-17T23:09:29.284Z"
   },
   {
    "duration": 20,
    "start_time": "2023-02-17T23:09:31.069Z"
   },
   {
    "duration": 15,
    "start_time": "2023-02-17T23:09:45.495Z"
   },
   {
    "duration": 6,
    "start_time": "2023-02-17T23:12:53.526Z"
   },
   {
    "duration": 438,
    "start_time": "2023-02-17T23:13:05.497Z"
   },
   {
    "duration": 42,
    "start_time": "2023-02-17T23:13:07.233Z"
   },
   {
    "duration": 21,
    "start_time": "2023-02-17T23:13:07.839Z"
   },
   {
    "duration": 12,
    "start_time": "2023-02-17T23:13:08.520Z"
   },
   {
    "duration": 4,
    "start_time": "2023-02-17T23:13:10.815Z"
   },
   {
    "duration": 6,
    "start_time": "2023-02-17T23:13:12.990Z"
   },
   {
    "duration": 5,
    "start_time": "2023-02-17T23:13:14.526Z"
   },
   {
    "duration": 4,
    "start_time": "2023-02-17T23:13:16.142Z"
   },
   {
    "duration": 7,
    "start_time": "2023-02-17T23:13:17.576Z"
   },
   {
    "duration": 7,
    "start_time": "2023-02-17T23:13:22.302Z"
   },
   {
    "duration": 13,
    "start_time": "2023-02-17T23:13:34.793Z"
   },
   {
    "duration": 5,
    "start_time": "2023-02-17T23:13:36.854Z"
   },
   {
    "duration": 6,
    "start_time": "2023-02-17T23:14:56.194Z"
   },
   {
    "duration": 69,
    "start_time": "2023-02-17T23:21:49.603Z"
   },
   {
    "duration": 6,
    "start_time": "2023-02-17T23:21:56.621Z"
   },
   {
    "duration": 15,
    "start_time": "2023-02-17T23:34:42.341Z"
   },
   {
    "duration": 5,
    "start_time": "2023-02-17T23:35:05.874Z"
   },
   {
    "duration": 10,
    "start_time": "2023-02-17T23:36:02.757Z"
   },
   {
    "duration": 7,
    "start_time": "2023-02-17T23:36:19.677Z"
   },
   {
    "duration": 22,
    "start_time": "2023-02-17T23:37:47.997Z"
   },
   {
    "duration": 22,
    "start_time": "2023-02-17T23:40:03.267Z"
   },
   {
    "duration": 11,
    "start_time": "2023-02-17T23:44:00.243Z"
   },
   {
    "duration": 680,
    "start_time": "2023-02-17T23:44:18.833Z"
   },
   {
    "duration": 52,
    "start_time": "2023-02-17T23:44:26.775Z"
   },
   {
    "duration": 21,
    "start_time": "2023-02-17T23:45:02.179Z"
   },
   {
    "duration": 1061,
    "start_time": "2023-02-17T23:45:12.221Z"
   },
   {
    "duration": 46,
    "start_time": "2023-02-17T23:45:15.342Z"
   },
   {
    "duration": 25,
    "start_time": "2023-02-17T23:45:16.412Z"
   },
   {
    "duration": 15,
    "start_time": "2023-02-17T23:45:17.239Z"
   },
   {
    "duration": 5,
    "start_time": "2023-02-17T23:45:41.713Z"
   },
   {
    "duration": 5,
    "start_time": "2023-02-17T23:45:43.703Z"
   },
   {
    "duration": 4,
    "start_time": "2023-02-17T23:45:44.571Z"
   },
   {
    "duration": 5,
    "start_time": "2023-02-17T23:45:45.388Z"
   },
   {
    "duration": 5,
    "start_time": "2023-02-17T23:45:46.279Z"
   },
   {
    "duration": 7,
    "start_time": "2023-02-17T23:45:47.683Z"
   },
   {
    "duration": 6,
    "start_time": "2023-02-17T23:45:48.723Z"
   },
   {
    "duration": 15,
    "start_time": "2023-02-17T23:45:50.614Z"
   },
   {
    "duration": 5,
    "start_time": "2023-02-17T23:45:53.241Z"
   },
   {
    "duration": 22,
    "start_time": "2023-02-17T23:45:54.968Z"
   },
   {
    "duration": 22,
    "start_time": "2023-02-17T23:45:56.877Z"
   },
   {
    "duration": 1189,
    "start_time": "2023-02-18T10:52:00.551Z"
   },
   {
    "duration": 43,
    "start_time": "2023-02-18T10:52:01.856Z"
   },
   {
    "duration": 31,
    "start_time": "2023-02-18T10:52:02.411Z"
   },
   {
    "duration": 25,
    "start_time": "2023-02-18T10:52:03.116Z"
   },
   {
    "duration": 6,
    "start_time": "2023-02-18T10:52:04.594Z"
   },
   {
    "duration": 7,
    "start_time": "2023-02-18T10:52:05.884Z"
   },
   {
    "duration": 3,
    "start_time": "2023-02-18T10:52:06.706Z"
   },
   {
    "duration": 7,
    "start_time": "2023-02-18T10:52:07.440Z"
   },
   {
    "duration": 4,
    "start_time": "2023-02-18T10:52:08.106Z"
   },
   {
    "duration": 7,
    "start_time": "2023-02-18T10:52:09.354Z"
   },
   {
    "duration": 6,
    "start_time": "2023-02-18T10:52:10.969Z"
   },
   {
    "duration": 12,
    "start_time": "2023-02-18T11:15:34.098Z"
   },
   {
    "duration": 78,
    "start_time": "2023-02-18T11:15:41.972Z"
   },
   {
    "duration": 12,
    "start_time": "2023-02-18T11:17:19.194Z"
   },
   {
    "duration": 5,
    "start_time": "2023-02-18T11:17:20.778Z"
   },
   {
    "duration": 22,
    "start_time": "2023-02-18T11:18:22.889Z"
   },
   {
    "duration": 4,
    "start_time": "2023-02-18T11:23:49.056Z"
   },
   {
    "duration": 89,
    "start_time": "2023-02-18T11:27:45.284Z"
   },
   {
    "duration": 42,
    "start_time": "2023-02-18T11:27:51.893Z"
   },
   {
    "duration": 15,
    "start_time": "2023-02-18T11:27:56.684Z"
   },
   {
    "duration": 20,
    "start_time": "2023-02-18T11:29:40.156Z"
   },
   {
    "duration": 17,
    "start_time": "2023-02-18T11:30:16.858Z"
   },
   {
    "duration": 15,
    "start_time": "2023-02-18T11:30:54.793Z"
   },
   {
    "duration": 20,
    "start_time": "2023-02-18T11:30:59.760Z"
   },
   {
    "duration": 1184,
    "start_time": "2023-02-18T11:31:44.000Z"
   },
   {
    "duration": 43,
    "start_time": "2023-02-18T11:31:45.186Z"
   },
   {
    "duration": 21,
    "start_time": "2023-02-18T11:31:45.457Z"
   },
   {
    "duration": 13,
    "start_time": "2023-02-18T11:31:45.960Z"
   },
   {
    "duration": 5,
    "start_time": "2023-02-18T11:31:47.355Z"
   },
   {
    "duration": 6,
    "start_time": "2023-02-18T11:31:48.559Z"
   },
   {
    "duration": 4,
    "start_time": "2023-02-18T11:31:49.440Z"
   },
   {
    "duration": 4,
    "start_time": "2023-02-18T11:31:50.180Z"
   },
   {
    "duration": 5,
    "start_time": "2023-02-18T11:31:50.905Z"
   },
   {
    "duration": 6,
    "start_time": "2023-02-18T11:31:52.103Z"
   },
   {
    "duration": 6,
    "start_time": "2023-02-18T11:31:52.919Z"
   },
   {
    "duration": 12,
    "start_time": "2023-02-18T11:31:54.088Z"
   },
   {
    "duration": 5,
    "start_time": "2023-02-18T11:31:54.823Z"
   },
   {
    "duration": 21,
    "start_time": "2023-02-18T11:31:55.956Z"
   },
   {
    "duration": 16,
    "start_time": "2023-02-18T11:31:57.271Z"
   },
   {
    "duration": 70,
    "start_time": "2023-02-18T11:31:58.727Z"
   },
   {
    "duration": 60,
    "start_time": "2023-02-18T15:16:11.858Z"
   },
   {
    "duration": 1101,
    "start_time": "2023-02-18T15:16:26.928Z"
   },
   {
    "duration": 42,
    "start_time": "2023-02-18T15:16:29.525Z"
   },
   {
    "duration": 30,
    "start_time": "2023-02-18T15:16:30.040Z"
   },
   {
    "duration": 14,
    "start_time": "2023-02-18T15:16:30.520Z"
   },
   {
    "duration": 5,
    "start_time": "2023-02-18T15:16:32.726Z"
   },
   {
    "duration": 5,
    "start_time": "2023-02-18T15:16:34.315Z"
   },
   {
    "duration": 3,
    "start_time": "2023-02-18T15:16:35.193Z"
   },
   {
    "duration": 4,
    "start_time": "2023-02-18T15:16:35.979Z"
   },
   {
    "duration": 5,
    "start_time": "2023-02-18T15:16:36.827Z"
   },
   {
    "duration": 10,
    "start_time": "2023-02-18T15:16:37.926Z"
   },
   {
    "duration": 6,
    "start_time": "2023-02-18T15:16:38.483Z"
   },
   {
    "duration": 16,
    "start_time": "2023-02-18T15:16:39.144Z"
   },
   {
    "duration": 6,
    "start_time": "2023-02-18T15:16:39.622Z"
   },
   {
    "duration": 22,
    "start_time": "2023-02-18T15:16:42.488Z"
   },
   {
    "duration": 18,
    "start_time": "2023-02-18T15:16:43.801Z"
   },
   {
    "duration": 5,
    "start_time": "2023-02-18T15:16:44.724Z"
   },
   {
    "duration": 4,
    "start_time": "2023-02-18T15:18:10.297Z"
   },
   {
    "duration": 3,
    "start_time": "2023-02-18T15:33:54.017Z"
   },
   {
    "duration": 94,
    "start_time": "2023-02-18T15:36:22.504Z"
   },
   {
    "duration": 32,
    "start_time": "2023-02-18T15:36:28.992Z"
   },
   {
    "duration": 49,
    "start_time": "2023-02-18T15:36:44.626Z"
   },
   {
    "duration": 47,
    "start_time": "2023-02-18T15:37:35.680Z"
   },
   {
    "duration": 18,
    "start_time": "2023-02-18T15:53:31.282Z"
   },
   {
    "duration": 540,
    "start_time": "2023-02-18T19:53:50.104Z"
   },
   {
    "duration": 110,
    "start_time": "2023-02-18T19:54:08.557Z"
   },
   {
    "duration": 3,
    "start_time": "2023-02-18T19:57:19.287Z"
   },
   {
    "duration": 49,
    "start_time": "2023-02-18T19:58:58.445Z"
   },
   {
    "duration": 126,
    "start_time": "2023-02-18T19:59:19.653Z"
   },
   {
    "duration": 10,
    "start_time": "2023-02-18T20:01:09.754Z"
   },
   {
    "duration": 3,
    "start_time": "2023-02-18T20:01:46.626Z"
   },
   {
    "duration": 5,
    "start_time": "2023-02-18T20:01:52.274Z"
   },
   {
    "duration": 133,
    "start_time": "2023-02-18T20:11:30.354Z"
   },
   {
    "duration": 128,
    "start_time": "2023-02-18T20:15:09.056Z"
   },
   {
    "duration": 5,
    "start_time": "2023-02-18T20:15:16.216Z"
   },
   {
    "duration": 1092,
    "start_time": "2023-02-18T20:18:54.820Z"
   },
   {
    "duration": 42,
    "start_time": "2023-02-18T20:18:55.914Z"
   },
   {
    "duration": 20,
    "start_time": "2023-02-18T20:18:55.957Z"
   },
   {
    "duration": 11,
    "start_time": "2023-02-18T20:18:55.980Z"
   },
   {
    "duration": 4,
    "start_time": "2023-02-18T20:18:55.993Z"
   },
   {
    "duration": 5,
    "start_time": "2023-02-18T20:18:55.999Z"
   },
   {
    "duration": 5,
    "start_time": "2023-02-18T20:18:56.006Z"
   },
   {
    "duration": 4,
    "start_time": "2023-02-18T20:18:56.021Z"
   },
   {
    "duration": 8,
    "start_time": "2023-02-18T20:18:56.027Z"
   },
   {
    "duration": 7,
    "start_time": "2023-02-18T20:18:56.037Z"
   },
   {
    "duration": 8,
    "start_time": "2023-02-18T20:18:56.046Z"
   },
   {
    "duration": 14,
    "start_time": "2023-02-18T20:18:56.055Z"
   },
   {
    "duration": 5,
    "start_time": "2023-02-18T20:18:56.070Z"
   },
   {
    "duration": 49,
    "start_time": "2023-02-18T20:18:56.076Z"
   },
   {
    "duration": 15,
    "start_time": "2023-02-18T20:18:56.126Z"
   },
   {
    "duration": 37,
    "start_time": "2023-02-18T20:18:56.143Z"
   },
   {
    "duration": 397,
    "start_time": "2023-02-18T20:18:56.182Z"
   },
   {
    "duration": 149,
    "start_time": "2023-02-18T20:18:56.581Z"
   },
   {
    "duration": 0,
    "start_time": "2023-02-18T20:18:56.732Z"
   },
   {
    "duration": 141,
    "start_time": "2023-02-18T20:19:20.667Z"
   },
   {
    "duration": 145,
    "start_time": "2023-02-18T20:20:18.994Z"
   },
   {
    "duration": 37,
    "start_time": "2023-02-18T20:21:45.450Z"
   },
   {
    "duration": 139,
    "start_time": "2023-02-18T20:21:53.312Z"
   },
   {
    "duration": 170,
    "start_time": "2023-02-18T20:22:39.915Z"
   },
   {
    "duration": 203,
    "start_time": "2023-02-18T20:25:20.643Z"
   },
   {
    "duration": 131,
    "start_time": "2023-02-18T20:25:59.075Z"
   },
   {
    "duration": 16,
    "start_time": "2023-02-18T20:26:41.257Z"
   },
   {
    "duration": 6,
    "start_time": "2023-02-18T20:27:06.372Z"
   },
   {
    "duration": 4,
    "start_time": "2023-02-18T20:29:04.952Z"
   },
   {
    "duration": 7,
    "start_time": "2023-02-18T20:30:40.012Z"
   },
   {
    "duration": 4,
    "start_time": "2023-02-18T21:17:55.152Z"
   },
   {
    "duration": 9,
    "start_time": "2023-02-18T21:18:03.901Z"
   },
   {
    "duration": 6,
    "start_time": "2023-02-18T21:18:42.510Z"
   },
   {
    "duration": 4,
    "start_time": "2023-02-18T21:22:28.745Z"
   },
   {
    "duration": 5,
    "start_time": "2023-02-18T21:22:57.772Z"
   },
   {
    "duration": 9,
    "start_time": "2023-02-18T21:24:38.042Z"
   },
   {
    "duration": 10,
    "start_time": "2023-02-18T21:26:02.771Z"
   },
   {
    "duration": 9,
    "start_time": "2023-02-18T21:26:09.413Z"
   },
   {
    "duration": 4,
    "start_time": "2023-02-18T21:26:16.053Z"
   },
   {
    "duration": 5,
    "start_time": "2023-02-18T21:26:21.933Z"
   },
   {
    "duration": 3,
    "start_time": "2023-02-18T21:29:55.119Z"
   },
   {
    "duration": 74,
    "start_time": "2023-02-18T21:51:09.173Z"
   },
   {
    "duration": 79,
    "start_time": "2023-02-18T21:51:22.885Z"
   },
   {
    "duration": 76,
    "start_time": "2023-02-18T21:51:27.228Z"
   },
   {
    "duration": 644,
    "start_time": "2023-02-18T21:51:47.091Z"
   },
   {
    "duration": 1318,
    "start_time": "2023-02-19T08:59:05.400Z"
   },
   {
    "duration": 43,
    "start_time": "2023-02-19T08:59:07.977Z"
   },
   {
    "duration": 32,
    "start_time": "2023-02-19T08:59:08.439Z"
   },
   {
    "duration": 14,
    "start_time": "2023-02-19T08:59:09.063Z"
   },
   {
    "duration": 6,
    "start_time": "2023-02-19T08:59:10.486Z"
   },
   {
    "duration": 6,
    "start_time": "2023-02-19T08:59:11.653Z"
   },
   {
    "duration": 5,
    "start_time": "2023-02-19T08:59:12.443Z"
   },
   {
    "duration": 4,
    "start_time": "2023-02-19T08:59:13.079Z"
   },
   {
    "duration": 5,
    "start_time": "2023-02-19T08:59:13.717Z"
   },
   {
    "duration": 10,
    "start_time": "2023-02-19T08:59:14.639Z"
   },
   {
    "duration": 11,
    "start_time": "2023-02-19T08:59:15.277Z"
   },
   {
    "duration": 14,
    "start_time": "2023-02-19T08:59:16.182Z"
   },
   {
    "duration": 6,
    "start_time": "2023-02-19T08:59:16.798Z"
   },
   {
    "duration": 30,
    "start_time": "2023-02-19T08:59:17.928Z"
   },
   {
    "duration": 23,
    "start_time": "2023-02-19T08:59:19.102Z"
   },
   {
    "duration": 46,
    "start_time": "2023-02-19T08:59:19.926Z"
   },
   {
    "duration": 458,
    "start_time": "2023-02-19T08:59:21.990Z"
   },
   {
    "duration": 169,
    "start_time": "2023-02-19T08:59:23.662Z"
   },
   {
    "duration": 6,
    "start_time": "2023-02-19T08:59:25.193Z"
   },
   {
    "duration": 7,
    "start_time": "2023-02-19T08:59:26.462Z"
   },
   {
    "duration": 8,
    "start_time": "2023-02-19T08:59:29.142Z"
   },
   {
    "duration": 6,
    "start_time": "2023-02-19T08:59:30.819Z"
   },
   {
    "duration": 7,
    "start_time": "2023-02-19T08:59:32.590Z"
   },
   {
    "duration": 809,
    "start_time": "2023-02-19T08:59:37.166Z"
   },
   {
    "duration": 880,
    "start_time": "2023-02-19T09:04:05.393Z"
   },
   {
    "duration": 870,
    "start_time": "2023-02-19T09:04:25.360Z"
   },
   {
    "duration": 893,
    "start_time": "2023-02-19T09:05:19.727Z"
   },
   {
    "duration": 1717,
    "start_time": "2023-02-19T09:10:14.370Z"
   },
   {
    "duration": 994,
    "start_time": "2023-02-19T09:10:49.653Z"
   },
   {
    "duration": 904,
    "start_time": "2023-02-19T11:04:47.021Z"
   },
   {
    "duration": 1008,
    "start_time": "2023-02-19T11:04:57.237Z"
   },
   {
    "duration": 24,
    "start_time": "2023-02-19T11:10:48.686Z"
   },
   {
    "duration": 6,
    "start_time": "2023-02-19T11:11:14.588Z"
   },
   {
    "duration": 1192,
    "start_time": "2023-02-19T11:11:23.973Z"
   },
   {
    "duration": 43,
    "start_time": "2023-02-19T11:11:26.356Z"
   },
   {
    "duration": 21,
    "start_time": "2023-02-19T11:11:26.596Z"
   },
   {
    "duration": 19,
    "start_time": "2023-02-19T11:11:26.859Z"
   },
   {
    "duration": 6,
    "start_time": "2023-02-19T11:11:27.527Z"
   },
   {
    "duration": 5,
    "start_time": "2023-02-19T11:11:28.115Z"
   },
   {
    "duration": 4,
    "start_time": "2023-02-19T11:11:28.468Z"
   },
   {
    "duration": 5,
    "start_time": "2023-02-19T11:11:28.838Z"
   },
   {
    "duration": 5,
    "start_time": "2023-02-19T11:11:29.190Z"
   },
   {
    "duration": 7,
    "start_time": "2023-02-19T11:11:29.795Z"
   },
   {
    "duration": 6,
    "start_time": "2023-02-19T11:11:30.259Z"
   },
   {
    "duration": 14,
    "start_time": "2023-02-19T11:11:31.006Z"
   },
   {
    "duration": 5,
    "start_time": "2023-02-19T11:11:31.429Z"
   },
   {
    "duration": 32,
    "start_time": "2023-02-19T11:11:32.180Z"
   },
   {
    "duration": 17,
    "start_time": "2023-02-19T11:11:33.139Z"
   },
   {
    "duration": 43,
    "start_time": "2023-02-19T11:11:33.826Z"
   },
   {
    "duration": 386,
    "start_time": "2023-02-19T11:11:35.211Z"
   },
   {
    "duration": 148,
    "start_time": "2023-02-19T11:11:36.979Z"
   },
   {
    "duration": 5,
    "start_time": "2023-02-19T11:11:38.188Z"
   },
   {
    "duration": 6,
    "start_time": "2023-02-19T11:11:39.430Z"
   },
   {
    "duration": 6,
    "start_time": "2023-02-19T11:11:40.589Z"
   },
   {
    "duration": 6,
    "start_time": "2023-02-19T11:11:41.819Z"
   },
   {
    "duration": 6,
    "start_time": "2023-02-19T11:11:42.922Z"
   },
   {
    "duration": 955,
    "start_time": "2023-02-19T11:11:44.388Z"
   },
   {
    "duration": 1476,
    "start_time": "2023-02-19T11:11:49.683Z"
   },
   {
    "duration": 1509,
    "start_time": "2023-02-19T11:12:54.815Z"
   },
   {
    "duration": 1527,
    "start_time": "2023-02-19T11:13:15.295Z"
   },
   {
    "duration": 1628,
    "start_time": "2023-02-19T11:13:26.729Z"
   },
   {
    "duration": 381,
    "start_time": "2023-02-19T11:17:47.547Z"
   },
   {
    "duration": 8780,
    "start_time": "2023-02-19T11:26:23.335Z"
   },
   {
    "duration": 0,
    "start_time": "2023-02-19T11:26:32.117Z"
   },
   {
    "duration": 9914,
    "start_time": "2023-02-19T11:26:41.119Z"
   },
   {
    "duration": 8616,
    "start_time": "2023-02-19T11:27:18.255Z"
   },
   {
    "duration": 9521,
    "start_time": "2023-02-19T11:28:44.846Z"
   },
   {
    "duration": 1379,
    "start_time": "2023-02-19T11:29:37.324Z"
   },
   {
    "duration": 42,
    "start_time": "2023-02-19T11:29:41.549Z"
   },
   {
    "duration": 22,
    "start_time": "2023-02-19T11:29:42.354Z"
   },
   {
    "duration": 15,
    "start_time": "2023-02-19T11:29:42.900Z"
   },
   {
    "duration": 5,
    "start_time": "2023-02-19T11:29:44.324Z"
   },
   {
    "duration": 6,
    "start_time": "2023-02-19T11:29:45.700Z"
   },
   {
    "duration": 4,
    "start_time": "2023-02-19T11:29:46.667Z"
   },
   {
    "duration": 5,
    "start_time": "2023-02-19T11:29:47.460Z"
   },
   {
    "duration": 6,
    "start_time": "2023-02-19T11:29:48.227Z"
   },
   {
    "duration": 8,
    "start_time": "2023-02-19T11:29:49.467Z"
   },
   {
    "duration": 6,
    "start_time": "2023-02-19T11:29:50.380Z"
   },
   {
    "duration": 17,
    "start_time": "2023-02-19T11:29:51.555Z"
   },
   {
    "duration": 6,
    "start_time": "2023-02-19T11:29:52.189Z"
   },
   {
    "duration": 33,
    "start_time": "2023-02-19T11:30:03.278Z"
   },
   {
    "duration": 10305,
    "start_time": "2023-02-19T11:30:08.075Z"
   },
   {
    "duration": 23,
    "start_time": "2023-02-19T11:33:04.555Z"
   },
   {
    "duration": 42,
    "start_time": "2023-02-19T11:33:06.055Z"
   },
   {
    "duration": 118,
    "start_time": "2023-02-19T11:33:09.791Z"
   },
   {
    "duration": 169,
    "start_time": "2023-02-19T11:33:12.043Z"
   },
   {
    "duration": 12,
    "start_time": "2023-02-19T11:33:14.440Z"
   },
   {
    "duration": 7,
    "start_time": "2023-02-19T11:33:16.361Z"
   },
   {
    "duration": 5,
    "start_time": "2023-02-19T11:33:18.463Z"
   },
   {
    "duration": 6,
    "start_time": "2023-02-19T11:33:19.816Z"
   },
   {
    "duration": 7,
    "start_time": "2023-02-19T11:33:20.943Z"
   },
   {
    "duration": 127,
    "start_time": "2023-02-19T11:34:17.294Z"
   },
   {
    "duration": 1505,
    "start_time": "2023-02-19T11:34:52.264Z"
   },
   {
    "duration": 43,
    "start_time": "2023-02-19T11:34:53.771Z"
   },
   {
    "duration": 33,
    "start_time": "2023-02-19T11:34:53.817Z"
   },
   {
    "duration": 23,
    "start_time": "2023-02-19T11:34:53.854Z"
   },
   {
    "duration": 6,
    "start_time": "2023-02-19T11:34:53.879Z"
   },
   {
    "duration": 15,
    "start_time": "2023-02-19T11:34:53.887Z"
   },
   {
    "duration": 14,
    "start_time": "2023-02-19T11:34:53.905Z"
   },
   {
    "duration": 21,
    "start_time": "2023-02-19T11:34:53.924Z"
   },
   {
    "duration": 9,
    "start_time": "2023-02-19T11:34:53.946Z"
   },
   {
    "duration": 10,
    "start_time": "2023-02-19T11:34:53.958Z"
   },
   {
    "duration": 20,
    "start_time": "2023-02-19T11:34:53.970Z"
   },
   {
    "duration": 20,
    "start_time": "2023-02-19T11:34:53.992Z"
   },
   {
    "duration": 6,
    "start_time": "2023-02-19T11:34:54.014Z"
   },
   {
    "duration": 45,
    "start_time": "2023-02-19T11:34:54.022Z"
   },
   {
    "duration": 13068,
    "start_time": "2023-02-19T11:34:54.068Z"
   },
   {
    "duration": 1314,
    "start_time": "2023-02-19T11:35:07.139Z"
   },
   {
    "duration": 18,
    "start_time": "2023-02-19T11:35:08.455Z"
   },
   {
    "duration": 71,
    "start_time": "2023-02-19T11:35:08.475Z"
   },
   {
    "duration": 128,
    "start_time": "2023-02-19T11:35:08.548Z"
   },
   {
    "duration": 185,
    "start_time": "2023-02-19T11:35:08.678Z"
   },
   {
    "duration": 7,
    "start_time": "2023-02-19T11:35:08.866Z"
   },
   {
    "duration": 8,
    "start_time": "2023-02-19T11:35:08.875Z"
   },
   {
    "duration": 23,
    "start_time": "2023-02-19T11:35:08.885Z"
   },
   {
    "duration": 16,
    "start_time": "2023-02-19T11:35:08.910Z"
   },
   {
    "duration": 28,
    "start_time": "2023-02-19T11:35:08.928Z"
   },
   {
    "duration": 1114,
    "start_time": "2023-02-19T11:35:08.959Z"
   },
   {
    "duration": 1789,
    "start_time": "2023-02-19T11:35:10.075Z"
   },
   {
    "duration": 469,
    "start_time": "2023-02-19T11:35:11.868Z"
   },
   {
    "duration": 236,
    "start_time": "2023-02-19T11:38:22.289Z"
   },
   {
    "duration": 1320,
    "start_time": "2023-02-19T11:38:34.036Z"
   },
   {
    "duration": 734,
    "start_time": "2023-02-19T15:57:10.599Z"
   },
   {
    "duration": 3421,
    "start_time": "2023-02-19T15:58:45.448Z"
   },
   {
    "duration": 3091,
    "start_time": "2023-02-19T16:00:20.318Z"
   },
   {
    "duration": 5,
    "start_time": "2023-02-19T16:04:46.385Z"
   },
   {
    "duration": 3496,
    "start_time": "2023-02-19T20:15:15.379Z"
   },
   {
    "duration": 8965,
    "start_time": "2023-02-19T20:18:56.176Z"
   },
   {
    "duration": 4705,
    "start_time": "2023-02-19T20:19:34.734Z"
   },
   {
    "duration": 3951,
    "start_time": "2023-02-19T20:20:04.916Z"
   },
   {
    "duration": 1644,
    "start_time": "2023-02-19T20:21:29.844Z"
   },
   {
    "duration": 79,
    "start_time": "2023-02-19T20:21:38.914Z"
   },
   {
    "duration": 1337,
    "start_time": "2023-02-19T20:37:27.137Z"
   },
   {
    "duration": 1303,
    "start_time": "2023-02-19T20:38:15.934Z"
   },
   {
    "duration": 1451,
    "start_time": "2023-02-19T20:38:38.070Z"
   },
   {
    "duration": 4210,
    "start_time": "2023-02-19T20:38:55.164Z"
   },
   {
    "duration": 22,
    "start_time": "2023-02-19T20:58:14.940Z"
   },
   {
    "duration": 593,
    "start_time": "2023-02-19T21:00:26.288Z"
   },
   {
    "duration": 5,
    "start_time": "2023-02-19T21:06:12.231Z"
   },
   {
    "duration": 1470,
    "start_time": "2023-02-19T21:06:22.950Z"
   },
   {
    "duration": 3624,
    "start_time": "2023-02-19T21:07:36.929Z"
   },
   {
    "duration": 126,
    "start_time": "2023-02-19T21:11:01.066Z"
   },
   {
    "duration": 1515,
    "start_time": "2023-02-19T21:11:14.415Z"
   },
   {
    "duration": 43,
    "start_time": "2023-02-19T21:11:15.932Z"
   },
   {
    "duration": 18,
    "start_time": "2023-02-19T21:11:16.035Z"
   },
   {
    "duration": 14,
    "start_time": "2023-02-19T21:11:16.682Z"
   },
   {
    "duration": 6,
    "start_time": "2023-02-19T21:11:17.795Z"
   },
   {
    "duration": 5,
    "start_time": "2023-02-19T21:11:18.650Z"
   },
   {
    "duration": 4,
    "start_time": "2023-02-19T21:11:19.076Z"
   },
   {
    "duration": 5,
    "start_time": "2023-02-19T21:11:19.530Z"
   },
   {
    "duration": 5,
    "start_time": "2023-02-19T21:11:19.938Z"
   },
   {
    "duration": 7,
    "start_time": "2023-02-19T21:11:20.544Z"
   },
   {
    "duration": 5,
    "start_time": "2023-02-19T21:11:20.937Z"
   },
   {
    "duration": 13,
    "start_time": "2023-02-19T21:11:21.626Z"
   },
   {
    "duration": 5,
    "start_time": "2023-02-19T21:11:22.064Z"
   },
   {
    "duration": 20,
    "start_time": "2023-02-19T21:11:22.793Z"
   },
   {
    "duration": 9374,
    "start_time": "2023-02-19T21:11:23.288Z"
   },
   {
    "duration": 1120,
    "start_time": "2023-02-19T21:11:32.664Z"
   },
   {
    "duration": 17,
    "start_time": "2023-02-19T21:11:46.446Z"
   },
   {
    "duration": 38,
    "start_time": "2023-02-19T21:11:47.761Z"
   },
   {
    "duration": 104,
    "start_time": "2023-02-19T21:11:49.630Z"
   },
   {
    "duration": 136,
    "start_time": "2023-02-19T21:11:50.735Z"
   },
   {
    "duration": 5,
    "start_time": "2023-02-19T21:11:51.496Z"
   },
   {
    "duration": 9,
    "start_time": "2023-02-19T21:11:52.538Z"
   },
   {
    "duration": 7,
    "start_time": "2023-02-19T21:11:53.543Z"
   },
   {
    "duration": 9,
    "start_time": "2023-02-19T21:11:54.583Z"
   },
   {
    "duration": 7,
    "start_time": "2023-02-19T21:11:55.591Z"
   },
   {
    "duration": 2755,
    "start_time": "2023-02-19T21:11:56.961Z"
   },
   {
    "duration": 2924,
    "start_time": "2023-02-19T21:12:13.891Z"
   },
   {
    "duration": 584,
    "start_time": "2023-02-19T21:12:22.635Z"
   },
   {
    "duration": 190892,
    "start_time": "2023-02-19T21:12:29.364Z"
   },
   {
    "duration": 1648,
    "start_time": "2023-02-19T21:17:33.147Z"
   },
   {
    "duration": 45,
    "start_time": "2023-02-19T21:17:34.797Z"
   },
   {
    "duration": 20,
    "start_time": "2023-02-19T21:17:34.844Z"
   },
   {
    "duration": 14,
    "start_time": "2023-02-19T21:17:34.866Z"
   },
   {
    "duration": 5,
    "start_time": "2023-02-19T21:17:34.882Z"
   },
   {
    "duration": 33,
    "start_time": "2023-02-19T21:17:34.889Z"
   },
   {
    "duration": 4,
    "start_time": "2023-02-19T21:17:34.924Z"
   },
   {
    "duration": 14,
    "start_time": "2023-02-19T21:17:34.930Z"
   },
   {
    "duration": 11,
    "start_time": "2023-02-19T21:17:34.945Z"
   },
   {
    "duration": 12,
    "start_time": "2023-02-19T21:17:34.959Z"
   },
   {
    "duration": 11,
    "start_time": "2023-02-19T21:17:34.973Z"
   },
   {
    "duration": 36,
    "start_time": "2023-02-19T21:17:34.987Z"
   },
   {
    "duration": 6,
    "start_time": "2023-02-19T21:17:35.026Z"
   },
   {
    "duration": 28,
    "start_time": "2023-02-19T21:17:35.034Z"
   },
   {
    "duration": 10340,
    "start_time": "2023-02-19T21:17:35.064Z"
   },
   {
    "duration": 1134,
    "start_time": "2023-02-19T21:17:45.405Z"
   },
   {
    "duration": 16,
    "start_time": "2023-02-19T21:17:46.540Z"
   },
   {
    "duration": 40,
    "start_time": "2023-02-19T21:17:46.558Z"
   },
   {
    "duration": 105,
    "start_time": "2023-02-19T21:17:46.621Z"
   },
   {
    "duration": 151,
    "start_time": "2023-02-19T21:17:46.727Z"
   },
   {
    "duration": 5,
    "start_time": "2023-02-19T21:17:46.880Z"
   },
   {
    "duration": 8,
    "start_time": "2023-02-19T21:17:46.886Z"
   },
   {
    "duration": 5,
    "start_time": "2023-02-19T21:17:46.896Z"
   },
   {
    "duration": 19,
    "start_time": "2023-02-19T21:17:46.902Z"
   },
   {
    "duration": 9,
    "start_time": "2023-02-19T21:17:46.922Z"
   },
   {
    "duration": 2724,
    "start_time": "2023-02-19T21:17:46.933Z"
   },
   {
    "duration": 554,
    "start_time": "2023-02-19T21:17:49.659Z"
   },
   {
    "duration": 832,
    "start_time": "2023-02-19T21:17:50.221Z"
   },
   {
    "duration": 1608,
    "start_time": "2023-02-19T21:17:51.055Z"
   },
   {
    "duration": 457,
    "start_time": "2023-02-19T21:17:52.664Z"
   },
   {
    "duration": 3,
    "start_time": "2023-02-19T21:45:00.157Z"
   },
   {
    "duration": 814,
    "start_time": "2023-02-19T21:45:31.213Z"
   },
   {
    "duration": 1394,
    "start_time": "2023-02-19T21:48:09.882Z"
   },
   {
    "duration": 44,
    "start_time": "2023-02-19T21:48:12.384Z"
   },
   {
    "duration": 18,
    "start_time": "2023-02-19T21:48:12.952Z"
   },
   {
    "duration": 16,
    "start_time": "2023-02-19T21:48:13.417Z"
   },
   {
    "duration": 7,
    "start_time": "2023-02-19T21:48:14.633Z"
   },
   {
    "duration": 5,
    "start_time": "2023-02-19T21:48:16.137Z"
   },
   {
    "duration": 4,
    "start_time": "2023-02-19T21:48:16.825Z"
   },
   {
    "duration": 6,
    "start_time": "2023-02-19T21:48:17.425Z"
   },
   {
    "duration": 6,
    "start_time": "2023-02-19T21:48:17.889Z"
   },
   {
    "duration": 8,
    "start_time": "2023-02-19T21:48:18.529Z"
   },
   {
    "duration": 5,
    "start_time": "2023-02-19T21:48:18.977Z"
   },
   {
    "duration": 18,
    "start_time": "2023-02-19T21:48:19.640Z"
   },
   {
    "duration": 6,
    "start_time": "2023-02-19T21:48:20.145Z"
   },
   {
    "duration": 32,
    "start_time": "2023-02-19T21:48:21.089Z"
   },
   {
    "duration": 9269,
    "start_time": "2023-02-19T21:48:21.802Z"
   },
   {
    "duration": 1212,
    "start_time": "2023-02-19T21:48:31.073Z"
   },
   {
    "duration": 18,
    "start_time": "2023-02-19T21:48:32.287Z"
   },
   {
    "duration": 66,
    "start_time": "2023-02-19T21:48:32.321Z"
   },
   {
    "duration": 114,
    "start_time": "2023-02-19T21:48:35.201Z"
   },
   {
    "duration": 184,
    "start_time": "2023-02-19T21:48:36.481Z"
   },
   {
    "duration": 6,
    "start_time": "2023-02-19T21:48:37.280Z"
   },
   {
    "duration": 6,
    "start_time": "2023-02-19T21:48:38.433Z"
   },
   {
    "duration": 6,
    "start_time": "2023-02-19T21:48:39.712Z"
   },
   {
    "duration": 5,
    "start_time": "2023-02-19T21:48:40.736Z"
   },
   {
    "duration": 6,
    "start_time": "2023-02-19T21:48:41.650Z"
   },
   {
    "duration": 2866,
    "start_time": "2023-02-19T21:48:43.833Z"
   },
   {
    "duration": 566,
    "start_time": "2023-02-19T21:48:58.960Z"
   },
   {
    "duration": 47,
    "start_time": "2023-02-19T21:56:31.968Z"
   },
   {
    "duration": 404354,
    "start_time": "2023-02-19T21:56:46.447Z"
   },
   {
    "duration": 3186971,
    "start_time": "2023-02-19T22:03:41.883Z"
   },
   {
    "duration": 6,
    "start_time": "2023-02-19T23:03:42.649Z"
   },
   {
    "duration": 8,
    "start_time": "2023-02-19T23:06:17.160Z"
   },
   {
    "duration": 10,
    "start_time": "2023-02-19T23:06:25.389Z"
   },
   {
    "duration": 8,
    "start_time": "2023-02-19T23:06:35.135Z"
   },
   {
    "duration": 9,
    "start_time": "2023-02-19T23:06:45.725Z"
   },
   {
    "duration": 9,
    "start_time": "2023-02-19T23:08:37.041Z"
   },
   {
    "duration": 2,
    "start_time": "2023-02-19T23:08:42.505Z"
   },
   {
    "duration": 2819,
    "start_time": "2023-02-19T23:08:44.650Z"
   },
   {
    "duration": 3,
    "start_time": "2023-02-19T23:08:48.713Z"
   },
   {
    "duration": 2817,
    "start_time": "2023-02-19T23:12:34.157Z"
   },
   {
    "duration": 3,
    "start_time": "2023-02-19T23:14:19.986Z"
   },
   {
    "duration": 3,
    "start_time": "2023-02-19T23:14:26.081Z"
   },
   {
    "duration": 21,
    "start_time": "2023-02-19T23:14:27.465Z"
   },
   {
    "duration": 3,
    "start_time": "2023-02-19T23:14:33.132Z"
   },
   {
    "duration": 9,
    "start_time": "2023-02-19T23:14:35.482Z"
   },
   {
    "duration": 4335,
    "start_time": "2023-02-19T23:14:38.754Z"
   },
   {
    "duration": 2,
    "start_time": "2023-02-19T23:14:50.505Z"
   },
   {
    "duration": 5824651,
    "start_time": "2023-02-19T23:14:53.354Z"
   },
   {
    "duration": 1500,
    "start_time": "2023-02-20T11:33:18.399Z"
   },
   {
    "duration": 44,
    "start_time": "2023-02-20T11:33:20.092Z"
   },
   {
    "duration": 18,
    "start_time": "2023-02-20T11:33:20.619Z"
   },
   {
    "duration": 14,
    "start_time": "2023-02-20T11:33:21.099Z"
   },
   {
    "duration": 5,
    "start_time": "2023-02-20T11:33:22.210Z"
   },
   {
    "duration": 5,
    "start_time": "2023-02-20T11:33:23.202Z"
   },
   {
    "duration": 4,
    "start_time": "2023-02-20T11:33:23.667Z"
   },
   {
    "duration": 5,
    "start_time": "2023-02-20T11:33:24.124Z"
   },
   {
    "duration": 4,
    "start_time": "2023-02-20T11:33:24.785Z"
   },
   {
    "duration": 7,
    "start_time": "2023-02-20T11:33:25.482Z"
   },
   {
    "duration": 6,
    "start_time": "2023-02-20T11:33:25.914Z"
   },
   {
    "duration": 12,
    "start_time": "2023-02-20T11:33:26.649Z"
   },
   {
    "duration": 4,
    "start_time": "2023-02-20T11:33:27.098Z"
   },
   {
    "duration": 20,
    "start_time": "2023-02-20T11:33:27.775Z"
   },
   {
    "duration": 9934,
    "start_time": "2023-02-20T11:33:28.246Z"
   },
   {
    "duration": 1195,
    "start_time": "2023-02-20T11:33:38.182Z"
   },
   {
    "duration": 18,
    "start_time": "2023-02-20T11:33:39.378Z"
   },
   {
    "duration": 58,
    "start_time": "2023-02-20T11:33:39.398Z"
   },
   {
    "duration": 122,
    "start_time": "2023-02-20T11:33:39.458Z"
   },
   {
    "duration": 167,
    "start_time": "2023-02-20T11:33:39.582Z"
   },
   {
    "duration": 5,
    "start_time": "2023-02-20T11:33:39.751Z"
   },
   {
    "duration": 10,
    "start_time": "2023-02-20T11:33:47.314Z"
   },
   {
    "duration": 5,
    "start_time": "2023-02-20T11:33:49.977Z"
   },
   {
    "duration": 5,
    "start_time": "2023-02-20T11:33:51.906Z"
   },
   {
    "duration": 6,
    "start_time": "2023-02-20T11:33:53.099Z"
   },
   {
    "duration": 2,
    "start_time": "2023-02-20T11:33:54.851Z"
   },
   {
    "duration": 2942,
    "start_time": "2023-02-20T11:33:55.449Z"
   },
   {
    "duration": 3,
    "start_time": "2023-02-20T11:34:01.234Z"
   },
   {
    "duration": 627,
    "start_time": "2023-02-20T11:34:05.874Z"
   },
   {
    "duration": 2857,
    "start_time": "2023-02-20T11:34:23.091Z"
   },
   {
    "duration": 4,
    "start_time": "2023-02-20T11:34:32.014Z"
   },
   {
    "duration": 4,
    "start_time": "2023-02-20T11:35:55.005Z"
   },
   {
    "duration": 25,
    "start_time": "2023-02-20T11:35:56.357Z"
   },
   {
    "duration": 2,
    "start_time": "2023-02-20T11:35:57.067Z"
   },
   {
    "duration": 14,
    "start_time": "2023-02-20T11:36:00.364Z"
   },
   {
    "duration": 4920,
    "start_time": "2023-02-20T11:36:01.901Z"
   },
   {
    "duration": 3,
    "start_time": "2023-02-20T11:36:10.659Z"
   },
   {
    "duration": 179,
    "start_time": "2023-02-20T11:36:12.605Z"
   },
   {
    "duration": 42,
    "start_time": "2023-02-20T11:36:58.917Z"
   },
   {
    "duration": 7424,
    "start_time": "2023-02-20T11:37:04.488Z"
   },
   {
    "duration": 3,
    "start_time": "2023-02-20T11:38:37.661Z"
   },
   {
    "duration": 31,
    "start_time": "2023-02-20T11:38:39.117Z"
   },
   {
    "duration": 3,
    "start_time": "2023-02-20T11:38:39.870Z"
   },
   {
    "duration": 10,
    "start_time": "2023-02-20T11:38:42.261Z"
   },
   {
    "duration": 1360,
    "start_time": "2023-02-20T11:38:43.369Z"
   },
   {
    "duration": 4,
    "start_time": "2023-02-20T11:38:48.501Z"
   },
   {
    "duration": 1681341,
    "start_time": "2023-02-20T11:38:53.798Z"
   },
   {
    "duration": 8,
    "start_time": "2023-02-20T17:46:05.119Z"
   },
   {
    "duration": 32,
    "start_time": "2023-02-20T17:46:08.293Z"
   },
   {
    "duration": 24,
    "start_time": "2023-02-20T17:46:09.277Z"
   },
   {
    "duration": 17,
    "start_time": "2023-02-20T17:46:52.553Z"
   },
   {
    "duration": 3,
    "start_time": "2023-02-20T17:46:53.984Z"
   },
   {
    "duration": 4,
    "start_time": "2023-02-20T17:46:55.399Z"
   },
   {
    "duration": 5,
    "start_time": "2023-02-20T17:47:36.319Z"
   },
   {
    "duration": 250,
    "start_time": "2023-02-20T17:47:41.421Z"
   },
   {
    "duration": 170,
    "start_time": "2023-02-20T17:47:52.720Z"
   },
   {
    "duration": 261,
    "start_time": "2023-02-20T17:48:01.822Z"
   },
   {
    "duration": 9,
    "start_time": "2023-02-20T17:48:05.915Z"
   },
   {
    "duration": 129,
    "start_time": "2023-02-20T17:51:10.495Z"
   },
   {
    "duration": 3934,
    "start_time": "2023-02-20T17:51:25.113Z"
   },
   {
    "duration": 128,
    "start_time": "2023-02-20T17:55:37.448Z"
   },
   {
    "duration": 128,
    "start_time": "2023-02-20T17:56:01.624Z"
   },
   {
    "duration": 4255,
    "start_time": "2023-02-20T17:56:07.596Z"
   },
   {
    "duration": 364,
    "start_time": "2023-02-20T18:04:54.613Z"
   },
   {
    "duration": 3753,
    "start_time": "2023-02-20T18:05:14.318Z"
   },
   {
    "duration": 3161,
    "start_time": "2023-02-20T18:06:12.593Z"
   },
   {
    "duration": 3491,
    "start_time": "2023-02-20T18:06:56.478Z"
   },
   {
    "duration": 9955,
    "start_time": "2023-02-20T18:07:41.170Z"
   },
   {
    "duration": 3090,
    "start_time": "2023-02-20T18:11:40.300Z"
   },
   {
    "duration": 3360,
    "start_time": "2023-02-20T18:11:54.773Z"
   },
   {
    "duration": 3323,
    "start_time": "2023-02-20T18:12:04.016Z"
   },
   {
    "duration": 3004,
    "start_time": "2023-02-20T18:21:21.942Z"
   },
   {
    "duration": 3017,
    "start_time": "2023-02-20T18:24:40.930Z"
   },
   {
    "duration": 3219,
    "start_time": "2023-02-20T18:24:59.157Z"
   },
   {
    "duration": 2956,
    "start_time": "2023-02-20T18:25:18.988Z"
   },
   {
    "duration": 3342,
    "start_time": "2023-02-20T19:11:32.413Z"
   },
   {
    "duration": 3,
    "start_time": "2023-02-20T21:08:50.483Z"
   },
   {
    "duration": 2,
    "start_time": "2023-02-20T21:09:16.961Z"
   },
   {
    "duration": 166,
    "start_time": "2023-02-20T21:10:36.373Z"
   },
   {
    "duration": 1365,
    "start_time": "2023-02-20T21:10:49.505Z"
   },
   {
    "duration": 42,
    "start_time": "2023-02-20T21:10:50.872Z"
   },
   {
    "duration": 19,
    "start_time": "2023-02-20T21:10:51.079Z"
   },
   {
    "duration": 15,
    "start_time": "2023-02-20T21:10:51.676Z"
   },
   {
    "duration": 5,
    "start_time": "2023-02-20T21:10:53.088Z"
   },
   {
    "duration": 4,
    "start_time": "2023-02-20T21:10:56.153Z"
   },
   {
    "duration": 3,
    "start_time": "2023-02-20T21:10:57.022Z"
   },
   {
    "duration": 4,
    "start_time": "2023-02-20T21:10:57.651Z"
   },
   {
    "duration": 4,
    "start_time": "2023-02-20T21:10:58.623Z"
   },
   {
    "duration": 7,
    "start_time": "2023-02-20T21:11:00.768Z"
   },
   {
    "duration": 7,
    "start_time": "2023-02-20T21:11:01.807Z"
   },
   {
    "duration": 12,
    "start_time": "2023-02-20T21:11:03.267Z"
   },
   {
    "duration": 5,
    "start_time": "2023-02-20T21:11:04.026Z"
   },
   {
    "duration": 19,
    "start_time": "2023-02-20T21:11:08.130Z"
   },
   {
    "duration": 9068,
    "start_time": "2023-02-20T21:11:09.440Z"
   },
   {
    "duration": 1069,
    "start_time": "2023-02-20T21:11:18.510Z"
   },
   {
    "duration": 5,
    "start_time": "2023-02-20T21:11:19.581Z"
   },
   {
    "duration": 15,
    "start_time": "2023-02-20T21:11:23.064Z"
   },
   {
    "duration": 40,
    "start_time": "2023-02-20T21:11:26.560Z"
   },
   {
    "duration": 3,
    "start_time": "2023-02-20T21:12:28.649Z"
   },
   {
    "duration": 119,
    "start_time": "2023-02-20T21:15:40.644Z"
   },
   {
    "duration": 140,
    "start_time": "2023-02-20T21:15:54.932Z"
   },
   {
    "duration": 20,
    "start_time": "2023-02-20T21:16:23.260Z"
   },
   {
    "duration": 177,
    "start_time": "2023-02-20T21:16:40.080Z"
   },
   {
    "duration": 277,
    "start_time": "2023-02-20T21:17:35.493Z"
   },
   {
    "duration": 1416,
    "start_time": "2023-02-20T21:17:46.693Z"
   },
   {
    "duration": 694,
    "start_time": "2023-02-20T21:17:56.253Z"
   },
   {
    "duration": 749,
    "start_time": "2023-02-20T21:18:24.474Z"
   },
   {
    "duration": 760,
    "start_time": "2023-02-20T21:20:52.294Z"
   },
   {
    "duration": 762,
    "start_time": "2023-02-20T21:21:08.220Z"
   },
   {
    "duration": 3312,
    "start_time": "2023-02-20T21:28:38.900Z"
   },
   {
    "duration": 1380,
    "start_time": "2023-02-20T21:33:14.358Z"
   },
   {
    "duration": 41,
    "start_time": "2023-02-20T21:33:16.637Z"
   },
   {
    "duration": 19,
    "start_time": "2023-02-20T21:33:16.883Z"
   },
   {
    "duration": 14,
    "start_time": "2023-02-20T21:33:17.107Z"
   },
   {
    "duration": 5,
    "start_time": "2023-02-20T21:33:17.662Z"
   },
   {
    "duration": 5,
    "start_time": "2023-02-20T21:33:18.407Z"
   },
   {
    "duration": 4,
    "start_time": "2023-02-20T21:33:18.815Z"
   },
   {
    "duration": 4,
    "start_time": "2023-02-20T21:33:19.213Z"
   },
   {
    "duration": 5,
    "start_time": "2023-02-20T21:33:19.573Z"
   },
   {
    "duration": 6,
    "start_time": "2023-02-20T21:33:20.176Z"
   },
   {
    "duration": 5,
    "start_time": "2023-02-20T21:33:20.583Z"
   },
   {
    "duration": 13,
    "start_time": "2023-02-20T21:33:21.213Z"
   },
   {
    "duration": 5,
    "start_time": "2023-02-20T21:33:21.655Z"
   },
   {
    "duration": 19,
    "start_time": "2023-02-20T21:33:23.211Z"
   },
   {
    "duration": 9066,
    "start_time": "2023-02-20T21:33:24.553Z"
   },
   {
    "duration": 1103,
    "start_time": "2023-02-20T21:33:33.621Z"
   },
   {
    "duration": 5,
    "start_time": "2023-02-20T21:33:37.952Z"
   },
   {
    "duration": 13,
    "start_time": "2023-02-20T21:33:38.854Z"
   },
   {
    "duration": 39,
    "start_time": "2023-02-20T21:33:40.343Z"
   },
   {
    "duration": 724,
    "start_time": "2023-02-20T21:33:43.038Z"
   },
   {
    "duration": 265,
    "start_time": "2023-02-20T21:34:04.047Z"
   },
   {
    "duration": 3892,
    "start_time": "2023-02-20T21:34:32.086Z"
   },
   {
    "duration": 73,
    "start_time": "2023-02-20T21:38:46.609Z"
   },
   {
    "duration": 799,
    "start_time": "2023-02-20T21:39:50.035Z"
   },
   {
    "duration": 1376,
    "start_time": "2023-02-20T21:42:49.995Z"
   },
   {
    "duration": 41,
    "start_time": "2023-02-20T21:42:52.043Z"
   },
   {
    "duration": 18,
    "start_time": "2023-02-20T21:42:52.290Z"
   },
   {
    "duration": 15,
    "start_time": "2023-02-20T21:42:52.483Z"
   },
   {
    "duration": 5,
    "start_time": "2023-02-20T21:42:53.077Z"
   },
   {
    "duration": 4,
    "start_time": "2023-02-20T21:42:53.811Z"
   },
   {
    "duration": 3,
    "start_time": "2023-02-20T21:42:54.179Z"
   },
   {
    "duration": 6,
    "start_time": "2023-02-20T21:42:54.514Z"
   },
   {
    "duration": 4,
    "start_time": "2023-02-20T21:42:54.891Z"
   },
   {
    "duration": 6,
    "start_time": "2023-02-20T21:42:55.434Z"
   },
   {
    "duration": 5,
    "start_time": "2023-02-20T21:42:55.843Z"
   },
   {
    "duration": 12,
    "start_time": "2023-02-20T21:42:56.403Z"
   },
   {
    "duration": 5,
    "start_time": "2023-02-20T21:42:56.977Z"
   },
   {
    "duration": 19,
    "start_time": "2023-02-20T21:42:57.567Z"
   },
   {
    "duration": 9842,
    "start_time": "2023-02-20T21:42:58.004Z"
   },
   {
    "duration": 1160,
    "start_time": "2023-02-20T21:43:07.848Z"
   },
   {
    "duration": 12,
    "start_time": "2023-02-20T21:43:09.010Z"
   },
   {
    "duration": 15,
    "start_time": "2023-02-20T21:43:09.024Z"
   },
   {
    "duration": 39,
    "start_time": "2023-02-20T21:43:09.041Z"
   },
   {
    "duration": 816,
    "start_time": "2023-02-20T21:43:09.082Z"
   },
   {
    "duration": 3751,
    "start_time": "2023-02-20T21:43:12.339Z"
   },
   {
    "duration": 852,
    "start_time": "2023-02-20T21:43:18.980Z"
   },
   {
    "duration": 799,
    "start_time": "2023-02-20T21:43:56.770Z"
   },
   {
    "duration": 32759,
    "start_time": "2023-02-20T21:44:11.690Z"
   },
   {
    "duration": 237,
    "start_time": "2023-02-20T21:48:09.668Z"
   },
   {
    "duration": 18,
    "start_time": "2023-02-20T21:48:16.364Z"
   },
   {
    "duration": 7,
    "start_time": "2023-02-20T21:59:03.391Z"
   },
   {
    "duration": 15,
    "start_time": "2023-02-20T21:59:34.114Z"
   },
   {
    "duration": 1490,
    "start_time": "2023-02-20T22:01:36.257Z"
   },
   {
    "duration": 45,
    "start_time": "2023-02-20T22:01:39.871Z"
   },
   {
    "duration": 19,
    "start_time": "2023-02-20T22:01:41.346Z"
   },
   {
    "duration": 100,
    "start_time": "2023-02-20T22:07:26.072Z"
   },
   {
    "duration": 1566,
    "start_time": "2023-02-20T22:07:40.597Z"
   },
   {
    "duration": 44,
    "start_time": "2023-02-20T22:07:43.142Z"
   },
   {
    "duration": 20,
    "start_time": "2023-02-20T22:07:43.579Z"
   },
   {
    "duration": 15,
    "start_time": "2023-02-20T22:07:44.018Z"
   },
   {
    "duration": 5,
    "start_time": "2023-02-20T22:07:45.322Z"
   },
   {
    "duration": 5,
    "start_time": "2023-02-20T22:07:46.555Z"
   },
   {
    "duration": 4,
    "start_time": "2023-02-20T22:07:47.265Z"
   },
   {
    "duration": 4,
    "start_time": "2023-02-20T22:07:48.140Z"
   },
   {
    "duration": 4,
    "start_time": "2023-02-20T22:07:48.666Z"
   },
   {
    "duration": 6,
    "start_time": "2023-02-20T22:07:49.491Z"
   },
   {
    "duration": 6,
    "start_time": "2023-02-20T22:07:49.987Z"
   },
   {
    "duration": 13,
    "start_time": "2023-02-20T22:07:50.746Z"
   },
   {
    "duration": 5,
    "start_time": "2023-02-20T22:07:51.307Z"
   },
   {
    "duration": 20,
    "start_time": "2023-02-20T22:07:53.683Z"
   },
   {
    "duration": 1082,
    "start_time": "2023-02-20T22:07:57.674Z"
   },
   {
    "duration": 80,
    "start_time": "2023-02-20T22:08:00.441Z"
   },
   {
    "duration": 15,
    "start_time": "2023-02-20T22:08:51.482Z"
   },
   {
    "duration": 16,
    "start_time": "2023-02-20T22:09:03.341Z"
   },
   {
    "duration": 15,
    "start_time": "2023-02-20T22:09:12.958Z"
   },
   {
    "duration": 74,
    "start_time": "2023-02-20T22:12:04.933Z"
   },
   {
    "duration": 1395,
    "start_time": "2023-02-20T22:27:33.241Z"
   },
   {
    "duration": 45,
    "start_time": "2023-02-20T22:27:35.710Z"
   },
   {
    "duration": 21,
    "start_time": "2023-02-20T22:27:36.057Z"
   },
   {
    "duration": 14,
    "start_time": "2023-02-20T22:27:36.392Z"
   },
   {
    "duration": 4,
    "start_time": "2023-02-20T22:27:37.322Z"
   },
   {
    "duration": 4,
    "start_time": "2023-02-20T22:27:38.298Z"
   },
   {
    "duration": 3,
    "start_time": "2023-02-20T22:27:38.771Z"
   },
   {
    "duration": 4,
    "start_time": "2023-02-20T22:27:39.238Z"
   },
   {
    "duration": 5,
    "start_time": "2023-02-20T22:27:39.719Z"
   },
   {
    "duration": 6,
    "start_time": "2023-02-20T22:27:40.463Z"
   },
   {
    "duration": 5,
    "start_time": "2023-02-20T22:27:40.978Z"
   },
   {
    "duration": 12,
    "start_time": "2023-02-20T22:27:41.710Z"
   },
   {
    "duration": 5,
    "start_time": "2023-02-20T22:27:42.354Z"
   },
   {
    "duration": 19,
    "start_time": "2023-02-20T22:27:43.687Z"
   },
   {
    "duration": 1014,
    "start_time": "2023-02-20T22:27:50.432Z"
   },
   {
    "duration": 17,
    "start_time": "2023-02-20T22:27:55.334Z"
   },
   {
    "duration": 4,
    "start_time": "2023-02-20T22:27:59.991Z"
   },
   {
    "duration": 13,
    "start_time": "2023-02-20T22:28:01.439Z"
   },
   {
    "duration": 40,
    "start_time": "2023-02-20T22:28:04.139Z"
   },
   {
    "duration": 709,
    "start_time": "2023-02-20T22:28:07.145Z"
   },
   {
    "duration": 3469,
    "start_time": "2023-02-20T22:28:09.486Z"
   },
   {
    "duration": 22340,
    "start_time": "2023-02-20T22:28:13.982Z"
   },
   {
    "duration": 205,
    "start_time": "2023-02-20T22:43:34.112Z"
   },
   {
    "duration": 82,
    "start_time": "2023-02-20T22:44:12.674Z"
   },
   {
    "duration": 803,
    "start_time": "2023-02-20T22:44:22.760Z"
   },
   {
    "duration": 2201,
    "start_time": "2023-02-20T22:44:47.131Z"
   },
   {
    "duration": 42,
    "start_time": "2023-02-20T22:45:01.049Z"
   },
   {
    "duration": 4883,
    "start_time": "2023-02-20T22:45:06.896Z"
   },
   {
    "duration": 7746,
    "start_time": "2023-02-20T22:45:26.921Z"
   },
   {
    "duration": 38604,
    "start_time": "2023-02-20T22:45:49.145Z"
   },
   {
    "duration": 378096,
    "start_time": "2023-02-20T22:46:28.954Z"
   },
   {
    "duration": 10,
    "start_time": "2023-02-20T22:52:47.052Z"
   },
   {
    "duration": 1259,
    "start_time": "2023-02-20T22:54:45.086Z"
   },
   {
    "duration": 3511,
    "start_time": "2023-02-20T22:54:57.262Z"
   },
   {
    "duration": 23241,
    "start_time": "2023-02-20T22:55:00.775Z"
   },
   {
    "duration": 1718,
    "start_time": "2023-02-20T22:57:50.328Z"
   },
   {
    "duration": 4537,
    "start_time": "2023-02-20T22:59:12.289Z"
   },
   {
    "duration": 6492,
    "start_time": "2023-02-20T23:00:09.749Z"
   },
   {
    "duration": 1349,
    "start_time": "2023-02-20T23:01:15.834Z"
   },
   {
    "duration": 40,
    "start_time": "2023-02-20T23:01:17.185Z"
   },
   {
    "duration": 18,
    "start_time": "2023-02-20T23:01:17.227Z"
   },
   {
    "duration": 14,
    "start_time": "2023-02-20T23:01:17.259Z"
   },
   {
    "duration": 5,
    "start_time": "2023-02-20T23:01:18.275Z"
   },
   {
    "duration": 5,
    "start_time": "2023-02-20T23:01:19.085Z"
   },
   {
    "duration": 3,
    "start_time": "2023-02-20T23:01:19.410Z"
   },
   {
    "duration": 3,
    "start_time": "2023-02-20T23:01:19.778Z"
   },
   {
    "duration": 5,
    "start_time": "2023-02-20T23:01:20.129Z"
   },
   {
    "duration": 6,
    "start_time": "2023-02-20T23:01:20.674Z"
   },
   {
    "duration": 5,
    "start_time": "2023-02-20T23:01:21.066Z"
   },
   {
    "duration": 13,
    "start_time": "2023-02-20T23:01:21.626Z"
   },
   {
    "duration": 5,
    "start_time": "2023-02-20T23:01:22.027Z"
   },
   {
    "duration": 20,
    "start_time": "2023-02-20T23:01:23.787Z"
   },
   {
    "duration": 1048,
    "start_time": "2023-02-20T23:01:27.460Z"
   },
   {
    "duration": 16,
    "start_time": "2023-02-20T23:01:29.652Z"
   },
   {
    "duration": 4,
    "start_time": "2023-02-20T23:01:31.155Z"
   },
   {
    "duration": 16,
    "start_time": "2023-02-20T23:01:31.792Z"
   },
   {
    "duration": 39,
    "start_time": "2023-02-20T23:01:32.570Z"
   },
   {
    "duration": 746,
    "start_time": "2023-02-20T23:01:33.195Z"
   },
   {
    "duration": 6539,
    "start_time": "2023-02-20T23:01:35.866Z"
   },
   {
    "duration": 114,
    "start_time": "2023-02-20T23:01:42.407Z"
   },
   {
    "duration": 6216,
    "start_time": "2023-02-20T23:02:46.947Z"
   },
   {
    "duration": 20,
    "start_time": "2023-02-20T23:03:23.755Z"
   },
   {
    "duration": 97,
    "start_time": "2023-02-20T23:03:29.339Z"
   },
   {
    "duration": 100,
    "start_time": "2023-02-20T23:03:34.561Z"
   },
   {
    "duration": 1444,
    "start_time": "2023-02-20T23:04:22.504Z"
   },
   {
    "duration": 43,
    "start_time": "2023-02-20T23:04:23.950Z"
   },
   {
    "duration": 19,
    "start_time": "2023-02-20T23:04:23.995Z"
   },
   {
    "duration": 15,
    "start_time": "2023-02-20T23:04:24.083Z"
   },
   {
    "duration": 4,
    "start_time": "2023-02-20T23:04:24.757Z"
   },
   {
    "duration": 5,
    "start_time": "2023-02-20T23:04:25.470Z"
   },
   {
    "duration": 3,
    "start_time": "2023-02-20T23:04:25.836Z"
   },
   {
    "duration": 3,
    "start_time": "2023-02-20T23:04:26.220Z"
   },
   {
    "duration": 4,
    "start_time": "2023-02-20T23:04:26.612Z"
   },
   {
    "duration": 6,
    "start_time": "2023-02-20T23:04:27.204Z"
   },
   {
    "duration": 6,
    "start_time": "2023-02-20T23:04:28.094Z"
   },
   {
    "duration": 13,
    "start_time": "2023-02-20T23:04:28.395Z"
   },
   {
    "duration": 5,
    "start_time": "2023-02-20T23:04:29.395Z"
   },
   {
    "duration": 28,
    "start_time": "2023-02-20T23:04:31.143Z"
   },
   {
    "duration": 16,
    "start_time": "2023-02-20T23:04:35.834Z"
   },
   {
    "duration": 4,
    "start_time": "2023-02-20T23:04:37.804Z"
   },
   {
    "duration": 13,
    "start_time": "2023-02-20T23:04:38.183Z"
   },
   {
    "duration": 37,
    "start_time": "2023-02-20T23:04:38.740Z"
   },
   {
    "duration": 739,
    "start_time": "2023-02-20T23:04:39.299Z"
   },
   {
    "duration": 6410,
    "start_time": "2023-02-20T23:04:41.029Z"
   },
   {
    "duration": 188,
    "start_time": "2023-02-20T23:06:02.351Z"
   },
   {
    "duration": 7,
    "start_time": "2023-02-20T23:06:05.055Z"
   },
   {
    "duration": 6,
    "start_time": "2023-02-20T23:06:10.645Z"
   },
   {
    "duration": 103,
    "start_time": "2023-02-20T23:06:11.840Z"
   },
   {
    "duration": 23,
    "start_time": "2023-02-20T23:06:38.844Z"
   },
   {
    "duration": 5,
    "start_time": "2023-02-20T23:06:42.940Z"
   },
   {
    "duration": 5,
    "start_time": "2023-02-20T23:07:18.927Z"
   },
   {
    "duration": 4,
    "start_time": "2023-02-20T23:07:54.878Z"
   },
   {
    "duration": 6,
    "start_time": "2023-02-20T23:07:57.765Z"
   },
   {
    "duration": 1452,
    "start_time": "2023-02-20T23:10:31.407Z"
   },
   {
    "duration": 43,
    "start_time": "2023-02-20T23:10:32.860Z"
   },
   {
    "duration": 18,
    "start_time": "2023-02-20T23:10:32.904Z"
   },
   {
    "duration": 14,
    "start_time": "2023-02-20T23:10:32.924Z"
   },
   {
    "duration": 5,
    "start_time": "2023-02-20T23:10:33.182Z"
   },
   {
    "duration": 4,
    "start_time": "2023-02-20T23:10:34.007Z"
   },
   {
    "duration": 5,
    "start_time": "2023-02-20T23:10:34.426Z"
   },
   {
    "duration": 4,
    "start_time": "2023-02-20T23:10:34.747Z"
   },
   {
    "duration": 5,
    "start_time": "2023-02-20T23:10:35.098Z"
   },
   {
    "duration": 6,
    "start_time": "2023-02-20T23:10:35.655Z"
   },
   {
    "duration": 5,
    "start_time": "2023-02-20T23:10:36.032Z"
   },
   {
    "duration": 13,
    "start_time": "2023-02-20T23:10:36.599Z"
   },
   {
    "duration": 5,
    "start_time": "2023-02-20T23:10:36.975Z"
   },
   {
    "duration": 20,
    "start_time": "2023-02-20T23:10:38.337Z"
   },
   {
    "duration": 15,
    "start_time": "2023-02-20T23:10:42.295Z"
   },
   {
    "duration": 5,
    "start_time": "2023-02-20T23:10:43.720Z"
   },
   {
    "duration": 12,
    "start_time": "2023-02-20T23:10:44.063Z"
   },
   {
    "duration": 38,
    "start_time": "2023-02-20T23:10:44.622Z"
   },
   {
    "duration": 751,
    "start_time": "2023-02-20T23:10:45.183Z"
   },
   {
    "duration": 6399,
    "start_time": "2023-02-20T23:10:45.936Z"
   },
   {
    "duration": 87,
    "start_time": "2023-02-20T23:10:52.337Z"
   },
   {
    "duration": 271,
    "start_time": "2023-02-20T23:10:52.426Z"
   },
   {
    "duration": 22,
    "start_time": "2023-02-20T23:10:52.699Z"
   },
   {
    "duration": 8,
    "start_time": "2023-02-20T23:10:52.723Z"
   },
   {
    "duration": 10,
    "start_time": "2023-02-20T23:10:57.262Z"
   },
   {
    "duration": 9,
    "start_time": "2023-02-20T23:12:25.496Z"
   },
   {
    "duration": 11,
    "start_time": "2023-02-20T23:12:27.579Z"
   },
   {
    "duration": 10,
    "start_time": "2023-02-20T23:12:28.861Z"
   },
   {
    "duration": 3,
    "start_time": "2023-02-20T23:13:27.929Z"
   },
   {
    "duration": 10,
    "start_time": "2023-02-20T23:16:31.346Z"
   },
   {
    "duration": 68,
    "start_time": "2023-02-20T23:38:21.032Z"
   },
   {
    "duration": 11,
    "start_time": "2023-02-20T23:41:39.986Z"
   },
   {
    "duration": 10,
    "start_time": "2023-02-20T23:41:42.002Z"
   },
   {
    "duration": 125,
    "start_time": "2023-02-20T23:41:44.915Z"
   },
   {
    "duration": 23,
    "start_time": "2023-02-20T23:41:50.482Z"
   },
   {
    "duration": 1543,
    "start_time": "2023-02-20T23:41:59.698Z"
   },
   {
    "duration": 44,
    "start_time": "2023-02-20T23:42:01.243Z"
   },
   {
    "duration": 20,
    "start_time": "2023-02-20T23:42:01.289Z"
   },
   {
    "duration": 44,
    "start_time": "2023-02-20T23:42:01.311Z"
   },
   {
    "duration": 5,
    "start_time": "2023-02-20T23:42:01.594Z"
   },
   {
    "duration": 5,
    "start_time": "2023-02-20T23:42:02.290Z"
   },
   {
    "duration": 4,
    "start_time": "2023-02-20T23:42:02.641Z"
   },
   {
    "duration": 4,
    "start_time": "2023-02-20T23:42:02.990Z"
   },
   {
    "duration": 5,
    "start_time": "2023-02-20T23:42:03.356Z"
   },
   {
    "duration": 6,
    "start_time": "2023-02-20T23:42:03.901Z"
   },
   {
    "duration": 5,
    "start_time": "2023-02-20T23:42:04.268Z"
   },
   {
    "duration": 13,
    "start_time": "2023-02-20T23:42:04.803Z"
   },
   {
    "duration": 5,
    "start_time": "2023-02-20T23:42:05.178Z"
   },
   {
    "duration": 23,
    "start_time": "2023-02-20T23:42:05.762Z"
   },
   {
    "duration": 17,
    "start_time": "2023-02-20T23:42:09.211Z"
   },
   {
    "duration": 4,
    "start_time": "2023-02-20T23:42:10.347Z"
   },
   {
    "duration": 15,
    "start_time": "2023-02-20T23:42:10.706Z"
   },
   {
    "duration": 41,
    "start_time": "2023-02-20T23:42:11.258Z"
   },
   {
    "duration": 827,
    "start_time": "2023-02-20T23:42:11.818Z"
   },
   {
    "duration": 7147,
    "start_time": "2023-02-20T23:42:12.646Z"
   },
   {
    "duration": 36,
    "start_time": "2023-02-20T23:42:19.795Z"
   },
   {
    "duration": 297,
    "start_time": "2023-02-20T23:42:19.924Z"
   },
   {
    "duration": 12,
    "start_time": "2023-02-20T23:42:20.224Z"
   },
   {
    "duration": 23,
    "start_time": "2023-02-20T23:42:20.237Z"
   },
   {
    "duration": 13,
    "start_time": "2023-02-20T23:42:20.262Z"
   },
   {
    "duration": 118,
    "start_time": "2023-02-20T23:46:03.365Z"
   },
   {
    "duration": 1489,
    "start_time": "2023-02-20T23:46:13.743Z"
   },
   {
    "duration": 44,
    "start_time": "2023-02-20T23:46:15.235Z"
   },
   {
    "duration": 20,
    "start_time": "2023-02-20T23:46:15.281Z"
   },
   {
    "duration": 15,
    "start_time": "2023-02-20T23:46:15.303Z"
   },
   {
    "duration": 5,
    "start_time": "2023-02-20T23:46:15.540Z"
   },
   {
    "duration": 4,
    "start_time": "2023-02-20T23:46:16.406Z"
   },
   {
    "duration": 4,
    "start_time": "2023-02-20T23:46:16.841Z"
   },
   {
    "duration": 4,
    "start_time": "2023-02-20T23:46:17.261Z"
   },
   {
    "duration": 5,
    "start_time": "2023-02-20T23:46:17.781Z"
   },
   {
    "duration": 7,
    "start_time": "2023-02-20T23:46:19.020Z"
   },
   {
    "duration": 7,
    "start_time": "2023-02-20T23:46:19.495Z"
   },
   {
    "duration": 14,
    "start_time": "2023-02-20T23:46:20.196Z"
   },
   {
    "duration": 5,
    "start_time": "2023-02-20T23:46:20.654Z"
   },
   {
    "duration": 21,
    "start_time": "2023-02-20T23:46:21.919Z"
   },
   {
    "duration": 16,
    "start_time": "2023-02-20T23:46:26.845Z"
   },
   {
    "duration": 5,
    "start_time": "2023-02-20T23:46:28.464Z"
   },
   {
    "duration": 14,
    "start_time": "2023-02-20T23:46:28.821Z"
   },
   {
    "duration": 40,
    "start_time": "2023-02-20T23:46:29.524Z"
   },
   {
    "duration": 824,
    "start_time": "2023-02-20T23:46:30.249Z"
   },
   {
    "duration": 7330,
    "start_time": "2023-02-20T23:46:31.075Z"
   },
   {
    "duration": 26,
    "start_time": "2023-02-20T23:46:38.407Z"
   },
   {
    "duration": 200,
    "start_time": "2023-02-20T23:46:46.621Z"
   },
   {
    "duration": 10,
    "start_time": "2023-02-20T23:46:47.653Z"
   },
   {
    "duration": 12,
    "start_time": "2023-02-20T23:46:48.317Z"
   },
   {
    "duration": 10,
    "start_time": "2023-02-20T23:46:49.037Z"
   },
   {
    "duration": 3,
    "start_time": "2023-02-20T23:46:51.242Z"
   },
   {
    "duration": 3446,
    "start_time": "2023-02-20T23:46:51.982Z"
   },
   {
    "duration": 75,
    "start_time": "2023-02-20T23:46:55.485Z"
   },
   {
    "duration": 619,
    "start_time": "2023-02-20T23:46:59.709Z"
   },
   {
    "duration": 2976,
    "start_time": "2023-02-20T23:47:02.426Z"
   },
   {
    "duration": 3,
    "start_time": "2023-02-20T23:47:51.285Z"
   },
   {
    "duration": 24,
    "start_time": "2023-02-20T23:47:52.549Z"
   },
   {
    "duration": 3,
    "start_time": "2023-02-20T23:47:52.941Z"
   },
   {
    "duration": 12,
    "start_time": "2023-02-20T23:47:54.215Z"
   },
   {
    "duration": 4640,
    "start_time": "2023-02-20T23:47:55.098Z"
   },
   {
    "duration": 2,
    "start_time": "2023-02-20T23:47:59.740Z"
   },
   {
    "duration": 9523,
    "start_time": "2023-02-20T23:48:01.511Z"
   },
   {
    "duration": 3,
    "start_time": "2023-02-20T23:48:11.036Z"
   },
   {
    "duration": 45,
    "start_time": "2023-02-20T23:48:14.975Z"
   },
   {
    "duration": 3,
    "start_time": "2023-02-20T23:48:15.362Z"
   },
   {
    "duration": 10,
    "start_time": "2023-02-20T23:48:16.468Z"
   },
   {
    "duration": 1262,
    "start_time": "2023-02-20T23:48:18.486Z"
   },
   {
    "duration": 3,
    "start_time": "2023-02-20T23:48:22.187Z"
   },
   {
    "duration": 1703536,
    "start_time": "2023-02-20T23:48:23.815Z"
   },
   {
    "duration": 3,
    "start_time": "2023-02-21T00:18:52.156Z"
   },
   {
    "duration": 14,
    "start_time": "2023-02-21T00:18:54.714Z"
   },
   {
    "duration": 4,
    "start_time": "2023-02-21T00:18:57.968Z"
   },
   {
    "duration": 4,
    "start_time": "2023-02-21T00:19:01.704Z"
   },
   {
    "duration": 211,
    "start_time": "2023-02-21T00:25:48.294Z"
   },
   {
    "duration": 166,
    "start_time": "2023-02-21T00:25:59.353Z"
   },
   {
    "duration": 104,
    "start_time": "2023-02-21T00:31:37.808Z"
   },
   {
    "duration": 6,
    "start_time": "2023-02-21T00:31:57.282Z"
   },
   {
    "duration": 117,
    "start_time": "2023-02-21T00:32:02.335Z"
   },
   {
    "duration": 145,
    "start_time": "2023-02-21T00:32:21.604Z"
   },
   {
    "duration": 155,
    "start_time": "2023-02-21T00:32:38.375Z"
   },
   {
    "duration": 1287,
    "start_time": "2023-02-21T00:48:19.577Z"
   },
   {
    "duration": 42,
    "start_time": "2023-02-21T00:48:26.569Z"
   },
   {
    "duration": 16,
    "start_time": "2023-02-21T00:48:28.178Z"
   },
   {
    "duration": 13,
    "start_time": "2023-02-21T00:48:58.762Z"
   },
   {
    "duration": 5,
    "start_time": "2023-02-21T00:49:02.314Z"
   },
   {
    "duration": 4,
    "start_time": "2023-02-21T00:49:12.313Z"
   },
   {
    "duration": 3,
    "start_time": "2023-02-21T00:49:49.994Z"
   },
   {
    "duration": 4,
    "start_time": "2023-02-21T00:49:53.315Z"
   },
   {
    "duration": 4,
    "start_time": "2023-02-21T00:49:57.786Z"
   },
   {
    "duration": 6,
    "start_time": "2023-02-21T00:50:16.051Z"
   },
   {
    "duration": 6,
    "start_time": "2023-02-21T00:50:43.171Z"
   },
   {
    "duration": 89,
    "start_time": "2023-02-21T00:51:44.412Z"
   },
   {
    "duration": 12,
    "start_time": "2023-02-21T00:51:53.299Z"
   },
   {
    "duration": 4,
    "start_time": "2023-02-21T00:51:58.829Z"
   },
   {
    "duration": 20,
    "start_time": "2023-02-21T00:52:25.097Z"
   },
   {
    "duration": 9400,
    "start_time": "2023-02-21T00:52:31.531Z"
   },
   {
    "duration": 1072,
    "start_time": "2023-02-21T00:52:40.933Z"
   },
   {
    "duration": 15,
    "start_time": "2023-02-21T00:57:39.844Z"
   },
   {
    "duration": 3,
    "start_time": "2023-02-21T00:57:45.335Z"
   },
   {
    "duration": 13,
    "start_time": "2023-02-21T00:57:47.103Z"
   },
   {
    "duration": 39,
    "start_time": "2023-02-21T00:57:52.447Z"
   },
   {
    "duration": 716,
    "start_time": "2023-02-21T00:58:15.187Z"
   },
   {
    "duration": 6408,
    "start_time": "2023-02-21T00:58:19.741Z"
   },
   {
    "duration": 19,
    "start_time": "2023-02-21T00:58:30.975Z"
   },
   {
    "duration": 100,
    "start_time": "2023-02-21T01:00:18.449Z"
   },
   {
    "duration": 10,
    "start_time": "2023-02-21T01:00:23.983Z"
   },
   {
    "duration": 9,
    "start_time": "2023-02-21T01:00:26.314Z"
   },
   {
    "duration": 10,
    "start_time": "2023-02-21T01:00:28.462Z"
   },
   {
    "duration": 2,
    "start_time": "2023-02-21T01:00:36.326Z"
   },
   {
    "duration": 3086,
    "start_time": "2023-02-21T01:00:39.400Z"
   },
   {
    "duration": 3,
    "start_time": "2023-02-21T01:01:02.888Z"
   },
   {
    "duration": 522,
    "start_time": "2023-02-21T01:01:25.992Z"
   },
   {
    "duration": 2437,
    "start_time": "2023-02-21T01:01:35.492Z"
   },
   {
    "duration": 2,
    "start_time": "2023-02-21T01:02:23.451Z"
   },
   {
    "duration": 22,
    "start_time": "2023-02-21T01:02:24.850Z"
   },
   {
    "duration": 3,
    "start_time": "2023-02-21T01:02:25.489Z"
   },
   {
    "duration": 481,
    "start_time": "2023-02-21T01:08:34.804Z"
   },
   {
    "duration": 544,
    "start_time": "2023-02-21T01:08:41.489Z"
   },
   {
    "duration": 496,
    "start_time": "2023-02-21T01:08:48.503Z"
   },
   {
    "duration": 1410,
    "start_time": "2023-02-21T01:10:59.216Z"
   },
   {
    "duration": 41,
    "start_time": "2023-02-21T01:11:00.628Z"
   },
   {
    "duration": 17,
    "start_time": "2023-02-21T01:11:00.671Z"
   },
   {
    "duration": 18,
    "start_time": "2023-02-21T01:11:00.690Z"
   },
   {
    "duration": 18,
    "start_time": "2023-02-21T01:11:00.710Z"
   },
   {
    "duration": 33,
    "start_time": "2023-02-21T01:11:00.729Z"
   },
   {
    "duration": 28,
    "start_time": "2023-02-21T01:11:00.763Z"
   },
   {
    "duration": 21,
    "start_time": "2023-02-21T01:11:00.793Z"
   },
   {
    "duration": 25,
    "start_time": "2023-02-21T01:11:00.815Z"
   },
   {
    "duration": 26,
    "start_time": "2023-02-21T01:11:00.843Z"
   },
   {
    "duration": 38,
    "start_time": "2023-02-21T01:11:00.870Z"
   },
   {
    "duration": 29,
    "start_time": "2023-02-21T01:11:00.909Z"
   },
   {
    "duration": 20,
    "start_time": "2023-02-21T01:11:00.940Z"
   },
   {
    "duration": 38,
    "start_time": "2023-02-21T01:11:00.962Z"
   },
   {
    "duration": 9214,
    "start_time": "2023-02-21T01:11:01.002Z"
   },
   {
    "duration": 1052,
    "start_time": "2023-02-21T01:11:10.221Z"
   },
   {
    "duration": 15,
    "start_time": "2023-02-21T01:11:11.274Z"
   },
   {
    "duration": 4,
    "start_time": "2023-02-21T01:11:11.291Z"
   },
   {
    "duration": 28,
    "start_time": "2023-02-21T01:11:11.297Z"
   },
   {
    "duration": 37,
    "start_time": "2023-02-21T01:11:11.326Z"
   },
   {
    "duration": 741,
    "start_time": "2023-02-21T01:11:11.364Z"
   },
   {
    "duration": 6418,
    "start_time": "2023-02-21T01:11:12.107Z"
   },
   {
    "duration": 95,
    "start_time": "2023-02-21T01:11:18.527Z"
   },
   {
    "duration": 198,
    "start_time": "2023-02-21T01:11:18.624Z"
   },
   {
    "duration": 10,
    "start_time": "2023-02-21T01:11:18.824Z"
   },
   {
    "duration": 23,
    "start_time": "2023-02-21T01:11:18.835Z"
   },
   {
    "duration": 9,
    "start_time": "2023-02-21T01:11:18.860Z"
   },
   {
    "duration": 3,
    "start_time": "2023-02-21T01:11:18.872Z"
   },
   {
    "duration": 3102,
    "start_time": "2023-02-21T01:11:18.876Z"
   },
   {
    "duration": 3,
    "start_time": "2023-02-21T01:11:21.980Z"
   },
   {
    "duration": 516,
    "start_time": "2023-02-21T01:11:21.985Z"
   },
   {
    "duration": 2599,
    "start_time": "2023-02-21T01:11:22.503Z"
   },
   {
    "duration": 3,
    "start_time": "2023-02-21T01:11:25.103Z"
   },
   {
    "duration": 29,
    "start_time": "2023-02-21T01:11:25.107Z"
   },
   {
    "duration": 83,
    "start_time": "2023-02-21T01:11:25.138Z"
   },
   {
    "duration": 111,
    "start_time": "2023-02-21T01:11:25.223Z"
   },
   {
    "duration": 4259,
    "start_time": "2023-02-21T01:11:25.335Z"
   },
   {
    "duration": 2,
    "start_time": "2023-02-21T01:11:29.596Z"
   },
   {
    "duration": 8401,
    "start_time": "2023-02-21T01:11:29.599Z"
   },
   {
    "duration": 3,
    "start_time": "2023-02-21T01:11:38.001Z"
   },
   {
    "duration": 114,
    "start_time": "2023-02-21T01:11:38.006Z"
   },
   {
    "duration": 4,
    "start_time": "2023-02-21T01:11:38.123Z"
   },
   {
    "duration": 103,
    "start_time": "2023-02-21T01:11:38.129Z"
   },
   {
    "duration": 1141,
    "start_time": "2023-02-21T01:11:38.234Z"
   },
   {
    "duration": 2,
    "start_time": "2023-02-21T01:11:39.377Z"
   },
   {
    "duration": 552,
    "start_time": "2023-02-21T01:11:39.381Z"
   },
   {
    "duration": 3,
    "start_time": "2023-02-21T01:11:39.936Z"
   },
   {
    "duration": 15,
    "start_time": "2023-02-21T01:11:39.940Z"
   },
   {
    "duration": 169,
    "start_time": "2023-02-21T01:11:39.956Z"
   },
   {
    "duration": 22,
    "start_time": "2023-02-21T01:11:40.126Z"
   },
   {
    "duration": 200,
    "start_time": "2023-02-21T01:11:40.150Z"
   },
   {
    "duration": 153,
    "start_time": "2023-02-21T01:11:40.352Z"
   },
   {
    "duration": 146,
    "start_time": "2023-02-21T01:11:40.507Z"
   },
   {
    "duration": 6,
    "start_time": "2023-02-21T01:11:40.654Z"
   },
   {
    "duration": 52,
    "start_time": "2023-02-22T10:29:00.476Z"
   },
   {
    "duration": 1604,
    "start_time": "2023-02-22T10:29:14.014Z"
   },
   {
    "duration": 493,
    "start_time": "2023-02-22T10:29:16.933Z"
   },
   {
    "duration": 19,
    "start_time": "2023-02-22T10:29:17.571Z"
   },
   {
    "duration": 15,
    "start_time": "2023-02-22T10:29:18.227Z"
   },
   {
    "duration": 5,
    "start_time": "2023-02-22T10:29:20.152Z"
   },
   {
    "duration": 51,
    "start_time": "2023-02-22T10:29:21.750Z"
   },
   {
    "duration": 4,
    "start_time": "2023-02-22T10:36:50.807Z"
   },
   {
    "duration": 5,
    "start_time": "2023-02-22T10:37:12.730Z"
   },
   {
    "duration": 4,
    "start_time": "2023-02-22T10:40:04.915Z"
   },
   {
    "duration": 5,
    "start_time": "2023-02-22T10:40:05.788Z"
   },
   {
    "duration": 7,
    "start_time": "2023-02-22T10:40:11.976Z"
   },
   {
    "duration": 6,
    "start_time": "2023-02-22T10:40:13.931Z"
   },
   {
    "duration": 13,
    "start_time": "2023-02-22T10:40:18.835Z"
   },
   {
    "duration": 5,
    "start_time": "2023-02-22T10:40:19.956Z"
   },
   {
    "duration": 144,
    "start_time": "2023-02-22T11:15:32.121Z"
   },
   {
    "duration": 14,
    "start_time": "2023-02-22T11:16:22.330Z"
   },
   {
    "duration": 4,
    "start_time": "2023-02-22T11:16:35.228Z"
   },
   {
    "duration": 10,
    "start_time": "2023-02-22T11:16:40.170Z"
   },
   {
    "duration": 11,
    "start_time": "2023-02-22T11:17:04.090Z"
   },
   {
    "duration": 1311,
    "start_time": "2023-02-22T11:17:18.552Z"
   },
   {
    "duration": 45,
    "start_time": "2023-02-22T11:17:20.095Z"
   },
   {
    "duration": 319,
    "start_time": "2023-02-22T11:17:41.325Z"
   },
   {
    "duration": 1554,
    "start_time": "2023-02-22T11:17:55.863Z"
   },
   {
    "duration": 44,
    "start_time": "2023-02-22T11:17:58.951Z"
   },
   {
    "duration": 21,
    "start_time": "2023-02-22T11:17:59.305Z"
   },
   {
    "duration": 17,
    "start_time": "2023-02-22T11:17:59.754Z"
   },
   {
    "duration": 5,
    "start_time": "2023-02-22T11:18:01.796Z"
   },
   {
    "duration": 54,
    "start_time": "2023-02-22T11:18:03.431Z"
   },
   {
    "duration": 6,
    "start_time": "2023-02-22T11:18:05.122Z"
   },
   {
    "duration": 5,
    "start_time": "2023-02-22T11:18:06.764Z"
   },
   {
    "duration": 5,
    "start_time": "2023-02-22T11:18:09.592Z"
   },
   {
    "duration": 7,
    "start_time": "2023-02-22T11:18:11.488Z"
   },
   {
    "duration": 7,
    "start_time": "2023-02-22T11:18:13.045Z"
   },
   {
    "duration": 6,
    "start_time": "2023-02-22T11:18:14.047Z"
   },
   {
    "duration": 15,
    "start_time": "2023-02-22T11:18:20.123Z"
   },
   {
    "duration": 5,
    "start_time": "2023-02-22T11:18:21.175Z"
   },
   {
    "duration": 21,
    "start_time": "2023-02-22T11:18:25.566Z"
   },
   {
    "duration": 5,
    "start_time": "2023-02-22T11:18:31.584Z"
   },
   {
    "duration": 9919,
    "start_time": "2023-02-22T11:18:35.912Z"
   },
   {
    "duration": 1229,
    "start_time": "2023-02-22T19:59:32.473Z"
   },
   {
    "duration": 42,
    "start_time": "2023-02-22T19:59:37.682Z"
   },
   {
    "duration": 18,
    "start_time": "2023-02-22T19:59:38.115Z"
   },
   {
    "duration": 13,
    "start_time": "2023-02-22T19:59:38.480Z"
   },
   {
    "duration": 4,
    "start_time": "2023-02-22T19:59:39.866Z"
   },
   {
    "duration": 48,
    "start_time": "2023-02-22T19:59:41.044Z"
   },
   {
    "duration": 5,
    "start_time": "2023-02-22T19:59:41.450Z"
   },
   {
    "duration": 5,
    "start_time": "2023-02-22T19:59:42.890Z"
   },
   {
    "duration": 4,
    "start_time": "2023-02-22T19:59:44.253Z"
   },
   {
    "duration": 5,
    "start_time": "2023-02-22T19:59:45.258Z"
   },
   {
    "duration": 6,
    "start_time": "2023-02-22T19:59:46.017Z"
   },
   {
    "duration": 5,
    "start_time": "2023-02-22T19:59:46.467Z"
   },
   {
    "duration": 13,
    "start_time": "2023-02-22T19:59:47.882Z"
   },
   {
    "duration": 5,
    "start_time": "2023-02-22T19:59:48.457Z"
   },
   {
    "duration": 19,
    "start_time": "2023-02-22T19:59:49.395Z"
   },
   {
    "duration": 5,
    "start_time": "2023-02-22T19:59:53.289Z"
   },
   {
    "duration": 5,
    "start_time": "2023-02-22T19:59:57.553Z"
   },
   {
    "duration": 4,
    "start_time": "2023-02-22T20:00:44.891Z"
   },
   {
    "duration": 1065,
    "start_time": "2023-02-22T20:00:55.242Z"
   },
   {
    "duration": 1122,
    "start_time": "2023-02-22T20:01:23.015Z"
   },
   {
    "duration": 4,
    "start_time": "2023-02-22T20:02:50.451Z"
   },
   {
    "duration": 1215,
    "start_time": "2023-02-22T20:03:09.364Z"
   },
   {
    "duration": 12,
    "start_time": "2023-02-22T20:03:14.437Z"
   },
   {
    "duration": 11,
    "start_time": "2023-02-22T20:12:39.875Z"
   },
   {
    "duration": 857,
    "start_time": "2023-02-22T20:13:39.853Z"
   },
   {
    "duration": 2814,
    "start_time": "2023-02-22T20:13:48.781Z"
   },
   {
    "duration": 423,
    "start_time": "2023-02-22T20:14:04.113Z"
   },
   {
    "duration": 467,
    "start_time": "2023-02-22T20:14:15.755Z"
   },
   {
    "duration": 485,
    "start_time": "2023-02-22T20:18:54.315Z"
   },
   {
    "duration": 24,
    "start_time": "2023-02-22T20:19:35.357Z"
   },
   {
    "duration": 6,
    "start_time": "2023-02-22T20:20:00.326Z"
   },
   {
    "duration": 1580,
    "start_time": "2023-02-22T20:20:06.284Z"
   },
   {
    "duration": 1495,
    "start_time": "2023-02-22T20:20:35.940Z"
   },
   {
    "duration": 400,
    "start_time": "2023-02-22T20:22:02.361Z"
   },
   {
    "duration": 5229,
    "start_time": "2023-02-22T20:26:10.646Z"
   },
   {
    "duration": 9,
    "start_time": "2023-02-22T21:02:57.217Z"
   },
   {
    "duration": 4366,
    "start_time": "2023-02-22T21:58:15.857Z"
   },
   {
    "duration": 105,
    "start_time": "2023-02-22T22:01:36.265Z"
   },
   {
    "duration": 2,
    "start_time": "2023-02-22T22:13:47.226Z"
   },
   {
    "duration": 107,
    "start_time": "2023-02-22T22:33:50.694Z"
   },
   {
    "duration": 1326,
    "start_time": "2023-02-22T22:38:48.954Z"
   },
   {
    "duration": 41,
    "start_time": "2023-02-22T22:38:51.936Z"
   },
   {
    "duration": 19,
    "start_time": "2023-02-22T22:38:52.544Z"
   },
   {
    "duration": 12,
    "start_time": "2023-02-22T22:38:53.137Z"
   },
   {
    "duration": 5,
    "start_time": "2023-02-22T22:38:55.000Z"
   },
   {
    "duration": 47,
    "start_time": "2023-02-22T22:38:56.536Z"
   },
   {
    "duration": 4,
    "start_time": "2023-02-22T22:39:02.626Z"
   },
   {
    "duration": 4,
    "start_time": "2023-02-22T22:39:06.274Z"
   },
   {
    "duration": 4,
    "start_time": "2023-02-22T22:40:17.691Z"
   },
   {
    "duration": 5,
    "start_time": "2023-02-22T22:40:18.601Z"
   },
   {
    "duration": 10,
    "start_time": "2023-02-22T22:40:19.759Z"
   },
   {
    "duration": 5,
    "start_time": "2023-02-22T22:40:20.515Z"
   },
   {
    "duration": 6,
    "start_time": "2023-02-22T22:40:38.987Z"
   },
   {
    "duration": 5,
    "start_time": "2023-02-22T22:40:40.435Z"
   },
   {
    "duration": 12,
    "start_time": "2023-02-22T22:40:42.251Z"
   },
   {
    "duration": 5,
    "start_time": "2023-02-22T22:40:42.809Z"
   },
   {
    "duration": 19,
    "start_time": "2023-02-22T22:40:44.154Z"
   },
   {
    "duration": 4,
    "start_time": "2023-02-22T22:41:20.723Z"
   },
   {
    "duration": 2,
    "start_time": "2023-02-22T22:41:22.939Z"
   },
   {
    "duration": 371,
    "start_time": "2023-02-22T22:41:24.532Z"
   },
   {
    "duration": 1538,
    "start_time": "2023-02-22T22:41:27.834Z"
   },
   {
    "duration": 4322,
    "start_time": "2023-02-22T22:41:35.819Z"
   },
   {
    "duration": 3,
    "start_time": "2023-02-22T22:42:15.155Z"
   },
   {
    "duration": 5,
    "start_time": "2023-02-22T22:44:05.724Z"
   },
   {
    "duration": 14,
    "start_time": "2023-02-22T22:45:45.845Z"
   },
   {
    "duration": 4,
    "start_time": "2023-02-22T22:45:51.453Z"
   },
   {
    "duration": 13,
    "start_time": "2023-02-22T22:45:52.621Z"
   },
   {
    "duration": 26,
    "start_time": "2023-02-22T22:45:54.939Z"
   },
   {
    "duration": 1345,
    "start_time": "2023-02-22T22:48:48.234Z"
   },
   {
    "duration": 41,
    "start_time": "2023-02-22T22:48:49.655Z"
   },
   {
    "duration": 19,
    "start_time": "2023-02-22T22:48:49.919Z"
   },
   {
    "duration": 12,
    "start_time": "2023-02-22T22:48:50.167Z"
   },
   {
    "duration": 4,
    "start_time": "2023-02-22T22:48:51.135Z"
   },
   {
    "duration": 77,
    "start_time": "2023-02-22T22:48:51.991Z"
   },
   {
    "duration": 5,
    "start_time": "2023-02-22T22:48:52.415Z"
   },
   {
    "duration": 5,
    "start_time": "2023-02-22T22:48:52.856Z"
   },
   {
    "duration": 4,
    "start_time": "2023-02-22T22:48:53.775Z"
   },
   {
    "duration": 5,
    "start_time": "2023-02-22T22:48:54.250Z"
   },
   {
    "duration": 7,
    "start_time": "2023-02-22T22:48:54.920Z"
   },
   {
    "duration": 5,
    "start_time": "2023-02-22T22:48:55.351Z"
   },
   {
    "duration": 13,
    "start_time": "2023-02-22T22:48:56.440Z"
   },
   {
    "duration": 5,
    "start_time": "2023-02-22T22:48:56.879Z"
   },
   {
    "duration": 22,
    "start_time": "2023-02-22T22:48:57.734Z"
   },
   {
    "duration": 4,
    "start_time": "2023-02-22T22:48:58.642Z"
   },
   {
    "duration": 3,
    "start_time": "2023-02-22T22:48:59.404Z"
   },
   {
    "duration": 387,
    "start_time": "2023-02-22T22:48:59.823Z"
   },
   {
    "duration": 1574,
    "start_time": "2023-02-22T22:49:00.308Z"
   },
   {
    "duration": 4459,
    "start_time": "2023-02-22T22:49:01.884Z"
   },
   {
    "duration": 4,
    "start_time": "2023-02-22T22:49:06.345Z"
   },
   {
    "duration": 5,
    "start_time": "2023-02-22T22:49:06.351Z"
   },
   {
    "duration": 16,
    "start_time": "2023-02-22T22:49:06.357Z"
   },
   {
    "duration": 5,
    "start_time": "2023-02-22T22:49:14.391Z"
   },
   {
    "duration": 14,
    "start_time": "2023-02-22T22:49:15.136Z"
   },
   {
    "duration": 29,
    "start_time": "2023-02-22T22:49:18.441Z"
   },
   {
    "duration": 103,
    "start_time": "2023-02-22T23:09:27.949Z"
   },
   {
    "duration": 9,
    "start_time": "2023-02-22T23:10:44.012Z"
   },
   {
    "duration": 12,
    "start_time": "2023-02-22T23:15:49.360Z"
   },
   {
    "duration": 173,
    "start_time": "2023-02-22T23:16:00.560Z"
   },
   {
    "duration": 7,
    "start_time": "2023-02-22T23:17:44.265Z"
   },
   {
    "duration": 691,
    "start_time": "2023-02-22T23:17:57.136Z"
   },
   {
    "duration": 182,
    "start_time": "2023-02-22T23:18:00.176Z"
   },
   {
    "duration": 1350,
    "start_time": "2023-02-22T23:19:27.818Z"
   },
   {
    "duration": 43,
    "start_time": "2023-02-22T23:19:30.721Z"
   },
   {
    "duration": 17,
    "start_time": "2023-02-22T23:19:31.121Z"
   },
   {
    "duration": 12,
    "start_time": "2023-02-22T23:19:31.522Z"
   },
   {
    "duration": 4,
    "start_time": "2023-02-22T23:19:32.529Z"
   },
   {
    "duration": 50,
    "start_time": "2023-02-22T23:19:34.160Z"
   },
   {
    "duration": 4,
    "start_time": "2023-02-22T23:19:34.850Z"
   },
   {
    "duration": 4,
    "start_time": "2023-02-22T23:19:35.482Z"
   },
   {
    "duration": 4,
    "start_time": "2023-02-22T23:19:36.689Z"
   },
   {
    "duration": 4,
    "start_time": "2023-02-22T23:19:37.217Z"
   },
   {
    "duration": 6,
    "start_time": "2023-02-22T23:19:37.897Z"
   },
   {
    "duration": 7,
    "start_time": "2023-02-22T23:19:38.306Z"
   },
   {
    "duration": 12,
    "start_time": "2023-02-22T23:19:39.387Z"
   },
   {
    "duration": 5,
    "start_time": "2023-02-22T23:19:39.777Z"
   },
   {
    "duration": 20,
    "start_time": "2023-02-22T23:19:40.633Z"
   },
   {
    "duration": 5,
    "start_time": "2023-02-22T23:19:41.487Z"
   },
   {
    "duration": 2,
    "start_time": "2023-02-22T23:19:42.225Z"
   },
   {
    "duration": 373,
    "start_time": "2023-02-22T23:19:42.710Z"
   },
   {
    "duration": 1560,
    "start_time": "2023-02-22T23:19:43.184Z"
   },
   {
    "duration": 4415,
    "start_time": "2023-02-22T23:19:45.785Z"
   },
   {
    "duration": 4,
    "start_time": "2023-02-22T23:19:50.202Z"
   },
   {
    "duration": 2,
    "start_time": "2023-02-22T23:19:52.385Z"
   },
   {
    "duration": 16,
    "start_time": "2023-02-22T23:19:56.232Z"
   },
   {
    "duration": 4,
    "start_time": "2023-02-22T23:19:59.177Z"
   },
   {
    "duration": 14,
    "start_time": "2023-02-22T23:19:59.841Z"
   },
   {
    "duration": 28,
    "start_time": "2023-02-22T23:20:02.226Z"
   },
   {
    "duration": 8,
    "start_time": "2023-02-22T23:20:04.442Z"
   },
   {
    "duration": 728,
    "start_time": "2023-02-22T23:20:08.529Z"
   },
   {
    "duration": 238,
    "start_time": "2023-02-22T23:20:12.385Z"
   },
   {
    "duration": 123,
    "start_time": "2023-02-22T23:30:00.520Z"
   },
   {
    "duration": 14,
    "start_time": "2023-02-22T23:30:10.426Z"
   },
   {
    "duration": 6,
    "start_time": "2023-02-22T23:30:18.175Z"
   },
   {
    "duration": 16,
    "start_time": "2023-02-22T23:30:48.839Z"
   },
   {
    "duration": 1477,
    "start_time": "2023-02-22T23:34:02.051Z"
   },
   {
    "duration": 44,
    "start_time": "2023-02-22T23:34:04.154Z"
   },
   {
    "duration": 27,
    "start_time": "2023-02-22T23:34:04.434Z"
   },
   {
    "duration": 15,
    "start_time": "2023-02-22T23:34:04.698Z"
   },
   {
    "duration": 4,
    "start_time": "2023-02-22T23:34:05.602Z"
   },
   {
    "duration": 55,
    "start_time": "2023-02-22T23:34:06.497Z"
   },
   {
    "duration": 6,
    "start_time": "2023-02-22T23:34:06.937Z"
   },
   {
    "duration": 5,
    "start_time": "2023-02-22T23:34:07.403Z"
   },
   {
    "duration": 5,
    "start_time": "2023-02-22T23:34:08.309Z"
   },
   {
    "duration": 4,
    "start_time": "2023-02-22T23:34:08.754Z"
   },
   {
    "duration": 7,
    "start_time": "2023-02-22T23:34:09.450Z"
   },
   {
    "duration": 6,
    "start_time": "2023-02-22T23:34:09.906Z"
   },
   {
    "duration": 15,
    "start_time": "2023-02-22T23:34:11.035Z"
   },
   {
    "duration": 5,
    "start_time": "2023-02-22T23:34:11.505Z"
   },
   {
    "duration": 24,
    "start_time": "2023-02-22T23:34:12.400Z"
   },
   {
    "duration": 5,
    "start_time": "2023-02-22T23:34:13.321Z"
   },
   {
    "duration": 2,
    "start_time": "2023-02-22T23:34:14.194Z"
   },
   {
    "duration": 468,
    "start_time": "2023-02-22T23:34:14.715Z"
   },
   {
    "duration": 1686,
    "start_time": "2023-02-22T23:34:15.266Z"
   },
   {
    "duration": 4824,
    "start_time": "2023-02-22T23:34:16.955Z"
   },
   {
    "duration": 5,
    "start_time": "2023-02-22T23:34:21.781Z"
   },
   {
    "duration": 7,
    "start_time": "2023-02-22T23:34:21.788Z"
   },
   {
    "duration": 32,
    "start_time": "2023-02-22T23:34:21.796Z"
   },
   {
    "duration": 4,
    "start_time": "2023-02-22T23:34:21.830Z"
   },
   {
    "duration": 13,
    "start_time": "2023-02-22T23:34:22.481Z"
   },
   {
    "duration": 31,
    "start_time": "2023-02-22T23:34:24.873Z"
   },
   {
    "duration": 775,
    "start_time": "2023-02-22T23:34:28.907Z"
   },
   {
    "duration": 6,
    "start_time": "2023-02-22T23:34:30.382Z"
   },
   {
    "duration": 117,
    "start_time": "2023-02-22T23:34:31.882Z"
   },
   {
    "duration": 6,
    "start_time": "2023-02-22T23:34:40.265Z"
   },
   {
    "duration": 13,
    "start_time": "2023-02-22T23:35:44.386Z"
   },
   {
    "duration": 6864,
    "start_time": "2023-02-22T23:35:48.778Z"
   },
   {
    "duration": 28,
    "start_time": "2023-02-22T23:35:57.843Z"
   },
   {
    "duration": 28,
    "start_time": "2023-02-22T23:36:06.003Z"
   },
   {
    "duration": 12,
    "start_time": "2023-02-22T23:36:43.011Z"
   },
   {
    "duration": 24,
    "start_time": "2023-02-23T00:09:15.848Z"
   },
   {
    "duration": 14,
    "start_time": "2023-02-23T00:22:51.669Z"
   },
   {
    "duration": 15,
    "start_time": "2023-02-23T00:23:24.168Z"
   },
   {
    "duration": 15,
    "start_time": "2023-02-23T00:23:42.325Z"
   },
   {
    "duration": 314,
    "start_time": "2023-02-23T00:31:23.892Z"
   },
   {
    "duration": 1371,
    "start_time": "2023-02-23T00:31:50.828Z"
   },
   {
    "duration": 15,
    "start_time": "2023-02-23T00:42:12.179Z"
   },
   {
    "duration": 158,
    "start_time": "2023-02-23T00:42:31.771Z"
   },
   {
    "duration": 438,
    "start_time": "2023-02-23T00:43:06.163Z"
   },
   {
    "duration": 1440,
    "start_time": "2023-02-23T00:44:04.962Z"
   },
   {
    "duration": 1495,
    "start_time": "2023-02-23T00:45:24.508Z"
   },
   {
    "duration": 7,
    "start_time": "2023-02-23T00:50:23.439Z"
   },
   {
    "duration": 9,
    "start_time": "2023-02-23T00:50:57.617Z"
   },
   {
    "duration": 100,
    "start_time": "2023-02-23T00:50:59.944Z"
   },
   {
    "duration": 13,
    "start_time": "2023-02-23T00:51:01.992Z"
   },
   {
    "duration": 9,
    "start_time": "2023-02-23T00:51:14.080Z"
   },
   {
    "duration": 3056,
    "start_time": "2023-02-23T00:52:49.147Z"
   },
   {
    "duration": 11,
    "start_time": "2023-02-23T00:53:06.152Z"
   },
   {
    "duration": 3,
    "start_time": "2023-02-23T00:53:31.121Z"
   },
   {
    "duration": 3165,
    "start_time": "2023-02-23T00:53:32.033Z"
   },
   {
    "duration": 2,
    "start_time": "2023-02-23T00:53:35.953Z"
   },
   {
    "duration": 496,
    "start_time": "2023-02-23T00:53:38.137Z"
   },
   {
    "duration": 3002,
    "start_time": "2023-02-23T00:54:46.988Z"
   },
   {
    "duration": 2889,
    "start_time": "2023-02-23T01:01:14.678Z"
   },
   {
    "duration": 2582,
    "start_time": "2023-02-23T01:02:11.640Z"
   },
   {
    "duration": 3159,
    "start_time": "2023-02-23T01:02:31.503Z"
   },
   {
    "duration": 3,
    "start_time": "2023-02-23T01:02:55.637Z"
   },
   {
    "duration": 38,
    "start_time": "2023-02-23T01:03:46.183Z"
   },
   {
    "duration": 10,
    "start_time": "2023-02-23T01:05:33.191Z"
   },
   {
    "duration": 1382,
    "start_time": "2023-02-23T01:06:03.426Z"
   },
   {
    "duration": 41,
    "start_time": "2023-02-23T01:06:04.809Z"
   },
   {
    "duration": 17,
    "start_time": "2023-02-23T01:06:04.896Z"
   },
   {
    "duration": 12,
    "start_time": "2023-02-23T01:06:05.312Z"
   },
   {
    "duration": 5,
    "start_time": "2023-02-23T01:06:06.736Z"
   },
   {
    "duration": 48,
    "start_time": "2023-02-23T01:06:07.968Z"
   },
   {
    "duration": 4,
    "start_time": "2023-02-23T01:06:08.725Z"
   },
   {
    "duration": 5,
    "start_time": "2023-02-23T01:06:09.585Z"
   },
   {
    "duration": 4,
    "start_time": "2023-02-23T01:06:12.680Z"
   },
   {
    "duration": 5,
    "start_time": "2023-02-23T01:06:13.848Z"
   },
   {
    "duration": 7,
    "start_time": "2023-02-23T01:06:14.593Z"
   },
   {
    "duration": 6,
    "start_time": "2023-02-23T01:06:15.399Z"
   },
   {
    "duration": 12,
    "start_time": "2023-02-23T01:06:25.706Z"
   },
   {
    "duration": 4,
    "start_time": "2023-02-23T01:06:26.720Z"
   },
   {
    "duration": 20,
    "start_time": "2023-02-23T01:06:30.649Z"
   },
   {
    "duration": 4,
    "start_time": "2023-02-23T01:06:33.097Z"
   },
   {
    "duration": 4,
    "start_time": "2023-02-23T01:06:34.744Z"
   },
   {
    "duration": 357,
    "start_time": "2023-02-23T01:06:35.873Z"
   },
   {
    "duration": 1483,
    "start_time": "2023-02-23T01:06:39.897Z"
   },
   {
    "duration": 4,
    "start_time": "2023-02-23T01:06:48.681Z"
   },
   {
    "duration": 3,
    "start_time": "2023-02-23T01:06:51.440Z"
   },
   {
    "duration": 15,
    "start_time": "2023-02-23T01:06:52.633Z"
   },
   {
    "duration": 4,
    "start_time": "2023-02-23T01:06:54.768Z"
   },
   {
    "duration": 18,
    "start_time": "2023-02-23T01:06:56.480Z"
   },
   {
    "duration": 25,
    "start_time": "2023-02-23T01:07:00.130Z"
   },
   {
    "duration": 713,
    "start_time": "2023-02-23T01:07:02.241Z"
   },
   {
    "duration": 9,
    "start_time": "2023-02-23T01:07:02.955Z"
   },
   {
    "duration": 6370,
    "start_time": "2023-02-23T01:07:11.401Z"
   },
   {
    "duration": 26,
    "start_time": "2023-02-23T01:07:18.553Z"
   },
   {
    "duration": 26,
    "start_time": "2023-02-23T01:07:21.737Z"
   },
   {
    "duration": 1383,
    "start_time": "2023-02-23T01:07:24.313Z"
   },
   {
    "duration": 9,
    "start_time": "2023-02-23T01:07:33.033Z"
   },
   {
    "duration": 96,
    "start_time": "2023-02-23T01:07:37.433Z"
   },
   {
    "duration": 10,
    "start_time": "2023-02-23T01:07:38.433Z"
   },
   {
    "duration": 9,
    "start_time": "2023-02-23T01:07:39.065Z"
   },
   {
    "duration": 10,
    "start_time": "2023-02-23T01:07:39.903Z"
   },
   {
    "duration": 2,
    "start_time": "2023-02-23T01:07:42.969Z"
   },
   {
    "duration": 2989,
    "start_time": "2023-02-23T01:07:43.921Z"
   },
   {
    "duration": 2,
    "start_time": "2023-02-23T01:07:51.450Z"
   },
   {
    "duration": 504,
    "start_time": "2023-02-23T01:07:54.361Z"
   },
   {
    "duration": 2570,
    "start_time": "2023-02-23T01:08:29.884Z"
   },
   {
    "duration": 2558,
    "start_time": "2023-02-23T01:08:43.586Z"
   },
   {
    "duration": 3,
    "start_time": "2023-02-23T01:08:55.137Z"
   },
   {
    "duration": 96,
    "start_time": "2023-02-23T01:08:57.625Z"
   },
   {
    "duration": 3,
    "start_time": "2023-02-23T01:09:02.949Z"
   },
   {
    "duration": 100,
    "start_time": "2023-02-23T01:12:07.932Z"
   },
   {
    "duration": 103,
    "start_time": "2023-02-23T01:12:28.973Z"
   },
   {
    "duration": 13,
    "start_time": "2023-02-23T01:12:38.801Z"
   },
   {
    "duration": 90,
    "start_time": "2023-02-23T01:12:39.853Z"
   },
   {
    "duration": 11,
    "start_time": "2023-02-23T01:12:57.876Z"
   },
   {
    "duration": 89,
    "start_time": "2023-02-23T01:13:08.447Z"
   },
   {
    "duration": 112,
    "start_time": "2023-02-23T01:13:54.780Z"
   },
   {
    "duration": 12,
    "start_time": "2023-02-23T01:13:58.805Z"
   },
   {
    "duration": 90,
    "start_time": "2023-02-23T01:14:00.141Z"
   },
   {
    "duration": 11,
    "start_time": "2023-02-23T01:14:05.141Z"
   },
   {
    "duration": 92,
    "start_time": "2023-02-23T01:14:06.948Z"
   },
   {
    "duration": 11,
    "start_time": "2023-02-23T01:14:10.520Z"
   },
   {
    "duration": 98,
    "start_time": "2023-02-23T01:14:11.181Z"
   },
   {
    "duration": 3439,
    "start_time": "2023-02-23T01:15:32.935Z"
   },
   {
    "duration": 3478,
    "start_time": "2023-02-23T01:17:01.415Z"
   },
   {
    "duration": 6565,
    "start_time": "2023-02-23T01:18:59.089Z"
   },
   {
    "duration": 3,
    "start_time": "2023-02-23T01:19:27.304Z"
   },
   {
    "duration": 66,
    "start_time": "2023-02-23T01:20:05.256Z"
   },
   {
    "duration": 2,
    "start_time": "2023-02-23T01:20:09.953Z"
   },
   {
    "duration": 11,
    "start_time": "2023-02-23T01:20:15.914Z"
   },
   {
    "duration": 10,
    "start_time": "2023-02-23T01:20:23.387Z"
   },
   {
    "duration": 88,
    "start_time": "2023-02-23T01:20:24.521Z"
   },
   {
    "duration": 11,
    "start_time": "2023-02-23T01:20:28.489Z"
   },
   {
    "duration": 94,
    "start_time": "2023-02-23T01:20:29.810Z"
   },
   {
    "duration": 15,
    "start_time": "2023-02-23T01:20:34.523Z"
   },
   {
    "duration": 93,
    "start_time": "2023-02-23T01:20:35.489Z"
   },
   {
    "duration": 2031,
    "start_time": "2023-02-23T01:20:58.178Z"
   },
   {
    "duration": 1410,
    "start_time": "2023-02-23T01:21:00.211Z"
   },
   {
    "duration": 41,
    "start_time": "2023-02-23T01:21:01.623Z"
   },
   {
    "duration": 16,
    "start_time": "2023-02-23T01:21:01.666Z"
   },
   {
    "duration": 13,
    "start_time": "2023-02-23T01:21:01.683Z"
   },
   {
    "duration": 4,
    "start_time": "2023-02-23T01:21:01.698Z"
   },
   {
    "duration": 55,
    "start_time": "2023-02-23T01:21:01.703Z"
   },
   {
    "duration": 4,
    "start_time": "2023-02-23T01:21:01.759Z"
   },
   {
    "duration": 18,
    "start_time": "2023-02-23T01:21:01.765Z"
   },
   {
    "duration": 4,
    "start_time": "2023-02-23T01:21:02.500Z"
   },
   {
    "duration": 5,
    "start_time": "2023-02-23T01:21:02.946Z"
   },
   {
    "duration": 6,
    "start_time": "2023-02-23T01:21:03.561Z"
   },
   {
    "duration": 5,
    "start_time": "2023-02-23T01:21:03.977Z"
   },
   {
    "duration": 15,
    "start_time": "2023-02-23T01:21:05.035Z"
   },
   {
    "duration": 5,
    "start_time": "2023-02-23T01:21:05.467Z"
   },
   {
    "duration": 20,
    "start_time": "2023-02-23T01:21:06.377Z"
   },
   {
    "duration": 6,
    "start_time": "2023-02-23T01:21:07.264Z"
   },
   {
    "duration": 3,
    "start_time": "2023-02-23T01:21:07.913Z"
   },
   {
    "duration": 376,
    "start_time": "2023-02-23T01:21:08.415Z"
   },
   {
    "duration": 1625,
    "start_time": "2023-02-23T01:21:08.849Z"
   },
   {
    "duration": 4607,
    "start_time": "2023-02-23T01:21:10.476Z"
   },
   {
    "duration": 6,
    "start_time": "2023-02-23T01:21:15.086Z"
   },
   {
    "duration": 10,
    "start_time": "2023-02-23T01:21:15.094Z"
   },
   {
    "duration": 26,
    "start_time": "2023-02-23T01:21:15.106Z"
   },
   {
    "duration": 4,
    "start_time": "2023-02-23T01:21:15.134Z"
   },
   {
    "duration": 14,
    "start_time": "2023-02-23T01:21:15.139Z"
   },
   {
    "duration": 28,
    "start_time": "2023-02-23T01:21:15.155Z"
   },
   {
    "duration": 723,
    "start_time": "2023-02-23T01:21:15.343Z"
   },
   {
    "duration": 8,
    "start_time": "2023-02-23T01:21:16.067Z"
   },
   {
    "duration": 6336,
    "start_time": "2023-02-23T01:21:16.077Z"
   },
   {
    "duration": 27,
    "start_time": "2023-02-23T01:21:22.420Z"
   },
   {
    "duration": 78,
    "start_time": "2023-02-23T01:21:22.449Z"
   },
   {
    "duration": 1575,
    "start_time": "2023-02-23T01:21:22.529Z"
   },
   {
    "duration": 9,
    "start_time": "2023-02-23T01:21:24.120Z"
   },
   {
    "duration": 306,
    "start_time": "2023-02-23T01:21:24.131Z"
   },
   {
    "duration": 10,
    "start_time": "2023-02-23T01:21:24.440Z"
   },
   {
    "duration": 13,
    "start_time": "2023-02-23T01:21:24.453Z"
   },
   {
    "duration": 9,
    "start_time": "2023-02-23T01:21:24.468Z"
   },
   {
    "duration": 2,
    "start_time": "2023-02-23T01:21:24.479Z"
   },
   {
    "duration": 3221,
    "start_time": "2023-02-23T01:21:24.483Z"
   },
   {
    "duration": 2,
    "start_time": "2023-02-23T01:21:27.706Z"
   },
   {
    "duration": 509,
    "start_time": "2023-02-23T01:21:27.720Z"
   },
   {
    "duration": 2591,
    "start_time": "2023-02-23T01:21:28.231Z"
   },
   {
    "duration": 3,
    "start_time": "2023-02-23T01:21:32.171Z"
   },
   {
    "duration": 35,
    "start_time": "2023-02-23T01:21:34.185Z"
   },
   {
    "duration": 2,
    "start_time": "2023-02-23T01:21:35.265Z"
   },
   {
    "duration": 10,
    "start_time": "2023-02-23T01:21:38.111Z"
   },
   {
    "duration": 90,
    "start_time": "2023-02-23T01:21:40.761Z"
   },
   {
    "duration": 3411,
    "start_time": "2023-02-23T01:21:46.651Z"
   },
   {
    "duration": 3,
    "start_time": "2023-02-23T01:21:51.369Z"
   },
   {
    "duration": 6695,
    "start_time": "2023-02-23T01:21:53.138Z"
   },
   {
    "duration": 3,
    "start_time": "2023-02-23T01:22:04.121Z"
   },
   {
    "duration": 88,
    "start_time": "2023-02-23T01:22:05.234Z"
   },
   {
    "duration": 2,
    "start_time": "2023-02-23T01:22:06.298Z"
   },
   {
    "duration": 11,
    "start_time": "2023-02-23T01:22:08.873Z"
   },
   {
    "duration": 95,
    "start_time": "2023-02-23T01:22:11.618Z"
   },
   {
    "duration": 11,
    "start_time": "2023-02-23T01:22:41.123Z"
   },
   {
    "duration": 99,
    "start_time": "2023-02-23T01:22:43.273Z"
   },
   {
    "duration": 12,
    "start_time": "2023-02-23T01:22:53.457Z"
   },
   {
    "duration": 87,
    "start_time": "2023-02-23T01:22:53.949Z"
   },
   {
    "duration": 1303,
    "start_time": "2023-02-23T01:23:07.827Z"
   },
   {
    "duration": 2,
    "start_time": "2023-02-23T01:23:12.401Z"
   },
   {
    "duration": 577,
    "start_time": "2023-02-23T01:23:56.309Z"
   },
   {
    "duration": 2,
    "start_time": "2023-02-23T01:24:03.462Z"
   },
   {
    "duration": 41,
    "start_time": "2023-02-23T01:24:55.780Z"
   },
   {
    "duration": 3,
    "start_time": "2023-02-23T01:24:58.668Z"
   },
   {
    "duration": 4,
    "start_time": "2023-02-23T01:25:01.954Z"
   },
   {
    "duration": 3,
    "start_time": "2023-02-23T01:37:36.978Z"
   },
   {
    "duration": 239,
    "start_time": "2023-02-23T01:41:53.600Z"
   },
   {
    "duration": 165,
    "start_time": "2023-02-23T01:42:21.982Z"
   },
   {
    "duration": 143,
    "start_time": "2023-02-23T01:43:16.096Z"
   },
   {
    "duration": 137,
    "start_time": "2023-02-23T01:43:25.167Z"
   },
   {
    "duration": 1399,
    "start_time": "2023-02-23T01:44:54.544Z"
   },
   {
    "duration": 42,
    "start_time": "2023-02-23T01:44:58.378Z"
   },
   {
    "duration": 17,
    "start_time": "2023-02-23T01:44:58.916Z"
   },
   {
    "duration": 12,
    "start_time": "2023-02-23T01:45:06.330Z"
   },
   {
    "duration": 5,
    "start_time": "2023-02-23T01:45:08.888Z"
   },
   {
    "duration": 51,
    "start_time": "2023-02-23T01:45:11.225Z"
   },
   {
    "duration": 5,
    "start_time": "2023-02-23T01:45:13.368Z"
   },
   {
    "duration": 5,
    "start_time": "2023-02-23T01:45:14.071Z"
   },
   {
    "duration": 4,
    "start_time": "2023-02-23T01:45:15.255Z"
   },
   {
    "duration": 5,
    "start_time": "2023-02-23T01:45:15.887Z"
   },
   {
    "duration": 10,
    "start_time": "2023-02-23T01:45:16.703Z"
   },
   {
    "duration": 6,
    "start_time": "2023-02-23T01:45:17.184Z"
   },
   {
    "duration": 12,
    "start_time": "2023-02-23T01:45:18.247Z"
   },
   {
    "duration": 5,
    "start_time": "2023-02-23T01:45:18.647Z"
   },
   {
    "duration": 20,
    "start_time": "2023-02-23T01:45:19.472Z"
   },
   {
    "duration": 4,
    "start_time": "2023-02-23T01:45:20.271Z"
   },
   {
    "duration": 2,
    "start_time": "2023-02-23T01:45:20.903Z"
   },
   {
    "duration": 393,
    "start_time": "2023-02-23T01:45:21.351Z"
   },
   {
    "duration": 1547,
    "start_time": "2023-02-23T01:45:21.788Z"
   },
   {
    "duration": 4463,
    "start_time": "2023-02-23T01:45:23.337Z"
   },
   {
    "duration": 4,
    "start_time": "2023-02-23T01:45:27.801Z"
   },
   {
    "duration": 4,
    "start_time": "2023-02-23T01:45:27.808Z"
   },
   {
    "duration": 15,
    "start_time": "2023-02-23T01:45:27.821Z"
   },
   {
    "duration": 4,
    "start_time": "2023-02-23T01:45:35.663Z"
   },
   {
    "duration": 13,
    "start_time": "2023-02-23T01:45:36.055Z"
   },
   {
    "duration": 26,
    "start_time": "2023-02-23T01:45:36.879Z"
   },
   {
    "duration": 714,
    "start_time": "2023-02-23T01:45:38.336Z"
   },
   {
    "duration": 7,
    "start_time": "2023-02-23T01:45:39.052Z"
   },
   {
    "duration": 109,
    "start_time": "2023-02-23T01:46:42.274Z"
   },
   {
    "duration": 6367,
    "start_time": "2023-02-23T01:46:56.488Z"
   },
   {
    "duration": 26,
    "start_time": "2023-02-23T01:47:05.564Z"
   },
   {
    "duration": 63,
    "start_time": "2023-02-23T01:47:48.060Z"
   },
   {
    "duration": 1612,
    "start_time": "2023-02-23T01:48:44.010Z"
   },
   {
    "duration": 10,
    "start_time": "2023-02-23T01:53:14.925Z"
   },
   {
    "duration": 104,
    "start_time": "2023-02-23T01:53:26.020Z"
   },
   {
    "duration": 9,
    "start_time": "2023-02-23T01:53:27.581Z"
   },
   {
    "duration": 11,
    "start_time": "2023-02-23T01:53:28.419Z"
   },
   {
    "duration": 10,
    "start_time": "2023-02-23T01:53:29.275Z"
   },
   {
    "duration": 3,
    "start_time": "2023-02-23T01:53:31.236Z"
   },
   {
    "duration": 3284,
    "start_time": "2023-02-23T01:53:31.492Z"
   },
   {
    "duration": 3,
    "start_time": "2023-02-23T01:53:36.955Z"
   },
   {
    "duration": 500,
    "start_time": "2023-02-23T01:53:39.309Z"
   },
   {
    "duration": 2605,
    "start_time": "2023-02-23T01:53:43.460Z"
   },
   {
    "duration": 3,
    "start_time": "2023-02-23T01:53:48.140Z"
   },
   {
    "duration": 42,
    "start_time": "2023-02-23T01:53:49.581Z"
   },
   {
    "duration": 3,
    "start_time": "2023-02-23T01:53:50.013Z"
   },
   {
    "duration": 11,
    "start_time": "2023-02-23T01:53:52.131Z"
   },
   {
    "duration": 90,
    "start_time": "2023-02-23T01:53:52.925Z"
   },
   {
    "duration": 3477,
    "start_time": "2023-02-23T01:53:54.780Z"
   },
   {
    "duration": 2,
    "start_time": "2023-02-23T01:53:58.259Z"
   },
   {
    "duration": 2,
    "start_time": "2023-02-23T01:54:00.949Z"
   },
   {
    "duration": 7023,
    "start_time": "2023-02-23T01:54:03.429Z"
   },
   {
    "duration": 3,
    "start_time": "2023-02-23T01:54:14.451Z"
   },
   {
    "duration": 37,
    "start_time": "2023-02-23T01:54:16.285Z"
   },
   {
    "duration": 3,
    "start_time": "2023-02-23T01:54:17.124Z"
   },
   {
    "duration": 10,
    "start_time": "2023-02-23T01:54:20.541Z"
   },
   {
    "duration": 87,
    "start_time": "2023-02-23T01:54:21.621Z"
   },
   {
    "duration": 1307,
    "start_time": "2023-02-23T01:54:24.092Z"
   },
   {
    "duration": 3,
    "start_time": "2023-02-23T01:54:26.387Z"
   },
   {
    "duration": 579,
    "start_time": "2023-02-23T01:54:28.244Z"
   },
   {
    "duration": 2,
    "start_time": "2023-02-23T01:54:31.500Z"
   },
   {
    "duration": 22,
    "start_time": "2023-02-23T01:54:32.708Z"
   },
   {
    "duration": 2,
    "start_time": "2023-02-23T01:54:39.916Z"
   },
   {
    "duration": 4,
    "start_time": "2023-02-23T01:54:41.412Z"
   },
   {
    "duration": 169,
    "start_time": "2023-02-23T01:54:48.941Z"
   },
   {
    "duration": 144,
    "start_time": "2023-02-23T01:56:35.909Z"
   },
   {
    "duration": 139,
    "start_time": "2023-02-23T01:56:44.083Z"
   },
   {
    "duration": 2101,
    "start_time": "2023-02-23T02:04:31.914Z"
   },
   {
    "duration": 1382,
    "start_time": "2023-02-23T02:04:34.018Z"
   },
   {
    "duration": 41,
    "start_time": "2023-02-23T02:04:35.402Z"
   },
   {
    "duration": 18,
    "start_time": "2023-02-23T02:04:35.445Z"
   },
   {
    "duration": 15,
    "start_time": "2023-02-23T02:04:35.464Z"
   },
   {
    "duration": 4,
    "start_time": "2023-02-23T02:04:35.480Z"
   },
   {
    "duration": 58,
    "start_time": "2023-02-23T02:04:35.486Z"
   },
   {
    "duration": 5,
    "start_time": "2023-02-23T02:04:35.545Z"
   },
   {
    "duration": 6,
    "start_time": "2023-02-23T02:04:35.551Z"
   },
   {
    "duration": 5,
    "start_time": "2023-02-23T02:04:35.560Z"
   },
   {
    "duration": 8,
    "start_time": "2023-02-23T02:04:35.566Z"
   },
   {
    "duration": 7,
    "start_time": "2023-02-23T02:04:35.575Z"
   },
   {
    "duration": 6,
    "start_time": "2023-02-23T02:04:35.584Z"
   },
   {
    "duration": 35,
    "start_time": "2023-02-23T02:04:35.591Z"
   },
   {
    "duration": 4,
    "start_time": "2023-02-23T02:04:35.628Z"
   },
   {
    "duration": 20,
    "start_time": "2023-02-23T02:04:35.634Z"
   },
   {
    "duration": 4,
    "start_time": "2023-02-23T02:04:35.656Z"
   },
   {
    "duration": 4,
    "start_time": "2023-02-23T02:04:35.661Z"
   },
   {
    "duration": 413,
    "start_time": "2023-02-23T02:04:35.666Z"
   },
   {
    "duration": 1531,
    "start_time": "2023-02-23T02:04:36.081Z"
   },
   {
    "duration": 5167,
    "start_time": "2023-02-23T02:04:37.613Z"
   },
   {
    "duration": 5,
    "start_time": "2023-02-23T02:04:42.781Z"
   },
   {
    "duration": 5,
    "start_time": "2023-02-23T02:04:42.787Z"
   },
   {
    "duration": 35,
    "start_time": "2023-02-23T02:04:42.793Z"
   },
   {
    "duration": 3,
    "start_time": "2023-02-23T02:04:42.830Z"
   },
   {
    "duration": 19,
    "start_time": "2023-02-23T02:04:42.835Z"
   },
   {
    "duration": 27,
    "start_time": "2023-02-23T02:04:42.855Z"
   },
   {
    "duration": 756,
    "start_time": "2023-02-23T02:04:42.885Z"
   },
   {
    "duration": 9,
    "start_time": "2023-02-23T02:04:43.642Z"
   },
   {
    "duration": 6549,
    "start_time": "2023-02-23T02:04:43.653Z"
   },
   {
    "duration": 37,
    "start_time": "2023-02-23T02:04:50.204Z"
   },
   {
    "duration": 3,
    "start_time": "2023-02-23T02:04:50.242Z"
   },
   {
    "duration": 1479,
    "start_time": "2023-02-23T02:04:50.246Z"
   },
   {
    "duration": 11,
    "start_time": "2023-02-23T02:04:51.727Z"
   },
   {
    "duration": 295,
    "start_time": "2023-02-23T02:04:51.741Z"
   },
   {
    "duration": 10,
    "start_time": "2023-02-23T02:04:52.038Z"
   },
   {
    "duration": 12,
    "start_time": "2023-02-23T02:04:52.050Z"
   },
   {
    "duration": 16,
    "start_time": "2023-02-23T02:04:52.064Z"
   },
   {
    "duration": 3,
    "start_time": "2023-02-23T02:04:52.082Z"
   },
   {
    "duration": 3478,
    "start_time": "2023-02-23T02:04:52.087Z"
   },
   {
    "duration": 3,
    "start_time": "2023-02-23T02:04:55.566Z"
   },
   {
    "duration": 553,
    "start_time": "2023-02-23T02:04:55.571Z"
   },
   {
    "duration": 2701,
    "start_time": "2023-02-23T02:04:56.126Z"
   },
   {
    "duration": 3,
    "start_time": "2023-02-23T02:04:58.829Z"
   },
   {
    "duration": 93,
    "start_time": "2023-02-23T02:04:58.834Z"
   },
   {
    "duration": 92,
    "start_time": "2023-02-23T02:04:58.930Z"
   },
   {
    "duration": 11,
    "start_time": "2023-02-23T02:04:59.024Z"
   },
   {
    "duration": 139,
    "start_time": "2023-02-23T02:04:59.037Z"
   },
   {
    "duration": 3450,
    "start_time": "2023-02-23T02:04:59.177Z"
   },
   {
    "duration": 3,
    "start_time": "2023-02-23T02:05:02.628Z"
   },
   {
    "duration": 6811,
    "start_time": "2023-02-23T02:05:02.633Z"
   },
   {
    "duration": 3,
    "start_time": "2023-02-23T02:05:09.445Z"
   },
   {
    "duration": 78,
    "start_time": "2023-02-23T02:05:09.449Z"
   },
   {
    "duration": 94,
    "start_time": "2023-02-23T02:05:09.528Z"
   },
   {
    "duration": 13,
    "start_time": "2023-02-23T02:05:09.624Z"
   },
   {
    "duration": 132,
    "start_time": "2023-02-23T02:05:09.640Z"
   },
   {
    "duration": 1371,
    "start_time": "2023-02-23T02:05:09.774Z"
   },
   {
    "duration": 3,
    "start_time": "2023-02-23T02:05:11.146Z"
   },
   {
    "duration": 660,
    "start_time": "2023-02-23T02:05:11.151Z"
   },
   {
    "duration": 8,
    "start_time": "2023-02-23T02:05:11.812Z"
   },
   {
    "duration": 101,
    "start_time": "2023-02-23T02:05:11.822Z"
   },
   {
    "duration": 4,
    "start_time": "2023-02-23T02:05:11.924Z"
   },
   {
    "duration": 100,
    "start_time": "2023-02-23T02:05:11.930Z"
   },
   {
    "duration": 195,
    "start_time": "2023-02-23T02:05:12.032Z"
   },
   {
    "duration": 153,
    "start_time": "2023-02-23T02:05:12.229Z"
   },
   {
    "duration": 147,
    "start_time": "2023-02-23T02:05:12.384Z"
   },
   {
    "duration": 16,
    "start_time": "2023-02-23T02:05:55.084Z"
   },
   {
    "duration": 2059,
    "start_time": "2023-02-23T02:10:51.719Z"
   },
   {
    "duration": 1861,
    "start_time": "2023-02-23T02:10:53.781Z"
   },
   {
    "duration": 85,
    "start_time": "2023-02-23T02:10:55.643Z"
   },
   {
    "duration": 19,
    "start_time": "2023-02-23T02:10:55.730Z"
   },
   {
    "duration": 13,
    "start_time": "2023-02-23T02:10:55.751Z"
   },
   {
    "duration": 6,
    "start_time": "2023-02-23T02:10:55.820Z"
   },
   {
    "duration": 102,
    "start_time": "2023-02-23T02:10:55.828Z"
   },
   {
    "duration": 5,
    "start_time": "2023-02-23T02:10:55.932Z"
   },
   {
    "duration": 7,
    "start_time": "2023-02-23T02:10:55.938Z"
   },
   {
    "duration": 4,
    "start_time": "2023-02-23T02:10:55.947Z"
   },
   {
    "duration": 5,
    "start_time": "2023-02-23T02:10:55.953Z"
   },
   {
    "duration": 7,
    "start_time": "2023-02-23T02:10:55.960Z"
   },
   {
    "duration": 6,
    "start_time": "2023-02-23T02:10:56.020Z"
   },
   {
    "duration": 14,
    "start_time": "2023-02-23T02:10:56.029Z"
   },
   {
    "duration": 4,
    "start_time": "2023-02-23T02:10:56.044Z"
   },
   {
    "duration": 75,
    "start_time": "2023-02-23T02:10:56.049Z"
   },
   {
    "duration": 4,
    "start_time": "2023-02-23T02:10:56.126Z"
   },
   {
    "duration": 4,
    "start_time": "2023-02-23T02:10:56.131Z"
   },
   {
    "duration": 475,
    "start_time": "2023-02-23T02:10:56.137Z"
   },
   {
    "duration": 1530,
    "start_time": "2023-02-23T02:10:56.614Z"
   },
   {
    "duration": 4318,
    "start_time": "2023-02-23T02:10:58.146Z"
   },
   {
    "duration": 4,
    "start_time": "2023-02-23T02:11:02.465Z"
   },
   {
    "duration": 14,
    "start_time": "2023-02-23T02:11:02.471Z"
   },
   {
    "duration": 21,
    "start_time": "2023-02-23T02:11:02.487Z"
   },
   {
    "duration": 4,
    "start_time": "2023-02-23T02:11:02.510Z"
   },
   {
    "duration": 13,
    "start_time": "2023-02-23T02:11:02.520Z"
   },
   {
    "duration": 26,
    "start_time": "2023-02-23T02:11:02.534Z"
   },
   {
    "duration": 734,
    "start_time": "2023-02-23T02:11:02.562Z"
   },
   {
    "duration": 25,
    "start_time": "2023-02-23T02:11:03.298Z"
   },
   {
    "duration": 6425,
    "start_time": "2023-02-23T02:11:03.325Z"
   },
   {
    "duration": 26,
    "start_time": "2023-02-23T02:11:09.752Z"
   },
   {
    "duration": 2,
    "start_time": "2023-02-23T02:11:09.780Z"
   },
   {
    "duration": 1646,
    "start_time": "2023-02-23T02:11:09.784Z"
   },
   {
    "duration": 11,
    "start_time": "2023-02-23T02:11:11.431Z"
   },
   {
    "duration": 300,
    "start_time": "2023-02-23T02:11:11.444Z"
   },
   {
    "duration": 11,
    "start_time": "2023-02-23T02:11:11.746Z"
   },
   {
    "duration": 10,
    "start_time": "2023-02-23T02:11:11.759Z"
   },
   {
    "duration": 10,
    "start_time": "2023-02-23T02:11:11.770Z"
   },
   {
    "duration": 3,
    "start_time": "2023-02-23T02:11:11.781Z"
   },
   {
    "duration": 3352,
    "start_time": "2023-02-23T02:11:11.786Z"
   },
   {
    "duration": 2,
    "start_time": "2023-02-23T02:11:15.142Z"
   },
   {
    "duration": 522,
    "start_time": "2023-02-23T02:11:15.146Z"
   },
   {
    "duration": 2517,
    "start_time": "2023-02-23T02:11:15.670Z"
   },
   {
    "duration": 2,
    "start_time": "2023-02-23T02:11:18.189Z"
   },
   {
    "duration": 127,
    "start_time": "2023-02-23T02:11:18.193Z"
   },
   {
    "duration": 4,
    "start_time": "2023-02-23T02:11:18.323Z"
   },
   {
    "duration": 104,
    "start_time": "2023-02-23T02:11:18.329Z"
   },
   {
    "duration": 102,
    "start_time": "2023-02-23T02:11:18.435Z"
   },
   {
    "duration": 3395,
    "start_time": "2023-02-23T02:11:18.538Z"
   },
   {
    "duration": 3,
    "start_time": "2023-02-23T02:11:21.934Z"
   },
   {
    "duration": 6634,
    "start_time": "2023-02-23T02:11:21.939Z"
   },
   {
    "duration": 2,
    "start_time": "2023-02-23T02:11:28.575Z"
   },
   {
    "duration": 49,
    "start_time": "2023-02-23T02:11:28.578Z"
   },
   {
    "duration": 97,
    "start_time": "2023-02-23T02:11:28.629Z"
   },
   {
    "duration": 105,
    "start_time": "2023-02-23T02:11:28.728Z"
   },
   {
    "duration": 92,
    "start_time": "2023-02-23T02:11:28.834Z"
   },
   {
    "duration": 1269,
    "start_time": "2023-02-23T02:11:28.927Z"
   },
   {
    "duration": 3,
    "start_time": "2023-02-23T02:11:30.198Z"
   },
   {
    "duration": 595,
    "start_time": "2023-02-23T02:11:30.202Z"
   },
   {
    "duration": 4,
    "start_time": "2023-02-23T02:11:30.799Z"
   },
   {
    "duration": 123,
    "start_time": "2023-02-23T02:11:30.804Z"
   },
   {
    "duration": 102,
    "start_time": "2023-02-23T02:11:30.929Z"
   },
   {
    "duration": 35,
    "start_time": "2023-02-23T02:11:31.032Z"
   },
   {
    "duration": 196,
    "start_time": "2023-02-23T02:11:31.069Z"
   },
   {
    "duration": 139,
    "start_time": "2023-02-23T02:11:31.267Z"
   },
   {
    "duration": 149,
    "start_time": "2023-02-23T02:11:31.407Z"
   }
  ],
  "kernelspec": {
   "display_name": "Python 3 (ipykernel)",
   "language": "python",
   "name": "python3"
  },
  "language_info": {
   "codemirror_mode": {
    "name": "ipython",
    "version": 3
   },
   "file_extension": ".py",
   "mimetype": "text/x-python",
   "name": "python",
   "nbconvert_exporter": "python",
   "pygments_lexer": "ipython3",
   "version": "3.9.13"
  },
  "toc": {
   "base_numbering": 1,
   "nav_menu": {},
   "number_sections": true,
   "sideBar": true,
   "skip_h1_title": true,
   "title_cell": "Содержание",
   "title_sidebar": "Contents",
   "toc_cell": true,
   "toc_position": {
    "height": "calc(100% - 180px)",
    "left": "10px",
    "top": "150px",
    "width": "165px"
   },
   "toc_section_display": true,
   "toc_window_display": true
  }
 },
 "nbformat": 4,
 "nbformat_minor": 2
}
